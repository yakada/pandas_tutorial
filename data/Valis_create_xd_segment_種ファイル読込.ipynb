{
 "cells": [
  {
   "cell_type": "markdown",
   "metadata": {},
   "source": [
    "クロスデバイス　Valis拡張との併用"
   ]
  },
  {
   "cell_type": "code",
   "execution_count": 20,
   "metadata": {},
   "outputs": [],
   "source": [
    "# ライブラリimport\n",
    "import argparse\n",
    "import logging\n",
    "import os\n",
    "\n",
    "import pandas as pd\n",
    "from pandas import DataFrame\n",
    "import pandas.tseries.offsets as offsets\n",
    "import numpy as np\n",
    "from datetime import date, timedelta, time, datetime\n",
    "from tabulate import tabulate\n",
    "\n",
    "from itertools import product\n",
    "\n",
    "from ailab_tools.smn import ImpalaResource\n",
    "from ailab_tools.utils import GMail, GSheet\n",
    "\n",
    "from collections import OrderedDict\n",
    "\n",
    "import zipfile\n",
    "import glob\n",
    "\n",
    "import gc\n",
    "\n",
    "from ailab_tools.magics import slack_notify"
   ]
  },
  {
   "cell_type": "markdown",
   "metadata": {},
   "source": [
    "476\tソニーネットワークコミュニケーションズ株式会社"
   ]
  },
  {
   "cell_type": "code",
   "execution_count": 21,
   "metadata": {},
   "outputs": [
    {
     "name": "stdout",
     "output_type": "stream",
     "text": [
      "190315\n"
     ]
    }
   ],
   "source": [
    "today_yymmdd = date.today().strftime(\"%y%m%d\")\n",
    "print(today_yymmdd)"
   ]
  },
  {
   "cell_type": "code",
   "execution_count": 22,
   "metadata": {},
   "outputs": [],
   "source": [
    "#デバイス\n",
    "seed_sp_device = 'iOS','Android'\n",
    "xd_sp_device = 'iphone','android_phone','windows_phone'\n",
    "\n",
    "#ターゲット\n",
    "advertiser_id = 476\n",
    "#conversion_group_id = \n",
    "\n",
    "#grp = 'cvg'\n",
    "#grp = 'rtg'\n",
    "\n",
    "#クロスデバイステーブル\n",
    "xd_table = 'segment.drawbridge_device_1901'"
   ]
  },
  {
   "cell_type": "code",
   "execution_count": 24,
   "metadata": {},
   "outputs": [
    {
     "name": "stdout",
     "output_type": "stream",
     "text": [
      "valis_Ad476_sp_lockon_RQq2zPub_5_190312\n"
     ]
    }
   ],
   "source": [
    "file_name = f\"valis_Ad476_sp_lockon_RQq2zPub_5_190312\"\n",
    "print(file_name)"
   ]
  },
  {
   "cell_type": "code",
   "execution_count": 25,
   "metadata": {},
   "outputs": [
    {
     "name": "stdout",
     "output_type": "stream",
     "text": [
      "dm_tmp.ya_seed_valis_Ad476_sp_lockon_RQq2zPub_5_190312\n"
     ]
    }
   ],
   "source": [
    "seed_table = f\"dm_tmp.ya_seed_{file_name}\"\n",
    "print(seed_table)"
   ]
  },
  {
   "cell_type": "code",
   "execution_count": 26,
   "metadata": {},
   "outputs": [
    {
     "name": "stdout",
     "output_type": "stream",
     "text": [
      "dm_tmp.ya_xd_valis_Ad476_sp_lockon_RQq2zPub_5_190312\n"
     ]
    }
   ],
   "source": [
    "uid_table = f\"dm_tmp.ya_xd_{file_name}\"\n",
    "print(uid_table)"
   ]
  },
  {
   "cell_type": "markdown",
   "metadata": {},
   "source": [
    "SP種ファイルを読込し、PCユーザー拡張セグメントを作成する"
   ]
  },
  {
   "cell_type": "code",
   "execution_count": 29,
   "metadata": {},
   "outputs": [
    {
     "data": {
      "text/html": [
       "<div>\n",
       "<style scoped>\n",
       "    .dataframe tbody tr th:only-of-type {\n",
       "        vertical-align: middle;\n",
       "    }\n",
       "\n",
       "    .dataframe tbody tr th {\n",
       "        vertical-align: top;\n",
       "    }\n",
       "\n",
       "    .dataframe thead th {\n",
       "        text-align: right;\n",
       "    }\n",
       "</style>\n",
       "<table border=\"1\" class=\"dataframe\">\n",
       "  <thead>\n",
       "    <tr style=\"text-align: right;\">\n",
       "      <th></th>\n",
       "      <th>smn_uid</th>\n",
       "    </tr>\n",
       "  </thead>\n",
       "  <tbody>\n",
       "    <tr>\n",
       "      <th>0</th>\n",
       "      <td>786000016873456</td>\n",
       "    </tr>\n",
       "    <tr>\n",
       "      <th>1</th>\n",
       "      <td>1067000010947933</td>\n",
       "    </tr>\n",
       "    <tr>\n",
       "      <th>2</th>\n",
       "      <td>936000123104261</td>\n",
       "    </tr>\n",
       "    <tr>\n",
       "      <th>3</th>\n",
       "      <td>1601000216241433</td>\n",
       "    </tr>\n",
       "    <tr>\n",
       "      <th>4</th>\n",
       "      <td>1535000001359561</td>\n",
       "    </tr>\n",
       "  </tbody>\n",
       "</table>\n",
       "</div>"
      ],
      "text/plain": [
       "            smn_uid\n",
       "0   786000016873456\n",
       "1  1067000010947933\n",
       "2   936000123104261\n",
       "3  1601000216241433\n",
       "4  1535000001359561"
      ]
     },
     "execution_count": 29,
     "metadata": {},
     "output_type": "execute_result"
    }
   ],
   "source": [
    "df = pd.read_csv(f\"/home/yusuke_akada/notebook/{file_name}.tsv\",header=None, names=['smn_uid'])\n",
    "df.head()"
   ]
  },
  {
   "cell_type": "code",
   "execution_count": 30,
   "metadata": {},
   "outputs": [
    {
     "data": {
      "text/plain": [
       "329"
      ]
     },
     "execution_count": 30,
     "metadata": {},
     "output_type": "execute_result"
    }
   ],
   "source": [
    "df.shape[0]"
   ]
  },
  {
   "cell_type": "code",
   "execution_count": 31,
   "metadata": {},
   "outputs": [
    {
     "name": "stderr",
     "output_type": "stream",
     "text": [
      "INFO:ailab_tools.smn.impala_client:loaded configuration file: /opt/anaconda3/lib/python3.7/site-packages/ailab_tools/config/ailab_tools_config.py\n",
      "INFO:ailab_tools.smn.impala_client:hosts : ['172.16.60.109']\n",
      "INFO:ailab_tools.smn.impala_client:impala_host : 172.16.60.109\n",
      "INFO:ailab_tools.smn.impala_client:impala_port : 21050\n",
      "INFO:ailab_tools.smn.impala_client:impala_user : vmspool\n",
      "INFO:ailab_tools.smn.impala_client:impala_password : \n",
      "INFO:ailab_tools.smn.impala_client:request_pool : vmspool\n",
      "INFO:ailab_tools.smn.impala_client:configuration : {'REQUEST_POOL': 'vmspool'}\n",
      "INFO:ailab_tools.smn.impala_resource:loaded configuration file: /opt/anaconda3/lib/python3.7/site-packages/ailab_tools/config/ailab_tools_config.py\n",
      "INFO:ailab_tools.smn.impala_resource:httpfs_host: hc3manager02.hc3pro\n",
      "INFO:ailab_tools.smn.impala_resource:httpfs_port: 14000\n",
      "INFO:impyla_service:Impala open connection OK. hostname = [172.16.60.109]\n",
      "INFO:impyla_service:New connection is opened.\n",
      "INFO:impyla_service:Create empty table dm_tmp.ya_seed_valis_Ad476_sp_lockon_RQq2zPub_5_190312\n",
      "INFO:impyla_service:実行SQL: \n",
      "            create table dm_tmp.ya_seed_valis_Ad476_sp_lockon_RQq2zPub_5_190312\n",
      "            (smn_uid bigint)\n",
      "            \n",
      "            row format delimited fields terminated by \"\\t\"\n",
      "            lines terminated by \"\\n\"\n",
      "            \n",
      "INFO:impala.hiveserver2:Closing active operation\n",
      "INFO:impyla_service:Query finished\n",
      "INFO:hdfs.client:Instantiated <InsecureClient(url='http://hc3manager02.hc3pro:14000')>.\n",
      "INFO:hdfs.client:Uploading '/home/yusuke_akada/notebook/Yusuke_Akada_Jupyter_Notebook/807f2965-5995-4790-bca6-c40609377c38.tsv' to '/user/hive/warehouse/dm_tmp.db/ya_seed_valis_Ad476_sp_lockon_RQq2zPub_5_190312'.\n",
      "INFO:hdfs.client:Listing '/user/hive/warehouse/dm_tmp.db/ya_seed_valis_Ad476_sp_lockon_RQq2zPub_5_190312'.\n",
      "INFO:hdfs.client:Writing to '/user/hive/warehouse/dm_tmp.db/ya_seed_valis_Ad476_sp_lockon_RQq2zPub_5_190312'.\n",
      "INFO:impyla_service:実行SQL: refresh dm_tmp.ya_seed_valis_Ad476_sp_lockon_RQq2zPub_5_190312\n",
      "INFO:impala.hiveserver2:Closing active operation\n",
      "INFO:impyla_service:Connection is closed.\n"
     ]
    }
   ],
   "source": [
    "#HC3 CSVをUP\n",
    "with ImpalaResource(hosts=[\"172.16.60.109\"], port=21050, user='vmspool',\n",
    "                    request_pool='vmspool', httpfs_host='hc3manager02.hc3pro', httpfs_port=14000) as ir:\n",
    "    ir.upload_dataframe(seed_table, df, ['bigint'])"
   ]
  },
  {
   "cell_type": "code",
   "execution_count": 32,
   "metadata": {},
   "outputs": [
    {
     "name": "stderr",
     "output_type": "stream",
     "text": [
      "INFO:ailab_tools.smn.impala_client:loaded configuration file: /opt/anaconda3/lib/python3.7/site-packages/ailab_tools/config/ailab_tools_config.py\n",
      "INFO:ailab_tools.smn.impala_client:hosts : ['172.16.60.109']\n",
      "INFO:ailab_tools.smn.impala_client:impala_host : 172.16.60.109\n",
      "INFO:ailab_tools.smn.impala_client:impala_port : 21050\n",
      "INFO:ailab_tools.smn.impala_client:impala_user : vmspool\n",
      "INFO:ailab_tools.smn.impala_client:impala_password : \n",
      "INFO:ailab_tools.smn.impala_client:request_pool : vmspool\n",
      "INFO:ailab_tools.smn.impala_client:configuration : {'REQUEST_POOL': 'vmspool'}\n",
      "INFO:ailab_tools.smn.impala_resource:loaded configuration file: /opt/anaconda3/lib/python3.7/site-packages/ailab_tools/config/ailab_tools_config.py\n",
      "INFO:ailab_tools.smn.impala_resource:httpfs_host: hc3manager02.hc3pro\n",
      "INFO:ailab_tools.smn.impala_resource:httpfs_port: 14000\n",
      "INFO:impyla_service:Impala open connection OK. hostname = [172.16.60.109]\n",
      "INFO:impyla_service:New connection is opened.\n",
      "INFO:impyla_service:実行SQL: \n",
      "    select \n",
      "    distinct xd2.smn_uid\n",
      "    from dm_tmp.ya_seed_valis_Ad476_sp_lockon_RQq2zPub_5_190312 sd\n",
      "    left join segment.drawbridge_device_1901 xd\n",
      "    on sd.smn_uid = xd.smn_uid\n",
      "    left join segment.drawbridge_device_1901 xd2\n",
      "    on xd.drawbridge_consumer_id = xd2.drawbridge_consumer_id\n",
      "    \n",
      "INFO:impala.hiveserver2:Closing active operation\n",
      "INFO:impyla_service:Dropping table: dm_tmp.ya_seed_valis_Ad476_sp_lockon_RQq2zPub_5_190312\n",
      "INFO:impyla_service:実行SQL: drop table if exists dm_tmp.ya_seed_valis_Ad476_sp_lockon_RQq2zPub_5_190312 purge\n",
      "INFO:impala.hiveserver2:Closing active operation\n",
      "INFO:impyla_service:Connection is closed.\n",
      "INFO:ailab_tools.utils.slack:loaded configuration file: /opt/anaconda3/lib/python3.7/site-packages/ailab_tools/config/ailab_tools_config.py\n",
      "INFO:ailab_tools.utils.slack:Slack: Posted a message to Slack.\n"
     ]
    }
   ],
   "source": [
    "%%slack_notify @yusuke_akada\n",
    "#XD拡張\n",
    "\n",
    "#f-string\n",
    "query = (\n",
    "    f\"\"\"\n",
    "    select \n",
    "    distinct xd2.smn_uid\n",
    "    from {seed_table} sd\n",
    "    left join {xd_table} xd\n",
    "    on sd.smn_uid = xd.smn_uid\n",
    "    left join {xd_table} xd2\n",
    "    on xd.drawbridge_consumer_id = xd2.drawbridge_consumer_id\n",
    "    \"\"\"\n",
    "    )\n",
    "with ImpalaResource(hosts=[\"172.16.60.109\"], port=21050, user='vmspool',\n",
    "                    request_pool='vmspool', httpfs_host='hc3manager02.hc3pro', httpfs_port=14000) as ir:\n",
    "    df_fix = ir.sql_to_pandas(query)\n",
    "    #ImpalaにUp\n",
    "    #ir.upload_dataframe(uid_table, df_fix, ['bigint']) #Impala upは不要かも\n",
    "    #テーブル削除\n",
    "    ir.drop_tables([seed_table])\n",
    "    \n",
    "df_fix.to_csv(f'{uid_table}.tsv', sep='\\t', index=False, header=False)"
   ]
  },
  {
   "cell_type": "code",
   "execution_count": 33,
   "metadata": {},
   "outputs": [
    {
     "data": {
      "text/plain": [
       "0"
      ]
     },
     "execution_count": 33,
     "metadata": {},
     "output_type": "execute_result"
    }
   ],
   "source": [
    "df_fix.shape[0]"
   ]
  }
 ],
 "metadata": {
  "kernelspec": {
   "display_name": "Python 3",
   "language": "python",
   "name": "python3"
  },
  "language_info": {
   "codemirror_mode": {
    "name": "ipython",
    "version": 3
   },
   "file_extension": ".py",
   "mimetype": "text/x-python",
   "name": "python",
   "nbconvert_exporter": "python",
   "pygments_lexer": "ipython3",
   "version": "3.7.4"
  }
 },
 "nbformat": 4,
 "nbformat_minor": 2
}
