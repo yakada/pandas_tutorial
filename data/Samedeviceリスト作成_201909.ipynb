{
 "cells": [
  {
   "cell_type": "code",
   "execution_count": 4,
   "metadata": {},
   "outputs": [],
   "source": [
    "# ライブラリimport\n",
    "import argparse\n",
    "import logging\n",
    "import os\n",
    "\n",
    "import pandas as pd\n",
    "from pandas import DataFrame\n",
    "import pandas.tseries.offsets as offsets\n",
    "import numpy as np\n",
    "from datetime import date, timedelta, time, datetime\n",
    "from tabulate import tabulate\n",
    "\n",
    "from itertools import product\n",
    "\n",
    "from ailab_tools.smn import ImpalaResource\n",
    "from ailab_tools.utils import GMail, GSheet\n",
    "\n",
    "from collections import OrderedDict\n",
    "\n",
    "import zipfile\n",
    "import glob\n",
    "\n",
    "import gc\n",
    "\n",
    "from ailab_tools.magics import slack_notify"
   ]
  },
  {
   "cell_type": "code",
   "execution_count": null,
   "metadata": {},
   "outputs": [],
   "source": []
  },
  {
   "cell_type": "markdown",
   "metadata": {},
   "source": [
    "やりたいこと<br>\n",
    "・Samedeviceマッチングによって、smn_uidが不明なadvertising_idにsmn_uidを紐づけし、アプリ配信量を増やす<br>"
   ]
  },
  {
   "cell_type": "markdown",
   "metadata": {},
   "source": [
    "2019年6月5にもらったDrawbridgeリストでidfaを格納したリスト"
   ]
  },
  {
   "cell_type": "code",
   "execution_count": null,
   "metadata": {},
   "outputs": [],
   "source": [
    "db_idfa_table = \"segment.drawbridge_idfas\" \n",
    "print(db_idfa_table)"
   ]
  },
  {
   "cell_type": "markdown",
   "metadata": {},
   "source": [
    "2019年6月5日にもらったDrawbridgeリストでcookie_idを格納したリスト"
   ]
  },
  {
   "cell_type": "code",
   "execution_count": null,
   "metadata": {},
   "outputs": [],
   "source": [
    "db_cookie_table = \"segment.drawbridge_smn_uids\" \n",
    "print(db_cookie_table)"
   ]
  },
  {
   "cell_type": "code",
   "execution_count": null,
   "metadata": {},
   "outputs": [],
   "source": [
    "query = ( \n",
    "    f\"\"\"\n",
    "    select\n",
    "    count(smn_uid) as uu_smn_uid\n",
    "    from \n",
    "    {db_cookie_table}\n",
    "    \"\"\"\n",
    "    )\n",
    "with ImpalaResource(hosts=[\"172.16.60.109\"], port=21050, user='vmspool',\n",
    "                    request_pool='vmspool', httpfs_host='hc3manager02.hc3pro', httpfs_port=14000) as ir:\n",
    "        df_uid = ir.sql_to_pandas(query)"
   ]
  },
  {
   "cell_type": "code",
   "execution_count": null,
   "metadata": {},
   "outputs": [],
   "source": [
    "df_uid.head()/1000000 #1.7億レコード"
   ]
  },
  {
   "cell_type": "code",
   "execution_count": null,
   "metadata": {},
   "outputs": [],
   "source": [
    "query = ( \n",
    "    f\"\"\"\n",
    "    select\n",
    "    count(advertising_id) as uu_ad_id\n",
    "    from \n",
    "    {db_idfa_table}\n",
    "    \"\"\"\n",
    "    )\n",
    "with ImpalaResource(hosts=[\"172.16.60.109\"], port=21050, user='vmspool',\n",
    "                    request_pool='vmspool', httpfs_host='hc3manager02.hc3pro', httpfs_port=14000) as ir:\n",
    "        df_idfa = ir.sql_to_pandas(query)"
   ]
  },
  {
   "cell_type": "code",
   "execution_count": null,
   "metadata": {},
   "outputs": [],
   "source": [
    "df_idfa.head()/1000000 #4500万レコード"
   ]
  },
  {
   "cell_type": "code",
   "execution_count": null,
   "metadata": {},
   "outputs": [],
   "source": [
    "query = ( \n",
    "    f\"\"\"\n",
    "    select\n",
    "    count(distinct t1.drawbridge_consumer_id) as cnt_db_id\n",
    "    from \n",
    "    {db_idfa_table} t1\n",
    "    inner join \n",
    "    {db_cookie_table} t2\n",
    "    on t1.drawbridge_consumer_id = t2.drawbridge_consumer_id\n",
    "    where \n",
    "    smn_uid > 0 \n",
    "    and advertising_id is not null\n",
    "    \"\"\"\n",
    "    )\n",
    "with ImpalaResource(hosts=[\"172.16.60.109\"], port=21050, user='vmspool',\n",
    "                    request_pool='vmspool', httpfs_host='hc3manager02.hc3pro', httpfs_port=14000) as ir:\n",
    "        df_tmp = ir.sql_to_pandas(query)"
   ]
  },
  {
   "cell_type": "code",
   "execution_count": null,
   "metadata": {},
   "outputs": [],
   "source": [
    "df_tmp.head()/1000000"
   ]
  },
  {
   "cell_type": "markdown",
   "metadata": {},
   "source": [
    "↑smn_uidとadvertising_id両方を持っているユーザーは約1300万ユーザー"
   ]
  },
  {
   "cell_type": "code",
   "execution_count": null,
   "metadata": {},
   "outputs": [],
   "source": [
    "#両IDを持っている（セイムデバイスの可能性のある）Drawbridge_idリストを生成\n",
    "db_list = f\"dm_tmp.samedevice_userlist_190723\"\n",
    "print(db_list)"
   ]
  },
  {
   "cell_type": "code",
   "execution_count": null,
   "metadata": {},
   "outputs": [],
   "source": [
    "query = ( \n",
    "    f\"\"\"\n",
    "    select\n",
    "    distinct t1.drawbridge_consumer_id\n",
    "    from \n",
    "    {db_idfa_table} t1\n",
    "    inner join \n",
    "    {db_cookie_table} t2\n",
    "    on t1.drawbridge_consumer_id = t2.drawbridge_consumer_id\n",
    "    where \n",
    "    smn_uid > 0 \n",
    "    and advertising_id is not null\n",
    "    \"\"\"\n",
    "    )\n",
    "with ImpalaResource(hosts=[\"172.16.60.109\"], port=21050, user='vmspool',\n",
    "                    request_pool='vmspool', httpfs_host='hc3manager02.hc3pro', httpfs_port=14000) as ir:\n",
    "        df_db = ir.sql_to_pandas(query)\n",
    "        ir.upload_dataframe(db_list, df_db, ['string'])"
   ]
  },
  {
   "cell_type": "code",
   "execution_count": null,
   "metadata": {},
   "outputs": [],
   "source": []
  },
  {
   "cell_type": "markdown",
   "metadata": {},
   "source": [
    "紐づけが可能そうなadvertising_idリストを作成する"
   ]
  },
  {
   "cell_type": "code",
   "execution_count": null,
   "metadata": {},
   "outputs": [],
   "source": [
    "adid_list = f\"segment.ya_samedevice_adid_userlist_190723\"\n",
    "print(adid_list)"
   ]
  },
  {
   "cell_type": "markdown",
   "metadata": {},
   "source": [
    "ファイルが重くなるので、分割して実施して作成"
   ]
  },
  {
   "cell_type": "code",
   "execution_count": null,
   "metadata": {},
   "outputs": [],
   "source": [
    "%%slack_notify @yusuke_akada\n",
    "temp_table = \"dm_tmp.ya_temp_samedevice_190723\"    # 分割処理用のtemporary table 実行後dropされる\n",
    "\n",
    "\n",
    "with ImpalaResource(hosts=[\"172.16.60.109\"], port=21050, user='vmspool',\n",
    "                    request_pool='vmspool', httpfs_host='hc3manager02.hc3pro', httpfs_port=14000) as ir:\n",
    "\n",
    "    #まず空tableを作る\n",
    "    query = (\n",
    "        f\"\"\"\n",
    "        create table {adid_list}\n",
    "            (\n",
    "            drawbridge_consumer_id string,\n",
    "            advertising_id string,\n",
    "            type string\n",
    "            )\n",
    "        \n",
    "        partitioned by \n",
    "            (\n",
    "            block int\n",
    "            )\n",
    "        \n",
    "        stored as parquet\n",
    "        \"\"\"\n",
    "    )\n",
    "    \n",
    "    ir.execute_query_no_ret(query)    "
   ]
  },
  {
   "cell_type": "code",
   "execution_count": null,
   "metadata": {},
   "outputs": [],
   "source": [
    "# テキストファイル単体ごとに読込、DataFrame化\n",
    "for i in range(0,200):\n",
    "    # 親テーブルにInsert\n",
    "    query = (\n",
    "        f\"\"\"\n",
    "        insert overwrite table {adid_list}\n",
    "        (\n",
    "        drawbridge_consumer_id,\n",
    "        advertising_id,\n",
    "        type\n",
    "        )\n",
    "\n",
    "        partition\n",
    "        (\n",
    "        block = {i}\n",
    "        )\n",
    "        \n",
    "        select\n",
    "        drawbridge_consumer_id,\n",
    "        advertising_id,\n",
    "        type\n",
    "        from \n",
    "        segment.drawbridge_idfas\n",
    "        where\n",
    "        block = {i} \n",
    "        and drawbridge_consumer_id in (select drawbridge_consumer_id from {db_list})\n",
    "                \n",
    "        \"\"\"\n",
    "        )\n",
    "    ir.execute_query_no_ret(query) "
   ]
  },
  {
   "cell_type": "code",
   "execution_count": null,
   "metadata": {},
   "outputs": [],
   "source": [
    "query = ( \n",
    "    f\"\"\"\n",
    "    select\n",
    "    count(advertising_id) as ad_id\n",
    "    from \n",
    "    {adid_list}\n",
    "    \"\"\"\n",
    "    )\n",
    "with ImpalaResource(hosts=[\"172.16.60.109\"], port=21050, user='vmspool',\n",
    "                    request_pool='vmspool', httpfs_host='hc3manager02.hc3pro', httpfs_port=14000) as ir:\n",
    "        df_adid = ir.sql_to_pandas(query)"
   ]
  },
  {
   "cell_type": "code",
   "execution_count": null,
   "metadata": {},
   "outputs": [],
   "source": [
    "df_adid/1000000"
   ]
  },
  {
   "cell_type": "code",
   "execution_count": null,
   "metadata": {},
   "outputs": [],
   "source": [
    "#↑セイムデバイスの可能性のあるadvertising_id = 36852179"
   ]
  },
  {
   "cell_type": "markdown",
   "metadata": {},
   "source": [
    "紐づけが可能そうなsmn_uidリストを作成する"
   ]
  },
  {
   "cell_type": "code",
   "execution_count": null,
   "metadata": {},
   "outputs": [],
   "source": [
    "uid_list = f\"segment.ya_samedevice_smn_uid_userlist_190723\"\n",
    "print(uid_list)"
   ]
  },
  {
   "cell_type": "markdown",
   "metadata": {},
   "source": [
    "ファイルが重くなるので、分割して実施する"
   ]
  },
  {
   "cell_type": "code",
   "execution_count": null,
   "metadata": {},
   "outputs": [],
   "source": [
    "%%slack_notify @yusuke_akada\n",
    "temp_table = \"dm_tmp.ya_temp_samedevice_190723\"    # 分割処理用のtemporary table 実行後dropされる\n",
    "\n",
    "\n",
    "with ImpalaResource(hosts=[\"172.16.60.109\"], port=21050, user='vmspool',\n",
    "                    request_pool='vmspool', httpfs_host='hc3manager02.hc3pro', httpfs_port=14000) as ir:\n",
    "\n",
    "    #まず空tableを作る\n",
    "    query = (\n",
    "        f\"\"\"\n",
    "        create table {uid_list}\n",
    "            (\n",
    "            drawbridge_consumer_id string,\n",
    "            smn_uid bigint,\n",
    "            type string\n",
    "            )\n",
    "        \n",
    "        partitioned by \n",
    "            (\n",
    "            block int\n",
    "            )\n",
    "        \n",
    "        stored as parquet\n",
    "        \"\"\"\n",
    "    )\n",
    "    \n",
    "    ir.execute_query_no_ret(query)    "
   ]
  },
  {
   "cell_type": "code",
   "execution_count": null,
   "metadata": {},
   "outputs": [],
   "source": [
    "%%slack_notify @yusuke_akada\n",
    "# テキストファイル単体ごとに読込、DataFrame化\n",
    "for i in range(0,200):\n",
    "    # 親テーブルにInsert\n",
    "    query = (\n",
    "        f\"\"\"\n",
    "        insert overwrite table {uid_list}\n",
    "        (\n",
    "        drawbridge_consumer_id,\n",
    "        smn_uid,\n",
    "        type\n",
    "        )\n",
    "\n",
    "        partition\n",
    "        (\n",
    "        block = {i}\n",
    "        )\n",
    "        \n",
    "        select\n",
    "        drawbridge_consumer_id,\n",
    "        smn_uid,\n",
    "        type\n",
    "        from \n",
    "        segment.drawbridge_smn_uids\n",
    "        where\n",
    "        block = {i} \n",
    "        and drawbridge_consumer_id in (select drawbridge_consumer_id from {db_list})\n",
    "                \n",
    "        \"\"\"\n",
    "        )\n",
    "    ir.execute_query_no_ret(query) "
   ]
  },
  {
   "cell_type": "code",
   "execution_count": null,
   "metadata": {},
   "outputs": [],
   "source": [
    "query = ( \n",
    "    f\"\"\"\n",
    "    select\n",
    "    count(smn_uid) as uid\n",
    "    from \n",
    "    {uid_list}\n",
    "    \"\"\"\n",
    "    )\n",
    "with ImpalaResource(hosts=[\"172.16.60.109\"], port=21050, user='vmspool',\n",
    "                    request_pool='vmspool', httpfs_host='hc3manager02.hc3pro', httpfs_port=14000) as ir:\n",
    "        df_uid = ir.sql_to_pandas(query)"
   ]
  },
  {
   "cell_type": "code",
   "execution_count": null,
   "metadata": {},
   "outputs": [],
   "source": [
    "df_uid/1000000"
   ]
  },
  {
   "cell_type": "code",
   "execution_count": null,
   "metadata": {},
   "outputs": [],
   "source": [
    "#↑セイムデバイスの可能性のあるsmn_uid = 117692826"
   ]
  },
  {
   "cell_type": "code",
   "execution_count": null,
   "metadata": {},
   "outputs": [],
   "source": []
  },
  {
   "cell_type": "markdown",
   "metadata": {},
   "source": [
    "### idfa_idベース/Cookieでbidresponseを参照"
   ]
  },
  {
   "cell_type": "markdown",
   "metadata": {},
   "source": [
    "### 統合版"
   ]
  },
  {
   "cell_type": "code",
   "execution_count": null,
   "metadata": {},
   "outputs": [],
   "source": [
    "%%slack_notify @yusuke_akada\n",
    "\n",
    "seed_adid_table = 'segment.ya_samedevice_adid_userlist_190723' #紐づけが可能そうなadidを持っているDrawbridge_consumer_idリスト\n",
    "seed_smnuid_table = 'segment.ya_samedevice_smn_uid_userlist_190723' #紐づけが可能そうなsmn_uidを持っているDrawbridge_consumer_idリスト\n",
    "\n",
    "idfa_req_table = \"segment.ya_db_req_idfa_190726\"   # idfaリストの最終的な対応table\n",
    "\n",
    "smnuid_req_table = \"segment.ya_db_req_smnuid_190726\"   # idfaリストの最終的な対応table\n",
    "\n",
    "# 親テーブルにInsert\n",
    "for i in range(0,200):\n",
    "    with ImpalaResource(hosts=[\"172.16.60.109\"], port=21050, user='vmspool',\n",
    "                        request_pool='vmspool', httpfs_host='hc3manager02.hc3pro', httpfs_port=14000) as ir:\n",
    "        for d in range(1,2):\n",
    "            query = (\n",
    "                    f\"\"\"\n",
    "                    insert overwrite table {idfa_req_table}\n",
    "                    (\n",
    "                    advertising_id\n",
    "                    ,smn_uid\n",
    "                    ,drawbridge_consumer_id\n",
    "                    ,user_agent_os_family\n",
    "                    ,user_agent_device_family\n",
    "                    ,user_agent_browser_family\n",
    "                    ,user_agent_os_major\n",
    "                    ,user_agent_os_minor\n",
    "                    ,remote_address\n",
    "                    )\n",
    "                    partition\n",
    "                    (\n",
    "                    yymmdd = to_date(days_add(now(),-{d}))\n",
    "                    ,block = {i}\n",
    "                    )\n",
    "                    select\n",
    "                    distinct t1.advertising_id\n",
    "                    ,t1.smn_uid\n",
    "                    ,drawbridge_consumer_id\n",
    "                    ,user_agent_os_family\n",
    "                    ,user_agent_device_family\n",
    "                    ,user_agent_browser_family\n",
    "                    ,user_agent_os_major\n",
    "                    ,user_agent_os_minor\n",
    "                    ,remote_address\n",
    "                    from\n",
    "                    dsplog.bid_response t1\n",
    "                    inner join \n",
    "                    {seed_adid_table} t2\n",
    "                    on t1.advertising_id = t2.advertising_id\n",
    "                    where \n",
    "                    concat_ws('-',year,month,day) between to_date(days_add(now(),-{d})) and to_date(days_add(now(),-{d})) \n",
    "                    and user_agent_os_family in('Android','iOS')\n",
    "                    and is_app = True\n",
    "                    and t1.advertising_id is not null\n",
    "                    and t1.smn_uid is null\n",
    "                    and block = {i}\n",
    "                    \"\"\"\n",
    "                )\n",
    "            ir.execute_query_no_ret(query) \n",
    "            \n",
    "            query = (\n",
    "                f\"\"\"\n",
    "                insert overwrite table {smnuid_req_table}\n",
    "                (\n",
    "                smn_uid,\n",
    "                advertising_id,\n",
    "                drawbridge_consumer_id,\n",
    "                user_agent_os_family,\n",
    "                user_agent_device_family,\n",
    "                user_agent_browser_family,\n",
    "                user_agent_os_major,\n",
    "                user_agent_os_minor,\n",
    "                remote_address\n",
    "                )\n",
    "                partition\n",
    "                (\n",
    "                yymmdd = to_date(days_add(now(),-{d}))\n",
    "                ,block = {i}\n",
    "                )\n",
    "                select\n",
    "                distinct t1.smn_uid\n",
    "                ,t1.advertising_id\n",
    "                ,drawbridge_consumer_id\n",
    "                ,user_agent_os_family\n",
    "                ,user_agent_device_family\n",
    "                ,user_agent_browser_family\n",
    "                ,user_agent_os_major\n",
    "                ,user_agent_os_minor\n",
    "                ,remote_address\n",
    "                from\n",
    "                dsplog.bid_response t1\n",
    "                inner join \n",
    "                {seed_smnuid_table} t2\n",
    "                on t1.smn_uid = t2.smn_uid\n",
    "                where \n",
    "                concat_ws('-',year,month,day) between to_date(days_add(now(),-{d})) and to_date(days_add(now(),-{d})) \n",
    "                and user_agent_os_family in('Android','iOS')\n",
    "                and t1.smn_uid is not null\n",
    "                and t1.advertising_id is null\n",
    "                and block = {i}\n",
    "                \"\"\"\n",
    "            )\n",
    "            ir.execute_query_no_ret(query) "
   ]
  },
  {
   "cell_type": "markdown",
   "metadata": {},
   "source": [
    "### セイムデバイス済みテーブルを作成する"
   ]
  },
  {
   "cell_type": "code",
   "execution_count": null,
   "metadata": {},
   "outputs": [],
   "source": [
    "uid_table = \"segment.samedevice_user_list_190726\"   # idfaリストの最終的な対応table\n",
    "temp_table = \"dm_tmp.ya_samedevice\"    # 分割処理用のtemporary table 実行後drop\n",
    "\n",
    "with ImpalaResource(hosts=[\"172.16.60.109\"], port=21050, user='vmspool',\n",
    "                    request_pool='vmspool', httpfs_host='hc3manager02.hc3pro', httpfs_port=14000) as ir:\n",
    "    #まず空tableを作る\n",
    "    query = (\n",
    "        f\"\"\"\n",
    "        create table {uid_table}\n",
    "            (\n",
    "            advertising_id string\n",
    "            ,smn_uid bigint\n",
    "            ,drawbridge_consumer_id string\n",
    "            ,user_agent_os_family string\n",
    "            ,user_agent_device_family string\n",
    "            ,user_agent_browser_family string\n",
    "            ,user_agent_os_major string\n",
    "            ,user_agent_os_minor string\n",
    "            ,remote_address string\n",
    "            )\n",
    "            \n",
    "            partitioned by \n",
    "            (\n",
    "            yymmdd string\n",
    "            ,block int\n",
    "\n",
    "            )\n",
    "        \n",
    "        stored as parquet\n",
    "        \"\"\"\n",
    "    )\n",
    "    \n",
    "    ir.execute_query_no_ret(query) "
   ]
  },
  {
   "cell_type": "code",
   "execution_count": null,
   "metadata": {},
   "outputs": [],
   "source": [
    "%%slack_notify @yusuke_akada\n",
    "\n",
    "sd_original_table = \"segment.samedevice_user_list_190726\"   # idfaリストの最終的な対応table\n",
    "temp_table = \"dm_tmp.ya_samedevice\"    # 分割処理用のtemporary table 実行後drop\n",
    "\n",
    "idfa_table = \"segment.ya_db_req_idfa_190726\"\n",
    "smnuid_table = \"segment.ya_db_req_smnuid_190726\"\n",
    "\n",
    "# 親テーブルにInsert\n",
    "for yymmdd in ['2019-09-01','2019-09-02']:\n",
    "    with ImpalaResource(hosts=[\"172.16.60.109\"], port=21050, user='vmspool',\n",
    "                        request_pool='vmspool', httpfs_host='hc3manager02.hc3pro', httpfs_port=14000) as ir:\n",
    "        for i in range(0,200):\n",
    "            query = (\n",
    "                f\"\"\"\n",
    "                insert overwrite table {sd_original_table}\n",
    "                (\n",
    "                advertising_id,\n",
    "                smn_uid,\n",
    "                drawbridge_consumer_id,\n",
    "                user_agent_os_family\n",
    "                ,user_agent_device_family\n",
    "                ,user_agent_browser_family\n",
    "                ,user_agent_os_major\n",
    "                ,user_agent_os_minor\n",
    "                ,remote_address\n",
    "                )\n",
    "                partition\n",
    "                (\n",
    "                yymmdd = '{yymmdd}'\n",
    "                ,block = {i}\n",
    "                )\n",
    "                select\n",
    "                distinct t1.advertising_id\n",
    "                ,t2.smn_uid\n",
    "                ,t1.drawbridge_consumer_id\n",
    "                ,t1.user_agent_os_family\n",
    "                ,t1.user_agent_device_family\n",
    "                ,t1.user_agent_browser_family\n",
    "                ,t1.user_agent_os_major\n",
    "                ,t1.user_agent_os_minor\n",
    "                ,t1.remote_address\n",
    "                from \n",
    "                {idfa_table} t1\n",
    "                inner join \n",
    "                {smnuid_table} t2\n",
    "                on t1.drawbridge_consumer_id = t2.drawbridge_consumer_id\n",
    "                and t1.user_agent_os_family = t2.user_agent_os_family\n",
    "                and t1.user_agent_device_family = t2.user_agent_device_family\n",
    "                and t1.user_agent_os_major = t2.user_agent_os_major\n",
    "                and t1.user_agent_os_minor = t2.user_agent_os_minor\n",
    "                and t1.remote_address = t2.remote_address\n",
    "                and t1.yymmdd = t2.yymmdd\n",
    "                and t1.block = {i}\n",
    "                and t2.block = {i}\n",
    "                \"\"\"\n",
    "            )\n",
    "            ir.execute_query_no_ret(query) "
   ]
  },
  {
   "cell_type": "code",
   "execution_count": 16,
   "metadata": {},
   "outputs": [
    {
     "name": "stdout",
     "output_type": "stream",
     "text": [
      "segment.samedevice_user_list_190726\n"
     ]
    }
   ],
   "source": [
    "sd_original_table = \"segment.samedevice_user_list_190726\" \n",
    "print(sd_original_table)"
   ]
  },
  {
   "cell_type": "code",
   "execution_count": null,
   "metadata": {},
   "outputs": [],
   "source": []
  },
  {
   "cell_type": "code",
   "execution_count": null,
   "metadata": {},
   "outputs": [],
   "source": []
  },
  {
   "cell_type": "code",
   "execution_count": null,
   "metadata": {},
   "outputs": [],
   "source": []
  },
  {
   "cell_type": "code",
   "execution_count": null,
   "metadata": {},
   "outputs": [],
   "source": []
  },
  {
   "cell_type": "markdown",
   "metadata": {},
   "source": [
    "#advertising_id_typeがないので付与する"
   ]
  },
  {
   "cell_type": "code",
   "execution_count": 13,
   "metadata": {},
   "outputs": [
    {
     "name": "stdout",
     "output_type": "stream",
     "text": [
      "segment.samedevice_user_list_fix_1909\n"
     ]
    }
   ],
   "source": [
    "samedevice_fix_table = \"segment.samedevice_user_list_fix_1909\"   # idfaリストの最終的な対応table\n",
    "print(samedevice_fix_table)"
   ]
  },
  {
   "cell_type": "code",
   "execution_count": 14,
   "metadata": {},
   "outputs": [
    {
     "name": "stderr",
     "output_type": "stream",
     "text": [
      "INFO:ailab_tools.smn.impala_client:loaded configuration file: /opt/anaconda3/lib/python3.7/site-packages/ailab_tools/config/ailab_tools_config.py\n",
      "INFO:ailab_tools.smn.impala_client:hosts : ['172.16.60.109']\n",
      "INFO:ailab_tools.smn.impala_client:impala_host : 172.16.60.109\n",
      "INFO:ailab_tools.smn.impala_client:impala_port : 21050\n",
      "INFO:ailab_tools.smn.impala_client:impala_user : vmspool\n",
      "INFO:ailab_tools.smn.impala_client:impala_password : \n",
      "INFO:ailab_tools.smn.impala_client:request_pool : vmspool\n",
      "INFO:ailab_tools.smn.impala_client:configuration : {'REQUEST_POOL': 'vmspool'}\n",
      "INFO:ailab_tools.smn.impala_resource:loaded configuration file: /opt/anaconda3/lib/python3.7/site-packages/ailab_tools/config/ailab_tools_config.py\n",
      "INFO:ailab_tools.smn.impala_resource:httpfs_host: hc3manager02.hc3pro\n",
      "INFO:ailab_tools.smn.impala_resource:httpfs_port: 14000\n",
      "INFO:impyla_service:Impala open connection OK. hostname = [172.16.60.109]\n",
      "INFO:impyla_service:New connection is opened.\n",
      "INFO:impyla_service:実行SQL: \n",
      "        create table segment.samedevice_user_list_fix_1909\n",
      "            (\n",
      "            advertising_id string\n",
      "            ,smn_uid bigint\n",
      "            ,drawbridge_consumer_id string\n",
      "            ,yymmdd string\n",
      "            ,advertising_id_type bigint\n",
      "            )\n",
      "            \n",
      "            partitioned by \n",
      "            (\n",
      "            block_no int\n",
      "\n",
      "            )\n",
      "        \n",
      "        stored as parquet\n",
      "        \n",
      "INFO:impala.hiveserver2:Closing active operation\n",
      "INFO:impyla_service:Connection is closed.\n"
     ]
    }
   ],
   "source": [
    "with ImpalaResource(hosts=[\"172.16.60.109\"], port=21050, user='vmspool',\n",
    "                    request_pool='vmspool', httpfs_host='hc3manager02.hc3pro', httpfs_port=14000) as ir:\n",
    "    #まず空tableを作る\n",
    "    query = (\n",
    "        f\"\"\"\n",
    "        create table {samedevice_fix_table}\n",
    "            (\n",
    "            advertising_id string\n",
    "            ,smn_uid bigint\n",
    "            ,drawbridge_consumer_id string\n",
    "            ,yymmdd string\n",
    "            ,advertising_id_type bigint\n",
    "            )\n",
    "            \n",
    "            partitioned by \n",
    "            (\n",
    "            block_no int\n",
    "\n",
    "            )\n",
    "        \n",
    "        stored as parquet\n",
    "        \"\"\"\n",
    "    )\n",
    "    \n",
    "    ir.execute_query_no_ret(query) "
   ]
  },
  {
   "cell_type": "code",
   "execution_count": 17,
   "metadata": {},
   "outputs": [],
   "source": [
    "start_date = '2019-08-01'\n",
    "end_date = '2019-08-31'"
   ]
  },
  {
   "cell_type": "code",
   "execution_count": null,
   "metadata": {},
   "outputs": [],
   "source": [
    "%%slack_notify @yusuke_akada\n",
    "# 親テーブルにInsert\n",
    "for i in range(0,200):\n",
    "    with ImpalaResource(hosts=[\"172.16.60.109\"], port=21050, user='vmspool',\n",
    "                        request_pool='vmspool', httpfs_host='hc3manager02.hc3pro', httpfs_port=14000) as ir:\n",
    "\n",
    "        query = (\n",
    "            f\"\"\"\n",
    "            insert overwrite table {samedevice_fix_table}\n",
    "            (\n",
    "            advertising_id,\n",
    "            smn_uid,\n",
    "            drawbridge_consumer_id,\n",
    "            yymmdd,\n",
    "            advertising_id_type                \n",
    "            )\n",
    "            partition\n",
    "            (\n",
    "            block_no = {i}\n",
    "            )\n",
    "            select\n",
    "            t1.advertising_id\n",
    "            ,t1.smn_uid\n",
    "            ,t1.drawbridge_consumer_id\n",
    "            ,yymmdd              \n",
    "            ,case when type in ('android_idfa') then 1 \n",
    "            when type in ('ios_idfa') then 2 \n",
    "            else 0 end as advertising_id_type\n",
    "            from \n",
    "            {sd_original_table} t1\n",
    "            left join\n",
    "            segment.drawbridge_idfas t2\n",
    "            on t1.advertising_id = t2.advertising_id\n",
    "            where t1.block = {i}\n",
    "            and t2.block = {i}\n",
    "            and t1.smn_uid not in (select smn_uid from dm.idfa_list_nn_pq where concat_ws('-',year,month,day) between '{start_date}' and '{end_date}')\n",
    "            and t1.advertising_id not in (select advertising_id from dm.idfa_list_nn_pq where concat_ws('-',year,month,day) between '{start_date}' and '{end_date}')\n",
    "            \"\"\"\n",
    "        )\n",
    "        ir.execute_query_no_ret(query) "
   ]
  },
  {
   "cell_type": "code",
   "execution_count": 27,
   "metadata": {},
   "outputs": [
    {
     "name": "stderr",
     "output_type": "stream",
     "text": [
      "INFO:ailab_tools.smn.impala_client:loaded configuration file: /opt/anaconda3/lib/python3.7/site-packages/ailab_tools/config/ailab_tools_config.py\n",
      "INFO:ailab_tools.smn.impala_client:hosts : ['172.16.60.109']\n",
      "INFO:ailab_tools.smn.impala_client:impala_host : 172.16.60.109\n",
      "INFO:ailab_tools.smn.impala_client:impala_port : 21050\n",
      "INFO:ailab_tools.smn.impala_client:impala_user : vmspool\n",
      "INFO:ailab_tools.smn.impala_client:impala_password : \n",
      "INFO:ailab_tools.smn.impala_client:request_pool : vmspool\n",
      "INFO:ailab_tools.smn.impala_client:configuration : {'REQUEST_POOL': 'vmspool'}\n",
      "INFO:ailab_tools.smn.impala_resource:loaded configuration file: /opt/anaconda3/lib/python3.7/site-packages/ailab_tools/config/ailab_tools_config.py\n",
      "INFO:ailab_tools.smn.impala_resource:httpfs_host: hc3manager02.hc3pro\n",
      "INFO:ailab_tools.smn.impala_resource:httpfs_port: 14000\n",
      "INFO:impyla_service:Impala open connection OK. hostname = [172.16.60.109]\n",
      "INFO:impyla_service:New connection is opened.\n",
      "INFO:impyla_service:実行SQL: \n",
      "        select *\n",
      "        from segment.samedevice_user_list_fix_1909\n",
      "        limit 10\n",
      "        \n",
      "INFO:impala.hiveserver2:Closing active operation\n",
      "INFO:impyla_service:Connection is closed.\n"
     ]
    }
   ],
   "source": [
    "query = (\n",
    "        f\"\"\"\n",
    "        select *\n",
    "        from {samedevice_fix_table}\n",
    "        limit 10\n",
    "        \"\"\"\n",
    ")\n",
    "with ImpalaResource(hosts=[\"172.16.60.109\"], port=21050, user='vmspool',\n",
    "                    request_pool='vmspool', httpfs_host='hc3manager02.hc3pro', httpfs_port=14000) as ir:\n",
    "    df_list = ir.sql_to_pandas(query)"
   ]
  },
  {
   "cell_type": "code",
   "execution_count": null,
   "metadata": {},
   "outputs": [],
   "source": [
    "df_list.head()"
   ]
  },
  {
   "cell_type": "code",
   "execution_count": 28,
   "metadata": {},
   "outputs": [
    {
     "name": "stderr",
     "output_type": "stream",
     "text": [
      "INFO:ailab_tools.smn.impala_client:loaded configuration file: /opt/anaconda3/lib/python3.7/site-packages/ailab_tools/config/ailab_tools_config.py\n",
      "INFO:ailab_tools.smn.impala_client:hosts : ['172.16.60.109']\n",
      "INFO:ailab_tools.smn.impala_client:impala_host : 172.16.60.109\n",
      "INFO:ailab_tools.smn.impala_client:impala_port : 21050\n",
      "INFO:ailab_tools.smn.impala_client:impala_user : vmspool\n",
      "INFO:ailab_tools.smn.impala_client:impala_password : \n",
      "INFO:ailab_tools.smn.impala_client:request_pool : vmspool\n",
      "INFO:ailab_tools.smn.impala_client:configuration : {'REQUEST_POOL': 'vmspool'}\n",
      "INFO:ailab_tools.smn.impala_resource:loaded configuration file: /opt/anaconda3/lib/python3.7/site-packages/ailab_tools/config/ailab_tools_config.py\n",
      "INFO:ailab_tools.smn.impala_resource:httpfs_host: hc3manager02.hc3pro\n",
      "INFO:ailab_tools.smn.impala_resource:httpfs_port: 14000\n",
      "INFO:impyla_service:Impala open connection OK. hostname = [172.16.60.109]\n",
      "INFO:impyla_service:New connection is opened.\n",
      "INFO:impyla_service:実行SQL: \n",
      "        select\n",
      "        distinct smn_uid\n",
      "        ,advertising_id\n",
      "        ,advertising_id_type\n",
      "        from segment.samedevice_user_list_fix_1909\n",
      "        \n",
      "INFO:impala.hiveserver2:Closing active operation\n",
      "INFO:impyla_service:Connection is closed.\n"
     ]
    }
   ],
   "source": [
    "#100%リスト\n",
    "\n",
    "query = (\n",
    "        f\"\"\"\n",
    "        select\n",
    "        distinct smn_uid\n",
    "        ,advertising_id\n",
    "        ,advertising_id_type\n",
    "        from {samedevice_fix_table}\n",
    "        \"\"\"\n",
    ")\n",
    "with ImpalaResource(hosts=[\"172.16.60.109\"], port=21050, user='vmspool',\n",
    "                    request_pool='vmspool', httpfs_host='hc3manager02.hc3pro', httpfs_port=14000) as ir:\n",
    "    df_all = ir.sql_to_pandas(query)"
   ]
  },
  {
   "cell_type": "code",
   "execution_count": 29,
   "metadata": {},
   "outputs": [
    {
     "data": {
      "text/plain": [
       "2476076"
      ]
     },
     "execution_count": 29,
     "metadata": {},
     "output_type": "execute_result"
    }
   ],
   "source": [
    "df_all.shape[0]"
   ]
  },
  {
   "cell_type": "code",
   "execution_count": 30,
   "metadata": {},
   "outputs": [
    {
     "data": {
      "text/html": [
       "<div>\n",
       "<style scoped>\n",
       "    .dataframe tbody tr th:only-of-type {\n",
       "        vertical-align: middle;\n",
       "    }\n",
       "\n",
       "    .dataframe tbody tr th {\n",
       "        vertical-align: top;\n",
       "    }\n",
       "\n",
       "    .dataframe thead th {\n",
       "        text-align: right;\n",
       "    }\n",
       "</style>\n",
       "<table border=\"1\" class=\"dataframe\">\n",
       "  <thead>\n",
       "    <tr style=\"text-align: right;\">\n",
       "      <th></th>\n",
       "      <th>smn_uid</th>\n",
       "      <th>advertising_id</th>\n",
       "      <th>advertising_id_type</th>\n",
       "    </tr>\n",
       "  </thead>\n",
       "  <tbody>\n",
       "    <tr>\n",
       "      <th>0</th>\n",
       "      <td>936000177272917</td>\n",
       "      <td>364C92C54C194AC9B7C835A6539AB656</td>\n",
       "      <td>2</td>\n",
       "    </tr>\n",
       "    <tr>\n",
       "      <th>1</th>\n",
       "      <td>1661000006917040</td>\n",
       "      <td>EAA3DA89C6344E19AB07B3F9E70BF88C</td>\n",
       "      <td>1</td>\n",
       "    </tr>\n",
       "    <tr>\n",
       "      <th>2</th>\n",
       "      <td>895000029460529</td>\n",
       "      <td>DCF79B47F6C44946BEB56659C634821A</td>\n",
       "      <td>2</td>\n",
       "    </tr>\n",
       "    <tr>\n",
       "      <th>3</th>\n",
       "      <td>1764000002212651</td>\n",
       "      <td>291F8DC7FA68497F9D5BAF6D057C113C</td>\n",
       "      <td>1</td>\n",
       "    </tr>\n",
       "    <tr>\n",
       "      <th>4</th>\n",
       "      <td>1722000004207405</td>\n",
       "      <td>4A5EDF9858D64B63929E8D4BE862712E</td>\n",
       "      <td>1</td>\n",
       "    </tr>\n",
       "  </tbody>\n",
       "</table>\n",
       "</div>"
      ],
      "text/plain": [
       "            smn_uid                    advertising_id  advertising_id_type\n",
       "0   936000177272917  364C92C54C194AC9B7C835A6539AB656                    2\n",
       "1  1661000006917040  EAA3DA89C6344E19AB07B3F9E70BF88C                    1\n",
       "2   895000029460529  DCF79B47F6C44946BEB56659C634821A                    2\n",
       "3  1764000002212651  291F8DC7FA68497F9D5BAF6D057C113C                    1\n",
       "4  1722000004207405  4A5EDF9858D64B63929E8D4BE862712E                    1"
      ]
     },
     "execution_count": 30,
     "metadata": {},
     "output_type": "execute_result"
    }
   ],
   "source": [
    "df_all.head()"
   ]
  },
  {
   "cell_type": "code",
   "execution_count": 31,
   "metadata": {},
   "outputs": [],
   "source": [
    "df_dup = df_all.drop_duplicates(subset='advertising_id')"
   ]
  },
  {
   "cell_type": "code",
   "execution_count": 60,
   "metadata": {},
   "outputs": [
    {
     "data": {
      "text/plain": [
       "1935380"
      ]
     },
     "execution_count": 60,
     "metadata": {},
     "output_type": "execute_result"
    }
   ],
   "source": [
    "df_dup.shape[0]"
   ]
  },
  {
   "cell_type": "code",
   "execution_count": 33,
   "metadata": {},
   "outputs": [],
   "source": [
    "df_dup = df_dup.drop_duplicates(subset='smn_uid')"
   ]
  },
  {
   "cell_type": "code",
   "execution_count": 34,
   "metadata": {},
   "outputs": [
    {
     "data": {
      "text/plain": [
       "1935380"
      ]
     },
     "execution_count": 34,
     "metadata": {},
     "output_type": "execute_result"
    }
   ],
   "source": [
    "df_dup.shape[0]"
   ]
  },
  {
   "cell_type": "code",
   "execution_count": 64,
   "metadata": {},
   "outputs": [
    {
     "name": "stderr",
     "output_type": "stream",
     "text": [
      "/opt/anaconda3/lib/python3.7/site-packages/ipykernel_launcher.py:1: DeprecationWarning: \n",
      ".ix is deprecated. Please use\n",
      ".loc for label based indexing or\n",
      ".iloc for positional indexing\n",
      "\n",
      "See the documentation here:\n",
      "http://pandas.pydata.org/pandas-docs/stable/indexing.html#ix-indexer-is-deprecated\n",
      "  \"\"\"Entry point for launching an IPython kernel.\n"
     ]
    }
   ],
   "source": [
    "df_dup = df_dup.ix[:,['advertising_id','advertising_id_type','smn_uid']]"
   ]
  },
  {
   "cell_type": "code",
   "execution_count": 44,
   "metadata": {},
   "outputs": [],
   "source": [
    "df_dup.advertising_id_type[df_dup.advertising_id_type == 1] = 91"
   ]
  },
  {
   "cell_type": "code",
   "execution_count": 45,
   "metadata": {},
   "outputs": [
    {
     "name": "stderr",
     "output_type": "stream",
     "text": [
      "/opt/anaconda3/lib/python3.7/site-packages/ipykernel_launcher.py:1: SettingWithCopyWarning: \n",
      "A value is trying to be set on a copy of a slice from a DataFrame\n",
      "\n",
      "See the caveats in the documentation: http://pandas.pydata.org/pandas-docs/stable/indexing.html#indexing-view-versus-copy\n",
      "  \"\"\"Entry point for launching an IPython kernel.\n"
     ]
    }
   ],
   "source": [
    "df_dup.advertising_id_type[df_dup.advertising_id_type == 2] = 92"
   ]
  },
  {
   "cell_type": "code",
   "execution_count": 65,
   "metadata": {},
   "outputs": [
    {
     "data": {
      "text/html": [
       "<div>\n",
       "<style scoped>\n",
       "    .dataframe tbody tr th:only-of-type {\n",
       "        vertical-align: middle;\n",
       "    }\n",
       "\n",
       "    .dataframe tbody tr th {\n",
       "        vertical-align: top;\n",
       "    }\n",
       "\n",
       "    .dataframe thead th {\n",
       "        text-align: right;\n",
       "    }\n",
       "</style>\n",
       "<table border=\"1\" class=\"dataframe\">\n",
       "  <thead>\n",
       "    <tr style=\"text-align: right;\">\n",
       "      <th></th>\n",
       "      <th>advertising_id</th>\n",
       "      <th>advertising_id_type</th>\n",
       "      <th>smn_uid</th>\n",
       "    </tr>\n",
       "  </thead>\n",
       "  <tbody>\n",
       "    <tr>\n",
       "      <th>0</th>\n",
       "      <td>364C92C54C194AC9B7C835A6539AB656</td>\n",
       "      <td>92</td>\n",
       "      <td>936000177272917</td>\n",
       "    </tr>\n",
       "    <tr>\n",
       "      <th>1</th>\n",
       "      <td>EAA3DA89C6344E19AB07B3F9E70BF88C</td>\n",
       "      <td>91</td>\n",
       "      <td>1661000006917040</td>\n",
       "    </tr>\n",
       "    <tr>\n",
       "      <th>2</th>\n",
       "      <td>DCF79B47F6C44946BEB56659C634821A</td>\n",
       "      <td>92</td>\n",
       "      <td>895000029460529</td>\n",
       "    </tr>\n",
       "    <tr>\n",
       "      <th>3</th>\n",
       "      <td>291F8DC7FA68497F9D5BAF6D057C113C</td>\n",
       "      <td>91</td>\n",
       "      <td>1764000002212651</td>\n",
       "    </tr>\n",
       "    <tr>\n",
       "      <th>4</th>\n",
       "      <td>4A5EDF9858D64B63929E8D4BE862712E</td>\n",
       "      <td>91</td>\n",
       "      <td>1722000004207405</td>\n",
       "    </tr>\n",
       "  </tbody>\n",
       "</table>\n",
       "</div>"
      ],
      "text/plain": [
       "                     advertising_id  advertising_id_type           smn_uid\n",
       "0  364C92C54C194AC9B7C835A6539AB656                   92   936000177272917\n",
       "1  EAA3DA89C6344E19AB07B3F9E70BF88C                   91  1661000006917040\n",
       "2  DCF79B47F6C44946BEB56659C634821A                   92   895000029460529\n",
       "3  291F8DC7FA68497F9D5BAF6D057C113C                   91  1764000002212651\n",
       "4  4A5EDF9858D64B63929E8D4BE862712E                   91  1722000004207405"
      ]
     },
     "execution_count": 65,
     "metadata": {},
     "output_type": "execute_result"
    }
   ],
   "source": [
    "df_dup.head()"
   ]
  },
  {
   "cell_type": "code",
   "execution_count": 66,
   "metadata": {},
   "outputs": [],
   "source": [
    "df_dup.to_csv('drawbridge_samedevice_list_190904.tsv', sep='\\t', index=False)"
   ]
  },
  {
   "cell_type": "code",
   "execution_count": null,
   "metadata": {},
   "outputs": [],
   "source": []
  },
  {
   "cell_type": "code",
   "execution_count": null,
   "metadata": {},
   "outputs": [],
   "source": []
  },
  {
   "cell_type": "code",
   "execution_count": null,
   "metadata": {},
   "outputs": [],
   "source": []
  },
  {
   "cell_type": "code",
   "execution_count": null,
   "metadata": {},
   "outputs": [],
   "source": []
  },
  {
   "cell_type": "code",
   "execution_count": null,
   "metadata": {},
   "outputs": [],
   "source": []
  },
  {
   "cell_type": "markdown",
   "metadata": {},
   "source": [
    "第一弾のテーブル化"
   ]
  },
  {
   "cell_type": "code",
   "execution_count": 54,
   "metadata": {},
   "outputs": [
    {
     "data": {
      "text/html": [
       "<div>\n",
       "<style scoped>\n",
       "    .dataframe tbody tr th:only-of-type {\n",
       "        vertical-align: middle;\n",
       "    }\n",
       "\n",
       "    .dataframe tbody tr th {\n",
       "        vertical-align: top;\n",
       "    }\n",
       "\n",
       "    .dataframe thead th {\n",
       "        text-align: right;\n",
       "    }\n",
       "</style>\n",
       "<table border=\"1\" class=\"dataframe\">\n",
       "  <thead>\n",
       "    <tr style=\"text-align: right;\">\n",
       "      <th></th>\n",
       "      <th>advertising_id</th>\n",
       "      <th>advertising_id_type</th>\n",
       "      <th>smn_uid</th>\n",
       "    </tr>\n",
       "  </thead>\n",
       "  <tbody>\n",
       "    <tr>\n",
       "      <th>0</th>\n",
       "      <td>F15B161D5AF84644BACA85BD9C6D2DA6</td>\n",
       "      <td>92</td>\n",
       "      <td>872000011439179</td>\n",
       "    </tr>\n",
       "    <tr>\n",
       "      <th>1</th>\n",
       "      <td>CAFE977686C94D64B39537DAE81AC296</td>\n",
       "      <td>92</td>\n",
       "      <td>1129000065152494</td>\n",
       "    </tr>\n",
       "    <tr>\n",
       "      <th>2</th>\n",
       "      <td>95AAFF69C69B45D583EBCEA1DCAD07BF</td>\n",
       "      <td>92</td>\n",
       "      <td>895000018861205</td>\n",
       "    </tr>\n",
       "    <tr>\n",
       "      <th>3</th>\n",
       "      <td>CF8F5D9B48574388AA0B06326A7EB13C</td>\n",
       "      <td>92</td>\n",
       "      <td>335000048656823</td>\n",
       "    </tr>\n",
       "    <tr>\n",
       "      <th>4</th>\n",
       "      <td>34B4F91132334236AC3DB894C437840A</td>\n",
       "      <td>92</td>\n",
       "      <td>2202000103904352</td>\n",
       "    </tr>\n",
       "  </tbody>\n",
       "</table>\n",
       "</div>"
      ],
      "text/plain": [
       "                     advertising_id  advertising_id_type           smn_uid\n",
       "0  F15B161D5AF84644BACA85BD9C6D2DA6                   92   872000011439179\n",
       "1  CAFE977686C94D64B39537DAE81AC296                   92  1129000065152494\n",
       "2  95AAFF69C69B45D583EBCEA1DCAD07BF                   92   895000018861205\n",
       "3  CF8F5D9B48574388AA0B06326A7EB13C                   92   335000048656823\n",
       "4  34B4F91132334236AC3DB894C437840A                   92  2202000103904352"
      ]
     },
     "execution_count": 54,
     "metadata": {},
     "output_type": "execute_result"
    }
   ],
   "source": [
    "#リスト読み込み\n",
    "df_user = pd.read_csv(\"/home/yusuke_akada/notebook/Samedevice/drawbridge_samedevice_list_190731.tsv\",sep='\\t')\n",
    "df_user.head()"
   ]
  },
  {
   "cell_type": "code",
   "execution_count": 55,
   "metadata": {},
   "outputs": [
    {
     "name": "stdout",
     "output_type": "stream",
     "text": [
      "segment.drawbridge_samedevice_list_1st_20190816\n"
     ]
    }
   ],
   "source": [
    "uid_table = f'segment.drawbridge_samedevice_list_1st_20190816'\n",
    "print(uid_table)"
   ]
  },
  {
   "cell_type": "code",
   "execution_count": 56,
   "metadata": {},
   "outputs": [
    {
     "name": "stderr",
     "output_type": "stream",
     "text": [
      "INFO:ailab_tools.smn.impala_client:loaded configuration file: /opt/anaconda3/lib/python3.7/site-packages/ailab_tools/config/ailab_tools_config.py\n",
      "INFO:ailab_tools.smn.impala_client:hosts : ['172.16.60.109']\n",
      "INFO:ailab_tools.smn.impala_client:impala_host : 172.16.60.109\n",
      "INFO:ailab_tools.smn.impala_client:impala_port : 21050\n",
      "INFO:ailab_tools.smn.impala_client:impala_user : vmspool\n",
      "INFO:ailab_tools.smn.impala_client:impala_password : \n",
      "INFO:ailab_tools.smn.impala_client:request_pool : vmspool\n",
      "INFO:ailab_tools.smn.impala_client:configuration : {'REQUEST_POOL': 'vmspool'}\n",
      "INFO:ailab_tools.smn.impala_resource:loaded configuration file: /opt/anaconda3/lib/python3.7/site-packages/ailab_tools/config/ailab_tools_config.py\n",
      "INFO:ailab_tools.smn.impala_resource:httpfs_host: hc3manager02.hc3pro\n",
      "INFO:ailab_tools.smn.impala_resource:httpfs_port: 14000\n",
      "INFO:impyla_service:Impala open connection OK. hostname = [172.16.60.109]\n",
      "INFO:impyla_service:New connection is opened.\n",
      "INFO:impyla_service:Create empty table segment.drawbridge_samedevice_list_1st_20190816\n",
      "INFO:impyla_service:実行SQL: \n",
      "            create table segment.drawbridge_samedevice_list_1st_20190816\n",
      "            (advertising_id string, advertising_id_type bigint, smn_uid bigint)\n",
      "            \n",
      "            row format delimited fields terminated by \"\\t\"\n",
      "            lines terminated by \"\\n\"\n",
      "            \n",
      "INFO:impala.hiveserver2:Closing active operation\n",
      "INFO:impyla_service:Query finished\n",
      "INFO:hdfs.client:Instantiated <InsecureClient(url='http://hc3manager02.hc3pro:14000')>.\n",
      "INFO:hdfs.client:Uploading '/home/yusuke_akada/notebook/Samedevice/856c2ca1-e92f-419f-ab3f-31f3ba4af901.tsv' to '/user/hive/warehouse/segment.db/drawbridge_samedevice_list_1st_20190816'.\n",
      "INFO:hdfs.client:Listing '/user/hive/warehouse/segment.db/drawbridge_samedevice_list_1st_20190816'.\n",
      "INFO:hdfs.client:Writing to '/user/hive/warehouse/segment.db/drawbridge_samedevice_list_1st_20190816/856c2ca1-e92f-419f-ab3f-31f3ba4af901.tsv'.\n",
      "INFO:impyla_service:実行SQL: refresh segment.drawbridge_samedevice_list_1st_20190816\n",
      "INFO:impala.hiveserver2:Closing active operation\n",
      "INFO:impyla_service:Connection is closed.\n"
     ]
    }
   ],
   "source": [
    "with ImpalaResource(hosts=[\"172.16.60.109\"], port=21050, user='vmspool',\n",
    "                    request_pool='vmspool', httpfs_host='hc3manager02.hc3pro', httpfs_port=14000) as ir:\n",
    "        ir.upload_dataframe(uid_table, df_user, ['string','bigint','bigint'])"
   ]
  },
  {
   "cell_type": "code",
   "execution_count": null,
   "metadata": {},
   "outputs": [],
   "source": []
  },
  {
   "cell_type": "markdown",
   "metadata": {},
   "source": [
    "第2弾のテーブル化"
   ]
  },
  {
   "cell_type": "code",
   "execution_count": 67,
   "metadata": {},
   "outputs": [
    {
     "data": {
      "text/html": [
       "<div>\n",
       "<style scoped>\n",
       "    .dataframe tbody tr th:only-of-type {\n",
       "        vertical-align: middle;\n",
       "    }\n",
       "\n",
       "    .dataframe tbody tr th {\n",
       "        vertical-align: top;\n",
       "    }\n",
       "\n",
       "    .dataframe thead th {\n",
       "        text-align: right;\n",
       "    }\n",
       "</style>\n",
       "<table border=\"1\" class=\"dataframe\">\n",
       "  <thead>\n",
       "    <tr style=\"text-align: right;\">\n",
       "      <th></th>\n",
       "      <th>advertising_id</th>\n",
       "      <th>advertising_id_type</th>\n",
       "      <th>smn_uid</th>\n",
       "    </tr>\n",
       "  </thead>\n",
       "  <tbody>\n",
       "    <tr>\n",
       "      <th>0</th>\n",
       "      <td>364C92C54C194AC9B7C835A6539AB656</td>\n",
       "      <td>92</td>\n",
       "      <td>936000177272917</td>\n",
       "    </tr>\n",
       "    <tr>\n",
       "      <th>1</th>\n",
       "      <td>EAA3DA89C6344E19AB07B3F9E70BF88C</td>\n",
       "      <td>91</td>\n",
       "      <td>1661000006917040</td>\n",
       "    </tr>\n",
       "    <tr>\n",
       "      <th>2</th>\n",
       "      <td>DCF79B47F6C44946BEB56659C634821A</td>\n",
       "      <td>92</td>\n",
       "      <td>895000029460529</td>\n",
       "    </tr>\n",
       "    <tr>\n",
       "      <th>3</th>\n",
       "      <td>291F8DC7FA68497F9D5BAF6D057C113C</td>\n",
       "      <td>91</td>\n",
       "      <td>1764000002212651</td>\n",
       "    </tr>\n",
       "    <tr>\n",
       "      <th>4</th>\n",
       "      <td>4A5EDF9858D64B63929E8D4BE862712E</td>\n",
       "      <td>91</td>\n",
       "      <td>1722000004207405</td>\n",
       "    </tr>\n",
       "  </tbody>\n",
       "</table>\n",
       "</div>"
      ],
      "text/plain": [
       "                     advertising_id  advertising_id_type           smn_uid\n",
       "0  364C92C54C194AC9B7C835A6539AB656                   92   936000177272917\n",
       "1  EAA3DA89C6344E19AB07B3F9E70BF88C                   91  1661000006917040\n",
       "2  DCF79B47F6C44946BEB56659C634821A                   92   895000029460529\n",
       "3  291F8DC7FA68497F9D5BAF6D057C113C                   91  1764000002212651\n",
       "4  4A5EDF9858D64B63929E8D4BE862712E                   91  1722000004207405"
      ]
     },
     "execution_count": 67,
     "metadata": {},
     "output_type": "execute_result"
    }
   ],
   "source": [
    "#リスト読み込み\n",
    "df_user = pd.read_csv(\"/home/yusuke_akada/notebook/Samedevice/drawbridge_samedevice_list_190904.tsv\",sep='\\t')\n",
    "df_user.head()"
   ]
  },
  {
   "cell_type": "code",
   "execution_count": 68,
   "metadata": {},
   "outputs": [
    {
     "name": "stdout",
     "output_type": "stream",
     "text": [
      "segment.drawbridge_samedevice_list_2nd_20190904\n"
     ]
    }
   ],
   "source": [
    "uid_table = f'segment.drawbridge_samedevice_list_2nd_20190904'\n",
    "print(uid_table)"
   ]
  },
  {
   "cell_type": "code",
   "execution_count": 69,
   "metadata": {},
   "outputs": [
    {
     "name": "stderr",
     "output_type": "stream",
     "text": [
      "INFO:ailab_tools.smn.impala_client:loaded configuration file: /opt/anaconda3/lib/python3.7/site-packages/ailab_tools/config/ailab_tools_config.py\n",
      "INFO:ailab_tools.smn.impala_client:hosts : ['172.16.60.109']\n",
      "INFO:ailab_tools.smn.impala_client:impala_host : 172.16.60.109\n",
      "INFO:ailab_tools.smn.impala_client:impala_port : 21050\n",
      "INFO:ailab_tools.smn.impala_client:impala_user : vmspool\n",
      "INFO:ailab_tools.smn.impala_client:impala_password : \n",
      "INFO:ailab_tools.smn.impala_client:request_pool : vmspool\n",
      "INFO:ailab_tools.smn.impala_client:configuration : {'REQUEST_POOL': 'vmspool'}\n",
      "INFO:ailab_tools.smn.impala_resource:loaded configuration file: /opt/anaconda3/lib/python3.7/site-packages/ailab_tools/config/ailab_tools_config.py\n",
      "INFO:ailab_tools.smn.impala_resource:httpfs_host: hc3manager02.hc3pro\n",
      "INFO:ailab_tools.smn.impala_resource:httpfs_port: 14000\n",
      "INFO:impyla_service:Impala open connection OK. hostname = [172.16.60.109]\n",
      "INFO:impyla_service:New connection is opened.\n",
      "INFO:impyla_service:Create empty table segment.drawbridge_samedevice_list_2nd_20190904\n",
      "INFO:impyla_service:実行SQL: \n",
      "            create table segment.drawbridge_samedevice_list_2nd_20190904\n",
      "            (advertising_id string, advertising_id_type bigint, smn_uid bigint)\n",
      "            \n",
      "            row format delimited fields terminated by \"\\t\"\n",
      "            lines terminated by \"\\n\"\n",
      "            \n",
      "INFO:impala.hiveserver2:Closing active operation\n",
      "INFO:impyla_service:Query finished\n",
      "INFO:hdfs.client:Instantiated <InsecureClient(url='http://hc3manager02.hc3pro:14000')>.\n",
      "INFO:hdfs.client:Uploading '/home/yusuke_akada/notebook/Samedevice/211c4bfb-65dd-4de3-a826-80075243fbdf.tsv' to '/user/hive/warehouse/segment.db/drawbridge_samedevice_list_2nd_20190904'.\n",
      "INFO:hdfs.client:Listing '/user/hive/warehouse/segment.db/drawbridge_samedevice_list_2nd_20190904'.\n",
      "INFO:hdfs.client:Writing to '/user/hive/warehouse/segment.db/drawbridge_samedevice_list_2nd_20190904/211c4bfb-65dd-4de3-a826-80075243fbdf.tsv'.\n",
      "INFO:impyla_service:実行SQL: refresh segment.drawbridge_samedevice_list_2nd_20190904\n",
      "INFO:impala.hiveserver2:Closing active operation\n",
      "INFO:impyla_service:Connection is closed.\n"
     ]
    }
   ],
   "source": [
    "with ImpalaResource(hosts=[\"172.16.60.109\"], port=21050, user='vmspool',\n",
    "                    request_pool='vmspool', httpfs_host='hc3manager02.hc3pro', httpfs_port=14000) as ir:\n",
    "        ir.upload_dataframe(uid_table, df_user, ['string','bigint','bigint'])"
   ]
  },
  {
   "cell_type": "code",
   "execution_count": null,
   "metadata": {},
   "outputs": [],
   "source": []
  },
  {
   "cell_type": "code",
   "execution_count": null,
   "metadata": {},
   "outputs": [],
   "source": []
  },
  {
   "cell_type": "code",
   "execution_count": null,
   "metadata": {},
   "outputs": [],
   "source": []
  },
  {
   "cell_type": "markdown",
   "metadata": {},
   "source": [
    "第一弾と統合して1つのセグメントファイルにする"
   ]
  },
  {
   "cell_type": "code",
   "execution_count": 2,
   "metadata": {},
   "outputs": [
    {
     "name": "stdout",
     "output_type": "stream",
     "text": [
      "segment.samedevice_user_list_by_drawbridge\n"
     ]
    }
   ],
   "source": [
    "samedevice_fix_table = \"segment.samedevice_user_list_by_drawbridge\"   # 最終的な対応table\n",
    "print(samedevice_fix_table)"
   ]
  },
  {
   "cell_type": "code",
   "execution_count": 5,
   "metadata": {},
   "outputs": [
    {
     "name": "stderr",
     "output_type": "stream",
     "text": [
      "INFO:ailab_tools.smn.impala_client:loaded configuration file: /opt/anaconda3/lib/python3.7/site-packages/ailab_tools/config/ailab_tools_config.py\n",
      "INFO:ailab_tools.smn.impala_client:hosts : ['172.16.60.109']\n",
      "INFO:ailab_tools.smn.impala_client:impala_host : 172.16.60.109\n",
      "INFO:ailab_tools.smn.impala_client:impala_port : 21050\n",
      "INFO:ailab_tools.smn.impala_client:impala_user : vmspool\n",
      "INFO:ailab_tools.smn.impala_client:impala_password : \n",
      "INFO:ailab_tools.smn.impala_client:request_pool : vmspool\n",
      "INFO:ailab_tools.smn.impala_client:configuration : {'REQUEST_POOL': 'vmspool'}\n",
      "INFO:ailab_tools.smn.impala_resource:loaded configuration file: /opt/anaconda3/lib/python3.7/site-packages/ailab_tools/config/ailab_tools_config.py\n",
      "INFO:ailab_tools.smn.impala_resource:httpfs_host: hc3manager02.hc3pro\n",
      "INFO:ailab_tools.smn.impala_resource:httpfs_port: 14000\n",
      "INFO:impyla_service:Impala open connection OK. hostname = [172.16.60.109]\n",
      "INFO:impyla_service:New connection is opened.\n",
      "INFO:impyla_service:実行SQL: \n",
      "        create table segment.samedevice_user_list_by_drawbridge\n",
      "            (\n",
      "            advertising_id string\n",
      "            ,advertising_id_type bigint\n",
      "            ,smn_uid bigint\n",
      "            )\n",
      "           \n",
      "            partitioned by \n",
      "            (\n",
      "            create_date string\n",
      "\n",
      "            )\n",
      "        \n",
      "        stored as parquet\n",
      "        \n",
      "INFO:impala.hiveserver2:Closing active operation\n",
      "INFO:impyla_service:Connection is closed.\n"
     ]
    }
   ],
   "source": [
    "with ImpalaResource(hosts=[\"172.16.60.109\"], port=21050, user='vmspool',\n",
    "                    request_pool='vmspool', httpfs_host='hc3manager02.hc3pro', httpfs_port=14000) as ir:\n",
    "    #まず空tableを作る\n",
    "    query = (\n",
    "        f\"\"\"\n",
    "        create table {samedevice_fix_table}\n",
    "            (\n",
    "            advertising_id string\n",
    "            ,advertising_id_type bigint\n",
    "            ,smn_uid bigint\n",
    "            )\n",
    "           \n",
    "            partitioned by \n",
    "            (\n",
    "            create_date string\n",
    "\n",
    "            )\n",
    "        \n",
    "        stored as parquet\n",
    "        \"\"\"\n",
    "    )\n",
    "    \n",
    "    ir.execute_query_no_ret(query) "
   ]
  },
  {
   "cell_type": "code",
   "execution_count": 6,
   "metadata": {},
   "outputs": [
    {
     "name": "stdout",
     "output_type": "stream",
     "text": [
      "dm_tmp.drawbridge_samedevice_list_1st_20190816\n"
     ]
    }
   ],
   "source": [
    "insert_table = 'dm_tmp.drawbridge_samedevice_list_1st_20190816'\n",
    "print(insert_table)"
   ]
  },
  {
   "cell_type": "code",
   "execution_count": 7,
   "metadata": {},
   "outputs": [
    {
     "name": "stderr",
     "output_type": "stream",
     "text": [
      "INFO:ailab_tools.smn.impala_client:loaded configuration file: /opt/anaconda3/lib/python3.7/site-packages/ailab_tools/config/ailab_tools_config.py\n",
      "INFO:ailab_tools.smn.impala_client:hosts : ['172.16.60.109']\n",
      "INFO:ailab_tools.smn.impala_client:impala_host : 172.16.60.109\n",
      "INFO:ailab_tools.smn.impala_client:impala_port : 21050\n",
      "INFO:ailab_tools.smn.impala_client:impala_user : vmspool\n",
      "INFO:ailab_tools.smn.impala_client:impala_password : \n",
      "INFO:ailab_tools.smn.impala_client:request_pool : vmspool\n",
      "INFO:ailab_tools.smn.impala_client:configuration : {'REQUEST_POOL': 'vmspool'}\n",
      "INFO:ailab_tools.smn.impala_resource:loaded configuration file: /opt/anaconda3/lib/python3.7/site-packages/ailab_tools/config/ailab_tools_config.py\n",
      "INFO:ailab_tools.smn.impala_resource:httpfs_host: hc3manager02.hc3pro\n",
      "INFO:ailab_tools.smn.impala_resource:httpfs_port: 14000\n",
      "INFO:impyla_service:Impala open connection OK. hostname = [172.16.60.109]\n",
      "INFO:impyla_service:New connection is opened.\n",
      "INFO:impyla_service:実行SQL: \n",
      "        insert overwrite table segment.samedevice_user_list_by_drawbridge\n",
      "        (\n",
      "        advertising_id\n",
      "        ,advertising_id_type\n",
      "        ,smn_uid\n",
      "        )\n",
      "        partition\n",
      "        (\n",
      "        create_date = '2019-08-10'\n",
      "        )\n",
      "        select *\n",
      "        from \n",
      "        dm_tmp.drawbridge_samedevice_list_1st_20190816\n",
      "        \n",
      "INFO:impala.hiveserver2:Closing active operation\n",
      "INFO:impyla_service:Connection is closed.\n",
      "INFO:ailab_tools.utils.slack:loaded configuration file: /opt/anaconda3/lib/python3.7/site-packages/ailab_tools/config/ailab_tools_config.py\n",
      "INFO:ailab_tools.utils.slack:Slack: Posted a message to Slack.\n"
     ]
    }
   ],
   "source": [
    "%%slack_notify @yusuke_akada\n",
    "# 親テーブルにInsert\n",
    "\n",
    "date = '2019-08-10'\n",
    "\n",
    "with ImpalaResource(hosts=[\"172.16.60.109\"], port=21050, user='vmspool',\n",
    "                    request_pool='vmspool', httpfs_host='hc3manager02.hc3pro', httpfs_port=14000) as ir:\n",
    "    query = (\n",
    "        f\"\"\"\n",
    "        insert overwrite table {samedevice_fix_table}\n",
    "        (\n",
    "        advertising_id\n",
    "        ,advertising_id_type\n",
    "        ,smn_uid\n",
    "        )\n",
    "        partition\n",
    "        (\n",
    "        create_date = '{date}'\n",
    "        )\n",
    "        select *\n",
    "        from \n",
    "        {insert_table}\n",
    "        \"\"\"\n",
    "    )\n",
    "    ir.execute_query_no_ret(query) "
   ]
  },
  {
   "cell_type": "code",
   "execution_count": null,
   "metadata": {},
   "outputs": [],
   "source": []
  },
  {
   "cell_type": "markdown",
   "metadata": {},
   "source": [
    "第2弾と統合して1つのセグメントファイルにする"
   ]
  },
  {
   "cell_type": "code",
   "execution_count": 2,
   "metadata": {},
   "outputs": [
    {
     "name": "stdout",
     "output_type": "stream",
     "text": [
      "segment.samedevice_user_list_by_drawbridge\n"
     ]
    }
   ],
   "source": [
    "samedevice_fix_table = \"segment.samedevice_user_list_by_drawbridge\"   # 最終的な対応table\n",
    "print(samedevice_fix_table)"
   ]
  },
  {
   "cell_type": "code",
   "execution_count": 3,
   "metadata": {},
   "outputs": [
    {
     "name": "stdout",
     "output_type": "stream",
     "text": [
      "segment.drawbridge_samedevice_list_2nd_20190904\n"
     ]
    }
   ],
   "source": [
    "insert_table = 'segment.drawbridge_samedevice_list_2nd_20190904'\n",
    "print(insert_table)"
   ]
  },
  {
   "cell_type": "code",
   "execution_count": 4,
   "metadata": {},
   "outputs": [
    {
     "name": "stderr",
     "output_type": "stream",
     "text": [
      "INFO:ailab_tools.smn.impala_client:loaded configuration file: /opt/anaconda3/lib/python3.7/site-packages/ailab_tools/config/ailab_tools_config.py\n",
      "INFO:ailab_tools.smn.impala_client:hosts : ['172.16.60.109']\n",
      "INFO:ailab_tools.smn.impala_client:impala_host : 172.16.60.109\n",
      "INFO:ailab_tools.smn.impala_client:impala_port : 21050\n",
      "INFO:ailab_tools.smn.impala_client:impala_user : vmspool\n",
      "INFO:ailab_tools.smn.impala_client:impala_password : \n",
      "INFO:ailab_tools.smn.impala_client:request_pool : vmspool\n",
      "INFO:ailab_tools.smn.impala_client:configuration : {'REQUEST_POOL': 'vmspool'}\n",
      "INFO:ailab_tools.smn.impala_resource:loaded configuration file: /opt/anaconda3/lib/python3.7/site-packages/ailab_tools/config/ailab_tools_config.py\n",
      "INFO:ailab_tools.smn.impala_resource:httpfs_host: hc3manager02.hc3pro\n",
      "INFO:ailab_tools.smn.impala_resource:httpfs_port: 14000\n",
      "INFO:impyla_service:Impala open connection OK. hostname = [172.16.60.109]\n",
      "INFO:impyla_service:New connection is opened.\n",
      "INFO:impyla_service:実行SQL: \n",
      "        insert overwrite table segment.samedevice_user_list_by_drawbridge\n",
      "        (\n",
      "        advertising_id\n",
      "        ,advertising_id_type\n",
      "        ,smn_uid\n",
      "        )\n",
      "        partition\n",
      "        (\n",
      "        create_date = '2019-09-14'\n",
      "        )\n",
      "        select *\n",
      "        from \n",
      "        segment.drawbridge_samedevice_list_2nd_20190904\n",
      "        \n",
      "INFO:impala.hiveserver2:Closing active operation\n",
      "INFO:impyla_service:Connection is closed.\n",
      "INFO:ailab_tools.utils.slack:loaded configuration file: /opt/anaconda3/lib/python3.7/site-packages/ailab_tools/config/ailab_tools_config.py\n",
      "INFO:ailab_tools.utils.slack:Slack: Posted a message to Slack.\n"
     ]
    }
   ],
   "source": [
    "%%slack_notify @yusuke_akada\n",
    "# 親テーブルにInsert\n",
    "\n",
    "date = '2019-09-14'\n",
    "\n",
    "with ImpalaResource(hosts=[\"172.16.60.109\"], port=21050, user='vmspool',\n",
    "                    request_pool='vmspool', httpfs_host='hc3manager02.hc3pro', httpfs_port=14000) as ir:\n",
    "    query = (\n",
    "        f\"\"\"\n",
    "        insert overwrite table {samedevice_fix_table}\n",
    "        (\n",
    "        advertising_id\n",
    "        ,advertising_id_type\n",
    "        ,smn_uid\n",
    "        )\n",
    "        partition\n",
    "        (\n",
    "        create_date = '{date}'\n",
    "        )\n",
    "        select *\n",
    "        from \n",
    "        {insert_table}\n",
    "        \"\"\"\n",
    "    )\n",
    "    ir.execute_query_no_ret(query) "
   ]
  }
 ],
 "metadata": {
  "kernelspec": {
   "display_name": "Python 3",
   "language": "python",
   "name": "python3"
  },
  "language_info": {
   "codemirror_mode": {
    "name": "ipython",
    "version": 3
   },
   "file_extension": ".py",
   "mimetype": "text/x-python",
   "name": "python",
   "nbconvert_exporter": "python",
   "pygments_lexer": "ipython3",
   "version": "3.7.4"
  }
 },
 "nbformat": 4,
 "nbformat_minor": 2
}
