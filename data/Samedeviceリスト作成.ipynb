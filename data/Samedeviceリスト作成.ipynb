{
 "cells": [
  {
   "cell_type": "code",
   "execution_count": null,
   "metadata": {},
   "outputs": [],
   "source": [
    "# ライブラリimport\n",
    "import argparse\n",
    "import logging\n",
    "import os\n",
    "\n",
    "import pandas as pd\n",
    "from pandas import DataFrame\n",
    "import pandas.tseries.offsets as offsets\n",
    "import numpy as np\n",
    "from datetime import date, timedelta, time, datetime\n",
    "from tabulate import tabulate\n",
    "\n",
    "from itertools import product\n",
    "\n",
    "from ailab_tools.smn import ImpalaResource\n",
    "from ailab_tools.utils import GMail, GSheet\n",
    "\n",
    "from collections import OrderedDict\n",
    "\n",
    "import zipfile\n",
    "import glob\n",
    "\n",
    "import gc\n",
    "\n",
    "from ailab_tools.magics import slack_notify"
   ]
  },
  {
   "cell_type": "code",
   "execution_count": null,
   "metadata": {},
   "outputs": [],
   "source": [
    "today_yymmdd = date.today().strftime(\"%y%m%d\")\n",
    "print(today_yymmdd)"
   ]
  },
  {
   "cell_type": "markdown",
   "metadata": {},
   "source": [
    "やりたいこと<br>\n",
    "・Samedeviceマッチングによって、smn_uidが不明なadvertising_idにsmn_uidを紐づけし、アプリ配信量を増やす<br>"
   ]
  },
  {
   "cell_type": "markdown",
   "metadata": {},
   "source": [
    "2019年6月5にもらったDrawbridgeリストでidfaを格納したリスト"
   ]
  },
  {
   "cell_type": "code",
   "execution_count": null,
   "metadata": {},
   "outputs": [],
   "source": [
    "db_idfa_table = \"segment.drawbridge_idfas\" \n",
    "print(db_idfa_table)"
   ]
  },
  {
   "cell_type": "markdown",
   "metadata": {},
   "source": [
    "2019年6月5日にもらったDrawbridgeリストでcookie_idを格納したリスト"
   ]
  },
  {
   "cell_type": "code",
   "execution_count": null,
   "metadata": {},
   "outputs": [],
   "source": [
    "db_cookie_table = \"segment.drawbridge_smn_uids\" \n",
    "print(db_cookie_table)"
   ]
  },
  {
   "cell_type": "code",
   "execution_count": null,
   "metadata": {},
   "outputs": [],
   "source": [
    "query = ( \n",
    "    f\"\"\"\n",
    "    select\n",
    "    count(smn_uid) as uu_smn_uid\n",
    "    from \n",
    "    {db_cookie_table}\n",
    "    \"\"\"\n",
    "    )\n",
    "with ImpalaResource(hosts=[\"172.16.60.109\"], port=21050, user='vmspool',\n",
    "                    request_pool='vmspool', httpfs_host='hc3manager02.hc3pro', httpfs_port=14000) as ir:\n",
    "        df_uid = ir.sql_to_pandas(query)"
   ]
  },
  {
   "cell_type": "code",
   "execution_count": null,
   "metadata": {},
   "outputs": [],
   "source": [
    "df_uid.head()/1000000 #1.7億レコード"
   ]
  },
  {
   "cell_type": "code",
   "execution_count": null,
   "metadata": {},
   "outputs": [],
   "source": [
    "query = ( \n",
    "    f\"\"\"\n",
    "    select\n",
    "    count(advertising_id) as uu_ad_id\n",
    "    from \n",
    "    {db_idfa_table}\n",
    "    \"\"\"\n",
    "    )\n",
    "with ImpalaResource(hosts=[\"172.16.60.109\"], port=21050, user='vmspool',\n",
    "                    request_pool='vmspool', httpfs_host='hc3manager02.hc3pro', httpfs_port=14000) as ir:\n",
    "        df_idfa = ir.sql_to_pandas(query)"
   ]
  },
  {
   "cell_type": "code",
   "execution_count": null,
   "metadata": {},
   "outputs": [],
   "source": [
    "df_idfa.head()/1000000 #4500万レコード"
   ]
  },
  {
   "cell_type": "code",
   "execution_count": null,
   "metadata": {},
   "outputs": [],
   "source": [
    "query = ( \n",
    "    f\"\"\"\n",
    "    select\n",
    "    count(distinct t1.drawbridge_consumer_id) as cnt_db_id\n",
    "    from \n",
    "    {db_idfa_table} t1\n",
    "    inner join \n",
    "    {db_cookie_table} t2\n",
    "    on t1.drawbridge_consumer_id = t2.drawbridge_consumer_id\n",
    "    where \n",
    "    smn_uid > 0 \n",
    "    and advertising_id is not null\n",
    "    \"\"\"\n",
    "    )\n",
    "with ImpalaResource(hosts=[\"172.16.60.109\"], port=21050, user='vmspool',\n",
    "                    request_pool='vmspool', httpfs_host='hc3manager02.hc3pro', httpfs_port=14000) as ir:\n",
    "        df_tmp = ir.sql_to_pandas(query)"
   ]
  },
  {
   "cell_type": "code",
   "execution_count": null,
   "metadata": {},
   "outputs": [],
   "source": [
    "df_tmp.head()/1000000"
   ]
  },
  {
   "cell_type": "markdown",
   "metadata": {},
   "source": [
    "↑smn_uidとadvertising_id両方を持っているユーザーは約1300万ユーザー"
   ]
  },
  {
   "cell_type": "code",
   "execution_count": null,
   "metadata": {},
   "outputs": [],
   "source": [
    "#両IDを持っている（セイムデバイスの可能性のある）Drawbridge_idリストを生成\n",
    "db_list = f\"dm_tmp.samedevice_userlist_190723\"\n",
    "print(db_list)"
   ]
  },
  {
   "cell_type": "code",
   "execution_count": null,
   "metadata": {},
   "outputs": [],
   "source": [
    "query = ( \n",
    "    f\"\"\"\n",
    "    select\n",
    "    distinct t1.drawbridge_consumer_id\n",
    "    from \n",
    "    {db_idfa_table} t1\n",
    "    inner join \n",
    "    {db_cookie_table} t2\n",
    "    on t1.drawbridge_consumer_id = t2.drawbridge_consumer_id\n",
    "    where \n",
    "    smn_uid > 0 \n",
    "    and advertising_id is not null\n",
    "    \"\"\"\n",
    "    )\n",
    "with ImpalaResource(hosts=[\"172.16.60.109\"], port=21050, user='vmspool',\n",
    "                    request_pool='vmspool', httpfs_host='hc3manager02.hc3pro', httpfs_port=14000) as ir:\n",
    "        df_db = ir.sql_to_pandas(query)\n",
    "        ir.upload_dataframe(db_list, df_db, ['string'])"
   ]
  },
  {
   "cell_type": "code",
   "execution_count": null,
   "metadata": {},
   "outputs": [],
   "source": []
  },
  {
   "cell_type": "markdown",
   "metadata": {},
   "source": [
    "紐づけが可能そうなadvertising_idリストを作成する"
   ]
  },
  {
   "cell_type": "code",
   "execution_count": null,
   "metadata": {},
   "outputs": [],
   "source": [
    "adid_list = f\"segment.ya_samedevice_adid_userlist_190723\"\n",
    "print(adid_list)"
   ]
  },
  {
   "cell_type": "markdown",
   "metadata": {},
   "source": [
    "ファイルが重くなるので、分割して実施して作成"
   ]
  },
  {
   "cell_type": "code",
   "execution_count": null,
   "metadata": {},
   "outputs": [],
   "source": [
    "%%slack_notify @yusuke_akada\n",
    "temp_table = \"dm_tmp.ya_temp_samedevice_190723\"    # 分割処理用のtemporary table 実行後dropされる\n",
    "\n",
    "\n",
    "with ImpalaResource(hosts=[\"172.16.60.109\"], port=21050, user='vmspool',\n",
    "                    request_pool='vmspool', httpfs_host='hc3manager02.hc3pro', httpfs_port=14000) as ir:\n",
    "\n",
    "    #まず空tableを作る\n",
    "    query = (\n",
    "        f\"\"\"\n",
    "        create table {adid_list}\n",
    "            (\n",
    "            drawbridge_consumer_id string,\n",
    "            advertising_id string,\n",
    "            type string\n",
    "            )\n",
    "        \n",
    "        partitioned by \n",
    "            (\n",
    "            block int\n",
    "            )\n",
    "        \n",
    "        stored as parquet\n",
    "        \"\"\"\n",
    "    )\n",
    "    \n",
    "    ir.execute_query_no_ret(query)    "
   ]
  },
  {
   "cell_type": "code",
   "execution_count": null,
   "metadata": {},
   "outputs": [],
   "source": [
    "# テキストファイル単体ごとに読込、DataFrame化\n",
    "for i in range(0,200):\n",
    "    # 親テーブルにInsert\n",
    "    query = (\n",
    "        f\"\"\"\n",
    "        insert overwrite table {adid_list}\n",
    "        (\n",
    "        drawbridge_consumer_id,\n",
    "        advertising_id,\n",
    "        type\n",
    "        )\n",
    "\n",
    "        partition\n",
    "        (\n",
    "        block = {i}\n",
    "        )\n",
    "        \n",
    "        select\n",
    "        drawbridge_consumer_id,\n",
    "        advertising_id,\n",
    "        type\n",
    "        from \n",
    "        segment.drawbridge_idfas\n",
    "        where\n",
    "        block = {i} \n",
    "        and drawbridge_consumer_id in (select drawbridge_consumer_id from {db_list})\n",
    "                \n",
    "        \"\"\"\n",
    "        )\n",
    "    ir.execute_query_no_ret(query) "
   ]
  },
  {
   "cell_type": "code",
   "execution_count": null,
   "metadata": {},
   "outputs": [],
   "source": [
    "query = ( \n",
    "    f\"\"\"\n",
    "    select\n",
    "    count(advertising_id) as ad_id\n",
    "    from \n",
    "    {adid_list}\n",
    "    \"\"\"\n",
    "    )\n",
    "with ImpalaResource(hosts=[\"172.16.60.109\"], port=21050, user='vmspool',\n",
    "                    request_pool='vmspool', httpfs_host='hc3manager02.hc3pro', httpfs_port=14000) as ir:\n",
    "        df_adid = ir.sql_to_pandas(query)"
   ]
  },
  {
   "cell_type": "code",
   "execution_count": null,
   "metadata": {},
   "outputs": [],
   "source": [
    "df_adid/1000000"
   ]
  },
  {
   "cell_type": "code",
   "execution_count": null,
   "metadata": {},
   "outputs": [],
   "source": [
    "#↑セイムデバイスの可能性のあるadvertising_id = 36852179"
   ]
  },
  {
   "cell_type": "markdown",
   "metadata": {},
   "source": [
    "紐づけが可能そうなsmn_uidリストを作成する"
   ]
  },
  {
   "cell_type": "code",
   "execution_count": null,
   "metadata": {},
   "outputs": [],
   "source": [
    "uid_list = f\"segment.ya_samedevice_smn_uid_userlist_190723\"\n",
    "print(uid_list)"
   ]
  },
  {
   "cell_type": "markdown",
   "metadata": {},
   "source": [
    "ファイルが重くなるので、分割して実施する"
   ]
  },
  {
   "cell_type": "code",
   "execution_count": null,
   "metadata": {},
   "outputs": [],
   "source": [
    "%%slack_notify @yusuke_akada\n",
    "temp_table = \"dm_tmp.ya_temp_samedevice_190723\"    # 分割処理用のtemporary table 実行後dropされる\n",
    "\n",
    "\n",
    "with ImpalaResource(hosts=[\"172.16.60.109\"], port=21050, user='vmspool',\n",
    "                    request_pool='vmspool', httpfs_host='hc3manager02.hc3pro', httpfs_port=14000) as ir:\n",
    "\n",
    "    #まず空tableを作る\n",
    "    query = (\n",
    "        f\"\"\"\n",
    "        create table {uid_list}\n",
    "            (\n",
    "            drawbridge_consumer_id string,\n",
    "            smn_uid bigint,\n",
    "            type string\n",
    "            )\n",
    "        \n",
    "        partitioned by \n",
    "            (\n",
    "            block int\n",
    "            )\n",
    "        \n",
    "        stored as parquet\n",
    "        \"\"\"\n",
    "    )\n",
    "    \n",
    "    ir.execute_query_no_ret(query)    "
   ]
  },
  {
   "cell_type": "code",
   "execution_count": null,
   "metadata": {},
   "outputs": [],
   "source": [
    "%%slack_notify @yusuke_akada\n",
    "# テキストファイル単体ごとに読込、DataFrame化\n",
    "for i in range(0,200):\n",
    "    # 親テーブルにInsert\n",
    "    query = (\n",
    "        f\"\"\"\n",
    "        insert overwrite table {uid_list}\n",
    "        (\n",
    "        drawbridge_consumer_id,\n",
    "        smn_uid,\n",
    "        type\n",
    "        )\n",
    "\n",
    "        partition\n",
    "        (\n",
    "        block = {i}\n",
    "        )\n",
    "        \n",
    "        select\n",
    "        drawbridge_consumer_id,\n",
    "        smn_uid,\n",
    "        type\n",
    "        from \n",
    "        segment.drawbridge_smn_uids\n",
    "        where\n",
    "        block = {i} \n",
    "        and drawbridge_consumer_id in (select drawbridge_consumer_id from {db_list})\n",
    "                \n",
    "        \"\"\"\n",
    "        )\n",
    "    ir.execute_query_no_ret(query) "
   ]
  },
  {
   "cell_type": "code",
   "execution_count": null,
   "metadata": {},
   "outputs": [],
   "source": [
    "query = ( \n",
    "    f\"\"\"\n",
    "    select\n",
    "    count(smn_uid) as uid\n",
    "    from \n",
    "    {uid_list}\n",
    "    \"\"\"\n",
    "    )\n",
    "with ImpalaResource(hosts=[\"172.16.60.109\"], port=21050, user='vmspool',\n",
    "                    request_pool='vmspool', httpfs_host='hc3manager02.hc3pro', httpfs_port=14000) as ir:\n",
    "        df_uid = ir.sql_to_pandas(query)"
   ]
  },
  {
   "cell_type": "code",
   "execution_count": null,
   "metadata": {},
   "outputs": [],
   "source": [
    "df_uid/1000000"
   ]
  },
  {
   "cell_type": "code",
   "execution_count": null,
   "metadata": {},
   "outputs": [],
   "source": [
    "#↑セイムデバイスの可能性のあるsmn_uid = 117692826"
   ]
  },
  {
   "cell_type": "code",
   "execution_count": null,
   "metadata": {},
   "outputs": [],
   "source": []
  },
  {
   "cell_type": "code",
   "execution_count": null,
   "metadata": {},
   "outputs": [],
   "source": []
  },
  {
   "cell_type": "code",
   "execution_count": null,
   "metadata": {},
   "outputs": [],
   "source": []
  },
  {
   "cell_type": "code",
   "execution_count": null,
   "metadata": {},
   "outputs": [],
   "source": []
  },
  {
   "cell_type": "code",
   "execution_count": null,
   "metadata": {},
   "outputs": [],
   "source": [
    "#とある一日分リクエストを参照\n",
    "#smn_uidが不明なadvertising_idからのリクエスト数"
   ]
  },
  {
   "cell_type": "code",
   "execution_count": null,
   "metadata": {},
   "outputs": [],
   "source": [
    "query = ( \n",
    "    f\"\"\"\n",
    "    select \n",
    "    count(distinct advertising_id) as uu\n",
    "    from dsplog.bid_response\n",
    "    where \n",
    "    concat_ws('-',year,month,day) = '2019-07-22'\n",
    "    and advertising_id is not null\n",
    "    and smn_uid is null\n",
    "    and user_agent_os_family in('Android','iOS')\n",
    "    and is_app = True\n",
    "    \"\"\"\n",
    "    )\n",
    "with ImpalaResource(hosts=[\"172.16.60.109\"], port=21050, user='vmspool',\n",
    "                    request_pool='vmspool', httpfs_host='hc3manager02.hc3pro', httpfs_port=14000) as ir:\n",
    "        df_adid = ir.sql_to_pandas(query)"
   ]
  },
  {
   "cell_type": "code",
   "execution_count": null,
   "metadata": {},
   "outputs": [],
   "source": [
    "df_adid.head()/1000000"
   ]
  },
  {
   "cell_type": "code",
   "execution_count": null,
   "metadata": {},
   "outputs": [],
   "source": [
    "#smn_uidが不明なadvertising_idからのリクエスト約2200万"
   ]
  },
  {
   "cell_type": "code",
   "execution_count": null,
   "metadata": {},
   "outputs": [],
   "source": [
    "#Drawbridgeのリストでどれだけ判明できる余地があるか？"
   ]
  },
  {
   "cell_type": "code",
   "execution_count": null,
   "metadata": {},
   "outputs": [],
   "source": [
    "query = ( \n",
    "    f\"\"\"\n",
    "    select \n",
    "    count(distinct advertising_id) as uu\n",
    "    from dsplog.bid_response\n",
    "    where \n",
    "    concat_ws('-',year,month,day) = '2019-07-22'\n",
    "    and advertising_id is not null\n",
    "    and smn_uid is null\n",
    "    and user_agent_os_family in('Android','iOS')\n",
    "    and is_app = True\n",
    "    and advertising_id in (select advertising_id from segment.ya_samedevice_adid_userlist_190723)\n",
    "    \"\"\"\n",
    "    )\n",
    "with ImpalaResource(hosts=[\"172.16.60.109\"], port=21050, user='vmspool',\n",
    "                    request_pool='vmspool', httpfs_host='hc3manager02.hc3pro', httpfs_port=14000) as ir:\n",
    "        df_adid2 = ir.sql_to_pandas(query)"
   ]
  },
  {
   "cell_type": "code",
   "execution_count": null,
   "metadata": {},
   "outputs": [],
   "source": [
    "df_adid2.head()/1000000"
   ]
  },
  {
   "cell_type": "code",
   "execution_count": null,
   "metadata": {},
   "outputs": [],
   "source": [
    "#Drawbridgeのデータを使うことで判明できる候補は約570万ID →　25％"
   ]
  },
  {
   "cell_type": "code",
   "execution_count": null,
   "metadata": {},
   "outputs": [],
   "source": [
    "df_adid2.head()/df_adid.head()"
   ]
  },
  {
   "cell_type": "code",
   "execution_count": null,
   "metadata": {},
   "outputs": [],
   "source": []
  },
  {
   "cell_type": "code",
   "execution_count": null,
   "metadata": {},
   "outputs": [],
   "source": [
    "#2.上記1のユーザーをsmn_uidベースとanidベースでbid_responseを参照する。"
   ]
  },
  {
   "cell_type": "markdown",
   "metadata": {},
   "source": [
    "idfa_idベースで"
   ]
  },
  {
   "cell_type": "code",
   "execution_count": null,
   "metadata": {},
   "outputs": [],
   "source": [
    "uid_table = \"segment.ya_db_req_idfa_190723\"   # idfaリストの最終的な対応table\n",
    "temp_table = \"dm_tmp.ya_temp_db_sample\"    # 分割処理用のtemporary table 実行後drop"
   ]
  },
  {
   "cell_type": "code",
   "execution_count": null,
   "metadata": {},
   "outputs": [],
   "source": [
    "with ImpalaResource(hosts=[\"172.16.60.109\"], port=21050, user='vmspool',\n",
    "                    request_pool='vmspool', httpfs_host='hc3manager02.hc3pro', httpfs_port=14000) as ir:\n",
    "    #まず空tableを作る\n",
    "    query = (\n",
    "        f\"\"\"\n",
    "        create table {uid_table}\n",
    "            (\n",
    "            advertising_id string\n",
    "            ,smn_uid bigint\n",
    "            ,drawbridge_consumer_id string\n",
    "            ,user_agent_os_family string\n",
    "            ,user_agent_device_family string\n",
    "            ,user_agent_browser_family string\n",
    "            ,user_agent_os_major string\n",
    "            ,user_agent_os_minor string\n",
    "            ,block int\n",
    "            )\n",
    "            \n",
    "            partitioned by \n",
    "            (\n",
    "            yymmdd string\n",
    "            ,sample_size int\n",
    "            )\n",
    "        \n",
    "        stored as parquet\n",
    "        \"\"\"\n",
    "    )\n",
    "    \n",
    "    ir.execute_query_no_ret(query) "
   ]
  },
  {
   "cell_type": "code",
   "execution_count": null,
   "metadata": {},
   "outputs": [],
   "source": [
    "# 親テーブルにInsert\n",
    "with ImpalaResource(hosts=[\"172.16.60.109\"], port=21050, user='vmspool',\n",
    "                    request_pool='vmspool', httpfs_host='hc3manager02.hc3pro', httpfs_port=14000) as ir:\n",
    "    for i in range(0,200):\n",
    "        for d in range(1,2):\n",
    "            query = (\n",
    "                f\"\"\"\n",
    "                insert overwrite table {uid_table}\n",
    "                (\n",
    "                advertising_id,\n",
    "                smn_uid,\n",
    "                drawbridge_consumer_id,\n",
    "                user_agent_os_family,\n",
    "                user_agent_device_family,\n",
    "                user_agent_browser_family,\n",
    "                user_agent_os_major,\n",
    "                user_agent_os_minor,\n",
    "                block\n",
    "                )\n",
    "                partition\n",
    "                (\n",
    "                yymmdd = to_date(days_add(now(),-{d}))\n",
    "                ,sample_size = {i}\n",
    "                )\n",
    "                select\n",
    "                distinct t1.advertising_id\n",
    "                ,t1.smn_uid\n",
    "                ,drawbridge_consumer_id\n",
    "                ,user_agent_os_family\n",
    "                ,user_agent_device_family\n",
    "                ,user_agent_browser_family\n",
    "                ,user_agent_os_major\n",
    "                ,user_agent_os_minor\n",
    "                ,block\n",
    "                from\n",
    "                dsplog.bid_response t1\n",
    "                inner join \n",
    "                segment.ya_samedevice_adid_userlist_190723 t2\n",
    "                on t1.advertising_id = t2.advertising_id\n",
    "                where \n",
    "                concat_ws('-',year,month,day) between to_date(days_add(now(),-{d})) and to_date(days_add(now(),-{d})) \n",
    "                and user_agent_os_family in('Android','iOS')\n",
    "                and is_app = True\n",
    "                and t1.advertising_id is not null\n",
    "                and t1.smn_uid is null\n",
    "                and block = {i}\n",
    "                \"\"\"\n",
    "            )\n",
    "            ir.execute_query_no_ret(query) "
   ]
  },
  {
   "cell_type": "code",
   "execution_count": null,
   "metadata": {},
   "outputs": [],
   "source": [
    "query = (\n",
    "    f\"\"\"\n",
    "    select\n",
    "    count(distinct advertising_id) as adid_uu\n",
    "    from \n",
    "    dm_tmp.ya_db_req_idfa\n",
    "    \"\"\"\n",
    "    )\n",
    "\n",
    "with ImpalaResource(hosts=[\"172.16.60.109\"], port=21050, user='vmspool',\n",
    "                    request_pool='vmspool', httpfs_host='hc3manager02.hc3pro', httpfs_port=14000) as ir:\n",
    "    df_tmp_adid = ir.sql_to_pandas(query)"
   ]
  },
  {
   "cell_type": "code",
   "execution_count": null,
   "metadata": {},
   "outputs": [],
   "source": [
    "df_tmp_adid.head()"
   ]
  },
  {
   "cell_type": "markdown",
   "metadata": {},
   "source": [
    "cookie_idベースで"
   ]
  },
  {
   "cell_type": "code",
   "execution_count": null,
   "metadata": {},
   "outputs": [],
   "source": [
    "uid_table = \"segment.ya_db_req_smnuid_190723\"   # idfaリストの最終的な対応table\n",
    "temp_table = \"dm_tmp.ya_temp_db_sample\"    # 分割処理用のtemporary table 実行後drop"
   ]
  },
  {
   "cell_type": "code",
   "execution_count": null,
   "metadata": {},
   "outputs": [],
   "source": [
    "with ImpalaResource(hosts=[\"172.16.60.109\"], port=21050, user='vmspool',\n",
    "                    request_pool='vmspool', httpfs_host='hc3manager02.hc3pro', httpfs_port=14000) as ir:\n",
    "    #まず空tableを作る\n",
    "    query = (\n",
    "        f\"\"\"\n",
    "        create table {uid_table}\n",
    "            (\n",
    "            smn_uid bigint\n",
    "            ,advertising_id string\n",
    "            ,drawbridge_consumer_id string\n",
    "            ,user_agent_os_family string\n",
    "            ,user_agent_device_family string\n",
    "            ,user_agent_browser_family string\n",
    "            ,user_agent_os_major string\n",
    "            ,user_agent_os_minor string\n",
    "            ,block int\n",
    "            )\n",
    "            \n",
    "            partitioned by \n",
    "            (\n",
    "            yymmdd string\n",
    "            ,sample_size int\n",
    "            )\n",
    "        \n",
    "        stored as parquet\n",
    "        \"\"\"\n",
    "    )\n",
    "    \n",
    "    ir.execute_query_no_ret(query) "
   ]
  },
  {
   "cell_type": "code",
   "execution_count": null,
   "metadata": {},
   "outputs": [],
   "source": [
    "%%slack_notify @yusuke_akada\n",
    "# 親テーブルにInsert\n",
    "for i in range(0,200):\n",
    "    for d in range(1,2):\n",
    "        with ImpalaResource(hosts=[\"172.16.60.109\"], port=21050, user='vmspool',\n",
    "                            request_pool='vmspool', httpfs_host='hc3manager02.hc3pro', httpfs_port=14000) as ir:\n",
    "            query = (\n",
    "                f\"\"\"\n",
    "                insert overwrite table {uid_table}\n",
    "                (\n",
    "                smn_uid,\n",
    "                advertising_id,\n",
    "                drawbridge_consumer_id,\n",
    "                user_agent_os_family,\n",
    "                user_agent_device_family,\n",
    "                user_agent_browser_family,\n",
    "                user_agent_os_major,\n",
    "                user_agent_os_minor,\n",
    "                block\n",
    "                )\n",
    "                partition\n",
    "                (\n",
    "                yymmdd = to_date(days_add(now(),-{d}))\n",
    "                ,sample_size = {i}\n",
    "                )\n",
    "                select\n",
    "                distinct t1.smn_uid\n",
    "                ,t1.advertising_id\n",
    "                ,drawbridge_consumer_id\n",
    "                ,user_agent_os_family\n",
    "                ,user_agent_device_family\n",
    "                ,user_agent_browser_family\n",
    "                ,block\n",
    "                from\n",
    "                dsplog.bid_response t1\n",
    "                inner join \n",
    "                segment.ya_samedevice_smn_uid_userlist_190723 t2\n",
    "                on t1.smn_uid = t2.smn_uid\n",
    "                where \n",
    "                concat_ws('-',year,month,day) between to_date(days_add(now(),-{d})) and to_date(days_add(now(),-{d})) \n",
    "                and user_agent_os_family in('Android','iOS')\n",
    "                and t1.smn_uid is not null\n",
    "                and t1.advertising_id is null\n",
    "                and block = {i}\n",
    "                \"\"\"\n",
    "            )\n",
    "            ir.execute_query_no_ret(query) "
   ]
  },
  {
   "cell_type": "code",
   "execution_count": null,
   "metadata": {},
   "outputs": [],
   "source": [
    "query = (\n",
    "    f\"\"\"\n",
    "    select\n",
    "    count(distinct smn_uid) as smn_uid_uu\n",
    "    from \n",
    "    dm_tmp.ya_db_req_smnuidbase\n",
    "    \"\"\"\n",
    "    )\n",
    "\n",
    "with ImpalaResource(hosts=[\"172.16.60.109\"], port=21050, user='vmspool',\n",
    "                    request_pool='vmspool', httpfs_host='hc3manager02.hc3pro', httpfs_port=14000) as ir:\n",
    "    df_tmp_uid = ir.sql_to_pandas(query)"
   ]
  },
  {
   "cell_type": "code",
   "execution_count": null,
   "metadata": {},
   "outputs": [],
   "source": [
    "df_tmp_uid.head()"
   ]
  },
  {
   "cell_type": "markdown",
   "metadata": {},
   "source": [
    "↓smn_uidが不明なidfaユーザーリストに対し、紐づけする"
   ]
  },
  {
   "cell_type": "markdown",
   "metadata": {},
   "source": [
    "%%slack_notify @yusuke_akada\n",
    "query = ( \n",
    "    f\"\"\"\n",
    "    select\n",
    "    count(distinct t1.advertising_id) as uu\n",
    "    from \n",
    "    dm_tmp.ya_db_req_idfa t1\n",
    "    inner join \n",
    "    dm_tmp.ya_db_req_smnuidbase t2\n",
    "    on t1.drawbridge_consumer_id = t2.drawbridge_consumer_id\n",
    "    and t1.user_agent_os_family = t2.user_agent_os_family\n",
    "    and t1.user_agent_device_family = t2.user_agent_device_family\n",
    "    and t1.yymmdd = t2.yymmdd\n",
    "    \"\"\"\n",
    ")\n",
    "with ImpalaResource(hosts=[\"172.16.60.109\"], port=21050, user='vmspool',\n",
    "                    request_pool='vmspool', httpfs_host='hc3manager02.hc3pro', httpfs_port=14000) as ir:\n",
    "        df_merge =  ir.sql_to_pandas(query)"
   ]
  },
  {
   "cell_type": "code",
   "execution_count": null,
   "metadata": {},
   "outputs": [],
   "source": [
    "df_merge.head()"
   ]
  },
  {
   "cell_type": "code",
   "execution_count": null,
   "metadata": {},
   "outputs": [],
   "source": [
    "df_tmp_adid.head()"
   ]
  },
  {
   "cell_type": "code",
   "execution_count": null,
   "metadata": {},
   "outputs": [],
   "source": [
    "#1日分のマージだと46％（24342/52759）のみマッチング"
   ]
  },
  {
   "cell_type": "code",
   "execution_count": null,
   "metadata": {},
   "outputs": [],
   "source": [
    "#1週間のマージだと54％（56056/102524）のみマッチング"
   ]
  },
  {
   "cell_type": "code",
   "execution_count": null,
   "metadata": {},
   "outputs": [],
   "source": []
  },
  {
   "cell_type": "code",
   "execution_count": null,
   "metadata": {},
   "outputs": [],
   "source": []
  },
  {
   "cell_type": "markdown",
   "metadata": {},
   "source": [
    "セイムデバイス済みテーブルを作成する"
   ]
  },
  {
   "cell_type": "code",
   "execution_count": null,
   "metadata": {},
   "outputs": [],
   "source": []
  },
  {
   "cell_type": "code",
   "execution_count": null,
   "metadata": {},
   "outputs": [],
   "source": [
    "uid_table = \"segment.samedevice_user_list_1906\"   # idfaリストの最終的な対応table\n",
    "temp_table = \"dm_tmp.ya_samedevice\"    # 分割処理用のtemporary table 実行後drop\n",
    "\n",
    "with ImpalaResource(hosts=[\"172.16.60.109\"], port=21050, user='vmspool',\n",
    "                    request_pool='vmspool', httpfs_host='hc3manager02.hc3pro', httpfs_port=14000) as ir:\n",
    "    #まず空tableを作る\n",
    "    query = (\n",
    "        f\"\"\"\n",
    "        create table {uid_table}\n",
    "            (\n",
    "            advertising_id string\n",
    "            ,smn_uid bigint\n",
    "            ,drawbridge_consumer_id string\n",
    "            )\n",
    "            \n",
    "            partitioned by \n",
    "            (\n",
    "            block_no int\n",
    "            )\n",
    "        \n",
    "        stored as parquet\n",
    "        \"\"\"\n",
    "    )\n",
    "    \n",
    "    ir.execute_query_no_ret(query) "
   ]
  },
  {
   "cell_type": "code",
   "execution_count": null,
   "metadata": {},
   "outputs": [],
   "source": [
    "%%slack_notify @yusuke_akada\n",
    "# 親テーブルにInsert\n",
    "for i in range(0,200):\n",
    "    with ImpalaResource(hosts=[\"172.16.60.109\"], port=21050, user='vmspool',\n",
    "                    request_pool='vmspool', httpfs_host='hc3manager02.hc3pro', httpfs_port=14000) as ir:\n",
    "        query = (\n",
    "            f\"\"\"\n",
    "            insert overwrite table {uid_table}\n",
    "            (\n",
    "            advertising_id,\n",
    "            smn_uid,\n",
    "            drawbridge_consumer_id\n",
    "            )\n",
    "            partition\n",
    "            (\n",
    "            block_no = {i}\n",
    "            )\n",
    "            select\n",
    "            distinct t1.advertising_id\n",
    "            ,t2.smn_uid\n",
    "            ,t1.yymmdd\n",
    "            from \n",
    "            dm_tmp.ya_db_req_idfa_190626 t1\n",
    "            inner join \n",
    "            dm_tmp.ya_db_req_smnuid_190626 t2\n",
    "            on t1.drawbridge_consumer_id = t2.drawbridge_consumer_id\n",
    "            and t1.user_agent_os_family = t2.user_agent_os_family\n",
    "            and t1.user_agent_device_family = t2.user_agent_device_family\n",
    "            /*and t1.yymmdd = t2.yymmdd*/\n",
    "            and t1.sample_size = {i}\n",
    "            and t2.sample_size = {i}\n",
    "            \"\"\"\n",
    "        )\n",
    "        ir.execute_query_no_ret(query) "
   ]
  },
  {
   "cell_type": "code",
   "execution_count": null,
   "metadata": {},
   "outputs": [],
   "source": []
  },
  {
   "cell_type": "code",
   "execution_count": null,
   "metadata": {},
   "outputs": [],
   "source": []
  },
  {
   "cell_type": "code",
   "execution_count": null,
   "metadata": {},
   "outputs": [],
   "source": []
  },
  {
   "cell_type": "code",
   "execution_count": null,
   "metadata": {},
   "outputs": [],
   "source": []
  },
  {
   "cell_type": "code",
   "execution_count": null,
   "metadata": {},
   "outputs": [],
   "source": []
  },
  {
   "cell_type": "code",
   "execution_count": null,
   "metadata": {},
   "outputs": [],
   "source": []
  },
  {
   "cell_type": "code",
   "execution_count": null,
   "metadata": {},
   "outputs": [],
   "source": []
  },
  {
   "cell_type": "code",
   "execution_count": null,
   "metadata": {},
   "outputs": [],
   "source": []
  },
  {
   "cell_type": "code",
   "execution_count": null,
   "metadata": {},
   "outputs": [],
   "source": []
  },
  {
   "cell_type": "code",
   "execution_count": null,
   "metadata": {},
   "outputs": [],
   "source": []
  },
  {
   "cell_type": "code",
   "execution_count": null,
   "metadata": {},
   "outputs": [],
   "source": []
  },
  {
   "cell_type": "code",
   "execution_count": null,
   "metadata": {},
   "outputs": [],
   "source": []
  },
  {
   "cell_type": "code",
   "execution_count": null,
   "metadata": {},
   "outputs": [],
   "source": []
  },
  {
   "cell_type": "code",
   "execution_count": null,
   "metadata": {},
   "outputs": [],
   "source": []
  },
  {
   "cell_type": "code",
   "execution_count": null,
   "metadata": {},
   "outputs": [],
   "source": [
    "#2.上記1のユーザーをsmn_uidベースとanidベースでbid_responseを参照する。"
   ]
  },
  {
   "cell_type": "markdown",
   "metadata": {},
   "source": [
    "idfa_idベースで"
   ]
  },
  {
   "cell_type": "code",
   "execution_count": null,
   "metadata": {},
   "outputs": [],
   "source": [
    "uid_table = \"dm_tmp.ya_db_req_idfa_190626\"   # idfaリストの最終的な対応table\n",
    "temp_table = \"dm_tmp.ya_temp_db_sample\"    # 分割処理用のtemporary table 実行後drop"
   ]
  },
  {
   "cell_type": "markdown",
   "metadata": {},
   "source": [
    "with ImpalaResource(hosts=[\"172.16.60.109\"], port=21050, user='vmspool',\n",
    "                    request_pool='vmspool', httpfs_host='hc3manager02.hc3pro', httpfs_port=14000) as ir:\n",
    "    #まず空tableを作る\n",
    "    query = (\n",
    "        f\"\"\"\n",
    "        create table {uid_table}\n",
    "            (\n",
    "            advertising_id string\n",
    "            ,smn_uid bigint\n",
    "            ,drawbridge_consumer_id string\n",
    "            ,user_agent_os_family string\n",
    "            ,user_agent_device_family string\n",
    "            ,user_agent_browser_family string\n",
    "            ,block int\n",
    "            )\n",
    "            \n",
    "            partitioned by \n",
    "            (\n",
    "            yymmdd string\n",
    "            ,sample_size int\n",
    "            )\n",
    "        \n",
    "        stored as parquet\n",
    "        \"\"\"\n",
    "    )\n",
    "    \n",
    "    ir.execute_query_no_ret(query) "
   ]
  },
  {
   "cell_type": "code",
   "execution_count": null,
   "metadata": {},
   "outputs": [],
   "source": [
    "%%slack_notify @yusuke_akada\n",
    "# 親テーブルにInsert\n",
    "for i in range(0,200):\n",
    "    with ImpalaResource(hosts=[\"172.16.60.109\"], port=21050, user='vmspool',\n",
    "                        request_pool='vmspool', httpfs_host='hc3manager02.hc3pro', httpfs_port=14000) as ir:\n",
    "        query = (\n",
    "            f\"\"\"\n",
    "            insert overwrite table {uid_table}\n",
    "            (\n",
    "            advertising_id,\n",
    "            smn_uid,\n",
    "            drawbridge_consumer_id,\n",
    "            user_agent_os_family,\n",
    "            user_agent_device_family,\n",
    "            user_agent_browser_family,\n",
    "            block\n",
    "            )\n",
    "            partition\n",
    "            (\n",
    "            yymmdd = to_date(days_add(now(),-1))\n",
    "            ,sample_size = {i}\n",
    "            )\n",
    "            select\n",
    "            distinct t1.advertising_id\n",
    "            ,t1.smn_uid\n",
    "            ,drawbridge_consumer_id\n",
    "            ,t1.user_agent_os_family\n",
    "            ,t1.user_agent_device_family\n",
    "            ,t1.user_agent_browser_family\n",
    "            ,block\n",
    "            from\n",
    "            dsplog.bid_response t1\n",
    "            inner join \n",
    "            dm_tmp.samedevice_adid_userlist_190621 t2\n",
    "            on t1.advertising_id = t2.advertising_id\n",
    "            where \n",
    "            concat_ws('-',year,month,day) between to_date(days_add(now(),-1)) and to_date(days_add(now(),-1)) \n",
    "            and user_agent_os_family in('Android','iOS')\n",
    "            and is_app = True\n",
    "            and t1.advertising_id is not null\n",
    "            and t1.smn_uid is null\n",
    "            and block = {i}\n",
    "            \"\"\"\n",
    "        )\n",
    "        ir.execute_query_no_ret(query) "
   ]
  },
  {
   "cell_type": "markdown",
   "metadata": {},
   "source": [
    "cookie_idベースで"
   ]
  },
  {
   "cell_type": "code",
   "execution_count": null,
   "metadata": {},
   "outputs": [],
   "source": [
    "uid_table = \"dm_tmp.ya_db_req_smnuid_190626\"   # idfaリストの最終的な対応table\n",
    "temp_table = \"dm_tmp.ya_temp_db_sample\"    # 分割処理用のtemporary table 実行後drop"
   ]
  },
  {
   "cell_type": "markdown",
   "metadata": {},
   "source": [
    "with ImpalaResource(hosts=[\"172.16.60.109\"], port=21050, user='vmspool',\n",
    "                    request_pool='vmspool', httpfs_host='hc3manager02.hc3pro', httpfs_port=14000) as ir:\n",
    "    #まず空tableを作る\n",
    "    query = (\n",
    "        f\"\"\"\n",
    "        create table {uid_table}\n",
    "            (\n",
    "            smn_uid bigint\n",
    "            ,advertising_id string\n",
    "            ,drawbridge_consumer_id string\n",
    "            ,user_agent_os_family string\n",
    "            ,user_agent_device_family string\n",
    "            ,user_agent_browser_family string\n",
    "            ,block int\n",
    "            )\n",
    "            \n",
    "            partitioned by \n",
    "            (\n",
    "            yymmdd string\n",
    "            ,sample_size int\n",
    "            )\n",
    "        \n",
    "        stored as parquet\n",
    "        \"\"\"\n",
    "    )\n",
    "    \n",
    "    ir.execute_query_no_ret(query) "
   ]
  },
  {
   "cell_type": "code",
   "execution_count": null,
   "metadata": {},
   "outputs": [],
   "source": [
    "%%slack_notify @yusuke_akada\n",
    "# 親テーブルにInsert\n",
    "for i in range(0,200):\n",
    "    with ImpalaResource(hosts=[\"172.16.60.109\"], port=21050, user='vmspool',\n",
    "                        request_pool='vmspool', httpfs_host='hc3manager02.hc3pro', httpfs_port=14000) as ir:\n",
    "        query = (\n",
    "            f\"\"\"\n",
    "            insert overwrite table {uid_table}\n",
    "            (\n",
    "            smn_uid,\n",
    "            advertising_id,\n",
    "            drawbridge_consumer_id,\n",
    "            user_agent_os_family,\n",
    "            user_agent_device_family,\n",
    "            user_agent_browser_family,\n",
    "            block\n",
    "            )\n",
    "            partition\n",
    "            (\n",
    "            yymmdd = to_date(days_add(now(),-1))\n",
    "            ,sample_size = {i}\n",
    "            )\n",
    "            select\n",
    "            distinct t1.smn_uid\n",
    "            ,t1.advertising_id\n",
    "            ,drawbridge_consumer_id\n",
    "            ,user_agent_os_family\n",
    "            ,user_agent_device_family\n",
    "            ,user_agent_browser_family\n",
    "            ,block\n",
    "            from\n",
    "            dsplog.bid_response t1\n",
    "            inner join \n",
    "            dm_tmp.samedevice_smn_uid_userlist_190621 t2\n",
    "            on t1.smn_uid = t2.smn_uid\n",
    "            where \n",
    "            concat_ws('-',year,month,day) between to_date(days_add(now(),-1)) and to_date(days_add(now(),-1)) \n",
    "            and user_agent_os_family in('Android','iOS')\n",
    "            and t1.smn_uid is not null\n",
    "            and t1.advertising_id is null\n",
    "            and block = {i}\n",
    "            \"\"\"\n",
    "        )\n",
    "        ir.execute_query_no_ret(query) "
   ]
  },
  {
   "cell_type": "code",
   "execution_count": null,
   "metadata": {},
   "outputs": [],
   "source": []
  },
  {
   "cell_type": "markdown",
   "metadata": {},
   "source": [
    "セイムデバイス済みテーブルを作成する"
   ]
  },
  {
   "cell_type": "code",
   "execution_count": null,
   "metadata": {},
   "outputs": [],
   "source": [
    "uid_table = \"segment.samedevice_user_list_190626\"   # idfaリストの最終的な対応table\n",
    "temp_table = \"dm_tmp.ya_samedevice\"    # 分割処理用のtemporary table 実行後drop"
   ]
  },
  {
   "cell_type": "markdown",
   "metadata": {},
   "source": [
    "with ImpalaResource(hosts=[\"172.16.60.109\"], port=21050, user='vmspool',\n",
    "                    request_pool='vmspool', httpfs_host='hc3manager02.hc3pro', httpfs_port=14000) as ir:\n",
    "    #まず空tableを作る\n",
    "    query = (\n",
    "        f\"\"\"\n",
    "        create table {uid_table}\n",
    "            (\n",
    "            advertising_id string\n",
    "            ,smn_uid bigint\n",
    "            ,drawbridge_consumer_id string\n",
    "            ,yymmdd string\n",
    "            )\n",
    "            \n",
    "            partitioned by \n",
    "            (\n",
    "            block_no int\n",
    "            )\n",
    "        \n",
    "        stored as parquet\n",
    "        \"\"\"\n",
    "    )\n",
    "    \n",
    "    ir.execute_query_no_ret(query) "
   ]
  },
  {
   "cell_type": "code",
   "execution_count": null,
   "metadata": {},
   "outputs": [],
   "source": [
    "%%slack_notify @yusuke_akada\n",
    "# 親テーブルにInsert\n",
    "for i in range(0,200):\n",
    "    with ImpalaResource(hosts=[\"172.16.60.109\"], port=21050, user='vmspool',\n",
    "                        request_pool='vmspool', httpfs_host='hc3manager02.hc3pro', httpfs_port=14000) as ir:\n",
    "        query = (\n",
    "            f\"\"\"\n",
    "            insert overwrite table {uid_table}\n",
    "            (\n",
    "            advertising_id,\n",
    "            smn_uid,\n",
    "            drawbridge_consumer_id,\n",
    "            yymmdd\n",
    "            )\n",
    "            partition\n",
    "            (\n",
    "            block_no = {i}\n",
    "            )\n",
    "            select\n",
    "            distinct t1.advertising_id\n",
    "            ,t2.smn_uid\n",
    "            ,t1.drawbridge_consumer_id\n",
    "            ,t1.yymmdd\n",
    "            from \n",
    "            dm_tmp.ya_db_req_idfa_190626 t1\n",
    "            inner join \n",
    "            dm_tmp.ya_db_req_smnuid_190626 t2\n",
    "            on t1.drawbridge_consumer_id = t2.drawbridge_consumer_id\n",
    "            and t1.user_agent_os_family = t2.user_agent_os_family\n",
    "            and t1.user_agent_device_family = t2.user_agent_device_family\n",
    "            and t1.yymmdd = t2.yymmdd\n",
    "            and t1.sample_size = {i}\n",
    "            and t2.sample_size = {i}\n",
    "            \"\"\"\n",
    "        )\n",
    "        ir.execute_query_no_ret(query) "
   ]
  },
  {
   "cell_type": "code",
   "execution_count": null,
   "metadata": {},
   "outputs": [],
   "source": []
  }
 ],
 "metadata": {
  "kernelspec": {
   "display_name": "Python 3",
   "language": "python",
   "name": "python3"
  },
  "language_info": {
   "codemirror_mode": {
    "name": "ipython",
    "version": 3
   },
   "file_extension": ".py",
   "mimetype": "text/x-python",
   "name": "python",
   "nbconvert_exporter": "python",
   "pygments_lexer": "ipython3",
   "version": "3.7.4"
  }
 },
 "nbformat": 4,
 "nbformat_minor": 2
}
