{
 "cells": [
  {
   "cell_type": "markdown",
   "metadata": {},
   "source": [
    "クロスデバイス　クロスリスティングとの併用"
   ]
  },
  {
   "cell_type": "code",
   "execution_count": 1,
   "metadata": {},
   "outputs": [],
   "source": [
    "# ライブラリimport\n",
    "import argparse\n",
    "import logging\n",
    "import os\n",
    "\n",
    "import pandas as pd\n",
    "from pandas import DataFrame\n",
    "import pandas.tseries.offsets as offsets\n",
    "import numpy as np\n",
    "from datetime import date, timedelta, time, datetime\n",
    "from tabulate import tabulate\n",
    "\n",
    "from itertools import product\n",
    "\n",
    "from ailab_tools.smn import ImpalaResource\n",
    "from ailab_tools.utils import GMail, GSheet\n",
    "\n",
    "from collections import OrderedDict\n",
    "\n",
    "import zipfile\n",
    "import glob\n",
    "\n",
    "import gc\n",
    "\n",
    "from ailab_tools.magics import slack_notify"
   ]
  },
  {
   "cell_type": "markdown",
   "metadata": {},
   "source": [
    "2630\t(unico)株式会社ミサワ"
   ]
  },
  {
   "cell_type": "code",
   "execution_count": 2,
   "metadata": {},
   "outputs": [
    {
     "name": "stdout",
     "output_type": "stream",
     "text": [
      "190522\n"
     ]
    }
   ],
   "source": [
    "today_yymmdd = date.today().strftime(\"%y%m%d\")\n",
    "print(today_yymmdd)"
   ]
  },
  {
   "cell_type": "code",
   "execution_count": 3,
   "metadata": {},
   "outputs": [],
   "source": [
    "#デバイス\n",
    "seed_sp_device = 'iOS','Android'\n",
    "xd_sp_device = 'iphone','android_phone','windows_phone'\n",
    "\n",
    "#ターゲット\n",
    "advertiser_id = 2630"
   ]
  },
  {
   "cell_type": "markdown",
   "metadata": {},
   "source": [
    "セグメントIDを確認する"
   ]
  },
  {
   "cell_type": "code",
   "execution_count": 4,
   "metadata": {},
   "outputs": [
    {
     "name": "stderr",
     "output_type": "stream",
     "text": [
      "INFO:ailab_tools.smn.impala_client:loaded configuration file: /opt/anaconda3/lib/python3.7/site-packages/ailab_tools/config/ailab_tools_config.py\n",
      "INFO:ailab_tools.smn.impala_client:hosts : ['172.16.60.109']\n",
      "INFO:ailab_tools.smn.impala_client:impala_host : 172.16.60.109\n",
      "INFO:ailab_tools.smn.impala_client:impala_port : 21050\n",
      "INFO:ailab_tools.smn.impala_client:impala_user : vmspool\n",
      "INFO:ailab_tools.smn.impala_client:impala_password : \n",
      "INFO:ailab_tools.smn.impala_client:request_pool : vmspool\n",
      "INFO:ailab_tools.smn.impala_client:configuration : {'REQUEST_POOL': 'vmspool'}\n",
      "INFO:ailab_tools.smn.impala_resource:loaded configuration file: /opt/anaconda3/lib/python3.7/site-packages/ailab_tools/config/ailab_tools_config.py\n",
      "INFO:ailab_tools.smn.impala_resource:httpfs_host: hc3manager02.hc3pro\n",
      "INFO:ailab_tools.smn.impala_resource:httpfs_port: 14000\n",
      "INFO:impyla_service:Impala open connection OK. hostname = [172.16.60.109]\n",
      "INFO:impyla_service:New connection is opened.\n",
      "INFO:impyla_service:実行SQL: \n",
      "    select *\n",
      "    from \n",
      "    dm.segment_hierarchies\n",
      "    where \n",
      "    segment_name like \"00000000-90days-UNICO\"\n",
      "    and dmp_id = 10050\n",
      "    \n",
      "INFO:impala.hiveserver2:Closing active operation\n",
      "INFO:impyla_service:Connection is closed.\n"
     ]
    }
   ],
   "source": [
    "#f-string\n",
    "query = (\n",
    "    f\"\"\"\n",
    "    select *\n",
    "    from \n",
    "    dm.segment_hierarchies\n",
    "    where \n",
    "    segment_name like \"00000000-90days-UNICO\"\n",
    "    and dmp_id = 10050\n",
    "    \"\"\"\n",
    "    )\n",
    "\n",
    "with ImpalaResource(hosts=[\"172.16.60.109\"], port=21050, user='vmspool',\n",
    "                    request_pool='vmspool', httpfs_host='hc3manager02.hc3pro', httpfs_port=14000) as ir:\n",
    "        df_seg = ir.sql_to_pandas(query)"
   ]
  },
  {
   "cell_type": "code",
   "execution_count": 5,
   "metadata": {},
   "outputs": [
    {
     "data": {
      "text/html": [
       "<div>\n",
       "<style scoped>\n",
       "    .dataframe tbody tr th:only-of-type {\n",
       "        vertical-align: middle;\n",
       "    }\n",
       "\n",
       "    .dataframe tbody tr th {\n",
       "        vertical-align: top;\n",
       "    }\n",
       "\n",
       "    .dataframe thead th {\n",
       "        text-align: right;\n",
       "    }\n",
       "</style>\n",
       "<table border=\"1\" class=\"dataframe\">\n",
       "  <thead>\n",
       "    <tr style=\"text-align: right;\">\n",
       "      <th></th>\n",
       "      <th>dmp_id</th>\n",
       "      <th>segment_owner_id</th>\n",
       "      <th>org_segment_owner_id</th>\n",
       "      <th>segment_owner_name</th>\n",
       "      <th>inhouse_only</th>\n",
       "      <th>owner_status</th>\n",
       "      <th>segment_id</th>\n",
       "      <th>org_segment_id</th>\n",
       "      <th>segment_name</th>\n",
       "      <th>segment_status</th>\n",
       "      <th>logic</th>\n",
       "      <th>negative</th>\n",
       "      <th>weight</th>\n",
       "      <th>target_segment_logic_id</th>\n",
       "      <th>target_id</th>\n",
       "    </tr>\n",
       "  </thead>\n",
       "  <tbody>\n",
       "    <tr>\n",
       "      <th>0</th>\n",
       "      <td>10050</td>\n",
       "      <td>25</td>\n",
       "      <td>00000000</td>\n",
       "      <td>00000000</td>\n",
       "      <td>0</td>\n",
       "      <td>1</td>\n",
       "      <td>1904</td>\n",
       "      <td>25e19ca116d1907</td>\n",
       "      <td>00000000-90days-UNICO</td>\n",
       "      <td>1</td>\n",
       "      <td>0</td>\n",
       "      <td>0</td>\n",
       "      <td>0</td>\n",
       "      <td>174192</td>\n",
       "      <td>282431</td>\n",
       "    </tr>\n",
       "    <tr>\n",
       "      <th>1</th>\n",
       "      <td>10050</td>\n",
       "      <td>25</td>\n",
       "      <td>00000000</td>\n",
       "      <td>00000000</td>\n",
       "      <td>0</td>\n",
       "      <td>1</td>\n",
       "      <td>1904</td>\n",
       "      <td>25e19ca116d1907</td>\n",
       "      <td>00000000-90days-UNICO</td>\n",
       "      <td>1</td>\n",
       "      <td>0</td>\n",
       "      <td>0</td>\n",
       "      <td>0</td>\n",
       "      <td>174193</td>\n",
       "      <td>282432</td>\n",
       "    </tr>\n",
       "  </tbody>\n",
       "</table>\n",
       "</div>"
      ],
      "text/plain": [
       "   dmp_id  segment_owner_id org_segment_owner_id segment_owner_name  \\\n",
       "0   10050                25             00000000           00000000   \n",
       "1   10050                25             00000000           00000000   \n",
       "\n",
       "   inhouse_only  owner_status  segment_id   org_segment_id  \\\n",
       "0             0             1        1904  25e19ca116d1907   \n",
       "1             0             1        1904  25e19ca116d1907   \n",
       "\n",
       "            segment_name  segment_status  logic  negative  weight  \\\n",
       "0  00000000-90days-UNICO               1      0         0       0   \n",
       "1  00000000-90days-UNICO               1      0         0       0   \n",
       "\n",
       "   target_segment_logic_id  target_id  \n",
       "0                   174192     282431  \n",
       "1                   174193     282432  "
      ]
     },
     "execution_count": 5,
     "metadata": {},
     "output_type": "execute_result"
    }
   ],
   "source": [
    "df_seg.head()"
   ]
  },
  {
   "cell_type": "code",
   "execution_count": 6,
   "metadata": {},
   "outputs": [
    {
     "name": "stdout",
     "output_type": "stream",
     "text": [
      "25e19ca116d1907\n"
     ]
    }
   ],
   "source": [
    "segment_id = \"25e19ca116d1907\"\n",
    "print(segment_id)"
   ]
  },
  {
   "cell_type": "code",
   "execution_count": 7,
   "metadata": {},
   "outputs": [
    {
     "name": "stdout",
     "output_type": "stream",
     "text": [
      "dm_tmp.ya_seed_advid_2630_segid_25e19ca116d1907_190522\n"
     ]
    }
   ],
   "source": [
    "seed_table = f\"dm_tmp.ya_seed_advid_{advertiser_id}_segid_{segment_id}_{today_yymmdd}\"\n",
    "print(seed_table)"
   ]
  },
  {
   "cell_type": "code",
   "execution_count": 8,
   "metadata": {},
   "outputs": [
    {
     "name": "stdout",
     "output_type": "stream",
     "text": [
      "dm_tmp.ya_xd_advid_2630_listing_segid_25e19ca116d1907_190522\n"
     ]
    }
   ],
   "source": [
    "uid_table = f\"dm_tmp.ya_xd_advid_{advertiser_id}_listing_segid_{segment_id}_{today_yymmdd}\"\n",
    "print(uid_table)"
   ]
  },
  {
   "cell_type": "code",
   "execution_count": 9,
   "metadata": {},
   "outputs": [],
   "source": [
    "#デバイス\n",
    "seed_sp_device = 'iOS','Android'\n",
    "xd_sp_device = 'iphone','android_phone','windows_phone','android_tablet','ipad','windows_tablet'"
   ]
  },
  {
   "cell_type": "code",
   "execution_count": 10,
   "metadata": {},
   "outputs": [
    {
     "name": "stderr",
     "output_type": "stream",
     "text": [
      "INFO:ailab_tools.smn.impala_client:loaded configuration file: /opt/anaconda3/lib/python3.7/site-packages/ailab_tools/config/ailab_tools_config.py\n",
      "INFO:ailab_tools.smn.impala_client:hosts : ['172.16.60.109']\n",
      "INFO:ailab_tools.smn.impala_client:impala_host : 172.16.60.109\n",
      "INFO:ailab_tools.smn.impala_client:impala_port : 21050\n",
      "INFO:ailab_tools.smn.impala_client:impala_user : vmspool\n",
      "INFO:ailab_tools.smn.impala_client:impala_password : \n",
      "INFO:ailab_tools.smn.impala_client:request_pool : vmspool\n",
      "INFO:ailab_tools.smn.impala_client:configuration : {'REQUEST_POOL': 'vmspool'}\n",
      "INFO:ailab_tools.smn.impala_resource:loaded configuration file: /opt/anaconda3/lib/python3.7/site-packages/ailab_tools/config/ailab_tools_config.py\n",
      "INFO:ailab_tools.smn.impala_resource:httpfs_host: hc3manager02.hc3pro\n",
      "INFO:ailab_tools.smn.impala_resource:httpfs_port: 14000\n",
      "INFO:impyla_service:Impala open connection OK. hostname = [172.16.60.109]\n",
      "INFO:impyla_service:New connection is opened.\n",
      "INFO:impyla_service:実行SQL: \n",
      "    select \n",
      "    distinct \n",
      "    db2.smn_uid\n",
      "    /*,case when db2.device in ('iphone','android_phone','windows_phone') then 'SP' ELSE 'PC' END as xd_device*/\n",
      "    from segment.drawbridge_device db\n",
      "    inner join dm.dmp_seg_user_list seg\n",
      "    on db.smn_uid = seg.smn_uid\n",
      "    inner join segment.drawbridge_device db2\n",
      "    on db.drawbridge_consumer_id = db2.drawbridge_consumer_id\n",
      "    where concat_ws('-',year,month,day) between to_date(days_add(now(),-30)) and to_date(days_add(now(),-1))\n",
      "    and org_segment_id in ('25e19ca116d1907')\n",
      "    and dmp_id = 10050\n",
      "    and db2.smn_uid > 0\n",
      "    and seg.smn_uid <> db2.smn_uid\n",
      "    \n",
      "INFO:impala.hiveserver2:Closing active operation\n",
      "INFO:impyla_service:Create empty table dm_tmp.ya_xd_advid_2630_listing_segid_25e19ca116d1907_190522\n",
      "INFO:impyla_service:実行SQL: \n",
      "            create table dm_tmp.ya_xd_advid_2630_listing_segid_25e19ca116d1907_190522\n",
      "            (smn_uid bigint)\n",
      "            \n",
      "            row format delimited fields terminated by \"\\t\"\n",
      "            lines terminated by \"\\n\"\n",
      "            \n",
      "INFO:impala.hiveserver2:Closing active operation\n",
      "INFO:impyla_service:Query finished\n",
      "INFO:hdfs.client:Instantiated <InsecureClient(url='http://hc3manager02.hc3pro:14000')>.\n",
      "INFO:hdfs.client:Uploading '/home/yusuke_akada/notebook/Yusuke_Akada_Jupyter_Notebook/68548772-497b-4b58-a273-0de16fa4d458.tsv' to '/user/hive/warehouse/dm_tmp.db/ya_xd_advid_2630_listing_segid_25e19ca116d1907_190522'.\n",
      "INFO:hdfs.client:Listing '/user/hive/warehouse/dm_tmp.db/ya_xd_advid_2630_listing_segid_25e19ca116d1907_190522'.\n",
      "INFO:hdfs.client:Writing to '/user/hive/warehouse/dm_tmp.db/ya_xd_advid_2630_listing_segid_25e19ca116d1907_190522/68548772-497b-4b58-a273-0de16fa4d458.tsv'.\n",
      "INFO:impyla_service:実行SQL: refresh dm_tmp.ya_xd_advid_2630_listing_segid_25e19ca116d1907_190522\n",
      "INFO:impala.hiveserver2:Closing active operation\n",
      "INFO:impyla_service:Connection is closed.\n",
      "INFO:ailab_tools.utils.slack:loaded configuration file: /opt/anaconda3/lib/python3.7/site-packages/ailab_tools/config/ailab_tools_config.py\n",
      "INFO:ailab_tools.utils.slack:Slack: Posted a message to Slack.\n"
     ]
    }
   ],
   "source": [
    "%%slack_notify @yusuke_akada\n",
    "\n",
    "#f-string\n",
    "query = (\n",
    "    f\"\"\"\n",
    "    select \n",
    "    distinct \n",
    "    db2.smn_uid\n",
    "    /*,case when db2.device in ('iphone','android_phone','windows_phone') then 'SP' ELSE 'PC' END as xd_device*/\n",
    "    from segment.drawbridge_device db\n",
    "    inner join dm.dmp_seg_user_list seg\n",
    "    on db.smn_uid = seg.smn_uid\n",
    "    inner join segment.drawbridge_device db2\n",
    "    on db.drawbridge_consumer_id = db2.drawbridge_consumer_id\n",
    "    where concat_ws('-',year,month,day) between to_date(days_add(now(),-30)) and to_date(days_add(now(),-1))\n",
    "    and org_segment_id in ('{segment_id}')\n",
    "    and dmp_id = 10050\n",
    "    and db2.smn_uid > 0\n",
    "    and seg.smn_uid <> db2.smn_uid\n",
    "    \"\"\"\n",
    "    )\n",
    "\n",
    "with ImpalaResource(hosts=[\"172.16.60.109\"], port=21050, user='vmspool',\n",
    "                    request_pool='vmspool', httpfs_host='hc3manager02.hc3pro', httpfs_port=14000) as ir:\n",
    "        df = ir.sql_to_pandas(query)\n",
    "        ir.upload_dataframe(uid_table, df, ['bigint'])"
   ]
  },
  {
   "cell_type": "code",
   "execution_count": 11,
   "metadata": {},
   "outputs": [
    {
     "data": {
      "text/plain": [
       "1024851"
      ]
     },
     "execution_count": 11,
     "metadata": {},
     "output_type": "execute_result"
    }
   ],
   "source": [
    "df.shape[0]"
   ]
  }
 ],
 "metadata": {
  "kernelspec": {
   "display_name": "Python 3",
   "language": "python",
   "name": "python3"
  },
  "language_info": {
   "codemirror_mode": {
    "name": "ipython",
    "version": 3
   },
   "file_extension": ".py",
   "mimetype": "text/x-python",
   "name": "python",
   "nbconvert_exporter": "python",
   "pygments_lexer": "ipython3",
   "version": "3.7.4"
  }
 },
 "nbformat": 4,
 "nbformat_minor": 2
}
