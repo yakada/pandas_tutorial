{
 "cells": [
  {
   "cell_type": "markdown",
   "metadata": {},
   "source": [
    "経営管理でまとめている「＊＊＊＊年＊＊月度_承認口座数.xlsx」まとめるデータ"
   ]
  },
  {
   "cell_type": "code",
   "execution_count": 1,
   "metadata": {},
   "outputs": [
    {
     "name": "stdout",
     "output_type": "stream",
     "text": [
      "Requirement already up-to-date: pandasql in c:\\users\\crie072\\anaconda3\\lib\\site-packages (0.7.3)Note: you may need to restart the kernel to use updated packages.\n",
      "\n",
      "Requirement already satisfied, skipping upgrade: numpy in c:\\users\\crie072\\anaconda3\\lib\\site-packages (from pandasql) (1.18.5)\n",
      "Requirement already satisfied, skipping upgrade: pandas in c:\\users\\crie072\\anaconda3\\lib\\site-packages (from pandasql) (1.0.5)\n",
      "Requirement already satisfied, skipping upgrade: sqlalchemy in c:\\users\\crie072\\anaconda3\\lib\\site-packages (from pandasql) (1.3.18)\n",
      "Requirement already satisfied, skipping upgrade: python-dateutil>=2.6.1 in c:\\users\\crie072\\anaconda3\\lib\\site-packages (from pandas->pandasql) (2.8.1)\n",
      "Requirement already satisfied, skipping upgrade: pytz>=2017.2 in c:\\users\\crie072\\anaconda3\\lib\\site-packages (from pandas->pandasql) (2020.1)\n",
      "Requirement already satisfied, skipping upgrade: six>=1.5 in c:\\users\\crie072\\anaconda3\\lib\\site-packages (from python-dateutil>=2.6.1->pandas->pandasql) (1.15.0)\n"
     ]
    }
   ],
   "source": [
    "pip install -U pandasql"
   ]
  },
  {
   "cell_type": "code",
   "execution_count": 2,
   "metadata": {},
   "outputs": [
    {
     "name": "stdout",
     "output_type": "stream",
     "text": [
      "Collecting openpyxl\n",
      "  Using cached openpyxl-3.0.5-py2.py3-none-any.whl (242 kB)\n",
      "Requirement already satisfied, skipping upgrade: et-xmlfile in c:\\users\\crie072\\anaconda3\\lib\\site-packages (from openpyxl) (1.0.1)\n",
      "Requirement already satisfied, skipping upgrade: jdcal in c:\\users\\crie072\\anaconda3\\lib\\site-packages (from openpyxl) (1.4.1)\n",
      "Installing collected packages: openpyxl\n",
      "  Attempting uninstall: openpyxl\n",
      "    Found existing installation: openpyxl 3.0.4\n",
      "    Uninstalling openpyxl-3.0.4:\n",
      "      Successfully uninstalled openpyxl-3.0.4\n",
      "Successfully installed openpyxl-3.0.5\n",
      "Note: you may need to restart the kernel to use updated packages.\n"
     ]
    }
   ],
   "source": [
    "pip install -U openpyxl"
   ]
  },
  {
   "cell_type": "code",
   "execution_count": 3,
   "metadata": {},
   "outputs": [],
   "source": [
    "import pandas as pd\n",
    "import numpy as np\n",
    "from pathlib import Path\n",
    "import csv\n",
    "import xlrd\n",
    "import io\n",
    "from zipfile import ZipFile\n",
    "from datetime import date, timedelta, time, datetime\n",
    "\n",
    "#from pandasql import sqldf"
   ]
  },
  {
   "cell_type": "code",
   "execution_count": 4,
   "metadata": {},
   "outputs": [
    {
     "name": "stdout",
     "output_type": "stream",
     "text": [
      "20201108\n"
     ]
    }
   ],
   "source": [
    "today_yyyymmdd = date.today().strftime(\"%Y%m%d\")\n",
    "print(today_yyyymmdd)"
   ]
  },
  {
   "cell_type": "code",
   "execution_count": 5,
   "metadata": {},
   "outputs": [],
   "source": [
    "#pandasの表示列数を増やす\n",
    "import pandas as pd\n",
    "pd.set_option('display.max_columns', 100)"
   ]
  },
  {
   "cell_type": "code",
   "execution_count": 6,
   "metadata": {},
   "outputs": [],
   "source": [
    "#ディレクトリ指定\n",
    "data_dir = Path(r\"C:\\Users\\crie072\\Documents\\01_データ関連\\Adhoc\\202010_スコアカード\")"
   ]
  },
  {
   "cell_type": "markdown",
   "metadata": {},
   "source": [
    "新規入会数"
   ]
  },
  {
   "cell_type": "code",
   "execution_count": 287,
   "metadata": {},
   "outputs": [],
   "source": [
    "filename = [\"2020年10月度_承認口座数.xlsx\"]\n",
    "old_filename = [\"2020年2月度_承認口座数.xlsx\",\"2019年2月度_承認口座数.xlsx\"]"
   ]
  },
  {
   "cell_type": "code",
   "execution_count": 303,
   "metadata": {},
   "outputs": [],
   "source": [
    "li = []#空のデータフレーム作成"
   ]
  },
  {
   "cell_type": "markdown",
   "metadata": {},
   "source": [
    "2020年度用"
   ]
  },
  {
   "cell_type": "code",
   "execution_count": 304,
   "metadata": {},
   "outputs": [
    {
     "name": "stdout",
     "output_type": "stream",
     "text": [
      "Wall time: 313 ms\n"
     ]
    }
   ],
   "source": [
    "%%time\n",
    "\n",
    "for f in filename:\n",
    "    input_file = f\n",
    "    input_book = pd.ExcelFile(data_dir/ f\"{input_file}\")\n",
    "    #各シート名を取得\n",
    "    input_sheet_name = input_book.sheet_names\n",
    "    num_sheet = len(input_sheet_name)\n",
    "    \n",
    "    for i in range(1,num_sheet-3):#不要なシートが一つあるので読みこまない\n",
    "        df = input_book.parse(input_sheet_name[i],header = None)\n",
    "\n",
    "        if f[:5] == \"2020年\":\n",
    "            df = df.iloc[[5,6,7,8,9,10,11,13,14],[2,22]]#該当行と列のみ抽出\n",
    "            df = df.rename(columns={2:\"card\",22:\"新規入会数\"})\n",
    "\n",
    "            #ブランド分け\n",
    "            df.loc[df['card'].str.contains(\"VISA\"), 'brand'] = 'VISA'\n",
    "            df.loc[df['card'].str.contains(\"Master\"), 'brand'] = 'Master'\n",
    "            df.loc[df['card'] .str.contains(\"臨時\"), 'brand'] = 'VISA'\n",
    "\n",
    "            df.loc[df['card'].str.contains(\"グループ※\"), 'card'] = '一般'\n",
    "            df.loc[df['card'].str.contains(\"臨時\"), 'card'] = '臨時カード'\n",
    "\n",
    "            df['card'] = df['card'].str.replace(\"VISA\",'')\n",
    "            df['card'] = df['card'].str.replace(\"Master\",'')\n",
    "            \n",
    "            #年月の列を作成\n",
    "            df['filename'] = f            \n",
    "            df['month'] = input_sheet_name[i]\n",
    "            df['month'] = df['month'].astype(int)\n",
    "            df['year'] = df['filename'].str[:4]\n",
    "            df['year'] = df['year'].astype(int)\n",
    "            df = df.drop(columns = {\"filename\"})\n",
    "\n",
    "            li.append(df)\n",
    "            \n",
    "            #df_all = pd.concat(li, axis=0, ignore_index=True)\n",
    "\n",
    "#df_all = df_all.reindex(columns = ['year','month','brand','card','新規入会数'])"
   ]
  },
  {
   "cell_type": "markdown",
   "metadata": {},
   "source": [
    "2019年度用"
   ]
  },
  {
   "cell_type": "code",
   "execution_count": 305,
   "metadata": {
    "scrolled": true
   },
   "outputs": [
    {
     "name": "stdout",
     "output_type": "stream",
     "text": [
      "Wall time: 625 ms\n"
     ]
    }
   ],
   "source": [
    "%%time\n",
    "for f in old_filename:\n",
    "    input_file = f\n",
    "    input_book = pd.ExcelFile(data_dir/ f\"{input_file}\")\n",
    "    #各シート名を取得\n",
    "    input_sheet_name = input_book.sheet_names\n",
    "    num_sheet = len(input_sheet_name)\n",
    "    \n",
    "    for i in range(1,num_sheet-3):#不要なシートが一つあるので読みこまない\n",
    "        df = input_book.parse(input_sheet_name[i],header = None)\n",
    "        \n",
    "        if f[:8] == f[:8] == \"2020年2月度\":\n",
    "            df = df.iloc[[4,5,6,7,8,9,11,12,15,16],[2,23]]#該当行と列のみ抽出\n",
    "            df = df.rename(columns={2:\"card\",23:\"新規入会数\"})\n",
    "            \n",
    "            #ブランド分け\n",
    "            df.loc[df['card'].str.contains(\"VISA\"), 'brand'] = 'VISA'\n",
    "            df.loc[df['card'].str.contains(\"Master\"), 'brand'] = 'Master'\n",
    "            df.loc[df['card'] .str.contains(\"臨時\"), 'brand'] = 'VISA'\n",
    "            df.loc[df['card'] .str.contains(\"ハウス\"), 'brand'] = 'ハウス'\n",
    "\n",
    "            df.loc[df['card'].str.contains(\"グループ※\"), 'card'] = '一般'\n",
    "            df.loc[df['card'].str.contains(\"臨時\"), 'card'] = '臨時カード'\n",
    "            df.loc[df['card'].str.contains(\"ハウス\"), 'card'] = 'ハウスゴールド'\n",
    "            \n",
    "            df.loc[df['card'].str.match('VISA'), 'card'] = '一般'\n",
    "            df.loc[df['card'].str.match('Master'), 'card'] = '一般'\n",
    "\n",
    "            df['card'] = df['card'].str.replace(\"VISA\",'')\n",
    "            df['card'] = df['card'].str.replace(\"Master\",'')\n",
    "            \n",
    "            #年月の列を作成\n",
    "            df['filename'] = f            \n",
    "            df['month'] = input_sheet_name[i]\n",
    "            df['month'] = df['month'].astype(int)\n",
    "                                  \n",
    "            df['year'] = df['filename'].str[:4]\n",
    "            df['year'] = df['year'].astype(int)\n",
    "            \n",
    "            df.loc[3<=df['month'] , 'year'] = df['year']-1 #ファイル名から持ってくると前年度が引き算されないので\n",
    "                       \n",
    "            df = df.drop(columns = {\"filename\"})\n",
    "            \n",
    "            li.append(df)\n",
    "            \n",
    "            #df_all = pd.concat(li, axis=0, ignore_index=True)\n",
    "\n",
    "#df_all = df_all.reindex(columns = ['year','month','brand','card','新規入会数'])"
   ]
  },
  {
   "cell_type": "markdown",
   "metadata": {},
   "source": [
    "2018年度用"
   ]
  },
  {
   "cell_type": "code",
   "execution_count": 306,
   "metadata": {
    "scrolled": true
   },
   "outputs": [
    {
     "name": "stdout",
     "output_type": "stream",
     "text": [
      "Wall time: 682 ms\n"
     ]
    }
   ],
   "source": [
    "%%time\n",
    "for f in old_filename:\n",
    "    input_file = f\n",
    "    input_book = pd.ExcelFile(data_dir/ f\"{input_file}\")\n",
    "    #各シート名を取得\n",
    "    input_sheet_name = input_book.sheet_names\n",
    "    num_sheet = len(input_sheet_name)\n",
    "    \n",
    "    for i in range(0,num_sheet-3):#不要なシートが一つあるので読みこまない\n",
    "        df = input_book.parse(input_sheet_name[i],header = None)\n",
    "        \n",
    "        if f[:8] == \"2019年2月度\":\n",
    "            df = df.iloc[[4,5,6,7,8,9,11,12,15,16],[2,21]]#該当行と列のみ抽出\n",
    "            df = df.rename(columns={2:\"card\",21:\"新規入会数\"})\n",
    "            \n",
    "            #ブランド分け\n",
    "            df.loc[df['card'].str.contains(\"VISA\"), 'brand'] = 'VISA'\n",
    "            df.loc[df['card'].str.contains(\"Master\"), 'brand'] = 'Master'\n",
    "            df.loc[df['card'] .str.contains(\"臨時\"), 'brand'] = 'VISA'\n",
    "            df.loc[df['card'] .str.contains(\"ハウス\"), 'brand'] = 'ハウス'\n",
    "\n",
    "            df.loc[df['card'].str.contains(\"グループ※\"), 'card'] = '一般'\n",
    "            df.loc[df['card'].str.contains(\"臨時\"), 'card'] = '臨時カード'\n",
    "            df.loc[df['card'].str.contains(\"ハウス\"), 'card'] = 'ハウスゴールド'\n",
    "            \n",
    "            df.loc[df['card'].str.match('VISA'), 'card'] = '一般'\n",
    "            df.loc[df['card'].str.match('Master'), 'card'] = '一般'\n",
    "\n",
    "            df['card'] = df['card'].str.replace(\"VISA\",'')\n",
    "            df['card'] = df['card'].str.replace(\"Master\",'')\n",
    "            \n",
    "            #年月の列を作成\n",
    "            df['filename'] = f            \n",
    "            df['month'] = input_sheet_name[i]\n",
    "            df['month'] = df['month'].astype(int)\n",
    "                                  \n",
    "            df['year'] = df['filename'].str[:4]\n",
    "            df['year'] = df['year'].astype(int)\n",
    "            \n",
    "            df.loc[3<=df['month'] , 'year'] = df['year']-1 #ファイル名から持ってくると前年度が引き算されないので\n",
    "                       \n",
    "            df = df.drop(columns = {\"filename\"})\n",
    "            \n",
    "            li.append(df)\n",
    "            \n",
    "            df_all = pd.concat(li, axis=0, ignore_index=True)\n",
    "\n",
    "df_all = df_all.reindex(columns = ['year','month','brand','card','新規入会数'])"
   ]
  },
  {
   "cell_type": "code",
   "execution_count": 307,
   "metadata": {},
   "outputs": [],
   "source": [
    "df_all = pd.concat(li, axis=0, ignore_index=True)\n",
    "df_all = df_all.reindex(columns = ['year','month','brand','card','新規入会数'])\n",
    "df_all = df_all.sort_values(['year','month','brand','card'])"
   ]
  },
  {
   "cell_type": "code",
   "execution_count": 308,
   "metadata": {
    "scrolled": true
   },
   "outputs": [
    {
     "data": {
      "text/html": [
       "<div>\n",
       "<style scoped>\n",
       "    .dataframe tbody tr th:only-of-type {\n",
       "        vertical-align: middle;\n",
       "    }\n",
       "\n",
       "    .dataframe tbody tr th {\n",
       "        vertical-align: top;\n",
       "    }\n",
       "\n",
       "    .dataframe thead th {\n",
       "        text-align: right;\n",
       "    }\n",
       "</style>\n",
       "<table border=\"1\" class=\"dataframe\">\n",
       "  <thead>\n",
       "    <tr style=\"text-align: right;\">\n",
       "      <th></th>\n",
       "      <th>year</th>\n",
       "      <th>month</th>\n",
       "      <th>brand</th>\n",
       "      <th>card</th>\n",
       "      <th>新規入会数</th>\n",
       "    </tr>\n",
       "  </thead>\n",
       "  <tbody>\n",
       "    <tr>\n",
       "      <th>185</th>\n",
       "      <td>2018</td>\n",
       "      <td>3</td>\n",
       "      <td>Master</td>\n",
       "      <td>ゴールド</td>\n",
       "      <td>56</td>\n",
       "    </tr>\n",
       "    <tr>\n",
       "      <th>183</th>\n",
       "      <td>2018</td>\n",
       "      <td>3</td>\n",
       "      <td>Master</td>\n",
       "      <td>一般</td>\n",
       "      <td>1149</td>\n",
       "    </tr>\n",
       "    <tr>\n",
       "      <th>191</th>\n",
       "      <td>2018</td>\n",
       "      <td>3</td>\n",
       "      <td>Master</td>\n",
       "      <td>一般</td>\n",
       "      <td>2</td>\n",
       "    </tr>\n",
       "    <tr>\n",
       "      <th>189</th>\n",
       "      <td>2018</td>\n",
       "      <td>3</td>\n",
       "      <td>Master</td>\n",
       "      <td>外商</td>\n",
       "      <td>311</td>\n",
       "    </tr>\n",
       "    <tr>\n",
       "      <th>184</th>\n",
       "      <td>2018</td>\n",
       "      <td>3</td>\n",
       "      <td>VISA</td>\n",
       "      <td>ゴールド</td>\n",
       "      <td>206</td>\n",
       "    </tr>\n",
       "  </tbody>\n",
       "</table>\n",
       "</div>"
      ],
      "text/plain": [
       "     year  month   brand  card 新規入会数\n",
       "185  2018      3  Master  ゴールド    56\n",
       "183  2018      3  Master    一般  1149\n",
       "191  2018      3  Master    一般     2\n",
       "189  2018      3  Master    外商   311\n",
       "184  2018      3    VISA  ゴールド   206"
      ]
     },
     "execution_count": 308,
     "metadata": {},
     "output_type": "execute_result"
    }
   ],
   "source": [
    "df_all.head()"
   ]
  },
  {
   "cell_type": "code",
   "execution_count": 309,
   "metadata": {
    "scrolled": true
   },
   "outputs": [
    {
     "data": {
      "text/plain": [
       "year  month\n",
       "2018  3        11386\n",
       "      4        11410\n",
       "      5        14040\n",
       "      6        10703\n",
       "      7         9902\n",
       "      8        10369\n",
       "      9         9066\n",
       "      10       10840\n",
       "      11       12602\n",
       "      12       12401\n",
       "2019  1         8826\n",
       "      2         9062\n",
       "      4         6441\n",
       "      5         8331\n",
       "      6         8977\n",
       "      7        10715\n",
       "      8         6731\n",
       "      9         7995\n",
       "      10        6361\n",
       "      11        8366\n",
       "      12        9559\n",
       "2020  1        10003\n",
       "      2         7632\n",
       "      3         5531\n",
       "      4         1405\n",
       "      5         1456\n",
       "      6         2967\n",
       "      7         4193\n",
       "      8         3839\n",
       "      9         3953\n",
       "      10        7504\n",
       "Name: 新規入会数, dtype: int64"
      ]
     },
     "execution_count": 309,
     "metadata": {},
     "output_type": "execute_result"
    }
   ],
   "source": [
    "df_all.groupby(['year','month'])['新規入会数'].sum()"
   ]
  },
  {
   "cell_type": "markdown",
   "metadata": {},
   "source": [
    "Excelアウトプット"
   ]
  },
  {
   "cell_type": "code",
   "execution_count": 311,
   "metadata": {},
   "outputs": [],
   "source": [
    "df_all.to_excel(data_dir /r\"Output\"/f\"【集計】承認口座数_{today_yyyymmdd}.xlsx\"\n",
    "                ,sheet_name ='raw_承認口座数',index=None,header=True,encoding='utf-8-sig')"
   ]
  },
  {
   "cell_type": "code",
   "execution_count": null,
   "metadata": {},
   "outputs": [],
   "source": []
  }
 ],
 "metadata": {
  "kernelspec": {
   "display_name": "Python 3",
   "language": "python",
   "name": "python3"
  },
  "language_info": {
   "codemirror_mode": {
    "name": "ipython",
    "version": 3
   },
   "file_extension": ".py",
   "mimetype": "text/x-python",
   "name": "python",
   "nbconvert_exporter": "python",
   "pygments_lexer": "ipython3",
   "version": "3.8.3"
  }
 },
 "nbformat": 4,
 "nbformat_minor": 2
}
