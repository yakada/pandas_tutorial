{
 "cells": [
  {
   "cell_type": "code",
   "execution_count": 1,
   "metadata": {},
   "outputs": [
    {
     "name": "stdout",
     "output_type": "stream",
     "text": [
      "Requirement already up-to-date: pandasql in c:\\users\\crie072\\anaconda3\\lib\\site-packages (0.7.3)\n",
      "Requirement already satisfied, skipping upgrade: pandas in c:\\users\\crie072\\anaconda3\\lib\\site-packages (from pandasql) (1.0.1)\n",
      "Requirement already satisfied, skipping upgrade: numpy in c:\\users\\crie072\\anaconda3\\lib\\site-packages (from pandasql) (1.18.1)\n",
      "Requirement already satisfied, skipping upgrade: sqlalchemy in c:\\users\\crie072\\anaconda3\\lib\\site-packages (from pandasql) (1.3.13)\n",
      "Requirement already satisfied, skipping upgrade: pytz>=2017.2 in c:\\users\\crie072\\anaconda3\\lib\\site-packages (from pandas->pandasql) (2019.3)\n",
      "Requirement already satisfied, skipping upgrade: python-dateutil>=2.6.1 in c:\\users\\crie072\\anaconda3\\lib\\site-packages (from pandas->pandasql) (2.8.1)\n",
      "Requirement already satisfied, skipping upgrade: six>=1.5 in c:\\users\\crie072\\anaconda3\\lib\\site-packages (from python-dateutil>=2.6.1->pandas->pandasql) (1.14.0)\n",
      "Note: you may need to restart the kernel to use updated packages.\n"
     ]
    }
   ],
   "source": [
    "pip install -U pandasql"
   ]
  },
  {
   "cell_type": "markdown",
   "metadata": {},
   "source": [
    "pip install -U xlwt"
   ]
  },
  {
   "cell_type": "markdown",
   "metadata": {},
   "source": [
    "pip install -U openpyxl"
   ]
  },
  {
   "cell_type": "code",
   "execution_count": 2,
   "metadata": {},
   "outputs": [],
   "source": [
    "import pandas as pd\n",
    "import numpy as np\n",
    "from pathlib import Path\n",
    "import csv\n",
    "import xlrd\n",
    "import io\n",
    "from zipfile import ZipFile\n",
    "from datetime import date, timedelta, time, datetime\n",
    "\n",
    "from pandasql import sqldf\n",
    "\n",
    "from pandas.tseries.offsets import MonthEnd"
   ]
  },
  {
   "cell_type": "code",
   "execution_count": 3,
   "metadata": {},
   "outputs": [
    {
     "name": "stdout",
     "output_type": "stream",
     "text": [
      "20200905\n"
     ]
    }
   ],
   "source": [
    "today_yyyymmdd = date.today().strftime(\"%Y%m%d\")\n",
    "print(today_yyyymmdd)"
   ]
  },
  {
   "cell_type": "code",
   "execution_count": 4,
   "metadata": {},
   "outputs": [],
   "source": [
    "#pandasの表示列数を増やす\n",
    "import pandas as pd\n",
    "pd.set_option('display.max_columns', 100)"
   ]
  },
  {
   "cell_type": "code",
   "execution_count": null,
   "metadata": {},
   "outputs": [],
   "source": []
  },
  {
   "cell_type": "code",
   "execution_count": 6,
   "metadata": {},
   "outputs": [],
   "source": [
    "data_dir = Path(r\"C:\\Users\\crie072\\Documents\\01_データ関連\\Adhoc\\202008_退会顧客\\Cognos時系列\")\n",
    "\n",
    "#input\n",
    "input_file = \"個人会員残高_from_cognos.xlsx\"\n",
    "input_file2 = \"age_code\"\n",
    "input_file3 = \"cancel_code\""
   ]
  },
  {
   "cell_type": "code",
   "execution_count": null,
   "metadata": {},
   "outputs": [],
   "source": [
    "#シート名取得\n",
    "bk = pd.ExcelFile(data_dir/f\"{input_file}\")\n",
    "print(bk.sheet_names)"
   ]
  },
  {
   "cell_type": "markdown",
   "metadata": {},
   "source": [
    "退会顧客データデータの読込＆集計"
   ]
  },
  {
   "cell_type": "code",
   "execution_count": 173,
   "metadata": {
    "scrolled": false
   },
   "outputs": [],
   "source": [
    "df0 = pd.read_excel(data_dir/f\"{input_file}\", sheet_name = 0)\n",
    "df1 = pd.read_excel(data_dir/f\"{input_file}\", sheet_name = 1)\n",
    "df2 = pd.read_excel(data_dir/f\"{input_file}\", sheet_name = 2)\n",
    "df3 = pd.read_excel(data_dir/f\"{input_file}\", sheet_name = 3)\n",
    "df4 = pd.read_excel(data_dir/f\"{input_file}\", sheet_name = 4)\n",
    "df5 = pd.read_excel(data_dir/f\"{input_file}\", sheet_name = 5)"
   ]
  },
  {
   "cell_type": "code",
   "execution_count": 174,
   "metadata": {},
   "outputs": [
    {
     "data": {
      "text/html": [
       "<div>\n",
       "<style scoped>\n",
       "    .dataframe tbody tr th:only-of-type {\n",
       "        vertical-align: middle;\n",
       "    }\n",
       "\n",
       "    .dataframe tbody tr th {\n",
       "        vertical-align: top;\n",
       "    }\n",
       "\n",
       "    .dataframe thead th {\n",
       "        text-align: right;\n",
       "    }\n",
       "</style>\n",
       "<table border=\"1\" class=\"dataframe\">\n",
       "  <thead>\n",
       "    <tr style=\"text-align: right;\">\n",
       "      <th></th>\n",
       "      <th>会員カード会社コード</th>\n",
       "      <th>カード提携方式コード</th>\n",
       "      <th>カード提携会社コード１＋２</th>\n",
       "      <th>カード種類コード</th>\n",
       "      <th>カードブランドコード</th>\n",
       "      <th>管轄部店コード</th>\n",
       "      <th>加入年度</th>\n",
       "      <th>加入年度区分（Ａ，Ｂ，Ｃ）</th>\n",
       "      <th>職業コード</th>\n",
       "      <th>年齢階層</th>\n",
       "      <th>性別コード</th>\n",
       "      <th>データ基準年月</th>\n",
       "      <th>活口座数</th>\n",
       "      <th>解約口座数</th>\n",
       "    </tr>\n",
       "  </thead>\n",
       "  <tbody>\n",
       "    <tr>\n",
       "      <th>0</th>\n",
       "      <td>155</td>\n",
       "      <td>10</td>\n",
       "      <td>D0001</td>\n",
       "      <td>2</td>\n",
       "      <td>1</td>\n",
       "      <td>0</td>\n",
       "      <td>2006</td>\n",
       "      <td>A</td>\n",
       "      <td>3</td>\n",
       "      <td>7</td>\n",
       "      <td>2</td>\n",
       "      <td>201903</td>\n",
       "      <td>1</td>\n",
       "      <td>0</td>\n",
       "    </tr>\n",
       "    <tr>\n",
       "      <th>1</th>\n",
       "      <td>155</td>\n",
       "      <td>10</td>\n",
       "      <td>D0001</td>\n",
       "      <td>2</td>\n",
       "      <td>1</td>\n",
       "      <td>0</td>\n",
       "      <td>2006</td>\n",
       "      <td>A</td>\n",
       "      <td>3</td>\n",
       "      <td>7</td>\n",
       "      <td>2</td>\n",
       "      <td>201904</td>\n",
       "      <td>1</td>\n",
       "      <td>0</td>\n",
       "    </tr>\n",
       "    <tr>\n",
       "      <th>2</th>\n",
       "      <td>155</td>\n",
       "      <td>10</td>\n",
       "      <td>D0001</td>\n",
       "      <td>2</td>\n",
       "      <td>1</td>\n",
       "      <td>0</td>\n",
       "      <td>2006</td>\n",
       "      <td>A</td>\n",
       "      <td>3</td>\n",
       "      <td>7</td>\n",
       "      <td>2</td>\n",
       "      <td>201905</td>\n",
       "      <td>1</td>\n",
       "      <td>0</td>\n",
       "    </tr>\n",
       "    <tr>\n",
       "      <th>3</th>\n",
       "      <td>155</td>\n",
       "      <td>10</td>\n",
       "      <td>D0001</td>\n",
       "      <td>2</td>\n",
       "      <td>1</td>\n",
       "      <td>0</td>\n",
       "      <td>2006</td>\n",
       "      <td>A</td>\n",
       "      <td>3</td>\n",
       "      <td>7</td>\n",
       "      <td>2</td>\n",
       "      <td>201906</td>\n",
       "      <td>1</td>\n",
       "      <td>0</td>\n",
       "    </tr>\n",
       "    <tr>\n",
       "      <th>4</th>\n",
       "      <td>155</td>\n",
       "      <td>10</td>\n",
       "      <td>D0001</td>\n",
       "      <td>2</td>\n",
       "      <td>1</td>\n",
       "      <td>0</td>\n",
       "      <td>2006</td>\n",
       "      <td>A</td>\n",
       "      <td>3</td>\n",
       "      <td>7</td>\n",
       "      <td>2</td>\n",
       "      <td>201907</td>\n",
       "      <td>1</td>\n",
       "      <td>0</td>\n",
       "    </tr>\n",
       "  </tbody>\n",
       "</table>\n",
       "</div>"
      ],
      "text/plain": [
       "   会員カード会社コード  カード提携方式コード カード提携会社コード１＋２  カード種類コード  カードブランドコード  管轄部店コード  加入年度  \\\n",
       "0         155          10         D0001         2           1        0  2006   \n",
       "1         155          10         D0001         2           1        0  2006   \n",
       "2         155          10         D0001         2           1        0  2006   \n",
       "3         155          10         D0001         2           1        0  2006   \n",
       "4         155          10         D0001         2           1        0  2006   \n",
       "\n",
       "  加入年度区分（Ａ，Ｂ，Ｃ） 職業コード  年齢階層  性別コード  データ基準年月  活口座数  解約口座数  \n",
       "0             A     3     7      2   201903     1      0  \n",
       "1             A     3     7      2   201904     1      0  \n",
       "2             A     3     7      2   201905     1      0  \n",
       "3             A     3     7      2   201906     1      0  \n",
       "4             A     3     7      2   201907     1      0  "
      ]
     },
     "execution_count": 174,
     "metadata": {},
     "output_type": "execute_result"
    }
   ],
   "source": [
    "df = pd.concat([df0,df1,df2,df3,df4,df5])\n",
    "df.head()"
   ]
  },
  {
   "cell_type": "code",
   "execution_count": 175,
   "metadata": {},
   "outputs": [
    {
     "name": "stdout",
     "output_type": "stream",
     "text": [
      "(340749, 14)\n",
      "Int64Index([    0,     1,     2,     3,     4,     5,     6,     7,     8,\n",
      "                9,\n",
      "            ...\n",
      "            15754, 15755, 15756, 15757, 15758, 15759, 15760, 15761, 15762,\n",
      "            15763],\n",
      "           dtype='int64', length=340749)\n",
      "Index(['会員カード会社コード', 'カード提携方式コード', 'カード提携会社コード１＋２', 'カード種類コード', 'カードブランドコード',\n",
      "       '管轄部店コード', '加入年度', '加入年度区分（Ａ，Ｂ，Ｃ）', '職業コード', '年齢階層', '性別コード', 'データ基準年月',\n",
      "       '活口座数', '解約口座数'],\n",
      "      dtype='object')\n",
      "会員カード会社コード        int64\n",
      "カード提携方式コード        int64\n",
      "カード提携会社コード１＋２    object\n",
      "カード種類コード          int64\n",
      "カードブランドコード        int64\n",
      "管轄部店コード           int64\n",
      "加入年度              int64\n",
      "加入年度区分（Ａ，Ｂ，Ｃ）    object\n",
      "職業コード            object\n",
      "年齢階層              int64\n",
      "性別コード             int64\n",
      "データ基準年月           int64\n",
      "活口座数              int64\n",
      "解約口座数             int64\n",
      "dtype: object\n"
     ]
    }
   ],
   "source": [
    "print(df.shape)\n",
    "print(df.index)\n",
    "print(df.columns)\n",
    "print(df.dtypes)"
   ]
  },
  {
   "cell_type": "code",
   "execution_count": 176,
   "metadata": {
    "scrolled": true
   },
   "outputs": [
    {
     "name": "stdout",
     "output_type": "stream",
     "text": [
      "kaisha_code              int64\n",
      "houshiki_code            int64\n",
      "teikeikaisha_code1_2    object\n",
      "card_code                int64\n",
      "brand_code               int64\n",
      "buten_code               int64\n",
      "nendo                    int64\n",
      "nendo_kubun             object\n",
      "job_code                object\n",
      "age_code                 int64\n",
      "gender_code              int64\n",
      "cp                       int64\n",
      "active_account           int64\n",
      "cancel_account           int64\n",
      "dtype: object\n"
     ]
    }
   ],
   "source": [
    "df = df.rename(columns={'会員カード会社コード':'kaisha_code',\n",
    "                        'カード提携方式コード':'houshiki_code',\n",
    "                        'カード提携会社コード１＋２':'teikeikaisha_code1_2',\n",
    "                        'カード種類コード':'card_code',\n",
    "                        'カードブランドコード':'brand_code',\n",
    "                        '管轄部店コード':'buten_code',\n",
    "                        '加入年度':'nendo',\n",
    "                        '加入年度区分（Ａ，Ｂ，Ｃ）':'nendo_kubun',\n",
    "                        '職業コード':'job_code',\n",
    "                        '年齢階層':'age_code',\n",
    "                        '性別コード':'gender_code',\n",
    "                        'データ基準年月':'cp',\n",
    "                        '活口座数':'active_account',\n",
    "                        '解約口座数':'cancel_account'})\n",
    "print(df.dtypes)"
   ]
  },
  {
   "cell_type": "code",
   "execution_count": null,
   "metadata": {},
   "outputs": [],
   "source": [
    "#味見"
   ]
  },
  {
   "cell_type": "code",
   "execution_count": 12,
   "metadata": {},
   "outputs": [
    {
     "name": "stdout",
     "output_type": "stream",
     "text": [
      "[155]\n"
     ]
    }
   ],
   "source": [
    "print(df['kaisha_code'].unique())"
   ]
  },
  {
   "cell_type": "code",
   "execution_count": 13,
   "metadata": {},
   "outputs": [
    {
     "name": "stdout",
     "output_type": "stream",
     "text": [
      "[10 90 92]\n"
     ]
    }
   ],
   "source": [
    "print(df['houshiki_code'].unique())"
   ]
  },
  {
   "cell_type": "code",
   "execution_count": 27,
   "metadata": {},
   "outputs": [
    {
     "name": "stdout",
     "output_type": "stream",
     "text": [
      "['D0001' 'D0002' 'D0004' 'D0005' 'D0006' 'D0008' 'D0011' 'D0014' 'D0018'\n",
      " 'D0021' 'D0022' 'D0023' 'D0024' 'D0050' 'D0101' 'D0102' 'D0104' 'D0105'\n",
      " 'D0106' 'D0108' 'D0111' 'D0114' 'D0118' 'D0201' 'D0204' 'D0225' 'D0226'\n",
      " 'D0227' 'D0228' 'D0003' 'D0095']\n"
     ]
    }
   ],
   "source": [
    "print(df['teikeikaisha_code1_2'].unique())"
   ]
  },
  {
   "cell_type": "code",
   "execution_count": 28,
   "metadata": {},
   "outputs": [
    {
     "name": "stdout",
     "output_type": "stream",
     "text": [
      "[ 2 31  0]\n"
     ]
    }
   ],
   "source": [
    "print(df['card_code'].unique())"
   ]
  },
  {
   "cell_type": "code",
   "execution_count": 29,
   "metadata": {},
   "outputs": [
    {
     "name": "stdout",
     "output_type": "stream",
     "text": [
      "[1 2 0]\n"
     ]
    }
   ],
   "source": [
    "print(df['brand_code'].unique())"
   ]
  },
  {
   "cell_type": "code",
   "execution_count": 30,
   "metadata": {},
   "outputs": [
    {
     "name": "stdout",
     "output_type": "stream",
     "text": [
      "[0]\n"
     ]
    }
   ],
   "source": [
    "print(df['buten_code'].unique())"
   ]
  },
  {
   "cell_type": "code",
   "execution_count": 31,
   "metadata": {},
   "outputs": [
    {
     "name": "stdout",
     "output_type": "stream",
     "text": [
      "[2006 2007 2008 2009 2010 2011 2012 2013 2014 2015 2016 2017 2018 2019\n",
      " 2020 2005 1976 1980 1982 1988 1989 1991 1992 1994 1997 1998 1999 2000\n",
      " 2001 2002 2003 2004 1971 1973 1975 1981 1983 1984 1985 1986 1987 1990\n",
      " 1993 1995 1996 1979 1972 1974 1977 1978]\n"
     ]
    }
   ],
   "source": [
    "print(df['nendo'].unique())"
   ]
  },
  {
   "cell_type": "code",
   "execution_count": 32,
   "metadata": {},
   "outputs": [
    {
     "name": "stdout",
     "output_type": "stream",
     "text": [
      "['3' ' ' '0' '1' '4' '5' '9' '2' 3 4 5 9 0 1 2]\n"
     ]
    }
   ],
   "source": [
    "print(df['job_code'].unique())"
   ]
  },
  {
   "cell_type": "code",
   "execution_count": 54,
   "metadata": {},
   "outputs": [],
   "source": [
    "df['job_code'] = df['job_code'].astype('str')"
   ]
  },
  {
   "cell_type": "code",
   "execution_count": 55,
   "metadata": {},
   "outputs": [
    {
     "name": "stdout",
     "output_type": "stream",
     "text": [
      "['3' ' ' '0' '1' '4' '5' '9' '2']\n"
     ]
    }
   ],
   "source": [
    "print(df['job_code'].unique())"
   ]
  },
  {
   "cell_type": "code",
   "execution_count": 33,
   "metadata": {},
   "outputs": [
    {
     "name": "stdout",
     "output_type": "stream",
     "text": [
      "[ 7  4  5  6  8  9 10 11 12 13 14 15  3  2]\n"
     ]
    }
   ],
   "source": [
    "print(df['age_code'].unique())"
   ]
  },
  {
   "cell_type": "code",
   "execution_count": 177,
   "metadata": {},
   "outputs": [
    {
     "data": {
      "text/html": [
       "<div>\n",
       "<style scoped>\n",
       "    .dataframe tbody tr th:only-of-type {\n",
       "        vertical-align: middle;\n",
       "    }\n",
       "\n",
       "    .dataframe tbody tr th {\n",
       "        vertical-align: top;\n",
       "    }\n",
       "\n",
       "    .dataframe thead th {\n",
       "        text-align: right;\n",
       "    }\n",
       "</style>\n",
       "<table border=\"1\" class=\"dataframe\">\n",
       "  <thead>\n",
       "    <tr style=\"text-align: right;\">\n",
       "      <th></th>\n",
       "      <th>age_code</th>\n",
       "      <th>age_range</th>\n",
       "    </tr>\n",
       "  </thead>\n",
       "  <tbody>\n",
       "    <tr>\n",
       "      <th>0</th>\n",
       "      <td>1</td>\n",
       "      <td>0歳-17歳</td>\n",
       "    </tr>\n",
       "    <tr>\n",
       "      <th>1</th>\n",
       "      <td>2</td>\n",
       "      <td>18歳-19歳</td>\n",
       "    </tr>\n",
       "    <tr>\n",
       "      <th>2</th>\n",
       "      <td>3</td>\n",
       "      <td>20歳-24歳</td>\n",
       "    </tr>\n",
       "    <tr>\n",
       "      <th>3</th>\n",
       "      <td>4</td>\n",
       "      <td>25歳-29歳</td>\n",
       "    </tr>\n",
       "    <tr>\n",
       "      <th>4</th>\n",
       "      <td>5</td>\n",
       "      <td>30歳-34歳</td>\n",
       "    </tr>\n",
       "    <tr>\n",
       "      <th>5</th>\n",
       "      <td>6</td>\n",
       "      <td>35歳-39歳</td>\n",
       "    </tr>\n",
       "    <tr>\n",
       "      <th>6</th>\n",
       "      <td>7</td>\n",
       "      <td>40歳-44歳</td>\n",
       "    </tr>\n",
       "    <tr>\n",
       "      <th>7</th>\n",
       "      <td>8</td>\n",
       "      <td>45歳-49歳</td>\n",
       "    </tr>\n",
       "    <tr>\n",
       "      <th>8</th>\n",
       "      <td>9</td>\n",
       "      <td>50歳-54歳</td>\n",
       "    </tr>\n",
       "    <tr>\n",
       "      <th>9</th>\n",
       "      <td>10</td>\n",
       "      <td>55歳-59歳</td>\n",
       "    </tr>\n",
       "    <tr>\n",
       "      <th>10</th>\n",
       "      <td>11</td>\n",
       "      <td>60歳-64歳</td>\n",
       "    </tr>\n",
       "    <tr>\n",
       "      <th>11</th>\n",
       "      <td>12</td>\n",
       "      <td>65歳-69歳</td>\n",
       "    </tr>\n",
       "    <tr>\n",
       "      <th>12</th>\n",
       "      <td>13</td>\n",
       "      <td>70歳-74歳</td>\n",
       "    </tr>\n",
       "    <tr>\n",
       "      <th>13</th>\n",
       "      <td>14</td>\n",
       "      <td>75歳-79歳</td>\n",
       "    </tr>\n",
       "    <tr>\n",
       "      <th>14</th>\n",
       "      <td>15</td>\n",
       "      <td>80歳以上</td>\n",
       "    </tr>\n",
       "  </tbody>\n",
       "</table>\n",
       "</div>"
      ],
      "text/plain": [
       "    age_code age_range\n",
       "0          1    0歳-17歳\n",
       "1          2   18歳-19歳\n",
       "2          3   20歳-24歳\n",
       "3          4   25歳-29歳\n",
       "4          5   30歳-34歳\n",
       "5          6   35歳-39歳\n",
       "6          7   40歳-44歳\n",
       "7          8   45歳-49歳\n",
       "8          9   50歳-54歳\n",
       "9         10   55歳-59歳\n",
       "10        11   60歳-64歳\n",
       "11        12   65歳-69歳\n",
       "12        13   70歳-74歳\n",
       "13        14   75歳-79歳\n",
       "14        15     80歳以上"
      ]
     },
     "execution_count": 177,
     "metadata": {},
     "output_type": "execute_result"
    }
   ],
   "source": [
    "age_list = pd.read_csv(data_dir/f\"{input_file2}.csv\",encoding='shift-jis')\n",
    "age_list"
   ]
  },
  {
   "cell_type": "code",
   "execution_count": 178,
   "metadata": {},
   "outputs": [],
   "source": [
    "df = pd.merge(df,age_list, on =['age_code'], how = 'left')"
   ]
  },
  {
   "cell_type": "code",
   "execution_count": 16,
   "metadata": {},
   "outputs": [
    {
     "name": "stdout",
     "output_type": "stream",
     "text": [
      "['40歳-44歳' '25歳-29歳' '30歳-34歳' '35歳-39歳' '45歳-49歳' '50歳-54歳' '55歳-59歳'\n",
      " '60歳-64歳' '65歳-69歳' '70歳-74歳' '75歳-79歳' '80歳以上' '20歳-24歳' '18歳-19歳']\n"
     ]
    }
   ],
   "source": [
    "print(df['age_range'].unique())"
   ]
  },
  {
   "cell_type": "code",
   "execution_count": 34,
   "metadata": {},
   "outputs": [
    {
     "name": "stdout",
     "output_type": "stream",
     "text": [
      "[2 1 0]\n"
     ]
    }
   ],
   "source": [
    "print(df['gender_code'].unique())"
   ]
  },
  {
   "cell_type": "code",
   "execution_count": 35,
   "metadata": {},
   "outputs": [
    {
     "name": "stdout",
     "output_type": "stream",
     "text": [
      "[201903 201904 201905 201906 201907 201908 201909 201910 201911 201912\n",
      " 202001 202002 202003 202004 202005 202006 202007]\n"
     ]
    }
   ],
   "source": [
    "print(df['cp'].unique())"
   ]
  },
  {
   "cell_type": "code",
   "execution_count": 179,
   "metadata": {},
   "outputs": [],
   "source": [
    "_df = df.copy()"
   ]
  },
  {
   "cell_type": "code",
   "execution_count": 180,
   "metadata": {},
   "outputs": [],
   "source": [
    "#日付データの変換\n",
    "_df['cp_date'] = pd.to_datetime(_df['cp'], format=\"%Y%m\") + MonthEnd(1)\n",
    "_df['bop_date'] = pd.to_datetime(_df['cp'], format=\"%Y%m\") + MonthEnd(2)"
   ]
  },
  {
   "cell_type": "code",
   "execution_count": 181,
   "metadata": {},
   "outputs": [],
   "source": [
    "_df['cp_date'] = _df['cp_date'].dt.strftime('%Y/%m/%d')\n",
    "_df['bop_date'] = _df['bop_date'].dt.strftime('%Y/%m/%d')"
   ]
  },
  {
   "cell_type": "code",
   "execution_count": 182,
   "metadata": {
    "scrolled": true
   },
   "outputs": [
    {
     "name": "stdout",
     "output_type": "stream",
     "text": [
      "['2019/03/31' '2019/04/30' '2019/05/31' '2019/06/30' '2019/07/31'\n",
      " '2019/08/31' '2019/09/30' '2019/10/31' '2019/11/30' '2019/12/31'\n",
      " '2020/01/31' '2020/02/29' '2020/03/31' '2020/04/30' '2020/05/31'\n",
      " '2020/06/30' '2020/07/31']\n"
     ]
    }
   ],
   "source": [
    "print(_df['cp_date'].unique())"
   ]
  },
  {
   "cell_type": "code",
   "execution_count": 183,
   "metadata": {},
   "outputs": [
    {
     "name": "stdout",
     "output_type": "stream",
     "text": [
      "['2019/04/30' '2019/05/31' '2019/06/30' '2019/07/31' '2019/08/31'\n",
      " '2019/09/30' '2019/10/31' '2019/11/30' '2019/12/31' '2020/01/31'\n",
      " '2020/02/29' '2020/03/31' '2020/04/30' '2020/05/31' '2020/06/30'\n",
      " '2020/07/31' '2020/08/31']\n"
     ]
    }
   ],
   "source": [
    "print(_df['bop_date'].unique())"
   ]
  },
  {
   "cell_type": "code",
   "execution_count": 184,
   "metadata": {},
   "outputs": [],
   "source": [
    "df = _df.copy()"
   ]
  },
  {
   "cell_type": "code",
   "execution_count": 185,
   "metadata": {
    "scrolled": true
   },
   "outputs": [
    {
     "data": {
      "text/html": [
       "<div>\n",
       "<style scoped>\n",
       "    .dataframe tbody tr th:only-of-type {\n",
       "        vertical-align: middle;\n",
       "    }\n",
       "\n",
       "    .dataframe tbody tr th {\n",
       "        vertical-align: top;\n",
       "    }\n",
       "\n",
       "    .dataframe thead th {\n",
       "        text-align: right;\n",
       "    }\n",
       "</style>\n",
       "<table border=\"1\" class=\"dataframe\">\n",
       "  <thead>\n",
       "    <tr style=\"text-align: right;\">\n",
       "      <th></th>\n",
       "      <th>cp_date</th>\n",
       "      <th>card_cate</th>\n",
       "      <th>age_range</th>\n",
       "      <th>gender</th>\n",
       "      <th>eop_no_account</th>\n",
       "      <th>sum_no_cancel</th>\n",
       "    </tr>\n",
       "  </thead>\n",
       "  <tbody>\n",
       "    <tr>\n",
       "      <th>0</th>\n",
       "      <td>2019/03/31</td>\n",
       "      <td>ゴールド</td>\n",
       "      <td>18歳-19歳</td>\n",
       "      <td>女性</td>\n",
       "      <td>0</td>\n",
       "      <td>0</td>\n",
       "    </tr>\n",
       "    <tr>\n",
       "      <th>1</th>\n",
       "      <td>2019/03/31</td>\n",
       "      <td>ゴールド</td>\n",
       "      <td>18歳-19歳</td>\n",
       "      <td>男性</td>\n",
       "      <td>0</td>\n",
       "      <td>0</td>\n",
       "    </tr>\n",
       "    <tr>\n",
       "      <th>2</th>\n",
       "      <td>2019/03/31</td>\n",
       "      <td>ゴールド</td>\n",
       "      <td>20歳-24歳</td>\n",
       "      <td>女性</td>\n",
       "      <td>0</td>\n",
       "      <td>0</td>\n",
       "    </tr>\n",
       "    <tr>\n",
       "      <th>3</th>\n",
       "      <td>2019/03/31</td>\n",
       "      <td>ゴールド</td>\n",
       "      <td>20歳-24歳</td>\n",
       "      <td>男性</td>\n",
       "      <td>0</td>\n",
       "      <td>0</td>\n",
       "    </tr>\n",
       "    <tr>\n",
       "      <th>4</th>\n",
       "      <td>2019/03/31</td>\n",
       "      <td>ゴールド</td>\n",
       "      <td>25歳-29歳</td>\n",
       "      <td>女性</td>\n",
       "      <td>715</td>\n",
       "      <td>10</td>\n",
       "    </tr>\n",
       "  </tbody>\n",
       "</table>\n",
       "</div>"
      ],
      "text/plain": [
       "      cp_date card_cate age_range gender  eop_no_account  sum_no_cancel\n",
       "0  2019/03/31      ゴールド   18歳-19歳     女性               0              0\n",
       "1  2019/03/31      ゴールド   18歳-19歳     男性               0              0\n",
       "2  2019/03/31      ゴールド   20歳-24歳     女性               0              0\n",
       "3  2019/03/31      ゴールド   20歳-24歳     男性               0              0\n",
       "4  2019/03/31      ゴールド   25歳-29歳     女性             715             10"
      ]
     },
     "execution_count": 185,
     "metadata": {},
     "output_type": "execute_result"
    }
   ],
   "source": [
    "#当月末\n",
    "q = \"\"\"\n",
    "        SELECT\n",
    "        cp_date\n",
    "        ,case\n",
    "            when substr(teikeikaisha_code1_2,1,3) = 'D02' then '外商'\n",
    "            when substr(teikeikaisha_code1_2,4,5) = '05' then 'ハウスゴールド'\n",
    "            when card_code = 2 then 'ゴールド'\n",
    "            else '一般'\n",
    "        end as card_cate\n",
    "        ,age_range\n",
    "        ,case \n",
    "            when gender_code = 1 then '男性'\n",
    "            when gender_code = 2 then '女性'\n",
    "            else '不明'\n",
    "        end as gender        \n",
    "        ,sum(active_account) as eop_no_account\n",
    "        ,sum(cancel_account) as sum_no_cancel\n",
    "        from \n",
    "            df\n",
    "        where \n",
    "            substr(teikeikaisha_code1_2,4,5) not in ('95','50')\n",
    "        group by\n",
    "            1,2,3,4\n",
    "        \"\"\"\n",
    "df_eop = sqldf(q, locals())\n",
    "df_eop.head()"
   ]
  },
  {
   "cell_type": "code",
   "execution_count": 186,
   "metadata": {
    "scrolled": false
   },
   "outputs": [],
   "source": [
    "#前月末\n",
    "q = \"\"\"\n",
    "        SELECT\n",
    "        bop_date as cp_date\n",
    "        ,case\n",
    "            when substr(teikeikaisha_code1_2,1,3) = 'D02' then '外商'\n",
    "            when substr(teikeikaisha_code1_2,4,5) = '05' then 'ハウスゴールド'\n",
    "            when card_code = 2 then 'ゴールド'\n",
    "            else '一般'\n",
    "        end as card_cate\n",
    "        ,age_range\n",
    "        ,case \n",
    "            when gender_code = 1 then '男性'\n",
    "            when gender_code = 2 then '女性'\n",
    "            else '不明'\n",
    "        end as gender        \n",
    "        ,sum(active_account) as bop_no_account\n",
    "        from \n",
    "            df\n",
    "        where \n",
    "            substr(teikeikaisha_code1_2,4,5) not in ('95','50')\n",
    "        group by\n",
    "            1,2,3,4\n",
    "        \"\"\"\n",
    "df_bop = sqldf(q, locals())"
   ]
  },
  {
   "cell_type": "code",
   "execution_count": 187,
   "metadata": {},
   "outputs": [
    {
     "data": {
      "text/html": [
       "<div>\n",
       "<style scoped>\n",
       "    .dataframe tbody tr th:only-of-type {\n",
       "        vertical-align: middle;\n",
       "    }\n",
       "\n",
       "    .dataframe tbody tr th {\n",
       "        vertical-align: top;\n",
       "    }\n",
       "\n",
       "    .dataframe thead th {\n",
       "        text-align: right;\n",
       "    }\n",
       "</style>\n",
       "<table border=\"1\" class=\"dataframe\">\n",
       "  <thead>\n",
       "    <tr style=\"text-align: right;\">\n",
       "      <th></th>\n",
       "      <th>cp_date</th>\n",
       "      <th>card_cate</th>\n",
       "      <th>age_range</th>\n",
       "      <th>gender</th>\n",
       "      <th>eop_no_account</th>\n",
       "      <th>sum_no_cancel</th>\n",
       "      <th>bop_no_account</th>\n",
       "    </tr>\n",
       "  </thead>\n",
       "  <tbody>\n",
       "    <tr>\n",
       "      <th>0</th>\n",
       "      <td>2019/03/31</td>\n",
       "      <td>ゴールド</td>\n",
       "      <td>18歳-19歳</td>\n",
       "      <td>女性</td>\n",
       "      <td>0</td>\n",
       "      <td>0</td>\n",
       "      <td>NaN</td>\n",
       "    </tr>\n",
       "    <tr>\n",
       "      <th>1</th>\n",
       "      <td>2019/03/31</td>\n",
       "      <td>ゴールド</td>\n",
       "      <td>18歳-19歳</td>\n",
       "      <td>男性</td>\n",
       "      <td>0</td>\n",
       "      <td>0</td>\n",
       "      <td>NaN</td>\n",
       "    </tr>\n",
       "    <tr>\n",
       "      <th>2</th>\n",
       "      <td>2019/03/31</td>\n",
       "      <td>ゴールド</td>\n",
       "      <td>20歳-24歳</td>\n",
       "      <td>女性</td>\n",
       "      <td>0</td>\n",
       "      <td>0</td>\n",
       "      <td>NaN</td>\n",
       "    </tr>\n",
       "    <tr>\n",
       "      <th>3</th>\n",
       "      <td>2019/03/31</td>\n",
       "      <td>ゴールド</td>\n",
       "      <td>20歳-24歳</td>\n",
       "      <td>男性</td>\n",
       "      <td>0</td>\n",
       "      <td>0</td>\n",
       "      <td>NaN</td>\n",
       "    </tr>\n",
       "    <tr>\n",
       "      <th>4</th>\n",
       "      <td>2019/03/31</td>\n",
       "      <td>ゴールド</td>\n",
       "      <td>25歳-29歳</td>\n",
       "      <td>女性</td>\n",
       "      <td>715</td>\n",
       "      <td>10</td>\n",
       "      <td>NaN</td>\n",
       "    </tr>\n",
       "    <tr>\n",
       "      <th>...</th>\n",
       "      <td>...</td>\n",
       "      <td>...</td>\n",
       "      <td>...</td>\n",
       "      <td>...</td>\n",
       "      <td>...</td>\n",
       "      <td>...</td>\n",
       "      <td>...</td>\n",
       "    </tr>\n",
       "    <tr>\n",
       "      <th>2188</th>\n",
       "      <td>2020/07/31</td>\n",
       "      <td>外商</td>\n",
       "      <td>70歳-74歳</td>\n",
       "      <td>男性</td>\n",
       "      <td>14888</td>\n",
       "      <td>58</td>\n",
       "      <td>14817.0</td>\n",
       "    </tr>\n",
       "    <tr>\n",
       "      <th>2189</th>\n",
       "      <td>2020/07/31</td>\n",
       "      <td>外商</td>\n",
       "      <td>75歳-79歳</td>\n",
       "      <td>女性</td>\n",
       "      <td>4700</td>\n",
       "      <td>20</td>\n",
       "      <td>4679.0</td>\n",
       "    </tr>\n",
       "    <tr>\n",
       "      <th>2190</th>\n",
       "      <td>2020/07/31</td>\n",
       "      <td>外商</td>\n",
       "      <td>75歳-79歳</td>\n",
       "      <td>男性</td>\n",
       "      <td>10125</td>\n",
       "      <td>41</td>\n",
       "      <td>10097.0</td>\n",
       "    </tr>\n",
       "    <tr>\n",
       "      <th>2191</th>\n",
       "      <td>2020/07/31</td>\n",
       "      <td>外商</td>\n",
       "      <td>80歳以上</td>\n",
       "      <td>女性</td>\n",
       "      <td>9767</td>\n",
       "      <td>81</td>\n",
       "      <td>9765.0</td>\n",
       "    </tr>\n",
       "    <tr>\n",
       "      <th>2192</th>\n",
       "      <td>2020/07/31</td>\n",
       "      <td>外商</td>\n",
       "      <td>80歳以上</td>\n",
       "      <td>男性</td>\n",
       "      <td>13248</td>\n",
       "      <td>107</td>\n",
       "      <td>13230.0</td>\n",
       "    </tr>\n",
       "  </tbody>\n",
       "</table>\n",
       "<p>2193 rows × 7 columns</p>\n",
       "</div>"
      ],
      "text/plain": [
       "         cp_date card_cate age_range gender  eop_no_account  sum_no_cancel  \\\n",
       "0     2019/03/31      ゴールド   18歳-19歳     女性               0              0   \n",
       "1     2019/03/31      ゴールド   18歳-19歳     男性               0              0   \n",
       "2     2019/03/31      ゴールド   20歳-24歳     女性               0              0   \n",
       "3     2019/03/31      ゴールド   20歳-24歳     男性               0              0   \n",
       "4     2019/03/31      ゴールド   25歳-29歳     女性             715             10   \n",
       "...          ...       ...       ...    ...             ...            ...   \n",
       "2188  2020/07/31        外商   70歳-74歳     男性           14888             58   \n",
       "2189  2020/07/31        外商   75歳-79歳     女性            4700             20   \n",
       "2190  2020/07/31        外商   75歳-79歳     男性           10125             41   \n",
       "2191  2020/07/31        外商     80歳以上     女性            9767             81   \n",
       "2192  2020/07/31        外商     80歳以上     男性           13248            107   \n",
       "\n",
       "      bop_no_account  \n",
       "0                NaN  \n",
       "1                NaN  \n",
       "2                NaN  \n",
       "3                NaN  \n",
       "4                NaN  \n",
       "...              ...  \n",
       "2188         14817.0  \n",
       "2189          4679.0  \n",
       "2190         10097.0  \n",
       "2191          9765.0  \n",
       "2192         13230.0  \n",
       "\n",
       "[2193 rows x 7 columns]"
      ]
     },
     "execution_count": 187,
     "metadata": {},
     "output_type": "execute_result"
    }
   ],
   "source": [
    "#マージ\n",
    "q = \"\"\"\n",
    "        SELECT\n",
    "        t1.cp_date\n",
    "        ,t1.card_cate\n",
    "        ,t1.age_range\n",
    "        ,t1.gender\n",
    "        ,t1.eop_no_account\n",
    "        ,t1.sum_no_cancel\n",
    "        ,t2.bop_no_account\n",
    "        from \n",
    "            df_eop t1\n",
    "        left join \n",
    "            df_bop t2\n",
    "        on t1.cp_date = t2.cp_date\n",
    "        and t1.card_cate = t2.card_cate\n",
    "        and t1.age_range = t2.age_range\n",
    "        and t1.gender = t2.gender\n",
    "        order by\n",
    "            1,2,3,4\n",
    "        \"\"\"\n",
    "df_eop2 = sqldf(q, locals())\n",
    "df_eop2"
   ]
  },
  {
   "cell_type": "code",
   "execution_count": 188,
   "metadata": {},
   "outputs": [
    {
     "data": {
      "text/html": [
       "<div>\n",
       "<style scoped>\n",
       "    .dataframe tbody tr th:only-of-type {\n",
       "        vertical-align: middle;\n",
       "    }\n",
       "\n",
       "    .dataframe tbody tr th {\n",
       "        vertical-align: top;\n",
       "    }\n",
       "\n",
       "    .dataframe thead th {\n",
       "        text-align: right;\n",
       "    }\n",
       "</style>\n",
       "<table border=\"1\" class=\"dataframe\">\n",
       "  <thead>\n",
       "    <tr style=\"text-align: right;\">\n",
       "      <th></th>\n",
       "      <th>cp_date</th>\n",
       "      <th>card_cate</th>\n",
       "      <th>age_range</th>\n",
       "      <th>gender</th>\n",
       "      <th>eop_no_account</th>\n",
       "      <th>sum_no_cancel</th>\n",
       "      <th>bop_no_account</th>\n",
       "      <th>cancel_rate</th>\n",
       "    </tr>\n",
       "  </thead>\n",
       "  <tbody>\n",
       "    <tr>\n",
       "      <th>0</th>\n",
       "      <td>2019/03/31</td>\n",
       "      <td>ゴールド</td>\n",
       "      <td>18歳-19歳</td>\n",
       "      <td>女性</td>\n",
       "      <td>0</td>\n",
       "      <td>0</td>\n",
       "      <td>NaN</td>\n",
       "      <td>NaN</td>\n",
       "    </tr>\n",
       "    <tr>\n",
       "      <th>1</th>\n",
       "      <td>2019/03/31</td>\n",
       "      <td>ゴールド</td>\n",
       "      <td>18歳-19歳</td>\n",
       "      <td>男性</td>\n",
       "      <td>0</td>\n",
       "      <td>0</td>\n",
       "      <td>NaN</td>\n",
       "      <td>NaN</td>\n",
       "    </tr>\n",
       "    <tr>\n",
       "      <th>2</th>\n",
       "      <td>2019/03/31</td>\n",
       "      <td>ゴールド</td>\n",
       "      <td>20歳-24歳</td>\n",
       "      <td>女性</td>\n",
       "      <td>0</td>\n",
       "      <td>0</td>\n",
       "      <td>NaN</td>\n",
       "      <td>NaN</td>\n",
       "    </tr>\n",
       "    <tr>\n",
       "      <th>3</th>\n",
       "      <td>2019/03/31</td>\n",
       "      <td>ゴールド</td>\n",
       "      <td>20歳-24歳</td>\n",
       "      <td>男性</td>\n",
       "      <td>0</td>\n",
       "      <td>0</td>\n",
       "      <td>NaN</td>\n",
       "      <td>NaN</td>\n",
       "    </tr>\n",
       "    <tr>\n",
       "      <th>4</th>\n",
       "      <td>2019/03/31</td>\n",
       "      <td>ゴールド</td>\n",
       "      <td>25歳-29歳</td>\n",
       "      <td>女性</td>\n",
       "      <td>715</td>\n",
       "      <td>10</td>\n",
       "      <td>NaN</td>\n",
       "      <td>NaN</td>\n",
       "    </tr>\n",
       "    <tr>\n",
       "      <th>...</th>\n",
       "      <td>...</td>\n",
       "      <td>...</td>\n",
       "      <td>...</td>\n",
       "      <td>...</td>\n",
       "      <td>...</td>\n",
       "      <td>...</td>\n",
       "      <td>...</td>\n",
       "      <td>...</td>\n",
       "    </tr>\n",
       "    <tr>\n",
       "      <th>2188</th>\n",
       "      <td>2020/07/31</td>\n",
       "      <td>外商</td>\n",
       "      <td>70歳-74歳</td>\n",
       "      <td>男性</td>\n",
       "      <td>14888</td>\n",
       "      <td>58</td>\n",
       "      <td>14817.0</td>\n",
       "      <td>0.003914</td>\n",
       "    </tr>\n",
       "    <tr>\n",
       "      <th>2189</th>\n",
       "      <td>2020/07/31</td>\n",
       "      <td>外商</td>\n",
       "      <td>75歳-79歳</td>\n",
       "      <td>女性</td>\n",
       "      <td>4700</td>\n",
       "      <td>20</td>\n",
       "      <td>4679.0</td>\n",
       "      <td>0.004274</td>\n",
       "    </tr>\n",
       "    <tr>\n",
       "      <th>2190</th>\n",
       "      <td>2020/07/31</td>\n",
       "      <td>外商</td>\n",
       "      <td>75歳-79歳</td>\n",
       "      <td>男性</td>\n",
       "      <td>10125</td>\n",
       "      <td>41</td>\n",
       "      <td>10097.0</td>\n",
       "      <td>0.004061</td>\n",
       "    </tr>\n",
       "    <tr>\n",
       "      <th>2191</th>\n",
       "      <td>2020/07/31</td>\n",
       "      <td>外商</td>\n",
       "      <td>80歳以上</td>\n",
       "      <td>女性</td>\n",
       "      <td>9767</td>\n",
       "      <td>81</td>\n",
       "      <td>9765.0</td>\n",
       "      <td>0.008295</td>\n",
       "    </tr>\n",
       "    <tr>\n",
       "      <th>2192</th>\n",
       "      <td>2020/07/31</td>\n",
       "      <td>外商</td>\n",
       "      <td>80歳以上</td>\n",
       "      <td>男性</td>\n",
       "      <td>13248</td>\n",
       "      <td>107</td>\n",
       "      <td>13230.0</td>\n",
       "      <td>0.008088</td>\n",
       "    </tr>\n",
       "  </tbody>\n",
       "</table>\n",
       "<p>2193 rows × 8 columns</p>\n",
       "</div>"
      ],
      "text/plain": [
       "         cp_date card_cate age_range gender  eop_no_account  sum_no_cancel  \\\n",
       "0     2019/03/31      ゴールド   18歳-19歳     女性               0              0   \n",
       "1     2019/03/31      ゴールド   18歳-19歳     男性               0              0   \n",
       "2     2019/03/31      ゴールド   20歳-24歳     女性               0              0   \n",
       "3     2019/03/31      ゴールド   20歳-24歳     男性               0              0   \n",
       "4     2019/03/31      ゴールド   25歳-29歳     女性             715             10   \n",
       "...          ...       ...       ...    ...             ...            ...   \n",
       "2188  2020/07/31        外商   70歳-74歳     男性           14888             58   \n",
       "2189  2020/07/31        外商   75歳-79歳     女性            4700             20   \n",
       "2190  2020/07/31        外商   75歳-79歳     男性           10125             41   \n",
       "2191  2020/07/31        外商     80歳以上     女性            9767             81   \n",
       "2192  2020/07/31        外商     80歳以上     男性           13248            107   \n",
       "\n",
       "      bop_no_account  cancel_rate  \n",
       "0                NaN          NaN  \n",
       "1                NaN          NaN  \n",
       "2                NaN          NaN  \n",
       "3                NaN          NaN  \n",
       "4                NaN          NaN  \n",
       "...              ...          ...  \n",
       "2188         14817.0     0.003914  \n",
       "2189          4679.0     0.004274  \n",
       "2190         10097.0     0.004061  \n",
       "2191          9765.0     0.008295  \n",
       "2192         13230.0     0.008088  \n",
       "\n",
       "[2193 rows x 8 columns]"
      ]
     },
     "execution_count": 188,
     "metadata": {},
     "output_type": "execute_result"
    }
   ],
   "source": [
    "df_eop2['cancel_rate'] = df_eop2['sum_no_cancel']/df_eop2['bop_no_account']\n",
    "df_eop2"
   ]
  },
  {
   "cell_type": "code",
   "execution_count": 189,
   "metadata": {},
   "outputs": [],
   "source": [
    "#CSV出力\n",
    "df_eop2.to_csv(data_dir /'集計_解約数速報時系列_from_cognos.csv', header=True ,index=None, encoding='shift-jis')"
   ]
  },
  {
   "cell_type": "code",
   "execution_count": null,
   "metadata": {},
   "outputs": [],
   "source": []
  }
 ],
 "metadata": {
  "kernelspec": {
   "display_name": "Python 3",
   "language": "python",
   "name": "python3"
  },
  "language_info": {
   "codemirror_mode": {
    "name": "ipython",
    "version": 3
   },
   "file_extension": ".py",
   "mimetype": "text/x-python",
   "name": "python",
   "nbconvert_exporter": "python",
   "pygments_lexer": "ipython3",
   "version": "3.7.6"
  }
 },
 "nbformat": 4,
 "nbformat_minor": 2
}
