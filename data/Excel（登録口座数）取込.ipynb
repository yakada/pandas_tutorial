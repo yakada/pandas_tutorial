{
 "cells": [
  {
   "cell_type": "markdown",
   "metadata": {},
   "source": [
    "経営管理でまとめている****年度_登録口座数.xlsxをまとめるデータ"
   ]
  },
  {
   "cell_type": "code",
   "execution_count": 1,
   "metadata": {},
   "outputs": [
    {
     "name": "stdout",
     "output_type": "stream",
     "text": [
      "Requirement already up-to-date: pandasql in c:\\programdata\\anaconda3\\lib\\site-packages (0.7.3)\n",
      "Requirement already satisfied, skipping upgrade: pandas in c:\\programdata\\anaconda3\\lib\\site-packages (from pandasql) (1.0.5)\n",
      "Requirement already satisfied, skipping upgrade: sqlalchemy in c:\\programdata\\anaconda3\\lib\\site-packages (from pandasql) (1.3.18)\n",
      "Requirement already satisfied, skipping upgrade: numpy in c:\\programdata\\anaconda3\\lib\\site-packages (from pandasql) (1.18.5)\n",
      "Requirement already satisfied, skipping upgrade: pytz>=2017.2 in c:\\programdata\\anaconda3\\lib\\site-packages (from pandas->pandasql) (2020.1)\n",
      "Requirement already satisfied, skipping upgrade: python-dateutil>=2.6.1 in c:\\programdata\\anaconda3\\lib\\site-packages (from pandas->pandasql) (2.8.1)\n",
      "Requirement already satisfied, skipping upgrade: six>=1.5 in c:\\programdata\\anaconda3\\lib\\site-packages (from python-dateutil>=2.6.1->pandas->pandasql) (1.15.0)\n",
      "Note: you may need to restart the kernel to use updated packages.\n"
     ]
    }
   ],
   "source": [
    "pip install -U pandasql"
   ]
  },
  {
   "cell_type": "code",
   "execution_count": 1,
   "metadata": {},
   "outputs": [
    {
     "name": "stdout",
     "output_type": "stream",
     "text": [
      "Collecting openpyxl\n",
      "  Using cached openpyxl-3.0.5-py2.py3-none-any.whl (242 kB)\n",
      "Requirement already satisfied, skipping upgrade: jdcal in c:\\programdata\\anaconda3\\lib\\site-packages (from openpyxl) (1.4.1)\n",
      "Requirement already satisfied, skipping upgrade: et-xmlfile in c:\\programdata\\anaconda3\\lib\\site-packages (from openpyxl) (1.0.1)\n",
      "Installing collected packages: openpyxl\n",
      "  Attempting uninstall: openpyxl\n",
      "    Found existing installation: openpyxl 3.0.4\n",
      "    Uninstalling openpyxl-3.0.4:\n",
      "Note: you may need to restart the kernel to use updated packages.\n"
     ]
    },
    {
     "name": "stderr",
     "output_type": "stream",
     "text": [
      "ERROR: Could not install packages due to an EnvironmentError: [WinError 5] アクセスが拒否されました。: 'c:\\\\programdata\\\\anaconda3\\\\lib\\\\site-packages\\\\openpyxl-3.0.4.dist-info\\\\direct_url.json'\n",
      "Consider using the `--user` option or check the permissions.\n",
      "\n"
     ]
    }
   ],
   "source": [
    "pip install -U openpyxl"
   ]
  },
  {
   "cell_type": "code",
   "execution_count": 2,
   "metadata": {},
   "outputs": [],
   "source": [
    "import pandas as pd\n",
    "import numpy as np\n",
    "from pathlib import Path\n",
    "import csv\n",
    "import xlrd\n",
    "import io\n",
    "from zipfile import ZipFile\n",
    "from datetime import date, timedelta, time, datetime\n",
    "\n",
    "#from pandasql import sqldf"
   ]
  },
  {
   "cell_type": "code",
   "execution_count": 3,
   "metadata": {},
   "outputs": [
    {
     "name": "stdout",
     "output_type": "stream",
     "text": [
      "20201103\n"
     ]
    }
   ],
   "source": [
    "today_yyyymmdd = date.today().strftime(\"%Y%m%d\")\n",
    "print(today_yyyymmdd)"
   ]
  },
  {
   "cell_type": "code",
   "execution_count": 4,
   "metadata": {},
   "outputs": [],
   "source": [
    "#pandasの表示列数を増やす\n",
    "import pandas as pd\n",
    "pd.set_option('display.max_columns', 100)"
   ]
  },
  {
   "cell_type": "code",
   "execution_count": 5,
   "metadata": {},
   "outputs": [],
   "source": [
    "#ディレクトリ指定\n",
    "data_dir = Path(r\"C:\\Users\\crie072\\Documents\\01_データ関連\\Adhoc\\202010_スコアカード\")"
   ]
  },
  {
   "cell_type": "code",
   "execution_count": 7,
   "metadata": {},
   "outputs": [],
   "source": [
    "filename = [\"2018年度_登録口座数.xlsx\",\"2019年度_登録口座数.xlsx\",\"2020年9月度_登録口座数.xlsx\"]"
   ]
  },
  {
   "cell_type": "markdown",
   "metadata": {},
   "source": [
    "登録口座数"
   ]
  },
  {
   "cell_type": "code",
   "execution_count": 8,
   "metadata": {},
   "outputs": [],
   "source": [
    "li = []#空のデータフレーム作成"
   ]
  },
  {
   "cell_type": "markdown",
   "metadata": {},
   "source": [
    "2020年度用"
   ]
  },
  {
   "cell_type": "code",
   "execution_count": 9,
   "metadata": {},
   "outputs": [
    {
     "name": "stdout",
     "output_type": "stream",
     "text": [
      "Wall time: 10.2 s\n"
     ]
    }
   ],
   "source": [
    "%%time\n",
    "shop_list = ['心斎橋店','梅田店',\"京都店\",\"神戸店\",\"東京店\",\"札幌店\",\"名古屋店\",\n",
    "             \"上野店\",\"静岡店\",\"銀座店\",\"高槻店\",\"下関店\",\"高知大丸\"]\n",
    "\n",
    "\n",
    "for f in filename:\n",
    "    input_file = f\n",
    "    input_book = pd.ExcelFile(data_dir/ f\"{input_file}\")\n",
    "    #各シート名を取得\n",
    "    input_sheet_name = input_book.sheet_names\n",
    "    num_sheet = len(input_sheet_name)\n",
    "    \n",
    "    for i in range(0,num_sheet-1):#不要なシートが一つあるので読みこまない\n",
    "        for shop in shop_list:\n",
    "            df = input_book.parse(input_sheet_name[i])\n",
    "            \n",
    "            if f[:5] == \"2020年\":\n",
    "                df = df.iloc[[47,62,83,104,125,146,174,202,209],[1,4,5,6,7,8,9,10,11,12,13,14,15,17]]#本月末口座数の行と店舗名の列だけ抽出\n",
    "                df = df.rename(columns={\"Unnamed: 1\":\"card\",\n",
    "                                        \"Unnamed: 4\":\"心斎橋店\",\n",
    "                                        \"Unnamed: 5\":\"梅田店\",\n",
    "                                        \"Unnamed: 6\":\"京都店\",\n",
    "                                        \"Unnamed: 7\":\"神戸店\",\n",
    "                                        \"Unnamed: 8\":\"東京店\",\n",
    "                                        \"Unnamed: 9\":\"札幌店\",\n",
    "                                        \"Unnamed: 10\":\"名古屋店\",\n",
    "                                        \"Unnamed: 11\":\"上野店\",\n",
    "                                        \"Unnamed: 12\":\"静岡店\",\n",
    "                                        \"Unnamed: 13\":\"銀座店\",\n",
    "                                        \"Unnamed: 14\":\"高槻店\",\n",
    "                                        \"Unnamed: 15\":\"下関店\",\n",
    "                                        \"Unnamed: 17\":\"高知大丸\"})\n",
    "            \n",
    "                df = df.drop(df.index[0])#値の入ってない最初の行を削除\n",
    "                df = df[['card',shop]].rename(columns={shop:'登録口座数'})\n",
    "                df['DM店名'] = shop\n",
    "                #余計な文字削除\n",
    "                df['card'] = df['card'].str.replace(\"\\n\",'')\n",
    "                df['card'] = df['card'].str.replace(\"大丸松坂屋カード\",'')\n",
    "                df['card'] = df['card'].str.replace(\"大丸松坂屋\",'')\n",
    "\n",
    "                #ブランド分け\n",
    "                df.loc[df['card'].str.contains(\"ＶＩＳＡ\"), 'brand'] = 'VISA'\n",
    "                #df.loc[df['card'] == \"ＶＩＳＡ\", 'brand'] = 'VISA'\n",
    "                #df.loc[df['card'] == \"ゴールドＶＩＳＡ\", 'brand'] = 'VISA'\n",
    "                #df.loc[df['card'] == \"お得意様ゴールド ＶＩＳＡ\", 'brand'] = 'VISA'\n",
    "\n",
    "                df.loc[df['card'].str.contains(\"Ｍａｓｔｅｒ\"), 'brand'] = 'Master'\n",
    "                #df.loc[df['card'] == \"Ｍａｓｔｅｒ\", 'brand'] = 'Master'\n",
    "                #df.loc[df['card'] == \"ゴールドＭａｓｔｅｒ\", 'brand'] = 'Master'\n",
    "                #df.loc[df['card'] == \"お得意様ゴールド Ｍａｓｔｅｒ\", 'brand'] = 'Master'\n",
    "\n",
    "                df.loc[df['card'].str.contains(\"ハウス\"), 'brand'] = 'ハウス'\n",
    "                #df.loc[df['card'] == \"ゴールドハウス\", 'brand'] = 'ハウス'\n",
    "\n",
    "                df.loc[df['card'] .str.contains(\"臨時\"), 'brand'] = 'VISA'\n",
    "\n",
    "                df.loc[df['card'].str.match('ＶＩＳＡ'), 'card'] = '一般'\n",
    "                df.loc[df['card'].str.match('Ｍａｓｔｅｒ'), 'card'] = '一般'\n",
    "\n",
    "                df.loc[df['card'].str.contains(\"臨時\"), 'card'] = '臨時カード'\n",
    "                df.loc[df['card'].str.contains(\"ハウス\"), 'card'] = 'ハウスゴールド'\n",
    "\n",
    "                df['card'] = df['card'].str.replace(\"ＶＩＳＡ\",'')\n",
    "                df['card'] = df['card'].str.replace(\"Ｍａｓｔｅｒ\",'')\n",
    "                #年月の列を作成\n",
    "                df['yymm'] = input_sheet_name[i]\n",
    "                df['year'] = df['yymm'].str[:4]\n",
    "                df['month'] = df['yymm'].str[5:]\n",
    "                df = df.drop(columns={'yymm'})\n",
    "\n",
    "                li.append(df)\n",
    "                \n",
    "                #df_all = pd.concat(li, axis=0, ignore_index=True)\n",
    "\n",
    "#df_all = df_all.reindex(columns = ['year','month','brand','card','shop_name','no_of_account'])"
   ]
  },
  {
   "cell_type": "markdown",
   "metadata": {},
   "source": [
    "2018-2019年度用"
   ]
  },
  {
   "cell_type": "code",
   "execution_count": 11,
   "metadata": {},
   "outputs": [
    {
     "name": "stdout",
     "output_type": "stream",
     "text": [
      "Wall time: 13.2 s\n"
     ]
    }
   ],
   "source": [
    "%%time\n",
    "#2018-2019年度　※若干レイアウトが異なるのと、下関大丸あり\n",
    "shop_list = ['心斎橋店','梅田店',\"京都店\",\"神戸店\",\"東京店\",\"札幌店\",\"名古屋店\",\n",
    "             \"上野店\",\"静岡店\",\"銀座店\",\"高槻店\",\"高知大丸\",\"下関大丸\"]\n",
    "\n",
    "for f in filename:\n",
    "    input_file = f\n",
    "    input_book = pd.ExcelFile(data_dir/ f\"{input_file}\")\n",
    "    #各シート名を取得\n",
    "    input_sheet_name = input_book.sheet_names\n",
    "    num_sheet = len(input_sheet_name)\n",
    "    \n",
    "    for i in range(0,num_sheet-1):#不要なシートが一つあるので読みこまない\n",
    "        for shop in shop_list:\n",
    "            df = input_book.parse(input_sheet_name[i])\n",
    "            \n",
    "            if f[:5] == \"2018年\" or f[:5] == \"2019年\":\n",
    "                df = df.iloc[[47,62,83,104,125,146,174,202,209],[1,3,4,5,6,7,8,10,11,12,13,14,17,18]]#本月末口座数の行と店舗名の列だけ抽出\n",
    "                df = df.rename(columns={\"Unnamed: 1\":\"card\",\n",
    "                                        \"Unnamed: 3\":\"心斎橋店\",\n",
    "                                        \"Unnamed: 4\":\"梅田店\",\n",
    "                                        \"Unnamed: 5\":\"京都店\",\n",
    "                                        \"Unnamed: 6\":\"神戸店\",\n",
    "                                        \"Unnamed: 7\":\"東京店\",\n",
    "                                        \"Unnamed: 8\":\"札幌店\",\n",
    "                                        \"Unnamed: 10\":\"名古屋店\",\n",
    "                                        \"Unnamed: 11\":\"上野店\",\n",
    "                                        \"Unnamed: 12\":\"静岡店\",\n",
    "                                        \"Unnamed: 13\":\"銀座店\",\n",
    "                                        \"Unnamed: 14\":\"高槻店\",\n",
    "                                        \"Unnamed: 17\":\"高知大丸\",\n",
    "                                        \"Unnamed: 18\":\"下関大丸\"})\n",
    "            \n",
    "                df = df.drop(df.index[0])#値の入ってない最初の行を削除\n",
    "                df = df[['card',shop]].rename(columns={shop:'登録口座数'})\n",
    "                df['DM店名'] = shop\n",
    "                #余計な文字削除\n",
    "                df['card'] = df['card'].str.replace(\"\\n\",'')\n",
    "                df['card'] = df['card'].str.replace(\"大丸松坂屋カード\",'')\n",
    "                df['card'] = df['card'].str.replace(\"大丸松坂屋\",'')\n",
    "\n",
    "                #ブランド分け\n",
    "                df.loc[df['card'].str.contains(\"ＶＩＳＡ\"), 'brand'] = 'VISA'\n",
    "                #df.loc[df['card'] == \"ＶＩＳＡ\", 'brand'] = 'VISA'\n",
    "                #df.loc[df['card'] == \"ゴールドＶＩＳＡ\", 'brand'] = 'VISA'\n",
    "                #df.loc[df['card'] == \"お得意様ゴールド ＶＩＳＡ\", 'brand'] = 'VISA'\n",
    "\n",
    "                df.loc[df['card'].str.contains(\"Ｍａｓｔｅｒ\"), 'brand'] = 'Master'\n",
    "                #df.loc[df['card'] == \"Ｍａｓｔｅｒ\", 'brand'] = 'Master'\n",
    "                #df.loc[df['card'] == \"ゴールドＭａｓｔｅｒ\", 'brand'] = 'Master'\n",
    "                #df.loc[df['card'] == \"お得意様ゴールド Ｍａｓｔｅｒ\", 'brand'] = 'Master'\n",
    "\n",
    "                df.loc[df['card'].str.contains(\"ハウス\"), 'brand'] = 'ハウス'\n",
    "                #df.loc[df['card'] == \"ゴールドハウス\", 'brand'] = 'ハウス'\n",
    "\n",
    "                df.loc[df['card'] .str.contains(\"臨時\"), 'brand'] = 'VISA'\n",
    "\n",
    "                df.loc[df['card'].str.match('ＶＩＳＡ'), 'card'] = '一般'\n",
    "                df.loc[df['card'].str.match('Ｍａｓｔｅｒ'), 'card'] = '一般'\n",
    "\n",
    "                df.loc[df['card'].str.contains(\"臨時\"), 'card'] = '臨時カード'\n",
    "                df.loc[df['card'].str.contains(\"ハウス\"), 'card'] = 'ハウスゴールド'\n",
    "\n",
    "                df['card'] = df['card'].str.replace(\"ＶＩＳＡ\",'')\n",
    "                df['card'] = df['card'].str.replace(\"Ｍａｓｔｅｒ\",'')\n",
    "                #年月の列を作成\n",
    "                df['yymm'] = input_sheet_name[i]\n",
    "                df['year'] = df['yymm'].str[:4]\n",
    "                df['month'] = df['yymm'].str[5:]\n",
    "                df = df.drop(columns={'yymm'})\n",
    "\n",
    "                li.append(df)\n",
    "                \n",
    "                #df_all = pd.concat(li, axis=0, ignore_index=True)\n",
    "\n",
    "#df_all = df_all.reindex(columns = ['year','month','brand','card','shop_name','no_of_account'])"
   ]
  },
  {
   "cell_type": "code",
   "execution_count": 12,
   "metadata": {},
   "outputs": [],
   "source": [
    "df_all = pd.concat(li, axis=0, ignore_index=True)\n",
    "df_all = df_all.reindex(columns = ['year','month','brand','card','DM店名','登録口座数'])\n",
    "df_all = df_all.sort_values(['year','month','brand','card'])"
   ]
  },
  {
   "cell_type": "code",
   "execution_count": 13,
   "metadata": {
    "scrolled": true
   },
   "outputs": [
    {
     "data": {
      "text/html": [
       "<div>\n",
       "<style scoped>\n",
       "    .dataframe tbody tr th:only-of-type {\n",
       "        vertical-align: middle;\n",
       "    }\n",
       "\n",
       "    .dataframe tbody tr th {\n",
       "        vertical-align: top;\n",
       "    }\n",
       "\n",
       "    .dataframe thead th {\n",
       "        text-align: right;\n",
       "    }\n",
       "</style>\n",
       "<table border=\"1\" class=\"dataframe\">\n",
       "  <thead>\n",
       "    <tr style=\"text-align: right;\">\n",
       "      <th></th>\n",
       "      <th>year</th>\n",
       "      <th>month</th>\n",
       "      <th>brand</th>\n",
       "      <th>card</th>\n",
       "      <th>DM店名</th>\n",
       "      <th>登録口座数</th>\n",
       "    </tr>\n",
       "  </thead>\n",
       "  <tbody>\n",
       "    <tr>\n",
       "      <th>734</th>\n",
       "      <td>2018</td>\n",
       "      <td>03</td>\n",
       "      <td>Master</td>\n",
       "      <td>お得意様ゴールド</td>\n",
       "      <td>心斎橋店</td>\n",
       "      <td>2673</td>\n",
       "    </tr>\n",
       "    <tr>\n",
       "      <th>742</th>\n",
       "      <td>2018</td>\n",
       "      <td>03</td>\n",
       "      <td>Master</td>\n",
       "      <td>お得意様ゴールド</td>\n",
       "      <td>梅田店</td>\n",
       "      <td>986</td>\n",
       "    </tr>\n",
       "    <tr>\n",
       "      <th>750</th>\n",
       "      <td>2018</td>\n",
       "      <td>03</td>\n",
       "      <td>Master</td>\n",
       "      <td>お得意様ゴールド</td>\n",
       "      <td>京都店</td>\n",
       "      <td>2800</td>\n",
       "    </tr>\n",
       "    <tr>\n",
       "      <th>758</th>\n",
       "      <td>2018</td>\n",
       "      <td>03</td>\n",
       "      <td>Master</td>\n",
       "      <td>お得意様ゴールド</td>\n",
       "      <td>神戸店</td>\n",
       "      <td>2652</td>\n",
       "    </tr>\n",
       "    <tr>\n",
       "      <th>766</th>\n",
       "      <td>2018</td>\n",
       "      <td>03</td>\n",
       "      <td>Master</td>\n",
       "      <td>お得意様ゴールド</td>\n",
       "      <td>東京店</td>\n",
       "      <td>1810</td>\n",
       "    </tr>\n",
       "  </tbody>\n",
       "</table>\n",
       "</div>"
      ],
      "text/plain": [
       "     year month   brand       card  DM店名 登録口座数\n",
       "734  2018    03  Master  お得意様ゴールド   心斎橋店  2673\n",
       "742  2018    03  Master  お得意様ゴールド    梅田店   986\n",
       "750  2018    03  Master  お得意様ゴールド    京都店  2800\n",
       "758  2018    03  Master  お得意様ゴールド    神戸店  2652\n",
       "766  2018    03  Master  お得意様ゴールド    東京店  1810"
      ]
     },
     "execution_count": 13,
     "metadata": {},
     "output_type": "execute_result"
    }
   ],
   "source": [
    "df_all.head()"
   ]
  },
  {
   "cell_type": "code",
   "execution_count": 14,
   "metadata": {
    "scrolled": true
   },
   "outputs": [
    {
     "data": {
      "text/plain": [
       "year  month\n",
       "2018  03       1600919\n",
       "      04       1601225\n",
       "      05       1605135\n",
       "      06       1605827\n",
       "      07       1602995\n",
       "      08       1603932\n",
       "      09       1602567\n",
       "      10       1603361\n",
       "      11       1605849\n",
       "      12       1607310\n",
       "2019  01       1605212\n",
       "      02       1603680\n",
       "      03       1597596\n",
       "      04       1592894\n",
       "      05       1590671\n",
       "      06       1583283\n",
       "      07       1584394\n",
       "      08       1580746\n",
       "      09       1577534\n",
       "      10       1573232\n",
       "      11       1570588\n",
       "      12       1568847\n",
       "2020  01       1567480\n",
       "      02       1564765\n",
       "      03       1558686\n",
       "      04       1549951\n",
       "      05       1541556\n",
       "      06       1532504\n",
       "      07       1525040\n",
       "      08       1516006\n",
       "      09       1497580\n",
       "Name: 登録口座数, dtype: int64"
      ]
     },
     "execution_count": 14,
     "metadata": {},
     "output_type": "execute_result"
    }
   ],
   "source": [
    "df_all.groupby(['year','month'])['登録口座数'].sum()"
   ]
  },
  {
   "cell_type": "markdown",
   "metadata": {},
   "source": [
    "Excelアウトプット"
   ]
  },
  {
   "cell_type": "code",
   "execution_count": 16,
   "metadata": {},
   "outputs": [],
   "source": [
    "df_all.to_excel(data_dir /r\"Output\"/f\"【集計】登録口座数_{today_yyyymmdd}.xlsx\"\n",
    "                ,sheet_name ='raw_登録口座数',index=None,header=True,encoding='utf-8-sig')"
   ]
  },
  {
   "cell_type": "code",
   "execution_count": null,
   "metadata": {},
   "outputs": [],
   "source": []
  },
  {
   "cell_type": "markdown",
   "metadata": {},
   "source": [
    "カード発行枚数"
   ]
  },
  {
   "cell_type": "code",
   "execution_count": 17,
   "metadata": {},
   "outputs": [],
   "source": [
    "li = []#空のデータフレーム作成"
   ]
  },
  {
   "cell_type": "markdown",
   "metadata": {},
   "source": [
    "2020年度用"
   ]
  },
  {
   "cell_type": "code",
   "execution_count": 18,
   "metadata": {},
   "outputs": [
    {
     "name": "stdout",
     "output_type": "stream",
     "text": [
      "Wall time: 10.5 s\n"
     ]
    }
   ],
   "source": [
    "%%time\n",
    "shop_list = ['心斎橋店','梅田店',\"京都店\",\"神戸店\",\"東京店\",\"札幌店\",\"名古屋店\",\n",
    "             \"上野店\",\"静岡店\",\"銀座店\",\"高槻店\",\"下関店\",\"高知大丸\"]\n",
    "\n",
    "\n",
    "for f in filename:\n",
    "    input_file = f\n",
    "    input_book = pd.ExcelFile(data_dir/ f\"{input_file}\")\n",
    "    #各シート名を取得\n",
    "    input_sheet_name = input_book.sheet_names\n",
    "    num_sheet = len(input_sheet_name)\n",
    "    \n",
    "    for i in range(0,num_sheet-1):#不要なシートが一つあるので読みこまない\n",
    "        for shop in shop_list:\n",
    "            df = input_book.parse(input_sheet_name[i])\n",
    "            \n",
    "            if f[:5] == \"2020年\":\n",
    "                df = df.iloc[[242,257,278,299,320,341,369,397,404],[1,4,5,6,7,8,9,10,11,12,13,14,15,17]]#本月末口座数の行と店舗名の列だけ抽出\n",
    "                df = df.rename(columns={\"Unnamed: 1\":\"card\",\n",
    "                                        \"Unnamed: 4\":\"心斎橋店\",\n",
    "                                        \"Unnamed: 5\":\"梅田店\",\n",
    "                                        \"Unnamed: 6\":\"京都店\",\n",
    "                                        \"Unnamed: 7\":\"神戸店\",\n",
    "                                        \"Unnamed: 8\":\"東京店\",\n",
    "                                        \"Unnamed: 9\":\"札幌店\",\n",
    "                                        \"Unnamed: 10\":\"名古屋店\",\n",
    "                                        \"Unnamed: 11\":\"上野店\",\n",
    "                                        \"Unnamed: 12\":\"静岡店\",\n",
    "                                        \"Unnamed: 13\":\"銀座店\",\n",
    "                                        \"Unnamed: 14\":\"高槻店\",\n",
    "                                        \"Unnamed: 15\":\"下関店\",\n",
    "                                        \"Unnamed: 17\":\"高知大丸\"})\n",
    "            \n",
    "                df = df.drop(df.index[0])#値の入ってない最初の行を削除\n",
    "                df = df[['card',shop]].rename(columns={shop:'発行枚数'})\n",
    "                df['DM店名'] = shop\n",
    "                #余計な文字削除\n",
    "                df['card'] = df['card'].str.replace(\"\\n\",'')\n",
    "                df['card'] = df['card'].str.replace(\"大丸松坂屋カード\",'')\n",
    "                df['card'] = df['card'].str.replace(\"大丸松坂屋\",'')\n",
    "\n",
    "                #ブランド分け\n",
    "                df.loc[df['card'].str.contains(\"ＶＩＳＡ\"), 'brand'] = 'VISA'\n",
    "                #df.loc[df['card'] == \"ＶＩＳＡ\", 'brand'] = 'VISA'\n",
    "                #df.loc[df['card'] == \"ゴールドＶＩＳＡ\", 'brand'] = 'VISA'\n",
    "                #df.loc[df['card'] == \"お得意様ゴールド ＶＩＳＡ\", 'brand'] = 'VISA'\n",
    "\n",
    "                df.loc[df['card'].str.contains(\"Ｍａｓｔｅｒ\"), 'brand'] = 'Master'\n",
    "                #df.loc[df['card'] == \"Ｍａｓｔｅｒ\", 'brand'] = 'Master'\n",
    "                #df.loc[df['card'] == \"ゴールドＭａｓｔｅｒ\", 'brand'] = 'Master'\n",
    "                #df.loc[df['card'] == \"お得意様ゴールド Ｍａｓｔｅｒ\", 'brand'] = 'Master'\n",
    "\n",
    "                df.loc[df['card'].str.contains(\"ハウス\"), 'brand'] = 'ハウス'\n",
    "                #df.loc[df['card'] == \"ゴールドハウス\", 'brand'] = 'ハウス'\n",
    "\n",
    "                df.loc[df['card'] .str.contains(\"臨時\"), 'brand'] = 'VISA'\n",
    "\n",
    "                df.loc[df['card'].str.match('ＶＩＳＡ'), 'card'] = '一般'\n",
    "                df.loc[df['card'].str.match('Ｍａｓｔｅｒ'), 'card'] = '一般'\n",
    "\n",
    "                df.loc[df['card'].str.contains(\"臨時\"), 'card'] = '臨時カード'\n",
    "                df.loc[df['card'].str.contains(\"ハウス\"), 'card'] = 'ハウスゴールド'\n",
    "\n",
    "                df['card'] = df['card'].str.replace(\"ＶＩＳＡ\",'')\n",
    "                df['card'] = df['card'].str.replace(\"Ｍａｓｔｅｒ\",'')\n",
    "                #年月の列を作成\n",
    "                df['yymm'] = input_sheet_name[i]\n",
    "                df['year'] = df['yymm'].str[:4]\n",
    "                df['month'] = df['yymm'].str[5:]\n",
    "                df = df.drop(columns={'yymm'})\n",
    "\n",
    "                li.append(df)\n",
    "                \n",
    "                #df_all = pd.concat(li, axis=0, ignore_index=True)\n",
    "\n",
    "#df_all = df_all.reindex(columns = ['year','month','brand','card','shop_name','no_of_account'])"
   ]
  },
  {
   "cell_type": "markdown",
   "metadata": {},
   "source": [
    "2018-2019年度用"
   ]
  },
  {
   "cell_type": "code",
   "execution_count": 19,
   "metadata": {},
   "outputs": [
    {
     "name": "stdout",
     "output_type": "stream",
     "text": [
      "Wall time: 14 s\n"
     ]
    }
   ],
   "source": [
    "%%time\n",
    "#2018-2019年度　※若干レイアウトが異なるのと、下関大丸あり\n",
    "shop_list = ['心斎橋店','梅田店',\"京都店\",\"神戸店\",\"東京店\",\"札幌店\",\"名古屋店\",\n",
    "             \"上野店\",\"静岡店\",\"銀座店\",\"高槻店\",\"高知大丸\",\"下関大丸\"]\n",
    "\n",
    "for f in filename:\n",
    "    input_file = f\n",
    "    input_book = pd.ExcelFile(data_dir/ f\"{input_file}\")\n",
    "    #各シート名を取得\n",
    "    input_sheet_name = input_book.sheet_names\n",
    "    num_sheet = len(input_sheet_name)\n",
    "    \n",
    "    for i in range(0,num_sheet-1):#不要なシートが一つあるので読みこまない\n",
    "        for shop in shop_list:\n",
    "            df = input_book.parse(input_sheet_name[i])\n",
    "            \n",
    "            if f[:5] == \"2018年\" or f[:5] == \"2019年\":\n",
    "                df = df.iloc[[243,258,279,300,321,342,370,398,405],[1,3,4,5,6,7,8,10,11,12,13,14,17,18]]#本月末口座数の行と店舗名の列だけ抽出\n",
    "                df = df.rename(columns={\"Unnamed: 1\":\"card\",\n",
    "                                        \"Unnamed: 3\":\"心斎橋店\",\n",
    "                                        \"Unnamed: 4\":\"梅田店\",\n",
    "                                        \"Unnamed: 5\":\"京都店\",\n",
    "                                        \"Unnamed: 6\":\"神戸店\",\n",
    "                                        \"Unnamed: 7\":\"東京店\",\n",
    "                                        \"Unnamed: 8\":\"札幌店\",\n",
    "                                        \"Unnamed: 10\":\"名古屋店\",\n",
    "                                        \"Unnamed: 11\":\"上野店\",\n",
    "                                        \"Unnamed: 12\":\"静岡店\",\n",
    "                                        \"Unnamed: 13\":\"銀座店\",\n",
    "                                        \"Unnamed: 14\":\"高槻店\",\n",
    "                                        \"Unnamed: 17\":\"高知大丸\",\n",
    "                                        \"Unnamed: 18\":\"下関大丸\"})\n",
    "            \n",
    "                df = df.drop(df.index[0])#値の入ってない最初の行を削除\n",
    "                df = df[['card',shop]].rename(columns={shop:'発行枚数'})\n",
    "                df['DM店名'] = shop\n",
    "                #余計な文字削除\n",
    "                df['card'] = df['card'].str.replace(\"\\n\",'')\n",
    "                df['card'] = df['card'].str.replace(\"大丸松坂屋カード\",'')\n",
    "                df['card'] = df['card'].str.replace(\"大丸松坂屋\",'')\n",
    "\n",
    "                #ブランド分け\n",
    "                df.loc[df['card'].str.contains(\"ＶＩＳＡ\"), 'brand'] = 'VISA'\n",
    "                #df.loc[df['card'] == \"ＶＩＳＡ\", 'brand'] = 'VISA'\n",
    "                #df.loc[df['card'] == \"ゴールドＶＩＳＡ\", 'brand'] = 'VISA'\n",
    "                #df.loc[df['card'] == \"お得意様ゴールド ＶＩＳＡ\", 'brand'] = 'VISA'\n",
    "\n",
    "                df.loc[df['card'].str.contains(\"Ｍａｓｔｅｒ\"), 'brand'] = 'Master'\n",
    "                #df.loc[df['card'] == \"Ｍａｓｔｅｒ\", 'brand'] = 'Master'\n",
    "                #df.loc[df['card'] == \"ゴールドＭａｓｔｅｒ\", 'brand'] = 'Master'\n",
    "                #df.loc[df['card'] == \"お得意様ゴールド Ｍａｓｔｅｒ\", 'brand'] = 'Master'\n",
    "\n",
    "                df.loc[df['card'].str.contains(\"ハウス\"), 'brand'] = 'ハウス'\n",
    "                #df.loc[df['card'] == \"ゴールドハウス\", 'brand'] = 'ハウス'\n",
    "\n",
    "                df.loc[df['card'] .str.contains(\"臨時\"), 'brand'] = 'VISA'\n",
    "\n",
    "                df.loc[df['card'].str.match('ＶＩＳＡ'), 'card'] = '一般'\n",
    "                df.loc[df['card'].str.match('Ｍａｓｔｅｒ'), 'card'] = '一般'\n",
    "\n",
    "                df.loc[df['card'].str.contains(\"臨時\"), 'card'] = '臨時カード'\n",
    "                df.loc[df['card'].str.contains(\"ハウス\"), 'card'] = 'ハウスゴールド'\n",
    "\n",
    "                df['card'] = df['card'].str.replace(\"ＶＩＳＡ\",'')\n",
    "                df['card'] = df['card'].str.replace(\"Ｍａｓｔｅｒ\",'')\n",
    "                #年月の列を作成\n",
    "                df['yymm'] = input_sheet_name[i]\n",
    "                df['year'] = df['yymm'].str[:4]\n",
    "                df['month'] = df['yymm'].str[5:]\n",
    "                df = df.drop(columns={'yymm'})\n",
    "\n",
    "                li.append(df)\n",
    "                \n",
    "                #df_all = pd.concat(li, axis=0, ignore_index=True)\n",
    "\n",
    "#df_all = df_all.reindex(columns = ['year','month','brand','card','shop_name','no_of_account'])"
   ]
  },
  {
   "cell_type": "code",
   "execution_count": 20,
   "metadata": {},
   "outputs": [],
   "source": [
    "df_all = pd.concat(li, axis=0, ignore_index=True)\n",
    "df_all = df_all.reindex(columns = ['year','month','brand','card','DM店名','発行枚数'])\n",
    "df_all = df_all.sort_values(['year','month','brand','card'])"
   ]
  },
  {
   "cell_type": "code",
   "execution_count": 21,
   "metadata": {
    "scrolled": true
   },
   "outputs": [
    {
     "data": {
      "text/html": [
       "<div>\n",
       "<style scoped>\n",
       "    .dataframe tbody tr th:only-of-type {\n",
       "        vertical-align: middle;\n",
       "    }\n",
       "\n",
       "    .dataframe tbody tr th {\n",
       "        vertical-align: top;\n",
       "    }\n",
       "\n",
       "    .dataframe thead th {\n",
       "        text-align: right;\n",
       "    }\n",
       "</style>\n",
       "<table border=\"1\" class=\"dataframe\">\n",
       "  <thead>\n",
       "    <tr style=\"text-align: right;\">\n",
       "      <th></th>\n",
       "      <th>year</th>\n",
       "      <th>month</th>\n",
       "      <th>brand</th>\n",
       "      <th>card</th>\n",
       "      <th>DM店名</th>\n",
       "      <th>発行枚数</th>\n",
       "    </tr>\n",
       "  </thead>\n",
       "  <tbody>\n",
       "    <tr>\n",
       "      <th>734</th>\n",
       "      <td>2018</td>\n",
       "      <td>03</td>\n",
       "      <td>Master</td>\n",
       "      <td>お得意様ゴールド</td>\n",
       "      <td>心斎橋店</td>\n",
       "      <td>5491</td>\n",
       "    </tr>\n",
       "    <tr>\n",
       "      <th>742</th>\n",
       "      <td>2018</td>\n",
       "      <td>03</td>\n",
       "      <td>Master</td>\n",
       "      <td>お得意様ゴールド</td>\n",
       "      <td>梅田店</td>\n",
       "      <td>2072</td>\n",
       "    </tr>\n",
       "    <tr>\n",
       "      <th>750</th>\n",
       "      <td>2018</td>\n",
       "      <td>03</td>\n",
       "      <td>Master</td>\n",
       "      <td>お得意様ゴールド</td>\n",
       "      <td>京都店</td>\n",
       "      <td>5914</td>\n",
       "    </tr>\n",
       "    <tr>\n",
       "      <th>758</th>\n",
       "      <td>2018</td>\n",
       "      <td>03</td>\n",
       "      <td>Master</td>\n",
       "      <td>お得意様ゴールド</td>\n",
       "      <td>神戸店</td>\n",
       "      <td>5648</td>\n",
       "    </tr>\n",
       "    <tr>\n",
       "      <th>766</th>\n",
       "      <td>2018</td>\n",
       "      <td>03</td>\n",
       "      <td>Master</td>\n",
       "      <td>お得意様ゴールド</td>\n",
       "      <td>東京店</td>\n",
       "      <td>3294</td>\n",
       "    </tr>\n",
       "  </tbody>\n",
       "</table>\n",
       "</div>"
      ],
      "text/plain": [
       "     year month   brand       card  DM店名  発行枚数\n",
       "734  2018    03  Master  お得意様ゴールド   心斎橋店  5491\n",
       "742  2018    03  Master  お得意様ゴールド    梅田店  2072\n",
       "750  2018    03  Master  お得意様ゴールド    京都店  5914\n",
       "758  2018    03  Master  お得意様ゴールド    神戸店  5648\n",
       "766  2018    03  Master  お得意様ゴールド    東京店  3294"
      ]
     },
     "execution_count": 21,
     "metadata": {},
     "output_type": "execute_result"
    }
   ],
   "source": [
    "df_all.head()"
   ]
  },
  {
   "cell_type": "code",
   "execution_count": 22,
   "metadata": {},
   "outputs": [
    {
     "data": {
      "text/plain": [
       "year  month\n",
       "2018  03       1924604\n",
       "      04       1924929\n",
       "      05       1929594\n",
       "      06       1930536\n",
       "      07       1927129\n",
       "      08       1928291\n",
       "      09       1926448\n",
       "      10       1927458\n",
       "      11       1930331\n",
       "      12       1932251\n",
       "2019  01       1930423\n",
       "      02       1929135\n",
       "      03       1923056\n",
       "      04       1918398\n",
       "      05       1916785\n",
       "      06       1909111\n",
       "      07       1910873\n",
       "      08       1907233\n",
       "      09       1903764\n",
       "      10       1899652\n",
       "      11       1897632\n",
       "      12       1896339\n",
       "2020  01       1895775\n",
       "      02       1893446\n",
       "      03       1887630\n",
       "      04       1878411\n",
       "      05       1869380\n",
       "      06       1860075\n",
       "      07       1852577\n",
       "      08       1843074\n",
       "      09       1821411\n",
       "Name: 発行枚数, dtype: int64"
      ]
     },
     "execution_count": 22,
     "metadata": {},
     "output_type": "execute_result"
    }
   ],
   "source": [
    "df_all.groupby(['year','month'])['発行枚数'].sum()"
   ]
  },
  {
   "cell_type": "markdown",
   "metadata": {},
   "source": [
    "Excelアウトプット"
   ]
  },
  {
   "cell_type": "code",
   "execution_count": 23,
   "metadata": {},
   "outputs": [],
   "source": [
    "with pd.ExcelWriter(data_dir /r\"Output\"/f\"【集計】登録口座数_{today_yyyymmdd}.xlsx\", mode='a',engine='openpyxl') as writer:\n",
    "    df_all.to_excel(writer, sheet_name='raw_カード発行枚数',index=None,header=True,encoding='utf-8-sig')"
   ]
  }
 ],
 "metadata": {
  "kernelspec": {
   "display_name": "Python 3",
   "language": "python",
   "name": "python3"
  },
  "language_info": {
   "codemirror_mode": {
    "name": "ipython",
    "version": 3
   },
   "file_extension": ".py",
   "mimetype": "text/x-python",
   "name": "python",
   "nbconvert_exporter": "python",
   "pygments_lexer": "ipython3",
   "version": "3.8.3"
  }
 },
 "nbformat": 4,
 "nbformat_minor": 2
}
