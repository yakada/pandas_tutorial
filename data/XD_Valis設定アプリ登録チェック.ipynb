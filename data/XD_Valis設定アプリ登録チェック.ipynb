{
 "cells": [
  {
   "cell_type": "code",
   "execution_count": 1,
   "metadata": {},
   "outputs": [],
   "source": [
    "# ライブラリimport\n",
    "import argparse\n",
    "import logging\n",
    "import os\n",
    "\n",
    "import pandas as pd\n",
    "from pandas import DataFrame\n",
    "import pandas.tseries.offsets as offsets\n",
    "import numpy as np\n",
    "from datetime import date, timedelta, time, datetime\n",
    "from tabulate import tabulate\n",
    "\n",
    "from itertools import product\n",
    "\n",
    "from ailab_tools.smn import ImpalaResource\n",
    "from ailab_tools.utils import GMail, GSheet\n",
    "\n",
    "from collections import OrderedDict\n",
    "\n",
    "import zipfile\n",
    "import glob\n",
    "\n",
    "import gc\n",
    "\n",
    "from ailab_tools.magics import slack_notify"
   ]
  },
  {
   "cell_type": "code",
   "execution_count": 2,
   "metadata": {},
   "outputs": [
    {
     "name": "stdout",
     "output_type": "stream",
     "text": [
      "190805\n"
     ]
    }
   ],
   "source": [
    "today_yymmdd = date.today().strftime(\"%y%m%d\")\n",
    "print(today_yymmdd)"
   ]
  },
  {
   "cell_type": "code",
   "execution_count": 3,
   "metadata": {},
   "outputs": [],
   "source": [
    "#クロスデバイステーブル\n",
    "xd_table = 'segment.drawbridge_device'"
   ]
  },
  {
   "cell_type": "markdown",
   "metadata": {},
   "source": [
    "3992\t株式会社 新学社"
   ]
  },
  {
   "cell_type": "code",
   "execution_count": 4,
   "metadata": {},
   "outputs": [],
   "source": [
    "#デバイス\n",
    "seed_sp_device = 'iOS','Android'\n",
    "xd_sp_device = 'iphone','android_phone','windows_phone'\n",
    "xd_pc_device = 'windows_computer','linux_computer','mac','android_tablet','ipad','windows_tablet'\n",
    "\n",
    "#ターゲット\n",
    "advertiser_id = 3992\n",
    "retargeting_group_id = 111776 #XD_00_CV\n",
    "\n",
    "grp = 'rtg'"
   ]
  },
  {
   "cell_type": "code",
   "execution_count": 5,
   "metadata": {},
   "outputs": [
    {
     "name": "stdout",
     "output_type": "stream",
     "text": [
      "dm_tmp.ya_xd_advid_3992_rtg_111776_190805\n"
     ]
    }
   ],
   "source": [
    "uid_table = f\"dm_tmp.ya_xd_advid_{advertiser_id}_{grp}_{retargeting_group_id}_{today_yymmdd}\"\n",
    "print(uid_table)"
   ]
  },
  {
   "cell_type": "markdown",
   "metadata": {},
   "source": [
    "SP⇔PC"
   ]
  },
  {
   "cell_type": "code",
   "execution_count": 6,
   "metadata": {},
   "outputs": [
    {
     "name": "stderr",
     "output_type": "stream",
     "text": [
      "INFO:ailab_tools.smn.impala_client:loaded configuration file: /opt/anaconda3/lib/python3.7/site-packages/ailab_tools/config/ailab_tools_config.py\n",
      "INFO:ailab_tools.smn.impala_client:hosts : ['172.16.60.109']\n",
      "INFO:ailab_tools.smn.impala_client:impala_host : 172.16.60.109\n",
      "INFO:ailab_tools.smn.impala_client:impala_port : 21050\n",
      "INFO:ailab_tools.smn.impala_client:impala_user : vmspool\n",
      "INFO:ailab_tools.smn.impala_client:impala_password : \n",
      "INFO:ailab_tools.smn.impala_client:request_pool : vmspool\n",
      "INFO:ailab_tools.smn.impala_client:configuration : {'REQUEST_POOL': 'vmspool'}\n",
      "INFO:ailab_tools.smn.impala_resource:loaded configuration file: /opt/anaconda3/lib/python3.7/site-packages/ailab_tools/config/ailab_tools_config.py\n",
      "INFO:ailab_tools.smn.impala_resource:httpfs_host: hc3manager02.hc3pro\n",
      "INFO:ailab_tools.smn.impala_resource:httpfs_port: 14000\n",
      "INFO:impyla_service:Impala open connection OK. hostname = [172.16.60.109]\n",
      "INFO:impyla_service:New connection is opened.\n",
      "INFO:impyla_service:実行SQL: \n",
      "    select \n",
      "    distinct \n",
      "    db2.smn_uid\n",
      "    ,case when db2.device in ('iphone','android_phone','windows_phone') then 'SP' ELSE 'PC' END as xd_device\n",
      "    from dsplog.adserver ads\n",
      "    inner join segment.drawbridge_device db\n",
      "    on ads.smn_uid = db.smn_uid\n",
      "    inner join segment.drawbridge_device db2\n",
      "    on db.drawbridge_consumer_id = db2.drawbridge_consumer_id\n",
      "    where concat_ws('-',year,month,day) between to_date(days_add(now(),-30)) and to_date(days_add(now(),-1))\n",
      "    and advertiser_id = 3992\n",
      "    and retargeting_group_id = 111776\n",
      "/*  and ads.user_agent_os_family in ('iOS', 'Android')*/\n",
      "/*  and db2.device in ('windows_computer', 'linux_computer', 'mac', 'android_tablet', 'ipad', 'windows_tablet')*/\n",
      "    and db2.smn_uid > 0\n",
      "    and ads.smn_uid <> db2.smn_uid\n",
      "    limit 10000\n",
      "    \n",
      "INFO:impala.hiveserver2:Closing active operation\n",
      "INFO:impyla_service:Connection is closed.\n",
      "INFO:ailab_tools.utils.slack:loaded configuration file: /opt/anaconda3/lib/python3.7/site-packages/ailab_tools/config/ailab_tools_config.py\n",
      "INFO:ailab_tools.utils.slack:Slack: Posted a message to Slack.\n"
     ]
    }
   ],
   "source": [
    "%%slack_notify @yusuke_akada\n",
    "\n",
    "#f-string\n",
    "query = (\n",
    "    f\"\"\"\n",
    "    select \n",
    "    distinct \n",
    "    db2.smn_uid\n",
    "    ,case when db2.device in ('iphone','android_phone','windows_phone') then 'SP' ELSE 'PC' END as xd_device\n",
    "    from dsplog.adserver ads\n",
    "    inner join segment.drawbridge_device db\n",
    "    on ads.smn_uid = db.smn_uid\n",
    "    inner join segment.drawbridge_device db2\n",
    "    on db.drawbridge_consumer_id = db2.drawbridge_consumer_id\n",
    "    where concat_ws('-',year,month,day) between to_date(days_add(now(),-30)) and to_date(days_add(now(),-1))\n",
    "    and advertiser_id = {advertiser_id}\n",
    "    and retargeting_group_id = {retargeting_group_id}\n",
    "/*  and ads.user_agent_os_family in {seed_sp_device}*/\n",
    "/*  and db2.device in {xd_pc_device}*/\n",
    "    and db2.smn_uid > 0\n",
    "    and ads.smn_uid <> db2.smn_uid\n",
    "    limit 10000\n",
    "    \"\"\"\n",
    "    )\n",
    "\n",
    "with ImpalaResource(hosts=[\"172.16.60.109\"], port=21050, user='vmspool',\n",
    "                    request_pool='vmspool', httpfs_host='hc3manager02.hc3pro', httpfs_port=14000) as ir:\n",
    "        df = ir.sql_to_pandas(query)"
   ]
  },
  {
   "cell_type": "code",
   "execution_count": 7,
   "metadata": {},
   "outputs": [
    {
     "data": {
      "text/plain": [
       "89"
      ]
     },
     "execution_count": 7,
     "metadata": {},
     "output_type": "execute_result"
    }
   ],
   "source": [
    "df.shape[0]"
   ]
  },
  {
   "cell_type": "code",
   "execution_count": 8,
   "metadata": {},
   "outputs": [
    {
     "data": {
      "text/plain": [
       "xd_device\n",
       "PC    27\n",
       "SP    62\n",
       "Name: smn_uid, dtype: int64"
      ]
     },
     "execution_count": 8,
     "metadata": {},
     "output_type": "execute_result"
    }
   ],
   "source": [
    "df.groupby([\"xd_device\"])[\"smn_uid\"].count()"
   ]
  },
  {
   "cell_type": "code",
   "execution_count": 9,
   "metadata": {},
   "outputs": [],
   "source": [
    "df_fix = df.drop(\"xd_device\", axis=1)"
   ]
  },
  {
   "cell_type": "code",
   "execution_count": 10,
   "metadata": {},
   "outputs": [],
   "source": [
    "df_fix.to_csv(f'{uid_table}.tsv', sep='\\t', index=False, header=False)"
   ]
  },
  {
   "cell_type": "code",
   "execution_count": null,
   "metadata": {},
   "outputs": [],
   "source": []
  },
  {
   "cell_type": "markdown",
   "metadata": {},
   "source": [
    "3992\t株式会社 新学社"
   ]
  },
  {
   "cell_type": "code",
   "execution_count": 11,
   "metadata": {},
   "outputs": [],
   "source": [
    "#デバイス\n",
    "seed_sp_device = 'iOS','Android'\n",
    "xd_sp_device = 'iphone','android_phone','windows_phone'\n",
    "xd_pc_device = 'windows_computer','linux_computer','mac','android_tablet','ipad','windows_tablet'\n",
    "\n",
    "#ターゲット\n",
    "advertiser_id = 3992\n",
    "retargeting_group_id = 111777 # XD_11_フォーム（お試し）_LP\n",
    "\n",
    "grp = 'rtg'"
   ]
  },
  {
   "cell_type": "code",
   "execution_count": 12,
   "metadata": {},
   "outputs": [
    {
     "name": "stdout",
     "output_type": "stream",
     "text": [
      "dm_tmp.ya_xd_advid_3992_rtg_111777_190805\n"
     ]
    }
   ],
   "source": [
    "uid_table = f\"dm_tmp.ya_xd_advid_{advertiser_id}_{grp}_{retargeting_group_id}_{today_yymmdd}\"\n",
    "print(uid_table)"
   ]
  },
  {
   "cell_type": "markdown",
   "metadata": {},
   "source": [
    "SP⇔PC"
   ]
  },
  {
   "cell_type": "code",
   "execution_count": 13,
   "metadata": {},
   "outputs": [
    {
     "name": "stderr",
     "output_type": "stream",
     "text": [
      "INFO:ailab_tools.smn.impala_client:loaded configuration file: /opt/anaconda3/lib/python3.7/site-packages/ailab_tools/config/ailab_tools_config.py\n",
      "INFO:ailab_tools.smn.impala_client:hosts : ['172.16.60.109']\n",
      "INFO:ailab_tools.smn.impala_client:impala_host : 172.16.60.109\n",
      "INFO:ailab_tools.smn.impala_client:impala_port : 21050\n",
      "INFO:ailab_tools.smn.impala_client:impala_user : vmspool\n",
      "INFO:ailab_tools.smn.impala_client:impala_password : \n",
      "INFO:ailab_tools.smn.impala_client:request_pool : vmspool\n",
      "INFO:ailab_tools.smn.impala_client:configuration : {'REQUEST_POOL': 'vmspool'}\n",
      "INFO:ailab_tools.smn.impala_resource:loaded configuration file: /opt/anaconda3/lib/python3.7/site-packages/ailab_tools/config/ailab_tools_config.py\n",
      "INFO:ailab_tools.smn.impala_resource:httpfs_host: hc3manager02.hc3pro\n",
      "INFO:ailab_tools.smn.impala_resource:httpfs_port: 14000\n",
      "INFO:impyla_service:Impala open connection OK. hostname = [172.16.60.109]\n",
      "INFO:impyla_service:New connection is opened.\n",
      "INFO:impyla_service:実行SQL: \n",
      "    select \n",
      "    distinct \n",
      "    db2.smn_uid\n",
      "    ,case when db2.device in ('iphone','android_phone','windows_phone') then 'SP' ELSE 'PC' END as xd_device\n",
      "    from dsplog.adserver ads\n",
      "    inner join segment.drawbridge_device db\n",
      "    on ads.smn_uid = db.smn_uid\n",
      "    inner join segment.drawbridge_device db2\n",
      "    on db.drawbridge_consumer_id = db2.drawbridge_consumer_id\n",
      "    where concat_ws('-',year,month,day) between to_date(days_add(now(),-30)) and to_date(days_add(now(),-1))\n",
      "    and advertiser_id = 3992\n",
      "    and retargeting_group_id = 111777\n",
      "/*  and ads.user_agent_os_family in ('iOS', 'Android')*/\n",
      "/*  and db2.device in ('windows_computer', 'linux_computer', 'mac', 'android_tablet', 'ipad', 'windows_tablet')*/\n",
      "    and db2.smn_uid > 0\n",
      "    and ads.smn_uid <> db2.smn_uid\n",
      "    limit 10000\n",
      "    \n",
      "INFO:impala.hiveserver2:Closing active operation\n",
      "INFO:impyla_service:Connection is closed.\n",
      "INFO:ailab_tools.utils.slack:loaded configuration file: /opt/anaconda3/lib/python3.7/site-packages/ailab_tools/config/ailab_tools_config.py\n",
      "INFO:ailab_tools.utils.slack:Slack: Posted a message to Slack.\n"
     ]
    }
   ],
   "source": [
    "%%slack_notify @yusuke_akada\n",
    "\n",
    "#f-string\n",
    "query = (\n",
    "    f\"\"\"\n",
    "    select \n",
    "    distinct \n",
    "    db2.smn_uid\n",
    "    ,case when db2.device in ('iphone','android_phone','windows_phone') then 'SP' ELSE 'PC' END as xd_device\n",
    "    from dsplog.adserver ads\n",
    "    inner join segment.drawbridge_device db\n",
    "    on ads.smn_uid = db.smn_uid\n",
    "    inner join segment.drawbridge_device db2\n",
    "    on db.drawbridge_consumer_id = db2.drawbridge_consumer_id\n",
    "    where concat_ws('-',year,month,day) between to_date(days_add(now(),-30)) and to_date(days_add(now(),-1))\n",
    "    and advertiser_id = {advertiser_id}\n",
    "    and retargeting_group_id = {retargeting_group_id}\n",
    "/*  and ads.user_agent_os_family in {seed_sp_device}*/\n",
    "/*  and db2.device in {xd_pc_device}*/\n",
    "    and db2.smn_uid > 0\n",
    "    and ads.smn_uid <> db2.smn_uid\n",
    "    limit 10000\n",
    "    \"\"\"\n",
    "    )\n",
    "\n",
    "with ImpalaResource(hosts=[\"172.16.60.109\"], port=21050, user='vmspool',\n",
    "                    request_pool='vmspool', httpfs_host='hc3manager02.hc3pro', httpfs_port=14000) as ir:\n",
    "        df = ir.sql_to_pandas(query)"
   ]
  },
  {
   "cell_type": "code",
   "execution_count": 14,
   "metadata": {},
   "outputs": [
    {
     "data": {
      "text/plain": [
       "4571"
      ]
     },
     "execution_count": 14,
     "metadata": {},
     "output_type": "execute_result"
    }
   ],
   "source": [
    "df.shape[0]"
   ]
  },
  {
   "cell_type": "code",
   "execution_count": 15,
   "metadata": {},
   "outputs": [
    {
     "data": {
      "text/plain": [
       "xd_device\n",
       "PC    1418\n",
       "SP    3153\n",
       "Name: smn_uid, dtype: int64"
      ]
     },
     "execution_count": 15,
     "metadata": {},
     "output_type": "execute_result"
    }
   ],
   "source": [
    "df.groupby([\"xd_device\"])[\"smn_uid\"].count()"
   ]
  },
  {
   "cell_type": "code",
   "execution_count": 16,
   "metadata": {},
   "outputs": [],
   "source": [
    "df_fix = df.drop(\"xd_device\", axis=1)"
   ]
  },
  {
   "cell_type": "code",
   "execution_count": 17,
   "metadata": {},
   "outputs": [],
   "source": [
    "df_fix.to_csv(f'{uid_table}.tsv', sep='\\t', index=False, header=False)"
   ]
  },
  {
   "cell_type": "code",
   "execution_count": null,
   "metadata": {},
   "outputs": [],
   "source": []
  },
  {
   "cell_type": "markdown",
   "metadata": {},
   "source": [
    "3992\t株式会社 新学社"
   ]
  },
  {
   "cell_type": "code",
   "execution_count": 18,
   "metadata": {},
   "outputs": [],
   "source": [
    "#デバイス\n",
    "seed_sp_device = 'iOS','Android'\n",
    "xd_sp_device = 'iphone','android_phone','windows_phone'\n",
    "xd_pc_device = 'windows_computer','linux_computer','mac','android_tablet','ipad','windows_tablet'\n",
    "\n",
    "#ターゲット\n",
    "advertiser_id = 3992\n",
    "retargeting_group_id = 111779 # XD_12_フォーム（入会）\n",
    "\n",
    "grp = 'rtg'"
   ]
  },
  {
   "cell_type": "code",
   "execution_count": 25,
   "metadata": {},
   "outputs": [
    {
     "name": "stdout",
     "output_type": "stream",
     "text": [
      "dm_tmp.ya_xd_advid_3992_rtg_111779_190805\n"
     ]
    }
   ],
   "source": [
    "uid_table = f\"dm_tmp.ya_xd_advid_{advertiser_id}_{grp}_{retargeting_group_id}_{today_yymmdd}\"\n",
    "print(uid_table)"
   ]
  },
  {
   "cell_type": "markdown",
   "metadata": {},
   "source": [
    "SP⇔PC"
   ]
  },
  {
   "cell_type": "code",
   "execution_count": 20,
   "metadata": {},
   "outputs": [
    {
     "name": "stderr",
     "output_type": "stream",
     "text": [
      "INFO:ailab_tools.smn.impala_client:loaded configuration file: /opt/anaconda3/lib/python3.7/site-packages/ailab_tools/config/ailab_tools_config.py\n",
      "INFO:ailab_tools.smn.impala_client:hosts : ['172.16.60.109']\n",
      "INFO:ailab_tools.smn.impala_client:impala_host : 172.16.60.109\n",
      "INFO:ailab_tools.smn.impala_client:impala_port : 21050\n",
      "INFO:ailab_tools.smn.impala_client:impala_user : vmspool\n",
      "INFO:ailab_tools.smn.impala_client:impala_password : \n",
      "INFO:ailab_tools.smn.impala_client:request_pool : vmspool\n",
      "INFO:ailab_tools.smn.impala_client:configuration : {'REQUEST_POOL': 'vmspool'}\n",
      "INFO:ailab_tools.smn.impala_resource:loaded configuration file: /opt/anaconda3/lib/python3.7/site-packages/ailab_tools/config/ailab_tools_config.py\n",
      "INFO:ailab_tools.smn.impala_resource:httpfs_host: hc3manager02.hc3pro\n",
      "INFO:ailab_tools.smn.impala_resource:httpfs_port: 14000\n",
      "INFO:impyla_service:Impala open connection OK. hostname = [172.16.60.109]\n",
      "INFO:impyla_service:New connection is opened.\n",
      "INFO:impyla_service:実行SQL: \n",
      "    select \n",
      "    distinct \n",
      "    db2.smn_uid\n",
      "    ,case when db2.device in ('iphone','android_phone','windows_phone') then 'SP' ELSE 'PC' END as xd_device\n",
      "    from dsplog.adserver ads\n",
      "    inner join segment.drawbridge_device db\n",
      "    on ads.smn_uid = db.smn_uid\n",
      "    inner join segment.drawbridge_device db2\n",
      "    on db.drawbridge_consumer_id = db2.drawbridge_consumer_id\n",
      "    where concat_ws('-',year,month,day) between to_date(days_add(now(),-30)) and to_date(days_add(now(),-1))\n",
      "    and advertiser_id = 3992\n",
      "    and retargeting_group_id = 111779\n",
      "/*  and ads.user_agent_os_family in ('iOS', 'Android')*/\n",
      "/*  and db2.device in ('windows_computer', 'linux_computer', 'mac', 'android_tablet', 'ipad', 'windows_tablet')*/\n",
      "    and db2.smn_uid > 0\n",
      "    and ads.smn_uid <> db2.smn_uid\n",
      "    limit 10000\n",
      "    \n",
      "INFO:impala.hiveserver2:Closing active operation\n",
      "INFO:impyla_service:Connection is closed.\n",
      "INFO:ailab_tools.utils.slack:loaded configuration file: /opt/anaconda3/lib/python3.7/site-packages/ailab_tools/config/ailab_tools_config.py\n",
      "INFO:ailab_tools.utils.slack:Slack: Posted a message to Slack.\n"
     ]
    }
   ],
   "source": [
    "%%slack_notify @yusuke_akada\n",
    "\n",
    "#f-string\n",
    "query = (\n",
    "    f\"\"\"\n",
    "    select \n",
    "    distinct \n",
    "    db2.smn_uid\n",
    "    ,case when db2.device in ('iphone','android_phone','windows_phone') then 'SP' ELSE 'PC' END as xd_device\n",
    "    from dsplog.adserver ads\n",
    "    inner join segment.drawbridge_device db\n",
    "    on ads.smn_uid = db.smn_uid\n",
    "    inner join segment.drawbridge_device db2\n",
    "    on db.drawbridge_consumer_id = db2.drawbridge_consumer_id\n",
    "    where concat_ws('-',year,month,day) between to_date(days_add(now(),-30)) and to_date(days_add(now(),-1))\n",
    "    and advertiser_id = {advertiser_id}\n",
    "    and retargeting_group_id = {retargeting_group_id}\n",
    "/*  and ads.user_agent_os_family in {seed_sp_device}*/\n",
    "/*  and db2.device in {xd_pc_device}*/\n",
    "    and db2.smn_uid > 0\n",
    "    and ads.smn_uid <> db2.smn_uid\n",
    "    limit 10000\n",
    "    \"\"\"\n",
    "    )\n",
    "\n",
    "with ImpalaResource(hosts=[\"172.16.60.109\"], port=21050, user='vmspool',\n",
    "                    request_pool='vmspool', httpfs_host='hc3manager02.hc3pro', httpfs_port=14000) as ir:\n",
    "        df = ir.sql_to_pandas(query)"
   ]
  },
  {
   "cell_type": "code",
   "execution_count": 26,
   "metadata": {},
   "outputs": [
    {
     "data": {
      "text/plain": [
       "1677"
      ]
     },
     "execution_count": 26,
     "metadata": {},
     "output_type": "execute_result"
    }
   ],
   "source": [
    "df.shape[0]"
   ]
  },
  {
   "cell_type": "code",
   "execution_count": 27,
   "metadata": {},
   "outputs": [
    {
     "data": {
      "text/plain": [
       "xd_device\n",
       "PC     509\n",
       "SP    1168\n",
       "Name: smn_uid, dtype: int64"
      ]
     },
     "execution_count": 27,
     "metadata": {},
     "output_type": "execute_result"
    }
   ],
   "source": [
    "df.groupby([\"xd_device\"])[\"smn_uid\"].count()"
   ]
  },
  {
   "cell_type": "code",
   "execution_count": 28,
   "metadata": {},
   "outputs": [],
   "source": [
    "df_fix = df.drop(\"xd_device\", axis=1)"
   ]
  },
  {
   "cell_type": "code",
   "execution_count": 29,
   "metadata": {},
   "outputs": [],
   "source": [
    "df_fix.to_csv(f'{uid_table}.tsv', sep='\\t', index=False, header=False)"
   ]
  },
  {
   "cell_type": "code",
   "execution_count": null,
   "metadata": {},
   "outputs": [],
   "source": []
  },
  {
   "cell_type": "code",
   "execution_count": null,
   "metadata": {},
   "outputs": [],
   "source": []
  },
  {
   "cell_type": "code",
   "execution_count": null,
   "metadata": {},
   "outputs": [],
   "source": []
  },
  {
   "cell_type": "code",
   "execution_count": null,
   "metadata": {},
   "outputs": [],
   "source": []
  },
  {
   "cell_type": "code",
   "execution_count": null,
   "metadata": {},
   "outputs": [],
   "source": []
  },
  {
   "cell_type": "code",
   "execution_count": null,
   "metadata": {},
   "outputs": [],
   "source": []
  },
  {
   "cell_type": "code",
   "execution_count": null,
   "metadata": {},
   "outputs": [],
   "source": []
  },
  {
   "cell_type": "code",
   "execution_count": null,
   "metadata": {},
   "outputs": [],
   "source": []
  },
  {
   "cell_type": "markdown",
   "metadata": {},
   "source": [
    "PC→SP"
   ]
  },
  {
   "cell_type": "code",
   "execution_count": null,
   "metadata": {},
   "outputs": [],
   "source": [
    "%%slack_notify @yusuke_akada\n",
    "\n",
    "#f-string\n",
    "query = (\n",
    "    f\"\"\"\n",
    "    select \n",
    "    distinct \n",
    "    db2.smn_uid\n",
    "    ,case when db2.device in ('iphone','android_phone','windows_phone') then 'SP' ELSE 'PC' END as xd_device\n",
    "    from dsplog.adserver ads\n",
    "    inner join segment.drawbridge_device db\n",
    "    on ads.smn_uid = db.smn_uid\n",
    "    inner join segment.drawbridge_device db2\n",
    "    on db.drawbridge_consumer_id = db2.drawbridge_consumer_id\n",
    "    where concat_ws('-',year,month,day) between to_date(days_add(now(),-30)) and to_date(days_add(now(),-1))\n",
    "    and advertiser_id = {advertiser_id}\n",
    "    and conversion_group_id = {conversion_group_id}\n",
    "    and ads.user_agent_os_family not in {seed_sp_device}\n",
    "    and db2.device in {xd_sp_device}\n",
    "    and db2.smn_uid > 0\n",
    "    and ads.smn_uid <> db2.smn_uid\n",
    "    limit 10000\n",
    "    \"\"\"\n",
    "    )\n",
    "\n",
    "with ImpalaResource(hosts=[\"172.16.60.109\"], port=21050, user='vmspool',\n",
    "                    request_pool='vmspool', httpfs_host='hc3manager02.hc3pro', httpfs_port=14000) as ir:\n",
    "        df = ir.sql_to_pandas(query)"
   ]
  },
  {
   "cell_type": "code",
   "execution_count": null,
   "metadata": {},
   "outputs": [],
   "source": [
    "df.shape[0]"
   ]
  },
  {
   "cell_type": "code",
   "execution_count": null,
   "metadata": {},
   "outputs": [],
   "source": [
    "df.groupby([\"xd_device\"])[\"smn_uid\"].count()"
   ]
  },
  {
   "cell_type": "code",
   "execution_count": null,
   "metadata": {},
   "outputs": [],
   "source": [
    "df_fix = df.drop(\"xd_device\", axis=1)"
   ]
  },
  {
   "cell_type": "code",
   "execution_count": null,
   "metadata": {},
   "outputs": [],
   "source": [
    "df_fix.to_csv(f'{uid_table}.tsv', sep='\\t', index=False, header=False)"
   ]
  },
  {
   "cell_type": "code",
   "execution_count": null,
   "metadata": {},
   "outputs": [],
   "source": []
  },
  {
   "cell_type": "code",
   "execution_count": null,
   "metadata": {},
   "outputs": [],
   "source": []
  },
  {
   "cell_type": "code",
   "execution_count": null,
   "metadata": {},
   "outputs": [],
   "source": []
  },
  {
   "cell_type": "code",
   "execution_count": null,
   "metadata": {},
   "outputs": [],
   "source": []
  },
  {
   "cell_type": "markdown",
   "metadata": {},
   "source": [
    "#複数回接触パターン"
   ]
  },
  {
   "cell_type": "markdown",
   "metadata": {},
   "source": [
    "%%slack_notify @yusuke_akada\n",
    "\n",
    "#f-string\n",
    "query = (\n",
    "    f\"\"\"\n",
    "    with tmp as (\n",
    "    select smn_uid,count(1) as act_count\n",
    "    from dsplog.adserver\n",
    "    where concat_ws('-',year,month,day) BETWEEN to_date(days_add(now(),-30)) and to_date(days_add(now(),-1))\n",
    "    and retargeting_group_id = {retargeting_group_id}\n",
    "    and advertiser_id = {advertiser_id}\n",
    "    group by smn_uid\n",
    "    )\n",
    "    ,tmp2 as (\n",
    "    select smn_uid from tmp where act_count >= 3 group by smn_uid\n",
    "    )\n",
    "    select distinct db2.smn_uid \n",
    "    from tmp2 ads\n",
    "    inner join segment.drawbridge_device db\n",
    "    on ads.smn_uid = db.smn_uid\n",
    "    inner join segment.drawbridge_device db2\n",
    "    on db.drawbridge_consumer_id = db2.drawbridge_consumer_id\n",
    "    and db2.smn_uid > 0\n",
    "    limit 10000\n",
    "    \"\"\"\n",
    "    )\n",
    "\n",
    "with ImpalaResource(hosts=[\"172.16.60.109\"], port=21050, user='vmspool',\n",
    "                    request_pool='vmspool', httpfs_host='hc3manager02.hc3pro', httpfs_port=14000) as ir:\n",
    "        df = ir.sql_to_pandas(query)"
   ]
  },
  {
   "cell_type": "code",
   "execution_count": null,
   "metadata": {},
   "outputs": [],
   "source": [
    "df.shape[0]"
   ]
  },
  {
   "cell_type": "code",
   "execution_count": null,
   "metadata": {},
   "outputs": [],
   "source": [
    "df.to_csv(f'{uid_table}.tsv', sep='\\t', index=False, header=False)"
   ]
  },
  {
   "cell_type": "code",
   "execution_count": null,
   "metadata": {},
   "outputs": [],
   "source": []
  },
  {
   "cell_type": "code",
   "execution_count": null,
   "metadata": {},
   "outputs": [],
   "source": []
  },
  {
   "cell_type": "code",
   "execution_count": null,
   "metadata": {},
   "outputs": [],
   "source": []
  },
  {
   "cell_type": "code",
   "execution_count": null,
   "metadata": {},
   "outputs": [],
   "source": [
    "#デバイス\n",
    "seed_sp_device = 'iOS','Android'\n",
    "xd_sp_device = 'iphone','android_phone','windows_phone'\n",
    "\n",
    "#ターゲット\n",
    "advertiser_id = 8425\n",
    "conversion_group_id = 14376 #CV（無料体験）    \n",
    "\n",
    "grp = 'cv'"
   ]
  },
  {
   "cell_type": "code",
   "execution_count": null,
   "metadata": {},
   "outputs": [],
   "source": [
    "uid_table = f\"dm_tmp.ya_xd_advid_{advertiser_id}_{grp}_{conversion_group_id}_{today_yymmdd}\"\n",
    "print(uid_table)"
   ]
  },
  {
   "cell_type": "code",
   "execution_count": null,
   "metadata": {},
   "outputs": [],
   "source": []
  }
 ],
 "metadata": {
  "kernelspec": {
   "display_name": "Python 3",
   "language": "python",
   "name": "python3"
  },
  "language_info": {
   "codemirror_mode": {
    "name": "ipython",
    "version": 3
   },
   "file_extension": ".py",
   "mimetype": "text/x-python",
   "name": "python",
   "nbconvert_exporter": "python",
   "pygments_lexer": "ipython3",
   "version": "3.7.2"
  }
 },
 "nbformat": 4,
 "nbformat_minor": 2
}
