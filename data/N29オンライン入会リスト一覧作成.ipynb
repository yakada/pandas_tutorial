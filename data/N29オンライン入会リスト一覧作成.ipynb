{
 "cells": [
  {
   "cell_type": "code",
   "execution_count": 2,
   "metadata": {},
   "outputs": [],
   "source": [
    "import pandas as pd\n",
    "import numpy as np\n",
    "from pathlib import Path\n",
    "import csv\n",
    "import xlrd\n",
    "import io\n",
    "from zipfile import ZipFile\n",
    "from datetime import date, timedelta, time, datetime"
   ]
  },
  {
   "cell_type": "code",
   "execution_count": 3,
   "metadata": {},
   "outputs": [
    {
     "name": "stdout",
     "output_type": "stream",
     "text": [
      "20200805\n"
     ]
    }
   ],
   "source": [
    "today_yyyymmdd = date.today().strftime(\"%Y%m%d\")\n",
    "print(today_yyyymmdd)"
   ]
  },
  {
   "cell_type": "markdown",
   "metadata": {},
   "source": [
    "import datetime \n",
    "base = datetime.date(2020,2,1)\n",
    "for i in range(0,10): \n",
    "    d=base + datetime.timedelta(i)\n",
    "    d=d.strftime(\"%Y%m%d\")\n",
    "    print(f\"N029kakutokuruiseki{d}.csv\")"
   ]
  },
  {
   "cell_type": "markdown",
   "metadata": {},
   "source": [
    "from datetime import datetime, timedelta\n",
    "\n",
    "def date_range(start_date: datetime, end_date: datetime):\n",
    "    diff = (end_date - start_date).days + 1\n",
    "    return (start_date + timedelta(i) for i in range(diff))"
   ]
  },
  {
   "cell_type": "code",
   "execution_count": 4,
   "metadata": {},
   "outputs": [],
   "source": [
    "#pandasの表示列数を増やす\n",
    "import pandas as pd\n",
    "pd.set_option('display.max_columns', 100)"
   ]
  },
  {
   "cell_type": "code",
   "execution_count": 82,
   "metadata": {},
   "outputs": [
    {
     "name": "stdout",
     "output_type": "stream",
     "text": [
      "Output①⇒ N29オンライン申込累積リスト\n"
     ]
    }
   ],
   "source": [
    "#ディレクトリ\n",
    "data_dir = Path(r\"C:\\Users\\crie072\\Documents\\21_Online\")\n",
    "\n",
    "\n",
    "#Input_file もうやらなくてよい（2020/8/5取込完了）\n",
    "#①累積分\n",
    "input_file_1 = \"online入会者累積リスト_202001以降.xlsx\"\n",
    "\n",
    "#②承認リスト（当月分）\n",
    "input_file_2 = \"N029（2020年7月入会）.xlsx\"\n",
    "\n",
    "#Output_file\n",
    "#累積リスト\n",
    "output_file = f\"N29オンライン申込累積リスト\" \n",
    "print(\"Output①⇒\",output_file)"
   ]
  },
  {
   "cell_type": "code",
   "execution_count": null,
   "metadata": {},
   "outputs": [],
   "source": []
  },
  {
   "cell_type": "markdown",
   "metadata": {},
   "source": [
    "①累積リスト"
   ]
  },
  {
   "cell_type": "markdown",
   "metadata": {},
   "source": [
    "print(input_file_1)\n",
    "\n",
    "df_cum = pd.read_excel(data_dir /r\"input\"/f\"{input_file_1}\", dtypes={'会員カード発行区分':str})\n",
    "df_cum.head()"
   ]
  },
  {
   "cell_type": "markdown",
   "metadata": {},
   "source": [
    "df_cum = df_cum.astype({'会員カード発行区分':str})"
   ]
  },
  {
   "cell_type": "markdown",
   "metadata": {},
   "source": [
    "print(df_cum.shape)\n",
    "print(df_cum.index)\n",
    "print(df_cum.columns)\n",
    "print(df_cum.dtypes)"
   ]
  },
  {
   "cell_type": "markdown",
   "metadata": {},
   "source": [
    "オンライン入会客を特定"
   ]
  },
  {
   "cell_type": "markdown",
   "metadata": {},
   "source": [
    "df_cum =df_cum[(df_cum[\"会員カード発行区分\"] == \"1\") \n",
    "               & (df_cum[\"続柄\"] == 0) \n",
    "               & ~(df_cum[\"カード提携会社2CD\"] == 95) \n",
    "               & (df_cum[\"切替CD\"] == 0) \n",
    "               & (df_cum[\"受付部支店\"] == 299)]"
   ]
  },
  {
   "cell_type": "markdown",
   "metadata": {
    "scrolled": true
   },
   "source": [
    "#含まれてないか確認\n",
    "print(df_cum[\"会員カード発行区分\"].unique())\n",
    "print(df_cum[\"続柄\"].unique())\n",
    "print(df_cum[\"カード提携会社2CD\"].unique())\n",
    "print(df_cum[\"切替CD\"].unique())\n",
    "print(df_cum[\"受付部支店\"].unique())\n",
    "df_cum.shape[0]"
   ]
  },
  {
   "cell_type": "code",
   "execution_count": null,
   "metadata": {},
   "outputs": [],
   "source": []
  },
  {
   "cell_type": "markdown",
   "metadata": {},
   "source": [
    "②当月分の読込"
   ]
  },
  {
   "cell_type": "code",
   "execution_count": 91,
   "metadata": {},
   "outputs": [
    {
     "name": "stdout",
     "output_type": "stream",
     "text": [
      "N029（2020年7月入会）.xlsx\n"
     ]
    },
    {
     "data": {
      "text/html": [
       "<div>\n",
       "<style scoped>\n",
       "    .dataframe tbody tr th:only-of-type {\n",
       "        vertical-align: middle;\n",
       "    }\n",
       "\n",
       "    .dataframe tbody tr th {\n",
       "        vertical-align: top;\n",
       "    }\n",
       "\n",
       "    .dataframe thead th {\n",
       "        text-align: right;\n",
       "    }\n",
       "</style>\n",
       "<table border=\"1\" class=\"dataframe\">\n",
       "  <thead>\n",
       "    <tr style=\"text-align: right;\">\n",
       "      <th></th>\n",
       "      <th>カード加入日</th>\n",
       "      <th>会員カード発行区分</th>\n",
       "      <th>続柄</th>\n",
       "      <th>カード提携会社1CD</th>\n",
       "      <th>カード提携会社2CD</th>\n",
       "      <th>カード種類CD</th>\n",
       "      <th>カードブランドCD</th>\n",
       "      <th>切替CD</th>\n",
       "      <th>勧誘CD</th>\n",
       "      <th>受付部支店</th>\n",
       "      <th>性別CD</th>\n",
       "      <th>再発行CD</th>\n",
       "      <th>旧カード提携会社1CD</th>\n",
       "      <th>旧カード提携会社2CD</th>\n",
       "      <th>旧カード種類CD</th>\n",
       "      <th>旧カードブランドCD</th>\n",
       "      <th>入会申込番号</th>\n",
       "      <th>満年齢</th>\n",
       "      <th>リボ支払方法CD</th>\n",
       "      <th>勧誘団体CD</th>\n",
       "      <th>提携カード特殊エリア</th>\n",
       "      <th>エンボス内容</th>\n",
       "      <th>カード年会費CD</th>\n",
       "      <th>リボ利用対象CD</th>\n",
       "    </tr>\n",
       "  </thead>\n",
       "  <tbody>\n",
       "    <tr>\n",
       "      <th>0</th>\n",
       "      <td>20200701</td>\n",
       "      <td>1</td>\n",
       "      <td>0</td>\n",
       "      <td>D00</td>\n",
       "      <td>8</td>\n",
       "      <td>31</td>\n",
       "      <td>1</td>\n",
       "      <td>0</td>\n",
       "      <td>3</td>\n",
       "      <td>299</td>\n",
       "      <td>2</td>\n",
       "      <td>0</td>\n",
       "      <td>NaN</td>\n",
       "      <td>NaN</td>\n",
       "      <td>NaN</td>\n",
       "      <td>NaN</td>\n",
       "      <td>155051921910960</td>\n",
       "      <td>46</td>\n",
       "      <td>12.0</td>\n",
       "      <td>7000</td>\n",
       "      <td>40.0</td>\n",
       "      <td>7.000000e+03</td>\n",
       "      <td>2</td>\n",
       "      <td>0</td>\n",
       "    </tr>\n",
       "    <tr>\n",
       "      <th>1</th>\n",
       "      <td>20200701</td>\n",
       "      <td>1</td>\n",
       "      <td>0</td>\n",
       "      <td>D00</td>\n",
       "      <td>1</td>\n",
       "      <td>31</td>\n",
       "      <td>1</td>\n",
       "      <td>0</td>\n",
       "      <td>3</td>\n",
       "      <td>299</td>\n",
       "      <td>1</td>\n",
       "      <td>0</td>\n",
       "      <td>NaN</td>\n",
       "      <td>NaN</td>\n",
       "      <td>NaN</td>\n",
       "      <td>NaN</td>\n",
       "      <td>155051921918211</td>\n",
       "      <td>50</td>\n",
       "      <td>52.0</td>\n",
       "      <td>6000</td>\n",
       "      <td>40.0</td>\n",
       "      <td>6.000000e+03</td>\n",
       "      <td>2</td>\n",
       "      <td>1</td>\n",
       "    </tr>\n",
       "    <tr>\n",
       "      <th>2</th>\n",
       "      <td>20200701</td>\n",
       "      <td>2</td>\n",
       "      <td>1</td>\n",
       "      <td>D00</td>\n",
       "      <td>8</td>\n",
       "      <td>31</td>\n",
       "      <td>1</td>\n",
       "      <td>0</td>\n",
       "      <td>3</td>\n",
       "      <td>1</td>\n",
       "      <td>1</td>\n",
       "      <td>0</td>\n",
       "      <td>NaN</td>\n",
       "      <td>NaN</td>\n",
       "      <td>NaN</td>\n",
       "      <td>NaN</td>\n",
       "      <td>155051921944480</td>\n",
       "      <td>58</td>\n",
       "      <td>52.0</td>\n",
       "      <td>2000</td>\n",
       "      <td>NaN</td>\n",
       "      <td>2.000310e+09</td>\n",
       "      <td>0</td>\n",
       "      <td>1</td>\n",
       "    </tr>\n",
       "    <tr>\n",
       "      <th>3</th>\n",
       "      <td>20200701</td>\n",
       "      <td>1</td>\n",
       "      <td>0</td>\n",
       "      <td>D02</td>\n",
       "      <td>1</td>\n",
       "      <td>2</td>\n",
       "      <td>1</td>\n",
       "      <td>0</td>\n",
       "      <td>3</td>\n",
       "      <td>102</td>\n",
       "      <td>1</td>\n",
       "      <td>0</td>\n",
       "      <td>NaN</td>\n",
       "      <td>NaN</td>\n",
       "      <td>NaN</td>\n",
       "      <td>NaN</td>\n",
       "      <td>155603602468245</td>\n",
       "      <td>36</td>\n",
       "      <td>12.0</td>\n",
       "      <td>2000</td>\n",
       "      <td>NaN</td>\n",
       "      <td>2.000010e+09</td>\n",
       "      <td>2</td>\n",
       "      <td>0</td>\n",
       "    </tr>\n",
       "    <tr>\n",
       "      <th>4</th>\n",
       "      <td>20200701</td>\n",
       "      <td>5</td>\n",
       "      <td>0</td>\n",
       "      <td>D00</td>\n",
       "      <td>95</td>\n",
       "      <td>0</td>\n",
       "      <td>0</td>\n",
       "      <td>0</td>\n",
       "      <td>3</td>\n",
       "      <td>1</td>\n",
       "      <td>2</td>\n",
       "      <td>0</td>\n",
       "      <td>NaN</td>\n",
       "      <td>NaN</td>\n",
       "      <td>NaN</td>\n",
       "      <td>NaN</td>\n",
       "      <td>155603602537692</td>\n",
       "      <td>47</td>\n",
       "      <td>NaN</td>\n",
       "      <td>0</td>\n",
       "      <td>NaN</td>\n",
       "      <td>NaN</td>\n",
       "      <td>1</td>\n",
       "      <td>0</td>\n",
       "    </tr>\n",
       "  </tbody>\n",
       "</table>\n",
       "</div>"
      ],
      "text/plain": [
       "     カード加入日 会員カード発行区分  続柄 カード提携会社1CD  カード提携会社2CD  カード種類CD  カードブランドCD  切替CD  \\\n",
       "0  20200701         1   0        D00           8       31          1     0   \n",
       "1  20200701         1   0        D00           1       31          1     0   \n",
       "2  20200701         2   1        D00           8       31          1     0   \n",
       "3  20200701         1   0        D02           1        2          1     0   \n",
       "4  20200701         5   0        D00          95        0          0     0   \n",
       "\n",
       "   勧誘CD  受付部支店  性別CD  再発行CD 旧カード提携会社1CD  旧カード提携会社2CD  旧カード種類CD  旧カードブランドCD  \\\n",
       "0     3    299     2      0         NaN          NaN       NaN         NaN   \n",
       "1     3    299     1      0         NaN          NaN       NaN         NaN   \n",
       "2     3      1     1      0         NaN          NaN       NaN         NaN   \n",
       "3     3    102     1      0         NaN          NaN       NaN         NaN   \n",
       "4     3      1     2      0         NaN          NaN       NaN         NaN   \n",
       "\n",
       "            入会申込番号  満年齢  リボ支払方法CD  勧誘団体CD  提携カード特殊エリア        エンボス内容  カード年会費CD  \\\n",
       "0  155051921910960   46      12.0    7000        40.0  7.000000e+03         2   \n",
       "1  155051921918211   50      52.0    6000        40.0  6.000000e+03         2   \n",
       "2  155051921944480   58      52.0    2000         NaN  2.000310e+09         0   \n",
       "3  155603602468245   36      12.0    2000         NaN  2.000010e+09         2   \n",
       "4  155603602537692   47       NaN       0         NaN           NaN         1   \n",
       "\n",
       "   リボ利用対象CD  \n",
       "0         0  \n",
       "1         1  \n",
       "2         1  \n",
       "3         0  \n",
       "4         0  "
      ]
     },
     "execution_count": 91,
     "metadata": {},
     "output_type": "execute_result"
    }
   ],
   "source": [
    "print(input_file_2)\n",
    "\n",
    "df = pd.read_excel(data_dir /r\"input\"/f\"{input_file_2}\")\n",
    "df.head()"
   ]
  },
  {
   "cell_type": "markdown",
   "metadata": {},
   "source": [
    "オンライン入会客を特定"
   ]
  },
  {
   "cell_type": "code",
   "execution_count": 92,
   "metadata": {},
   "outputs": [],
   "source": [
    "df =df[(df[\"会員カード発行区分\"] == \"1\") \n",
    "               & (df[\"続柄\"] == 0) \n",
    "               & ~(df[\"カード提携会社2CD\"] == 95) \n",
    "               & (df[\"切替CD\"] == 0) \n",
    "               & (df[\"受付部支店\"] == 299)]"
   ]
  },
  {
   "cell_type": "code",
   "execution_count": 93,
   "metadata": {
    "scrolled": false
   },
   "outputs": [
    {
     "name": "stdout",
     "output_type": "stream",
     "text": [
      "['1']\n",
      "[0]\n",
      "[ 8  1  4 18 14 11]\n",
      "[0]\n",
      "[299]\n"
     ]
    },
    {
     "data": {
      "text/plain": [
       "889"
      ]
     },
     "execution_count": 93,
     "metadata": {},
     "output_type": "execute_result"
    }
   ],
   "source": [
    "#含まれてないか確認\n",
    "print(df[\"会員カード発行区分\"].unique())\n",
    "print(df[\"続柄\"].unique())\n",
    "print(df[\"カード提携会社2CD\"].unique())\n",
    "print(df[\"切替CD\"].unique())\n",
    "print(df[\"受付部支店\"].unique())\n",
    "df.shape[0]"
   ]
  },
  {
   "cell_type": "code",
   "execution_count": 94,
   "metadata": {},
   "outputs": [
    {
     "name": "stdout",
     "output_type": "stream",
     "text": [
      "(889, 24)\n",
      "Int64Index([   0,    1,    5,   11,   31,   32,   35,   39,   42,   69,\n",
      "            ...\n",
      "            6763, 6767, 6772, 6781, 6782, 6787, 6794, 6801, 6832, 6891],\n",
      "           dtype='int64', length=889)\n",
      "Index(['カード加入日', '会員カード発行区分', '続柄', 'カード提携会社1CD', 'カード提携会社2CD', 'カード種類CD',\n",
      "       'カードブランドCD', '切替CD', '勧誘CD', '受付部支店', '性別CD', '再発行CD', '旧カード提携会社1CD',\n",
      "       '旧カード提携会社2CD', '旧カード種類CD', '旧カードブランドCD', '入会申込番号', '満年齢', 'リボ支払方法CD',\n",
      "       '勧誘団体CD', '提携カード特殊エリア', 'エンボス内容', 'カード年会費CD', 'リボ利用対象CD'],\n",
      "      dtype='object')\n",
      "カード加入日           int64\n",
      "会員カード発行区分       object\n",
      "続柄               int64\n",
      "カード提携会社1CD      object\n",
      "カード提携会社2CD       int64\n",
      "カード種類CD          int64\n",
      "カードブランドCD        int64\n",
      "切替CD             int64\n",
      "勧誘CD             int64\n",
      "受付部支店            int64\n",
      "性別CD             int64\n",
      "再発行CD            int64\n",
      "旧カード提携会社1CD     object\n",
      "旧カード提携会社2CD    float64\n",
      "旧カード種類CD       float64\n",
      "旧カードブランドCD     float64\n",
      "入会申込番号           int64\n",
      "満年齢              int64\n",
      "リボ支払方法CD       float64\n",
      "勧誘団体CD           int64\n",
      "提携カード特殊エリア     float64\n",
      "エンボス内容         float64\n",
      "カード年会費CD         int64\n",
      "リボ利用対象CD         int64\n",
      "dtype: object\n"
     ]
    }
   ],
   "source": [
    "print(df.shape)\n",
    "print(df.index)\n",
    "print(df.columns)\n",
    "print(df.dtypes)"
   ]
  },
  {
   "cell_type": "markdown",
   "metadata": {},
   "source": [
    "前月と当月の承認リストをドッキング"
   ]
  },
  {
   "cell_type": "markdown",
   "metadata": {},
   "source": [
    "df_cum = pd.concat([df_cum, df_pre])\n",
    "df_cum.shape[0]"
   ]
  },
  {
   "cell_type": "markdown",
   "metadata": {
    "scrolled": true
   },
   "source": [
    "print(df_cum['カード加入日'].unique())"
   ]
  },
  {
   "cell_type": "markdown",
   "metadata": {},
   "source": [
    "重複削除"
   ]
  },
  {
   "cell_type": "code",
   "execution_count": 89,
   "metadata": {
    "scrolled": true
   },
   "outputs": [
    {
     "data": {
      "text/plain": [
       "889"
      ]
     },
     "execution_count": 89,
     "metadata": {},
     "output_type": "execute_result"
    }
   ],
   "source": []
  },
  {
   "cell_type": "markdown",
   "metadata": {},
   "source": [
    "CSVアウトプット（上書き）"
   ]
  },
  {
   "cell_type": "code",
   "execution_count": 90,
   "metadata": {},
   "outputs": [],
   "source": [
    "df_pre.to_csv(data_dir /r\"output\"/f\"{output_file}.csv\", mode='a',index=False,header=None,encoding=\"shift_jis\")"
   ]
  }
 ],
 "metadata": {
  "kernelspec": {
   "display_name": "Python 3",
   "language": "python",
   "name": "python3"
  },
  "language_info": {
   "codemirror_mode": {
    "name": "ipython",
    "version": 3
   },
   "file_extension": ".py",
   "mimetype": "text/x-python",
   "name": "python",
   "nbconvert_exporter": "python",
   "pygments_lexer": "ipython3",
   "version": "3.7.6"
  }
 },
 "nbformat": 4,
 "nbformat_minor": 2
}
