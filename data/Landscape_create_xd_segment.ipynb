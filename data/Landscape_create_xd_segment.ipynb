{
 "cells": [
  {
   "cell_type": "markdown",
   "metadata": {},
   "source": [
    "クロスデバイス　企業IPとの併用"
   ]
  },
  {
   "cell_type": "code",
   "execution_count": 1,
   "metadata": {},
   "outputs": [],
   "source": [
    "# ライブラリimport\n",
    "import argparse\n",
    "import logging\n",
    "import os\n",
    "\n",
    "import pandas as pd\n",
    "from pandas import DataFrame\n",
    "import pandas.tseries.offsets as offsets\n",
    "import numpy as np\n",
    "from datetime import date, timedelta, time, datetime\n",
    "from tabulate import tabulate\n",
    "\n",
    "from itertools import product\n",
    "\n",
    "from ailab_tools.smn import ImpalaResource\n",
    "from ailab_tools.utils import GMail, GSheet\n",
    "\n",
    "from collections import OrderedDict\n",
    "\n",
    "import zipfile\n",
    "import glob\n",
    "\n",
    "import gc\n",
    "\n",
    "from ailab_tools.magics import slack_notify"
   ]
  },
  {
   "cell_type": "markdown",
   "metadata": {},
   "source": [
    "8663\t株式会社スキマビ"
   ]
  },
  {
   "cell_type": "code",
   "execution_count": 2,
   "metadata": {},
   "outputs": [
    {
     "name": "stdout",
     "output_type": "stream",
     "text": [
      "190530\n"
     ]
    }
   ],
   "source": [
    "today_yymmdd = date.today().strftime(\"%y%m%d\")\n",
    "print(today_yymmdd)"
   ]
  },
  {
   "cell_type": "markdown",
   "metadata": {},
   "source": [
    "LS0063_従業員30人以上"
   ]
  },
  {
   "cell_type": "code",
   "execution_count": 6,
   "metadata": {},
   "outputs": [
    {
     "name": "stdout",
     "output_type": "stream",
     "text": [
      "segment.ya_xd_ls0063_190530\n"
     ]
    }
   ],
   "source": [
    "seed_table = 'segment.ya_landscape_ls0063'\n",
    "xd_table = 'segment.drawbridge_device'\n",
    "segment_id = 'ls0063'\n",
    "uid_table = f\"segment.ya_xd_{segment_id}_{today_yymmdd}\"\n",
    "print(uid_table)"
   ]
  },
  {
   "cell_type": "code",
   "execution_count": 7,
   "metadata": {},
   "outputs": [
    {
     "name": "stderr",
     "output_type": "stream",
     "text": [
      "INFO:ailab_tools.smn.impala_client:loaded configuration file: /opt/anaconda3/lib/python3.7/site-packages/ailab_tools/config/ailab_tools_config.py\n",
      "INFO:ailab_tools.smn.impala_client:hosts : ['172.16.60.109']\n",
      "INFO:ailab_tools.smn.impala_client:impala_host : 172.16.60.109\n",
      "INFO:ailab_tools.smn.impala_client:impala_port : 21050\n",
      "INFO:ailab_tools.smn.impala_client:impala_user : vmspool\n",
      "INFO:ailab_tools.smn.impala_client:impala_password : \n",
      "INFO:ailab_tools.smn.impala_client:request_pool : vmspool\n",
      "INFO:ailab_tools.smn.impala_client:configuration : {'REQUEST_POOL': 'vmspool'}\n",
      "INFO:ailab_tools.smn.impala_resource:loaded configuration file: /opt/anaconda3/lib/python3.7/site-packages/ailab_tools/config/ailab_tools_config.py\n",
      "INFO:ailab_tools.smn.impala_resource:httpfs_host: hc3manager02.hc3pro\n",
      "INFO:ailab_tools.smn.impala_resource:httpfs_port: 14000\n",
      "INFO:impyla_service:Impala open connection OK. hostname = [172.16.60.109]\n",
      "INFO:impyla_service:New connection is opened.\n",
      "INFO:impyla_service:実行SQL: \n",
      "    select \n",
      "    distinct xd2.smn_uid\n",
      "    ,sd.company_name\n",
      "    from segment.ya_landscape_ls0063 sd\n",
      "    left join segment.drawbridge_device xd\n",
      "    on sd.smn_uid = xd.smn_uid\n",
      "    left join segment.drawbridge_device xd2\n",
      "    on xd.drawbridge_consumer_id = xd2.drawbridge_consumer_id\n",
      "    where xd2.device in ('iphone'\n",
      "    ,'android_phone'\n",
      "    ,'windows_phone'\n",
      "    ,'windows_computer'\n",
      "    ,'linux_computer'\n",
      "    ,'mac'\n",
      "    ,'ipad'\n",
      "    ,'android_tablet'\n",
      "    ,'windows_tablet') \n",
      "    and sd.smn_uid <> xd2.smn_uid\n",
      "    \n",
      "    \n",
      "    \n",
      "INFO:impala.hiveserver2:Closing active operation\n",
      "INFO:impyla_service:Create empty table segment.ya_xd_ls0063_190530\n",
      "INFO:impyla_service:実行SQL: \n",
      "            create table segment.ya_xd_ls0063_190530\n",
      "            (smn_uid bigint, company_name string)\n",
      "            \n",
      "            row format delimited fields terminated by \"\\t\"\n",
      "            lines terminated by \"\\n\"\n",
      "            \n",
      "INFO:impala.hiveserver2:Closing active operation\n",
      "INFO:impyla_service:Query finished\n",
      "INFO:hdfs.client:Instantiated <InsecureClient(url='http://hc3manager02.hc3pro:14000')>.\n",
      "INFO:hdfs.client:Uploading '/home/yusuke_akada/notebook/Yusuke_Akada_Jupyter_Notebook/59726cd8-1c46-424c-9435-caaf07608a7f.tsv' to '/user/hive/warehouse/segment.db/ya_xd_ls0063_190530'.\n",
      "INFO:hdfs.client:Listing '/user/hive/warehouse/segment.db/ya_xd_ls0063_190530'.\n",
      "INFO:hdfs.client:Writing to '/user/hive/warehouse/segment.db/ya_xd_ls0063_190530/59726cd8-1c46-424c-9435-caaf07608a7f.tsv'.\n",
      "INFO:impyla_service:実行SQL: refresh segment.ya_xd_ls0063_190530\n",
      "INFO:impala.hiveserver2:Closing active operation\n",
      "INFO:impyla_service:Connection is closed.\n",
      "INFO:ailab_tools.utils.slack:loaded configuration file: /opt/anaconda3/lib/python3.7/site-packages/ailab_tools/config/ailab_tools_config.py\n",
      "INFO:ailab_tools.utils.slack:Slack: Posted a message to Slack.\n"
     ]
    }
   ],
   "source": [
    "%%slack_notify @yusuke_akada\n",
    "#XD拡張\n",
    "\n",
    "#f-string\n",
    "query = (\n",
    "    f\"\"\"\n",
    "    select \n",
    "    distinct xd2.smn_uid\n",
    "    ,sd.company_name\n",
    "    from {seed_table} sd\n",
    "    left join {xd_table} xd\n",
    "    on sd.smn_uid = xd.smn_uid\n",
    "    left join {xd_table} xd2\n",
    "    on xd.drawbridge_consumer_id = xd2.drawbridge_consumer_id\n",
    "    where xd2.device in ('iphone'\n",
    "    ,'android_phone'\n",
    "    ,'windows_phone'\n",
    "    ,'windows_computer'\n",
    "    ,'linux_computer'\n",
    "    ,'mac'\n",
    "    ,'ipad'\n",
    "    ,'android_tablet'\n",
    "    ,'windows_tablet') \n",
    "    and sd.smn_uid <> xd2.smn_uid\n",
    "    \n",
    "    \n",
    "    \"\"\"\n",
    "    )\n",
    "with ImpalaResource(hosts=[\"172.16.60.109\"], port=21050, user='vmspool',\n",
    "                    request_pool='vmspool', httpfs_host='hc3manager02.hc3pro', httpfs_port=14000) as ir:\n",
    "    df_fix = ir.sql_to_pandas(query)\n",
    "    ir.upload_dataframe(uid_table, df_fix, ['bigint','string'])"
   ]
  },
  {
   "cell_type": "code",
   "execution_count": 8,
   "metadata": {},
   "outputs": [
    {
     "data": {
      "text/plain": [
       "6354762"
      ]
     },
     "execution_count": 8,
     "metadata": {},
     "output_type": "execute_result"
    }
   ],
   "source": [
    "df_fix.shape[0]"
   ]
  },
  {
   "cell_type": "code",
   "execution_count": 9,
   "metadata": {},
   "outputs": [
    {
     "name": "stdout",
     "output_type": "stream",
     "text": [
      "smn_uid          int64\n",
      "company_name    object\n",
      "dtype: object\n"
     ]
    }
   ],
   "source": [
    "print(df_fix.dtypes)"
   ]
  },
  {
   "cell_type": "code",
   "execution_count": null,
   "metadata": {},
   "outputs": [],
   "source": []
  }
 ],
 "metadata": {
  "kernelspec": {
   "display_name": "Python 3",
   "language": "python",
   "name": "python3"
  },
  "language_info": {
   "codemirror_mode": {
    "name": "ipython",
    "version": 3
   },
   "file_extension": ".py",
   "mimetype": "text/x-python",
   "name": "python",
   "nbconvert_exporter": "python",
   "pygments_lexer": "ipython3",
   "version": "3.7.4"
  }
 },
 "nbformat": 4,
 "nbformat_minor": 2
}
