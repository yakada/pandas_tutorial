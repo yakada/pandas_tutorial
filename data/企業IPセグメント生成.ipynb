{
 "cells": [
  {
   "cell_type": "code",
   "execution_count": 112,
   "metadata": {},
   "outputs": [],
   "source": [
    "# ライブラリimport\n",
    "import argparse\n",
    "import logging\n",
    "import os\n",
    "\n",
    "import pandas as pd\n",
    "from pandas import DataFrame\n",
    "import pandas.tseries.offsets as offsets\n",
    "import numpy as np\n",
    "from datetime import date, timedelta, time, datetime\n",
    "from tabulate import tabulate\n",
    "\n",
    "from itertools import product\n",
    "\n",
    "from ailab_tools.smn import ImpalaResource\n",
    "from ailab_tools.utils import GMail, GSheet\n",
    "\n",
    "from collections import OrderedDict\n",
    "\n",
    "import zipfile\n",
    "import glob\n",
    "\n",
    "import gc\n",
    "\n",
    "from ailab_tools.magics import slack_notify"
   ]
  },
  {
   "cell_type": "code",
   "execution_count": 113,
   "metadata": {},
   "outputs": [],
   "source": [
    "uid_table = \"segment.landscape_segment\"   # 最終的な対応table"
   ]
  },
  {
   "cell_type": "markdown",
   "metadata": {},
   "source": [
    "%%slack_notify @yusuke_akada\n",
    "\n",
    "\n",
    "with ImpalaResource(hosts=[\"172.16.60.109\"], port=21050, user='vmspool',\n",
    "                    request_pool='vmspool', httpfs_host='hc3manager02.hc3pro', httpfs_port=14000) as ir:\n",
    "    #まず空tableを作る\n",
    "    query = (\n",
    "        f\"\"\"\n",
    "        create table {uid_table}\n",
    "            (\n",
    "            smn_uid bigint\n",
    "            ,company_name string\n",
    "            ,device string\n",
    "            )\n",
    "            \n",
    "            partitioned by \n",
    "            (\n",
    "            segment_id string\n",
    "            )\n",
    "        \n",
    "        stored as parquet\n",
    "        \"\"\"\n",
    "    )\n",
    "    \n",
    "    ir.execute_query_no_ret(query) "
   ]
  },
  {
   "cell_type": "markdown",
   "metadata": {},
   "source": [
    "今あるセグメントを確認する"
   ]
  },
  {
   "cell_type": "code",
   "execution_count": 114,
   "metadata": {},
   "outputs": [
    {
     "name": "stderr",
     "output_type": "stream",
     "text": [
      "INFO:ailab_tools.smn.impala_client:loaded configuration file: /opt/anaconda3/lib/python3.7/site-packages/ailab_tools/config/ailab_tools_config.py\n",
      "INFO:ailab_tools.smn.impala_client:hosts : ['172.16.60.109']\n",
      "INFO:ailab_tools.smn.impala_client:impala_host : 172.16.60.109\n",
      "INFO:ailab_tools.smn.impala_client:impala_port : 21050\n",
      "INFO:ailab_tools.smn.impala_client:impala_user : vmspool\n",
      "INFO:ailab_tools.smn.impala_client:impala_password : \n",
      "INFO:ailab_tools.smn.impala_client:request_pool : vmspool\n",
      "INFO:ailab_tools.smn.impala_client:configuration : {'REQUEST_POOL': 'vmspool'}\n",
      "INFO:ailab_tools.smn.impala_resource:loaded configuration file: /opt/anaconda3/lib/python3.7/site-packages/ailab_tools/config/ailab_tools_config.py\n",
      "INFO:ailab_tools.smn.impala_resource:httpfs_host: hc3manager02.hc3pro\n",
      "INFO:ailab_tools.smn.impala_resource:httpfs_port: 14000\n",
      "INFO:impyla_service:Impala open connection OK. hostname = [172.16.60.109]\n",
      "INFO:impyla_service:New connection is opened.\n",
      "INFO:impyla_service:実行SQL: \n",
      "        select \n",
      "        segment_id\n",
      "        ,count(distinct smn_uid) as uu\n",
      "        from segment.landscape_segment\n",
      "        group by segment_id\n",
      "        order by segment_id desc\n",
      "        \n",
      "INFO:impala.hiveserver2:Closing active operation\n",
      "INFO:impyla_service:Connection is closed.\n"
     ]
    }
   ],
   "source": [
    "query = (\n",
    "        f\"\"\"\n",
    "        select \n",
    "        segment_id\n",
    "        ,count(distinct smn_uid) as uu\n",
    "        from segment.landscape_segment\n",
    "        group by segment_id\n",
    "        order by segment_id desc\n",
    "        \"\"\"\n",
    ")\n",
    "with ImpalaResource(hosts=[\"172.16.60.109\"], port=21050, user='vmspool',\n",
    "                    request_pool='vmspool', httpfs_host='hc3manager02.hc3pro', httpfs_port=14000) as ir:\n",
    "    df_seg = ir.sql_to_pandas(query)"
   ]
  },
  {
   "cell_type": "code",
   "execution_count": 115,
   "metadata": {},
   "outputs": [
    {
     "data": {
      "text/html": [
       "<div>\n",
       "<style scoped>\n",
       "    .dataframe tbody tr th:only-of-type {\n",
       "        vertical-align: middle;\n",
       "    }\n",
       "\n",
       "    .dataframe tbody tr th {\n",
       "        vertical-align: top;\n",
       "    }\n",
       "\n",
       "    .dataframe thead th {\n",
       "        text-align: right;\n",
       "    }\n",
       "</style>\n",
       "<table border=\"1\" class=\"dataframe\">\n",
       "  <thead>\n",
       "    <tr style=\"text-align: right;\">\n",
       "      <th></th>\n",
       "      <th>segment_id</th>\n",
       "      <th>uu</th>\n",
       "    </tr>\n",
       "  </thead>\n",
       "  <tbody>\n",
       "    <tr>\n",
       "      <th>0</th>\n",
       "      <td>ls0104</td>\n",
       "      <td>2546877</td>\n",
       "    </tr>\n",
       "    <tr>\n",
       "      <th>1</th>\n",
       "      <td>ls0103</td>\n",
       "      <td>5661235</td>\n",
       "    </tr>\n",
       "    <tr>\n",
       "      <th>2</th>\n",
       "      <td>ls0102</td>\n",
       "      <td>1044230</td>\n",
       "    </tr>\n",
       "    <tr>\n",
       "      <th>3</th>\n",
       "      <td>ls0101</td>\n",
       "      <td>29144</td>\n",
       "    </tr>\n",
       "    <tr>\n",
       "      <th>4</th>\n",
       "      <td>ls0100</td>\n",
       "      <td>50407</td>\n",
       "    </tr>\n",
       "  </tbody>\n",
       "</table>\n",
       "</div>"
      ],
      "text/plain": [
       "  segment_id       uu\n",
       "0     ls0104  2546877\n",
       "1     ls0103  5661235\n",
       "2     ls0102  1044230\n",
       "3     ls0101    29144\n",
       "4     ls0100    50407"
      ]
     },
     "execution_count": 115,
     "metadata": {},
     "output_type": "execute_result"
    }
   ],
   "source": [
    "df_seg.head()"
   ]
  },
  {
   "cell_type": "code",
   "execution_count": null,
   "metadata": {},
   "outputs": [],
   "source": []
  },
  {
   "cell_type": "markdown",
   "metadata": {},
   "source": [
    "LS0105_従業員5人以上"
   ]
  },
  {
   "cell_type": "code",
   "execution_count": 116,
   "metadata": {},
   "outputs": [
    {
     "name": "stdout",
     "output_type": "stream",
     "text": [
      "191111\n"
     ]
    }
   ],
   "source": [
    "today_yymmdd = date.today().strftime(\"%y%m%d\")\n",
    "print(today_yymmdd)"
   ]
  },
  {
   "cell_type": "code",
   "execution_count": 117,
   "metadata": {},
   "outputs": [
    {
     "name": "stdout",
     "output_type": "stream",
     "text": [
      "ls0105\n"
     ]
    }
   ],
   "source": [
    "segment_id = 'ls0105'\n",
    "print(segment_id)"
   ]
  },
  {
   "cell_type": "code",
   "execution_count": 118,
   "metadata": {},
   "outputs": [],
   "source": [
    "start_date = '2019-10-23'\n",
    "end_date = '2019-10-25'"
   ]
  },
  {
   "cell_type": "code",
   "execution_count": 119,
   "metadata": {},
   "outputs": [
    {
     "name": "stderr",
     "output_type": "stream",
     "text": [
      "INFO:ailab_tools.smn.impala_client:loaded configuration file: /opt/anaconda3/lib/python3.7/site-packages/ailab_tools/config/ailab_tools_config.py\n",
      "INFO:ailab_tools.smn.impala_client:hosts : ['172.16.60.109']\n",
      "INFO:ailab_tools.smn.impala_client:impala_host : 172.16.60.109\n",
      "INFO:ailab_tools.smn.impala_client:impala_port : 21050\n",
      "INFO:ailab_tools.smn.impala_client:impala_user : vmspool\n",
      "INFO:ailab_tools.smn.impala_client:impala_password : \n",
      "INFO:ailab_tools.smn.impala_client:request_pool : vmspool\n",
      "INFO:ailab_tools.smn.impala_client:configuration : {'REQUEST_POOL': 'vmspool'}\n",
      "INFO:ailab_tools.smn.impala_resource:loaded configuration file: /opt/anaconda3/lib/python3.7/site-packages/ailab_tools/config/ailab_tools_config.py\n",
      "INFO:ailab_tools.smn.impala_resource:httpfs_host: hc3manager02.hc3pro\n",
      "INFO:ailab_tools.smn.impala_resource:httpfs_port: 14000\n",
      "INFO:impyla_service:Impala open connection OK. hostname = [172.16.60.109]\n",
      "INFO:impyla_service:New connection is opened.\n",
      "INFO:impyla_service:実行SQL: \n",
      "        insert overwrite table segment.landscape_segment\n",
      "        (\n",
      "        smn_uid\n",
      "        ,company_name\n",
      "        ,device\n",
      "        )\n",
      "        partition\n",
      "        (\n",
      "        segment_id = 'ls0105'\n",
      "        )\n",
      "        select\n",
      "        distinct smn_uid\n",
      "        ,company_name\n",
      "        ,case when user_agent_os_family in ('iOS','Android') then 'SP' ELSE 'PC' END as device\n",
      "        from \n",
      "        segment.landscape_ip_company ls\n",
      "        inner join dsplog.bid_response bid\n",
      "        on ls.ip_address = bid.remote_address\n",
      "        where remote_address is not null\n",
      "        and concat_ws('-',year,month,day) between '2019-10-23' and '2019-10-25'\n",
      "        and smn_uid is not null \n",
      "        and ip_address is not null\n",
      "        and isp_flag not in ('1')\n",
      "        and cast(employee_range as int) between 2 and 12\n",
      "        \n",
      "INFO:impala.hiveserver2:Closing active operation\n",
      "INFO:impyla_service:Connection is closed.\n",
      "INFO:ailab_tools.utils.slack:loaded configuration file: /opt/anaconda3/lib/python3.7/site-packages/ailab_tools/config/ailab_tools_config.py\n",
      "INFO:ailab_tools.utils.slack:Slack: Posted a message to Slack.\n"
     ]
    }
   ],
   "source": [
    "%%slack_notify @yusuke_akada\n",
    "# 親テーブルにInsert\n",
    "\n",
    "with ImpalaResource(hosts=[\"172.16.60.109\"], port=21050, user='vmspool',\n",
    "                    request_pool='vmspool', httpfs_host='hc3manager02.hc3pro', httpfs_port=14000) as ir:\n",
    "    query = (\n",
    "        f\"\"\"\n",
    "        insert overwrite table segment.landscape_segment\n",
    "        (\n",
    "        smn_uid\n",
    "        ,company_name\n",
    "        ,device\n",
    "        )\n",
    "        partition\n",
    "        (\n",
    "        segment_id = '{segment_id}'\n",
    "        )\n",
    "        select\n",
    "        distinct smn_uid\n",
    "        ,company_name\n",
    "        ,case when user_agent_os_family in ('iOS','Android') then 'SP' ELSE 'PC' END as device\n",
    "        from \n",
    "        segment.landscape_ip_company ls\n",
    "        inner join dsplog.bid_response bid\n",
    "        on ls.ip_address = bid.remote_address\n",
    "        where remote_address is not null\n",
    "        and concat_ws('-',year,month,day) between '{start_date}' and '{end_date}'\n",
    "        and smn_uid is not null \n",
    "        and ip_address is not null\n",
    "        and isp_flag not in ('1')\n",
    "        and cast(employee_range as int) between 2 and 12\n",
    "        \"\"\"\n",
    "    )\n",
    "    ir.execute_query_no_ret(query) "
   ]
  },
  {
   "cell_type": "code",
   "execution_count": 120,
   "metadata": {},
   "outputs": [
    {
     "name": "stderr",
     "output_type": "stream",
     "text": [
      "INFO:ailab_tools.smn.impala_client:loaded configuration file: /opt/anaconda3/lib/python3.7/site-packages/ailab_tools/config/ailab_tools_config.py\n",
      "INFO:ailab_tools.smn.impala_client:hosts : ['172.16.60.109']\n",
      "INFO:ailab_tools.smn.impala_client:impala_host : 172.16.60.109\n",
      "INFO:ailab_tools.smn.impala_client:impala_port : 21050\n",
      "INFO:ailab_tools.smn.impala_client:impala_user : vmspool\n",
      "INFO:ailab_tools.smn.impala_client:impala_password : \n",
      "INFO:ailab_tools.smn.impala_client:request_pool : vmspool\n",
      "INFO:ailab_tools.smn.impala_client:configuration : {'REQUEST_POOL': 'vmspool'}\n",
      "INFO:ailab_tools.smn.impala_resource:loaded configuration file: /opt/anaconda3/lib/python3.7/site-packages/ailab_tools/config/ailab_tools_config.py\n",
      "INFO:ailab_tools.smn.impala_resource:httpfs_host: hc3manager02.hc3pro\n",
      "INFO:ailab_tools.smn.impala_resource:httpfs_port: 14000\n",
      "INFO:impyla_service:Impala open connection OK. hostname = [172.16.60.109]\n",
      "INFO:impyla_service:New connection is opened.\n",
      "INFO:impyla_service:実行SQL: \n",
      "        select \n",
      "        segment_id\n",
      "        ,count(distinct smn_uid) as uu\n",
      "        from segment.landscape_segment\n",
      "        group by segment_id\n",
      "        order by segment_id desc\n",
      "        \n",
      "INFO:impala.hiveserver2:Closing active operation\n",
      "INFO:impyla_service:Connection is closed.\n"
     ]
    }
   ],
   "source": [
    "query = (\n",
    "        f\"\"\"\n",
    "        select \n",
    "        segment_id\n",
    "        ,count(distinct smn_uid) as uu\n",
    "        from segment.landscape_segment\n",
    "        group by segment_id\n",
    "        order by segment_id desc\n",
    "        \"\"\"\n",
    ")\n",
    "with ImpalaResource(hosts=[\"172.16.60.109\"], port=21050, user='vmspool',\n",
    "                    request_pool='vmspool', httpfs_host='hc3manager02.hc3pro', httpfs_port=14000) as ir:\n",
    "    df_seg = ir.sql_to_pandas(query)"
   ]
  },
  {
   "cell_type": "code",
   "execution_count": 42,
   "metadata": {},
   "outputs": [
    {
     "data": {
      "text/html": [
       "<div>\n",
       "<style scoped>\n",
       "    .dataframe tbody tr th:only-of-type {\n",
       "        vertical-align: middle;\n",
       "    }\n",
       "\n",
       "    .dataframe tbody tr th {\n",
       "        vertical-align: top;\n",
       "    }\n",
       "\n",
       "    .dataframe thead th {\n",
       "        text-align: right;\n",
       "    }\n",
       "</style>\n",
       "<table border=\"1\" class=\"dataframe\">\n",
       "  <thead>\n",
       "    <tr style=\"text-align: right;\">\n",
       "      <th></th>\n",
       "      <th>segment_id</th>\n",
       "      <th>uu</th>\n",
       "    </tr>\n",
       "  </thead>\n",
       "  <tbody>\n",
       "    <tr>\n",
       "      <th>0</th>\n",
       "      <td>ls0100</td>\n",
       "      <td>50407</td>\n",
       "    </tr>\n",
       "    <tr>\n",
       "      <th>1</th>\n",
       "      <td>ls0099</td>\n",
       "      <td>3817940</td>\n",
       "    </tr>\n",
       "    <tr>\n",
       "      <th>2</th>\n",
       "      <td>ls0098</td>\n",
       "      <td>2698665</td>\n",
       "    </tr>\n",
       "    <tr>\n",
       "      <th>3</th>\n",
       "      <td>ls0097</td>\n",
       "      <td>2807484</td>\n",
       "    </tr>\n",
       "    <tr>\n",
       "      <th>4</th>\n",
       "      <td>ls0096</td>\n",
       "      <td>505777</td>\n",
       "    </tr>\n",
       "    <tr>\n",
       "      <th>5</th>\n",
       "      <td>ls0095</td>\n",
       "      <td>125907</td>\n",
       "    </tr>\n",
       "    <tr>\n",
       "      <th>6</th>\n",
       "      <td>ls0094</td>\n",
       "      <td>237148</td>\n",
       "    </tr>\n",
       "    <tr>\n",
       "      <th>7</th>\n",
       "      <td>ls0093</td>\n",
       "      <td>36745</td>\n",
       "    </tr>\n",
       "    <tr>\n",
       "      <th>8</th>\n",
       "      <td>ls0092</td>\n",
       "      <td>7189868</td>\n",
       "    </tr>\n",
       "    <tr>\n",
       "      <th>9</th>\n",
       "      <td>ls0091</td>\n",
       "      <td>158414</td>\n",
       "    </tr>\n",
       "  </tbody>\n",
       "</table>\n",
       "</div>"
      ],
      "text/plain": [
       "  segment_id       uu\n",
       "0     ls0100    50407\n",
       "1     ls0099  3817940\n",
       "2     ls0098  2698665\n",
       "3     ls0097  2807484\n",
       "4     ls0096   505777\n",
       "5     ls0095   125907\n",
       "6     ls0094   237148\n",
       "7     ls0093    36745\n",
       "8     ls0092  7189868\n",
       "9     ls0091   158414"
      ]
     },
     "execution_count": 42,
     "metadata": {},
     "output_type": "execute_result"
    }
   ],
   "source": [
    "df_seg.head(10)"
   ]
  },
  {
   "cell_type": "code",
   "execution_count": null,
   "metadata": {},
   "outputs": [],
   "source": []
  },
  {
   "cell_type": "code",
   "execution_count": null,
   "metadata": {},
   "outputs": [],
   "source": []
  },
  {
   "cell_type": "markdown",
   "metadata": {},
   "source": [
    "LS0101_教育・学習支援業"
   ]
  },
  {
   "cell_type": "code",
   "execution_count": 43,
   "metadata": {},
   "outputs": [
    {
     "name": "stdout",
     "output_type": "stream",
     "text": [
      "191025\n"
     ]
    }
   ],
   "source": [
    "today_yymmdd = date.today().strftime(\"%y%m%d\")\n",
    "print(today_yymmdd)"
   ]
  },
  {
   "cell_type": "code",
   "execution_count": 44,
   "metadata": {},
   "outputs": [
    {
     "name": "stdout",
     "output_type": "stream",
     "text": [
      "ls0101\n"
     ]
    }
   ],
   "source": [
    "segment_id = 'ls0101'\n",
    "print(segment_id)"
   ]
  },
  {
   "cell_type": "code",
   "execution_count": 45,
   "metadata": {},
   "outputs": [],
   "source": [
    "start_date = '2019-10-22'\n",
    "end_date = '2019-10-24'"
   ]
  },
  {
   "cell_type": "code",
   "execution_count": 46,
   "metadata": {},
   "outputs": [
    {
     "name": "stderr",
     "output_type": "stream",
     "text": [
      "INFO:ailab_tools.smn.impala_client:loaded configuration file: /opt/anaconda3/lib/python3.7/site-packages/ailab_tools/config/ailab_tools_config.py\n",
      "INFO:ailab_tools.smn.impala_client:hosts : ['172.16.60.109']\n",
      "INFO:ailab_tools.smn.impala_client:impala_host : 172.16.60.109\n",
      "INFO:ailab_tools.smn.impala_client:impala_port : 21050\n",
      "INFO:ailab_tools.smn.impala_client:impala_user : vmspool\n",
      "INFO:ailab_tools.smn.impala_client:impala_password : \n",
      "INFO:ailab_tools.smn.impala_client:request_pool : vmspool\n",
      "INFO:ailab_tools.smn.impala_client:configuration : {'REQUEST_POOL': 'vmspool'}\n",
      "INFO:ailab_tools.smn.impala_resource:loaded configuration file: /opt/anaconda3/lib/python3.7/site-packages/ailab_tools/config/ailab_tools_config.py\n",
      "INFO:ailab_tools.smn.impala_resource:httpfs_host: hc3manager02.hc3pro\n",
      "INFO:ailab_tools.smn.impala_resource:httpfs_port: 14000\n",
      "INFO:impyla_service:Impala open connection OK. hostname = [172.16.60.109]\n",
      "INFO:impyla_service:New connection is opened.\n",
      "INFO:impyla_service:実行SQL: \n",
      "        insert overwrite table segment.landscape_segment\n",
      "        (\n",
      "        smn_uid\n",
      "        ,company_name\n",
      "        ,device\n",
      "        )\n",
      "        partition\n",
      "        (\n",
      "        segment_id = 'ls0101'\n",
      "        )\n",
      "        select\n",
      "        distinct smn_uid\n",
      "        ,company_name\n",
      "        ,case when user_agent_os_family in ('iOS','Android') then 'SP' ELSE 'PC' END as device\n",
      "        from \n",
      "        segment.landscape_ip_company ls\n",
      "        inner join dsplog.bid_response bid\n",
      "        on ls.ip_address = bid.remote_address\n",
      "        where remote_address is not null\n",
      "        and concat_ws('-',year,month,day) between '2019-10-22' and '2019-10-24'\n",
      "        and smn_uid is not null \n",
      "        and ip_address is not null\n",
      "        and isp_flag not in ('1')\n",
      "        and (\n",
      "        (biz_category_lv1_code1 in ('O') and biz_category_lv3_code1 in ('822'))\n",
      "        or (biz_category_lv1_code2 in ('O') and biz_category_lv3_code2 in ('823'))\n",
      "        or (biz_category_lv1_code3 in ('O') and biz_category_lv3_code3 in ('824'))\n",
      "        or (biz_category_lv1_code3 in ('O') and biz_category_lv3_code3 in ('829'))\n",
      "        )\n",
      "        \n",
      "INFO:impala.hiveserver2:Closing active operation\n",
      "INFO:impyla_service:Connection is closed.\n",
      "INFO:ailab_tools.utils.slack:loaded configuration file: /opt/anaconda3/lib/python3.7/site-packages/ailab_tools/config/ailab_tools_config.py\n",
      "INFO:ailab_tools.utils.slack:Slack: Posted a message to Slack.\n"
     ]
    }
   ],
   "source": [
    "%%slack_notify @yusuke_akada\n",
    "# 親テーブルにInsert\n",
    "\n",
    "with ImpalaResource(hosts=[\"172.16.60.109\"], port=21050, user='vmspool',\n",
    "                    request_pool='vmspool', httpfs_host='hc3manager02.hc3pro', httpfs_port=14000) as ir:\n",
    "    query = (\n",
    "        f\"\"\"\n",
    "        insert overwrite table segment.landscape_segment\n",
    "        (\n",
    "        smn_uid\n",
    "        ,company_name\n",
    "        ,device\n",
    "        )\n",
    "        partition\n",
    "        (\n",
    "        segment_id = '{segment_id}'\n",
    "        )\n",
    "        select\n",
    "        distinct smn_uid\n",
    "        ,company_name\n",
    "        ,case when user_agent_os_family in ('iOS','Android') then 'SP' ELSE 'PC' END as device\n",
    "        from \n",
    "        segment.landscape_ip_company ls\n",
    "        inner join dsplog.bid_response bid\n",
    "        on ls.ip_address = bid.remote_address\n",
    "        where remote_address is not null\n",
    "        and concat_ws('-',year,month,day) between '{start_date}' and '{end_date}'\n",
    "        and smn_uid is not null \n",
    "        and ip_address is not null\n",
    "        and isp_flag not in ('1')\n",
    "        and (\n",
    "        (biz_category_lv1_code1 in ('O') and biz_category_lv3_code1 in ('822'))\n",
    "        or (biz_category_lv1_code2 in ('O') and biz_category_lv3_code2 in ('823'))\n",
    "        or (biz_category_lv1_code3 in ('O') and biz_category_lv3_code3 in ('824'))\n",
    "        or (biz_category_lv1_code3 in ('O') and biz_category_lv3_code3 in ('829'))\n",
    "        )\n",
    "        \"\"\"\n",
    "    )\n",
    "    ir.execute_query_no_ret(query) "
   ]
  },
  {
   "cell_type": "code",
   "execution_count": 47,
   "metadata": {},
   "outputs": [
    {
     "name": "stderr",
     "output_type": "stream",
     "text": [
      "INFO:ailab_tools.smn.impala_client:loaded configuration file: /opt/anaconda3/lib/python3.7/site-packages/ailab_tools/config/ailab_tools_config.py\n",
      "INFO:ailab_tools.smn.impala_client:hosts : ['172.16.60.109']\n",
      "INFO:ailab_tools.smn.impala_client:impala_host : 172.16.60.109\n",
      "INFO:ailab_tools.smn.impala_client:impala_port : 21050\n",
      "INFO:ailab_tools.smn.impala_client:impala_user : vmspool\n",
      "INFO:ailab_tools.smn.impala_client:impala_password : \n",
      "INFO:ailab_tools.smn.impala_client:request_pool : vmspool\n",
      "INFO:ailab_tools.smn.impala_client:configuration : {'REQUEST_POOL': 'vmspool'}\n",
      "INFO:ailab_tools.smn.impala_resource:loaded configuration file: /opt/anaconda3/lib/python3.7/site-packages/ailab_tools/config/ailab_tools_config.py\n",
      "INFO:ailab_tools.smn.impala_resource:httpfs_host: hc3manager02.hc3pro\n",
      "INFO:ailab_tools.smn.impala_resource:httpfs_port: 14000\n",
      "INFO:impyla_service:Impala open connection OK. hostname = [172.16.60.109]\n",
      "INFO:impyla_service:New connection is opened.\n",
      "INFO:impyla_service:実行SQL: \n",
      "        select \n",
      "        segment_id\n",
      "        ,count(distinct smn_uid) as uu\n",
      "        from segment.landscape_segment\n",
      "        group by segment_id\n",
      "        order by segment_id desc\n",
      "        \n",
      "INFO:impala.hiveserver2:Closing active operation\n",
      "INFO:impyla_service:Connection is closed.\n"
     ]
    }
   ],
   "source": [
    "query = (\n",
    "        f\"\"\"\n",
    "        select \n",
    "        segment_id\n",
    "        ,count(distinct smn_uid) as uu\n",
    "        from segment.landscape_segment\n",
    "        group by segment_id\n",
    "        order by segment_id desc\n",
    "        \"\"\"\n",
    ")\n",
    "with ImpalaResource(hosts=[\"172.16.60.109\"], port=21050, user='vmspool',\n",
    "                    request_pool='vmspool', httpfs_host='hc3manager02.hc3pro', httpfs_port=14000) as ir:\n",
    "    df_seg = ir.sql_to_pandas(query)"
   ]
  },
  {
   "cell_type": "code",
   "execution_count": 48,
   "metadata": {},
   "outputs": [
    {
     "data": {
      "text/html": [
       "<div>\n",
       "<style scoped>\n",
       "    .dataframe tbody tr th:only-of-type {\n",
       "        vertical-align: middle;\n",
       "    }\n",
       "\n",
       "    .dataframe tbody tr th {\n",
       "        vertical-align: top;\n",
       "    }\n",
       "\n",
       "    .dataframe thead th {\n",
       "        text-align: right;\n",
       "    }\n",
       "</style>\n",
       "<table border=\"1\" class=\"dataframe\">\n",
       "  <thead>\n",
       "    <tr style=\"text-align: right;\">\n",
       "      <th></th>\n",
       "      <th>segment_id</th>\n",
       "      <th>uu</th>\n",
       "    </tr>\n",
       "  </thead>\n",
       "  <tbody>\n",
       "    <tr>\n",
       "      <th>0</th>\n",
       "      <td>ls0101</td>\n",
       "      <td>29144</td>\n",
       "    </tr>\n",
       "    <tr>\n",
       "      <th>1</th>\n",
       "      <td>ls0100</td>\n",
       "      <td>50407</td>\n",
       "    </tr>\n",
       "    <tr>\n",
       "      <th>2</th>\n",
       "      <td>ls0099</td>\n",
       "      <td>3817940</td>\n",
       "    </tr>\n",
       "    <tr>\n",
       "      <th>3</th>\n",
       "      <td>ls0098</td>\n",
       "      <td>2698665</td>\n",
       "    </tr>\n",
       "    <tr>\n",
       "      <th>4</th>\n",
       "      <td>ls0097</td>\n",
       "      <td>2807484</td>\n",
       "    </tr>\n",
       "    <tr>\n",
       "      <th>5</th>\n",
       "      <td>ls0096</td>\n",
       "      <td>505777</td>\n",
       "    </tr>\n",
       "    <tr>\n",
       "      <th>6</th>\n",
       "      <td>ls0095</td>\n",
       "      <td>125907</td>\n",
       "    </tr>\n",
       "    <tr>\n",
       "      <th>7</th>\n",
       "      <td>ls0094</td>\n",
       "      <td>237148</td>\n",
       "    </tr>\n",
       "    <tr>\n",
       "      <th>8</th>\n",
       "      <td>ls0093</td>\n",
       "      <td>36745</td>\n",
       "    </tr>\n",
       "    <tr>\n",
       "      <th>9</th>\n",
       "      <td>ls0092</td>\n",
       "      <td>7189868</td>\n",
       "    </tr>\n",
       "  </tbody>\n",
       "</table>\n",
       "</div>"
      ],
      "text/plain": [
       "  segment_id       uu\n",
       "0     ls0101    29144\n",
       "1     ls0100    50407\n",
       "2     ls0099  3817940\n",
       "3     ls0098  2698665\n",
       "4     ls0097  2807484\n",
       "5     ls0096   505777\n",
       "6     ls0095   125907\n",
       "7     ls0094   237148\n",
       "8     ls0093    36745\n",
       "9     ls0092  7189868"
      ]
     },
     "execution_count": 48,
     "metadata": {},
     "output_type": "execute_result"
    }
   ],
   "source": [
    "df_seg.head(10)"
   ]
  },
  {
   "cell_type": "code",
   "execution_count": null,
   "metadata": {},
   "outputs": [],
   "source": []
  },
  {
   "cell_type": "code",
   "execution_count": null,
   "metadata": {},
   "outputs": [],
   "source": []
  },
  {
   "cell_type": "code",
   "execution_count": null,
   "metadata": {},
   "outputs": [],
   "source": []
  },
  {
   "cell_type": "code",
   "execution_count": null,
   "metadata": {},
   "outputs": [],
   "source": []
  },
  {
   "cell_type": "code",
   "execution_count": null,
   "metadata": {},
   "outputs": [],
   "source": []
  },
  {
   "cell_type": "code",
   "execution_count": null,
   "metadata": {},
   "outputs": [],
   "source": []
  },
  {
   "cell_type": "code",
   "execution_count": null,
   "metadata": {},
   "outputs": [],
   "source": []
  },
  {
   "cell_type": "code",
   "execution_count": null,
   "metadata": {},
   "outputs": [],
   "source": []
  },
  {
   "cell_type": "code",
   "execution_count": null,
   "metadata": {},
   "outputs": [],
   "source": []
  },
  {
   "cell_type": "markdown",
   "metadata": {},
   "source": [
    "今あるセグメントを確認する"
   ]
  },
  {
   "cell_type": "code",
   "execution_count": 81,
   "metadata": {},
   "outputs": [
    {
     "name": "stderr",
     "output_type": "stream",
     "text": [
      "INFO:ailab_tools.smn.impala_client:loaded configuration file: /opt/anaconda3/lib/python3.7/site-packages/ailab_tools/config/ailab_tools_config.py\n",
      "INFO:ailab_tools.smn.impala_client:hosts : ['172.16.60.109']\n",
      "INFO:ailab_tools.smn.impala_client:impala_host : 172.16.60.109\n",
      "INFO:ailab_tools.smn.impala_client:impala_port : 21050\n",
      "INFO:ailab_tools.smn.impala_client:impala_user : vmspool\n",
      "INFO:ailab_tools.smn.impala_client:impala_password : \n",
      "INFO:ailab_tools.smn.impala_client:request_pool : vmspool\n",
      "INFO:ailab_tools.smn.impala_client:configuration : {'REQUEST_POOL': 'vmspool'}\n",
      "INFO:ailab_tools.smn.impala_resource:loaded configuration file: /opt/anaconda3/lib/python3.7/site-packages/ailab_tools/config/ailab_tools_config.py\n",
      "INFO:ailab_tools.smn.impala_resource:httpfs_host: hc3manager02.hc3pro\n",
      "INFO:ailab_tools.smn.impala_resource:httpfs_port: 14000\n",
      "INFO:impyla_service:Impala open connection OK. hostname = [172.16.60.109]\n",
      "INFO:impyla_service:New connection is opened.\n",
      "INFO:impyla_service:実行SQL: \n",
      "        select \n",
      "        segment_id\n",
      "        ,count(distinct smn_uid) as uu\n",
      "        from segment.landscape_segment\n",
      "        group by segment_id\n",
      "        order by segment_id desc\n",
      "        \n",
      "INFO:impala.hiveserver2:Closing active operation\n",
      "INFO:impyla_service:Connection is closed.\n"
     ]
    }
   ],
   "source": [
    "query = (\n",
    "        f\"\"\"\n",
    "        select \n",
    "        segment_id\n",
    "        ,count(distinct smn_uid) as uu\n",
    "        from segment.landscape_segment\n",
    "        group by segment_id\n",
    "        order by segment_id desc\n",
    "        \"\"\"\n",
    ")\n",
    "with ImpalaResource(hosts=[\"172.16.60.109\"], port=21050, user='vmspool',\n",
    "                    request_pool='vmspool', httpfs_host='hc3manager02.hc3pro', httpfs_port=14000) as ir:\n",
    "    df_seg = ir.sql_to_pandas(query)"
   ]
  },
  {
   "cell_type": "code",
   "execution_count": 82,
   "metadata": {},
   "outputs": [
    {
     "data": {
      "text/html": [
       "<div>\n",
       "<style scoped>\n",
       "    .dataframe tbody tr th:only-of-type {\n",
       "        vertical-align: middle;\n",
       "    }\n",
       "\n",
       "    .dataframe tbody tr th {\n",
       "        vertical-align: top;\n",
       "    }\n",
       "\n",
       "    .dataframe thead th {\n",
       "        text-align: right;\n",
       "    }\n",
       "</style>\n",
       "<table border=\"1\" class=\"dataframe\">\n",
       "  <thead>\n",
       "    <tr style=\"text-align: right;\">\n",
       "      <th></th>\n",
       "      <th>segment_id</th>\n",
       "      <th>uu</th>\n",
       "    </tr>\n",
       "  </thead>\n",
       "  <tbody>\n",
       "    <tr>\n",
       "      <th>0</th>\n",
       "      <td>ls0095</td>\n",
       "      <td>125907</td>\n",
       "    </tr>\n",
       "    <tr>\n",
       "      <th>1</th>\n",
       "      <td>ls0094</td>\n",
       "      <td>237148</td>\n",
       "    </tr>\n",
       "    <tr>\n",
       "      <th>2</th>\n",
       "      <td>ls0093</td>\n",
       "      <td>36745</td>\n",
       "    </tr>\n",
       "    <tr>\n",
       "      <th>3</th>\n",
       "      <td>ls0092</td>\n",
       "      <td>7189868</td>\n",
       "    </tr>\n",
       "    <tr>\n",
       "      <th>4</th>\n",
       "      <td>ls0091</td>\n",
       "      <td>158414</td>\n",
       "    </tr>\n",
       "  </tbody>\n",
       "</table>\n",
       "</div>"
      ],
      "text/plain": [
       "  segment_id       uu\n",
       "0     ls0095   125907\n",
       "1     ls0094   237148\n",
       "2     ls0093    36745\n",
       "3     ls0092  7189868\n",
       "4     ls0091   158414"
      ]
     },
     "execution_count": 82,
     "metadata": {},
     "output_type": "execute_result"
    }
   ],
   "source": [
    "df_seg.head()"
   ]
  },
  {
   "cell_type": "markdown",
   "metadata": {},
   "source": [
    "LS0096_従業員10名以下"
   ]
  },
  {
   "cell_type": "code",
   "execution_count": 3,
   "metadata": {},
   "outputs": [
    {
     "name": "stdout",
     "output_type": "stream",
     "text": [
      "191002\n"
     ]
    }
   ],
   "source": [
    "today_yymmdd = date.today().strftime(\"%y%m%d\")\n",
    "print(today_yymmdd)"
   ]
  },
  {
   "cell_type": "code",
   "execution_count": 4,
   "metadata": {},
   "outputs": [
    {
     "name": "stdout",
     "output_type": "stream",
     "text": [
      "ls0096\n"
     ]
    }
   ],
   "source": [
    "segment_id = 'ls0096'\n",
    "print(segment_id)"
   ]
  },
  {
   "cell_type": "code",
   "execution_count": 5,
   "metadata": {},
   "outputs": [],
   "source": [
    "start_date = '2019-09-25'\n",
    "end_date = '2019-09-27'"
   ]
  },
  {
   "cell_type": "code",
   "execution_count": 6,
   "metadata": {},
   "outputs": [
    {
     "name": "stderr",
     "output_type": "stream",
     "text": [
      "INFO:ailab_tools.smn.impala_client:loaded configuration file: /opt/anaconda3/lib/python3.7/site-packages/ailab_tools/config/ailab_tools_config.py\n",
      "INFO:ailab_tools.smn.impala_client:hosts : ['172.16.60.109']\n",
      "INFO:ailab_tools.smn.impala_client:impala_host : 172.16.60.109\n",
      "INFO:ailab_tools.smn.impala_client:impala_port : 21050\n",
      "INFO:ailab_tools.smn.impala_client:impala_user : vmspool\n",
      "INFO:ailab_tools.smn.impala_client:impala_password : \n",
      "INFO:ailab_tools.smn.impala_client:request_pool : vmspool\n",
      "INFO:ailab_tools.smn.impala_client:configuration : {'REQUEST_POOL': 'vmspool'}\n",
      "INFO:ailab_tools.smn.impala_resource:loaded configuration file: /opt/anaconda3/lib/python3.7/site-packages/ailab_tools/config/ailab_tools_config.py\n",
      "INFO:ailab_tools.smn.impala_resource:httpfs_host: hc3manager02.hc3pro\n",
      "INFO:ailab_tools.smn.impala_resource:httpfs_port: 14000\n",
      "INFO:impyla_service:Impala open connection OK. hostname = [172.16.60.109]\n",
      "INFO:impyla_service:New connection is opened.\n",
      "INFO:impyla_service:実行SQL: \n",
      "        insert overwrite table segment.landscape_segment\n",
      "        (\n",
      "        smn_uid\n",
      "        ,company_name\n",
      "        ,device\n",
      "        )\n",
      "        partition\n",
      "        (\n",
      "        segment_id = 'ls0096'\n",
      "        )\n",
      "        select\n",
      "        distinct smn_uid\n",
      "        ,company_name\n",
      "        ,case when user_agent_os_family in ('iOS','Android') then 'SP' ELSE 'PC' END as device\n",
      "        from \n",
      "        segment.landscape_ip_company ls\n",
      "        inner join dsplog.bid_response bid\n",
      "        on ls.ip_address = bid.remote_address\n",
      "        where remote_address is not null\n",
      "        and concat_ws('-',year,month,day) between '2019-09-25' and '2019-09-27'\n",
      "        and smn_uid is not null \n",
      "        and ip_address is not null\n",
      "        and isp_flag not in ('1')\n",
      "        and cast(employee_range as int) between 1 and 2\n",
      "        \n",
      "INFO:impala.hiveserver2:Closing active operation\n",
      "INFO:impyla_service:Connection is closed.\n",
      "INFO:ailab_tools.utils.slack:loaded configuration file: /opt/anaconda3/lib/python3.7/site-packages/ailab_tools/config/ailab_tools_config.py\n",
      "INFO:ailab_tools.utils.slack:Slack: Posted a message to Slack.\n"
     ]
    }
   ],
   "source": [
    "%%slack_notify @yusuke_akada\n",
    "# 親テーブルにInsert\n",
    "\n",
    "with ImpalaResource(hosts=[\"172.16.60.109\"], port=21050, user='vmspool',\n",
    "                    request_pool='vmspool', httpfs_host='hc3manager02.hc3pro', httpfs_port=14000) as ir:\n",
    "    query = (\n",
    "        f\"\"\"\n",
    "        insert overwrite table segment.landscape_segment\n",
    "        (\n",
    "        smn_uid\n",
    "        ,company_name\n",
    "        ,device\n",
    "        )\n",
    "        partition\n",
    "        (\n",
    "        segment_id = '{segment_id}'\n",
    "        )\n",
    "        select\n",
    "        distinct smn_uid\n",
    "        ,company_name\n",
    "        ,case when user_agent_os_family in ('iOS','Android') then 'SP' ELSE 'PC' END as device\n",
    "        from \n",
    "        segment.landscape_ip_company ls\n",
    "        inner join dsplog.bid_response bid\n",
    "        on ls.ip_address = bid.remote_address\n",
    "        where remote_address is not null\n",
    "        and concat_ws('-',year,month,day) between '{start_date}' and '{end_date}'\n",
    "        and smn_uid is not null \n",
    "        and ip_address is not null\n",
    "        and isp_flag not in ('1')\n",
    "        and cast(employee_range as int) between 1 and 2\n",
    "        \"\"\"\n",
    "    )\n",
    "    ir.execute_query_no_ret(query) "
   ]
  },
  {
   "cell_type": "code",
   "execution_count": 7,
   "metadata": {},
   "outputs": [
    {
     "name": "stderr",
     "output_type": "stream",
     "text": [
      "INFO:ailab_tools.smn.impala_client:loaded configuration file: /opt/anaconda3/lib/python3.7/site-packages/ailab_tools/config/ailab_tools_config.py\n",
      "INFO:ailab_tools.smn.impala_client:hosts : ['172.16.60.109']\n",
      "INFO:ailab_tools.smn.impala_client:impala_host : 172.16.60.109\n",
      "INFO:ailab_tools.smn.impala_client:impala_port : 21050\n",
      "INFO:ailab_tools.smn.impala_client:impala_user : vmspool\n",
      "INFO:ailab_tools.smn.impala_client:impala_password : \n",
      "INFO:ailab_tools.smn.impala_client:request_pool : vmspool\n",
      "INFO:ailab_tools.smn.impala_client:configuration : {'REQUEST_POOL': 'vmspool'}\n",
      "INFO:ailab_tools.smn.impala_resource:loaded configuration file: /opt/anaconda3/lib/python3.7/site-packages/ailab_tools/config/ailab_tools_config.py\n",
      "INFO:ailab_tools.smn.impala_resource:httpfs_host: hc3manager02.hc3pro\n",
      "INFO:ailab_tools.smn.impala_resource:httpfs_port: 14000\n",
      "INFO:impyla_service:Impala open connection OK. hostname = [172.16.60.109]\n",
      "INFO:impyla_service:New connection is opened.\n",
      "INFO:impyla_service:実行SQL: \n",
      "        select \n",
      "        segment_id\n",
      "        ,count(distinct smn_uid) as uu\n",
      "        from segment.landscape_segment\n",
      "        group by segment_id\n",
      "        order by segment_id desc\n",
      "        \n",
      "INFO:impala.hiveserver2:Closing active operation\n",
      "INFO:impyla_service:Connection is closed.\n"
     ]
    }
   ],
   "source": [
    "query = (\n",
    "        f\"\"\"\n",
    "        select \n",
    "        segment_id\n",
    "        ,count(distinct smn_uid) as uu\n",
    "        from segment.landscape_segment\n",
    "        group by segment_id\n",
    "        order by segment_id desc\n",
    "        \"\"\"\n",
    ")\n",
    "with ImpalaResource(hosts=[\"172.16.60.109\"], port=21050, user='vmspool',\n",
    "                    request_pool='vmspool', httpfs_host='hc3manager02.hc3pro', httpfs_port=14000) as ir:\n",
    "    df_seg = ir.sql_to_pandas(query)"
   ]
  },
  {
   "cell_type": "code",
   "execution_count": 8,
   "metadata": {},
   "outputs": [
    {
     "data": {
      "text/html": [
       "<div>\n",
       "<style scoped>\n",
       "    .dataframe tbody tr th:only-of-type {\n",
       "        vertical-align: middle;\n",
       "    }\n",
       "\n",
       "    .dataframe tbody tr th {\n",
       "        vertical-align: top;\n",
       "    }\n",
       "\n",
       "    .dataframe thead th {\n",
       "        text-align: right;\n",
       "    }\n",
       "</style>\n",
       "<table border=\"1\" class=\"dataframe\">\n",
       "  <thead>\n",
       "    <tr style=\"text-align: right;\">\n",
       "      <th></th>\n",
       "      <th>segment_id</th>\n",
       "      <th>uu</th>\n",
       "    </tr>\n",
       "  </thead>\n",
       "  <tbody>\n",
       "    <tr>\n",
       "      <th>0</th>\n",
       "      <td>ls0096</td>\n",
       "      <td>505777</td>\n",
       "    </tr>\n",
       "    <tr>\n",
       "      <th>1</th>\n",
       "      <td>ls0095</td>\n",
       "      <td>125907</td>\n",
       "    </tr>\n",
       "    <tr>\n",
       "      <th>2</th>\n",
       "      <td>ls0094</td>\n",
       "      <td>237148</td>\n",
       "    </tr>\n",
       "    <tr>\n",
       "      <th>3</th>\n",
       "      <td>ls0093</td>\n",
       "      <td>36745</td>\n",
       "    </tr>\n",
       "    <tr>\n",
       "      <th>4</th>\n",
       "      <td>ls0092</td>\n",
       "      <td>7189868</td>\n",
       "    </tr>\n",
       "  </tbody>\n",
       "</table>\n",
       "</div>"
      ],
      "text/plain": [
       "  segment_id       uu\n",
       "0     ls0096   505777\n",
       "1     ls0095   125907\n",
       "2     ls0094   237148\n",
       "3     ls0093    36745\n",
       "4     ls0092  7189868"
      ]
     },
     "execution_count": 8,
     "metadata": {},
     "output_type": "execute_result"
    }
   ],
   "source": [
    "df_seg.head()"
   ]
  },
  {
   "cell_type": "code",
   "execution_count": null,
   "metadata": {},
   "outputs": [],
   "source": []
  },
  {
   "cell_type": "code",
   "execution_count": null,
   "metadata": {},
   "outputs": [],
   "source": []
  },
  {
   "cell_type": "markdown",
   "metadata": {},
   "source": [
    "LS0097_小売業"
   ]
  },
  {
   "cell_type": "code",
   "execution_count": 9,
   "metadata": {},
   "outputs": [
    {
     "name": "stdout",
     "output_type": "stream",
     "text": [
      "191002\n"
     ]
    }
   ],
   "source": [
    "today_yymmdd = date.today().strftime(\"%y%m%d\")\n",
    "print(today_yymmdd)"
   ]
  },
  {
   "cell_type": "code",
   "execution_count": 10,
   "metadata": {},
   "outputs": [
    {
     "name": "stdout",
     "output_type": "stream",
     "text": [
      "ls0097\n"
     ]
    }
   ],
   "source": [
    "segment_id = 'ls0097'\n",
    "print(segment_id)"
   ]
  },
  {
   "cell_type": "code",
   "execution_count": 11,
   "metadata": {},
   "outputs": [],
   "source": [
    "start_date = '2019-09-25'\n",
    "end_date = '2019-09-27'"
   ]
  },
  {
   "cell_type": "code",
   "execution_count": 12,
   "metadata": {},
   "outputs": [
    {
     "name": "stderr",
     "output_type": "stream",
     "text": [
      "INFO:ailab_tools.smn.impala_client:loaded configuration file: /opt/anaconda3/lib/python3.7/site-packages/ailab_tools/config/ailab_tools_config.py\n",
      "INFO:ailab_tools.smn.impala_client:hosts : ['172.16.60.109']\n",
      "INFO:ailab_tools.smn.impala_client:impala_host : 172.16.60.109\n",
      "INFO:ailab_tools.smn.impala_client:impala_port : 21050\n",
      "INFO:ailab_tools.smn.impala_client:impala_user : vmspool\n",
      "INFO:ailab_tools.smn.impala_client:impala_password : \n",
      "INFO:ailab_tools.smn.impala_client:request_pool : vmspool\n",
      "INFO:ailab_tools.smn.impala_client:configuration : {'REQUEST_POOL': 'vmspool'}\n",
      "INFO:ailab_tools.smn.impala_resource:loaded configuration file: /opt/anaconda3/lib/python3.7/site-packages/ailab_tools/config/ailab_tools_config.py\n",
      "INFO:ailab_tools.smn.impala_resource:httpfs_host: hc3manager02.hc3pro\n",
      "INFO:ailab_tools.smn.impala_resource:httpfs_port: 14000\n",
      "INFO:impyla_service:Impala open connection OK. hostname = [172.16.60.109]\n",
      "INFO:impyla_service:New connection is opened.\n",
      "INFO:impyla_service:実行SQL: \n",
      "        insert overwrite table segment.landscape_segment\n",
      "        (\n",
      "        smn_uid\n",
      "        ,company_name\n",
      "        ,device\n",
      "        )\n",
      "        partition\n",
      "        (\n",
      "        segment_id = 'ls0097'\n",
      "        )\n",
      "        select\n",
      "        distinct smn_uid\n",
      "        ,company_name\n",
      "        ,case when user_agent_os_family in ('iOS','Android') then 'SP' ELSE 'PC' END as device\n",
      "        from \n",
      "        segment.landscape_ip_company ls\n",
      "        inner join dsplog.bid_response bid\n",
      "        on ls.ip_address = bid.remote_address\n",
      "        where remote_address is not null\n",
      "        and concat_ws('-',year,month,day) between '2019-09-25' and '2019-09-27'\n",
      "        and smn_uid is not null \n",
      "        and ip_address is not null\n",
      "        and isp_flag not in ('1')\n",
      "        and (biz_category_lv1_code1 in ('I') or biz_category_lv1_code2 in ('I') or biz_category_lv1_code3 in ('I'))\n",
      "        \n",
      "INFO:impala.hiveserver2:Closing active operation\n",
      "INFO:impyla_service:Connection is closed.\n",
      "INFO:ailab_tools.utils.slack:loaded configuration file: /opt/anaconda3/lib/python3.7/site-packages/ailab_tools/config/ailab_tools_config.py\n",
      "INFO:ailab_tools.utils.slack:Slack: Posted a message to Slack.\n"
     ]
    }
   ],
   "source": [
    "%%slack_notify @yusuke_akada\n",
    "# 親テーブルにInsert\n",
    "\n",
    "with ImpalaResource(hosts=[\"172.16.60.109\"], port=21050, user='vmspool',\n",
    "                    request_pool='vmspool', httpfs_host='hc3manager02.hc3pro', httpfs_port=14000) as ir:\n",
    "    query = (\n",
    "        f\"\"\"\n",
    "        insert overwrite table segment.landscape_segment\n",
    "        (\n",
    "        smn_uid\n",
    "        ,company_name\n",
    "        ,device\n",
    "        )\n",
    "        partition\n",
    "        (\n",
    "        segment_id = '{segment_id}'\n",
    "        )\n",
    "        select\n",
    "        distinct smn_uid\n",
    "        ,company_name\n",
    "        ,case when user_agent_os_family in ('iOS','Android') then 'SP' ELSE 'PC' END as device\n",
    "        from \n",
    "        segment.landscape_ip_company ls\n",
    "        inner join dsplog.bid_response bid\n",
    "        on ls.ip_address = bid.remote_address\n",
    "        where remote_address is not null\n",
    "        and concat_ws('-',year,month,day) between '{start_date}' and '{end_date}'\n",
    "        and smn_uid is not null \n",
    "        and ip_address is not null\n",
    "        and isp_flag not in ('1')\n",
    "        and (biz_category_lv1_code1 in ('I') or biz_category_lv1_code2 in ('I') or biz_category_lv1_code3 in ('I'))\n",
    "        \"\"\"\n",
    "    )\n",
    "    ir.execute_query_no_ret(query) "
   ]
  },
  {
   "cell_type": "code",
   "execution_count": 13,
   "metadata": {},
   "outputs": [
    {
     "name": "stderr",
     "output_type": "stream",
     "text": [
      "INFO:ailab_tools.smn.impala_client:loaded configuration file: /opt/anaconda3/lib/python3.7/site-packages/ailab_tools/config/ailab_tools_config.py\n",
      "INFO:ailab_tools.smn.impala_client:hosts : ['172.16.60.109']\n",
      "INFO:ailab_tools.smn.impala_client:impala_host : 172.16.60.109\n",
      "INFO:ailab_tools.smn.impala_client:impala_port : 21050\n",
      "INFO:ailab_tools.smn.impala_client:impala_user : vmspool\n",
      "INFO:ailab_tools.smn.impala_client:impala_password : \n",
      "INFO:ailab_tools.smn.impala_client:request_pool : vmspool\n",
      "INFO:ailab_tools.smn.impala_client:configuration : {'REQUEST_POOL': 'vmspool'}\n",
      "INFO:ailab_tools.smn.impala_resource:loaded configuration file: /opt/anaconda3/lib/python3.7/site-packages/ailab_tools/config/ailab_tools_config.py\n",
      "INFO:ailab_tools.smn.impala_resource:httpfs_host: hc3manager02.hc3pro\n",
      "INFO:ailab_tools.smn.impala_resource:httpfs_port: 14000\n",
      "INFO:impyla_service:Impala open connection OK. hostname = [172.16.60.109]\n",
      "INFO:impyla_service:New connection is opened.\n",
      "INFO:impyla_service:実行SQL: \n",
      "        select \n",
      "        segment_id\n",
      "        ,count(distinct smn_uid) as uu\n",
      "        from segment.landscape_segment\n",
      "        group by segment_id\n",
      "        order by segment_id desc\n",
      "        \n",
      "INFO:impala.hiveserver2:Closing active operation\n",
      "INFO:impyla_service:Connection is closed.\n"
     ]
    }
   ],
   "source": [
    "query = (\n",
    "        f\"\"\"\n",
    "        select \n",
    "        segment_id\n",
    "        ,count(distinct smn_uid) as uu\n",
    "        from segment.landscape_segment\n",
    "        group by segment_id\n",
    "        order by segment_id desc\n",
    "        \"\"\"\n",
    ")\n",
    "with ImpalaResource(hosts=[\"172.16.60.109\"], port=21050, user='vmspool',\n",
    "                    request_pool='vmspool', httpfs_host='hc3manager02.hc3pro', httpfs_port=14000) as ir:\n",
    "    df_seg = ir.sql_to_pandas(query)"
   ]
  },
  {
   "cell_type": "code",
   "execution_count": 14,
   "metadata": {},
   "outputs": [
    {
     "data": {
      "text/html": [
       "<div>\n",
       "<style scoped>\n",
       "    .dataframe tbody tr th:only-of-type {\n",
       "        vertical-align: middle;\n",
       "    }\n",
       "\n",
       "    .dataframe tbody tr th {\n",
       "        vertical-align: top;\n",
       "    }\n",
       "\n",
       "    .dataframe thead th {\n",
       "        text-align: right;\n",
       "    }\n",
       "</style>\n",
       "<table border=\"1\" class=\"dataframe\">\n",
       "  <thead>\n",
       "    <tr style=\"text-align: right;\">\n",
       "      <th></th>\n",
       "      <th>segment_id</th>\n",
       "      <th>uu</th>\n",
       "    </tr>\n",
       "  </thead>\n",
       "  <tbody>\n",
       "    <tr>\n",
       "      <th>0</th>\n",
       "      <td>ls0097</td>\n",
       "      <td>2807484</td>\n",
       "    </tr>\n",
       "    <tr>\n",
       "      <th>1</th>\n",
       "      <td>ls0096</td>\n",
       "      <td>505777</td>\n",
       "    </tr>\n",
       "    <tr>\n",
       "      <th>2</th>\n",
       "      <td>ls0095</td>\n",
       "      <td>125907</td>\n",
       "    </tr>\n",
       "    <tr>\n",
       "      <th>3</th>\n",
       "      <td>ls0094</td>\n",
       "      <td>237148</td>\n",
       "    </tr>\n",
       "    <tr>\n",
       "      <th>4</th>\n",
       "      <td>ls0093</td>\n",
       "      <td>36745</td>\n",
       "    </tr>\n",
       "  </tbody>\n",
       "</table>\n",
       "</div>"
      ],
      "text/plain": [
       "  segment_id       uu\n",
       "0     ls0097  2807484\n",
       "1     ls0096   505777\n",
       "2     ls0095   125907\n",
       "3     ls0094   237148\n",
       "4     ls0093    36745"
      ]
     },
     "execution_count": 14,
     "metadata": {},
     "output_type": "execute_result"
    }
   ],
   "source": [
    "df_seg.head()"
   ]
  },
  {
   "cell_type": "code",
   "execution_count": null,
   "metadata": {},
   "outputs": [],
   "source": []
  },
  {
   "cell_type": "markdown",
   "metadata": {},
   "source": [
    "LS0098_上場企業・指定業種"
   ]
  },
  {
   "cell_type": "code",
   "execution_count": 15,
   "metadata": {},
   "outputs": [
    {
     "name": "stdout",
     "output_type": "stream",
     "text": [
      "191002\n"
     ]
    }
   ],
   "source": [
    "today_yymmdd = date.today().strftime(\"%y%m%d\")\n",
    "print(today_yymmdd)"
   ]
  },
  {
   "cell_type": "code",
   "execution_count": 16,
   "metadata": {},
   "outputs": [
    {
     "name": "stdout",
     "output_type": "stream",
     "text": [
      "ls0098\n"
     ]
    }
   ],
   "source": [
    "segment_id = 'ls0098'\n",
    "print(segment_id)"
   ]
  },
  {
   "cell_type": "code",
   "execution_count": 17,
   "metadata": {},
   "outputs": [],
   "source": [
    "start_date = '2019-09-25'\n",
    "end_date = '2019-09-27'"
   ]
  },
  {
   "cell_type": "code",
   "execution_count": 18,
   "metadata": {},
   "outputs": [
    {
     "name": "stderr",
     "output_type": "stream",
     "text": [
      "INFO:ailab_tools.smn.impala_client:loaded configuration file: /opt/anaconda3/lib/python3.7/site-packages/ailab_tools/config/ailab_tools_config.py\n",
      "INFO:ailab_tools.smn.impala_client:hosts : ['172.16.60.109']\n",
      "INFO:ailab_tools.smn.impala_client:impala_host : 172.16.60.109\n",
      "INFO:ailab_tools.smn.impala_client:impala_port : 21050\n",
      "INFO:ailab_tools.smn.impala_client:impala_user : vmspool\n",
      "INFO:ailab_tools.smn.impala_client:impala_password : \n",
      "INFO:ailab_tools.smn.impala_client:request_pool : vmspool\n",
      "INFO:ailab_tools.smn.impala_client:configuration : {'REQUEST_POOL': 'vmspool'}\n",
      "INFO:ailab_tools.smn.impala_resource:loaded configuration file: /opt/anaconda3/lib/python3.7/site-packages/ailab_tools/config/ailab_tools_config.py\n",
      "INFO:ailab_tools.smn.impala_resource:httpfs_host: hc3manager02.hc3pro\n",
      "INFO:ailab_tools.smn.impala_resource:httpfs_port: 14000\n",
      "INFO:impyla_service:Impala open connection OK. hostname = [172.16.60.109]\n",
      "INFO:impyla_service:New connection is opened.\n",
      "INFO:impyla_service:実行SQL: \n",
      "        insert overwrite table segment.landscape_segment\n",
      "        (\n",
      "        smn_uid\n",
      "        ,company_name\n",
      "        ,device\n",
      "        )\n",
      "        partition\n",
      "        (\n",
      "        segment_id = 'ls0098'\n",
      "        )\n",
      "        select\n",
      "        distinct smn_uid\n",
      "        ,company_name\n",
      "        ,case when user_agent_os_family in ('iOS','Android') then 'SP' ELSE 'PC' END as device\n",
      "        from \n",
      "        segment.landscape_ip_company ls\n",
      "        inner join dsplog.bid_response bid\n",
      "        on ls.ip_address = bid.remote_address\n",
      "        where remote_address is not null\n",
      "        and concat_ws('-',year,month,day) between '2019-09-25' and '2019-09-27'\n",
      "        and smn_uid is not null \n",
      "        and ip_address is not null\n",
      "        and isp_flag not in ('1')\n",
      "        and cast(listed_code as int) between 1 and 6\n",
      "        and biz_category_lv1_code1 in ('D','E','I','K','M') \n",
      "        and OFFICE_ID is not null \n",
      "        \n",
      "INFO:impala.hiveserver2:Closing active operation\n",
      "INFO:impyla_service:Connection is closed.\n",
      "INFO:ailab_tools.utils.slack:loaded configuration file: /opt/anaconda3/lib/python3.7/site-packages/ailab_tools/config/ailab_tools_config.py\n",
      "INFO:ailab_tools.utils.slack:Slack: Posted a message to Slack.\n"
     ]
    }
   ],
   "source": [
    "%%slack_notify @yusuke_akada\n",
    "# 親テーブルにInsert\n",
    "\n",
    "with ImpalaResource(hosts=[\"172.16.60.109\"], port=21050, user='vmspool',\n",
    "                    request_pool='vmspool', httpfs_host='hc3manager02.hc3pro', httpfs_port=14000) as ir:\n",
    "    query = (\n",
    "        f\"\"\"\n",
    "        insert overwrite table segment.landscape_segment\n",
    "        (\n",
    "        smn_uid\n",
    "        ,company_name\n",
    "        ,device\n",
    "        )\n",
    "        partition\n",
    "        (\n",
    "        segment_id = '{segment_id}'\n",
    "        )\n",
    "        select\n",
    "        distinct smn_uid\n",
    "        ,company_name\n",
    "        ,case when user_agent_os_family in ('iOS','Android') then 'SP' ELSE 'PC' END as device\n",
    "        from \n",
    "        segment.landscape_ip_company ls\n",
    "        inner join dsplog.bid_response bid\n",
    "        on ls.ip_address = bid.remote_address\n",
    "        where remote_address is not null\n",
    "        and concat_ws('-',year,month,day) between '{start_date}' and '{end_date}'\n",
    "        and smn_uid is not null \n",
    "        and ip_address is not null\n",
    "        and isp_flag not in ('1')\n",
    "        and cast(listed_code as int) between 1 and 6\n",
    "        and biz_category_lv1_code1 in ('D','E','I','K','M') \n",
    "        and OFFICE_ID is not null \n",
    "        \"\"\"\n",
    "    )\n",
    "    ir.execute_query_no_ret(query) "
   ]
  },
  {
   "cell_type": "code",
   "execution_count": 19,
   "metadata": {},
   "outputs": [
    {
     "name": "stderr",
     "output_type": "stream",
     "text": [
      "INFO:ailab_tools.smn.impala_client:loaded configuration file: /opt/anaconda3/lib/python3.7/site-packages/ailab_tools/config/ailab_tools_config.py\n",
      "INFO:ailab_tools.smn.impala_client:hosts : ['172.16.60.109']\n",
      "INFO:ailab_tools.smn.impala_client:impala_host : 172.16.60.109\n",
      "INFO:ailab_tools.smn.impala_client:impala_port : 21050\n",
      "INFO:ailab_tools.smn.impala_client:impala_user : vmspool\n",
      "INFO:ailab_tools.smn.impala_client:impala_password : \n",
      "INFO:ailab_tools.smn.impala_client:request_pool : vmspool\n",
      "INFO:ailab_tools.smn.impala_client:configuration : {'REQUEST_POOL': 'vmspool'}\n",
      "INFO:ailab_tools.smn.impala_resource:loaded configuration file: /opt/anaconda3/lib/python3.7/site-packages/ailab_tools/config/ailab_tools_config.py\n",
      "INFO:ailab_tools.smn.impala_resource:httpfs_host: hc3manager02.hc3pro\n",
      "INFO:ailab_tools.smn.impala_resource:httpfs_port: 14000\n",
      "INFO:impyla_service:Impala open connection OK. hostname = [172.16.60.109]\n",
      "INFO:impyla_service:New connection is opened.\n",
      "INFO:impyla_service:実行SQL: \n",
      "        select \n",
      "        segment_id\n",
      "        ,count(distinct smn_uid) as uu\n",
      "        from segment.landscape_segment\n",
      "        group by segment_id\n",
      "        order by segment_id desc\n",
      "        \n",
      "INFO:impala.hiveserver2:Closing active operation\n",
      "INFO:impyla_service:Connection is closed.\n"
     ]
    }
   ],
   "source": [
    "query = (\n",
    "        f\"\"\"\n",
    "        select \n",
    "        segment_id\n",
    "        ,count(distinct smn_uid) as uu\n",
    "        from segment.landscape_segment\n",
    "        group by segment_id\n",
    "        order by segment_id desc\n",
    "        \"\"\"\n",
    ")\n",
    "with ImpalaResource(hosts=[\"172.16.60.109\"], port=21050, user='vmspool',\n",
    "                    request_pool='vmspool', httpfs_host='hc3manager02.hc3pro', httpfs_port=14000) as ir:\n",
    "    df_seg = ir.sql_to_pandas(query)"
   ]
  },
  {
   "cell_type": "code",
   "execution_count": 20,
   "metadata": {},
   "outputs": [
    {
     "data": {
      "text/html": [
       "<div>\n",
       "<style scoped>\n",
       "    .dataframe tbody tr th:only-of-type {\n",
       "        vertical-align: middle;\n",
       "    }\n",
       "\n",
       "    .dataframe tbody tr th {\n",
       "        vertical-align: top;\n",
       "    }\n",
       "\n",
       "    .dataframe thead th {\n",
       "        text-align: right;\n",
       "    }\n",
       "</style>\n",
       "<table border=\"1\" class=\"dataframe\">\n",
       "  <thead>\n",
       "    <tr style=\"text-align: right;\">\n",
       "      <th></th>\n",
       "      <th>segment_id</th>\n",
       "      <th>uu</th>\n",
       "    </tr>\n",
       "  </thead>\n",
       "  <tbody>\n",
       "    <tr>\n",
       "      <th>0</th>\n",
       "      <td>ls0098</td>\n",
       "      <td>2698665</td>\n",
       "    </tr>\n",
       "    <tr>\n",
       "      <th>1</th>\n",
       "      <td>ls0097</td>\n",
       "      <td>2807484</td>\n",
       "    </tr>\n",
       "    <tr>\n",
       "      <th>2</th>\n",
       "      <td>ls0096</td>\n",
       "      <td>505777</td>\n",
       "    </tr>\n",
       "    <tr>\n",
       "      <th>3</th>\n",
       "      <td>ls0095</td>\n",
       "      <td>125907</td>\n",
       "    </tr>\n",
       "    <tr>\n",
       "      <th>4</th>\n",
       "      <td>ls0094</td>\n",
       "      <td>237148</td>\n",
       "    </tr>\n",
       "  </tbody>\n",
       "</table>\n",
       "</div>"
      ],
      "text/plain": [
       "  segment_id       uu\n",
       "0     ls0098  2698665\n",
       "1     ls0097  2807484\n",
       "2     ls0096   505777\n",
       "3     ls0095   125907\n",
       "4     ls0094   237148"
      ]
     },
     "execution_count": 20,
     "metadata": {},
     "output_type": "execute_result"
    }
   ],
   "source": [
    "df_seg.head()"
   ]
  },
  {
   "cell_type": "code",
   "execution_count": null,
   "metadata": {},
   "outputs": [],
   "source": []
  },
  {
   "cell_type": "code",
   "execution_count": null,
   "metadata": {},
   "outputs": [],
   "source": []
  },
  {
   "cell_type": "markdown",
   "metadata": {},
   "source": [
    "LS0099_大企業（東京都内）"
   ]
  },
  {
   "cell_type": "code",
   "execution_count": 23,
   "metadata": {},
   "outputs": [
    {
     "name": "stdout",
     "output_type": "stream",
     "text": [
      "191015\n"
     ]
    }
   ],
   "source": [
    "today_yymmdd = date.today().strftime(\"%y%m%d\")\n",
    "print(today_yymmdd)"
   ]
  },
  {
   "cell_type": "markdown",
   "metadata": {},
   "source": [
    "今あるセグメントを確認する"
   ]
  },
  {
   "cell_type": "code",
   "execution_count": 25,
   "metadata": {},
   "outputs": [
    {
     "name": "stderr",
     "output_type": "stream",
     "text": [
      "INFO:ailab_tools.smn.impala_client:loaded configuration file: /opt/anaconda3/lib/python3.7/site-packages/ailab_tools/config/ailab_tools_config.py\n",
      "INFO:ailab_tools.smn.impala_client:hosts : ['172.16.60.109']\n",
      "INFO:ailab_tools.smn.impala_client:impala_host : 172.16.60.109\n",
      "INFO:ailab_tools.smn.impala_client:impala_port : 21050\n",
      "INFO:ailab_tools.smn.impala_client:impala_user : vmspool\n",
      "INFO:ailab_tools.smn.impala_client:impala_password : \n",
      "INFO:ailab_tools.smn.impala_client:request_pool : vmspool\n",
      "INFO:ailab_tools.smn.impala_client:configuration : {'REQUEST_POOL': 'vmspool'}\n",
      "INFO:ailab_tools.smn.impala_resource:loaded configuration file: /opt/anaconda3/lib/python3.7/site-packages/ailab_tools/config/ailab_tools_config.py\n",
      "INFO:ailab_tools.smn.impala_resource:httpfs_host: hc3manager02.hc3pro\n",
      "INFO:ailab_tools.smn.impala_resource:httpfs_port: 14000\n",
      "INFO:impyla_service:Impala open connection OK. hostname = [172.16.60.109]\n",
      "INFO:impyla_service:New connection is opened.\n",
      "INFO:impyla_service:実行SQL: \n",
      "        select \n",
      "        segment_id\n",
      "        ,count(distinct smn_uid) as uu\n",
      "        from segment.landscape_segment\n",
      "        group by segment_id\n",
      "        order by segment_id desc\n",
      "        \n",
      "INFO:impala.hiveserver2:Closing active operation\n",
      "INFO:impyla_service:Connection is closed.\n"
     ]
    }
   ],
   "source": [
    "query = (\n",
    "        f\"\"\"\n",
    "        select \n",
    "        segment_id\n",
    "        ,count(distinct smn_uid) as uu\n",
    "        from segment.landscape_segment\n",
    "        group by segment_id\n",
    "        order by segment_id desc\n",
    "        \"\"\"\n",
    ")\n",
    "with ImpalaResource(hosts=[\"172.16.60.109\"], port=21050, user='vmspool',\n",
    "                    request_pool='vmspool', httpfs_host='hc3manager02.hc3pro', httpfs_port=14000) as ir:\n",
    "    df_seg = ir.sql_to_pandas(query)"
   ]
  },
  {
   "cell_type": "code",
   "execution_count": 26,
   "metadata": {},
   "outputs": [
    {
     "data": {
      "text/html": [
       "<div>\n",
       "<style scoped>\n",
       "    .dataframe tbody tr th:only-of-type {\n",
       "        vertical-align: middle;\n",
       "    }\n",
       "\n",
       "    .dataframe tbody tr th {\n",
       "        vertical-align: top;\n",
       "    }\n",
       "\n",
       "    .dataframe thead th {\n",
       "        text-align: right;\n",
       "    }\n",
       "</style>\n",
       "<table border=\"1\" class=\"dataframe\">\n",
       "  <thead>\n",
       "    <tr style=\"text-align: right;\">\n",
       "      <th></th>\n",
       "      <th>segment_id</th>\n",
       "      <th>uu</th>\n",
       "    </tr>\n",
       "  </thead>\n",
       "  <tbody>\n",
       "    <tr>\n",
       "      <th>0</th>\n",
       "      <td>ls0098</td>\n",
       "      <td>2698665</td>\n",
       "    </tr>\n",
       "    <tr>\n",
       "      <th>1</th>\n",
       "      <td>ls0097</td>\n",
       "      <td>2807484</td>\n",
       "    </tr>\n",
       "    <tr>\n",
       "      <th>2</th>\n",
       "      <td>ls0096</td>\n",
       "      <td>505777</td>\n",
       "    </tr>\n",
       "    <tr>\n",
       "      <th>3</th>\n",
       "      <td>ls0095</td>\n",
       "      <td>125907</td>\n",
       "    </tr>\n",
       "    <tr>\n",
       "      <th>4</th>\n",
       "      <td>ls0094</td>\n",
       "      <td>237148</td>\n",
       "    </tr>\n",
       "  </tbody>\n",
       "</table>\n",
       "</div>"
      ],
      "text/plain": [
       "  segment_id       uu\n",
       "0     ls0098  2698665\n",
       "1     ls0097  2807484\n",
       "2     ls0096   505777\n",
       "3     ls0095   125907\n",
       "4     ls0094   237148"
      ]
     },
     "execution_count": 26,
     "metadata": {},
     "output_type": "execute_result"
    }
   ],
   "source": [
    "df_seg.head()"
   ]
  },
  {
   "cell_type": "code",
   "execution_count": 27,
   "metadata": {},
   "outputs": [
    {
     "name": "stdout",
     "output_type": "stream",
     "text": [
      "ls0099\n"
     ]
    }
   ],
   "source": [
    "segment_id = 'ls0099'\n",
    "print(segment_id)"
   ]
  },
  {
   "cell_type": "code",
   "execution_count": 28,
   "metadata": {},
   "outputs": [],
   "source": [
    "start_date = '2019-09-30'\n",
    "end_date = '2019-10-02'"
   ]
  },
  {
   "cell_type": "code",
   "execution_count": 29,
   "metadata": {},
   "outputs": [
    {
     "name": "stderr",
     "output_type": "stream",
     "text": [
      "INFO:ailab_tools.smn.impala_client:loaded configuration file: /opt/anaconda3/lib/python3.7/site-packages/ailab_tools/config/ailab_tools_config.py\n",
      "INFO:ailab_tools.smn.impala_client:hosts : ['172.16.60.109']\n",
      "INFO:ailab_tools.smn.impala_client:impala_host : 172.16.60.109\n",
      "INFO:ailab_tools.smn.impala_client:impala_port : 21050\n",
      "INFO:ailab_tools.smn.impala_client:impala_user : vmspool\n",
      "INFO:ailab_tools.smn.impala_client:impala_password : \n",
      "INFO:ailab_tools.smn.impala_client:request_pool : vmspool\n",
      "INFO:ailab_tools.smn.impala_client:configuration : {'REQUEST_POOL': 'vmspool'}\n",
      "INFO:ailab_tools.smn.impala_resource:loaded configuration file: /opt/anaconda3/lib/python3.7/site-packages/ailab_tools/config/ailab_tools_config.py\n",
      "INFO:ailab_tools.smn.impala_resource:httpfs_host: hc3manager02.hc3pro\n",
      "INFO:ailab_tools.smn.impala_resource:httpfs_port: 14000\n",
      "INFO:impyla_service:Impala open connection OK. hostname = [172.16.60.109]\n",
      "INFO:impyla_service:New connection is opened.\n",
      "INFO:impyla_service:実行SQL: \n",
      "        insert overwrite table segment.landscape_segment\n",
      "        (\n",
      "        smn_uid\n",
      "        ,company_name\n",
      "        ,device\n",
      "        )\n",
      "        partition\n",
      "        (\n",
      "        segment_id = 'ls0099'\n",
      "        )\n",
      "        select\n",
      "        distinct smn_uid\n",
      "        ,company_name\n",
      "        ,case when user_agent_os_family in ('iOS','Android') then 'SP' ELSE 'PC' END as device\n",
      "        from \n",
      "        segment.landscape_ip_company ls\n",
      "        inner join dsplog.bid_response bid\n",
      "        on ls.ip_address = bid.remote_address\n",
      "        where remote_address is not null\n",
      "        and concat_ws('-',year,month,day) between '2019-09-30' and '2019-10-02'\n",
      "        and smn_uid is not null \n",
      "        and ip_address is not null\n",
      "        and isp_flag not in ('1')\n",
      "        and cast(capital_range as int) between 5 and 10\n",
      "        and cast(employee_range as int) between 8 and 12\n",
      "        and prefecture_name in (\"東京都\")\n",
      "        and OFFICE_ID is not null \n",
      "        \n",
      "INFO:impala.hiveserver2:Closing active operation\n",
      "INFO:impyla_service:Connection is closed.\n",
      "INFO:ailab_tools.utils.slack:loaded configuration file: /opt/anaconda3/lib/python3.7/site-packages/ailab_tools/config/ailab_tools_config.py\n",
      "INFO:ailab_tools.utils.slack:Slack: Posted a message to Slack.\n"
     ]
    }
   ],
   "source": [
    "%%slack_notify @yusuke_akada\n",
    "# 親テーブルにInsert\n",
    "\n",
    "with ImpalaResource(hosts=[\"172.16.60.109\"], port=21050, user='vmspool',\n",
    "                    request_pool='vmspool', httpfs_host='hc3manager02.hc3pro', httpfs_port=14000) as ir:\n",
    "    query = (\n",
    "        f\"\"\"\n",
    "        insert overwrite table segment.landscape_segment\n",
    "        (\n",
    "        smn_uid\n",
    "        ,company_name\n",
    "        ,device\n",
    "        )\n",
    "        partition\n",
    "        (\n",
    "        segment_id = '{segment_id}'\n",
    "        )\n",
    "        select\n",
    "        distinct smn_uid\n",
    "        ,company_name\n",
    "        ,case when user_agent_os_family in ('iOS','Android') then 'SP' ELSE 'PC' END as device\n",
    "        from \n",
    "        segment.landscape_ip_company ls\n",
    "        inner join dsplog.bid_response bid\n",
    "        on ls.ip_address = bid.remote_address\n",
    "        where remote_address is not null\n",
    "        and concat_ws('-',year,month,day) between '{start_date}' and '{end_date}'\n",
    "        and smn_uid is not null \n",
    "        and ip_address is not null\n",
    "        and isp_flag not in ('1')\n",
    "        and cast(capital_range as int) between 5 and 10\n",
    "        and cast(employee_range as int) between 8 and 12\n",
    "        and prefecture_name in (\"東京都\")\n",
    "        and OFFICE_ID is not null \n",
    "        \"\"\"\n",
    "    )\n",
    "    ir.execute_query_no_ret(query) "
   ]
  },
  {
   "cell_type": "code",
   "execution_count": 30,
   "metadata": {},
   "outputs": [
    {
     "name": "stderr",
     "output_type": "stream",
     "text": [
      "INFO:ailab_tools.smn.impala_client:loaded configuration file: /opt/anaconda3/lib/python3.7/site-packages/ailab_tools/config/ailab_tools_config.py\n",
      "INFO:ailab_tools.smn.impala_client:hosts : ['172.16.60.109']\n",
      "INFO:ailab_tools.smn.impala_client:impala_host : 172.16.60.109\n",
      "INFO:ailab_tools.smn.impala_client:impala_port : 21050\n",
      "INFO:ailab_tools.smn.impala_client:impala_user : vmspool\n",
      "INFO:ailab_tools.smn.impala_client:impala_password : \n",
      "INFO:ailab_tools.smn.impala_client:request_pool : vmspool\n",
      "INFO:ailab_tools.smn.impala_client:configuration : {'REQUEST_POOL': 'vmspool'}\n",
      "INFO:ailab_tools.smn.impala_resource:loaded configuration file: /opt/anaconda3/lib/python3.7/site-packages/ailab_tools/config/ailab_tools_config.py\n",
      "INFO:ailab_tools.smn.impala_resource:httpfs_host: hc3manager02.hc3pro\n",
      "INFO:ailab_tools.smn.impala_resource:httpfs_port: 14000\n",
      "INFO:impyla_service:Impala open connection OK. hostname = [172.16.60.109]\n",
      "INFO:impyla_service:New connection is opened.\n",
      "INFO:impyla_service:実行SQL: \n",
      "        select \n",
      "        segment_id\n",
      "        ,count(distinct smn_uid) as uu\n",
      "        from segment.landscape_segment\n",
      "        group by segment_id\n",
      "        order by segment_id desc\n",
      "        \n",
      "INFO:impala.hiveserver2:Closing active operation\n",
      "INFO:impyla_service:Connection is closed.\n"
     ]
    }
   ],
   "source": [
    "query = (\n",
    "        f\"\"\"\n",
    "        select \n",
    "        segment_id\n",
    "        ,count(distinct smn_uid) as uu\n",
    "        from segment.landscape_segment\n",
    "        group by segment_id\n",
    "        order by segment_id desc\n",
    "        \"\"\"\n",
    ")\n",
    "with ImpalaResource(hosts=[\"172.16.60.109\"], port=21050, user='vmspool',\n",
    "                    request_pool='vmspool', httpfs_host='hc3manager02.hc3pro', httpfs_port=14000) as ir:\n",
    "    df_seg = ir.sql_to_pandas(query)"
   ]
  },
  {
   "cell_type": "code",
   "execution_count": 31,
   "metadata": {},
   "outputs": [
    {
     "data": {
      "text/html": [
       "<div>\n",
       "<style scoped>\n",
       "    .dataframe tbody tr th:only-of-type {\n",
       "        vertical-align: middle;\n",
       "    }\n",
       "\n",
       "    .dataframe tbody tr th {\n",
       "        vertical-align: top;\n",
       "    }\n",
       "\n",
       "    .dataframe thead th {\n",
       "        text-align: right;\n",
       "    }\n",
       "</style>\n",
       "<table border=\"1\" class=\"dataframe\">\n",
       "  <thead>\n",
       "    <tr style=\"text-align: right;\">\n",
       "      <th></th>\n",
       "      <th>segment_id</th>\n",
       "      <th>uu</th>\n",
       "    </tr>\n",
       "  </thead>\n",
       "  <tbody>\n",
       "    <tr>\n",
       "      <th>0</th>\n",
       "      <td>ls0099</td>\n",
       "      <td>3817940</td>\n",
       "    </tr>\n",
       "    <tr>\n",
       "      <th>1</th>\n",
       "      <td>ls0098</td>\n",
       "      <td>2698665</td>\n",
       "    </tr>\n",
       "    <tr>\n",
       "      <th>2</th>\n",
       "      <td>ls0097</td>\n",
       "      <td>2807484</td>\n",
       "    </tr>\n",
       "    <tr>\n",
       "      <th>3</th>\n",
       "      <td>ls0096</td>\n",
       "      <td>505777</td>\n",
       "    </tr>\n",
       "    <tr>\n",
       "      <th>4</th>\n",
       "      <td>ls0095</td>\n",
       "      <td>125907</td>\n",
       "    </tr>\n",
       "  </tbody>\n",
       "</table>\n",
       "</div>"
      ],
      "text/plain": [
       "  segment_id       uu\n",
       "0     ls0099  3817940\n",
       "1     ls0098  2698665\n",
       "2     ls0097  2807484\n",
       "3     ls0096   505777\n",
       "4     ls0095   125907"
      ]
     },
     "execution_count": 31,
     "metadata": {},
     "output_type": "execute_result"
    }
   ],
   "source": [
    "df_seg.head()"
   ]
  },
  {
   "cell_type": "code",
   "execution_count": null,
   "metadata": {},
   "outputs": [],
   "source": []
  },
  {
   "cell_type": "markdown",
   "metadata": {},
   "source": [
    "LS0102_建設業"
   ]
  },
  {
   "cell_type": "code",
   "execution_count": 51,
   "metadata": {},
   "outputs": [
    {
     "name": "stdout",
     "output_type": "stream",
     "text": [
      "191029\n"
     ]
    }
   ],
   "source": [
    "today_yymmdd = date.today().strftime(\"%y%m%d\")\n",
    "print(today_yymmdd)"
   ]
  },
  {
   "cell_type": "markdown",
   "metadata": {},
   "source": [
    "今あるセグメントを確認する"
   ]
  },
  {
   "cell_type": "code",
   "execution_count": 52,
   "metadata": {},
   "outputs": [
    {
     "name": "stderr",
     "output_type": "stream",
     "text": [
      "INFO:ailab_tools.smn.impala_client:loaded configuration file: /opt/anaconda3/lib/python3.7/site-packages/ailab_tools/config/ailab_tools_config.py\n",
      "INFO:ailab_tools.smn.impala_client:hosts : ['172.16.60.109']\n",
      "INFO:ailab_tools.smn.impala_client:impala_host : 172.16.60.109\n",
      "INFO:ailab_tools.smn.impala_client:impala_port : 21050\n",
      "INFO:ailab_tools.smn.impala_client:impala_user : vmspool\n",
      "INFO:ailab_tools.smn.impala_client:impala_password : \n",
      "INFO:ailab_tools.smn.impala_client:request_pool : vmspool\n",
      "INFO:ailab_tools.smn.impala_client:configuration : {'REQUEST_POOL': 'vmspool'}\n",
      "INFO:ailab_tools.smn.impala_resource:loaded configuration file: /opt/anaconda3/lib/python3.7/site-packages/ailab_tools/config/ailab_tools_config.py\n",
      "INFO:ailab_tools.smn.impala_resource:httpfs_host: hc3manager02.hc3pro\n",
      "INFO:ailab_tools.smn.impala_resource:httpfs_port: 14000\n",
      "INFO:impyla_service:Impala open connection OK. hostname = [172.16.60.109]\n",
      "INFO:impyla_service:New connection is opened.\n",
      "INFO:impyla_service:実行SQL: \n",
      "        select \n",
      "        segment_id\n",
      "        ,count(distinct smn_uid) as uu\n",
      "        from segment.landscape_segment\n",
      "        group by segment_id\n",
      "        order by segment_id desc\n",
      "        \n",
      "INFO:impala.hiveserver2:Closing active operation\n",
      "INFO:impyla_service:Connection is closed.\n"
     ]
    }
   ],
   "source": [
    "query = (\n",
    "        f\"\"\"\n",
    "        select \n",
    "        segment_id\n",
    "        ,count(distinct smn_uid) as uu\n",
    "        from segment.landscape_segment\n",
    "        group by segment_id\n",
    "        order by segment_id desc\n",
    "        \"\"\"\n",
    ")\n",
    "with ImpalaResource(hosts=[\"172.16.60.109\"], port=21050, user='vmspool',\n",
    "                    request_pool='vmspool', httpfs_host='hc3manager02.hc3pro', httpfs_port=14000) as ir:\n",
    "    df_seg = ir.sql_to_pandas(query)"
   ]
  },
  {
   "cell_type": "code",
   "execution_count": 53,
   "metadata": {},
   "outputs": [
    {
     "data": {
      "text/html": [
       "<div>\n",
       "<style scoped>\n",
       "    .dataframe tbody tr th:only-of-type {\n",
       "        vertical-align: middle;\n",
       "    }\n",
       "\n",
       "    .dataframe tbody tr th {\n",
       "        vertical-align: top;\n",
       "    }\n",
       "\n",
       "    .dataframe thead th {\n",
       "        text-align: right;\n",
       "    }\n",
       "</style>\n",
       "<table border=\"1\" class=\"dataframe\">\n",
       "  <thead>\n",
       "    <tr style=\"text-align: right;\">\n",
       "      <th></th>\n",
       "      <th>segment_id</th>\n",
       "      <th>uu</th>\n",
       "    </tr>\n",
       "  </thead>\n",
       "  <tbody>\n",
       "    <tr>\n",
       "      <th>0</th>\n",
       "      <td>ls0101</td>\n",
       "      <td>29144</td>\n",
       "    </tr>\n",
       "    <tr>\n",
       "      <th>1</th>\n",
       "      <td>ls0100</td>\n",
       "      <td>50407</td>\n",
       "    </tr>\n",
       "    <tr>\n",
       "      <th>2</th>\n",
       "      <td>ls0099</td>\n",
       "      <td>3817940</td>\n",
       "    </tr>\n",
       "    <tr>\n",
       "      <th>3</th>\n",
       "      <td>ls0098</td>\n",
       "      <td>2698665</td>\n",
       "    </tr>\n",
       "    <tr>\n",
       "      <th>4</th>\n",
       "      <td>ls0097</td>\n",
       "      <td>2807484</td>\n",
       "    </tr>\n",
       "  </tbody>\n",
       "</table>\n",
       "</div>"
      ],
      "text/plain": [
       "  segment_id       uu\n",
       "0     ls0101    29144\n",
       "1     ls0100    50407\n",
       "2     ls0099  3817940\n",
       "3     ls0098  2698665\n",
       "4     ls0097  2807484"
      ]
     },
     "execution_count": 53,
     "metadata": {},
     "output_type": "execute_result"
    }
   ],
   "source": [
    "df_seg.head()"
   ]
  },
  {
   "cell_type": "code",
   "execution_count": 54,
   "metadata": {},
   "outputs": [
    {
     "name": "stdout",
     "output_type": "stream",
     "text": [
      "ls0102\n"
     ]
    }
   ],
   "source": [
    "segment_id = 'ls0102'\n",
    "print(segment_id)"
   ]
  },
  {
   "cell_type": "code",
   "execution_count": 55,
   "metadata": {},
   "outputs": [],
   "source": [
    "start_date = '2019-10-23'\n",
    "end_date = '2019-10-25'"
   ]
  },
  {
   "cell_type": "code",
   "execution_count": 56,
   "metadata": {},
   "outputs": [
    {
     "name": "stderr",
     "output_type": "stream",
     "text": [
      "INFO:ailab_tools.smn.impala_client:loaded configuration file: /opt/anaconda3/lib/python3.7/site-packages/ailab_tools/config/ailab_tools_config.py\n",
      "INFO:ailab_tools.smn.impala_client:hosts : ['172.16.60.109']\n",
      "INFO:ailab_tools.smn.impala_client:impala_host : 172.16.60.109\n",
      "INFO:ailab_tools.smn.impala_client:impala_port : 21050\n",
      "INFO:ailab_tools.smn.impala_client:impala_user : vmspool\n",
      "INFO:ailab_tools.smn.impala_client:impala_password : \n",
      "INFO:ailab_tools.smn.impala_client:request_pool : vmspool\n",
      "INFO:ailab_tools.smn.impala_client:configuration : {'REQUEST_POOL': 'vmspool'}\n",
      "INFO:ailab_tools.smn.impala_resource:loaded configuration file: /opt/anaconda3/lib/python3.7/site-packages/ailab_tools/config/ailab_tools_config.py\n",
      "INFO:ailab_tools.smn.impala_resource:httpfs_host: hc3manager02.hc3pro\n",
      "INFO:ailab_tools.smn.impala_resource:httpfs_port: 14000\n",
      "INFO:impyla_service:Impala open connection OK. hostname = [172.16.60.109]\n",
      "INFO:impyla_service:New connection is opened.\n",
      "INFO:impyla_service:実行SQL: \n",
      "        insert overwrite table segment.landscape_segment\n",
      "        (\n",
      "        smn_uid\n",
      "        ,company_name\n",
      "        ,device\n",
      "        )\n",
      "        partition\n",
      "        (\n",
      "        segment_id = 'ls0102'\n",
      "        )\n",
      "        select\n",
      "        distinct smn_uid\n",
      "        ,company_name\n",
      "        ,case when user_agent_os_family in ('iOS','Android') then 'SP' ELSE 'PC' END as device\n",
      "        from \n",
      "        segment.landscape_ip_company ls\n",
      "        inner join dsplog.bid_response bid\n",
      "        on ls.ip_address = bid.remote_address\n",
      "        where remote_address is not null\n",
      "        and concat_ws('-',year,month,day) between '2019-10-23' and '2019-10-25'\n",
      "        and smn_uid is not null \n",
      "        and ip_address is not null\n",
      "        and isp_flag not in ('1')\n",
      "        and (biz_category_lv1_code1 in ('D') or biz_category_lv1_code2 in ('D') or biz_category_lv1_code3 in ('D'))\n",
      "        and OFFICE_ID is not null \n",
      "        \n",
      "INFO:impala.hiveserver2:Closing active operation\n",
      "INFO:impyla_service:Connection is closed.\n",
      "INFO:ailab_tools.utils.slack:loaded configuration file: /opt/anaconda3/lib/python3.7/site-packages/ailab_tools/config/ailab_tools_config.py\n",
      "INFO:ailab_tools.utils.slack:Slack: Posted a message to Slack.\n"
     ]
    }
   ],
   "source": [
    "%%slack_notify @yusuke_akada\n",
    "# 親テーブルにInsert\n",
    "\n",
    "with ImpalaResource(hosts=[\"172.16.60.109\"], port=21050, user='vmspool',\n",
    "                    request_pool='vmspool', httpfs_host='hc3manager02.hc3pro', httpfs_port=14000) as ir:\n",
    "    query = (\n",
    "        f\"\"\"\n",
    "        insert overwrite table segment.landscape_segment\n",
    "        (\n",
    "        smn_uid\n",
    "        ,company_name\n",
    "        ,device\n",
    "        )\n",
    "        partition\n",
    "        (\n",
    "        segment_id = '{segment_id}'\n",
    "        )\n",
    "        select\n",
    "        distinct smn_uid\n",
    "        ,company_name\n",
    "        ,case when user_agent_os_family in ('iOS','Android') then 'SP' ELSE 'PC' END as device\n",
    "        from \n",
    "        segment.landscape_ip_company ls\n",
    "        inner join dsplog.bid_response bid\n",
    "        on ls.ip_address = bid.remote_address\n",
    "        where remote_address is not null\n",
    "        and concat_ws('-',year,month,day) between '{start_date}' and '{end_date}'\n",
    "        and smn_uid is not null \n",
    "        and ip_address is not null\n",
    "        and isp_flag not in ('1')\n",
    "        and (biz_category_lv1_code1 in ('D') or biz_category_lv1_code2 in ('D') or biz_category_lv1_code3 in ('D'))\n",
    "        and OFFICE_ID is not null \n",
    "        \"\"\"\n",
    "    )\n",
    "    ir.execute_query_no_ret(query) "
   ]
  },
  {
   "cell_type": "code",
   "execution_count": 57,
   "metadata": {},
   "outputs": [
    {
     "name": "stderr",
     "output_type": "stream",
     "text": [
      "INFO:ailab_tools.smn.impala_client:loaded configuration file: /opt/anaconda3/lib/python3.7/site-packages/ailab_tools/config/ailab_tools_config.py\n",
      "INFO:ailab_tools.smn.impala_client:hosts : ['172.16.60.109']\n",
      "INFO:ailab_tools.smn.impala_client:impala_host : 172.16.60.109\n",
      "INFO:ailab_tools.smn.impala_client:impala_port : 21050\n",
      "INFO:ailab_tools.smn.impala_client:impala_user : vmspool\n",
      "INFO:ailab_tools.smn.impala_client:impala_password : \n",
      "INFO:ailab_tools.smn.impala_client:request_pool : vmspool\n",
      "INFO:ailab_tools.smn.impala_client:configuration : {'REQUEST_POOL': 'vmspool'}\n",
      "INFO:ailab_tools.smn.impala_resource:loaded configuration file: /opt/anaconda3/lib/python3.7/site-packages/ailab_tools/config/ailab_tools_config.py\n",
      "INFO:ailab_tools.smn.impala_resource:httpfs_host: hc3manager02.hc3pro\n",
      "INFO:ailab_tools.smn.impala_resource:httpfs_port: 14000\n",
      "INFO:impyla_service:Impala open connection OK. hostname = [172.16.60.109]\n",
      "INFO:impyla_service:New connection is opened.\n",
      "INFO:impyla_service:実行SQL: \n",
      "        select \n",
      "        segment_id\n",
      "        ,count(distinct smn_uid) as uu\n",
      "        from segment.landscape_segment\n",
      "        group by segment_id\n",
      "        order by segment_id desc\n",
      "        \n",
      "INFO:impala.hiveserver2:Closing active operation\n",
      "INFO:impyla_service:Connection is closed.\n"
     ]
    }
   ],
   "source": [
    "query = (\n",
    "        f\"\"\"\n",
    "        select \n",
    "        segment_id\n",
    "        ,count(distinct smn_uid) as uu\n",
    "        from segment.landscape_segment\n",
    "        group by segment_id\n",
    "        order by segment_id desc\n",
    "        \"\"\"\n",
    ")\n",
    "with ImpalaResource(hosts=[\"172.16.60.109\"], port=21050, user='vmspool',\n",
    "                    request_pool='vmspool', httpfs_host='hc3manager02.hc3pro', httpfs_port=14000) as ir:\n",
    "    df_seg = ir.sql_to_pandas(query)"
   ]
  },
  {
   "cell_type": "code",
   "execution_count": 58,
   "metadata": {},
   "outputs": [
    {
     "data": {
      "text/html": [
       "<div>\n",
       "<style scoped>\n",
       "    .dataframe tbody tr th:only-of-type {\n",
       "        vertical-align: middle;\n",
       "    }\n",
       "\n",
       "    .dataframe tbody tr th {\n",
       "        vertical-align: top;\n",
       "    }\n",
       "\n",
       "    .dataframe thead th {\n",
       "        text-align: right;\n",
       "    }\n",
       "</style>\n",
       "<table border=\"1\" class=\"dataframe\">\n",
       "  <thead>\n",
       "    <tr style=\"text-align: right;\">\n",
       "      <th></th>\n",
       "      <th>segment_id</th>\n",
       "      <th>uu</th>\n",
       "    </tr>\n",
       "  </thead>\n",
       "  <tbody>\n",
       "    <tr>\n",
       "      <th>0</th>\n",
       "      <td>ls0102</td>\n",
       "      <td>1044230</td>\n",
       "    </tr>\n",
       "    <tr>\n",
       "      <th>1</th>\n",
       "      <td>ls0101</td>\n",
       "      <td>29144</td>\n",
       "    </tr>\n",
       "    <tr>\n",
       "      <th>2</th>\n",
       "      <td>ls0100</td>\n",
       "      <td>50407</td>\n",
       "    </tr>\n",
       "    <tr>\n",
       "      <th>3</th>\n",
       "      <td>ls0099</td>\n",
       "      <td>3817940</td>\n",
       "    </tr>\n",
       "    <tr>\n",
       "      <th>4</th>\n",
       "      <td>ls0098</td>\n",
       "      <td>2698665</td>\n",
       "    </tr>\n",
       "  </tbody>\n",
       "</table>\n",
       "</div>"
      ],
      "text/plain": [
       "  segment_id       uu\n",
       "0     ls0102  1044230\n",
       "1     ls0101    29144\n",
       "2     ls0100    50407\n",
       "3     ls0099  3817940\n",
       "4     ls0098  2698665"
      ]
     },
     "execution_count": 58,
     "metadata": {},
     "output_type": "execute_result"
    }
   ],
   "source": [
    "df_seg.head()"
   ]
  },
  {
   "cell_type": "code",
   "execution_count": null,
   "metadata": {},
   "outputs": [],
   "source": []
  },
  {
   "cell_type": "markdown",
   "metadata": {},
   "source": [
    "LS0103_製造業・卸売業・宿泊飲食・医療福祉"
   ]
  },
  {
   "cell_type": "code",
   "execution_count": 61,
   "metadata": {},
   "outputs": [
    {
     "name": "stdout",
     "output_type": "stream",
     "text": [
      "191030\n"
     ]
    }
   ],
   "source": [
    "today_yymmdd = date.today().strftime(\"%y%m%d\")\n",
    "print(today_yymmdd)"
   ]
  },
  {
   "cell_type": "markdown",
   "metadata": {},
   "source": [
    "今あるセグメントを確認する"
   ]
  },
  {
   "cell_type": "code",
   "execution_count": 62,
   "metadata": {},
   "outputs": [
    {
     "name": "stderr",
     "output_type": "stream",
     "text": [
      "INFO:ailab_tools.smn.impala_client:loaded configuration file: /opt/anaconda3/lib/python3.7/site-packages/ailab_tools/config/ailab_tools_config.py\n",
      "INFO:ailab_tools.smn.impala_client:hosts : ['172.16.60.109']\n",
      "INFO:ailab_tools.smn.impala_client:impala_host : 172.16.60.109\n",
      "INFO:ailab_tools.smn.impala_client:impala_port : 21050\n",
      "INFO:ailab_tools.smn.impala_client:impala_user : vmspool\n",
      "INFO:ailab_tools.smn.impala_client:impala_password : \n",
      "INFO:ailab_tools.smn.impala_client:request_pool : vmspool\n",
      "INFO:ailab_tools.smn.impala_client:configuration : {'REQUEST_POOL': 'vmspool'}\n",
      "INFO:ailab_tools.smn.impala_resource:loaded configuration file: /opt/anaconda3/lib/python3.7/site-packages/ailab_tools/config/ailab_tools_config.py\n",
      "INFO:ailab_tools.smn.impala_resource:httpfs_host: hc3manager02.hc3pro\n",
      "INFO:ailab_tools.smn.impala_resource:httpfs_port: 14000\n",
      "INFO:impyla_service:Impala open connection OK. hostname = [172.16.60.109]\n",
      "INFO:impyla_service:New connection is opened.\n",
      "INFO:impyla_service:実行SQL: \n",
      "        select \n",
      "        segment_id\n",
      "        ,count(distinct smn_uid) as uu\n",
      "        from segment.landscape_segment\n",
      "        group by segment_id\n",
      "        order by segment_id desc\n",
      "        \n",
      "INFO:impala.hiveserver2:Closing active operation\n",
      "INFO:impyla_service:Connection is closed.\n"
     ]
    }
   ],
   "source": [
    "query = (\n",
    "        f\"\"\"\n",
    "        select \n",
    "        segment_id\n",
    "        ,count(distinct smn_uid) as uu\n",
    "        from segment.landscape_segment\n",
    "        group by segment_id\n",
    "        order by segment_id desc\n",
    "        \"\"\"\n",
    ")\n",
    "with ImpalaResource(hosts=[\"172.16.60.109\"], port=21050, user='vmspool',\n",
    "                    request_pool='vmspool', httpfs_host='hc3manager02.hc3pro', httpfs_port=14000) as ir:\n",
    "    df_seg = ir.sql_to_pandas(query)"
   ]
  },
  {
   "cell_type": "code",
   "execution_count": 63,
   "metadata": {},
   "outputs": [
    {
     "data": {
      "text/html": [
       "<div>\n",
       "<style scoped>\n",
       "    .dataframe tbody tr th:only-of-type {\n",
       "        vertical-align: middle;\n",
       "    }\n",
       "\n",
       "    .dataframe tbody tr th {\n",
       "        vertical-align: top;\n",
       "    }\n",
       "\n",
       "    .dataframe thead th {\n",
       "        text-align: right;\n",
       "    }\n",
       "</style>\n",
       "<table border=\"1\" class=\"dataframe\">\n",
       "  <thead>\n",
       "    <tr style=\"text-align: right;\">\n",
       "      <th></th>\n",
       "      <th>segment_id</th>\n",
       "      <th>uu</th>\n",
       "    </tr>\n",
       "  </thead>\n",
       "  <tbody>\n",
       "    <tr>\n",
       "      <th>0</th>\n",
       "      <td>ls0102</td>\n",
       "      <td>1044230</td>\n",
       "    </tr>\n",
       "    <tr>\n",
       "      <th>1</th>\n",
       "      <td>ls0101</td>\n",
       "      <td>29144</td>\n",
       "    </tr>\n",
       "    <tr>\n",
       "      <th>2</th>\n",
       "      <td>ls0100</td>\n",
       "      <td>50407</td>\n",
       "    </tr>\n",
       "    <tr>\n",
       "      <th>3</th>\n",
       "      <td>ls0099</td>\n",
       "      <td>3817940</td>\n",
       "    </tr>\n",
       "    <tr>\n",
       "      <th>4</th>\n",
       "      <td>ls0098</td>\n",
       "      <td>2698665</td>\n",
       "    </tr>\n",
       "  </tbody>\n",
       "</table>\n",
       "</div>"
      ],
      "text/plain": [
       "  segment_id       uu\n",
       "0     ls0102  1044230\n",
       "1     ls0101    29144\n",
       "2     ls0100    50407\n",
       "3     ls0099  3817940\n",
       "4     ls0098  2698665"
      ]
     },
     "execution_count": 63,
     "metadata": {},
     "output_type": "execute_result"
    }
   ],
   "source": [
    "df_seg.head()"
   ]
  },
  {
   "cell_type": "code",
   "execution_count": 64,
   "metadata": {},
   "outputs": [
    {
     "name": "stdout",
     "output_type": "stream",
     "text": [
      "ls0103\n"
     ]
    }
   ],
   "source": [
    "segment_id = 'ls0103'\n",
    "print(segment_id)"
   ]
  },
  {
   "cell_type": "code",
   "execution_count": 65,
   "metadata": {},
   "outputs": [],
   "source": [
    "start_date = '2019-10-23'\n",
    "end_date = '2019-10-25'"
   ]
  },
  {
   "cell_type": "code",
   "execution_count": 66,
   "metadata": {},
   "outputs": [
    {
     "name": "stderr",
     "output_type": "stream",
     "text": [
      "INFO:ailab_tools.smn.impala_client:loaded configuration file: /opt/anaconda3/lib/python3.7/site-packages/ailab_tools/config/ailab_tools_config.py\n",
      "INFO:ailab_tools.smn.impala_client:hosts : ['172.16.60.109']\n",
      "INFO:ailab_tools.smn.impala_client:impala_host : 172.16.60.109\n",
      "INFO:ailab_tools.smn.impala_client:impala_port : 21050\n",
      "INFO:ailab_tools.smn.impala_client:impala_user : vmspool\n",
      "INFO:ailab_tools.smn.impala_client:impala_password : \n",
      "INFO:ailab_tools.smn.impala_client:request_pool : vmspool\n",
      "INFO:ailab_tools.smn.impala_client:configuration : {'REQUEST_POOL': 'vmspool'}\n",
      "INFO:ailab_tools.smn.impala_resource:loaded configuration file: /opt/anaconda3/lib/python3.7/site-packages/ailab_tools/config/ailab_tools_config.py\n",
      "INFO:ailab_tools.smn.impala_resource:httpfs_host: hc3manager02.hc3pro\n",
      "INFO:ailab_tools.smn.impala_resource:httpfs_port: 14000\n",
      "INFO:impyla_service:Impala open connection OK. hostname = [172.16.60.109]\n",
      "INFO:impyla_service:New connection is opened.\n",
      "INFO:impyla_service:実行SQL: \n",
      "        insert overwrite table segment.landscape_segment\n",
      "        (\n",
      "        smn_uid\n",
      "        ,company_name\n",
      "        ,device\n",
      "        )\n",
      "        partition\n",
      "        (\n",
      "        segment_id = 'ls0103'\n",
      "        )\n",
      "        select\n",
      "        distinct smn_uid\n",
      "        ,company_name\n",
      "        ,case when user_agent_os_family in ('iOS','Android') then 'SP' ELSE 'PC' END as device\n",
      "        from \n",
      "        segment.landscape_ip_company ls\n",
      "        inner join dsplog.bid_response bid\n",
      "        on ls.ip_address = bid.remote_address\n",
      "        where remote_address is not null\n",
      "        and concat_ws('-',year,month,day) between '2019-10-23' and '2019-10-25'\n",
      "        and smn_uid is not null \n",
      "        and ip_address is not null\n",
      "        and isp_flag not in ('1')\n",
      "        and (biz_category_lv1_code1 in ('E','I','M','P') or biz_category_lv1_code2 in ('E','I','M','P') or biz_category_lv1_code3 in ('E','I','M','P'))\n",
      "        and OFFICE_ID is not null \n",
      "        \n",
      "INFO:impala.hiveserver2:Closing active operation\n",
      "INFO:impyla_service:Connection is closed.\n",
      "INFO:ailab_tools.utils.slack:loaded configuration file: /opt/anaconda3/lib/python3.7/site-packages/ailab_tools/config/ailab_tools_config.py\n",
      "INFO:ailab_tools.utils.slack:Slack: Posted a message to Slack.\n"
     ]
    }
   ],
   "source": [
    "%%slack_notify @yusuke_akada\n",
    "# 親テーブルにInsert\n",
    "\n",
    "with ImpalaResource(hosts=[\"172.16.60.109\"], port=21050, user='vmspool',\n",
    "                    request_pool='vmspool', httpfs_host='hc3manager02.hc3pro', httpfs_port=14000) as ir:\n",
    "    query = (\n",
    "        f\"\"\"\n",
    "        insert overwrite table segment.landscape_segment\n",
    "        (\n",
    "        smn_uid\n",
    "        ,company_name\n",
    "        ,device\n",
    "        )\n",
    "        partition\n",
    "        (\n",
    "        segment_id = '{segment_id}'\n",
    "        )\n",
    "        select\n",
    "        distinct smn_uid\n",
    "        ,company_name\n",
    "        ,case when user_agent_os_family in ('iOS','Android') then 'SP' ELSE 'PC' END as device\n",
    "        from \n",
    "        segment.landscape_ip_company ls\n",
    "        inner join dsplog.bid_response bid\n",
    "        on ls.ip_address = bid.remote_address\n",
    "        where remote_address is not null\n",
    "        and concat_ws('-',year,month,day) between '{start_date}' and '{end_date}'\n",
    "        and smn_uid is not null \n",
    "        and ip_address is not null\n",
    "        and isp_flag not in ('1')\n",
    "        and (biz_category_lv1_code1 in ('E','I','M','P') or biz_category_lv1_code2 in ('E','I','M','P') or biz_category_lv1_code3 in ('E','I','M','P'))\n",
    "        and OFFICE_ID is not null \n",
    "        \"\"\"\n",
    "    )\n",
    "    ir.execute_query_no_ret(query) "
   ]
  },
  {
   "cell_type": "code",
   "execution_count": 67,
   "metadata": {},
   "outputs": [
    {
     "name": "stderr",
     "output_type": "stream",
     "text": [
      "INFO:ailab_tools.smn.impala_client:loaded configuration file: /opt/anaconda3/lib/python3.7/site-packages/ailab_tools/config/ailab_tools_config.py\n",
      "INFO:ailab_tools.smn.impala_client:hosts : ['172.16.60.109']\n",
      "INFO:ailab_tools.smn.impala_client:impala_host : 172.16.60.109\n",
      "INFO:ailab_tools.smn.impala_client:impala_port : 21050\n",
      "INFO:ailab_tools.smn.impala_client:impala_user : vmspool\n",
      "INFO:ailab_tools.smn.impala_client:impala_password : \n",
      "INFO:ailab_tools.smn.impala_client:request_pool : vmspool\n",
      "INFO:ailab_tools.smn.impala_client:configuration : {'REQUEST_POOL': 'vmspool'}\n",
      "INFO:ailab_tools.smn.impala_resource:loaded configuration file: /opt/anaconda3/lib/python3.7/site-packages/ailab_tools/config/ailab_tools_config.py\n",
      "INFO:ailab_tools.smn.impala_resource:httpfs_host: hc3manager02.hc3pro\n",
      "INFO:ailab_tools.smn.impala_resource:httpfs_port: 14000\n",
      "INFO:impyla_service:Impala open connection OK. hostname = [172.16.60.109]\n",
      "INFO:impyla_service:New connection is opened.\n",
      "INFO:impyla_service:実行SQL: \n",
      "        select \n",
      "        segment_id\n",
      "        ,count(distinct smn_uid) as uu\n",
      "        from segment.landscape_segment\n",
      "        group by segment_id\n",
      "        order by segment_id desc\n",
      "        \n",
      "INFO:impala.hiveserver2:Closing active operation\n",
      "INFO:impyla_service:Connection is closed.\n"
     ]
    }
   ],
   "source": [
    "query = (\n",
    "        f\"\"\"\n",
    "        select \n",
    "        segment_id\n",
    "        ,count(distinct smn_uid) as uu\n",
    "        from segment.landscape_segment\n",
    "        group by segment_id\n",
    "        order by segment_id desc\n",
    "        \"\"\"\n",
    ")\n",
    "with ImpalaResource(hosts=[\"172.16.60.109\"], port=21050, user='vmspool',\n",
    "                    request_pool='vmspool', httpfs_host='hc3manager02.hc3pro', httpfs_port=14000) as ir:\n",
    "    df_seg = ir.sql_to_pandas(query)"
   ]
  },
  {
   "cell_type": "code",
   "execution_count": 68,
   "metadata": {},
   "outputs": [
    {
     "data": {
      "text/html": [
       "<div>\n",
       "<style scoped>\n",
       "    .dataframe tbody tr th:only-of-type {\n",
       "        vertical-align: middle;\n",
       "    }\n",
       "\n",
       "    .dataframe tbody tr th {\n",
       "        vertical-align: top;\n",
       "    }\n",
       "\n",
       "    .dataframe thead th {\n",
       "        text-align: right;\n",
       "    }\n",
       "</style>\n",
       "<table border=\"1\" class=\"dataframe\">\n",
       "  <thead>\n",
       "    <tr style=\"text-align: right;\">\n",
       "      <th></th>\n",
       "      <th>segment_id</th>\n",
       "      <th>uu</th>\n",
       "    </tr>\n",
       "  </thead>\n",
       "  <tbody>\n",
       "    <tr>\n",
       "      <th>0</th>\n",
       "      <td>ls0103</td>\n",
       "      <td>5661235</td>\n",
       "    </tr>\n",
       "    <tr>\n",
       "      <th>1</th>\n",
       "      <td>ls0102</td>\n",
       "      <td>1044230</td>\n",
       "    </tr>\n",
       "    <tr>\n",
       "      <th>2</th>\n",
       "      <td>ls0101</td>\n",
       "      <td>29144</td>\n",
       "    </tr>\n",
       "    <tr>\n",
       "      <th>3</th>\n",
       "      <td>ls0100</td>\n",
       "      <td>50407</td>\n",
       "    </tr>\n",
       "    <tr>\n",
       "      <th>4</th>\n",
       "      <td>ls0099</td>\n",
       "      <td>3817940</td>\n",
       "    </tr>\n",
       "  </tbody>\n",
       "</table>\n",
       "</div>"
      ],
      "text/plain": [
       "  segment_id       uu\n",
       "0     ls0103  5661235\n",
       "1     ls0102  1044230\n",
       "2     ls0101    29144\n",
       "3     ls0100    50407\n",
       "4     ls0099  3817940"
      ]
     },
     "execution_count": 68,
     "metadata": {},
     "output_type": "execute_result"
    }
   ],
   "source": [
    "df_seg.head()"
   ]
  },
  {
   "cell_type": "code",
   "execution_count": null,
   "metadata": {},
   "outputs": [],
   "source": []
  },
  {
   "cell_type": "markdown",
   "metadata": {},
   "source": [
    "LS0104_上場企業（東京・神奈川・埼玉）"
   ]
  },
  {
   "cell_type": "code",
   "execution_count": 69,
   "metadata": {},
   "outputs": [
    {
     "name": "stdout",
     "output_type": "stream",
     "text": [
      "191105\n"
     ]
    }
   ],
   "source": [
    "today_yymmdd = date.today().strftime(\"%y%m%d\")\n",
    "print(today_yymmdd)"
   ]
  },
  {
   "cell_type": "markdown",
   "metadata": {},
   "source": [
    "今あるセグメントを確認する"
   ]
  },
  {
   "cell_type": "code",
   "execution_count": 70,
   "metadata": {},
   "outputs": [
    {
     "name": "stderr",
     "output_type": "stream",
     "text": [
      "INFO:ailab_tools.smn.impala_client:loaded configuration file: /opt/anaconda3/lib/python3.7/site-packages/ailab_tools/config/ailab_tools_config.py\n",
      "INFO:ailab_tools.smn.impala_client:hosts : ['172.16.60.109']\n",
      "INFO:ailab_tools.smn.impala_client:impala_host : 172.16.60.109\n",
      "INFO:ailab_tools.smn.impala_client:impala_port : 21050\n",
      "INFO:ailab_tools.smn.impala_client:impala_user : vmspool\n",
      "INFO:ailab_tools.smn.impala_client:impala_password : \n",
      "INFO:ailab_tools.smn.impala_client:request_pool : vmspool\n",
      "INFO:ailab_tools.smn.impala_client:configuration : {'REQUEST_POOL': 'vmspool'}\n",
      "INFO:ailab_tools.smn.impala_resource:loaded configuration file: /opt/anaconda3/lib/python3.7/site-packages/ailab_tools/config/ailab_tools_config.py\n",
      "INFO:ailab_tools.smn.impala_resource:httpfs_host: hc3manager02.hc3pro\n",
      "INFO:ailab_tools.smn.impala_resource:httpfs_port: 14000\n",
      "INFO:impyla_service:Impala open connection OK. hostname = [172.16.60.109]\n",
      "INFO:impyla_service:New connection is opened.\n",
      "INFO:impyla_service:実行SQL: \n",
      "        select \n",
      "        segment_id\n",
      "        ,count(distinct smn_uid) as uu\n",
      "        from segment.landscape_segment\n",
      "        group by segment_id\n",
      "        order by segment_id desc\n",
      "        \n",
      "INFO:impala.hiveserver2:Closing active operation\n",
      "INFO:impyla_service:Connection is closed.\n"
     ]
    }
   ],
   "source": [
    "query = (\n",
    "        f\"\"\"\n",
    "        select \n",
    "        segment_id\n",
    "        ,count(distinct smn_uid) as uu\n",
    "        from segment.landscape_segment\n",
    "        group by segment_id\n",
    "        order by segment_id desc\n",
    "        \"\"\"\n",
    ")\n",
    "with ImpalaResource(hosts=[\"172.16.60.109\"], port=21050, user='vmspool',\n",
    "                    request_pool='vmspool', httpfs_host='hc3manager02.hc3pro', httpfs_port=14000) as ir:\n",
    "    df_seg = ir.sql_to_pandas(query)"
   ]
  },
  {
   "cell_type": "code",
   "execution_count": 71,
   "metadata": {},
   "outputs": [
    {
     "data": {
      "text/html": [
       "<div>\n",
       "<style scoped>\n",
       "    .dataframe tbody tr th:only-of-type {\n",
       "        vertical-align: middle;\n",
       "    }\n",
       "\n",
       "    .dataframe tbody tr th {\n",
       "        vertical-align: top;\n",
       "    }\n",
       "\n",
       "    .dataframe thead th {\n",
       "        text-align: right;\n",
       "    }\n",
       "</style>\n",
       "<table border=\"1\" class=\"dataframe\">\n",
       "  <thead>\n",
       "    <tr style=\"text-align: right;\">\n",
       "      <th></th>\n",
       "      <th>segment_id</th>\n",
       "      <th>uu</th>\n",
       "    </tr>\n",
       "  </thead>\n",
       "  <tbody>\n",
       "    <tr>\n",
       "      <th>0</th>\n",
       "      <td>ls0103</td>\n",
       "      <td>5661235</td>\n",
       "    </tr>\n",
       "    <tr>\n",
       "      <th>1</th>\n",
       "      <td>ls0102</td>\n",
       "      <td>1044230</td>\n",
       "    </tr>\n",
       "    <tr>\n",
       "      <th>2</th>\n",
       "      <td>ls0101</td>\n",
       "      <td>29144</td>\n",
       "    </tr>\n",
       "    <tr>\n",
       "      <th>3</th>\n",
       "      <td>ls0100</td>\n",
       "      <td>50407</td>\n",
       "    </tr>\n",
       "    <tr>\n",
       "      <th>4</th>\n",
       "      <td>ls0099</td>\n",
       "      <td>3817940</td>\n",
       "    </tr>\n",
       "  </tbody>\n",
       "</table>\n",
       "</div>"
      ],
      "text/plain": [
       "  segment_id       uu\n",
       "0     ls0103  5661235\n",
       "1     ls0102  1044230\n",
       "2     ls0101    29144\n",
       "3     ls0100    50407\n",
       "4     ls0099  3817940"
      ]
     },
     "execution_count": 71,
     "metadata": {},
     "output_type": "execute_result"
    }
   ],
   "source": [
    "df_seg.head()"
   ]
  },
  {
   "cell_type": "code",
   "execution_count": 72,
   "metadata": {},
   "outputs": [
    {
     "name": "stdout",
     "output_type": "stream",
     "text": [
      "ls0104\n"
     ]
    }
   ],
   "source": [
    "segment_id = 'ls0104'\n",
    "print(segment_id)"
   ]
  },
  {
   "cell_type": "code",
   "execution_count": 73,
   "metadata": {},
   "outputs": [],
   "source": [
    "start_date = '2019-10-29'\n",
    "end_date = '2019-10-31'"
   ]
  },
  {
   "cell_type": "code",
   "execution_count": 74,
   "metadata": {},
   "outputs": [
    {
     "name": "stderr",
     "output_type": "stream",
     "text": [
      "INFO:ailab_tools.smn.impala_client:loaded configuration file: /opt/anaconda3/lib/python3.7/site-packages/ailab_tools/config/ailab_tools_config.py\n",
      "INFO:ailab_tools.smn.impala_client:hosts : ['172.16.60.109']\n",
      "INFO:ailab_tools.smn.impala_client:impala_host : 172.16.60.109\n",
      "INFO:ailab_tools.smn.impala_client:impala_port : 21050\n",
      "INFO:ailab_tools.smn.impala_client:impala_user : vmspool\n",
      "INFO:ailab_tools.smn.impala_client:impala_password : \n",
      "INFO:ailab_tools.smn.impala_client:request_pool : vmspool\n",
      "INFO:ailab_tools.smn.impala_client:configuration : {'REQUEST_POOL': 'vmspool'}\n",
      "INFO:ailab_tools.smn.impala_resource:loaded configuration file: /opt/anaconda3/lib/python3.7/site-packages/ailab_tools/config/ailab_tools_config.py\n",
      "INFO:ailab_tools.smn.impala_resource:httpfs_host: hc3manager02.hc3pro\n",
      "INFO:ailab_tools.smn.impala_resource:httpfs_port: 14000\n",
      "INFO:impyla_service:Impala open connection OK. hostname = [172.16.60.109]\n",
      "INFO:impyla_service:New connection is opened.\n",
      "INFO:impyla_service:実行SQL: \n",
      "        insert overwrite table segment.landscape_segment\n",
      "        (\n",
      "        smn_uid\n",
      "        ,company_name\n",
      "        ,device\n",
      "        )\n",
      "        partition\n",
      "        (\n",
      "        segment_id = 'ls0104'\n",
      "        )\n",
      "        select\n",
      "        distinct smn_uid\n",
      "        ,company_name\n",
      "        ,case when user_agent_os_family in ('iOS','Android') then 'SP' ELSE 'PC' END as device\n",
      "        from \n",
      "        segment.landscape_ip_company ls\n",
      "        inner join dsplog.bid_response bid\n",
      "        on ls.ip_address = bid.remote_address\n",
      "        where remote_address is not null\n",
      "        and concat_ws('-',year,month,day) between '2019-10-29' and '2019-10-31'\n",
      "        and smn_uid is not null \n",
      "        and ip_address is not null\n",
      "        and isp_flag not in ('1')\n",
      "        and prefecture_name in (\"東京都\",\"神奈川県\",\"埼玉県\")\n",
      "        and cast(listed_code as int) between 1 and 6\n",
      "        and OFFICE_ID is not null \n",
      "        \n",
      "INFO:impala.hiveserver2:Closing active operation\n",
      "INFO:impyla_service:Connection is closed.\n",
      "INFO:ailab_tools.utils.slack:loaded configuration file: /opt/anaconda3/lib/python3.7/site-packages/ailab_tools/config/ailab_tools_config.py\n",
      "INFO:ailab_tools.utils.slack:Slack: Posted a message to Slack.\n"
     ]
    }
   ],
   "source": [
    "%%slack_notify @yusuke_akada\n",
    "# 親テーブルにInsert\n",
    "\n",
    "with ImpalaResource(hosts=[\"172.16.60.109\"], port=21050, user='vmspool',\n",
    "                    request_pool='vmspool', httpfs_host='hc3manager02.hc3pro', httpfs_port=14000) as ir:\n",
    "    query = (\n",
    "        f\"\"\"\n",
    "        insert overwrite table segment.landscape_segment\n",
    "        (\n",
    "        smn_uid\n",
    "        ,company_name\n",
    "        ,device\n",
    "        )\n",
    "        partition\n",
    "        (\n",
    "        segment_id = '{segment_id}'\n",
    "        )\n",
    "        select\n",
    "        distinct smn_uid\n",
    "        ,company_name\n",
    "        ,case when user_agent_os_family in ('iOS','Android') then 'SP' ELSE 'PC' END as device\n",
    "        from \n",
    "        segment.landscape_ip_company ls\n",
    "        inner join dsplog.bid_response bid\n",
    "        on ls.ip_address = bid.remote_address\n",
    "        where remote_address is not null\n",
    "        and concat_ws('-',year,month,day) between '{start_date}' and '{end_date}'\n",
    "        and smn_uid is not null \n",
    "        and ip_address is not null\n",
    "        and isp_flag not in ('1')\n",
    "        and prefecture_name in (\"東京都\",\"神奈川県\",\"埼玉県\")\n",
    "        and cast(listed_code as int) between 1 and 6\n",
    "        and OFFICE_ID is not null \n",
    "        \"\"\"\n",
    "    )\n",
    "    ir.execute_query_no_ret(query) "
   ]
  },
  {
   "cell_type": "code",
   "execution_count": 75,
   "metadata": {},
   "outputs": [
    {
     "name": "stderr",
     "output_type": "stream",
     "text": [
      "INFO:ailab_tools.smn.impala_client:loaded configuration file: /opt/anaconda3/lib/python3.7/site-packages/ailab_tools/config/ailab_tools_config.py\n",
      "INFO:ailab_tools.smn.impala_client:hosts : ['172.16.60.109']\n",
      "INFO:ailab_tools.smn.impala_client:impala_host : 172.16.60.109\n",
      "INFO:ailab_tools.smn.impala_client:impala_port : 21050\n",
      "INFO:ailab_tools.smn.impala_client:impala_user : vmspool\n",
      "INFO:ailab_tools.smn.impala_client:impala_password : \n",
      "INFO:ailab_tools.smn.impala_client:request_pool : vmspool\n",
      "INFO:ailab_tools.smn.impala_client:configuration : {'REQUEST_POOL': 'vmspool'}\n",
      "INFO:ailab_tools.smn.impala_resource:loaded configuration file: /opt/anaconda3/lib/python3.7/site-packages/ailab_tools/config/ailab_tools_config.py\n",
      "INFO:ailab_tools.smn.impala_resource:httpfs_host: hc3manager02.hc3pro\n",
      "INFO:ailab_tools.smn.impala_resource:httpfs_port: 14000\n",
      "INFO:impyla_service:Impala open connection OK. hostname = [172.16.60.109]\n",
      "INFO:impyla_service:New connection is opened.\n",
      "INFO:impyla_service:実行SQL: \n",
      "        select \n",
      "        segment_id\n",
      "        ,count(distinct smn_uid) as uu\n",
      "        from segment.landscape_segment\n",
      "        group by segment_id\n",
      "        order by segment_id desc\n",
      "        \n",
      "INFO:impala.hiveserver2:Closing active operation\n",
      "INFO:impyla_service:Connection is closed.\n"
     ]
    }
   ],
   "source": [
    "query = (\n",
    "        f\"\"\"\n",
    "        select \n",
    "        segment_id\n",
    "        ,count(distinct smn_uid) as uu\n",
    "        from segment.landscape_segment\n",
    "        group by segment_id\n",
    "        order by segment_id desc\n",
    "        \"\"\"\n",
    ")\n",
    "with ImpalaResource(hosts=[\"172.16.60.109\"], port=21050, user='vmspool',\n",
    "                    request_pool='vmspool', httpfs_host='hc3manager02.hc3pro', httpfs_port=14000) as ir:\n",
    "    df_seg = ir.sql_to_pandas(query)"
   ]
  },
  {
   "cell_type": "code",
   "execution_count": 76,
   "metadata": {},
   "outputs": [
    {
     "data": {
      "text/html": [
       "<div>\n",
       "<style scoped>\n",
       "    .dataframe tbody tr th:only-of-type {\n",
       "        vertical-align: middle;\n",
       "    }\n",
       "\n",
       "    .dataframe tbody tr th {\n",
       "        vertical-align: top;\n",
       "    }\n",
       "\n",
       "    .dataframe thead th {\n",
       "        text-align: right;\n",
       "    }\n",
       "</style>\n",
       "<table border=\"1\" class=\"dataframe\">\n",
       "  <thead>\n",
       "    <tr style=\"text-align: right;\">\n",
       "      <th></th>\n",
       "      <th>segment_id</th>\n",
       "      <th>uu</th>\n",
       "    </tr>\n",
       "  </thead>\n",
       "  <tbody>\n",
       "    <tr>\n",
       "      <th>0</th>\n",
       "      <td>ls0104</td>\n",
       "      <td>2546877</td>\n",
       "    </tr>\n",
       "    <tr>\n",
       "      <th>1</th>\n",
       "      <td>ls0103</td>\n",
       "      <td>5661235</td>\n",
       "    </tr>\n",
       "    <tr>\n",
       "      <th>2</th>\n",
       "      <td>ls0102</td>\n",
       "      <td>1044230</td>\n",
       "    </tr>\n",
       "    <tr>\n",
       "      <th>3</th>\n",
       "      <td>ls0101</td>\n",
       "      <td>29144</td>\n",
       "    </tr>\n",
       "    <tr>\n",
       "      <th>4</th>\n",
       "      <td>ls0100</td>\n",
       "      <td>50407</td>\n",
       "    </tr>\n",
       "  </tbody>\n",
       "</table>\n",
       "</div>"
      ],
      "text/plain": [
       "  segment_id       uu\n",
       "0     ls0104  2546877\n",
       "1     ls0103  5661235\n",
       "2     ls0102  1044230\n",
       "3     ls0101    29144\n",
       "4     ls0100    50407"
      ]
     },
     "execution_count": 76,
     "metadata": {},
     "output_type": "execute_result"
    }
   ],
   "source": [
    "df_seg.head()"
   ]
  },
  {
   "cell_type": "code",
   "execution_count": null,
   "metadata": {},
   "outputs": [],
   "source": []
  },
  {
   "cell_type": "code",
   "execution_count": null,
   "metadata": {},
   "outputs": [],
   "source": []
  },
  {
   "cell_type": "markdown",
   "metadata": {},
   "source": [
    "笹木さん要望で再開"
   ]
  },
  {
   "cell_type": "code",
   "execution_count": 78,
   "metadata": {},
   "outputs": [
    {
     "name": "stdout",
     "output_type": "stream",
     "text": [
      "191111\n"
     ]
    }
   ],
   "source": [
    "today_yymmdd = date.today().strftime(\"%y%m%d\")\n",
    "print(today_yymmdd)"
   ]
  },
  {
   "cell_type": "markdown",
   "metadata": {},
   "source": [
    "今あるセグメントを確認する"
   ]
  },
  {
   "cell_type": "code",
   "execution_count": 79,
   "metadata": {},
   "outputs": [
    {
     "name": "stderr",
     "output_type": "stream",
     "text": [
      "INFO:ailab_tools.smn.impala_client:loaded configuration file: /opt/anaconda3/lib/python3.7/site-packages/ailab_tools/config/ailab_tools_config.py\n",
      "INFO:ailab_tools.smn.impala_client:hosts : ['172.16.60.109']\n",
      "INFO:ailab_tools.smn.impala_client:impala_host : 172.16.60.109\n",
      "INFO:ailab_tools.smn.impala_client:impala_port : 21050\n",
      "INFO:ailab_tools.smn.impala_client:impala_user : vmspool\n",
      "INFO:ailab_tools.smn.impala_client:impala_password : \n",
      "INFO:ailab_tools.smn.impala_client:request_pool : vmspool\n",
      "INFO:ailab_tools.smn.impala_client:configuration : {'REQUEST_POOL': 'vmspool'}\n",
      "INFO:ailab_tools.smn.impala_resource:loaded configuration file: /opt/anaconda3/lib/python3.7/site-packages/ailab_tools/config/ailab_tools_config.py\n",
      "INFO:ailab_tools.smn.impala_resource:httpfs_host: hc3manager02.hc3pro\n",
      "INFO:ailab_tools.smn.impala_resource:httpfs_port: 14000\n",
      "INFO:impyla_service:Impala open connection OK. hostname = [172.16.60.109]\n",
      "INFO:impyla_service:New connection is opened.\n",
      "INFO:impyla_service:実行SQL: \n",
      "        select \n",
      "        segment_id\n",
      "        ,count(distinct smn_uid) as uu\n",
      "        from segment.landscape_segment\n",
      "        group by segment_id\n",
      "        order by segment_id desc\n",
      "        \n",
      "INFO:impala.hiveserver2:Closing active operation\n",
      "INFO:impyla_service:Connection is closed.\n"
     ]
    }
   ],
   "source": [
    "query = (\n",
    "        f\"\"\"\n",
    "        select \n",
    "        segment_id\n",
    "        ,count(distinct smn_uid) as uu\n",
    "        from segment.landscape_segment\n",
    "        group by segment_id\n",
    "        order by segment_id desc\n",
    "        \"\"\"\n",
    ")\n",
    "with ImpalaResource(hosts=[\"172.16.60.109\"], port=21050, user='vmspool',\n",
    "                    request_pool='vmspool', httpfs_host='hc3manager02.hc3pro', httpfs_port=14000) as ir:\n",
    "    df_seg = ir.sql_to_pandas(query)"
   ]
  },
  {
   "cell_type": "code",
   "execution_count": 80,
   "metadata": {},
   "outputs": [
    {
     "data": {
      "text/html": [
       "<div>\n",
       "<style scoped>\n",
       "    .dataframe tbody tr th:only-of-type {\n",
       "        vertical-align: middle;\n",
       "    }\n",
       "\n",
       "    .dataframe tbody tr th {\n",
       "        vertical-align: top;\n",
       "    }\n",
       "\n",
       "    .dataframe thead th {\n",
       "        text-align: right;\n",
       "    }\n",
       "</style>\n",
       "<table border=\"1\" class=\"dataframe\">\n",
       "  <thead>\n",
       "    <tr style=\"text-align: right;\">\n",
       "      <th></th>\n",
       "      <th>segment_id</th>\n",
       "      <th>uu</th>\n",
       "    </tr>\n",
       "  </thead>\n",
       "  <tbody>\n",
       "    <tr>\n",
       "      <th>0</th>\n",
       "      <td>ls0104</td>\n",
       "      <td>2546877</td>\n",
       "    </tr>\n",
       "    <tr>\n",
       "      <th>1</th>\n",
       "      <td>ls0103</td>\n",
       "      <td>5661235</td>\n",
       "    </tr>\n",
       "    <tr>\n",
       "      <th>2</th>\n",
       "      <td>ls0102</td>\n",
       "      <td>1044230</td>\n",
       "    </tr>\n",
       "    <tr>\n",
       "      <th>3</th>\n",
       "      <td>ls0101</td>\n",
       "      <td>29144</td>\n",
       "    </tr>\n",
       "    <tr>\n",
       "      <th>4</th>\n",
       "      <td>ls0100</td>\n",
       "      <td>50407</td>\n",
       "    </tr>\n",
       "  </tbody>\n",
       "</table>\n",
       "</div>"
      ],
      "text/plain": [
       "  segment_id       uu\n",
       "0     ls0104  2546877\n",
       "1     ls0103  5661235\n",
       "2     ls0102  1044230\n",
       "3     ls0101    29144\n",
       "4     ls0100    50407"
      ]
     },
     "execution_count": 80,
     "metadata": {},
     "output_type": "execute_result"
    }
   ],
   "source": [
    "df_seg.head()"
   ]
  },
  {
   "cell_type": "markdown",
   "metadata": {},
   "source": [
    "LS0025_従業員1-1百人未満（関西圏）"
   ]
  },
  {
   "cell_type": "code",
   "execution_count": 97,
   "metadata": {},
   "outputs": [
    {
     "name": "stdout",
     "output_type": "stream",
     "text": [
      "ls0025\n"
     ]
    }
   ],
   "source": [
    "segment_id = 'ls0025'\n",
    "print(segment_id)"
   ]
  },
  {
   "cell_type": "code",
   "execution_count": 98,
   "metadata": {},
   "outputs": [],
   "source": [
    "start_date = '2019-11-06'\n",
    "end_date = '2019-11-08'"
   ]
  },
  {
   "cell_type": "code",
   "execution_count": 99,
   "metadata": {},
   "outputs": [
    {
     "name": "stderr",
     "output_type": "stream",
     "text": [
      "INFO:ailab_tools.smn.impala_client:loaded configuration file: /opt/anaconda3/lib/python3.7/site-packages/ailab_tools/config/ailab_tools_config.py\n",
      "INFO:ailab_tools.smn.impala_client:hosts : ['172.16.60.109']\n",
      "INFO:ailab_tools.smn.impala_client:impala_host : 172.16.60.109\n",
      "INFO:ailab_tools.smn.impala_client:impala_port : 21050\n",
      "INFO:ailab_tools.smn.impala_client:impala_user : vmspool\n",
      "INFO:ailab_tools.smn.impala_client:impala_password : \n",
      "INFO:ailab_tools.smn.impala_client:request_pool : vmspool\n",
      "INFO:ailab_tools.smn.impala_client:configuration : {'REQUEST_POOL': 'vmspool'}\n",
      "INFO:ailab_tools.smn.impala_resource:loaded configuration file: /opt/anaconda3/lib/python3.7/site-packages/ailab_tools/config/ailab_tools_config.py\n",
      "INFO:ailab_tools.smn.impala_resource:httpfs_host: hc3manager02.hc3pro\n",
      "INFO:ailab_tools.smn.impala_resource:httpfs_port: 14000\n",
      "INFO:impyla_service:Impala open connection OK. hostname = [172.16.60.109]\n",
      "INFO:impyla_service:New connection is opened.\n",
      "INFO:impyla_service:実行SQL: \n",
      "        insert overwrite table segment.landscape_segment\n",
      "        (\n",
      "        smn_uid\n",
      "        ,company_name\n",
      "        ,device\n",
      "        )\n",
      "        partition\n",
      "        (\n",
      "        segment_id = 'ls0025'\n",
      "        )\n",
      "        select\n",
      "        distinct smn_uid\n",
      "        ,company_name\n",
      "        ,case when user_agent_os_family in ('iOS','Android') then 'SP' ELSE 'PC' END as device\n",
      "        from \n",
      "        segment.landscape_ip_company ls\n",
      "        inner join dsplog.bid_response bid\n",
      "        on ls.ip_address = bid.remote_address\n",
      "        where remote_address is not null\n",
      "        and concat_ws('-',year,month,day) between '2019-11-06' and '2019-11-08'\n",
      "        and smn_uid is not null \n",
      "        and ip_address is not null\n",
      "        and isp_flag not in ('1')\n",
      "        and cast(employee_range as int) between 1 and 6\n",
      "        and prefecture_name in (\"大阪府\",\"京都府\",\"兵庫県\",\"滋賀県\",\"奈良県\",\"和歌山県\")\n",
      "        and OFFICE_ID is not null \n",
      "        \n",
      "INFO:impala.hiveserver2:Closing active operation\n",
      "INFO:impyla_service:Connection is closed.\n",
      "INFO:ailab_tools.utils.slack:loaded configuration file: /opt/anaconda3/lib/python3.7/site-packages/ailab_tools/config/ailab_tools_config.py\n",
      "INFO:ailab_tools.utils.slack:Slack: Posted a message to Slack.\n"
     ]
    }
   ],
   "source": [
    "%%slack_notify @yusuke_akada\n",
    "# 親テーブルにInsert\n",
    "\n",
    "with ImpalaResource(hosts=[\"172.16.60.109\"], port=21050, user='vmspool',\n",
    "                    request_pool='vmspool', httpfs_host='hc3manager02.hc3pro', httpfs_port=14000) as ir:\n",
    "    query = (\n",
    "        f\"\"\"\n",
    "        insert overwrite table segment.landscape_segment\n",
    "        (\n",
    "        smn_uid\n",
    "        ,company_name\n",
    "        ,device\n",
    "        )\n",
    "        partition\n",
    "        (\n",
    "        segment_id = '{segment_id}'\n",
    "        )\n",
    "        select\n",
    "        distinct smn_uid\n",
    "        ,company_name\n",
    "        ,case when user_agent_os_family in ('iOS','Android') then 'SP' ELSE 'PC' END as device\n",
    "        from \n",
    "        segment.landscape_ip_company ls\n",
    "        inner join dsplog.bid_response bid\n",
    "        on ls.ip_address = bid.remote_address\n",
    "        where remote_address is not null\n",
    "        and concat_ws('-',year,month,day) between '{start_date}' and '{end_date}'\n",
    "        and smn_uid is not null \n",
    "        and ip_address is not null\n",
    "        and isp_flag not in ('1')\n",
    "        and cast(employee_range as int) between 1 and 6\n",
    "        and prefecture_name in (\"大阪府\",\"京都府\",\"兵庫県\",\"滋賀県\",\"奈良県\",\"和歌山県\")\n",
    "        and OFFICE_ID is not null \n",
    "        \"\"\"\n",
    "    )\n",
    "    ir.execute_query_no_ret(query) "
   ]
  },
  {
   "cell_type": "markdown",
   "metadata": {},
   "source": [
    "LS0026_従業員1百-3百人未満（関西圏）"
   ]
  },
  {
   "cell_type": "code",
   "execution_count": 100,
   "metadata": {},
   "outputs": [
    {
     "name": "stdout",
     "output_type": "stream",
     "text": [
      "ls0026\n"
     ]
    }
   ],
   "source": [
    "segment_id = 'ls0026'\n",
    "print(segment_id)"
   ]
  },
  {
   "cell_type": "code",
   "execution_count": 101,
   "metadata": {},
   "outputs": [],
   "source": [
    "start_date = '2019-11-06'\n",
    "end_date = '2019-11-08'"
   ]
  },
  {
   "cell_type": "code",
   "execution_count": 102,
   "metadata": {},
   "outputs": [
    {
     "name": "stderr",
     "output_type": "stream",
     "text": [
      "INFO:ailab_tools.smn.impala_client:loaded configuration file: /opt/anaconda3/lib/python3.7/site-packages/ailab_tools/config/ailab_tools_config.py\n",
      "INFO:ailab_tools.smn.impala_client:hosts : ['172.16.60.109']\n",
      "INFO:ailab_tools.smn.impala_client:impala_host : 172.16.60.109\n",
      "INFO:ailab_tools.smn.impala_client:impala_port : 21050\n",
      "INFO:ailab_tools.smn.impala_client:impala_user : vmspool\n",
      "INFO:ailab_tools.smn.impala_client:impala_password : \n",
      "INFO:ailab_tools.smn.impala_client:request_pool : vmspool\n",
      "INFO:ailab_tools.smn.impala_client:configuration : {'REQUEST_POOL': 'vmspool'}\n",
      "INFO:ailab_tools.smn.impala_resource:loaded configuration file: /opt/anaconda3/lib/python3.7/site-packages/ailab_tools/config/ailab_tools_config.py\n",
      "INFO:ailab_tools.smn.impala_resource:httpfs_host: hc3manager02.hc3pro\n",
      "INFO:ailab_tools.smn.impala_resource:httpfs_port: 14000\n",
      "INFO:impyla_service:Impala open connection OK. hostname = [172.16.60.109]\n",
      "INFO:impyla_service:New connection is opened.\n",
      "INFO:impyla_service:実行SQL: \n",
      "        insert overwrite table segment.landscape_segment\n",
      "        (\n",
      "        smn_uid\n",
      "        ,company_name\n",
      "        ,device\n",
      "        )\n",
      "        partition\n",
      "        (\n",
      "        segment_id = 'ls0026'\n",
      "        )\n",
      "        select\n",
      "        distinct smn_uid\n",
      "        ,company_name\n",
      "        ,case when user_agent_os_family in ('iOS','Android') then 'SP' ELSE 'PC' END as device\n",
      "        from \n",
      "        segment.landscape_ip_company ls\n",
      "        inner join dsplog.bid_response bid\n",
      "        on ls.ip_address = bid.remote_address\n",
      "        where remote_address is not null\n",
      "        and concat_ws('-',year,month,day) between '2019-11-06' and '2019-11-08'\n",
      "        and smn_uid is not null \n",
      "        and ip_address is not null\n",
      "        and isp_flag not in ('1')\n",
      "        and cast(employee_range as int) = 7\n",
      "        and prefecture_name in (\"大阪府\",\"京都府\",\"兵庫県\",\"滋賀県\",\"奈良県\",\"和歌山県\")\n",
      "        and OFFICE_ID is not null \n",
      "        \n",
      "INFO:impala.hiveserver2:Closing active operation\n",
      "INFO:impyla_service:Connection is closed.\n",
      "INFO:ailab_tools.utils.slack:loaded configuration file: /opt/anaconda3/lib/python3.7/site-packages/ailab_tools/config/ailab_tools_config.py\n",
      "INFO:ailab_tools.utils.slack:Slack: Posted a message to Slack.\n"
     ]
    }
   ],
   "source": [
    "%%slack_notify @yusuke_akada\n",
    "# 親テーブルにInsert\n",
    "\n",
    "with ImpalaResource(hosts=[\"172.16.60.109\"], port=21050, user='vmspool',\n",
    "                    request_pool='vmspool', httpfs_host='hc3manager02.hc3pro', httpfs_port=14000) as ir:\n",
    "    query = (\n",
    "        f\"\"\"\n",
    "        insert overwrite table segment.landscape_segment\n",
    "        (\n",
    "        smn_uid\n",
    "        ,company_name\n",
    "        ,device\n",
    "        )\n",
    "        partition\n",
    "        (\n",
    "        segment_id = '{segment_id}'\n",
    "        )\n",
    "        select\n",
    "        distinct smn_uid\n",
    "        ,company_name\n",
    "        ,case when user_agent_os_family in ('iOS','Android') then 'SP' ELSE 'PC' END as device\n",
    "        from \n",
    "        segment.landscape_ip_company ls\n",
    "        inner join dsplog.bid_response bid\n",
    "        on ls.ip_address = bid.remote_address\n",
    "        where remote_address is not null\n",
    "        and concat_ws('-',year,month,day) between '{start_date}' and '{end_date}'\n",
    "        and smn_uid is not null \n",
    "        and ip_address is not null\n",
    "        and isp_flag not in ('1')\n",
    "        and cast(employee_range as int) = 7\n",
    "        and prefecture_name in (\"大阪府\",\"京都府\",\"兵庫県\",\"滋賀県\",\"奈良県\",\"和歌山県\")\n",
    "        and OFFICE_ID is not null \n",
    "        \"\"\"\n",
    "    )\n",
    "    ir.execute_query_no_ret(query) "
   ]
  },
  {
   "cell_type": "markdown",
   "metadata": {},
   "source": [
    "LS0027_従業員3百-1千人未満（関西圏）"
   ]
  },
  {
   "cell_type": "code",
   "execution_count": 103,
   "metadata": {},
   "outputs": [
    {
     "name": "stdout",
     "output_type": "stream",
     "text": [
      "ls0027\n"
     ]
    }
   ],
   "source": [
    "segment_id = 'ls0027'\n",
    "print(segment_id)"
   ]
  },
  {
   "cell_type": "code",
   "execution_count": 104,
   "metadata": {},
   "outputs": [],
   "source": [
    "start_date = '2019-11-06'\n",
    "end_date = '2019-11-08'"
   ]
  },
  {
   "cell_type": "code",
   "execution_count": 105,
   "metadata": {},
   "outputs": [
    {
     "name": "stderr",
     "output_type": "stream",
     "text": [
      "INFO:ailab_tools.smn.impala_client:loaded configuration file: /opt/anaconda3/lib/python3.7/site-packages/ailab_tools/config/ailab_tools_config.py\n",
      "INFO:ailab_tools.smn.impala_client:hosts : ['172.16.60.109']\n",
      "INFO:ailab_tools.smn.impala_client:impala_host : 172.16.60.109\n",
      "INFO:ailab_tools.smn.impala_client:impala_port : 21050\n",
      "INFO:ailab_tools.smn.impala_client:impala_user : vmspool\n",
      "INFO:ailab_tools.smn.impala_client:impala_password : \n",
      "INFO:ailab_tools.smn.impala_client:request_pool : vmspool\n",
      "INFO:ailab_tools.smn.impala_client:configuration : {'REQUEST_POOL': 'vmspool'}\n",
      "INFO:ailab_tools.smn.impala_resource:loaded configuration file: /opt/anaconda3/lib/python3.7/site-packages/ailab_tools/config/ailab_tools_config.py\n",
      "INFO:ailab_tools.smn.impala_resource:httpfs_host: hc3manager02.hc3pro\n",
      "INFO:ailab_tools.smn.impala_resource:httpfs_port: 14000\n",
      "INFO:impyla_service:Impala open connection OK. hostname = [172.16.60.109]\n",
      "INFO:impyla_service:New connection is opened.\n",
      "INFO:impyla_service:実行SQL: \n",
      "        insert overwrite table segment.landscape_segment\n",
      "        (\n",
      "        smn_uid\n",
      "        ,company_name\n",
      "        ,device\n",
      "        )\n",
      "        partition\n",
      "        (\n",
      "        segment_id = 'ls0027'\n",
      "        )\n",
      "        select\n",
      "        distinct smn_uid\n",
      "        ,company_name\n",
      "        ,case when user_agent_os_family in ('iOS','Android') then 'SP' ELSE 'PC' END as device\n",
      "        from \n",
      "        segment.landscape_ip_company ls\n",
      "        inner join dsplog.bid_response bid\n",
      "        on ls.ip_address = bid.remote_address\n",
      "        where remote_address is not null\n",
      "        and concat_ws('-',year,month,day) between '2019-11-06' and '2019-11-08'\n",
      "        and smn_uid is not null \n",
      "        and ip_address is not null\n",
      "        and isp_flag not in ('1')\n",
      "        and cast(employee_range as int) = 8\n",
      "        and prefecture_name in (\"大阪府\",\"京都府\",\"兵庫県\",\"滋賀県\",\"奈良県\",\"和歌山県\")\n",
      "        and OFFICE_ID is not null \n",
      "        \n",
      "INFO:impala.hiveserver2:Closing active operation\n",
      "INFO:impyla_service:Connection is closed.\n",
      "INFO:ailab_tools.utils.slack:loaded configuration file: /opt/anaconda3/lib/python3.7/site-packages/ailab_tools/config/ailab_tools_config.py\n",
      "INFO:ailab_tools.utils.slack:Slack: Posted a message to Slack.\n"
     ]
    }
   ],
   "source": [
    "%%slack_notify @yusuke_akada\n",
    "# 親テーブルにInsert\n",
    "\n",
    "with ImpalaResource(hosts=[\"172.16.60.109\"], port=21050, user='vmspool',\n",
    "                    request_pool='vmspool', httpfs_host='hc3manager02.hc3pro', httpfs_port=14000) as ir:\n",
    "    query = (\n",
    "        f\"\"\"\n",
    "        insert overwrite table segment.landscape_segment\n",
    "        (\n",
    "        smn_uid\n",
    "        ,company_name\n",
    "        ,device\n",
    "        )\n",
    "        partition\n",
    "        (\n",
    "        segment_id = '{segment_id}'\n",
    "        )\n",
    "        select\n",
    "        distinct smn_uid\n",
    "        ,company_name\n",
    "        ,case when user_agent_os_family in ('iOS','Android') then 'SP' ELSE 'PC' END as device\n",
    "        from \n",
    "        segment.landscape_ip_company ls\n",
    "        inner join dsplog.bid_response bid\n",
    "        on ls.ip_address = bid.remote_address\n",
    "        where remote_address is not null\n",
    "        and concat_ws('-',year,month,day) between '{start_date}' and '{end_date}'\n",
    "        and smn_uid is not null \n",
    "        and ip_address is not null\n",
    "        and isp_flag not in ('1')\n",
    "        and cast(employee_range as int) = 8\n",
    "        and prefecture_name in (\"大阪府\",\"京都府\",\"兵庫県\",\"滋賀県\",\"奈良県\",\"和歌山県\")\n",
    "        and OFFICE_ID is not null \n",
    "        \"\"\"\n",
    "    )\n",
    "    ir.execute_query_no_ret(query) "
   ]
  },
  {
   "cell_type": "markdown",
   "metadata": {},
   "source": [
    "LS0028_従業員1千-1万人未満（関西圏）"
   ]
  },
  {
   "cell_type": "code",
   "execution_count": 106,
   "metadata": {},
   "outputs": [
    {
     "name": "stdout",
     "output_type": "stream",
     "text": [
      "ls0028\n"
     ]
    }
   ],
   "source": [
    "segment_id = 'ls0028'\n",
    "print(segment_id)"
   ]
  },
  {
   "cell_type": "code",
   "execution_count": 107,
   "metadata": {},
   "outputs": [],
   "source": [
    "start_date = '2019-11-06'\n",
    "end_date = '2019-11-08'"
   ]
  },
  {
   "cell_type": "code",
   "execution_count": 108,
   "metadata": {},
   "outputs": [
    {
     "name": "stderr",
     "output_type": "stream",
     "text": [
      "INFO:ailab_tools.smn.impala_client:loaded configuration file: /opt/anaconda3/lib/python3.7/site-packages/ailab_tools/config/ailab_tools_config.py\n",
      "INFO:ailab_tools.smn.impala_client:hosts : ['172.16.60.109']\n",
      "INFO:ailab_tools.smn.impala_client:impala_host : 172.16.60.109\n",
      "INFO:ailab_tools.smn.impala_client:impala_port : 21050\n",
      "INFO:ailab_tools.smn.impala_client:impala_user : vmspool\n",
      "INFO:ailab_tools.smn.impala_client:impala_password : \n",
      "INFO:ailab_tools.smn.impala_client:request_pool : vmspool\n",
      "INFO:ailab_tools.smn.impala_client:configuration : {'REQUEST_POOL': 'vmspool'}\n",
      "INFO:ailab_tools.smn.impala_resource:loaded configuration file: /opt/anaconda3/lib/python3.7/site-packages/ailab_tools/config/ailab_tools_config.py\n",
      "INFO:ailab_tools.smn.impala_resource:httpfs_host: hc3manager02.hc3pro\n",
      "INFO:ailab_tools.smn.impala_resource:httpfs_port: 14000\n",
      "INFO:impyla_service:Impala open connection OK. hostname = [172.16.60.109]\n",
      "INFO:impyla_service:New connection is opened.\n",
      "INFO:impyla_service:実行SQL: \n",
      "        insert overwrite table segment.landscape_segment\n",
      "        (\n",
      "        smn_uid\n",
      "        ,company_name\n",
      "        ,device\n",
      "        )\n",
      "        partition\n",
      "        (\n",
      "        segment_id = 'ls0028'\n",
      "        )\n",
      "        select\n",
      "        distinct smn_uid\n",
      "        ,company_name\n",
      "        ,case when user_agent_os_family in ('iOS','Android') then 'SP' ELSE 'PC' END as device\n",
      "        from \n",
      "        segment.landscape_ip_company ls\n",
      "        inner join dsplog.bid_response bid\n",
      "        on ls.ip_address = bid.remote_address\n",
      "        where remote_address is not null\n",
      "        and concat_ws('-',year,month,day) between '2019-11-06' and '2019-11-08'\n",
      "        and smn_uid is not null \n",
      "        and ip_address is not null\n",
      "        and isp_flag not in ('1')\n",
      "        and cast(employee_range as int) between 9 and 11\n",
      "        and prefecture_name in (\"大阪府\",\"京都府\",\"兵庫県\",\"滋賀県\",\"奈良県\",\"和歌山県\")\n",
      "        and OFFICE_ID is not null \n",
      "        \n",
      "INFO:impala.hiveserver2:Closing active operation\n",
      "INFO:impyla_service:Connection is closed.\n",
      "INFO:ailab_tools.utils.slack:loaded configuration file: /opt/anaconda3/lib/python3.7/site-packages/ailab_tools/config/ailab_tools_config.py\n",
      "INFO:ailab_tools.utils.slack:Slack: Posted a message to Slack.\n"
     ]
    }
   ],
   "source": [
    "%%slack_notify @yusuke_akada\n",
    "# 親テーブルにInsert\n",
    "\n",
    "with ImpalaResource(hosts=[\"172.16.60.109\"], port=21050, user='vmspool',\n",
    "                    request_pool='vmspool', httpfs_host='hc3manager02.hc3pro', httpfs_port=14000) as ir:\n",
    "    query = (\n",
    "        f\"\"\"\n",
    "        insert overwrite table segment.landscape_segment\n",
    "        (\n",
    "        smn_uid\n",
    "        ,company_name\n",
    "        ,device\n",
    "        )\n",
    "        partition\n",
    "        (\n",
    "        segment_id = '{segment_id}'\n",
    "        )\n",
    "        select\n",
    "        distinct smn_uid\n",
    "        ,company_name\n",
    "        ,case when user_agent_os_family in ('iOS','Android') then 'SP' ELSE 'PC' END as device\n",
    "        from \n",
    "        segment.landscape_ip_company ls\n",
    "        inner join dsplog.bid_response bid\n",
    "        on ls.ip_address = bid.remote_address\n",
    "        where remote_address is not null\n",
    "        and concat_ws('-',year,month,day) between '{start_date}' and '{end_date}'\n",
    "        and smn_uid is not null \n",
    "        and ip_address is not null\n",
    "        and isp_flag not in ('1')\n",
    "        and cast(employee_range as int) between 9 and 11\n",
    "        and prefecture_name in (\"大阪府\",\"京都府\",\"兵庫県\",\"滋賀県\",\"奈良県\",\"和歌山県\")\n",
    "        and OFFICE_ID is not null \n",
    "        \"\"\"\n",
    "    )\n",
    "    ir.execute_query_no_ret(query) "
   ]
  },
  {
   "cell_type": "markdown",
   "metadata": {},
   "source": [
    "LS0029_従業員1万人以上（関西圏）"
   ]
  },
  {
   "cell_type": "code",
   "execution_count": 109,
   "metadata": {},
   "outputs": [
    {
     "name": "stdout",
     "output_type": "stream",
     "text": [
      "ls0029\n"
     ]
    }
   ],
   "source": [
    "segment_id = 'ls0029'\n",
    "print(segment_id)"
   ]
  },
  {
   "cell_type": "code",
   "execution_count": 110,
   "metadata": {},
   "outputs": [],
   "source": [
    "start_date = '2019-11-06'\n",
    "end_date = '2019-11-08'"
   ]
  },
  {
   "cell_type": "code",
   "execution_count": 111,
   "metadata": {},
   "outputs": [
    {
     "name": "stderr",
     "output_type": "stream",
     "text": [
      "INFO:ailab_tools.smn.impala_client:loaded configuration file: /opt/anaconda3/lib/python3.7/site-packages/ailab_tools/config/ailab_tools_config.py\n",
      "INFO:ailab_tools.smn.impala_client:hosts : ['172.16.60.109']\n",
      "INFO:ailab_tools.smn.impala_client:impala_host : 172.16.60.109\n",
      "INFO:ailab_tools.smn.impala_client:impala_port : 21050\n",
      "INFO:ailab_tools.smn.impala_client:impala_user : vmspool\n",
      "INFO:ailab_tools.smn.impala_client:impala_password : \n",
      "INFO:ailab_tools.smn.impala_client:request_pool : vmspool\n",
      "INFO:ailab_tools.smn.impala_client:configuration : {'REQUEST_POOL': 'vmspool'}\n",
      "INFO:ailab_tools.smn.impala_resource:loaded configuration file: /opt/anaconda3/lib/python3.7/site-packages/ailab_tools/config/ailab_tools_config.py\n",
      "INFO:ailab_tools.smn.impala_resource:httpfs_host: hc3manager02.hc3pro\n",
      "INFO:ailab_tools.smn.impala_resource:httpfs_port: 14000\n",
      "INFO:impyla_service:Impala open connection OK. hostname = [172.16.60.109]\n",
      "INFO:impyla_service:New connection is opened.\n",
      "INFO:impyla_service:実行SQL: \n",
      "        insert overwrite table segment.landscape_segment\n",
      "        (\n",
      "        smn_uid\n",
      "        ,company_name\n",
      "        ,device\n",
      "        )\n",
      "        partition\n",
      "        (\n",
      "        segment_id = 'ls0029'\n",
      "        )\n",
      "        select\n",
      "        distinct smn_uid\n",
      "        ,company_name\n",
      "        ,case when user_agent_os_family in ('iOS','Android') then 'SP' ELSE 'PC' END as device\n",
      "        from \n",
      "        segment.landscape_ip_company ls\n",
      "        inner join dsplog.bid_response bid\n",
      "        on ls.ip_address = bid.remote_address\n",
      "        where remote_address is not null\n",
      "        and concat_ws('-',year,month,day) between '2019-11-06' and '2019-11-08'\n",
      "        and smn_uid is not null \n",
      "        and ip_address is not null\n",
      "        and isp_flag not in ('1')\n",
      "        and cast(employee_range as int) = 12\n",
      "        and prefecture_name in (\"大阪府\",\"京都府\",\"兵庫県\",\"滋賀県\",\"奈良県\",\"和歌山県\")\n",
      "        and OFFICE_ID is not null \n",
      "        \n",
      "INFO:impala.hiveserver2:Closing active operation\n",
      "INFO:impyla_service:Connection is closed.\n",
      "INFO:ailab_tools.utils.slack:loaded configuration file: /opt/anaconda3/lib/python3.7/site-packages/ailab_tools/config/ailab_tools_config.py\n",
      "INFO:ailab_tools.utils.slack:Slack: Posted a message to Slack.\n"
     ]
    }
   ],
   "source": [
    "%%slack_notify @yusuke_akada\n",
    "# 親テーブルにInsert\n",
    "\n",
    "with ImpalaResource(hosts=[\"172.16.60.109\"], port=21050, user='vmspool',\n",
    "                    request_pool='vmspool', httpfs_host='hc3manager02.hc3pro', httpfs_port=14000) as ir:\n",
    "    query = (\n",
    "        f\"\"\"\n",
    "        insert overwrite table segment.landscape_segment\n",
    "        (\n",
    "        smn_uid\n",
    "        ,company_name\n",
    "        ,device\n",
    "        )\n",
    "        partition\n",
    "        (\n",
    "        segment_id = '{segment_id}'\n",
    "        )\n",
    "        select\n",
    "        distinct smn_uid\n",
    "        ,company_name\n",
    "        ,case when user_agent_os_family in ('iOS','Android') then 'SP' ELSE 'PC' END as device\n",
    "        from \n",
    "        segment.landscape_ip_company ls\n",
    "        inner join dsplog.bid_response bid\n",
    "        on ls.ip_address = bid.remote_address\n",
    "        where remote_address is not null\n",
    "        and concat_ws('-',year,month,day) between '{start_date}' and '{end_date}'\n",
    "        and smn_uid is not null \n",
    "        and ip_address is not null\n",
    "        and isp_flag not in ('1')\n",
    "        and cast(employee_range as int) = 12\n",
    "        and prefecture_name in (\"大阪府\",\"京都府\",\"兵庫県\",\"滋賀県\",\"奈良県\",\"和歌山県\")\n",
    "        and OFFICE_ID is not null \n",
    "        \"\"\"\n",
    "    )\n",
    "    ir.execute_query_no_ret(query) "
   ]
  },
  {
   "cell_type": "code",
   "execution_count": null,
   "metadata": {},
   "outputs": [],
   "source": []
  },
  {
   "cell_type": "code",
   "execution_count": null,
   "metadata": {},
   "outputs": [],
   "source": []
  },
  {
   "cell_type": "code",
   "execution_count": null,
   "metadata": {},
   "outputs": [],
   "source": [
    "query = (\n",
    "        f\"\"\"\n",
    "        select \n",
    "        segment_id\n",
    "        ,count(distinct smn_uid) as uu\n",
    "        from segment.landscape_segment\n",
    "        group by segment_id\n",
    "        order by segment_id desc\n",
    "        \"\"\"\n",
    ")\n",
    "with ImpalaResource(hosts=[\"172.16.60.109\"], port=21050, user='vmspool',\n",
    "                    request_pool='vmspool', httpfs_host='hc3manager02.hc3pro', httpfs_port=14000) as ir:\n",
    "    df_seg = ir.sql_to_pandas(query)"
   ]
  },
  {
   "cell_type": "code",
   "execution_count": null,
   "metadata": {},
   "outputs": [],
   "source": [
    "df_seg.head()"
   ]
  },
  {
   "cell_type": "code",
   "execution_count": null,
   "metadata": {},
   "outputs": [],
   "source": []
  },
  {
   "cell_type": "code",
   "execution_count": null,
   "metadata": {},
   "outputs": [],
   "source": []
  },
  {
   "cell_type": "code",
   "execution_count": null,
   "metadata": {},
   "outputs": [],
   "source": []
  },
  {
   "cell_type": "code",
   "execution_count": null,
   "metadata": {},
   "outputs": [],
   "source": []
  },
  {
   "cell_type": "code",
   "execution_count": null,
   "metadata": {},
   "outputs": [],
   "source": []
  },
  {
   "cell_type": "code",
   "execution_count": null,
   "metadata": {},
   "outputs": [],
   "source": []
  },
  {
   "cell_type": "code",
   "execution_count": null,
   "metadata": {},
   "outputs": [],
   "source": []
  },
  {
   "cell_type": "code",
   "execution_count": null,
   "metadata": {},
   "outputs": [],
   "source": []
  },
  {
   "cell_type": "markdown",
   "metadata": {},
   "source": [
    "クロスデバイスする場合"
   ]
  },
  {
   "cell_type": "code",
   "execution_count": 63,
   "metadata": {},
   "outputs": [],
   "source": [
    "xd_table = \"segment.drawbridge_device\""
   ]
  },
  {
   "cell_type": "code",
   "execution_count": 64,
   "metadata": {},
   "outputs": [
    {
     "name": "stdout",
     "output_type": "stream",
     "text": [
      "ls0064\n"
     ]
    }
   ],
   "source": [
    "segment_id = 'ls0064'\n",
    "print(segment_id)"
   ]
  },
  {
   "cell_type": "code",
   "execution_count": 65,
   "metadata": {},
   "outputs": [
    {
     "name": "stderr",
     "output_type": "stream",
     "text": [
      "INFO:ailab_tools.smn.impala_client:loaded configuration file: /opt/anaconda3/lib/python3.7/site-packages/ailab_tools/config/ailab_tools_config.py\n",
      "INFO:ailab_tools.smn.impala_client:hosts : ['172.16.60.109']\n",
      "INFO:ailab_tools.smn.impala_client:impala_host : 172.16.60.109\n",
      "INFO:ailab_tools.smn.impala_client:impala_port : 21050\n",
      "INFO:ailab_tools.smn.impala_client:impala_user : vmspool\n",
      "INFO:ailab_tools.smn.impala_client:impala_password : \n",
      "INFO:ailab_tools.smn.impala_client:request_pool : vmspool\n",
      "INFO:ailab_tools.smn.impala_client:configuration : {'REQUEST_POOL': 'vmspool'}\n",
      "INFO:ailab_tools.smn.impala_resource:loaded configuration file: /opt/anaconda3/lib/python3.7/site-packages/ailab_tools/config/ailab_tools_config.py\n",
      "INFO:ailab_tools.smn.impala_resource:httpfs_host: hc3manager02.hc3pro\n",
      "INFO:ailab_tools.smn.impala_resource:httpfs_port: 14000\n",
      "INFO:impyla_service:Impala open connection OK. hostname = [172.16.60.109]\n",
      "INFO:impyla_service:New connection is opened.\n",
      "INFO:impyla_service:実行SQL: \n",
      "        insert overwrite table segment.landscape_segment\n",
      "        (\n",
      "        smn_uid\n",
      "        ,company_name\n",
      "        ,device\n",
      "        )\n",
      "        partition\n",
      "        (\n",
      "        segment_id = 'ls0064_xd'\n",
      "        )\n",
      "        select \n",
      "        distinct xd2.smn_uid\n",
      "        ,sd.company_name\n",
      "        ,xd2.device\n",
      "        from segment.landscape_segment sd\n",
      "        left join segment.drawbridge_device xd\n",
      "        on sd.smn_uid = xd.smn_uid\n",
      "        left join segment.drawbridge_device xd2\n",
      "        on xd.drawbridge_consumer_id = xd2.drawbridge_consumer_id\n",
      "        where xd2.device in (\n",
      "        'iphone'\n",
      "        ,'android_phone'\n",
      "        ,'windows_phone'\n",
      "        ,'windows_computer'\n",
      "        ,'linux_computer'\n",
      "        ,'mac'\n",
      "        ,'ipad'\n",
      "        ,'android_tablet'\n",
      "        ,'windows_tablet') \n",
      "        and sd.smn_uid <> xd2.smn_uid\n",
      "        and segment_id in ('ls0064') \n",
      "        limit 5000000\n",
      "        \n",
      "INFO:impala.hiveserver2:Closing active operation\n",
      "INFO:impyla_service:Connection is closed.\n",
      "INFO:ailab_tools.utils.slack:loaded configuration file: /opt/anaconda3/lib/python3.7/site-packages/ailab_tools/config/ailab_tools_config.py\n",
      "INFO:ailab_tools.utils.slack:Slack: Posted a message to Slack.\n"
     ]
    }
   ],
   "source": [
    "%%slack_notify @yusuke_akada\n",
    "# 親テーブルにInsert\n",
    "\n",
    "with ImpalaResource(hosts=[\"172.16.60.109\"], port=21050, user='vmspool',\n",
    "                    request_pool='vmspool', httpfs_host='hc3manager02.hc3pro', httpfs_port=14000) as ir:\n",
    "    query = (\n",
    "        f\"\"\"\n",
    "        insert overwrite table segment.landscape_segment\n",
    "        (\n",
    "        smn_uid\n",
    "        ,company_name\n",
    "        ,device\n",
    "        )\n",
    "        partition\n",
    "        (\n",
    "        segment_id = '{segment_id}_xd'\n",
    "        )\n",
    "        select \n",
    "        distinct xd2.smn_uid\n",
    "        ,sd.company_name\n",
    "        ,xd2.device\n",
    "        from segment.landscape_segment sd\n",
    "        left join {xd_table} xd\n",
    "        on sd.smn_uid = xd.smn_uid\n",
    "        left join {xd_table} xd2\n",
    "        on xd.drawbridge_consumer_id = xd2.drawbridge_consumer_id\n",
    "        where xd2.device in (\n",
    "        'iphone'\n",
    "        ,'android_phone'\n",
    "        ,'windows_phone'\n",
    "        ,'windows_computer'\n",
    "        ,'linux_computer'\n",
    "        ,'mac'\n",
    "        ,'ipad'\n",
    "        ,'android_tablet'\n",
    "        ,'windows_tablet') \n",
    "        and sd.smn_uid <> xd2.smn_uid\n",
    "        and segment_id in ('{segment_id}') \n",
    "        limit 5000000\n",
    "        \"\"\"\n",
    "    )\n",
    "    ir.execute_query_no_ret(query) "
   ]
  },
  {
   "cell_type": "code",
   "execution_count": null,
   "metadata": {},
   "outputs": [],
   "source": [
    "query = (\n",
    "        f\"\"\"\n",
    "        select \n",
    "        segment_id\n",
    "        ,count(distinct smn_uid) as uu\n",
    "        from segment.landscape_segment\n",
    "        group by segment_id\n",
    "        order by segment_id desc\n",
    "        \"\"\"\n",
    ")\n",
    "with ImpalaResource(hosts=[\"172.16.60.109\"], port=21050, user='vmspool',\n",
    "                    request_pool='vmspool', httpfs_host='hc3manager02.hc3pro', httpfs_port=14000) as ir:\n",
    "    df_seg = ir.sql_to_pandas(query)"
   ]
  },
  {
   "cell_type": "code",
   "execution_count": 35,
   "metadata": {},
   "outputs": [
    {
     "data": {
      "text/html": [
       "<div>\n",
       "<style scoped>\n",
       "    .dataframe tbody tr th:only-of-type {\n",
       "        vertical-align: middle;\n",
       "    }\n",
       "\n",
       "    .dataframe tbody tr th {\n",
       "        vertical-align: top;\n",
       "    }\n",
       "\n",
       "    .dataframe thead th {\n",
       "        text-align: right;\n",
       "    }\n",
       "</style>\n",
       "<table border=\"1\" class=\"dataframe\">\n",
       "  <thead>\n",
       "    <tr style=\"text-align: right;\">\n",
       "      <th></th>\n",
       "      <th>segment_id</th>\n",
       "      <th>uu</th>\n",
       "    </tr>\n",
       "  </thead>\n",
       "  <tbody>\n",
       "    <tr>\n",
       "      <th>0</th>\n",
       "      <td>ls0085_xd</td>\n",
       "      <td>1145382</td>\n",
       "    </tr>\n",
       "    <tr>\n",
       "      <th>1</th>\n",
       "      <td>ls0085</td>\n",
       "      <td>987078</td>\n",
       "    </tr>\n",
       "    <tr>\n",
       "      <th>2</th>\n",
       "      <td>ls0084</td>\n",
       "      <td>6997972</td>\n",
       "    </tr>\n",
       "    <tr>\n",
       "      <th>3</th>\n",
       "      <td>ls0083</td>\n",
       "      <td>2838589</td>\n",
       "    </tr>\n",
       "    <tr>\n",
       "      <th>4</th>\n",
       "      <td>ls0082</td>\n",
       "      <td>3153840</td>\n",
       "    </tr>\n",
       "    <tr>\n",
       "      <th>5</th>\n",
       "      <td>ls0081</td>\n",
       "      <td>5819789</td>\n",
       "    </tr>\n",
       "    <tr>\n",
       "      <th>6</th>\n",
       "      <td>ls0080</td>\n",
       "      <td>2556255</td>\n",
       "    </tr>\n",
       "    <tr>\n",
       "      <th>7</th>\n",
       "      <td>ls0079_xd</td>\n",
       "      <td>1119253</td>\n",
       "    </tr>\n",
       "    <tr>\n",
       "      <th>8</th>\n",
       "      <td>ls0079</td>\n",
       "      <td>570221</td>\n",
       "    </tr>\n",
       "    <tr>\n",
       "      <th>9</th>\n",
       "      <td>ls0078_xd</td>\n",
       "      <td>1004602</td>\n",
       "    </tr>\n",
       "  </tbody>\n",
       "</table>\n",
       "</div>"
      ],
      "text/plain": [
       "  segment_id       uu\n",
       "0  ls0085_xd  1145382\n",
       "1     ls0085   987078\n",
       "2     ls0084  6997972\n",
       "3     ls0083  2838589\n",
       "4     ls0082  3153840\n",
       "5     ls0081  5819789\n",
       "6     ls0080  2556255\n",
       "7  ls0079_xd  1119253\n",
       "8     ls0079   570221\n",
       "9  ls0078_xd  1004602"
      ]
     },
     "execution_count": 35,
     "metadata": {},
     "output_type": "execute_result"
    }
   ],
   "source": [
    "df_seg.head(10)"
   ]
  }
 ],
 "metadata": {
  "kernelspec": {
   "display_name": "Python 3",
   "language": "python",
   "name": "python3"
  },
  "language_info": {
   "codemirror_mode": {
    "name": "ipython",
    "version": 3
   },
   "file_extension": ".py",
   "mimetype": "text/x-python",
   "name": "python",
   "nbconvert_exporter": "python",
   "pygments_lexer": "ipython3",
   "version": "3.7.4"
  }
 },
 "nbformat": 4,
 "nbformat_minor": 2
}
