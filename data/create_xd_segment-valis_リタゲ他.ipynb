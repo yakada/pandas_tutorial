{
 "cells": [
  {
   "cell_type": "markdown",
   "metadata": {},
   "source": [
    "クロスデバイス　Valis拡張との併用"
   ]
  },
  {
   "cell_type": "code",
   "execution_count": 168,
   "metadata": {},
   "outputs": [],
   "source": [
    "# ライブラリimport\n",
    "import argparse\n",
    "import logging\n",
    "import os\n",
    "\n",
    "import pandas as pd\n",
    "from pandas import DataFrame\n",
    "import pandas.tseries.offsets as offsets\n",
    "import numpy as np\n",
    "from datetime import date, timedelta, time, datetime\n",
    "from tabulate import tabulate\n",
    "\n",
    "from itertools import product\n",
    "\n",
    "from ailab_tools.smn import ImpalaResource\n",
    "from ailab_tools.utils import GMail, GSheet\n",
    "\n",
    "from collections import OrderedDict\n",
    "\n",
    "import zipfile\n",
    "import glob\n",
    "\n",
    "import gc\n",
    "\n",
    "from ailab_tools.magics import slack_notify"
   ]
  },
  {
   "cell_type": "markdown",
   "metadata": {},
   "source": [
    "5850\t株式会社ラビット・カーネットワーク"
   ]
  },
  {
   "cell_type": "code",
   "execution_count": 169,
   "metadata": {},
   "outputs": [],
   "source": [
    "today_yymmdd = date.today().strftime(\"%y%m%d\")"
   ]
  },
  {
   "cell_type": "code",
   "execution_count": 170,
   "metadata": {},
   "outputs": [
    {
     "name": "stdout",
     "output_type": "stream",
     "text": [
      "190307\n"
     ]
    }
   ],
   "source": [
    "print(today_yymmdd)"
   ]
  },
  {
   "cell_type": "code",
   "execution_count": 172,
   "metadata": {},
   "outputs": [],
   "source": [
    "#デバイス\n",
    "seed_sp_device = 'iOS','Android'\n",
    "xd_sp_device = 'iphone','android_phone','windows_phone'\n",
    "\n",
    "#ターゲット\n",
    "advertiser_id = 5850\n",
    "retargeting_group_id = 81535\n",
    "\n",
    "#grp = 'cvg'\n",
    "grp = 'rtg'"
   ]
  },
  {
   "cell_type": "code",
   "execution_count": 171,
   "metadata": {},
   "outputs": [],
   "source": [
    "#クロスデバイステーブル\n",
    "xd_table = 'segment.drawbridge_device_1901'"
   ]
  },
  {
   "cell_type": "markdown",
   "metadata": {},
   "source": [
    "PCにユーザーをSPクロスデバイスし、これを種にV拡張"
   ]
  },
  {
   "cell_type": "markdown",
   "metadata": {},
   "source": [
    "%%slack_notify @yusuke_akada\n",
    "\n",
    "sd = 'pc'\n",
    "\n",
    "#f-string\n",
    "query = (\n",
    "    f\"\"\"\n",
    "    select\n",
    "    distinct smn_uid\n",
    "    ,advertiser_id\n",
    "    ,case when user_agent_os_family in ('iOS','Android') then 'SP' ELSE 'PC' END as device\n",
    "    ,conversion_group_id\n",
    "    FROM\n",
    "    dsplog.adserver\n",
    "    WHERE\n",
    "    concat_ws('-',year,month,day) between to_date(days_add(now(),-30)) and to_date(days_add(now(),-1))\n",
    "    and conversion_group_id in {conversion_group_id}\n",
    "    and advertiser_id = {advertiser_id}\n",
    "    and user_agent_os_family not in {seed_sp_device}\n",
    "    and smn_uid is not null\n",
    "    \"\"\"\n",
    "    )\n",
    "\n",
    "with ImpalaResource(hosts=[\"172.16.60.109\"], port=21050, user='vmspool',\n",
    "                    request_pool='vmspool', httpfs_host='hc3manager02.hc3pro', httpfs_port=14000) as ir:\n",
    "        df = ir.sql_to_pandas(query)\n",
    "        ir.upload_dataframe(f\"dm_tmp.ya_seed_{sd}_advid_{advertiser_id}_cvg_{conversion_group_id}_{today_yymmdd}\", df, ['bigint','bigint','string','bigint'])\n",
    "        \n",
    "\n",
    "seed_table = f\"dm_tmp.ya_seed_{sd}_advid_{advertiser_id}_{grp}_{conversion_group_id}_{today_yymmdd}\"\n",
    "\n",
    "\n",
    "df_seed = df.drop(['conversion_group_id','device', 'advertiser_id'], axis=1)\n",
    "df_seed.to_csv(f'{seed_table}.tsv', sep='\\t', index=False, header=False)"
   ]
  },
  {
   "cell_type": "markdown",
   "metadata": {},
   "source": [
    "df.shape[0]"
   ]
  },
  {
   "cell_type": "markdown",
   "metadata": {},
   "source": [
    "df.head()"
   ]
  },
  {
   "cell_type": "markdown",
   "metadata": {},
   "source": [
    "%%slack_notify @yusuke_akada\n",
    "#XD拡張\n",
    "\n",
    "xd = 'sp'\n",
    "\n",
    "uid_table = f\"dm_tmp.ya_xd_{xd}_advid_{advertiser_id}_{grp}_3077other_{today_yymmdd}\"\n",
    "#uid_table = f\"dm_tmp.ya_xd_{xd}_advid_{advertiser_id}_{grp}_{conversion_group_id}_{today_yymmdd}\"\n",
    "\n",
    "#f-string\n",
    "query = (\n",
    "    f\"\"\"\n",
    "    select \n",
    "    distinct xd2.smn_uid\n",
    "    from {seed_table} sd\n",
    "    left join {xd_table} xd\n",
    "    on sd.smn_uid = xd.smn_uid\n",
    "    left join {xd_table} xd2\n",
    "    on xd.drawbridge_consumer_id = xd2.drawbridge_consumer_id\n",
    "    where xd2.device in {xd_sp_device}  \n",
    "    \"\"\"\n",
    "    )\n",
    "with ImpalaResource(hosts=[\"172.16.60.109\"], port=21050, user='vmspool',\n",
    "                    request_pool='vmspool', httpfs_host='hc3manager02.hc3pro', httpfs_port=14000) as ir:\n",
    "    df_fix = ir.sql_to_pandas(query)\n",
    "    #ImpalaにUp\n",
    "    #ir.upload_dataframe(uid_table, df_fix, ['bigint']) #Impala upは不要かも\n",
    "    #テーブル削除\n",
    "    ir.drop_tables([seed_table])\n",
    "    \n",
    "df_fix.to_csv(f'{uid_table}.tsv', sep='\\t', index=False, header=False)"
   ]
  },
  {
   "cell_type": "markdown",
   "metadata": {},
   "source": [
    "df_fix.shape[0]"
   ]
  },
  {
   "cell_type": "code",
   "execution_count": null,
   "metadata": {},
   "outputs": [],
   "source": []
  },
  {
   "cell_type": "markdown",
   "metadata": {},
   "source": [
    "PCユーザーをSPにクロスデバイスし、これを種にV拡張"
   ]
  },
  {
   "cell_type": "code",
   "execution_count": 173,
   "metadata": {},
   "outputs": [
    {
     "name": "stderr",
     "output_type": "stream",
     "text": [
      "INFO:ailab_tools.smn.impala_client:loaded configuration file: /opt/anaconda3/lib/python3.7/site-packages/ailab_tools/config/ailab_tools_config.py\n",
      "INFO:ailab_tools.smn.impala_client:hosts : ['172.16.60.109']\n",
      "INFO:ailab_tools.smn.impala_client:impala_host : 172.16.60.109\n",
      "INFO:ailab_tools.smn.impala_client:impala_port : 21050\n",
      "INFO:ailab_tools.smn.impala_client:impala_user : vmspool\n",
      "INFO:ailab_tools.smn.impala_client:impala_password : \n",
      "INFO:ailab_tools.smn.impala_client:request_pool : vmspool\n",
      "INFO:ailab_tools.smn.impala_client:configuration : {'REQUEST_POOL': 'vmspool'}\n",
      "INFO:ailab_tools.smn.impala_resource:loaded configuration file: /opt/anaconda3/lib/python3.7/site-packages/ailab_tools/config/ailab_tools_config.py\n",
      "INFO:ailab_tools.smn.impala_resource:httpfs_host: hc3manager02.hc3pro\n",
      "INFO:ailab_tools.smn.impala_resource:httpfs_port: 14000\n",
      "INFO:impyla_service:Impala open connection OK. hostname = [172.16.60.109]\n",
      "INFO:impyla_service:New connection is opened.\n",
      "INFO:impyla_service:実行SQL: \n",
      "    select\n",
      "    distinct smn_uid\n",
      "    ,advertiser_id\n",
      "    ,case when user_agent_os_family in ('iOS','Android') then 'SP' ELSE 'PC' END as device\n",
      "    ,retargeting_group_id\n",
      "    FROM\n",
      "    dsplog.adserver\n",
      "    WHERE\n",
      "    concat_ws('-',year,month,day) between to_date(days_add(now(),-30)) and to_date(days_add(now(),-1))\n",
      "    and retargeting_group_id = 81535\n",
      "    and advertiser_id = 5850\n",
      "    and user_agent_os_family not in ('iOS', 'Android')\n",
      "    and smn_uid is not null\n",
      "    \n",
      "INFO:impala.hiveserver2:Closing active operation\n",
      "INFO:impyla_service:Create empty table dm_tmp.ya_seed_pc_advid_5850_rtg_81535_190307\n",
      "INFO:impyla_service:実行SQL: \n",
      "            create table dm_tmp.ya_seed_pc_advid_5850_rtg_81535_190307\n",
      "            (smn_uid bigint, advertiser_id bigint, device string, retargeting_group_id bigint)\n",
      "            \n",
      "            row format delimited fields terminated by \"\\t\"\n",
      "            lines terminated by \"\\n\"\n",
      "            \n",
      "INFO:impala.hiveserver2:Closing active operation\n",
      "INFO:impyla_service:Query finished\n",
      "INFO:hdfs.client:Instantiated <InsecureClient(url='http://hc3manager02.hc3pro:14000')>.\n",
      "INFO:hdfs.client:Uploading '/home/yusuke_akada/notebook/Yusuke_Akada_Jupyter_Notebook/c437f596-02fb-468e-a9c3-ba2b016f2bc6.tsv' to '/user/hive/warehouse/dm_tmp.db/ya_seed_pc_advid_5850_rtg_81535_190307'.\n",
      "INFO:hdfs.client:Listing '/user/hive/warehouse/dm_tmp.db/ya_seed_pc_advid_5850_rtg_81535_190307'.\n",
      "INFO:hdfs.client:Writing to '/user/hive/warehouse/dm_tmp.db/ya_seed_pc_advid_5850_rtg_81535_190307/c437f596-02fb-468e-a9c3-ba2b016f2bc6.tsv'.\n",
      "INFO:impyla_service:実行SQL: refresh dm_tmp.ya_seed_pc_advid_5850_rtg_81535_190307\n",
      "INFO:impala.hiveserver2:Closing active operation\n",
      "INFO:impyla_service:Connection is closed.\n",
      "INFO:ailab_tools.utils.slack:loaded configuration file: /opt/anaconda3/lib/python3.7/site-packages/ailab_tools/config/ailab_tools_config.py\n",
      "INFO:ailab_tools.utils.slack:Slack: Posted a message to Slack.\n"
     ]
    }
   ],
   "source": [
    "%%slack_notify @yusuke_akada\n",
    "\n",
    "sd = 'pc'\n",
    "grp = 'rtg'\n",
    "\n",
    "#f-string\n",
    "query = (\n",
    "    f\"\"\"\n",
    "    select\n",
    "    distinct smn_uid\n",
    "    ,advertiser_id\n",
    "    ,case when user_agent_os_family in ('iOS','Android') then 'SP' ELSE 'PC' END as device\n",
    "    ,retargeting_group_id\n",
    "    FROM\n",
    "    dsplog.adserver\n",
    "    WHERE\n",
    "    concat_ws('-',year,month,day) between to_date(days_add(now(),-30)) and to_date(days_add(now(),-1))\n",
    "    and retargeting_group_id = {retargeting_group_id}\n",
    "    and advertiser_id = {advertiser_id}\n",
    "    and user_agent_os_family not in {seed_sp_device}\n",
    "    and smn_uid is not null\n",
    "    \"\"\"\n",
    "    )\n",
    "\n",
    "with ImpalaResource(hosts=[\"172.16.60.109\"], port=21050, user='vmspool',\n",
    "                    request_pool='vmspool', httpfs_host='hc3manager02.hc3pro', httpfs_port=14000) as ir:\n",
    "        df = ir.sql_to_pandas(query)\n",
    "        ir.upload_dataframe(f\"dm_tmp.ya_seed_{sd}_advid_{advertiser_id}_{grp}_{retargeting_group_id}_{today_yymmdd}\", df, ['bigint','bigint','string','bigint'])\n",
    "        \n",
    "\n",
    "seed_table = f\"dm_tmp.ya_seed_{sd}_advid_{advertiser_id}_{grp}_{retargeting_group_id}_{today_yymmdd}\"\n",
    "\n",
    "df_seed = df.drop(['retargeting_group_id','device', 'advertiser_id'], axis=1)\n",
    "df_seed.to_csv(f'{seed_table}.tsv', sep='\\t', index=False, header=False)"
   ]
  },
  {
   "cell_type": "code",
   "execution_count": 174,
   "metadata": {},
   "outputs": [
    {
     "data": {
      "text/plain": [
       "3415"
      ]
     },
     "execution_count": 174,
     "metadata": {},
     "output_type": "execute_result"
    }
   ],
   "source": [
    "df.shape[0]"
   ]
  },
  {
   "cell_type": "code",
   "execution_count": 175,
   "metadata": {},
   "outputs": [
    {
     "data": {
      "text/html": [
       "<div>\n",
       "<style scoped>\n",
       "    .dataframe tbody tr th:only-of-type {\n",
       "        vertical-align: middle;\n",
       "    }\n",
       "\n",
       "    .dataframe tbody tr th {\n",
       "        vertical-align: top;\n",
       "    }\n",
       "\n",
       "    .dataframe thead th {\n",
       "        text-align: right;\n",
       "    }\n",
       "</style>\n",
       "<table border=\"1\" class=\"dataframe\">\n",
       "  <thead>\n",
       "    <tr style=\"text-align: right;\">\n",
       "      <th></th>\n",
       "      <th>smn_uid</th>\n",
       "      <th>advertiser_id</th>\n",
       "      <th>device</th>\n",
       "      <th>retargeting_group_id</th>\n",
       "    </tr>\n",
       "  </thead>\n",
       "  <tbody>\n",
       "    <tr>\n",
       "      <th>0</th>\n",
       "      <td>186000000084626</td>\n",
       "      <td>5850</td>\n",
       "      <td>PC</td>\n",
       "      <td>81535</td>\n",
       "    </tr>\n",
       "    <tr>\n",
       "      <th>1</th>\n",
       "      <td>1269000003787604</td>\n",
       "      <td>5850</td>\n",
       "      <td>PC</td>\n",
       "      <td>81535</td>\n",
       "    </tr>\n",
       "    <tr>\n",
       "      <th>2</th>\n",
       "      <td>2180000334411726</td>\n",
       "      <td>5850</td>\n",
       "      <td>PC</td>\n",
       "      <td>81535</td>\n",
       "    </tr>\n",
       "    <tr>\n",
       "      <th>3</th>\n",
       "      <td>2188000100236939</td>\n",
       "      <td>5850</td>\n",
       "      <td>PC</td>\n",
       "      <td>81535</td>\n",
       "    </tr>\n",
       "    <tr>\n",
       "      <th>4</th>\n",
       "      <td>2062000139634807</td>\n",
       "      <td>5850</td>\n",
       "      <td>PC</td>\n",
       "      <td>81535</td>\n",
       "    </tr>\n",
       "  </tbody>\n",
       "</table>\n",
       "</div>"
      ],
      "text/plain": [
       "            smn_uid  advertiser_id device  retargeting_group_id\n",
       "0   186000000084626           5850     PC                 81535\n",
       "1  1269000003787604           5850     PC                 81535\n",
       "2  2180000334411726           5850     PC                 81535\n",
       "3  2188000100236939           5850     PC                 81535\n",
       "4  2062000139634807           5850     PC                 81535"
      ]
     },
     "execution_count": 175,
     "metadata": {},
     "output_type": "execute_result"
    }
   ],
   "source": [
    "df.head()"
   ]
  },
  {
   "cell_type": "code",
   "execution_count": 176,
   "metadata": {},
   "outputs": [
    {
     "name": "stderr",
     "output_type": "stream",
     "text": [
      "INFO:ailab_tools.smn.impala_client:loaded configuration file: /opt/anaconda3/lib/python3.7/site-packages/ailab_tools/config/ailab_tools_config.py\n",
      "INFO:ailab_tools.smn.impala_client:hosts : ['172.16.60.109']\n",
      "INFO:ailab_tools.smn.impala_client:impala_host : 172.16.60.109\n",
      "INFO:ailab_tools.smn.impala_client:impala_port : 21050\n",
      "INFO:ailab_tools.smn.impala_client:impala_user : vmspool\n",
      "INFO:ailab_tools.smn.impala_client:impala_password : \n",
      "INFO:ailab_tools.smn.impala_client:request_pool : vmspool\n",
      "INFO:ailab_tools.smn.impala_client:configuration : {'REQUEST_POOL': 'vmspool'}\n",
      "INFO:ailab_tools.smn.impala_resource:loaded configuration file: /opt/anaconda3/lib/python3.7/site-packages/ailab_tools/config/ailab_tools_config.py\n",
      "INFO:ailab_tools.smn.impala_resource:httpfs_host: hc3manager02.hc3pro\n",
      "INFO:ailab_tools.smn.impala_resource:httpfs_port: 14000\n",
      "INFO:impyla_service:Impala open connection OK. hostname = [172.16.60.109]\n",
      "INFO:impyla_service:New connection is opened.\n",
      "INFO:impyla_service:実行SQL: \n",
      "    select \n",
      "    distinct xd2.smn_uid\n",
      "    from dm_tmp.ya_seed_pc_advid_5850_rtg_81535_190307 sd\n",
      "    left join segment.drawbridge_device_1901 xd\n",
      "    on sd.smn_uid = xd.smn_uid\n",
      "    left join segment.drawbridge_device_1901 xd2\n",
      "    on xd.drawbridge_consumer_id = xd2.drawbridge_consumer_id\n",
      "    where xd2.device in ('iphone', 'android_phone', 'windows_phone')  \n",
      "    \n",
      "INFO:impala.hiveserver2:Closing active operation\n",
      "INFO:impyla_service:Dropping table: dm_tmp.ya_seed_pc_advid_5850_rtg_81535_190307\n",
      "INFO:impyla_service:実行SQL: drop table if exists dm_tmp.ya_seed_pc_advid_5850_rtg_81535_190307 purge\n",
      "INFO:impala.hiveserver2:Closing active operation\n",
      "INFO:impyla_service:Connection is closed.\n",
      "INFO:ailab_tools.utils.slack:loaded configuration file: /opt/anaconda3/lib/python3.7/site-packages/ailab_tools/config/ailab_tools_config.py\n",
      "INFO:ailab_tools.utils.slack:Slack: Posted a message to Slack.\n"
     ]
    }
   ],
   "source": [
    "%%slack_notify @yusuke_akada\n",
    "#XD拡張\n",
    "\n",
    "xd = 'sp'\n",
    "\n",
    "uid_table = f\"dm_tmp.ya_xd_{xd}_advid_{advertiser_id}_{grp}_{retargeting_group_id}_{today_yymmdd}\"\n",
    "\n",
    "#f-string\n",
    "query = (\n",
    "    f\"\"\"\n",
    "    select \n",
    "    distinct xd2.smn_uid\n",
    "    from {seed_table} sd\n",
    "    left join {xd_table} xd\n",
    "    on sd.smn_uid = xd.smn_uid\n",
    "    left join {xd_table} xd2\n",
    "    on xd.drawbridge_consumer_id = xd2.drawbridge_consumer_id\n",
    "    where xd2.device in {xd_sp_device}  \n",
    "    \"\"\"\n",
    "    )\n",
    "with ImpalaResource(hosts=[\"172.16.60.109\"], port=21050, user='vmspool',\n",
    "                    request_pool='vmspool', httpfs_host='hc3manager02.hc3pro', httpfs_port=14000) as ir:\n",
    "    df_fix = ir.sql_to_pandas(query)\n",
    "    #ImpalaにUp\n",
    "    #ir.upload_dataframe(uid_table, df_fix, ['bigint']) #Impala upは不要かも\n",
    "    #テーブル削除\n",
    "    ir.drop_tables([seed_table])\n",
    "    \n",
    "df_fix.to_csv(f'{uid_table}.tsv', sep='\\t', index=False)"
   ]
  },
  {
   "cell_type": "code",
   "execution_count": 177,
   "metadata": {},
   "outputs": [
    {
     "data": {
      "text/plain": [
       "9046"
      ]
     },
     "execution_count": 177,
     "metadata": {},
     "output_type": "execute_result"
    }
   ],
   "source": [
    "df_fix.shape[0]"
   ]
  },
  {
   "cell_type": "code",
   "execution_count": null,
   "metadata": {},
   "outputs": [],
   "source": []
  }
 ],
 "metadata": {
  "kernelspec": {
   "display_name": "Python 3",
   "language": "python",
   "name": "python3"
  },
  "language_info": {
   "codemirror_mode": {
    "name": "ipython",
    "version": 3
   },
   "file_extension": ".py",
   "mimetype": "text/x-python",
   "name": "python",
   "nbconvert_exporter": "python",
   "pygments_lexer": "ipython3",
   "version": "3.7.2"
  }
 },
 "nbformat": 4,
 "nbformat_minor": 2
}
