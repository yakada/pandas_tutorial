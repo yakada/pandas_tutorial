{
 "cells": [
  {
   "cell_type": "markdown",
   "metadata": {},
   "source": [
    "クロスデバイス　Valis拡張との併用"
   ]
  },
  {
   "cell_type": "code",
   "execution_count": 1,
   "metadata": {},
   "outputs": [],
   "source": [
    "# ライブラリimport\n",
    "import argparse\n",
    "import logging\n",
    "import os\n",
    "\n",
    "import pandas as pd\n",
    "from pandas import DataFrame\n",
    "import pandas.tseries.offsets as offsets\n",
    "import numpy as np\n",
    "from datetime import date, timedelta, time, datetime\n",
    "from tabulate import tabulate\n",
    "\n",
    "from itertools import product\n",
    "\n",
    "from ailab_tools.smn import ImpalaResource\n",
    "from ailab_tools.utils import GMail, GSheet\n",
    "\n",
    "from collections import OrderedDict\n",
    "\n",
    "import zipfile\n",
    "import glob\n",
    "\n",
    "import gc\n",
    "\n",
    "from ailab_tools.magics import slack_notify"
   ]
  },
  {
   "cell_type": "markdown",
   "metadata": {},
   "source": [
    "イングリウッド(チェルラーブリリオ)\t8279  "
   ]
  },
  {
   "cell_type": "code",
   "execution_count": 30,
   "metadata": {},
   "outputs": [
    {
     "name": "stdout",
     "output_type": "stream",
     "text": [
      "190308\n"
     ]
    }
   ],
   "source": [
    "today_yymmdd = date.today().strftime(\"%y%m%d\")\n",
    "print(today_yymmdd)"
   ]
  },
  {
   "cell_type": "code",
   "execution_count": 31,
   "metadata": {},
   "outputs": [],
   "source": [
    "#デバイス\n",
    "seed_sp_device = 'iOS','Android'\n",
    "xd_sp_device = 'iphone','android_phone','windows_phone'\n",
    "\n",
    "#ターゲット\n",
    "advertiser_id = 8279\n",
    "conversion_group_id = 13907\n",
    "\n",
    "grp = 'cvg'\n",
    "#grp = 'rtg'\n",
    "\n",
    "#クロスデバイステーブル\n",
    "xd_table = 'segment.drawbridge_device_1901'"
   ]
  },
  {
   "cell_type": "markdown",
   "metadata": {},
   "source": [
    "SPユーザーをPCにクロスデバイスし、これを種にV拡張"
   ]
  },
  {
   "cell_type": "code",
   "execution_count": 32,
   "metadata": {},
   "outputs": [
    {
     "name": "stderr",
     "output_type": "stream",
     "text": [
      "INFO:ailab_tools.smn.impala_client:loaded configuration file: /opt/anaconda3/lib/python3.7/site-packages/ailab_tools/config/ailab_tools_config.py\n",
      "INFO:ailab_tools.smn.impala_client:hosts : ['172.16.60.109']\n",
      "INFO:ailab_tools.smn.impala_client:impala_host : 172.16.60.109\n",
      "INFO:ailab_tools.smn.impala_client:impala_port : 21050\n",
      "INFO:ailab_tools.smn.impala_client:impala_user : vmspool\n",
      "INFO:ailab_tools.smn.impala_client:impala_password : \n",
      "INFO:ailab_tools.smn.impala_client:request_pool : vmspool\n",
      "INFO:ailab_tools.smn.impala_client:configuration : {'REQUEST_POOL': 'vmspool'}\n",
      "INFO:ailab_tools.smn.impala_resource:loaded configuration file: /opt/anaconda3/lib/python3.7/site-packages/ailab_tools/config/ailab_tools_config.py\n",
      "INFO:ailab_tools.smn.impala_resource:httpfs_host: hc3manager02.hc3pro\n",
      "INFO:ailab_tools.smn.impala_resource:httpfs_port: 14000\n",
      "INFO:impyla_service:Impala open connection OK. hostname = [172.16.60.109]\n",
      "INFO:impyla_service:New connection is opened.\n",
      "INFO:impyla_service:実行SQL: \n",
      "    select\n",
      "    distinct smn_uid\n",
      "    ,advertiser_id\n",
      "    ,case when user_agent_os_family in ('iOS','Android') then 'SP' ELSE 'PC' END as device\n",
      "    ,conversion_group_id\n",
      "    FROM\n",
      "    dsplog.adserver\n",
      "    WHERE\n",
      "    concat_ws('-',year,month,day) between to_date(days_add(now(),-30)) and to_date(days_add(now(),-1))\n",
      "    and conversion_group_id = 13907\n",
      "    and advertiser_id = 8279\n",
      "    and user_agent_os_family in ('iOS', 'Android')\n",
      "    and smn_uid is not null\n",
      "    \n",
      "INFO:impala.hiveserver2:Closing active operation\n",
      "INFO:impyla_service:Create empty table dm_tmp.ya_seed_sp_advid_8279_cvg_13907_190308\n",
      "INFO:impyla_service:実行SQL: \n",
      "            create table dm_tmp.ya_seed_sp_advid_8279_cvg_13907_190308\n",
      "            (smn_uid bigint, advertiser_id bigint, device string, conversion_group_id bigint)\n",
      "            \n",
      "            row format delimited fields terminated by \"\\t\"\n",
      "            lines terminated by \"\\n\"\n",
      "            \n",
      "INFO:impala.hiveserver2:Closing active operation\n",
      "INFO:impyla_service:Query finished\n",
      "INFO:hdfs.client:Instantiated <InsecureClient(url='http://hc3manager02.hc3pro:14000')>.\n",
      "INFO:hdfs.client:Uploading '/home/yusuke_akada/notebook/Yusuke_Akada_Jupyter_Notebook/a42d8868-c884-417f-8ea5-22efaa839913.tsv' to '/user/hive/warehouse/dm_tmp.db/ya_seed_sp_advid_8279_cvg_13907_190308'.\n",
      "INFO:hdfs.client:Listing '/user/hive/warehouse/dm_tmp.db/ya_seed_sp_advid_8279_cvg_13907_190308'.\n",
      "INFO:hdfs.client:Writing to '/user/hive/warehouse/dm_tmp.db/ya_seed_sp_advid_8279_cvg_13907_190308/a42d8868-c884-417f-8ea5-22efaa839913.tsv'.\n",
      "INFO:impyla_service:実行SQL: refresh dm_tmp.ya_seed_sp_advid_8279_cvg_13907_190308\n",
      "INFO:impala.hiveserver2:Closing active operation\n",
      "INFO:impyla_service:Connection is closed.\n",
      "INFO:ailab_tools.utils.slack:loaded configuration file: /opt/anaconda3/lib/python3.7/site-packages/ailab_tools/config/ailab_tools_config.py\n",
      "INFO:ailab_tools.utils.slack:Slack: Posted a message to Slack.\n"
     ]
    }
   ],
   "source": [
    "%%slack_notify @yusuke_akada\n",
    "\n",
    "sd = 'sp'\n",
    "\n",
    "#f-string\n",
    "query = (\n",
    "    f\"\"\"\n",
    "    select\n",
    "    distinct smn_uid\n",
    "    ,advertiser_id\n",
    "    ,case when user_agent_os_family in ('iOS','Android') then 'SP' ELSE 'PC' END as device\n",
    "    ,conversion_group_id\n",
    "    FROM\n",
    "    dsplog.adserver\n",
    "    WHERE\n",
    "    concat_ws('-',year,month,day) between to_date(days_add(now(),-30)) and to_date(days_add(now(),-1))\n",
    "    and conversion_group_id = {conversion_group_id}\n",
    "    and advertiser_id = {advertiser_id}\n",
    "    and user_agent_os_family in {seed_sp_device}\n",
    "    and smn_uid is not null\n",
    "    \"\"\"\n",
    "    )\n",
    "\n",
    "with ImpalaResource(hosts=[\"172.16.60.109\"], port=21050, user='vmspool',\n",
    "                    request_pool='vmspool', httpfs_host='hc3manager02.hc3pro', httpfs_port=14000) as ir:\n",
    "        df = ir.sql_to_pandas(query)\n",
    "        ir.upload_dataframe(f\"dm_tmp.ya_seed_{sd}_advid_{advertiser_id}_cvg_{conversion_group_id}_{today_yymmdd}\", df, ['bigint','bigint','string','bigint'])\n",
    "        \n",
    "\n",
    "seed_table = f\"dm_tmp.ya_seed_{sd}_advid_{advertiser_id}_{grp}_{conversion_group_id}_{today_yymmdd}\"\n",
    "\n",
    "df_seed = df.drop(['conversion_group_id','device', 'advertiser_id'], axis=1)\n",
    "df_seed.to_csv(f'{seed_table}.tsv', sep='\\t', index=False, header=False)"
   ]
  },
  {
   "cell_type": "code",
   "execution_count": 33,
   "metadata": {},
   "outputs": [
    {
     "data": {
      "text/plain": [
       "2043"
      ]
     },
     "execution_count": 33,
     "metadata": {},
     "output_type": "execute_result"
    }
   ],
   "source": [
    "df.shape[0]"
   ]
  },
  {
   "cell_type": "code",
   "execution_count": 34,
   "metadata": {},
   "outputs": [
    {
     "data": {
      "text/html": [
       "<div>\n",
       "<style scoped>\n",
       "    .dataframe tbody tr th:only-of-type {\n",
       "        vertical-align: middle;\n",
       "    }\n",
       "\n",
       "    .dataframe tbody tr th {\n",
       "        vertical-align: top;\n",
       "    }\n",
       "\n",
       "    .dataframe thead th {\n",
       "        text-align: right;\n",
       "    }\n",
       "</style>\n",
       "<table border=\"1\" class=\"dataframe\">\n",
       "  <thead>\n",
       "    <tr style=\"text-align: right;\">\n",
       "      <th></th>\n",
       "      <th>smn_uid</th>\n",
       "      <th>advertiser_id</th>\n",
       "      <th>device</th>\n",
       "      <th>conversion_group_id</th>\n",
       "    </tr>\n",
       "  </thead>\n",
       "  <tbody>\n",
       "    <tr>\n",
       "      <th>0</th>\n",
       "      <td>2198000068090758</td>\n",
       "      <td>8279</td>\n",
       "      <td>SP</td>\n",
       "      <td>13907</td>\n",
       "    </tr>\n",
       "    <tr>\n",
       "      <th>1</th>\n",
       "      <td>777022910526817</td>\n",
       "      <td>8279</td>\n",
       "      <td>SP</td>\n",
       "      <td>13907</td>\n",
       "    </tr>\n",
       "    <tr>\n",
       "      <th>2</th>\n",
       "      <td>1986000475938663</td>\n",
       "      <td>8279</td>\n",
       "      <td>SP</td>\n",
       "      <td>13907</td>\n",
       "    </tr>\n",
       "    <tr>\n",
       "      <th>3</th>\n",
       "      <td>777021149372677</td>\n",
       "      <td>8279</td>\n",
       "      <td>SP</td>\n",
       "      <td>13907</td>\n",
       "    </tr>\n",
       "    <tr>\n",
       "      <th>4</th>\n",
       "      <td>777023105667664</td>\n",
       "      <td>8279</td>\n",
       "      <td>SP</td>\n",
       "      <td>13907</td>\n",
       "    </tr>\n",
       "  </tbody>\n",
       "</table>\n",
       "</div>"
      ],
      "text/plain": [
       "            smn_uid  advertiser_id device  conversion_group_id\n",
       "0  2198000068090758           8279     SP                13907\n",
       "1   777022910526817           8279     SP                13907\n",
       "2  1986000475938663           8279     SP                13907\n",
       "3   777021149372677           8279     SP                13907\n",
       "4   777023105667664           8279     SP                13907"
      ]
     },
     "execution_count": 34,
     "metadata": {},
     "output_type": "execute_result"
    }
   ],
   "source": [
    "df.head()"
   ]
  },
  {
   "cell_type": "code",
   "execution_count": 35,
   "metadata": {},
   "outputs": [
    {
     "name": "stderr",
     "output_type": "stream",
     "text": [
      "INFO:ailab_tools.smn.impala_client:loaded configuration file: /opt/anaconda3/lib/python3.7/site-packages/ailab_tools/config/ailab_tools_config.py\n",
      "INFO:ailab_tools.smn.impala_client:hosts : ['172.16.60.109']\n",
      "INFO:ailab_tools.smn.impala_client:impala_host : 172.16.60.109\n",
      "INFO:ailab_tools.smn.impala_client:impala_port : 21050\n",
      "INFO:ailab_tools.smn.impala_client:impala_user : vmspool\n",
      "INFO:ailab_tools.smn.impala_client:impala_password : \n",
      "INFO:ailab_tools.smn.impala_client:request_pool : vmspool\n",
      "INFO:ailab_tools.smn.impala_client:configuration : {'REQUEST_POOL': 'vmspool'}\n",
      "INFO:ailab_tools.smn.impala_resource:loaded configuration file: /opt/anaconda3/lib/python3.7/site-packages/ailab_tools/config/ailab_tools_config.py\n",
      "INFO:ailab_tools.smn.impala_resource:httpfs_host: hc3manager02.hc3pro\n",
      "INFO:ailab_tools.smn.impala_resource:httpfs_port: 14000\n",
      "INFO:impyla_service:Impala open connection OK. hostname = [172.16.60.109]\n",
      "INFO:impyla_service:New connection is opened.\n",
      "INFO:impyla_service:実行SQL: \n",
      "    select \n",
      "    distinct xd2.smn_uid\n",
      "    from dm_tmp.ya_seed_sp_advid_8279_cvg_13907_190308 sd\n",
      "    left join segment.drawbridge_device_1901 xd\n",
      "    on sd.smn_uid = xd.smn_uid\n",
      "    left join segment.drawbridge_device_1901 xd2\n",
      "    on xd.drawbridge_consumer_id = xd2.drawbridge_consumer_id\n",
      "    where xd2.device not in ('iphone', 'android_phone', 'windows_phone')  \n",
      "    \n",
      "INFO:impala.hiveserver2:Closing active operation\n",
      "INFO:impyla_service:Dropping table: dm_tmp.ya_seed_sp_advid_8279_cvg_13907_190308\n",
      "INFO:impyla_service:実行SQL: drop table if exists dm_tmp.ya_seed_sp_advid_8279_cvg_13907_190308 purge\n",
      "INFO:impala.hiveserver2:Closing active operation\n",
      "INFO:impyla_service:Connection is closed.\n",
      "INFO:ailab_tools.utils.slack:loaded configuration file: /opt/anaconda3/lib/python3.7/site-packages/ailab_tools/config/ailab_tools_config.py\n",
      "INFO:ailab_tools.utils.slack:Slack: Posted a message to Slack.\n"
     ]
    }
   ],
   "source": [
    "%%slack_notify @yusuke_akada\n",
    "#XD拡張\n",
    "\n",
    "xd = 'pc'\n",
    "\n",
    "uid_table = f\"dm_tmp.ya_xd_{xd}_advid_{advertiser_id}_{grp}_{conversion_group_id}_{today_yymmdd}\"\n",
    "\n",
    "#f-string\n",
    "query = (\n",
    "    f\"\"\"\n",
    "    select \n",
    "    distinct xd2.smn_uid\n",
    "    from {seed_table} sd\n",
    "    left join {xd_table} xd\n",
    "    on sd.smn_uid = xd.smn_uid\n",
    "    left join {xd_table} xd2\n",
    "    on xd.drawbridge_consumer_id = xd2.drawbridge_consumer_id\n",
    "    where xd2.device not in {xd_sp_device}  \n",
    "    \"\"\"\n",
    "    )\n",
    "with ImpalaResource(hosts=[\"172.16.60.109\"], port=21050, user='vmspool',\n",
    "                    request_pool='vmspool', httpfs_host='hc3manager02.hc3pro', httpfs_port=14000) as ir:\n",
    "    df_fix = ir.sql_to_pandas(query)\n",
    "    #ImpalaにUp\n",
    "    #ir.upload_dataframe(uid_table, df_fix, ['bigint']) #Impala upは不要かも\n",
    "    #テーブル削除\n",
    "    ir.drop_tables([seed_table])\n",
    "    \n",
    "df_fix.to_csv(f'{uid_table}.tsv', sep='\\t', index=False, header=False)"
   ]
  },
  {
   "cell_type": "code",
   "execution_count": 36,
   "metadata": {},
   "outputs": [
    {
     "data": {
      "text/plain": [
       "2649"
      ]
     },
     "execution_count": 36,
     "metadata": {},
     "output_type": "execute_result"
    }
   ],
   "source": [
    "df_fix.shape[0]"
   ]
  },
  {
   "cell_type": "code",
   "execution_count": null,
   "metadata": {},
   "outputs": [],
   "source": []
  },
  {
   "cell_type": "markdown",
   "metadata": {},
   "source": [
    "トラスティーパートナーズ(プランテルEX)\t8486"
   ]
  },
  {
   "cell_type": "code",
   "execution_count": 37,
   "metadata": {},
   "outputs": [
    {
     "name": "stdout",
     "output_type": "stream",
     "text": [
      "190308\n"
     ]
    }
   ],
   "source": [
    "today_yymmdd = date.today().strftime(\"%y%m%d\")\n",
    "print(today_yymmdd)"
   ]
  },
  {
   "cell_type": "code",
   "execution_count": 38,
   "metadata": {},
   "outputs": [],
   "source": [
    "#デバイス\n",
    "seed_sp_device = 'iOS','Android'\n",
    "xd_sp_device = 'iphone','android_phone','windows_phone'\n",
    "\n",
    "#ターゲット\n",
    "advertiser_id = 8486\n",
    "conversion_group_id = 14163\n",
    "\n",
    "grp = 'cvg'\n",
    "#grp = 'rtg'\n",
    "\n",
    "#クロスデバイステーブル\n",
    "xd_table = 'segment.drawbridge_device_1901'"
   ]
  },
  {
   "cell_type": "markdown",
   "metadata": {},
   "source": [
    "SPユーザーをPCにクロスデバイスし、これを種にV拡張"
   ]
  },
  {
   "cell_type": "code",
   "execution_count": 39,
   "metadata": {},
   "outputs": [
    {
     "name": "stderr",
     "output_type": "stream",
     "text": [
      "INFO:ailab_tools.smn.impala_client:loaded configuration file: /opt/anaconda3/lib/python3.7/site-packages/ailab_tools/config/ailab_tools_config.py\n",
      "INFO:ailab_tools.smn.impala_client:hosts : ['172.16.60.109']\n",
      "INFO:ailab_tools.smn.impala_client:impala_host : 172.16.60.109\n",
      "INFO:ailab_tools.smn.impala_client:impala_port : 21050\n",
      "INFO:ailab_tools.smn.impala_client:impala_user : vmspool\n",
      "INFO:ailab_tools.smn.impala_client:impala_password : \n",
      "INFO:ailab_tools.smn.impala_client:request_pool : vmspool\n",
      "INFO:ailab_tools.smn.impala_client:configuration : {'REQUEST_POOL': 'vmspool'}\n",
      "INFO:ailab_tools.smn.impala_resource:loaded configuration file: /opt/anaconda3/lib/python3.7/site-packages/ailab_tools/config/ailab_tools_config.py\n",
      "INFO:ailab_tools.smn.impala_resource:httpfs_host: hc3manager02.hc3pro\n",
      "INFO:ailab_tools.smn.impala_resource:httpfs_port: 14000\n",
      "INFO:impyla_service:Impala open connection OK. hostname = [172.16.60.109]\n",
      "INFO:impyla_service:New connection is opened.\n",
      "INFO:impyla_service:実行SQL: \n",
      "    select\n",
      "    distinct smn_uid\n",
      "    ,advertiser_id\n",
      "    ,case when user_agent_os_family in ('iOS','Android') then 'SP' ELSE 'PC' END as device\n",
      "    ,conversion_group_id\n",
      "    FROM\n",
      "    dsplog.adserver\n",
      "    WHERE\n",
      "    concat_ws('-',year,month,day) between to_date(days_add(now(),-30)) and to_date(days_add(now(),-1))\n",
      "    and conversion_group_id = 14163\n",
      "    and advertiser_id = 8486\n",
      "    and user_agent_os_family in ('iOS', 'Android')\n",
      "    and smn_uid is not null\n",
      "    \n",
      "INFO:impala.hiveserver2:Closing active operation\n",
      "INFO:impyla_service:Create empty table dm_tmp.ya_seed_sp_advid_8486_cvg_14163_190308\n",
      "INFO:impyla_service:実行SQL: \n",
      "            create table dm_tmp.ya_seed_sp_advid_8486_cvg_14163_190308\n",
      "            (smn_uid bigint, advertiser_id bigint, device string, conversion_group_id bigint)\n",
      "            \n",
      "            row format delimited fields terminated by \"\\t\"\n",
      "            lines terminated by \"\\n\"\n",
      "            \n",
      "INFO:impala.hiveserver2:Closing active operation\n",
      "INFO:impyla_service:Query finished\n",
      "INFO:hdfs.client:Instantiated <InsecureClient(url='http://hc3manager02.hc3pro:14000')>.\n",
      "INFO:hdfs.client:Uploading '/home/yusuke_akada/notebook/Yusuke_Akada_Jupyter_Notebook/0cdf8b56-6c2b-4fae-9b7e-8c2bb0cdc044.tsv' to '/user/hive/warehouse/dm_tmp.db/ya_seed_sp_advid_8486_cvg_14163_190308'.\n",
      "INFO:hdfs.client:Listing '/user/hive/warehouse/dm_tmp.db/ya_seed_sp_advid_8486_cvg_14163_190308'.\n",
      "INFO:hdfs.client:Writing to '/user/hive/warehouse/dm_tmp.db/ya_seed_sp_advid_8486_cvg_14163_190308/0cdf8b56-6c2b-4fae-9b7e-8c2bb0cdc044.tsv'.\n",
      "INFO:impyla_service:実行SQL: refresh dm_tmp.ya_seed_sp_advid_8486_cvg_14163_190308\n",
      "INFO:impala.hiveserver2:Closing active operation\n",
      "INFO:impyla_service:Connection is closed.\n",
      "INFO:ailab_tools.utils.slack:loaded configuration file: /opt/anaconda3/lib/python3.7/site-packages/ailab_tools/config/ailab_tools_config.py\n",
      "INFO:ailab_tools.utils.slack:Slack: Posted a message to Slack.\n"
     ]
    }
   ],
   "source": [
    "%%slack_notify @yusuke_akada\n",
    "\n",
    "sd = 'sp'\n",
    "\n",
    "#f-string\n",
    "query = (\n",
    "    f\"\"\"\n",
    "    select\n",
    "    distinct smn_uid\n",
    "    ,advertiser_id\n",
    "    ,case when user_agent_os_family in ('iOS','Android') then 'SP' ELSE 'PC' END as device\n",
    "    ,conversion_group_id\n",
    "    FROM\n",
    "    dsplog.adserver\n",
    "    WHERE\n",
    "    concat_ws('-',year,month,day) between to_date(days_add(now(),-30)) and to_date(days_add(now(),-1))\n",
    "    and conversion_group_id = {conversion_group_id}\n",
    "    and advertiser_id = {advertiser_id}\n",
    "    and user_agent_os_family in {seed_sp_device}\n",
    "    and smn_uid is not null\n",
    "    \"\"\"\n",
    "    )\n",
    "\n",
    "with ImpalaResource(hosts=[\"172.16.60.109\"], port=21050, user='vmspool',\n",
    "                    request_pool='vmspool', httpfs_host='hc3manager02.hc3pro', httpfs_port=14000) as ir:\n",
    "        df = ir.sql_to_pandas(query)\n",
    "        ir.upload_dataframe(f\"dm_tmp.ya_seed_{sd}_advid_{advertiser_id}_cvg_{conversion_group_id}_{today_yymmdd}\", df, ['bigint','bigint','string','bigint'])\n",
    "        \n",
    "\n",
    "seed_table = f\"dm_tmp.ya_seed_{sd}_advid_{advertiser_id}_{grp}_{conversion_group_id}_{today_yymmdd}\"\n",
    "\n",
    "df_seed = df.drop(['conversion_group_id','device', 'advertiser_id'], axis=1)\n",
    "df_seed.to_csv(f'{seed_table}.tsv', sep='\\t', index=False, header=False)"
   ]
  },
  {
   "cell_type": "code",
   "execution_count": 40,
   "metadata": {},
   "outputs": [
    {
     "data": {
      "text/plain": [
       "732"
      ]
     },
     "execution_count": 40,
     "metadata": {},
     "output_type": "execute_result"
    }
   ],
   "source": [
    "df.shape[0]"
   ]
  },
  {
   "cell_type": "code",
   "execution_count": 41,
   "metadata": {},
   "outputs": [
    {
     "data": {
      "text/html": [
       "<div>\n",
       "<style scoped>\n",
       "    .dataframe tbody tr th:only-of-type {\n",
       "        vertical-align: middle;\n",
       "    }\n",
       "\n",
       "    .dataframe tbody tr th {\n",
       "        vertical-align: top;\n",
       "    }\n",
       "\n",
       "    .dataframe thead th {\n",
       "        text-align: right;\n",
       "    }\n",
       "</style>\n",
       "<table border=\"1\" class=\"dataframe\">\n",
       "  <thead>\n",
       "    <tr style=\"text-align: right;\">\n",
       "      <th></th>\n",
       "      <th>smn_uid</th>\n",
       "      <th>advertiser_id</th>\n",
       "      <th>device</th>\n",
       "      <th>conversion_group_id</th>\n",
       "    </tr>\n",
       "  </thead>\n",
       "  <tbody>\n",
       "    <tr>\n",
       "      <th>0</th>\n",
       "      <td>1149000755849456</td>\n",
       "      <td>8486</td>\n",
       "      <td>SP</td>\n",
       "      <td>14163</td>\n",
       "    </tr>\n",
       "    <tr>\n",
       "      <th>1</th>\n",
       "      <td>2220000245627639</td>\n",
       "      <td>8486</td>\n",
       "      <td>SP</td>\n",
       "      <td>14163</td>\n",
       "    </tr>\n",
       "    <tr>\n",
       "      <th>2</th>\n",
       "      <td>2068000043182544</td>\n",
       "      <td>8486</td>\n",
       "      <td>SP</td>\n",
       "      <td>14163</td>\n",
       "    </tr>\n",
       "    <tr>\n",
       "      <th>3</th>\n",
       "      <td>2188000073373992</td>\n",
       "      <td>8486</td>\n",
       "      <td>SP</td>\n",
       "      <td>14163</td>\n",
       "    </tr>\n",
       "    <tr>\n",
       "      <th>4</th>\n",
       "      <td>936000169505137</td>\n",
       "      <td>8486</td>\n",
       "      <td>SP</td>\n",
       "      <td>14163</td>\n",
       "    </tr>\n",
       "  </tbody>\n",
       "</table>\n",
       "</div>"
      ],
      "text/plain": [
       "            smn_uid  advertiser_id device  conversion_group_id\n",
       "0  1149000755849456           8486     SP                14163\n",
       "1  2220000245627639           8486     SP                14163\n",
       "2  2068000043182544           8486     SP                14163\n",
       "3  2188000073373992           8486     SP                14163\n",
       "4   936000169505137           8486     SP                14163"
      ]
     },
     "execution_count": 41,
     "metadata": {},
     "output_type": "execute_result"
    }
   ],
   "source": [
    "df.head()"
   ]
  },
  {
   "cell_type": "code",
   "execution_count": 42,
   "metadata": {},
   "outputs": [
    {
     "name": "stderr",
     "output_type": "stream",
     "text": [
      "INFO:ailab_tools.smn.impala_client:loaded configuration file: /opt/anaconda3/lib/python3.7/site-packages/ailab_tools/config/ailab_tools_config.py\n",
      "INFO:ailab_tools.smn.impala_client:hosts : ['172.16.60.109']\n",
      "INFO:ailab_tools.smn.impala_client:impala_host : 172.16.60.109\n",
      "INFO:ailab_tools.smn.impala_client:impala_port : 21050\n",
      "INFO:ailab_tools.smn.impala_client:impala_user : vmspool\n",
      "INFO:ailab_tools.smn.impala_client:impala_password : \n",
      "INFO:ailab_tools.smn.impala_client:request_pool : vmspool\n",
      "INFO:ailab_tools.smn.impala_client:configuration : {'REQUEST_POOL': 'vmspool'}\n",
      "INFO:ailab_tools.smn.impala_resource:loaded configuration file: /opt/anaconda3/lib/python3.7/site-packages/ailab_tools/config/ailab_tools_config.py\n",
      "INFO:ailab_tools.smn.impala_resource:httpfs_host: hc3manager02.hc3pro\n",
      "INFO:ailab_tools.smn.impala_resource:httpfs_port: 14000\n",
      "INFO:impyla_service:Impala open connection OK. hostname = [172.16.60.109]\n",
      "INFO:impyla_service:New connection is opened.\n",
      "INFO:impyla_service:実行SQL: \n",
      "    select \n",
      "    distinct xd2.smn_uid\n",
      "    from dm_tmp.ya_seed_sp_advid_8486_cvg_14163_190308 sd\n",
      "    left join segment.drawbridge_device_1901 xd\n",
      "    on sd.smn_uid = xd.smn_uid\n",
      "    left join segment.drawbridge_device_1901 xd2\n",
      "    on xd.drawbridge_consumer_id = xd2.drawbridge_consumer_id\n",
      "    where xd2.device not in ('iphone', 'android_phone', 'windows_phone')  \n",
      "    \n",
      "INFO:impala.hiveserver2:Closing active operation\n",
      "INFO:impyla_service:Dropping table: dm_tmp.ya_seed_sp_advid_8486_cvg_14163_190308\n",
      "INFO:impyla_service:実行SQL: drop table if exists dm_tmp.ya_seed_sp_advid_8486_cvg_14163_190308 purge\n",
      "INFO:impala.hiveserver2:Closing active operation\n",
      "INFO:impyla_service:Connection is closed.\n",
      "INFO:ailab_tools.utils.slack:loaded configuration file: /opt/anaconda3/lib/python3.7/site-packages/ailab_tools/config/ailab_tools_config.py\n",
      "INFO:ailab_tools.utils.slack:Slack: Posted a message to Slack.\n"
     ]
    }
   ],
   "source": [
    "%%slack_notify @yusuke_akada\n",
    "#XD拡張\n",
    "\n",
    "xd = 'pc'\n",
    "\n",
    "uid_table = f\"dm_tmp.ya_xd_{xd}_advid_{advertiser_id}_{grp}_{conversion_group_id}_{today_yymmdd}\"\n",
    "\n",
    "#f-string\n",
    "query = (\n",
    "    f\"\"\"\n",
    "    select \n",
    "    distinct xd2.smn_uid\n",
    "    from {seed_table} sd\n",
    "    left join {xd_table} xd\n",
    "    on sd.smn_uid = xd.smn_uid\n",
    "    left join {xd_table} xd2\n",
    "    on xd.drawbridge_consumer_id = xd2.drawbridge_consumer_id\n",
    "    where xd2.device not in {xd_sp_device}  \n",
    "    \"\"\"\n",
    "    )\n",
    "with ImpalaResource(hosts=[\"172.16.60.109\"], port=21050, user='vmspool',\n",
    "                    request_pool='vmspool', httpfs_host='hc3manager02.hc3pro', httpfs_port=14000) as ir:\n",
    "    df_fix = ir.sql_to_pandas(query)\n",
    "    #ImpalaにUp\n",
    "    #ir.upload_dataframe(uid_table, df_fix, ['bigint']) #Impala upは不要かも\n",
    "    #テーブル削除\n",
    "    ir.drop_tables([seed_table])\n",
    "    \n",
    "df_fix.to_csv(f'{uid_table}.tsv', sep='\\t', index=False, header=False)"
   ]
  },
  {
   "cell_type": "code",
   "execution_count": 43,
   "metadata": {},
   "outputs": [
    {
     "data": {
      "text/plain": [
       "806"
      ]
     },
     "execution_count": 43,
     "metadata": {},
     "output_type": "execute_result"
    }
   ],
   "source": [
    "df_fix.shape[0]"
   ]
  },
  {
   "cell_type": "code",
   "execution_count": null,
   "metadata": {},
   "outputs": [],
   "source": []
  },
  {
   "cell_type": "markdown",
   "metadata": {},
   "source": [
    "ヴァンテージ(BUBUKA)\t8317"
   ]
  },
  {
   "cell_type": "code",
   "execution_count": 44,
   "metadata": {},
   "outputs": [
    {
     "name": "stdout",
     "output_type": "stream",
     "text": [
      "190308\n"
     ]
    }
   ],
   "source": [
    "today_yymmdd = date.today().strftime(\"%y%m%d\")\n",
    "print(today_yymmdd)"
   ]
  },
  {
   "cell_type": "code",
   "execution_count": 45,
   "metadata": {},
   "outputs": [],
   "source": [
    "#デバイス\n",
    "seed_sp_device = 'iOS','Android'\n",
    "xd_sp_device = 'iphone','android_phone','windows_phone'\n",
    "\n",
    "#ターゲット\n",
    "advertiser_id = 8317\n",
    "conversion_group_id = 13940\n",
    "\n",
    "grp = 'cvg'\n",
    "#grp = 'rtg'\n",
    "\n",
    "#クロスデバイステーブル\n",
    "xd_table = 'segment.drawbridge_device_1901'"
   ]
  },
  {
   "cell_type": "markdown",
   "metadata": {},
   "source": [
    "SPユーザーをPCにクロスデバイスし、これを種にV拡張"
   ]
  },
  {
   "cell_type": "code",
   "execution_count": 46,
   "metadata": {},
   "outputs": [
    {
     "name": "stderr",
     "output_type": "stream",
     "text": [
      "INFO:ailab_tools.smn.impala_client:loaded configuration file: /opt/anaconda3/lib/python3.7/site-packages/ailab_tools/config/ailab_tools_config.py\n",
      "INFO:ailab_tools.smn.impala_client:hosts : ['172.16.60.109']\n",
      "INFO:ailab_tools.smn.impala_client:impala_host : 172.16.60.109\n",
      "INFO:ailab_tools.smn.impala_client:impala_port : 21050\n",
      "INFO:ailab_tools.smn.impala_client:impala_user : vmspool\n",
      "INFO:ailab_tools.smn.impala_client:impala_password : \n",
      "INFO:ailab_tools.smn.impala_client:request_pool : vmspool\n",
      "INFO:ailab_tools.smn.impala_client:configuration : {'REQUEST_POOL': 'vmspool'}\n",
      "INFO:ailab_tools.smn.impala_resource:loaded configuration file: /opt/anaconda3/lib/python3.7/site-packages/ailab_tools/config/ailab_tools_config.py\n",
      "INFO:ailab_tools.smn.impala_resource:httpfs_host: hc3manager02.hc3pro\n",
      "INFO:ailab_tools.smn.impala_resource:httpfs_port: 14000\n",
      "INFO:impyla_service:Impala open connection OK. hostname = [172.16.60.109]\n",
      "INFO:impyla_service:New connection is opened.\n",
      "INFO:impyla_service:実行SQL: \n",
      "    select\n",
      "    distinct smn_uid\n",
      "    ,advertiser_id\n",
      "    ,case when user_agent_os_family in ('iOS','Android') then 'SP' ELSE 'PC' END as device\n",
      "    ,conversion_group_id\n",
      "    FROM\n",
      "    dsplog.adserver\n",
      "    WHERE\n",
      "    concat_ws('-',year,month,day) between to_date(days_add(now(),-30)) and to_date(days_add(now(),-1))\n",
      "    and conversion_group_id = 13940\n",
      "    and advertiser_id = 8317\n",
      "    and user_agent_os_family in ('iOS', 'Android')\n",
      "    and smn_uid is not null\n",
      "    \n",
      "INFO:impala.hiveserver2:Closing active operation\n",
      "INFO:impyla_service:Create empty table dm_tmp.ya_seed_sp_advid_8317_cvg_13940_190308\n",
      "INFO:impyla_service:実行SQL: \n",
      "            create table dm_tmp.ya_seed_sp_advid_8317_cvg_13940_190308\n",
      "            (smn_uid bigint, advertiser_id bigint, device string, conversion_group_id bigint)\n",
      "            \n",
      "            row format delimited fields terminated by \"\\t\"\n",
      "            lines terminated by \"\\n\"\n",
      "            \n",
      "INFO:impala.hiveserver2:Closing active operation\n",
      "INFO:impyla_service:Query finished\n",
      "INFO:hdfs.client:Instantiated <InsecureClient(url='http://hc3manager02.hc3pro:14000')>.\n",
      "INFO:hdfs.client:Uploading '/home/yusuke_akada/notebook/Yusuke_Akada_Jupyter_Notebook/07a7276c-58f4-4c4f-aa0f-ebe3870182af.tsv' to '/user/hive/warehouse/dm_tmp.db/ya_seed_sp_advid_8317_cvg_13940_190308'.\n",
      "INFO:hdfs.client:Listing '/user/hive/warehouse/dm_tmp.db/ya_seed_sp_advid_8317_cvg_13940_190308'.\n",
      "INFO:hdfs.client:Writing to '/user/hive/warehouse/dm_tmp.db/ya_seed_sp_advid_8317_cvg_13940_190308/07a7276c-58f4-4c4f-aa0f-ebe3870182af.tsv'.\n",
      "INFO:impyla_service:実行SQL: refresh dm_tmp.ya_seed_sp_advid_8317_cvg_13940_190308\n",
      "INFO:impala.hiveserver2:Closing active operation\n",
      "INFO:impyla_service:Connection is closed.\n",
      "INFO:ailab_tools.utils.slack:loaded configuration file: /opt/anaconda3/lib/python3.7/site-packages/ailab_tools/config/ailab_tools_config.py\n",
      "INFO:ailab_tools.utils.slack:Slack: Posted a message to Slack.\n"
     ]
    }
   ],
   "source": [
    "%%slack_notify @yusuke_akada\n",
    "\n",
    "sd = 'sp'\n",
    "\n",
    "#f-string\n",
    "query = (\n",
    "    f\"\"\"\n",
    "    select\n",
    "    distinct smn_uid\n",
    "    ,advertiser_id\n",
    "    ,case when user_agent_os_family in ('iOS','Android') then 'SP' ELSE 'PC' END as device\n",
    "    ,conversion_group_id\n",
    "    FROM\n",
    "    dsplog.adserver\n",
    "    WHERE\n",
    "    concat_ws('-',year,month,day) between to_date(days_add(now(),-30)) and to_date(days_add(now(),-1))\n",
    "    and conversion_group_id = {conversion_group_id}\n",
    "    and advertiser_id = {advertiser_id}\n",
    "    and user_agent_os_family in {seed_sp_device}\n",
    "    and smn_uid is not null\n",
    "    \"\"\"\n",
    "    )\n",
    "\n",
    "with ImpalaResource(hosts=[\"172.16.60.109\"], port=21050, user='vmspool',\n",
    "                    request_pool='vmspool', httpfs_host='hc3manager02.hc3pro', httpfs_port=14000) as ir:\n",
    "        df = ir.sql_to_pandas(query)\n",
    "        ir.upload_dataframe(f\"dm_tmp.ya_seed_{sd}_advid_{advertiser_id}_cvg_{conversion_group_id}_{today_yymmdd}\", df, ['bigint','bigint','string','bigint'])\n",
    "        \n",
    "\n",
    "seed_table = f\"dm_tmp.ya_seed_{sd}_advid_{advertiser_id}_{grp}_{conversion_group_id}_{today_yymmdd}\"\n",
    "\n",
    "df_seed = df.drop(['conversion_group_id','device', 'advertiser_id'], axis=1)\n",
    "df_seed.to_csv(f'{seed_table}.tsv', sep='\\t', index=False, header=False)"
   ]
  },
  {
   "cell_type": "code",
   "execution_count": 47,
   "metadata": {},
   "outputs": [
    {
     "data": {
      "text/plain": [
       "244"
      ]
     },
     "execution_count": 47,
     "metadata": {},
     "output_type": "execute_result"
    }
   ],
   "source": [
    "df.shape[0]"
   ]
  },
  {
   "cell_type": "code",
   "execution_count": 48,
   "metadata": {},
   "outputs": [
    {
     "data": {
      "text/html": [
       "<div>\n",
       "<style scoped>\n",
       "    .dataframe tbody tr th:only-of-type {\n",
       "        vertical-align: middle;\n",
       "    }\n",
       "\n",
       "    .dataframe tbody tr th {\n",
       "        vertical-align: top;\n",
       "    }\n",
       "\n",
       "    .dataframe thead th {\n",
       "        text-align: right;\n",
       "    }\n",
       "</style>\n",
       "<table border=\"1\" class=\"dataframe\">\n",
       "  <thead>\n",
       "    <tr style=\"text-align: right;\">\n",
       "      <th></th>\n",
       "      <th>smn_uid</th>\n",
       "      <th>advertiser_id</th>\n",
       "      <th>device</th>\n",
       "      <th>conversion_group_id</th>\n",
       "    </tr>\n",
       "  </thead>\n",
       "  <tbody>\n",
       "    <tr>\n",
       "      <th>0</th>\n",
       "      <td>777021368806429</td>\n",
       "      <td>8317</td>\n",
       "      <td>SP</td>\n",
       "      <td>13940</td>\n",
       "    </tr>\n",
       "    <tr>\n",
       "      <th>1</th>\n",
       "      <td>777021598151233</td>\n",
       "      <td>8317</td>\n",
       "      <td>SP</td>\n",
       "      <td>13940</td>\n",
       "    </tr>\n",
       "    <tr>\n",
       "      <th>2</th>\n",
       "      <td>1669000070927123</td>\n",
       "      <td>8317</td>\n",
       "      <td>SP</td>\n",
       "      <td>13940</td>\n",
       "    </tr>\n",
       "    <tr>\n",
       "      <th>3</th>\n",
       "      <td>1407000223453242</td>\n",
       "      <td>8317</td>\n",
       "      <td>SP</td>\n",
       "      <td>13940</td>\n",
       "    </tr>\n",
       "    <tr>\n",
       "      <th>4</th>\n",
       "      <td>777022467737586</td>\n",
       "      <td>8317</td>\n",
       "      <td>SP</td>\n",
       "      <td>13940</td>\n",
       "    </tr>\n",
       "  </tbody>\n",
       "</table>\n",
       "</div>"
      ],
      "text/plain": [
       "            smn_uid  advertiser_id device  conversion_group_id\n",
       "0   777021368806429           8317     SP                13940\n",
       "1   777021598151233           8317     SP                13940\n",
       "2  1669000070927123           8317     SP                13940\n",
       "3  1407000223453242           8317     SP                13940\n",
       "4   777022467737586           8317     SP                13940"
      ]
     },
     "execution_count": 48,
     "metadata": {},
     "output_type": "execute_result"
    }
   ],
   "source": [
    "df.head()"
   ]
  },
  {
   "cell_type": "code",
   "execution_count": 49,
   "metadata": {},
   "outputs": [
    {
     "name": "stderr",
     "output_type": "stream",
     "text": [
      "INFO:ailab_tools.smn.impala_client:loaded configuration file: /opt/anaconda3/lib/python3.7/site-packages/ailab_tools/config/ailab_tools_config.py\n",
      "INFO:ailab_tools.smn.impala_client:hosts : ['172.16.60.109']\n",
      "INFO:ailab_tools.smn.impala_client:impala_host : 172.16.60.109\n",
      "INFO:ailab_tools.smn.impala_client:impala_port : 21050\n",
      "INFO:ailab_tools.smn.impala_client:impala_user : vmspool\n",
      "INFO:ailab_tools.smn.impala_client:impala_password : \n",
      "INFO:ailab_tools.smn.impala_client:request_pool : vmspool\n",
      "INFO:ailab_tools.smn.impala_client:configuration : {'REQUEST_POOL': 'vmspool'}\n",
      "INFO:ailab_tools.smn.impala_resource:loaded configuration file: /opt/anaconda3/lib/python3.7/site-packages/ailab_tools/config/ailab_tools_config.py\n",
      "INFO:ailab_tools.smn.impala_resource:httpfs_host: hc3manager02.hc3pro\n",
      "INFO:ailab_tools.smn.impala_resource:httpfs_port: 14000\n",
      "INFO:impyla_service:Impala open connection OK. hostname = [172.16.60.109]\n",
      "INFO:impyla_service:New connection is opened.\n",
      "INFO:impyla_service:実行SQL: \n",
      "    select \n",
      "    distinct xd2.smn_uid\n",
      "    from dm_tmp.ya_seed_sp_advid_8317_cvg_13940_190308 sd\n",
      "    left join segment.drawbridge_device_1901 xd\n",
      "    on sd.smn_uid = xd.smn_uid\n",
      "    left join segment.drawbridge_device_1901 xd2\n",
      "    on xd.drawbridge_consumer_id = xd2.drawbridge_consumer_id\n",
      "    where xd2.device not in ('iphone', 'android_phone', 'windows_phone')  \n",
      "    \n",
      "INFO:impala.hiveserver2:Closing active operation\n",
      "INFO:impyla_service:Dropping table: dm_tmp.ya_seed_sp_advid_8317_cvg_13940_190308\n",
      "INFO:impyla_service:実行SQL: drop table if exists dm_tmp.ya_seed_sp_advid_8317_cvg_13940_190308 purge\n",
      "INFO:impala.hiveserver2:Closing active operation\n",
      "INFO:impyla_service:Connection is closed.\n",
      "INFO:ailab_tools.utils.slack:loaded configuration file: /opt/anaconda3/lib/python3.7/site-packages/ailab_tools/config/ailab_tools_config.py\n",
      "INFO:ailab_tools.utils.slack:Slack: Posted a message to Slack.\n"
     ]
    }
   ],
   "source": [
    "%%slack_notify @yusuke_akada\n",
    "#XD拡張\n",
    "\n",
    "xd = 'pc'\n",
    "\n",
    "uid_table = f\"dm_tmp.ya_xd_{xd}_advid_{advertiser_id}_{grp}_{conversion_group_id}_{today_yymmdd}\"\n",
    "\n",
    "#f-string\n",
    "query = (\n",
    "    f\"\"\"\n",
    "    select \n",
    "    distinct xd2.smn_uid\n",
    "    from {seed_table} sd\n",
    "    left join {xd_table} xd\n",
    "    on sd.smn_uid = xd.smn_uid\n",
    "    left join {xd_table} xd2\n",
    "    on xd.drawbridge_consumer_id = xd2.drawbridge_consumer_id\n",
    "    where xd2.device not in {xd_sp_device}  \n",
    "    \"\"\"\n",
    "    )\n",
    "with ImpalaResource(hosts=[\"172.16.60.109\"], port=21050, user='vmspool',\n",
    "                    request_pool='vmspool', httpfs_host='hc3manager02.hc3pro', httpfs_port=14000) as ir:\n",
    "    df_fix = ir.sql_to_pandas(query)\n",
    "    #ImpalaにUp\n",
    "    #ir.upload_dataframe(uid_table, df_fix, ['bigint']) #Impala upは不要かも\n",
    "    #テーブル削除\n",
    "    ir.drop_tables([seed_table])\n",
    "    \n",
    "df_fix.to_csv(f'{uid_table}.tsv', sep='\\t', index=False, header=False)"
   ]
  },
  {
   "cell_type": "code",
   "execution_count": 50,
   "metadata": {},
   "outputs": [
    {
     "data": {
      "text/plain": [
       "406"
      ]
     },
     "execution_count": 50,
     "metadata": {},
     "output_type": "execute_result"
    }
   ],
   "source": [
    "df_fix.shape[0]"
   ]
  },
  {
   "cell_type": "code",
   "execution_count": null,
   "metadata": {},
   "outputs": [],
   "source": []
  },
  {
   "cell_type": "markdown",
   "metadata": {},
   "source": [
    "MOG(イクモア)\t8547"
   ]
  },
  {
   "cell_type": "code",
   "execution_count": 51,
   "metadata": {},
   "outputs": [
    {
     "name": "stdout",
     "output_type": "stream",
     "text": [
      "190308\n"
     ]
    }
   ],
   "source": [
    "today_yymmdd = date.today().strftime(\"%y%m%d\")\n",
    "print(today_yymmdd)"
   ]
  },
  {
   "cell_type": "code",
   "execution_count": 52,
   "metadata": {},
   "outputs": [],
   "source": [
    "#デバイス\n",
    "seed_sp_device = 'iOS','Android'\n",
    "xd_sp_device = 'iphone','android_phone','windows_phone'\n",
    "\n",
    "#ターゲット\n",
    "advertiser_id = 8547\n",
    "conversion_group_id = 14291\n",
    "\n",
    "grp = 'cvg'\n",
    "#grp = 'rtg'\n",
    "\n",
    "#クロスデバイステーブル\n",
    "xd_table = 'segment.drawbridge_device_1901'"
   ]
  },
  {
   "cell_type": "markdown",
   "metadata": {},
   "source": [
    "SPユーザーをPCにクロスデバイスし、これを種にV拡張"
   ]
  },
  {
   "cell_type": "code",
   "execution_count": 53,
   "metadata": {},
   "outputs": [
    {
     "name": "stderr",
     "output_type": "stream",
     "text": [
      "INFO:ailab_tools.smn.impala_client:loaded configuration file: /opt/anaconda3/lib/python3.7/site-packages/ailab_tools/config/ailab_tools_config.py\n",
      "INFO:ailab_tools.smn.impala_client:hosts : ['172.16.60.109']\n",
      "INFO:ailab_tools.smn.impala_client:impala_host : 172.16.60.109\n",
      "INFO:ailab_tools.smn.impala_client:impala_port : 21050\n",
      "INFO:ailab_tools.smn.impala_client:impala_user : vmspool\n",
      "INFO:ailab_tools.smn.impala_client:impala_password : \n",
      "INFO:ailab_tools.smn.impala_client:request_pool : vmspool\n",
      "INFO:ailab_tools.smn.impala_client:configuration : {'REQUEST_POOL': 'vmspool'}\n",
      "INFO:ailab_tools.smn.impala_resource:loaded configuration file: /opt/anaconda3/lib/python3.7/site-packages/ailab_tools/config/ailab_tools_config.py\n",
      "INFO:ailab_tools.smn.impala_resource:httpfs_host: hc3manager02.hc3pro\n",
      "INFO:ailab_tools.smn.impala_resource:httpfs_port: 14000\n",
      "INFO:impyla_service:Impala open connection OK. hostname = [172.16.60.109]\n",
      "INFO:impyla_service:New connection is opened.\n",
      "INFO:impyla_service:実行SQL: \n",
      "    select\n",
      "    distinct smn_uid\n",
      "    ,advertiser_id\n",
      "    ,case when user_agent_os_family in ('iOS','Android') then 'SP' ELSE 'PC' END as device\n",
      "    ,conversion_group_id\n",
      "    FROM\n",
      "    dsplog.adserver\n",
      "    WHERE\n",
      "    concat_ws('-',year,month,day) between to_date(days_add(now(),-30)) and to_date(days_add(now(),-1))\n",
      "    and conversion_group_id = 14291\n",
      "    and advertiser_id = 8547\n",
      "    and user_agent_os_family in ('iOS', 'Android')\n",
      "    and smn_uid is not null\n",
      "    \n",
      "INFO:impala.hiveserver2:Closing active operation\n",
      "INFO:impyla_service:Create empty table dm_tmp.ya_seed_sp_advid_8547_cvg_14291_190308\n",
      "INFO:impyla_service:実行SQL: \n",
      "            create table dm_tmp.ya_seed_sp_advid_8547_cvg_14291_190308\n",
      "            (smn_uid bigint, advertiser_id bigint, device string, conversion_group_id bigint)\n",
      "            \n",
      "            row format delimited fields terminated by \"\\t\"\n",
      "            lines terminated by \"\\n\"\n",
      "            \n",
      "INFO:impala.hiveserver2:Closing active operation\n",
      "INFO:impyla_service:Query finished\n",
      "INFO:hdfs.client:Instantiated <InsecureClient(url='http://hc3manager02.hc3pro:14000')>.\n",
      "INFO:hdfs.client:Uploading '/home/yusuke_akada/notebook/Yusuke_Akada_Jupyter_Notebook/afc3c55a-ca51-4c02-bb85-eaca40219be9.tsv' to '/user/hive/warehouse/dm_tmp.db/ya_seed_sp_advid_8547_cvg_14291_190308'.\n",
      "INFO:hdfs.client:Listing '/user/hive/warehouse/dm_tmp.db/ya_seed_sp_advid_8547_cvg_14291_190308'.\n",
      "INFO:hdfs.client:Writing to '/user/hive/warehouse/dm_tmp.db/ya_seed_sp_advid_8547_cvg_14291_190308/afc3c55a-ca51-4c02-bb85-eaca40219be9.tsv'.\n",
      "INFO:impyla_service:実行SQL: refresh dm_tmp.ya_seed_sp_advid_8547_cvg_14291_190308\n",
      "INFO:impala.hiveserver2:Closing active operation\n",
      "INFO:impyla_service:Connection is closed.\n",
      "INFO:ailab_tools.utils.slack:loaded configuration file: /opt/anaconda3/lib/python3.7/site-packages/ailab_tools/config/ailab_tools_config.py\n",
      "INFO:ailab_tools.utils.slack:Slack: Posted a message to Slack.\n"
     ]
    }
   ],
   "source": [
    "%%slack_notify @yusuke_akada\n",
    "\n",
    "sd = 'sp'\n",
    "\n",
    "#f-string\n",
    "query = (\n",
    "    f\"\"\"\n",
    "    select\n",
    "    distinct smn_uid\n",
    "    ,advertiser_id\n",
    "    ,case when user_agent_os_family in ('iOS','Android') then 'SP' ELSE 'PC' END as device\n",
    "    ,conversion_group_id\n",
    "    FROM\n",
    "    dsplog.adserver\n",
    "    WHERE\n",
    "    concat_ws('-',year,month,day) between to_date(days_add(now(),-30)) and to_date(days_add(now(),-1))\n",
    "    and conversion_group_id = {conversion_group_id}\n",
    "    and advertiser_id = {advertiser_id}\n",
    "    and user_agent_os_family in {seed_sp_device}\n",
    "    and smn_uid is not null\n",
    "    \"\"\"\n",
    "    )\n",
    "\n",
    "with ImpalaResource(hosts=[\"172.16.60.109\"], port=21050, user='vmspool',\n",
    "                    request_pool='vmspool', httpfs_host='hc3manager02.hc3pro', httpfs_port=14000) as ir:\n",
    "        df = ir.sql_to_pandas(query)\n",
    "        ir.upload_dataframe(f\"dm_tmp.ya_seed_{sd}_advid_{advertiser_id}_cvg_{conversion_group_id}_{today_yymmdd}\", df, ['bigint','bigint','string','bigint'])\n",
    "        \n",
    "\n",
    "seed_table = f\"dm_tmp.ya_seed_{sd}_advid_{advertiser_id}_{grp}_{conversion_group_id}_{today_yymmdd}\"\n",
    "\n",
    "df_seed = df.drop(['conversion_group_id','device', 'advertiser_id'], axis=1)\n",
    "df_seed.to_csv(f'{seed_table}.tsv', sep='\\t', index=False, header=False)"
   ]
  },
  {
   "cell_type": "code",
   "execution_count": 54,
   "metadata": {},
   "outputs": [
    {
     "data": {
      "text/plain": [
       "1225"
      ]
     },
     "execution_count": 54,
     "metadata": {},
     "output_type": "execute_result"
    }
   ],
   "source": [
    "df.shape[0]"
   ]
  },
  {
   "cell_type": "code",
   "execution_count": 55,
   "metadata": {},
   "outputs": [
    {
     "data": {
      "text/html": [
       "<div>\n",
       "<style scoped>\n",
       "    .dataframe tbody tr th:only-of-type {\n",
       "        vertical-align: middle;\n",
       "    }\n",
       "\n",
       "    .dataframe tbody tr th {\n",
       "        vertical-align: top;\n",
       "    }\n",
       "\n",
       "    .dataframe thead th {\n",
       "        text-align: right;\n",
       "    }\n",
       "</style>\n",
       "<table border=\"1\" class=\"dataframe\">\n",
       "  <thead>\n",
       "    <tr style=\"text-align: right;\">\n",
       "      <th></th>\n",
       "      <th>smn_uid</th>\n",
       "      <th>advertiser_id</th>\n",
       "      <th>device</th>\n",
       "      <th>conversion_group_id</th>\n",
       "    </tr>\n",
       "  </thead>\n",
       "  <tbody>\n",
       "    <tr>\n",
       "      <th>0</th>\n",
       "      <td>777024886711952</td>\n",
       "      <td>8547</td>\n",
       "      <td>SP</td>\n",
       "      <td>14291</td>\n",
       "    </tr>\n",
       "    <tr>\n",
       "      <th>1</th>\n",
       "      <td>1647000172709081</td>\n",
       "      <td>8547</td>\n",
       "      <td>SP</td>\n",
       "      <td>14291</td>\n",
       "    </tr>\n",
       "    <tr>\n",
       "      <th>2</th>\n",
       "      <td>1085000051527316</td>\n",
       "      <td>8547</td>\n",
       "      <td>SP</td>\n",
       "      <td>14291</td>\n",
       "    </tr>\n",
       "    <tr>\n",
       "      <th>3</th>\n",
       "      <td>777021802504002</td>\n",
       "      <td>8547</td>\n",
       "      <td>SP</td>\n",
       "      <td>14291</td>\n",
       "    </tr>\n",
       "    <tr>\n",
       "      <th>4</th>\n",
       "      <td>2188000088855199</td>\n",
       "      <td>8547</td>\n",
       "      <td>SP</td>\n",
       "      <td>14291</td>\n",
       "    </tr>\n",
       "  </tbody>\n",
       "</table>\n",
       "</div>"
      ],
      "text/plain": [
       "            smn_uid  advertiser_id device  conversion_group_id\n",
       "0   777024886711952           8547     SP                14291\n",
       "1  1647000172709081           8547     SP                14291\n",
       "2  1085000051527316           8547     SP                14291\n",
       "3   777021802504002           8547     SP                14291\n",
       "4  2188000088855199           8547     SP                14291"
      ]
     },
     "execution_count": 55,
     "metadata": {},
     "output_type": "execute_result"
    }
   ],
   "source": [
    "df.head()"
   ]
  },
  {
   "cell_type": "code",
   "execution_count": 56,
   "metadata": {},
   "outputs": [
    {
     "name": "stderr",
     "output_type": "stream",
     "text": [
      "INFO:ailab_tools.smn.impala_client:loaded configuration file: /opt/anaconda3/lib/python3.7/site-packages/ailab_tools/config/ailab_tools_config.py\n",
      "INFO:ailab_tools.smn.impala_client:hosts : ['172.16.60.109']\n",
      "INFO:ailab_tools.smn.impala_client:impala_host : 172.16.60.109\n",
      "INFO:ailab_tools.smn.impala_client:impala_port : 21050\n",
      "INFO:ailab_tools.smn.impala_client:impala_user : vmspool\n",
      "INFO:ailab_tools.smn.impala_client:impala_password : \n",
      "INFO:ailab_tools.smn.impala_client:request_pool : vmspool\n",
      "INFO:ailab_tools.smn.impala_client:configuration : {'REQUEST_POOL': 'vmspool'}\n",
      "INFO:ailab_tools.smn.impala_resource:loaded configuration file: /opt/anaconda3/lib/python3.7/site-packages/ailab_tools/config/ailab_tools_config.py\n",
      "INFO:ailab_tools.smn.impala_resource:httpfs_host: hc3manager02.hc3pro\n",
      "INFO:ailab_tools.smn.impala_resource:httpfs_port: 14000\n",
      "INFO:impyla_service:Impala open connection OK. hostname = [172.16.60.109]\n",
      "INFO:impyla_service:New connection is opened.\n",
      "INFO:impyla_service:実行SQL: \n",
      "    select \n",
      "    distinct xd2.smn_uid\n",
      "    from dm_tmp.ya_seed_sp_advid_8547_cvg_14291_190308 sd\n",
      "    left join segment.drawbridge_device_1901 xd\n",
      "    on sd.smn_uid = xd.smn_uid\n",
      "    left join segment.drawbridge_device_1901 xd2\n",
      "    on xd.drawbridge_consumer_id = xd2.drawbridge_consumer_id\n",
      "    where xd2.device not in ('iphone', 'android_phone', 'windows_phone')  \n",
      "    \n",
      "INFO:impala.hiveserver2:Closing active operation\n",
      "INFO:impyla_service:Dropping table: dm_tmp.ya_seed_sp_advid_8547_cvg_14291_190308\n",
      "INFO:impyla_service:実行SQL: drop table if exists dm_tmp.ya_seed_sp_advid_8547_cvg_14291_190308 purge\n",
      "INFO:impala.hiveserver2:Closing active operation\n",
      "INFO:impyla_service:Connection is closed.\n",
      "INFO:ailab_tools.utils.slack:loaded configuration file: /opt/anaconda3/lib/python3.7/site-packages/ailab_tools/config/ailab_tools_config.py\n",
      "INFO:ailab_tools.utils.slack:Slack: Posted a message to Slack.\n"
     ]
    }
   ],
   "source": [
    "%%slack_notify @yusuke_akada\n",
    "#XD拡張\n",
    "\n",
    "xd = 'pc'\n",
    "\n",
    "uid_table = f\"dm_tmp.ya_xd_{xd}_advid_{advertiser_id}_{grp}_{conversion_group_id}_{today_yymmdd}\"\n",
    "\n",
    "#f-string\n",
    "query = (\n",
    "    f\"\"\"\n",
    "    select \n",
    "    distinct xd2.smn_uid\n",
    "    from {seed_table} sd\n",
    "    left join {xd_table} xd\n",
    "    on sd.smn_uid = xd.smn_uid\n",
    "    left join {xd_table} xd2\n",
    "    on xd.drawbridge_consumer_id = xd2.drawbridge_consumer_id\n",
    "    where xd2.device not in {xd_sp_device}  \n",
    "    \"\"\"\n",
    "    )\n",
    "with ImpalaResource(hosts=[\"172.16.60.109\"], port=21050, user='vmspool',\n",
    "                    request_pool='vmspool', httpfs_host='hc3manager02.hc3pro', httpfs_port=14000) as ir:\n",
    "    df_fix = ir.sql_to_pandas(query)\n",
    "    #ImpalaにUp\n",
    "    #ir.upload_dataframe(uid_table, df_fix, ['bigint']) #Impala upは不要かも\n",
    "    #テーブル削除\n",
    "    ir.drop_tables([seed_table])\n",
    "    \n",
    "df_fix.to_csv(f'{uid_table}.tsv', sep='\\t', index=False, header=False)"
   ]
  },
  {
   "cell_type": "code",
   "execution_count": 57,
   "metadata": {},
   "outputs": [
    {
     "data": {
      "text/plain": [
       "1537"
      ]
     },
     "execution_count": 57,
     "metadata": {},
     "output_type": "execute_result"
    }
   ],
   "source": [
    "df_fix.shape[0]"
   ]
  },
  {
   "cell_type": "code",
   "execution_count": null,
   "metadata": {},
   "outputs": [],
   "source": []
  },
  {
   "cell_type": "markdown",
   "metadata": {},
   "source": [
    "イングリウッド(Breash)\t7939"
   ]
  },
  {
   "cell_type": "code",
   "execution_count": 72,
   "metadata": {},
   "outputs": [
    {
     "name": "stdout",
     "output_type": "stream",
     "text": [
      "190308\n"
     ]
    }
   ],
   "source": [
    "today_yymmdd = date.today().strftime(\"%y%m%d\")\n",
    "print(today_yymmdd)"
   ]
  },
  {
   "cell_type": "code",
   "execution_count": 76,
   "metadata": {},
   "outputs": [],
   "source": [
    "#デバイス\n",
    "seed_sp_device = 'iOS','Android'\n",
    "xd_sp_device = 'iphone','android_phone','windows_phone'\n",
    "\n",
    "#ターゲット\n",
    "advertiser_id = 7939\n",
    "conversion_group_id = 13434\n",
    "\n",
    "grp = 'cvg'\n",
    "#grp = 'rtg'\n",
    "\n",
    "#クロスデバイステーブル\n",
    "xd_table = 'segment.drawbridge_device_1901'"
   ]
  },
  {
   "cell_type": "markdown",
   "metadata": {},
   "source": [
    "SPユーザーをPCにクロスデバイスし、これを種にV拡張"
   ]
  },
  {
   "cell_type": "markdown",
   "metadata": {},
   "source": [
    "※数があまりにも少ないので、種はPC/SP問わずに、直近60日に"
   ]
  },
  {
   "cell_type": "code",
   "execution_count": 81,
   "metadata": {},
   "outputs": [
    {
     "name": "stderr",
     "output_type": "stream",
     "text": [
      "INFO:ailab_tools.smn.impala_client:loaded configuration file: /opt/anaconda3/lib/python3.7/site-packages/ailab_tools/config/ailab_tools_config.py\n",
      "INFO:ailab_tools.smn.impala_client:hosts : ['172.16.60.109']\n",
      "INFO:ailab_tools.smn.impala_client:impala_host : 172.16.60.109\n",
      "INFO:ailab_tools.smn.impala_client:impala_port : 21050\n",
      "INFO:ailab_tools.smn.impala_client:impala_user : vmspool\n",
      "INFO:ailab_tools.smn.impala_client:impala_password : \n",
      "INFO:ailab_tools.smn.impala_client:request_pool : vmspool\n",
      "INFO:ailab_tools.smn.impala_client:configuration : {'REQUEST_POOL': 'vmspool'}\n",
      "INFO:ailab_tools.smn.impala_resource:loaded configuration file: /opt/anaconda3/lib/python3.7/site-packages/ailab_tools/config/ailab_tools_config.py\n",
      "INFO:ailab_tools.smn.impala_resource:httpfs_host: hc3manager02.hc3pro\n",
      "INFO:ailab_tools.smn.impala_resource:httpfs_port: 14000\n",
      "INFO:impyla_service:Impala open connection OK. hostname = [172.16.60.109]\n",
      "INFO:impyla_service:New connection is opened.\n",
      "INFO:impyla_service:実行SQL: \n",
      "    select\n",
      "    distinct smn_uid\n",
      "    ,advertiser_id\n",
      "    ,case when user_agent_os_family in ('iOS','Android') then 'SP' ELSE 'PC' END as device\n",
      "    ,conversion_group_id\n",
      "    FROM\n",
      "    dsplog.adserver\n",
      "    WHERE\n",
      "    concat_ws('-',year,month,day) between to_date(days_add(now(),-60)) and to_date(days_add(now(),-1))\n",
      "    and conversion_group_id = 13434\n",
      "    and advertiser_id = 7939\n",
      "    and smn_uid is not null\n",
      "    \n",
      "INFO:impala.hiveserver2:Closing active operation\n",
      "INFO:impyla_service:Create empty table dm_tmp.ya_seed_sp_advid_7939_cvg_13434_190308\n",
      "INFO:impyla_service:実行SQL: \n",
      "            create table dm_tmp.ya_seed_sp_advid_7939_cvg_13434_190308\n",
      "            (smn_uid bigint, advertiser_id bigint, device string, conversion_group_id bigint)\n",
      "            \n",
      "            row format delimited fields terminated by \"\\t\"\n",
      "            lines terminated by \"\\n\"\n",
      "            \n",
      "INFO:impala.hiveserver2:Closing active operation\n",
      "INFO:impyla_service:Query finished\n",
      "INFO:hdfs.client:Instantiated <InsecureClient(url='http://hc3manager02.hc3pro:14000')>.\n",
      "INFO:hdfs.client:Uploading '/home/yusuke_akada/notebook/Yusuke_Akada_Jupyter_Notebook/e0783000-7163-4d93-913c-c529916d1a31.tsv' to '/user/hive/warehouse/dm_tmp.db/ya_seed_sp_advid_7939_cvg_13434_190308'.\n",
      "INFO:hdfs.client:Listing '/user/hive/warehouse/dm_tmp.db/ya_seed_sp_advid_7939_cvg_13434_190308'.\n",
      "INFO:hdfs.client:Writing to '/user/hive/warehouse/dm_tmp.db/ya_seed_sp_advid_7939_cvg_13434_190308/e0783000-7163-4d93-913c-c529916d1a31.tsv'.\n",
      "INFO:impyla_service:実行SQL: refresh dm_tmp.ya_seed_sp_advid_7939_cvg_13434_190308\n",
      "INFO:impala.hiveserver2:Closing active operation\n",
      "INFO:impyla_service:Connection is closed.\n",
      "INFO:ailab_tools.utils.slack:loaded configuration file: /opt/anaconda3/lib/python3.7/site-packages/ailab_tools/config/ailab_tools_config.py\n",
      "INFO:ailab_tools.utils.slack:Slack: Posted a message to Slack.\n"
     ]
    }
   ],
   "source": [
    "%%slack_notify @yusuke_akada\n",
    "\n",
    "sd = 'sp'\n",
    "\n",
    "#f-string\n",
    "query = (\n",
    "    f\"\"\"\n",
    "    select\n",
    "    distinct smn_uid\n",
    "    ,advertiser_id\n",
    "    ,case when user_agent_os_family in ('iOS','Android') then 'SP' ELSE 'PC' END as device\n",
    "    ,conversion_group_id\n",
    "    FROM\n",
    "    dsplog.adserver\n",
    "    WHERE\n",
    "    concat_ws('-',year,month,day) between to_date(days_add(now(),-60)) and to_date(days_add(now(),-1))\n",
    "    and conversion_group_id = {conversion_group_id}\n",
    "    and advertiser_id = {advertiser_id}\n",
    "    and smn_uid is not null\n",
    "    \"\"\"\n",
    "    )\n",
    "\n",
    "with ImpalaResource(hosts=[\"172.16.60.109\"], port=21050, user='vmspool',\n",
    "                    request_pool='vmspool', httpfs_host='hc3manager02.hc3pro', httpfs_port=14000) as ir:\n",
    "        df = ir.sql_to_pandas(query)\n",
    "        ir.upload_dataframe(f\"dm_tmp.ya_seed_{sd}_advid_{advertiser_id}_cvg_{conversion_group_id}_{today_yymmdd}\", df, ['bigint','bigint','string','bigint'])\n",
    "        \n",
    "\n",
    "seed_table = f\"dm_tmp.ya_seed_{sd}_advid_{advertiser_id}_{grp}_{conversion_group_id}_{today_yymmdd}\"\n",
    "\n",
    "df_seed = df.drop(['conversion_group_id','device', 'advertiser_id'], axis=1)\n",
    "df_seed.to_csv(f'{seed_table}.tsv', sep='\\t', index=False, header=False)"
   ]
  },
  {
   "cell_type": "code",
   "execution_count": 82,
   "metadata": {},
   "outputs": [
    {
     "data": {
      "text/plain": [
       "73"
      ]
     },
     "execution_count": 82,
     "metadata": {},
     "output_type": "execute_result"
    }
   ],
   "source": [
    "df.shape[0]"
   ]
  },
  {
   "cell_type": "code",
   "execution_count": 83,
   "metadata": {},
   "outputs": [
    {
     "data": {
      "text/html": [
       "<div>\n",
       "<style scoped>\n",
       "    .dataframe tbody tr th:only-of-type {\n",
       "        vertical-align: middle;\n",
       "    }\n",
       "\n",
       "    .dataframe tbody tr th {\n",
       "        vertical-align: top;\n",
       "    }\n",
       "\n",
       "    .dataframe thead th {\n",
       "        text-align: right;\n",
       "    }\n",
       "</style>\n",
       "<table border=\"1\" class=\"dataframe\">\n",
       "  <thead>\n",
       "    <tr style=\"text-align: right;\">\n",
       "      <th></th>\n",
       "      <th>smn_uid</th>\n",
       "      <th>advertiser_id</th>\n",
       "      <th>device</th>\n",
       "      <th>conversion_group_id</th>\n",
       "    </tr>\n",
       "  </thead>\n",
       "  <tbody>\n",
       "    <tr>\n",
       "      <th>0</th>\n",
       "      <td>2206000054753276</td>\n",
       "      <td>7939</td>\n",
       "      <td>SP</td>\n",
       "      <td>13434</td>\n",
       "    </tr>\n",
       "    <tr>\n",
       "      <th>1</th>\n",
       "      <td>1103000005901172</td>\n",
       "      <td>7939</td>\n",
       "      <td>SP</td>\n",
       "      <td>13434</td>\n",
       "    </tr>\n",
       "    <tr>\n",
       "      <th>2</th>\n",
       "      <td>2164000016573932</td>\n",
       "      <td>7939</td>\n",
       "      <td>SP</td>\n",
       "      <td>13434</td>\n",
       "    </tr>\n",
       "    <tr>\n",
       "      <th>3</th>\n",
       "      <td>1647000110215130</td>\n",
       "      <td>7939</td>\n",
       "      <td>SP</td>\n",
       "      <td>13434</td>\n",
       "    </tr>\n",
       "    <tr>\n",
       "      <th>4</th>\n",
       "      <td>692000022416798</td>\n",
       "      <td>7939</td>\n",
       "      <td>SP</td>\n",
       "      <td>13434</td>\n",
       "    </tr>\n",
       "  </tbody>\n",
       "</table>\n",
       "</div>"
      ],
      "text/plain": [
       "            smn_uid  advertiser_id device  conversion_group_id\n",
       "0  2206000054753276           7939     SP                13434\n",
       "1  1103000005901172           7939     SP                13434\n",
       "2  2164000016573932           7939     SP                13434\n",
       "3  1647000110215130           7939     SP                13434\n",
       "4   692000022416798           7939     SP                13434"
      ]
     },
     "execution_count": 83,
     "metadata": {},
     "output_type": "execute_result"
    }
   ],
   "source": [
    "df.head()"
   ]
  },
  {
   "cell_type": "code",
   "execution_count": 84,
   "metadata": {},
   "outputs": [
    {
     "name": "stderr",
     "output_type": "stream",
     "text": [
      "INFO:ailab_tools.smn.impala_client:loaded configuration file: /opt/anaconda3/lib/python3.7/site-packages/ailab_tools/config/ailab_tools_config.py\n",
      "INFO:ailab_tools.smn.impala_client:hosts : ['172.16.60.109']\n",
      "INFO:ailab_tools.smn.impala_client:impala_host : 172.16.60.109\n",
      "INFO:ailab_tools.smn.impala_client:impala_port : 21050\n",
      "INFO:ailab_tools.smn.impala_client:impala_user : vmspool\n",
      "INFO:ailab_tools.smn.impala_client:impala_password : \n",
      "INFO:ailab_tools.smn.impala_client:request_pool : vmspool\n",
      "INFO:ailab_tools.smn.impala_client:configuration : {'REQUEST_POOL': 'vmspool'}\n",
      "INFO:ailab_tools.smn.impala_resource:loaded configuration file: /opt/anaconda3/lib/python3.7/site-packages/ailab_tools/config/ailab_tools_config.py\n",
      "INFO:ailab_tools.smn.impala_resource:httpfs_host: hc3manager02.hc3pro\n",
      "INFO:ailab_tools.smn.impala_resource:httpfs_port: 14000\n",
      "INFO:impyla_service:Impala open connection OK. hostname = [172.16.60.109]\n",
      "INFO:impyla_service:New connection is opened.\n",
      "INFO:impyla_service:実行SQL: \n",
      "    select \n",
      "    distinct xd2.smn_uid\n",
      "    from dm_tmp.ya_seed_sp_advid_7939_cvg_13434_190308 sd\n",
      "    left join segment.drawbridge_device_1901 xd\n",
      "    on sd.smn_uid = xd.smn_uid\n",
      "    left join segment.drawbridge_device_1901 xd2\n",
      "    on xd.drawbridge_consumer_id = xd2.drawbridge_consumer_id\n",
      "    where xd2.device not in ('iphone', 'android_phone', 'windows_phone')  \n",
      "    \n",
      "INFO:impala.hiveserver2:Closing active operation\n",
      "INFO:impyla_service:Dropping table: dm_tmp.ya_seed_sp_advid_7939_cvg_13434_190308\n",
      "INFO:impyla_service:実行SQL: drop table if exists dm_tmp.ya_seed_sp_advid_7939_cvg_13434_190308 purge\n",
      "INFO:impala.hiveserver2:Closing active operation\n",
      "INFO:impyla_service:Connection is closed.\n",
      "INFO:ailab_tools.utils.slack:loaded configuration file: /opt/anaconda3/lib/python3.7/site-packages/ailab_tools/config/ailab_tools_config.py\n",
      "INFO:ailab_tools.utils.slack:Slack: Posted a message to Slack.\n"
     ]
    }
   ],
   "source": [
    "%%slack_notify @yusuke_akada\n",
    "#XD拡張\n",
    "\n",
    "xd = 'pc'\n",
    "\n",
    "uid_table = f\"dm_tmp.ya_xd_{xd}_advid_{advertiser_id}_{grp}_{conversion_group_id}_{today_yymmdd}\"\n",
    "\n",
    "#f-string\n",
    "query = (\n",
    "    f\"\"\"\n",
    "    select \n",
    "    distinct xd2.smn_uid\n",
    "    from {seed_table} sd\n",
    "    left join {xd_table} xd\n",
    "    on sd.smn_uid = xd.smn_uid\n",
    "    left join {xd_table} xd2\n",
    "    on xd.drawbridge_consumer_id = xd2.drawbridge_consumer_id\n",
    "    where xd2.device not in {xd_sp_device}  \n",
    "    \"\"\"\n",
    "    )\n",
    "with ImpalaResource(hosts=[\"172.16.60.109\"], port=21050, user='vmspool',\n",
    "                    request_pool='vmspool', httpfs_host='hc3manager02.hc3pro', httpfs_port=14000) as ir:\n",
    "    df_fix = ir.sql_to_pandas(query)\n",
    "    #ImpalaにUp\n",
    "    #ir.upload_dataframe(uid_table, df_fix, ['bigint']) #Impala upは不要かも\n",
    "    #テーブル削除\n",
    "    ir.drop_tables([seed_table])\n",
    "    \n",
    "df_fix.to_csv(f'{uid_table}.tsv', sep='\\t', index=False, header=False)"
   ]
  },
  {
   "cell_type": "code",
   "execution_count": 85,
   "metadata": {},
   "outputs": [
    {
     "data": {
      "text/plain": [
       "199"
      ]
     },
     "execution_count": 85,
     "metadata": {},
     "output_type": "execute_result"
    }
   ],
   "source": [
    "df_fix.shape[0]"
   ]
  },
  {
   "cell_type": "code",
   "execution_count": null,
   "metadata": {},
   "outputs": [],
   "source": []
  },
  {
   "cell_type": "markdown",
   "metadata": {},
   "source": [
    "アドネクスト(KOMBUCHA)\t8517"
   ]
  },
  {
   "cell_type": "code",
   "execution_count": 65,
   "metadata": {},
   "outputs": [
    {
     "name": "stdout",
     "output_type": "stream",
     "text": [
      "190308\n"
     ]
    }
   ],
   "source": [
    "today_yymmdd = date.today().strftime(\"%y%m%d\")\n",
    "print(today_yymmdd)"
   ]
  },
  {
   "cell_type": "code",
   "execution_count": 66,
   "metadata": {},
   "outputs": [],
   "source": [
    "#デバイス\n",
    "seed_sp_device = 'iOS','Android'\n",
    "xd_sp_device = 'iphone','android_phone','windows_phone'\n",
    "\n",
    "#ターゲット\n",
    "advertiser_id = 8517\n",
    "conversion_group_id = 14204\n",
    "\n",
    "grp = 'cvg'\n",
    "#grp = 'rtg'\n",
    "\n",
    "#クロスデバイステーブル\n",
    "xd_table = 'segment.drawbridge_device_1901'"
   ]
  },
  {
   "cell_type": "markdown",
   "metadata": {},
   "source": [
    "SPユーザーをPCにクロスデバイスし、これを種にV拡張"
   ]
  },
  {
   "cell_type": "code",
   "execution_count": 67,
   "metadata": {},
   "outputs": [
    {
     "name": "stderr",
     "output_type": "stream",
     "text": [
      "INFO:ailab_tools.smn.impala_client:loaded configuration file: /opt/anaconda3/lib/python3.7/site-packages/ailab_tools/config/ailab_tools_config.py\n",
      "INFO:ailab_tools.smn.impala_client:hosts : ['172.16.60.109']\n",
      "INFO:ailab_tools.smn.impala_client:impala_host : 172.16.60.109\n",
      "INFO:ailab_tools.smn.impala_client:impala_port : 21050\n",
      "INFO:ailab_tools.smn.impala_client:impala_user : vmspool\n",
      "INFO:ailab_tools.smn.impala_client:impala_password : \n",
      "INFO:ailab_tools.smn.impala_client:request_pool : vmspool\n",
      "INFO:ailab_tools.smn.impala_client:configuration : {'REQUEST_POOL': 'vmspool'}\n",
      "INFO:ailab_tools.smn.impala_resource:loaded configuration file: /opt/anaconda3/lib/python3.7/site-packages/ailab_tools/config/ailab_tools_config.py\n",
      "INFO:ailab_tools.smn.impala_resource:httpfs_host: hc3manager02.hc3pro\n",
      "INFO:ailab_tools.smn.impala_resource:httpfs_port: 14000\n",
      "INFO:impyla_service:Impala open connection OK. hostname = [172.16.60.109]\n",
      "INFO:impyla_service:New connection is opened.\n",
      "INFO:impyla_service:実行SQL: \n",
      "    select\n",
      "    distinct smn_uid\n",
      "    ,advertiser_id\n",
      "    ,case when user_agent_os_family in ('iOS','Android') then 'SP' ELSE 'PC' END as device\n",
      "    ,conversion_group_id\n",
      "    FROM\n",
      "    dsplog.adserver\n",
      "    WHERE\n",
      "    concat_ws('-',year,month,day) between to_date(days_add(now(),-30)) and to_date(days_add(now(),-1))\n",
      "    and conversion_group_id = 14204\n",
      "    and advertiser_id = 8517\n",
      "    and user_agent_os_family in ('iOS', 'Android')\n",
      "    and smn_uid is not null\n",
      "    \n",
      "INFO:impala.hiveserver2:Closing active operation\n",
      "INFO:impyla_service:Create empty table dm_tmp.ya_seed_sp_advid_8517_cvg_14204_190308\n",
      "INFO:impyla_service:実行SQL: \n",
      "            create table dm_tmp.ya_seed_sp_advid_8517_cvg_14204_190308\n",
      "            (smn_uid bigint, advertiser_id bigint, device string, conversion_group_id bigint)\n",
      "            \n",
      "            row format delimited fields terminated by \"\\t\"\n",
      "            lines terminated by \"\\n\"\n",
      "            \n",
      "INFO:impala.hiveserver2:Closing active operation\n",
      "INFO:impyla_service:Query finished\n",
      "INFO:hdfs.client:Instantiated <InsecureClient(url='http://hc3manager02.hc3pro:14000')>.\n",
      "INFO:hdfs.client:Uploading '/home/yusuke_akada/notebook/Yusuke_Akada_Jupyter_Notebook/71fd6d64-10d2-4c8b-baf4-a6fd9dd835eb.tsv' to '/user/hive/warehouse/dm_tmp.db/ya_seed_sp_advid_8517_cvg_14204_190308'.\n",
      "INFO:hdfs.client:Listing '/user/hive/warehouse/dm_tmp.db/ya_seed_sp_advid_8517_cvg_14204_190308'.\n",
      "INFO:hdfs.client:Writing to '/user/hive/warehouse/dm_tmp.db/ya_seed_sp_advid_8517_cvg_14204_190308/71fd6d64-10d2-4c8b-baf4-a6fd9dd835eb.tsv'.\n",
      "INFO:impyla_service:実行SQL: refresh dm_tmp.ya_seed_sp_advid_8517_cvg_14204_190308\n",
      "INFO:impala.hiveserver2:Closing active operation\n",
      "INFO:impyla_service:Connection is closed.\n",
      "INFO:ailab_tools.utils.slack:loaded configuration file: /opt/anaconda3/lib/python3.7/site-packages/ailab_tools/config/ailab_tools_config.py\n",
      "INFO:ailab_tools.utils.slack:Slack: Posted a message to Slack.\n"
     ]
    }
   ],
   "source": [
    "%%slack_notify @yusuke_akada\n",
    "\n",
    "sd = 'sp'\n",
    "\n",
    "#f-string\n",
    "query = (\n",
    "    f\"\"\"\n",
    "    select\n",
    "    distinct smn_uid\n",
    "    ,advertiser_id\n",
    "    ,case when user_agent_os_family in ('iOS','Android') then 'SP' ELSE 'PC' END as device\n",
    "    ,conversion_group_id\n",
    "    FROM\n",
    "    dsplog.adserver\n",
    "    WHERE\n",
    "    concat_ws('-',year,month,day) between to_date(days_add(now(),-30)) and to_date(days_add(now(),-1))\n",
    "    and conversion_group_id = {conversion_group_id}\n",
    "    and advertiser_id = {advertiser_id}\n",
    "    and user_agent_os_family in {seed_sp_device}\n",
    "    and smn_uid is not null\n",
    "    \"\"\"\n",
    "    )\n",
    "\n",
    "with ImpalaResource(hosts=[\"172.16.60.109\"], port=21050, user='vmspool',\n",
    "                    request_pool='vmspool', httpfs_host='hc3manager02.hc3pro', httpfs_port=14000) as ir:\n",
    "        df = ir.sql_to_pandas(query)\n",
    "        ir.upload_dataframe(f\"dm_tmp.ya_seed_{sd}_advid_{advertiser_id}_cvg_{conversion_group_id}_{today_yymmdd}\", df, ['bigint','bigint','string','bigint'])\n",
    "        \n",
    "\n",
    "seed_table = f\"dm_tmp.ya_seed_{sd}_advid_{advertiser_id}_{grp}_{conversion_group_id}_{today_yymmdd}\"\n",
    "\n",
    "df_seed = df.drop(['conversion_group_id','device', 'advertiser_id'], axis=1)\n",
    "df_seed.to_csv(f'{seed_table}.tsv', sep='\\t', index=False, header=False)"
   ]
  },
  {
   "cell_type": "code",
   "execution_count": 68,
   "metadata": {},
   "outputs": [
    {
     "data": {
      "text/plain": [
       "9100"
      ]
     },
     "execution_count": 68,
     "metadata": {},
     "output_type": "execute_result"
    }
   ],
   "source": [
    "df.shape[0]"
   ]
  },
  {
   "cell_type": "code",
   "execution_count": 69,
   "metadata": {},
   "outputs": [
    {
     "data": {
      "text/html": [
       "<div>\n",
       "<style scoped>\n",
       "    .dataframe tbody tr th:only-of-type {\n",
       "        vertical-align: middle;\n",
       "    }\n",
       "\n",
       "    .dataframe tbody tr th {\n",
       "        vertical-align: top;\n",
       "    }\n",
       "\n",
       "    .dataframe thead th {\n",
       "        text-align: right;\n",
       "    }\n",
       "</style>\n",
       "<table border=\"1\" class=\"dataframe\">\n",
       "  <thead>\n",
       "    <tr style=\"text-align: right;\">\n",
       "      <th></th>\n",
       "      <th>smn_uid</th>\n",
       "      <th>advertiser_id</th>\n",
       "      <th>device</th>\n",
       "      <th>conversion_group_id</th>\n",
       "    </tr>\n",
       "  </thead>\n",
       "  <tbody>\n",
       "    <tr>\n",
       "      <th>0</th>\n",
       "      <td>1149000828997702</td>\n",
       "      <td>8517</td>\n",
       "      <td>SP</td>\n",
       "      <td>14204</td>\n",
       "    </tr>\n",
       "    <tr>\n",
       "      <th>1</th>\n",
       "      <td>777024774324688</td>\n",
       "      <td>8517</td>\n",
       "      <td>SP</td>\n",
       "      <td>14204</td>\n",
       "    </tr>\n",
       "    <tr>\n",
       "      <th>2</th>\n",
       "      <td>674000004916387</td>\n",
       "      <td>8517</td>\n",
       "      <td>SP</td>\n",
       "      <td>14204</td>\n",
       "    </tr>\n",
       "    <tr>\n",
       "      <th>3</th>\n",
       "      <td>777023929481788</td>\n",
       "      <td>8517</td>\n",
       "      <td>SP</td>\n",
       "      <td>14204</td>\n",
       "    </tr>\n",
       "    <tr>\n",
       "      <th>4</th>\n",
       "      <td>777022927488266</td>\n",
       "      <td>8517</td>\n",
       "      <td>SP</td>\n",
       "      <td>14204</td>\n",
       "    </tr>\n",
       "  </tbody>\n",
       "</table>\n",
       "</div>"
      ],
      "text/plain": [
       "            smn_uid  advertiser_id device  conversion_group_id\n",
       "0  1149000828997702           8517     SP                14204\n",
       "1   777024774324688           8517     SP                14204\n",
       "2   674000004916387           8517     SP                14204\n",
       "3   777023929481788           8517     SP                14204\n",
       "4   777022927488266           8517     SP                14204"
      ]
     },
     "execution_count": 69,
     "metadata": {},
     "output_type": "execute_result"
    }
   ],
   "source": [
    "df.head()"
   ]
  },
  {
   "cell_type": "code",
   "execution_count": 70,
   "metadata": {},
   "outputs": [
    {
     "name": "stderr",
     "output_type": "stream",
     "text": [
      "INFO:ailab_tools.smn.impala_client:loaded configuration file: /opt/anaconda3/lib/python3.7/site-packages/ailab_tools/config/ailab_tools_config.py\n",
      "INFO:ailab_tools.smn.impala_client:hosts : ['172.16.60.109']\n",
      "INFO:ailab_tools.smn.impala_client:impala_host : 172.16.60.109\n",
      "INFO:ailab_tools.smn.impala_client:impala_port : 21050\n",
      "INFO:ailab_tools.smn.impala_client:impala_user : vmspool\n",
      "INFO:ailab_tools.smn.impala_client:impala_password : \n",
      "INFO:ailab_tools.smn.impala_client:request_pool : vmspool\n",
      "INFO:ailab_tools.smn.impala_client:configuration : {'REQUEST_POOL': 'vmspool'}\n",
      "INFO:ailab_tools.smn.impala_resource:loaded configuration file: /opt/anaconda3/lib/python3.7/site-packages/ailab_tools/config/ailab_tools_config.py\n",
      "INFO:ailab_tools.smn.impala_resource:httpfs_host: hc3manager02.hc3pro\n",
      "INFO:ailab_tools.smn.impala_resource:httpfs_port: 14000\n",
      "INFO:impyla_service:Impala open connection OK. hostname = [172.16.60.109]\n",
      "INFO:impyla_service:New connection is opened.\n",
      "INFO:impyla_service:実行SQL: \n",
      "    select \n",
      "    distinct xd2.smn_uid\n",
      "    from dm_tmp.ya_seed_sp_advid_8517_cvg_14204_190308 sd\n",
      "    left join segment.drawbridge_device_1901 xd\n",
      "    on sd.smn_uid = xd.smn_uid\n",
      "    left join segment.drawbridge_device_1901 xd2\n",
      "    on xd.drawbridge_consumer_id = xd2.drawbridge_consumer_id\n",
      "    where xd2.device not in ('iphone', 'android_phone', 'windows_phone')  \n",
      "    \n",
      "INFO:impala.hiveserver2:Closing active operation\n",
      "INFO:impyla_service:Dropping table: dm_tmp.ya_seed_sp_advid_8517_cvg_14204_190308\n",
      "INFO:impyla_service:実行SQL: drop table if exists dm_tmp.ya_seed_sp_advid_8517_cvg_14204_190308 purge\n",
      "INFO:impala.hiveserver2:Closing active operation\n",
      "INFO:impyla_service:Connection is closed.\n",
      "INFO:ailab_tools.utils.slack:loaded configuration file: /opt/anaconda3/lib/python3.7/site-packages/ailab_tools/config/ailab_tools_config.py\n",
      "INFO:ailab_tools.utils.slack:Slack: Posted a message to Slack.\n"
     ]
    }
   ],
   "source": [
    "%%slack_notify @yusuke_akada\n",
    "#XD拡張\n",
    "\n",
    "xd = 'pc'\n",
    "\n",
    "uid_table = f\"dm_tmp.ya_xd_{xd}_advid_{advertiser_id}_{grp}_{conversion_group_id}_{today_yymmdd}\"\n",
    "\n",
    "#f-string\n",
    "query = (\n",
    "    f\"\"\"\n",
    "    select \n",
    "    distinct xd2.smn_uid\n",
    "    from {seed_table} sd\n",
    "    left join {xd_table} xd\n",
    "    on sd.smn_uid = xd.smn_uid\n",
    "    left join {xd_table} xd2\n",
    "    on xd.drawbridge_consumer_id = xd2.drawbridge_consumer_id\n",
    "    where xd2.device not in {xd_sp_device}  \n",
    "    \"\"\"\n",
    "    )\n",
    "with ImpalaResource(hosts=[\"172.16.60.109\"], port=21050, user='vmspool',\n",
    "                    request_pool='vmspool', httpfs_host='hc3manager02.hc3pro', httpfs_port=14000) as ir:\n",
    "    df_fix = ir.sql_to_pandas(query)\n",
    "    #ImpalaにUp\n",
    "    #ir.upload_dataframe(uid_table, df_fix, ['bigint']) #Impala upは不要かも\n",
    "    #テーブル削除\n",
    "    ir.drop_tables([seed_table])\n",
    "    \n",
    "df_fix.to_csv(f'{uid_table}.tsv', sep='\\t', index=False, header=False)"
   ]
  },
  {
   "cell_type": "code",
   "execution_count": 71,
   "metadata": {},
   "outputs": [
    {
     "data": {
      "text/plain": [
       "12915"
      ]
     },
     "execution_count": 71,
     "metadata": {},
     "output_type": "execute_result"
    }
   ],
   "source": [
    "df_fix.shape[0]"
   ]
  },
  {
   "cell_type": "code",
   "execution_count": null,
   "metadata": {},
   "outputs": [],
   "source": []
  },
  {
   "cell_type": "markdown",
   "metadata": {},
   "source": [
    "SPユーザーをPCにクロスデバイスし、これを種にV拡張"
   ]
  },
  {
   "cell_type": "markdown",
   "metadata": {},
   "source": [
    "%%slack_notify @yusuke_akada\n",
    "\n",
    "sd = 'sp'\n",
    "\n",
    "#f-string\n",
    "query = (\n",
    "    f\"\"\"\n",
    "    select\n",
    "    distinct smn_uid\n",
    "    ,advertiser_id\n",
    "    ,case when user_agent_os_family in ('iOS','Android') then 'SP' ELSE 'PC' END as device\n",
    "    ,conversion_group_id\n",
    "    FROM\n",
    "    dsplog.adserver\n",
    "    WHERE\n",
    "    concat_ws('-',year,month,day) between to_date(days_add(now(),-30)) and to_date(days_add(now(),-1))\n",
    "    and conversion_group_id = {conversion_group_id}\n",
    "    and advertiser_id = {advertiser_id}\n",
    "    and user_agent_os_family in {seed_sp_device}\n",
    "    and smn_uid is not null\n",
    "    \"\"\"\n",
    "    )\n",
    "\n",
    "with ImpalaResource(hosts=[\"172.16.60.109\"], port=21050, user='vmspool',\n",
    "                    request_pool='vmspool', httpfs_host='hc3manager02.hc3pro', httpfs_port=14000) as ir:\n",
    "        df = ir.sql_to_pandas(query)\n",
    "        ir.upload_dataframe(f\"dm_tmp.ya_seed_{sd}_advid_{advertiser_id}_cvg_{conversion_group_id}_{today_yymmdd}\", df, ['bigint','bigint','string','bigint'])\n",
    "        \n",
    "\n",
    "seed_table = f\"dm_tmp.ya_seed_{sd}_advid_{advertiser_id}_{grp}_{conversion_group_id}_{today_yymmdd}\"\n",
    "\n",
    "df_seed = df.drop(['conversion_group_id','device', 'advertiser_id'], axis=1)\n",
    "df_seed.to_csv(f'{seed_table}.tsv', sep='\\t', index=False, header=False)"
   ]
  },
  {
   "cell_type": "markdown",
   "metadata": {},
   "source": [
    "df.shape[0]"
   ]
  },
  {
   "cell_type": "markdown",
   "metadata": {},
   "source": [
    "df.head()"
   ]
  },
  {
   "cell_type": "markdown",
   "metadata": {},
   "source": [
    "%%slack_notify @yusuke_akada\n",
    "#XD拡張\n",
    "\n",
    "xd = 'pc'\n",
    "\n",
    "uid_table = f\"dm_tmp.ya_xd_{xd}_advid_{advertiser_id}_{grp}_{conversion_group_id}_{today_yymmdd}\"\n",
    "\n",
    "#f-string\n",
    "query = (\n",
    "    f\"\"\"\n",
    "    select \n",
    "    distinct xd2.smn_uid\n",
    "    from {seed_table} sd\n",
    "    left join {xd_table} xd\n",
    "    on sd.smn_uid = xd.smn_uid\n",
    "    left join {xd_table} xd2\n",
    "    on xd.drawbridge_consumer_id = xd2.drawbridge_consumer_id\n",
    "    where xd2.device not in {xd_sp_device}  \n",
    "    \"\"\"\n",
    "    )\n",
    "with ImpalaResource(hosts=[\"172.16.60.109\"], port=21050, user='vmspool',\n",
    "                    request_pool='vmspool', httpfs_host='hc3manager02.hc3pro', httpfs_port=14000) as ir:\n",
    "    df_fix = ir.sql_to_pandas(query)\n",
    "    #ImpalaにUp\n",
    "    #ir.upload_dataframe(uid_table, df_fix, ['bigint']) #Impala upは不要かも\n",
    "    #テーブル削除\n",
    "    ir.drop_tables([seed_table])\n",
    "    \n",
    "df_fix.to_csv(f'{uid_table}.tsv', sep='\\t', index=False)"
   ]
  },
  {
   "cell_type": "markdown",
   "metadata": {},
   "source": [
    "df_fix.shape[0]"
   ]
  },
  {
   "cell_type": "code",
   "execution_count": null,
   "metadata": {},
   "outputs": [],
   "source": []
  },
  {
   "cell_type": "code",
   "execution_count": null,
   "metadata": {},
   "outputs": [],
   "source": []
  }
 ],
 "metadata": {
  "kernelspec": {
   "display_name": "Python 3",
   "language": "python",
   "name": "python3"
  },
  "language_info": {
   "codemirror_mode": {
    "name": "ipython",
    "version": 3
   },
   "file_extension": ".py",
   "mimetype": "text/x-python",
   "name": "python",
   "nbconvert_exporter": "python",
   "pygments_lexer": "ipython3",
   "version": "3.7.2"
  }
 },
 "nbformat": 4,
 "nbformat_minor": 2
}
