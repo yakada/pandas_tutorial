{
 "cells": [
  {
   "cell_type": "markdown",
   "metadata": {},
   "source": [
    "クロスデバイス　DandMとの併用"
   ]
  },
  {
   "cell_type": "code",
   "execution_count": 26,
   "metadata": {},
   "outputs": [],
   "source": [
    "# ライブラリimport\n",
    "import argparse\n",
    "import logging\n",
    "import os\n",
    "\n",
    "import pandas as pd\n",
    "from pandas import DataFrame\n",
    "import pandas.tseries.offsets as offsets\n",
    "import numpy as np\n",
    "from datetime import date, timedelta, time, datetime\n",
    "from tabulate import tabulate\n",
    "\n",
    "from itertools import product\n",
    "\n",
    "from ailab_tools.smn import ImpalaResource\n",
    "from ailab_tools.utils import GMail, GSheet\n",
    "\n",
    "from collections import OrderedDict\n",
    "\n",
    "import zipfile\n",
    "import glob\n",
    "\n",
    "import gc\n",
    "\n",
    "from ailab_tools.magics import slack_notify"
   ]
  },
  {
   "cell_type": "markdown",
   "metadata": {},
   "source": [
    "5331\t東芝ライフスタイル株式会社"
   ]
  },
  {
   "cell_type": "code",
   "execution_count": 28,
   "metadata": {},
   "outputs": [
    {
     "name": "stdout",
     "output_type": "stream",
     "text": [
      "190527\n"
     ]
    }
   ],
   "source": [
    "today_yymmdd = date.today().strftime(\"%y%m%d\")\n",
    "print(today_yymmdd)"
   ]
  },
  {
   "cell_type": "code",
   "execution_count": 29,
   "metadata": {},
   "outputs": [
    {
     "name": "stdout",
     "output_type": "stream",
     "text": [
      "segment.xd_dm0094\n"
     ]
    }
   ],
   "source": [
    "seed_table = 'segment.d_and_m_segment'\n",
    "xd_table = 'segment.drawbridge_device'\n",
    "segment_id = \"dm0094\" #dm0094_正規雇用ユーザー\n",
    "uid_table = f\"segment.xd_{segment_id}\"\n",
    "print(uid_table)\n",
    "#イレギュラーな作り方として、既にあるセグメントから一部ユーザーを除外して作成する"
   ]
  },
  {
   "cell_type": "code",
   "execution_count": 30,
   "metadata": {},
   "outputs": [
    {
     "name": "stdout",
     "output_type": "stream",
     "text": [
      "dm_tmp.dm0094_tmp\n"
     ]
    }
   ],
   "source": [
    "#一旦、DMセグメントを組み合わせた合成セグメントの中間テーブルを作成する、すぐ消す\n",
    "tmp_table = \"dm_tmp.dm0094_tmp\"\n",
    "print(tmp_table)"
   ]
  },
  {
   "cell_type": "code",
   "execution_count": 34,
   "metadata": {},
   "outputs": [
    {
     "name": "stderr",
     "output_type": "stream",
     "text": [
      "INFO:ailab_tools.smn.impala_client:loaded configuration file: /opt/anaconda3/lib/python3.7/site-packages/ailab_tools/config/ailab_tools_config.py\n",
      "INFO:ailab_tools.smn.impala_client:hosts : ['172.16.60.109']\n",
      "INFO:ailab_tools.smn.impala_client:impala_host : 172.16.60.109\n",
      "INFO:ailab_tools.smn.impala_client:impala_port : 21050\n",
      "INFO:ailab_tools.smn.impala_client:impala_user : vmspool\n",
      "INFO:ailab_tools.smn.impala_client:impala_password : \n",
      "INFO:ailab_tools.smn.impala_client:request_pool : vmspool\n",
      "INFO:ailab_tools.smn.impala_client:configuration : {'REQUEST_POOL': 'vmspool'}\n",
      "INFO:ailab_tools.smn.impala_resource:loaded configuration file: /opt/anaconda3/lib/python3.7/site-packages/ailab_tools/config/ailab_tools_config.py\n",
      "INFO:ailab_tools.smn.impala_resource:httpfs_host: hc3manager02.hc3pro\n",
      "INFO:ailab_tools.smn.impala_resource:httpfs_port: 14000\n",
      "INFO:impyla_service:Impala open connection OK. hostname = [172.16.60.109]\n",
      "INFO:impyla_service:New connection is opened.\n",
      "INFO:impyla_service:実行SQL: \n",
      "    select \n",
      "    distinct smn_uid\n",
      "    from segment.d_and_m_segment\n",
      "    where \n",
      "    segment_id= \"dm0023\"\n",
      "    and smn_uid not in (select smn_uid from segment.d_and_m_segment where segment_id in (\"dm0009\",\"dm0044\",\"dm0069\"))\n",
      "    \n",
      "INFO:impala.hiveserver2:Closing active operation\n",
      "INFO:impyla_service:Create empty table dm_tmp.dm0094_tmp\n",
      "INFO:impyla_service:実行SQL: \n",
      "            create table dm_tmp.dm0094_tmp\n",
      "            (smn_uid bigint)\n",
      "            \n",
      "            row format delimited fields terminated by \"\\t\"\n",
      "            lines terminated by \"\\n\"\n",
      "            \n",
      "INFO:impala.hiveserver2:Closing active operation\n",
      "INFO:impyla_service:Query finished\n",
      "INFO:hdfs.client:Instantiated <InsecureClient(url='http://hc3manager02.hc3pro:14000')>.\n",
      "INFO:hdfs.client:Uploading '/home/yusuke_akada/notebook/Yusuke_Akada_Jupyter_Notebook/585047f2-5c00-4e0f-95a7-97ed43e735a6.tsv' to '/user/hive/warehouse/dm_tmp.db/dm0094_tmp'.\n",
      "INFO:hdfs.client:Listing '/user/hive/warehouse/dm_tmp.db/dm0094_tmp'.\n",
      "INFO:hdfs.client:Writing to '/user/hive/warehouse/dm_tmp.db/dm0094_tmp/585047f2-5c00-4e0f-95a7-97ed43e735a6.tsv'.\n",
      "INFO:impyla_service:実行SQL: refresh dm_tmp.dm0094_tmp\n",
      "INFO:impala.hiveserver2:Closing active operation\n",
      "INFO:impyla_service:Connection is closed.\n",
      "INFO:ailab_tools.utils.slack:loaded configuration file: /opt/anaconda3/lib/python3.7/site-packages/ailab_tools/config/ailab_tools_config.py\n",
      "INFO:ailab_tools.utils.slack:Slack: Posted a message to Slack.\n"
     ]
    }
   ],
   "source": [
    "%%slack_notify @yusuke_akada\n",
    "#XD拡張\n",
    "\n",
    "#f-string\n",
    "query = (\n",
    "    f\"\"\"\n",
    "    select \n",
    "    distinct smn_uid\n",
    "    from segment.d_and_m_segment\n",
    "    where \n",
    "    segment_id= \"dm0023\"\n",
    "    and smn_uid not in (select smn_uid from segment.d_and_m_segment where segment_id in (\"dm0009\",\"dm0044\",\"dm0069\"))\n",
    "    \"\"\"\n",
    "    )\n",
    "with ImpalaResource(hosts=[\"172.16.60.109\"], port=21050, user='vmspool',\n",
    "                    request_pool='vmspool', httpfs_host='hc3manager02.hc3pro', httpfs_port=14000) as ir:\n",
    "    df_tmp = ir.sql_to_pandas(query)\n",
    "    ir.upload_dataframe(tmp_table, df_tmp, ['bigint'])"
   ]
  },
  {
   "cell_type": "code",
   "execution_count": 35,
   "metadata": {},
   "outputs": [
    {
     "data": {
      "text/plain": [
       "2374002"
      ]
     },
     "execution_count": 35,
     "metadata": {},
     "output_type": "execute_result"
    }
   ],
   "source": [
    "df_tmp.shape[0]"
   ]
  },
  {
   "cell_type": "code",
   "execution_count": null,
   "metadata": {},
   "outputs": [],
   "source": []
  },
  {
   "cell_type": "code",
   "execution_count": null,
   "metadata": {},
   "outputs": [],
   "source": []
  },
  {
   "cell_type": "code",
   "execution_count": 36,
   "metadata": {},
   "outputs": [
    {
     "name": "stdout",
     "output_type": "stream",
     "text": [
      "segment.xd_dm0094\n"
     ]
    }
   ],
   "source": [
    "seed_table = 'segment.d_and_m_segment'\n",
    "xd_table = 'segment.drawbridge_device'\n",
    "segment_id = \"dm0094\" #dm0094_正規雇用ユーザー\n",
    "uid_table = f\"segment.xd_{segment_id}\"\n",
    "print(uid_table)"
   ]
  },
  {
   "cell_type": "code",
   "execution_count": 37,
   "metadata": {},
   "outputs": [
    {
     "name": "stderr",
     "output_type": "stream",
     "text": [
      "INFO:ailab_tools.smn.impala_client:loaded configuration file: /opt/anaconda3/lib/python3.7/site-packages/ailab_tools/config/ailab_tools_config.py\n",
      "INFO:ailab_tools.smn.impala_client:hosts : ['172.16.60.109']\n",
      "INFO:ailab_tools.smn.impala_client:impala_host : 172.16.60.109\n",
      "INFO:ailab_tools.smn.impala_client:impala_port : 21050\n",
      "INFO:ailab_tools.smn.impala_client:impala_user : vmspool\n",
      "INFO:ailab_tools.smn.impala_client:impala_password : \n",
      "INFO:ailab_tools.smn.impala_client:request_pool : vmspool\n",
      "INFO:ailab_tools.smn.impala_client:configuration : {'REQUEST_POOL': 'vmspool'}\n",
      "INFO:ailab_tools.smn.impala_resource:loaded configuration file: /opt/anaconda3/lib/python3.7/site-packages/ailab_tools/config/ailab_tools_config.py\n",
      "INFO:ailab_tools.smn.impala_resource:httpfs_host: hc3manager02.hc3pro\n",
      "INFO:ailab_tools.smn.impala_resource:httpfs_port: 14000\n",
      "INFO:impyla_service:Impala open connection OK. hostname = [172.16.60.109]\n",
      "INFO:impyla_service:New connection is opened.\n",
      "INFO:impyla_service:実行SQL: \n",
      "    select \n",
      "    distinct xd2.smn_uid\n",
      "    from dm_tmp.dm0094_tmp sd\n",
      "    left join segment.drawbridge_device xd\n",
      "    on sd.smn_uid = xd.smn_uid\n",
      "    left join segment.drawbridge_device xd2\n",
      "    on xd.drawbridge_consumer_id = xd2.drawbridge_consumer_id\n",
      "    where xd2.device in ('iphone'\n",
      "    ,'android_phone'\n",
      "    ,'windows_phone'\n",
      "    ,'windows_computer'\n",
      "    ,'linux_computer'\n",
      "    ,'mac'\n",
      "    ,'ipad'\n",
      "    ,'android_tablet'\n",
      "    ,'windows_tablet') \n",
      "    and sd.smn_uid <> xd2.smn_uid\n",
      "    \n",
      "INFO:impala.hiveserver2:Closing active operation\n",
      "INFO:impyla_service:Create empty table segment.xd_dm0094\n",
      "INFO:impyla_service:実行SQL: \n",
      "            create table segment.xd_dm0094\n",
      "            (smn_uid bigint)\n",
      "            \n",
      "            row format delimited fields terminated by \"\\t\"\n",
      "            lines terminated by \"\\n\"\n",
      "            \n",
      "INFO:impala.hiveserver2:Closing active operation\n",
      "INFO:impyla_service:Query finished\n",
      "INFO:hdfs.client:Instantiated <InsecureClient(url='http://hc3manager02.hc3pro:14000')>.\n",
      "INFO:hdfs.client:Uploading '/home/yusuke_akada/notebook/Yusuke_Akada_Jupyter_Notebook/cf218659-b55b-4441-9758-3e70042a728b.tsv' to '/user/hive/warehouse/segment.db/xd_dm0094'.\n",
      "INFO:hdfs.client:Listing '/user/hive/warehouse/segment.db/xd_dm0094'.\n",
      "INFO:hdfs.client:Writing to '/user/hive/warehouse/segment.db/xd_dm0094/cf218659-b55b-4441-9758-3e70042a728b.tsv'.\n",
      "INFO:impyla_service:実行SQL: refresh segment.xd_dm0094\n",
      "INFO:impala.hiveserver2:Closing active operation\n",
      "INFO:impyla_service:Connection is closed.\n",
      "INFO:ailab_tools.utils.slack:loaded configuration file: /opt/anaconda3/lib/python3.7/site-packages/ailab_tools/config/ailab_tools_config.py\n",
      "INFO:ailab_tools.utils.slack:Slack: Posted a message to Slack.\n"
     ]
    }
   ],
   "source": [
    "%%slack_notify @yusuke_akada\n",
    "#XD拡張\n",
    "\n",
    "#f-string\n",
    "query = (\n",
    "    f\"\"\"\n",
    "    select \n",
    "    distinct xd2.smn_uid\n",
    "    from {tmp_table} sd\n",
    "    left join {xd_table} xd\n",
    "    on sd.smn_uid = xd.smn_uid\n",
    "    left join {xd_table} xd2\n",
    "    on xd.drawbridge_consumer_id = xd2.drawbridge_consumer_id\n",
    "    where xd2.device in ('iphone'\n",
    "    ,'android_phone'\n",
    "    ,'windows_phone'\n",
    "    ,'windows_computer'\n",
    "    ,'linux_computer'\n",
    "    ,'mac'\n",
    "    ,'ipad'\n",
    "    ,'android_tablet'\n",
    "    ,'windows_tablet') \n",
    "    and sd.smn_uid <> xd2.smn_uid\n",
    "    \"\"\"\n",
    "    )\n",
    "with ImpalaResource(hosts=[\"172.16.60.109\"], port=21050, user='vmspool',\n",
    "                    request_pool='vmspool', httpfs_host='hc3manager02.hc3pro', httpfs_port=14000) as ir:\n",
    "    df_fix = ir.sql_to_pandas(query)\n",
    "    ir.upload_dataframe(uid_table, df_fix, ['bigint'])"
   ]
  },
  {
   "cell_type": "code",
   "execution_count": 38,
   "metadata": {},
   "outputs": [
    {
     "data": {
      "text/plain": [
       "2581197"
      ]
     },
     "execution_count": 38,
     "metadata": {},
     "output_type": "execute_result"
    }
   ],
   "source": [
    "df_fix.shape[0]"
   ]
  },
  {
   "cell_type": "code",
   "execution_count": 42,
   "metadata": {},
   "outputs": [
    {
     "name": "stderr",
     "output_type": "stream",
     "text": [
      "INFO:ailab_tools.smn.impala_client:loaded configuration file: /opt/anaconda3/lib/python3.7/site-packages/ailab_tools/config/ailab_tools_config.py\n",
      "INFO:ailab_tools.smn.impala_client:hosts : ['172.16.60.109']\n",
      "INFO:ailab_tools.smn.impala_client:impala_host : 172.16.60.109\n",
      "INFO:ailab_tools.smn.impala_client:impala_port : 21050\n",
      "INFO:ailab_tools.smn.impala_client:impala_user : vmspool\n",
      "INFO:ailab_tools.smn.impala_client:impala_password : \n",
      "INFO:ailab_tools.smn.impala_client:request_pool : vmspool\n",
      "INFO:ailab_tools.smn.impala_client:configuration : {'REQUEST_POOL': 'vmspool'}\n",
      "INFO:ailab_tools.smn.impala_resource:loaded configuration file: /opt/anaconda3/lib/python3.7/site-packages/ailab_tools/config/ailab_tools_config.py\n",
      "INFO:ailab_tools.smn.impala_resource:httpfs_host: hc3manager02.hc3pro\n",
      "INFO:ailab_tools.smn.impala_resource:httpfs_port: 14000\n",
      "INFO:impyla_service:Impala open connection OK. hostname = [172.16.60.109]\n",
      "INFO:impyla_service:New connection is opened.\n",
      "INFO:impyla_service:Dropping table: dm_tmp.dm0094_tmp\n",
      "INFO:impyla_service:実行SQL: drop table if exists dm_tmp.dm0094_tmp purge\n",
      "INFO:impala.hiveserver2:Closing active operation\n",
      "INFO:impyla_service:Connection is closed.\n"
     ]
    }
   ],
   "source": [
    "#過去に作ったものを削除\n",
    "tables = [\"dm_tmp.dm0094_tmp\"]\n",
    "with ImpalaResource(hosts=[\"172.16.60.109\"], port=21050, user='vmspool',\n",
    "                    request_pool='vmspool', httpfs_host='hc3manager02.hc3pro', httpfs_port=14000) as ir:\n",
    "    ir.drop_tables(tables)"
   ]
  },
  {
   "cell_type": "code",
   "execution_count": null,
   "metadata": {},
   "outputs": [],
   "source": []
  }
 ],
 "metadata": {
  "kernelspec": {
   "display_name": "Python 3",
   "language": "python",
   "name": "python3"
  },
  "language_info": {
   "codemirror_mode": {
    "name": "ipython",
    "version": 3
   },
   "file_extension": ".py",
   "mimetype": "text/x-python",
   "name": "python",
   "nbconvert_exporter": "python",
   "pygments_lexer": "ipython3",
   "version": "3.7.4"
  }
 },
 "nbformat": 4,
 "nbformat_minor": 2
}
