{
 "cells": [
  {
   "cell_type": "code",
   "execution_count": 2,
   "metadata": {},
   "outputs": [
    {
     "name": "stdout",
     "output_type": "stream",
     "text": [
      "Collecting pandasql\n",
      "  Downloading pandasql-0.7.3.tar.gz (26 kB)\n",
      "Requirement already satisfied, skipping upgrade: numpy in c:\\users\\crie072\\anaconda3\\lib\\site-packages (from pandasql) (1.18.1)\n",
      "Requirement already satisfied, skipping upgrade: pandas in c:\\users\\crie072\\anaconda3\\lib\\site-packages (from pandasql) (1.0.1)\n",
      "Requirement already satisfied, skipping upgrade: sqlalchemy in c:\\users\\crie072\\anaconda3\\lib\\site-packages (from pandasql) (1.3.13)\n",
      "Requirement already satisfied, skipping upgrade: pytz>=2017.2 in c:\\users\\crie072\\anaconda3\\lib\\site-packages (from pandas->pandasql) (2019.3)\n",
      "Requirement already satisfied, skipping upgrade: python-dateutil>=2.6.1 in c:\\users\\crie072\\anaconda3\\lib\\site-packages (from pandas->pandasql) (2.8.1)\n",
      "Requirement already satisfied, skipping upgrade: six>=1.5 in c:\\users\\crie072\\anaconda3\\lib\\site-packages (from python-dateutil>=2.6.1->pandas->pandasql) (1.14.0)\n",
      "Building wheels for collected packages: pandasql\n",
      "  Building wheel for pandasql (setup.py): started\n",
      "  Building wheel for pandasql (setup.py): finished with status 'done'\n",
      "  Created wheel for pandasql: filename=pandasql-0.7.3-py3-none-any.whl size=26822 sha256=998195da7066651193c54425717647bd669e29d39c72748a1dfc7dbe9792db33\n",
      "  Stored in directory: c:\\users\\crie072\\appdata\\local\\pip\\cache\\wheels\\5c\\4b\\ec\\41f4e116c8053c3654e2c2a47c62b4fca34cc67ef7b55deb7f\n",
      "Successfully built pandasql\n",
      "Installing collected packages: pandasql\n",
      "Successfully installed pandasql-0.7.3\n",
      "Note: you may need to restart the kernel to use updated packages.\n"
     ]
    }
   ],
   "source": [
    "pip install -U pandasql"
   ]
  },
  {
   "cell_type": "code",
   "execution_count": 3,
   "metadata": {},
   "outputs": [],
   "source": [
    "import pandas as pd\n",
    "import numpy as np\n",
    "from pathlib import Path\n",
    "import csv\n",
    "import xlrd\n",
    "import io\n",
    "from zipfile import ZipFile\n",
    "from datetime import date, timedelta, time, datetime\n",
    "\n",
    "from pandasql import sqldf"
   ]
  },
  {
   "cell_type": "code",
   "execution_count": 4,
   "metadata": {},
   "outputs": [
    {
     "name": "stdout",
     "output_type": "stream",
     "text": [
      "20200810\n"
     ]
    }
   ],
   "source": [
    "today_yyyymmdd = date.today().strftime(\"%Y%m%d\")\n",
    "print(today_yyyymmdd)"
   ]
  },
  {
   "cell_type": "code",
   "execution_count": 5,
   "metadata": {},
   "outputs": [],
   "source": [
    "#pandasの表示列数を増やす\n",
    "import pandas as pd\n",
    "pd.set_option('display.max_columns', 100)"
   ]
  },
  {
   "cell_type": "code",
   "execution_count": 170,
   "metadata": {},
   "outputs": [
    {
     "name": "stdout",
     "output_type": "stream",
     "text": [
      "NEW_CUST_Vintage.csv\n",
      "URI_Vintage.csv\n",
      "集計_新規Vintage\n"
     ]
    }
   ],
   "source": [
    "data_dir = Path(r\"C:\\Users\\crie072\\Documents\\01_データ関連\\Adhoc\\202008_新規Vintage\")\n",
    "\n",
    "#input\n",
    "new_cust = \"NEW_CUST_Vintage.csv\"\n",
    "uri = \"URI_Vintage.csv\"\n",
    "\n",
    "#out_put\n",
    "result = \"集計_新規Vintage\"\n",
    "\n",
    "print(new_cust)\n",
    "print(uri)\n",
    "print(result)"
   ]
  },
  {
   "cell_type": "markdown",
   "metadata": {},
   "source": [
    "新規Vintage CUSTデータの読込＆集計"
   ]
  },
  {
   "cell_type": "code",
   "execution_count": 179,
   "metadata": {},
   "outputs": [
    {
     "data": {
      "text/html": [
       "<div>\n",
       "<style scoped>\n",
       "    .dataframe tbody tr th:only-of-type {\n",
       "        vertical-align: middle;\n",
       "    }\n",
       "\n",
       "    .dataframe tbody tr th {\n",
       "        vertical-align: top;\n",
       "    }\n",
       "\n",
       "    .dataframe thead th {\n",
       "        text-align: right;\n",
       "    }\n",
       "</style>\n",
       "<table border=\"1\" class=\"dataframe\">\n",
       "  <thead>\n",
       "    <tr style=\"text-align: right;\">\n",
       "      <th></th>\n",
       "      <th>cp</th>\n",
       "      <th>year</th>\n",
       "      <th>month</th>\n",
       "      <th>kanyu_yymm</th>\n",
       "      <th>card</th>\n",
       "      <th>channel</th>\n",
       "      <th>mob</th>\n",
       "      <th>kzk_f</th>\n",
       "      <th>no_of_new_account</th>\n",
       "      <th>cancel</th>\n",
       "      <th>no_of_account</th>\n",
       "    </tr>\n",
       "  </thead>\n",
       "  <tbody>\n",
       "    <tr>\n",
       "      <th>0</th>\n",
       "      <td>20200331</td>\n",
       "      <td>2020</td>\n",
       "      <td>3</td>\n",
       "      <td>201803</td>\n",
       "      <td>ゴールド</td>\n",
       "      <td>オンライン</td>\n",
       "      <td>24</td>\n",
       "      <td>0</td>\n",
       "      <td>0</td>\n",
       "      <td>1</td>\n",
       "      <td>11</td>\n",
       "    </tr>\n",
       "    <tr>\n",
       "      <th>1</th>\n",
       "      <td>20200331</td>\n",
       "      <td>2020</td>\n",
       "      <td>3</td>\n",
       "      <td>201803</td>\n",
       "      <td>ゴールド</td>\n",
       "      <td>オンライン</td>\n",
       "      <td>24</td>\n",
       "      <td>1</td>\n",
       "      <td>0</td>\n",
       "      <td>0</td>\n",
       "      <td>9</td>\n",
       "    </tr>\n",
       "    <tr>\n",
       "      <th>2</th>\n",
       "      <td>20200331</td>\n",
       "      <td>2020</td>\n",
       "      <td>3</td>\n",
       "      <td>201803</td>\n",
       "      <td>ゴールド</td>\n",
       "      <td>店頭タブレット</td>\n",
       "      <td>24</td>\n",
       "      <td>0</td>\n",
       "      <td>0</td>\n",
       "      <td>1</td>\n",
       "      <td>136</td>\n",
       "    </tr>\n",
       "    <tr>\n",
       "      <th>3</th>\n",
       "      <td>20200331</td>\n",
       "      <td>2020</td>\n",
       "      <td>3</td>\n",
       "      <td>201803</td>\n",
       "      <td>ゴールド</td>\n",
       "      <td>店頭タブレット</td>\n",
       "      <td>24</td>\n",
       "      <td>1</td>\n",
       "      <td>0</td>\n",
       "      <td>0</td>\n",
       "      <td>47</td>\n",
       "    </tr>\n",
       "    <tr>\n",
       "      <th>4</th>\n",
       "      <td>20200331</td>\n",
       "      <td>2020</td>\n",
       "      <td>3</td>\n",
       "      <td>201803</td>\n",
       "      <td>ゴールド</td>\n",
       "      <td>郵送</td>\n",
       "      <td>24</td>\n",
       "      <td>0</td>\n",
       "      <td>0</td>\n",
       "      <td>6</td>\n",
       "      <td>128</td>\n",
       "    </tr>\n",
       "  </tbody>\n",
       "</table>\n",
       "</div>"
      ],
      "text/plain": [
       "         cp  year  month  kanyu_yymm  card  channel  mob  kzk_f  \\\n",
       "0  20200331  2020      3      201803  ゴールド    オンライン   24      0   \n",
       "1  20200331  2020      3      201803  ゴールド    オンライン   24      1   \n",
       "2  20200331  2020      3      201803  ゴールド  店頭タブレット   24      0   \n",
       "3  20200331  2020      3      201803  ゴールド  店頭タブレット   24      1   \n",
       "4  20200331  2020      3      201803  ゴールド       郵送   24      0   \n",
       "\n",
       "   no_of_new_account  cancel  no_of_account  \n",
       "0                  0       1             11  \n",
       "1                  0       0              9  \n",
       "2                  0       1            136  \n",
       "3                  0       0             47  \n",
       "4                  0       6            128  "
      ]
     },
     "execution_count": 179,
     "metadata": {},
     "output_type": "execute_result"
    }
   ],
   "source": [
    "df = pd.read_csv(data_dir /f\"{new_cust}\",encoding='shift-jis')\n",
    "df.head()"
   ]
  },
  {
   "cell_type": "code",
   "execution_count": 180,
   "metadata": {
    "scrolled": true
   },
   "outputs": [
    {
     "name": "stdout",
     "output_type": "stream",
     "text": [
      "(1092, 11)\n",
      "RangeIndex(start=0, stop=1092, step=1)\n",
      "Index(['cp', 'year', 'month', 'kanyu_yymm', 'card', 'channel', 'mob', 'kzk_f',\n",
      "       'no_of_new_account', 'cancel', 'no_of_account'],\n",
      "      dtype='object')\n",
      "cp                    int64\n",
      "year                  int64\n",
      "month                 int64\n",
      "kanyu_yymm            int64\n",
      "card                 object\n",
      "channel              object\n",
      "mob                   int64\n",
      "kzk_f                 int64\n",
      "no_of_new_account     int64\n",
      "cancel                int64\n",
      "no_of_account         int64\n",
      "dtype: object\n"
     ]
    }
   ],
   "source": [
    "print(df.shape)\n",
    "print(df.index)\n",
    "print(df.columns)\n",
    "print(df.dtypes)"
   ]
  },
  {
   "cell_type": "code",
   "execution_count": 181,
   "metadata": {},
   "outputs": [],
   "source": [
    "df['cp']=pd.to_datetime(df['cp'], format='%Y%m%d')\n",
    "df['kanyu_yymmdd'] = df['kanyu_yymm']*100+1\n",
    "df['kanyu_yymmdd'] = pd.to_datetime(df['kanyu_yymmdd'], format='%Y%m%d')"
   ]
  },
  {
   "cell_type": "code",
   "execution_count": 174,
   "metadata": {
    "scrolled": true
   },
   "outputs": [
    {
     "data": {
      "text/html": [
       "<div>\n",
       "<style scoped>\n",
       "    .dataframe tbody tr th:only-of-type {\n",
       "        vertical-align: middle;\n",
       "    }\n",
       "\n",
       "    .dataframe tbody tr th {\n",
       "        vertical-align: top;\n",
       "    }\n",
       "\n",
       "    .dataframe thead th {\n",
       "        text-align: right;\n",
       "    }\n",
       "</style>\n",
       "<table border=\"1\" class=\"dataframe\">\n",
       "  <thead>\n",
       "    <tr style=\"text-align: right;\">\n",
       "      <th></th>\n",
       "      <th>cp</th>\n",
       "      <th>year</th>\n",
       "      <th>month</th>\n",
       "      <th>kanyu_yymm</th>\n",
       "      <th>card</th>\n",
       "      <th>channel</th>\n",
       "      <th>mob</th>\n",
       "      <th>kzk_f</th>\n",
       "      <th>no_of_new_account</th>\n",
       "      <th>ttt</th>\n",
       "      <th>no_of_account</th>\n",
       "      <th>kanyu_yymmdd</th>\n",
       "    </tr>\n",
       "  </thead>\n",
       "  <tbody>\n",
       "    <tr>\n",
       "      <th>0</th>\n",
       "      <td>2020-03-31</td>\n",
       "      <td>2020</td>\n",
       "      <td>3</td>\n",
       "      <td>201803</td>\n",
       "      <td>ゴールド</td>\n",
       "      <td>オンライン</td>\n",
       "      <td>24</td>\n",
       "      <td>0</td>\n",
       "      <td>0</td>\n",
       "      <td>1</td>\n",
       "      <td>11</td>\n",
       "      <td>2018-03-01</td>\n",
       "    </tr>\n",
       "    <tr>\n",
       "      <th>1</th>\n",
       "      <td>2020-03-31</td>\n",
       "      <td>2020</td>\n",
       "      <td>3</td>\n",
       "      <td>201803</td>\n",
       "      <td>ゴールド</td>\n",
       "      <td>オンライン</td>\n",
       "      <td>24</td>\n",
       "      <td>1</td>\n",
       "      <td>0</td>\n",
       "      <td>0</td>\n",
       "      <td>9</td>\n",
       "      <td>2018-03-01</td>\n",
       "    </tr>\n",
       "    <tr>\n",
       "      <th>2</th>\n",
       "      <td>2020-03-31</td>\n",
       "      <td>2020</td>\n",
       "      <td>3</td>\n",
       "      <td>201803</td>\n",
       "      <td>ゴールド</td>\n",
       "      <td>店頭タブレット</td>\n",
       "      <td>24</td>\n",
       "      <td>0</td>\n",
       "      <td>0</td>\n",
       "      <td>1</td>\n",
       "      <td>136</td>\n",
       "      <td>2018-03-01</td>\n",
       "    </tr>\n",
       "    <tr>\n",
       "      <th>3</th>\n",
       "      <td>2020-03-31</td>\n",
       "      <td>2020</td>\n",
       "      <td>3</td>\n",
       "      <td>201803</td>\n",
       "      <td>ゴールド</td>\n",
       "      <td>店頭タブレット</td>\n",
       "      <td>24</td>\n",
       "      <td>1</td>\n",
       "      <td>0</td>\n",
       "      <td>0</td>\n",
       "      <td>47</td>\n",
       "      <td>2018-03-01</td>\n",
       "    </tr>\n",
       "    <tr>\n",
       "      <th>4</th>\n",
       "      <td>2020-03-31</td>\n",
       "      <td>2020</td>\n",
       "      <td>3</td>\n",
       "      <td>201803</td>\n",
       "      <td>ゴールド</td>\n",
       "      <td>郵送</td>\n",
       "      <td>24</td>\n",
       "      <td>0</td>\n",
       "      <td>0</td>\n",
       "      <td>6</td>\n",
       "      <td>128</td>\n",
       "      <td>2018-03-01</td>\n",
       "    </tr>\n",
       "  </tbody>\n",
       "</table>\n",
       "</div>"
      ],
      "text/plain": [
       "          cp  year  month  kanyu_yymm  card  channel  mob  kzk_f  \\\n",
       "0 2020-03-31  2020      3      201803  ゴールド    オンライン   24      0   \n",
       "1 2020-03-31  2020      3      201803  ゴールド    オンライン   24      1   \n",
       "2 2020-03-31  2020      3      201803  ゴールド  店頭タブレット   24      0   \n",
       "3 2020-03-31  2020      3      201803  ゴールド  店頭タブレット   24      1   \n",
       "4 2020-03-31  2020      3      201803  ゴールド       郵送   24      0   \n",
       "\n",
       "   no_of_new_account  ttt  no_of_account kanyu_yymmdd  \n",
       "0                  0    1             11   2018-03-01  \n",
       "1                  0    0              9   2018-03-01  \n",
       "2                  0    1            136   2018-03-01  \n",
       "3                  0    0             47   2018-03-01  \n",
       "4                  0    6            128   2018-03-01  "
      ]
     },
     "execution_count": 174,
     "metadata": {},
     "output_type": "execute_result"
    }
   ],
   "source": [
    "df.head()"
   ]
  },
  {
   "cell_type": "code",
   "execution_count": 182,
   "metadata": {},
   "outputs": [],
   "source": [
    "df['cp_date'] = df['cp'].dt.strftime('%Y/%m/%d')\n",
    "df['kanyu_date'] = df['kanyu_yymmdd'].dt.strftime('%Y/%m/%d')"
   ]
  },
  {
   "cell_type": "code",
   "execution_count": 183,
   "metadata": {
    "scrolled": false
   },
   "outputs": [
    {
     "data": {
      "text/html": [
       "<div>\n",
       "<style scoped>\n",
       "    .dataframe tbody tr th:only-of-type {\n",
       "        vertical-align: middle;\n",
       "    }\n",
       "\n",
       "    .dataframe tbody tr th {\n",
       "        vertical-align: top;\n",
       "    }\n",
       "\n",
       "    .dataframe thead th {\n",
       "        text-align: right;\n",
       "    }\n",
       "</style>\n",
       "<table border=\"1\" class=\"dataframe\">\n",
       "  <thead>\n",
       "    <tr style=\"text-align: right;\">\n",
       "      <th></th>\n",
       "      <th>kanyu_date</th>\n",
       "      <th>card</th>\n",
       "      <th>channel</th>\n",
       "      <th>mob</th>\n",
       "      <th>sum_new_account</th>\n",
       "    </tr>\n",
       "  </thead>\n",
       "  <tbody>\n",
       "    <tr>\n",
       "      <th>0</th>\n",
       "      <td>2020/03/01</td>\n",
       "      <td>ゴールド</td>\n",
       "      <td>オンライン</td>\n",
       "      <td>0</td>\n",
       "      <td>23</td>\n",
       "    </tr>\n",
       "    <tr>\n",
       "      <th>1</th>\n",
       "      <td>2020/03/01</td>\n",
       "      <td>ゴールド</td>\n",
       "      <td>店頭タブレット</td>\n",
       "      <td>0</td>\n",
       "      <td>88</td>\n",
       "    </tr>\n",
       "    <tr>\n",
       "      <th>2</th>\n",
       "      <td>2020/03/01</td>\n",
       "      <td>ゴールド</td>\n",
       "      <td>郵送</td>\n",
       "      <td>0</td>\n",
       "      <td>626</td>\n",
       "    </tr>\n",
       "  </tbody>\n",
       "</table>\n",
       "</div>"
      ],
      "text/plain": [
       "   kanyu_date  card  channel  mob  sum_new_account\n",
       "0  2020/03/01  ゴールド    オンライン    0               23\n",
       "1  2020/03/01  ゴールド  店頭タブレット    0               88\n",
       "2  2020/03/01  ゴールド       郵送    0              626"
      ]
     },
     "execution_count": 183,
     "metadata": {},
     "output_type": "execute_result"
    }
   ],
   "source": [
    "q = \"\"\"\n",
    "        SELECT\n",
    "        kanyu_date\n",
    "        ,card\n",
    "        ,channel\n",
    "        ,mob\n",
    "        ,sum(no_of_new_account) as sum_new_account\n",
    "        from \n",
    "        df\n",
    "        where \n",
    "        mob  = 0\n",
    "        group by\n",
    "        kanyu_date,card,channel,mob\n",
    "        \"\"\"\n",
    "\n",
    "df_new = sqldf(q, locals())\n",
    "df_new.head(3)"
   ]
  },
  {
   "cell_type": "code",
   "execution_count": 186,
   "metadata": {},
   "outputs": [
    {
     "data": {
      "text/html": [
       "<div>\n",
       "<style scoped>\n",
       "    .dataframe tbody tr th:only-of-type {\n",
       "        vertical-align: middle;\n",
       "    }\n",
       "\n",
       "    .dataframe tbody tr th {\n",
       "        vertical-align: top;\n",
       "    }\n",
       "\n",
       "    .dataframe thead th {\n",
       "        text-align: right;\n",
       "    }\n",
       "</style>\n",
       "<table border=\"1\" class=\"dataframe\">\n",
       "  <thead>\n",
       "    <tr style=\"text-align: right;\">\n",
       "      <th></th>\n",
       "      <th>kanyu_date</th>\n",
       "      <th>card</th>\n",
       "      <th>channel</th>\n",
       "      <th>mob</th>\n",
       "      <th>sum_account</th>\n",
       "      <th>sum_kaiyaku</th>\n",
       "    </tr>\n",
       "  </thead>\n",
       "  <tbody>\n",
       "    <tr>\n",
       "      <th>0</th>\n",
       "      <td>2018/03/01</td>\n",
       "      <td>ゴールド</td>\n",
       "      <td>オンライン</td>\n",
       "      <td>24</td>\n",
       "      <td>20</td>\n",
       "      <td>1</td>\n",
       "    </tr>\n",
       "    <tr>\n",
       "      <th>1</th>\n",
       "      <td>2018/03/01</td>\n",
       "      <td>ゴールド</td>\n",
       "      <td>オンライン</td>\n",
       "      <td>25</td>\n",
       "      <td>17</td>\n",
       "      <td>3</td>\n",
       "    </tr>\n",
       "    <tr>\n",
       "      <th>2</th>\n",
       "      <td>2018/03/01</td>\n",
       "      <td>ゴールド</td>\n",
       "      <td>オンライン</td>\n",
       "      <td>26</td>\n",
       "      <td>17</td>\n",
       "      <td>0</td>\n",
       "    </tr>\n",
       "  </tbody>\n",
       "</table>\n",
       "</div>"
      ],
      "text/plain": [
       "   kanyu_date  card channel  mob  sum_account  sum_kaiyaku\n",
       "0  2018/03/01  ゴールド   オンライン   24           20            1\n",
       "1  2018/03/01  ゴールド   オンライン   25           17            3\n",
       "2  2018/03/01  ゴールド   オンライン   26           17            0"
      ]
     },
     "execution_count": 186,
     "metadata": {},
     "output_type": "execute_result"
    }
   ],
   "source": [
    "q = \"\"\"\n",
    "        SELECT\n",
    "        kanyu_date\n",
    "        ,card\n",
    "        ,channel\n",
    "        ,mob\n",
    "        ,sum(no_of_account) as sum_account\n",
    "        ,sum(cancel) as sum_kaiyaku\n",
    "        from \n",
    "        df\n",
    "        group by\n",
    "        kanyu_date,card,channel,mob\n",
    "        \"\"\"\n",
    "\n",
    "df_cust = sqldf(q, locals())\n",
    "df_cust.head(3)"
   ]
  },
  {
   "cell_type": "code",
   "execution_count": 191,
   "metadata": {},
   "outputs": [
    {
     "data": {
      "text/html": [
       "<div>\n",
       "<style scoped>\n",
       "    .dataframe tbody tr th:only-of-type {\n",
       "        vertical-align: middle;\n",
       "    }\n",
       "\n",
       "    .dataframe tbody tr th {\n",
       "        vertical-align: top;\n",
       "    }\n",
       "\n",
       "    .dataframe thead th {\n",
       "        text-align: right;\n",
       "    }\n",
       "</style>\n",
       "<table border=\"1\" class=\"dataframe\">\n",
       "  <thead>\n",
       "    <tr style=\"text-align: right;\">\n",
       "      <th></th>\n",
       "      <th>kanyu_date</th>\n",
       "      <th>card</th>\n",
       "      <th>channel</th>\n",
       "      <th>mob</th>\n",
       "      <th>sum_account</th>\n",
       "      <th>sum_kaiyaku</th>\n",
       "      <th>sum_new_account</th>\n",
       "    </tr>\n",
       "  </thead>\n",
       "  <tbody>\n",
       "    <tr>\n",
       "      <th>0</th>\n",
       "      <td>2018/03/01</td>\n",
       "      <td>ゴールド</td>\n",
       "      <td>オンライン</td>\n",
       "      <td>24</td>\n",
       "      <td>20</td>\n",
       "      <td>1</td>\n",
       "      <td>NaN</td>\n",
       "    </tr>\n",
       "    <tr>\n",
       "      <th>1</th>\n",
       "      <td>2018/03/01</td>\n",
       "      <td>ゴールド</td>\n",
       "      <td>オンライン</td>\n",
       "      <td>25</td>\n",
       "      <td>17</td>\n",
       "      <td>3</td>\n",
       "      <td>NaN</td>\n",
       "    </tr>\n",
       "    <tr>\n",
       "      <th>2</th>\n",
       "      <td>2018/03/01</td>\n",
       "      <td>ゴールド</td>\n",
       "      <td>オンライン</td>\n",
       "      <td>26</td>\n",
       "      <td>17</td>\n",
       "      <td>0</td>\n",
       "      <td>NaN</td>\n",
       "    </tr>\n",
       "  </tbody>\n",
       "</table>\n",
       "</div>"
      ],
      "text/plain": [
       "   kanyu_date  card channel  mob  sum_account  sum_kaiyaku  sum_new_account\n",
       "0  2018/03/01  ゴールド   オンライン   24           20            1              NaN\n",
       "1  2018/03/01  ゴールド   オンライン   25           17            3              NaN\n",
       "2  2018/03/01  ゴールド   オンライン   26           17            0              NaN"
      ]
     },
     "execution_count": 191,
     "metadata": {},
     "output_type": "execute_result"
    }
   ],
   "source": [
    "q = \"\"\"\n",
    "        SELECT\n",
    "        t1.kanyu_date\n",
    "        ,t1.card\n",
    "        ,t1.channel\n",
    "        ,t1.mob\n",
    "        ,t1.sum_account\n",
    "        ,t1.sum_kaiyaku\n",
    "        ,t2.sum_new_account\n",
    "        from \n",
    "        df_cust t1\n",
    "        left join \n",
    "        df_new t2\n",
    "        on t1.kanyu_date = t2.kanyu_date\n",
    "        and t1.card = t2.card\n",
    "        and t1.channel = t2.channel\n",
    "        order by \n",
    "        t1.kanyu_date,t1.card,t1.channel,t1.mob\n",
    "        \"\"\"\n",
    "\n",
    "df_shukei = sqldf(q, locals())\n",
    "df_shukei.head(3)"
   ]
  },
  {
   "cell_type": "code",
   "execution_count": 197,
   "metadata": {},
   "outputs": [
    {
     "data": {
      "text/html": [
       "<div>\n",
       "<style scoped>\n",
       "    .dataframe tbody tr th:only-of-type {\n",
       "        vertical-align: middle;\n",
       "    }\n",
       "\n",
       "    .dataframe tbody tr th {\n",
       "        vertical-align: top;\n",
       "    }\n",
       "\n",
       "    .dataframe thead th {\n",
       "        text-align: right;\n",
       "    }\n",
       "</style>\n",
       "<table border=\"1\" class=\"dataframe\">\n",
       "  <thead>\n",
       "    <tr style=\"text-align: right;\">\n",
       "      <th></th>\n",
       "      <th>kanyu_date</th>\n",
       "      <th>card</th>\n",
       "      <th>channel</th>\n",
       "      <th>mob</th>\n",
       "      <th>sum_account</th>\n",
       "      <th>sum_kaiyaku</th>\n",
       "      <th>sum_new_account</th>\n",
       "      <th>survive</th>\n",
       "    </tr>\n",
       "  </thead>\n",
       "  <tbody>\n",
       "    <tr>\n",
       "      <th>0</th>\n",
       "      <td>2018/03/01</td>\n",
       "      <td>ゴールド</td>\n",
       "      <td>オンライン</td>\n",
       "      <td>24</td>\n",
       "      <td>20</td>\n",
       "      <td>1</td>\n",
       "      <td>NaN</td>\n",
       "      <td>NaN</td>\n",
       "    </tr>\n",
       "    <tr>\n",
       "      <th>1</th>\n",
       "      <td>2018/03/01</td>\n",
       "      <td>ゴールド</td>\n",
       "      <td>オンライン</td>\n",
       "      <td>25</td>\n",
       "      <td>17</td>\n",
       "      <td>3</td>\n",
       "      <td>NaN</td>\n",
       "      <td>NaN</td>\n",
       "    </tr>\n",
       "    <tr>\n",
       "      <th>2</th>\n",
       "      <td>2018/03/01</td>\n",
       "      <td>ゴールド</td>\n",
       "      <td>オンライン</td>\n",
       "      <td>26</td>\n",
       "      <td>17</td>\n",
       "      <td>0</td>\n",
       "      <td>NaN</td>\n",
       "      <td>NaN</td>\n",
       "    </tr>\n",
       "    <tr>\n",
       "      <th>3</th>\n",
       "      <td>2018/03/01</td>\n",
       "      <td>ゴールド</td>\n",
       "      <td>店頭タブレット</td>\n",
       "      <td>24</td>\n",
       "      <td>183</td>\n",
       "      <td>1</td>\n",
       "      <td>NaN</td>\n",
       "      <td>NaN</td>\n",
       "    </tr>\n",
       "    <tr>\n",
       "      <th>4</th>\n",
       "      <td>2018/03/01</td>\n",
       "      <td>ゴールド</td>\n",
       "      <td>店頭タブレット</td>\n",
       "      <td>25</td>\n",
       "      <td>176</td>\n",
       "      <td>7</td>\n",
       "      <td>NaN</td>\n",
       "      <td>NaN</td>\n",
       "    </tr>\n",
       "  </tbody>\n",
       "</table>\n",
       "</div>"
      ],
      "text/plain": [
       "   kanyu_date  card  channel  mob  sum_account  sum_kaiyaku  sum_new_account  \\\n",
       "0  2018/03/01  ゴールド    オンライン   24           20            1              NaN   \n",
       "1  2018/03/01  ゴールド    オンライン   25           17            3              NaN   \n",
       "2  2018/03/01  ゴールド    オンライン   26           17            0              NaN   \n",
       "3  2018/03/01  ゴールド  店頭タブレット   24          183            1              NaN   \n",
       "4  2018/03/01  ゴールド  店頭タブレット   25          176            7              NaN   \n",
       "\n",
       "   survive  \n",
       "0      NaN  \n",
       "1      NaN  \n",
       "2      NaN  \n",
       "3      NaN  \n",
       "4      NaN  "
      ]
     },
     "execution_count": 197,
     "metadata": {},
     "output_type": "execute_result"
    }
   ],
   "source": [
    "df_shukei['survive'] = df_shukei['sum_account']/df_shukei['sum_new_account']\n",
    "df_shukei.head()"
   ]
  },
  {
   "cell_type": "code",
   "execution_count": 198,
   "metadata": {},
   "outputs": [],
   "source": [
    "df_shukei.to_csv(data_dir /'test.csv', header=True ,encoding='utf-8-sig')"
   ]
  },
  {
   "cell_type": "code",
   "execution_count": null,
   "metadata": {},
   "outputs": [],
   "source": []
  },
  {
   "cell_type": "code",
   "execution_count": null,
   "metadata": {},
   "outputs": [],
   "source": []
  },
  {
   "cell_type": "code",
   "execution_count": null,
   "metadata": {},
   "outputs": [],
   "source": []
  },
  {
   "cell_type": "code",
   "execution_count": null,
   "metadata": {},
   "outputs": [],
   "source": []
  },
  {
   "cell_type": "code",
   "execution_count": null,
   "metadata": {},
   "outputs": [],
   "source": [
    "df_merge.to_csv(data_dir /r\"output\"/f\"{result}.csv\", header=True,encoding='utf-8-sig')"
   ]
  },
  {
   "cell_type": "code",
   "execution_count": null,
   "metadata": {},
   "outputs": [],
   "source": []
  },
  {
   "cell_type": "code",
   "execution_count": null,
   "metadata": {},
   "outputs": [],
   "source": []
  },
  {
   "cell_type": "code",
   "execution_count": null,
   "metadata": {},
   "outputs": [],
   "source": []
  },
  {
   "cell_type": "code",
   "execution_count": 95,
   "metadata": {
    "scrolled": true
   },
   "outputs": [
    {
     "data": {
      "text/html": [
       "<div>\n",
       "<style scoped>\n",
       "    .dataframe tbody tr th:only-of-type {\n",
       "        vertical-align: middle;\n",
       "    }\n",
       "\n",
       "    .dataframe tbody tr th {\n",
       "        vertical-align: top;\n",
       "    }\n",
       "\n",
       "    .dataframe thead th {\n",
       "        text-align: right;\n",
       "    }\n",
       "</style>\n",
       "<table border=\"1\" class=\"dataframe\">\n",
       "  <thead>\n",
       "    <tr style=\"text-align: right;\">\n",
       "      <th></th>\n",
       "      <th>cp</th>\n",
       "      <th>no</th>\n",
       "      <th>kanyu_yymmdd</th>\n",
       "      <th>card</th>\n",
       "      <th>channel</th>\n",
       "      <th>kzk_f</th>\n",
       "      <th>kanyu_year</th>\n",
       "      <th>kanyu_month</th>\n",
       "      <th>kanyu_yymm</th>\n",
       "    </tr>\n",
       "  </thead>\n",
       "  <tbody>\n",
       "    <tr>\n",
       "      <th>0</th>\n",
       "      <td>20180331</td>\n",
       "      <td>4980006342739</td>\n",
       "      <td>2018-03-01</td>\n",
       "      <td>ゴールド</td>\n",
       "      <td>店頭タブレット</td>\n",
       "      <td>1</td>\n",
       "      <td>2018</td>\n",
       "      <td>3</td>\n",
       "      <td>2018年3月</td>\n",
       "    </tr>\n",
       "    <tr>\n",
       "      <th>1</th>\n",
       "      <td>20180331</td>\n",
       "      <td>4980006342748</td>\n",
       "      <td>2018-03-01</td>\n",
       "      <td>ゴールド</td>\n",
       "      <td>店頭タブレット</td>\n",
       "      <td>0</td>\n",
       "      <td>2018</td>\n",
       "      <td>3</td>\n",
       "      <td>2018年3月</td>\n",
       "    </tr>\n",
       "    <tr>\n",
       "      <th>2</th>\n",
       "      <td>20180331</td>\n",
       "      <td>4980006342757</td>\n",
       "      <td>2018-03-01</td>\n",
       "      <td>ゴールド</td>\n",
       "      <td>店頭タブレット</td>\n",
       "      <td>0</td>\n",
       "      <td>2018</td>\n",
       "      <td>3</td>\n",
       "      <td>2018年3月</td>\n",
       "    </tr>\n",
       "    <tr>\n",
       "      <th>3</th>\n",
       "      <td>20180331</td>\n",
       "      <td>4980006342766</td>\n",
       "      <td>2018-03-01</td>\n",
       "      <td>ゴールド</td>\n",
       "      <td>郵送</td>\n",
       "      <td>1</td>\n",
       "      <td>2018</td>\n",
       "      <td>3</td>\n",
       "      <td>2018年3月</td>\n",
       "    </tr>\n",
       "    <tr>\n",
       "      <th>4</th>\n",
       "      <td>20180331</td>\n",
       "      <td>4980006342775</td>\n",
       "      <td>2018-03-01</td>\n",
       "      <td>ゴールド</td>\n",
       "      <td>郵送</td>\n",
       "      <td>1</td>\n",
       "      <td>2018</td>\n",
       "      <td>3</td>\n",
       "      <td>2018年3月</td>\n",
       "    </tr>\n",
       "  </tbody>\n",
       "</table>\n",
       "</div>"
      ],
      "text/plain": [
       "         cp             no kanyu_yymmdd  card  channel  kzk_f  kanyu_year  \\\n",
       "0  20180331  4980006342739   2018-03-01  ゴールド  店頭タブレット      1        2018   \n",
       "1  20180331  4980006342748   2018-03-01  ゴールド  店頭タブレット      0        2018   \n",
       "2  20180331  4980006342757   2018-03-01  ゴールド  店頭タブレット      0        2018   \n",
       "3  20180331  4980006342766   2018-03-01  ゴールド       郵送      1        2018   \n",
       "4  20180331  4980006342775   2018-03-01  ゴールド       郵送      1        2018   \n",
       "\n",
       "   kanyu_month kanyu_yymm  \n",
       "0            3    2018年3月  \n",
       "1            3    2018年3月  \n",
       "2            3    2018年3月  \n",
       "3            3    2018年3月  \n",
       "4            3    2018年3月  "
      ]
     },
     "execution_count": 95,
     "metadata": {},
     "output_type": "execute_result"
    }
   ],
   "source": [
    "df['kanyu_yymmdd'] = pd.to_datetime(df['kanyu_yymmdd'], format = '%Y%m%d')\n",
    "df['kanyu_year'] = df['kanyu_yymmdd'].dt.year\n",
    "df['kanyu_month'] = df['kanyu_yymmdd'].dt.month\n",
    "df['kanyu_yymm'] = df[['kanyu_year', 'kanyu_month']].apply(lambda x: '{}年{}月'.format(x[0], x[1]), axis=1)\n",
    "df.head()"
   ]
  },
  {
   "cell_type": "code",
   "execution_count": 96,
   "metadata": {},
   "outputs": [
    {
     "data": {
      "text/plain": [
       "array(['ゴールド', '一般', '外商'], dtype=object)"
      ]
     },
     "execution_count": 96,
     "metadata": {},
     "output_type": "execute_result"
    }
   ],
   "source": [
    "df['card'].unique()"
   ]
  },
  {
   "cell_type": "code",
   "execution_count": 97,
   "metadata": {},
   "outputs": [
    {
     "data": {
      "text/plain": [
       "array(['2018年3月', '2018年4月', '2018年5月', '2018年6月', '2018年7月', '2018年8月',\n",
       "       '2018年9月', '2018年10月', '2018年11月', '2018年12月', '2019年1月',\n",
       "       '2019年2月', '2019年3月'], dtype=object)"
      ]
     },
     "execution_count": 97,
     "metadata": {},
     "output_type": "execute_result"
    }
   ],
   "source": [
    "df['kanyu_yymm'].unique()"
   ]
  },
  {
   "cell_type": "code",
   "execution_count": 98,
   "metadata": {
    "scrolled": true
   },
   "outputs": [
    {
     "name": "stdout",
     "output_type": "stream",
     "text": [
      "True\n"
     ]
    }
   ],
   "source": [
    "#noの重複がないかチェック\n",
    "print(len(df) == len(df['no'].unique()))"
   ]
  },
  {
   "cell_type": "code",
   "execution_count": 99,
   "metadata": {},
   "outputs": [
    {
     "data": {
      "text/plain": [
       "141347"
      ]
     },
     "execution_count": 99,
     "metadata": {},
     "output_type": "execute_result"
    }
   ],
   "source": [
    "#重複削除\n",
    "df_dup = df.drop_duplicates(subset=['no'])\n",
    "df_dup.shape[0]"
   ]
  },
  {
   "cell_type": "code",
   "execution_count": 100,
   "metadata": {
    "scrolled": true
   },
   "outputs": [
    {
     "data": {
      "text/plain": [
       "cp              0\n",
       "no              0\n",
       "kanyu_yymmdd    0\n",
       "card            0\n",
       "channel         0\n",
       "kzk_f           0\n",
       "kanyu_year      0\n",
       "kanyu_month     0\n",
       "kanyu_yymm      0\n",
       "dtype: int64"
      ]
     },
     "execution_count": 100,
     "metadata": {},
     "output_type": "execute_result"
    }
   ],
   "source": [
    "#欠損データがないかチェック\n",
    "df_dup.isnull().sum()"
   ]
  },
  {
   "cell_type": "markdown",
   "metadata": {},
   "source": [
    "集計"
   ]
  },
  {
   "cell_type": "code",
   "execution_count": 101,
   "metadata": {},
   "outputs": [
    {
     "data": {
      "text/plain": [
       "kanyu_yymm  card\n",
       "2018年10月    ゴールド      462\n",
       "            一般       9712\n",
       "            外商       1214\n",
       "2018年11月    ゴールド      485\n",
       "            一般      11210\n",
       "Name: no, dtype: int64"
      ]
     },
     "execution_count": 101,
     "metadata": {},
     "output_type": "execute_result"
    }
   ],
   "source": [
    "#客数\n",
    "df_new= df_dup.groupby(['kanyu_yymm','card'])['no'].count()\n",
    "df_new.head()"
   ]
  },
  {
   "cell_type": "code",
   "execution_count": null,
   "metadata": {},
   "outputs": [],
   "source": []
  },
  {
   "cell_type": "code",
   "execution_count": null,
   "metadata": {},
   "outputs": [],
   "source": []
  },
  {
   "cell_type": "markdown",
   "metadata": {},
   "source": [
    "売上の集計"
   ]
  },
  {
   "cell_type": "code",
   "execution_count": 105,
   "metadata": {},
   "outputs": [
    {
     "data": {
      "text/html": [
       "<div>\n",
       "<style scoped>\n",
       "    .dataframe tbody tr th:only-of-type {\n",
       "        vertical-align: middle;\n",
       "    }\n",
       "\n",
       "    .dataframe tbody tr th {\n",
       "        vertical-align: top;\n",
       "    }\n",
       "\n",
       "    .dataframe thead th {\n",
       "        text-align: right;\n",
       "    }\n",
       "</style>\n",
       "<table border=\"1\" class=\"dataframe\">\n",
       "  <thead>\n",
       "    <tr style=\"text-align: right;\">\n",
       "      <th></th>\n",
       "      <th>kanyu_yymm</th>\n",
       "      <th>card</th>\n",
       "      <th>tot_amt_class</th>\n",
       "      <th>no_of_new_account</th>\n",
       "    </tr>\n",
       "  </thead>\n",
       "  <tbody>\n",
       "    <tr>\n",
       "      <th>0</th>\n",
       "      <td>201803</td>\n",
       "      <td>ゴールド</td>\n",
       "      <td>21_100万円以上</td>\n",
       "      <td>36</td>\n",
       "    </tr>\n",
       "    <tr>\n",
       "      <th>1</th>\n",
       "      <td>201803</td>\n",
       "      <td>ゴールド</td>\n",
       "      <td>12_10万円以上</td>\n",
       "      <td>74</td>\n",
       "    </tr>\n",
       "    <tr>\n",
       "      <th>2</th>\n",
       "      <td>201803</td>\n",
       "      <td>ゴールド</td>\n",
       "      <td>3_1万円以上</td>\n",
       "      <td>28</td>\n",
       "    </tr>\n",
       "    <tr>\n",
       "      <th>3</th>\n",
       "      <td>201803</td>\n",
       "      <td>ゴールド</td>\n",
       "      <td>22_200万円以上</td>\n",
       "      <td>7</td>\n",
       "    </tr>\n",
       "    <tr>\n",
       "      <th>4</th>\n",
       "      <td>201803</td>\n",
       "      <td>ゴールド</td>\n",
       "      <td>13_20万円以上</td>\n",
       "      <td>63</td>\n",
       "    </tr>\n",
       "  </tbody>\n",
       "</table>\n",
       "</div>"
      ],
      "text/plain": [
       "   kanyu_yymm  card tot_amt_class  no_of_new_account\n",
       "0      201803  ゴールド    21_100万円以上                 36\n",
       "1      201803  ゴールド     12_10万円以上                 74\n",
       "2      201803  ゴールド       3_1万円以上                 28\n",
       "3      201803  ゴールド    22_200万円以上                  7\n",
       "4      201803  ゴールド     13_20万円以上                 63"
      ]
     },
     "execution_count": 105,
     "metadata": {},
     "output_type": "execute_result"
    }
   ],
   "source": [
    "df = pd.read_csv(data_dir /r\"input\"/f\"{uri_tot}\",encoding='shift-jis')\n",
    "df.head()"
   ]
  },
  {
   "cell_type": "code",
   "execution_count": 106,
   "metadata": {},
   "outputs": [],
   "source": [
    "#2019年3月までに限定する\n",
    "df =df[(df[\"kanyu_yymm\"] <=201903)]"
   ]
  },
  {
   "cell_type": "code",
   "execution_count": 107,
   "metadata": {
    "scrolled": false
   },
   "outputs": [
    {
     "name": "stdout",
     "output_type": "stream",
     "text": [
      "(977, 4)\n",
      "Int64Index([  0,   1,   2,   3,   4,   5,   6,   7,   8,   9,\n",
      "            ...\n",
      "            967, 968, 969, 970, 971, 972, 973, 974, 975, 976],\n",
      "           dtype='int64', length=977)\n",
      "Index(['kanyu_yymm', 'card', 'tot_amt_class', 'no_of_new_account'], dtype='object')\n",
      "kanyu_yymm            int64\n",
      "card                 object\n",
      "tot_amt_class        object\n",
      "no_of_new_account     int64\n",
      "dtype: object\n"
     ]
    }
   ],
   "source": [
    "print(df.shape)\n",
    "print(df.index)\n",
    "print(df.columns)\n",
    "print(df.dtypes)"
   ]
  },
  {
   "cell_type": "code",
   "execution_count": 108,
   "metadata": {
    "scrolled": true
   },
   "outputs": [
    {
     "data": {
      "text/html": [
       "<div>\n",
       "<style scoped>\n",
       "    .dataframe tbody tr th:only-of-type {\n",
       "        vertical-align: middle;\n",
       "    }\n",
       "\n",
       "    .dataframe tbody tr th {\n",
       "        vertical-align: top;\n",
       "    }\n",
       "\n",
       "    .dataframe thead th {\n",
       "        text-align: right;\n",
       "    }\n",
       "</style>\n",
       "<table border=\"1\" class=\"dataframe\">\n",
       "  <thead>\n",
       "    <tr style=\"text-align: right;\">\n",
       "      <th></th>\n",
       "      <th>kanyu_yymm</th>\n",
       "      <th>card</th>\n",
       "      <th>tot_amt_class</th>\n",
       "      <th>no_of_new_account</th>\n",
       "      <th>kanyu_yymmdd</th>\n",
       "      <th>kanyu_year</th>\n",
       "      <th>kanyu_month</th>\n",
       "    </tr>\n",
       "  </thead>\n",
       "  <tbody>\n",
       "    <tr>\n",
       "      <th>0</th>\n",
       "      <td>2018年3月</td>\n",
       "      <td>ゴールド</td>\n",
       "      <td>21_100万円以上</td>\n",
       "      <td>36</td>\n",
       "      <td>2018-03-01</td>\n",
       "      <td>2018</td>\n",
       "      <td>3</td>\n",
       "    </tr>\n",
       "    <tr>\n",
       "      <th>1</th>\n",
       "      <td>2018年3月</td>\n",
       "      <td>ゴールド</td>\n",
       "      <td>12_10万円以上</td>\n",
       "      <td>74</td>\n",
       "      <td>2018-03-01</td>\n",
       "      <td>2018</td>\n",
       "      <td>3</td>\n",
       "    </tr>\n",
       "    <tr>\n",
       "      <th>2</th>\n",
       "      <td>2018年3月</td>\n",
       "      <td>ゴールド</td>\n",
       "      <td>3_1万円以上</td>\n",
       "      <td>28</td>\n",
       "      <td>2018-03-01</td>\n",
       "      <td>2018</td>\n",
       "      <td>3</td>\n",
       "    </tr>\n",
       "    <tr>\n",
       "      <th>3</th>\n",
       "      <td>2018年3月</td>\n",
       "      <td>ゴールド</td>\n",
       "      <td>22_200万円以上</td>\n",
       "      <td>7</td>\n",
       "      <td>2018-03-01</td>\n",
       "      <td>2018</td>\n",
       "      <td>3</td>\n",
       "    </tr>\n",
       "    <tr>\n",
       "      <th>4</th>\n",
       "      <td>2018年3月</td>\n",
       "      <td>ゴールド</td>\n",
       "      <td>13_20万円以上</td>\n",
       "      <td>63</td>\n",
       "      <td>2018-03-01</td>\n",
       "      <td>2018</td>\n",
       "      <td>3</td>\n",
       "    </tr>\n",
       "  </tbody>\n",
       "</table>\n",
       "</div>"
      ],
      "text/plain": [
       "  kanyu_yymm  card tot_amt_class  no_of_new_account kanyu_yymmdd  kanyu_year  \\\n",
       "0    2018年3月  ゴールド    21_100万円以上                 36   2018-03-01        2018   \n",
       "1    2018年3月  ゴールド     12_10万円以上                 74   2018-03-01        2018   \n",
       "2    2018年3月  ゴールド       3_1万円以上                 28   2018-03-01        2018   \n",
       "3    2018年3月  ゴールド    22_200万円以上                  7   2018-03-01        2018   \n",
       "4    2018年3月  ゴールド     13_20万円以上                 63   2018-03-01        2018   \n",
       "\n",
       "   kanyu_month  \n",
       "0            3  \n",
       "1            3  \n",
       "2            3  \n",
       "3            3  \n",
       "4            3  "
      ]
     },
     "execution_count": 108,
     "metadata": {},
     "output_type": "execute_result"
    }
   ],
   "source": [
    "df['kanyu_yymmdd']=df['kanyu_yymm']*100+1\n",
    "df['kanyu_yymmdd'] = pd.to_datetime(df['kanyu_yymmdd'], format = '%Y%m%d')\n",
    "df['kanyu_year'] = df['kanyu_yymmdd'].dt.year\n",
    "df['kanyu_month'] = df['kanyu_yymmdd'].dt.month\n",
    "df['kanyu_yymm'] = df[['kanyu_year', 'kanyu_month']].apply(lambda x: '{}年{}月'.format(x[0], x[1]), axis=1)\n",
    "df.head()"
   ]
  },
  {
   "cell_type": "code",
   "execution_count": 109,
   "metadata": {},
   "outputs": [
    {
     "data": {
      "text/plain": [
       "array(['ゴールド', '一般', '外商'], dtype=object)"
      ]
     },
     "execution_count": 109,
     "metadata": {},
     "output_type": "execute_result"
    }
   ],
   "source": [
    "df['card'].unique()"
   ]
  },
  {
   "cell_type": "code",
   "execution_count": 110,
   "metadata": {},
   "outputs": [
    {
     "data": {
      "text/plain": [
       "array(['2018年3月', '2018年4月', '2018年5月', '2018年6月', '2018年7月', '2018年8月',\n",
       "       '2018年9月', '2018年10月', '2018年11月', '2018年12月', '2019年1月',\n",
       "       '2019年2月', '2019年3月'], dtype=object)"
      ]
     },
     "execution_count": 110,
     "metadata": {},
     "output_type": "execute_result"
    }
   ],
   "source": [
    "df['kanyu_yymm'].unique()"
   ]
  },
  {
   "cell_type": "markdown",
   "metadata": {},
   "source": [
    "集計"
   ]
  },
  {
   "cell_type": "code",
   "execution_count": 113,
   "metadata": {},
   "outputs": [
    {
     "data": {
      "text/plain": [
       "kanyu_yymm  card  tot_amt_class\n",
       "2018年10月    ゴールド  10_8万円以上          9\n",
       "                  11_9万円以上          9\n",
       "                  12_10万円以上        63\n",
       "                  13_20万円以上        38\n",
       "                  14_30万円以上        36\n",
       "Name: no_of_new_account, dtype: int64"
      ]
     },
     "execution_count": 113,
     "metadata": {},
     "output_type": "execute_result"
    }
   ],
   "source": [
    "#客数\n",
    "df_uri = df.groupby(['kanyu_yymm','card','tot_amt_class'])['no_of_new_account'].sum()\n",
    "df_uri.head()"
   ]
  },
  {
   "cell_type": "code",
   "execution_count": 114,
   "metadata": {},
   "outputs": [
    {
     "data": {
      "text/plain": [
       "kanyu_yymm  card  tot_amt_class\n",
       "2018年10月    ゴールド  10_8万円以上          9\n",
       "                  11_9万円以上          9\n",
       "                  12_10万円以上        63\n",
       "                  13_20万円以上        38\n",
       "                  14_30万円以上        36\n",
       "Name: no_of_new_account, dtype: int64"
      ]
     },
     "execution_count": 114,
     "metadata": {},
     "output_type": "execute_result"
    }
   ],
   "source": [
    "df_uri.head()"
   ]
  },
  {
   "cell_type": "markdown",
   "metadata": {},
   "source": [
    "Merge"
   ]
  },
  {
   "cell_type": "code",
   "execution_count": 126,
   "metadata": {},
   "outputs": [
    {
     "data": {
      "text/plain": [
       "kanyu_yymm  card  tot_amt_class\n",
       "2018年10月    ゴールド  10_8万円以上          9\n",
       "                  11_9万円以上          9\n",
       "                  12_10万円以上        63\n",
       "                  13_20万円以上        38\n",
       "                  14_30万円以上        36\n",
       "Name: no_of_new_account, dtype: int64"
      ]
     },
     "execution_count": 126,
     "metadata": {},
     "output_type": "execute_result"
    }
   ],
   "source": [
    "df_uri.head()"
   ]
  },
  {
   "cell_type": "code",
   "execution_count": 121,
   "metadata": {},
   "outputs": [
    {
     "data": {
      "text/plain": [
       "kanyu_yymm  card\n",
       "2018年10月    ゴールド      462\n",
       "            一般       9712\n",
       "            外商       1214\n",
       "2018年11月    ゴールド      485\n",
       "            一般      11210\n",
       "Name: no, dtype: int64"
      ]
     },
     "execution_count": 121,
     "metadata": {},
     "output_type": "execute_result"
    }
   ],
   "source": [
    "df_new.head()"
   ]
  },
  {
   "cell_type": "code",
   "execution_count": 144,
   "metadata": {
    "scrolled": true
   },
   "outputs": [
    {
     "data": {
      "text/html": [
       "<div>\n",
       "<style scoped>\n",
       "    .dataframe tbody tr th:only-of-type {\n",
       "        vertical-align: middle;\n",
       "    }\n",
       "\n",
       "    .dataframe tbody tr th {\n",
       "        vertical-align: top;\n",
       "    }\n",
       "\n",
       "    .dataframe thead th {\n",
       "        text-align: right;\n",
       "    }\n",
       "</style>\n",
       "<table border=\"1\" class=\"dataframe\">\n",
       "  <thead>\n",
       "    <tr style=\"text-align: right;\">\n",
       "      <th></th>\n",
       "      <th></th>\n",
       "      <th></th>\n",
       "      <th>no_of_new_account</th>\n",
       "      <th>no</th>\n",
       "    </tr>\n",
       "    <tr>\n",
       "      <th>kanyu_yymm</th>\n",
       "      <th>card</th>\n",
       "      <th>tot_amt_class</th>\n",
       "      <th></th>\n",
       "      <th></th>\n",
       "    </tr>\n",
       "  </thead>\n",
       "  <tbody>\n",
       "    <tr>\n",
       "      <th rowspan=\"5\" valign=\"top\">2018年10月</th>\n",
       "      <th rowspan=\"5\" valign=\"top\">ゴールド</th>\n",
       "      <th>10_8万円以上</th>\n",
       "      <td>9</td>\n",
       "      <td>462</td>\n",
       "    </tr>\n",
       "    <tr>\n",
       "      <th>11_9万円以上</th>\n",
       "      <td>9</td>\n",
       "      <td>462</td>\n",
       "    </tr>\n",
       "    <tr>\n",
       "      <th>12_10万円以上</th>\n",
       "      <td>63</td>\n",
       "      <td>462</td>\n",
       "    </tr>\n",
       "    <tr>\n",
       "      <th>13_20万円以上</th>\n",
       "      <td>38</td>\n",
       "      <td>462</td>\n",
       "    </tr>\n",
       "    <tr>\n",
       "      <th>14_30万円以上</th>\n",
       "      <td>36</td>\n",
       "      <td>462</td>\n",
       "    </tr>\n",
       "  </tbody>\n",
       "</table>\n",
       "</div>"
      ],
      "text/plain": [
       "                               no_of_new_account   no\n",
       "kanyu_yymm card tot_amt_class                        \n",
       "2018年10月   ゴールド 10_8万円以上                       9  462\n",
       "                11_9万円以上                       9  462\n",
       "                12_10万円以上                     63  462\n",
       "                13_20万円以上                     38  462\n",
       "                14_30万円以上                     36  462"
      ]
     },
     "execution_count": 144,
     "metadata": {},
     "output_type": "execute_result"
    }
   ],
   "source": [
    "df_merge = pd.merge(df_uri, df_new, left_on=['kanyu_yymm', 'card'], right_index=True)\n",
    "df_merge.head()"
   ]
  },
  {
   "cell_type": "code",
   "execution_count": 141,
   "metadata": {},
   "outputs": [
    {
     "data": {
      "text/html": [
       "<div>\n",
       "<style scoped>\n",
       "    .dataframe tbody tr th:only-of-type {\n",
       "        vertical-align: middle;\n",
       "    }\n",
       "\n",
       "    .dataframe tbody tr th {\n",
       "        vertical-align: top;\n",
       "    }\n",
       "\n",
       "    .dataframe thead th {\n",
       "        text-align: right;\n",
       "    }\n",
       "</style>\n",
       "<table border=\"1\" class=\"dataframe\">\n",
       "  <thead>\n",
       "    <tr style=\"text-align: right;\">\n",
       "      <th></th>\n",
       "      <th></th>\n",
       "      <th></th>\n",
       "      <th>account</th>\n",
       "      <th>new_account</th>\n",
       "    </tr>\n",
       "    <tr>\n",
       "      <th>kanyu_yymm</th>\n",
       "      <th>card</th>\n",
       "      <th>tot_amt_class</th>\n",
       "      <th></th>\n",
       "      <th></th>\n",
       "    </tr>\n",
       "  </thead>\n",
       "  <tbody>\n",
       "    <tr>\n",
       "      <th rowspan=\"5\" valign=\"top\">2018年10月</th>\n",
       "      <th rowspan=\"5\" valign=\"top\">ゴールド</th>\n",
       "      <th>10_8万円以上</th>\n",
       "      <td>9</td>\n",
       "      <td>462</td>\n",
       "    </tr>\n",
       "    <tr>\n",
       "      <th>11_9万円以上</th>\n",
       "      <td>9</td>\n",
       "      <td>462</td>\n",
       "    </tr>\n",
       "    <tr>\n",
       "      <th>12_10万円以上</th>\n",
       "      <td>63</td>\n",
       "      <td>462</td>\n",
       "    </tr>\n",
       "    <tr>\n",
       "      <th>13_20万円以上</th>\n",
       "      <td>38</td>\n",
       "      <td>462</td>\n",
       "    </tr>\n",
       "    <tr>\n",
       "      <th>14_30万円以上</th>\n",
       "      <td>36</td>\n",
       "      <td>462</td>\n",
       "    </tr>\n",
       "  </tbody>\n",
       "</table>\n",
       "</div>"
      ],
      "text/plain": [
       "                               account  new_account\n",
       "kanyu_yymm card tot_amt_class                      \n",
       "2018年10月   ゴールド 10_8万円以上             9          462\n",
       "                11_9万円以上             9          462\n",
       "                12_10万円以上           63          462\n",
       "                13_20万円以上           38          462\n",
       "                14_30万円以上           36          462"
      ]
     },
     "execution_count": 141,
     "metadata": {},
     "output_type": "execute_result"
    }
   ],
   "source": [
    "df_merge = df_merge.rename(columns={'no_of_new_account':'no_of_account','no':'new_account'})\n",
    "df_merge.head()"
   ]
  },
  {
   "cell_type": "code",
   "execution_count": 143,
   "metadata": {},
   "outputs": [],
   "source": [
    "df_merge.to_csv(data_dir /r\"output\"/f\"{result}.csv\", header=True,encoding='utf-8-sig')"
   ]
  }
 ],
 "metadata": {
  "kernelspec": {
   "display_name": "Python 3",
   "language": "python",
   "name": "python3"
  },
  "language_info": {
   "codemirror_mode": {
    "name": "ipython",
    "version": 3
   },
   "file_extension": ".py",
   "mimetype": "text/x-python",
   "name": "python",
   "nbconvert_exporter": "python",
   "pygments_lexer": "ipython3",
   "version": "3.7.6"
  }
 },
 "nbformat": 4,
 "nbformat_minor": 2
}
