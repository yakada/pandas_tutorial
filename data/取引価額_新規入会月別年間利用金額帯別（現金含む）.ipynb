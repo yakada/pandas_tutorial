{
 "cells": [
  {
   "cell_type": "code",
   "execution_count": 1,
   "metadata": {},
   "outputs": [],
   "source": [
    "import pandas as pd\n",
    "import numpy as np\n",
    "from pathlib import Path\n",
    "import csv\n",
    "import xlrd\n",
    "import io\n",
    "from zipfile import ZipFile\n",
    "from datetime import date, timedelta, time, datetime"
   ]
  },
  {
   "cell_type": "code",
   "execution_count": 2,
   "metadata": {},
   "outputs": [
    {
     "name": "stdout",
     "output_type": "stream",
     "text": [
      "20200731\n"
     ]
    }
   ],
   "source": [
    "today_yyyymmdd = date.today().strftime(\"%Y%m%d\")\n",
    "print(today_yyyymmdd)"
   ]
  },
  {
   "cell_type": "markdown",
   "metadata": {},
   "source": [
    "import datetime \n",
    "base = datetime.date(2020,2,1)\n",
    "for i in range(0,10): \n",
    "    d=base + datetime.timedelta(i)\n",
    "    d=d.strftime(\"%Y%m%d\")\n",
    "    print(f\"N029kakutokuruiseki{d}.csv\")"
   ]
  },
  {
   "cell_type": "markdown",
   "metadata": {},
   "source": [
    "from datetime import datetime, timedelta\n",
    "\n",
    "def date_range(start_date: datetime, end_date: datetime):\n",
    "    diff = (end_date - start_date).days + 1\n",
    "    return (start_date + timedelta(i) for i in range(diff))"
   ]
  },
  {
   "cell_type": "code",
   "execution_count": 4,
   "metadata": {},
   "outputs": [],
   "source": [
    "#pandasの表示列数を増やす\n",
    "import pandas as pd\n",
    "pd.set_option('display.max_columns', 100)"
   ]
  },
  {
   "cell_type": "code",
   "execution_count": 142,
   "metadata": {},
   "outputs": [
    {
     "name": "stdout",
     "output_type": "stream",
     "text": [
      "NEW_CUST_取引価額.csv\n",
      "SHUKEI_TOT.csv\n",
      "年間利用金額帯別新規数\n"
     ]
    }
   ],
   "source": [
    "data_dir = Path(r\"C:\\Users\\crie072\\Documents\\01_データ関連\\Adhoc\\202007_取引価額\")\n",
    "\n",
    "#input\n",
    "new_cust = \"NEW_CUST_取引価額.csv\"\n",
    "uri_tot = \"SHUKEI_TOT.csv\"\n",
    "\n",
    "#out_put\n",
    "result = \"年間利用金額帯別新規数\"\n",
    "\n",
    "print(new_cust)\n",
    "print(uri_tot)\n",
    "print(result)"
   ]
  },
  {
   "cell_type": "markdown",
   "metadata": {},
   "source": [
    "column_names = ['実績月','入会申込番号','直近３ケ月買物利用金額','直近３ケ月全体利用金額','年令','性別',\n",
    "                '都道府県名','顧客状況コ－ド','マイペ設定','DM希望店','カード券種名','カ－ド加入日','初回利用日',\n",
    "                'あとからリボ申込有無コード','Weｂ明細有無コード','解約','入会チャネル']"
   ]
  },
  {
   "cell_type": "markdown",
   "metadata": {},
   "source": [
    "新規入会客の集計"
   ]
  },
  {
   "cell_type": "code",
   "execution_count": 93,
   "metadata": {},
   "outputs": [
    {
     "data": {
      "text/html": [
       "<div>\n",
       "<style scoped>\n",
       "    .dataframe tbody tr th:only-of-type {\n",
       "        vertical-align: middle;\n",
       "    }\n",
       "\n",
       "    .dataframe tbody tr th {\n",
       "        vertical-align: top;\n",
       "    }\n",
       "\n",
       "    .dataframe thead th {\n",
       "        text-align: right;\n",
       "    }\n",
       "</style>\n",
       "<table border=\"1\" class=\"dataframe\">\n",
       "  <thead>\n",
       "    <tr style=\"text-align: right;\">\n",
       "      <th></th>\n",
       "      <th>cp</th>\n",
       "      <th>no</th>\n",
       "      <th>kanyu_yymmdd</th>\n",
       "      <th>card</th>\n",
       "      <th>channel</th>\n",
       "      <th>kzk_f</th>\n",
       "    </tr>\n",
       "  </thead>\n",
       "  <tbody>\n",
       "    <tr>\n",
       "      <th>0</th>\n",
       "      <td>20180331</td>\n",
       "      <td>4980006342739</td>\n",
       "      <td>20180301</td>\n",
       "      <td>ゴールド</td>\n",
       "      <td>店頭タブレット</td>\n",
       "      <td>1</td>\n",
       "    </tr>\n",
       "    <tr>\n",
       "      <th>1</th>\n",
       "      <td>20180331</td>\n",
       "      <td>4980006342748</td>\n",
       "      <td>20180301</td>\n",
       "      <td>ゴールド</td>\n",
       "      <td>店頭タブレット</td>\n",
       "      <td>0</td>\n",
       "    </tr>\n",
       "    <tr>\n",
       "      <th>2</th>\n",
       "      <td>20180331</td>\n",
       "      <td>4980006342757</td>\n",
       "      <td>20180301</td>\n",
       "      <td>ゴールド</td>\n",
       "      <td>店頭タブレット</td>\n",
       "      <td>0</td>\n",
       "    </tr>\n",
       "    <tr>\n",
       "      <th>3</th>\n",
       "      <td>20180331</td>\n",
       "      <td>4980006342766</td>\n",
       "      <td>20180301</td>\n",
       "      <td>ゴールド</td>\n",
       "      <td>郵送</td>\n",
       "      <td>1</td>\n",
       "    </tr>\n",
       "    <tr>\n",
       "      <th>4</th>\n",
       "      <td>20180331</td>\n",
       "      <td>4980006342775</td>\n",
       "      <td>20180301</td>\n",
       "      <td>ゴールド</td>\n",
       "      <td>郵送</td>\n",
       "      <td>1</td>\n",
       "    </tr>\n",
       "  </tbody>\n",
       "</table>\n",
       "</div>"
      ],
      "text/plain": [
       "         cp             no  kanyu_yymmdd  card  channel  kzk_f\n",
       "0  20180331  4980006342739      20180301  ゴールド  店頭タブレット      1\n",
       "1  20180331  4980006342748      20180301  ゴールド  店頭タブレット      0\n",
       "2  20180331  4980006342757      20180301  ゴールド  店頭タブレット      0\n",
       "3  20180331  4980006342766      20180301  ゴールド       郵送      1\n",
       "4  20180331  4980006342775      20180301  ゴールド       郵送      1"
      ]
     },
     "execution_count": 93,
     "metadata": {},
     "output_type": "execute_result"
    }
   ],
   "source": [
    "df = pd.read_csv(data_dir /r\"input\"/f\"{new_cust}\",encoding='shift-jis')\n",
    "df.head()"
   ]
  },
  {
   "cell_type": "code",
   "execution_count": 94,
   "metadata": {
    "scrolled": false
   },
   "outputs": [
    {
     "name": "stdout",
     "output_type": "stream",
     "text": [
      "(141347, 6)\n",
      "RangeIndex(start=0, stop=141347, step=1)\n",
      "Index(['cp', 'no', 'kanyu_yymmdd', 'card', 'channel', 'kzk_f'], dtype='object')\n",
      "cp               int64\n",
      "no               int64\n",
      "kanyu_yymmdd     int64\n",
      "card            object\n",
      "channel         object\n",
      "kzk_f            int64\n",
      "dtype: object\n"
     ]
    }
   ],
   "source": [
    "print(df.shape)\n",
    "print(df.index)\n",
    "print(df.columns)\n",
    "print(df.dtypes)"
   ]
  },
  {
   "cell_type": "code",
   "execution_count": 95,
   "metadata": {
    "scrolled": true
   },
   "outputs": [
    {
     "data": {
      "text/html": [
       "<div>\n",
       "<style scoped>\n",
       "    .dataframe tbody tr th:only-of-type {\n",
       "        vertical-align: middle;\n",
       "    }\n",
       "\n",
       "    .dataframe tbody tr th {\n",
       "        vertical-align: top;\n",
       "    }\n",
       "\n",
       "    .dataframe thead th {\n",
       "        text-align: right;\n",
       "    }\n",
       "</style>\n",
       "<table border=\"1\" class=\"dataframe\">\n",
       "  <thead>\n",
       "    <tr style=\"text-align: right;\">\n",
       "      <th></th>\n",
       "      <th>cp</th>\n",
       "      <th>no</th>\n",
       "      <th>kanyu_yymmdd</th>\n",
       "      <th>card</th>\n",
       "      <th>channel</th>\n",
       "      <th>kzk_f</th>\n",
       "      <th>kanyu_year</th>\n",
       "      <th>kanyu_month</th>\n",
       "      <th>kanyu_yymm</th>\n",
       "    </tr>\n",
       "  </thead>\n",
       "  <tbody>\n",
       "    <tr>\n",
       "      <th>0</th>\n",
       "      <td>20180331</td>\n",
       "      <td>4980006342739</td>\n",
       "      <td>2018-03-01</td>\n",
       "      <td>ゴールド</td>\n",
       "      <td>店頭タブレット</td>\n",
       "      <td>1</td>\n",
       "      <td>2018</td>\n",
       "      <td>3</td>\n",
       "      <td>2018年3月</td>\n",
       "    </tr>\n",
       "    <tr>\n",
       "      <th>1</th>\n",
       "      <td>20180331</td>\n",
       "      <td>4980006342748</td>\n",
       "      <td>2018-03-01</td>\n",
       "      <td>ゴールド</td>\n",
       "      <td>店頭タブレット</td>\n",
       "      <td>0</td>\n",
       "      <td>2018</td>\n",
       "      <td>3</td>\n",
       "      <td>2018年3月</td>\n",
       "    </tr>\n",
       "    <tr>\n",
       "      <th>2</th>\n",
       "      <td>20180331</td>\n",
       "      <td>4980006342757</td>\n",
       "      <td>2018-03-01</td>\n",
       "      <td>ゴールド</td>\n",
       "      <td>店頭タブレット</td>\n",
       "      <td>0</td>\n",
       "      <td>2018</td>\n",
       "      <td>3</td>\n",
       "      <td>2018年3月</td>\n",
       "    </tr>\n",
       "    <tr>\n",
       "      <th>3</th>\n",
       "      <td>20180331</td>\n",
       "      <td>4980006342766</td>\n",
       "      <td>2018-03-01</td>\n",
       "      <td>ゴールド</td>\n",
       "      <td>郵送</td>\n",
       "      <td>1</td>\n",
       "      <td>2018</td>\n",
       "      <td>3</td>\n",
       "      <td>2018年3月</td>\n",
       "    </tr>\n",
       "    <tr>\n",
       "      <th>4</th>\n",
       "      <td>20180331</td>\n",
       "      <td>4980006342775</td>\n",
       "      <td>2018-03-01</td>\n",
       "      <td>ゴールド</td>\n",
       "      <td>郵送</td>\n",
       "      <td>1</td>\n",
       "      <td>2018</td>\n",
       "      <td>3</td>\n",
       "      <td>2018年3月</td>\n",
       "    </tr>\n",
       "  </tbody>\n",
       "</table>\n",
       "</div>"
      ],
      "text/plain": [
       "         cp             no kanyu_yymmdd  card  channel  kzk_f  kanyu_year  \\\n",
       "0  20180331  4980006342739   2018-03-01  ゴールド  店頭タブレット      1        2018   \n",
       "1  20180331  4980006342748   2018-03-01  ゴールド  店頭タブレット      0        2018   \n",
       "2  20180331  4980006342757   2018-03-01  ゴールド  店頭タブレット      0        2018   \n",
       "3  20180331  4980006342766   2018-03-01  ゴールド       郵送      1        2018   \n",
       "4  20180331  4980006342775   2018-03-01  ゴールド       郵送      1        2018   \n",
       "\n",
       "   kanyu_month kanyu_yymm  \n",
       "0            3    2018年3月  \n",
       "1            3    2018年3月  \n",
       "2            3    2018年3月  \n",
       "3            3    2018年3月  \n",
       "4            3    2018年3月  "
      ]
     },
     "execution_count": 95,
     "metadata": {},
     "output_type": "execute_result"
    }
   ],
   "source": [
    "df['kanyu_yymmdd'] = pd.to_datetime(df['kanyu_yymmdd'], format = '%Y%m%d')\n",
    "df['kanyu_year'] = df['kanyu_yymmdd'].dt.year\n",
    "df['kanyu_month'] = df['kanyu_yymmdd'].dt.month\n",
    "df['kanyu_yymm'] = df[['kanyu_year', 'kanyu_month']].apply(lambda x: '{}年{}月'.format(x[0], x[1]), axis=1)\n",
    "df.head()"
   ]
  },
  {
   "cell_type": "code",
   "execution_count": 96,
   "metadata": {},
   "outputs": [
    {
     "data": {
      "text/plain": [
       "array(['ゴールド', '一般', '外商'], dtype=object)"
      ]
     },
     "execution_count": 96,
     "metadata": {},
     "output_type": "execute_result"
    }
   ],
   "source": [
    "df['card'].unique()"
   ]
  },
  {
   "cell_type": "code",
   "execution_count": 97,
   "metadata": {},
   "outputs": [
    {
     "data": {
      "text/plain": [
       "array(['2018年3月', '2018年4月', '2018年5月', '2018年6月', '2018年7月', '2018年8月',\n",
       "       '2018年9月', '2018年10月', '2018年11月', '2018年12月', '2019年1月',\n",
       "       '2019年2月', '2019年3月'], dtype=object)"
      ]
     },
     "execution_count": 97,
     "metadata": {},
     "output_type": "execute_result"
    }
   ],
   "source": [
    "df['kanyu_yymm'].unique()"
   ]
  },
  {
   "cell_type": "code",
   "execution_count": 98,
   "metadata": {
    "scrolled": true
   },
   "outputs": [
    {
     "name": "stdout",
     "output_type": "stream",
     "text": [
      "True\n"
     ]
    }
   ],
   "source": [
    "#noの重複がないかチェック\n",
    "print(len(df) == len(df['no'].unique()))"
   ]
  },
  {
   "cell_type": "code",
   "execution_count": 99,
   "metadata": {},
   "outputs": [
    {
     "data": {
      "text/plain": [
       "141347"
      ]
     },
     "execution_count": 99,
     "metadata": {},
     "output_type": "execute_result"
    }
   ],
   "source": [
    "#重複削除\n",
    "df_dup = df.drop_duplicates(subset=['no'])\n",
    "df_dup.shape[0]"
   ]
  },
  {
   "cell_type": "code",
   "execution_count": 100,
   "metadata": {
    "scrolled": true
   },
   "outputs": [
    {
     "data": {
      "text/plain": [
       "cp              0\n",
       "no              0\n",
       "kanyu_yymmdd    0\n",
       "card            0\n",
       "channel         0\n",
       "kzk_f           0\n",
       "kanyu_year      0\n",
       "kanyu_month     0\n",
       "kanyu_yymm      0\n",
       "dtype: int64"
      ]
     },
     "execution_count": 100,
     "metadata": {},
     "output_type": "execute_result"
    }
   ],
   "source": [
    "#欠損データがないかチェック\n",
    "df_dup.isnull().sum()"
   ]
  },
  {
   "cell_type": "markdown",
   "metadata": {},
   "source": [
    "集計"
   ]
  },
  {
   "cell_type": "code",
   "execution_count": 101,
   "metadata": {},
   "outputs": [
    {
     "data": {
      "text/plain": [
       "kanyu_yymm  card\n",
       "2018年10月    ゴールド      462\n",
       "            一般       9712\n",
       "            外商       1214\n",
       "2018年11月    ゴールド      485\n",
       "            一般      11210\n",
       "Name: no, dtype: int64"
      ]
     },
     "execution_count": 101,
     "metadata": {},
     "output_type": "execute_result"
    }
   ],
   "source": [
    "#客数\n",
    "df_new= df_dup.groupby(['kanyu_yymm','card'])['no'].count()\n",
    "df_new.head()"
   ]
  },
  {
   "cell_type": "code",
   "execution_count": null,
   "metadata": {},
   "outputs": [],
   "source": []
  },
  {
   "cell_type": "code",
   "execution_count": null,
   "metadata": {},
   "outputs": [],
   "source": []
  },
  {
   "cell_type": "markdown",
   "metadata": {},
   "source": [
    "売上の集計"
   ]
  },
  {
   "cell_type": "code",
   "execution_count": 105,
   "metadata": {},
   "outputs": [
    {
     "data": {
      "text/html": [
       "<div>\n",
       "<style scoped>\n",
       "    .dataframe tbody tr th:only-of-type {\n",
       "        vertical-align: middle;\n",
       "    }\n",
       "\n",
       "    .dataframe tbody tr th {\n",
       "        vertical-align: top;\n",
       "    }\n",
       "\n",
       "    .dataframe thead th {\n",
       "        text-align: right;\n",
       "    }\n",
       "</style>\n",
       "<table border=\"1\" class=\"dataframe\">\n",
       "  <thead>\n",
       "    <tr style=\"text-align: right;\">\n",
       "      <th></th>\n",
       "      <th>kanyu_yymm</th>\n",
       "      <th>card</th>\n",
       "      <th>tot_amt_class</th>\n",
       "      <th>no_of_new_account</th>\n",
       "    </tr>\n",
       "  </thead>\n",
       "  <tbody>\n",
       "    <tr>\n",
       "      <th>0</th>\n",
       "      <td>201803</td>\n",
       "      <td>ゴールド</td>\n",
       "      <td>21_100万円以上</td>\n",
       "      <td>36</td>\n",
       "    </tr>\n",
       "    <tr>\n",
       "      <th>1</th>\n",
       "      <td>201803</td>\n",
       "      <td>ゴールド</td>\n",
       "      <td>12_10万円以上</td>\n",
       "      <td>74</td>\n",
       "    </tr>\n",
       "    <tr>\n",
       "      <th>2</th>\n",
       "      <td>201803</td>\n",
       "      <td>ゴールド</td>\n",
       "      <td>3_1万円以上</td>\n",
       "      <td>28</td>\n",
       "    </tr>\n",
       "    <tr>\n",
       "      <th>3</th>\n",
       "      <td>201803</td>\n",
       "      <td>ゴールド</td>\n",
       "      <td>22_200万円以上</td>\n",
       "      <td>7</td>\n",
       "    </tr>\n",
       "    <tr>\n",
       "      <th>4</th>\n",
       "      <td>201803</td>\n",
       "      <td>ゴールド</td>\n",
       "      <td>13_20万円以上</td>\n",
       "      <td>63</td>\n",
       "    </tr>\n",
       "  </tbody>\n",
       "</table>\n",
       "</div>"
      ],
      "text/plain": [
       "   kanyu_yymm  card tot_amt_class  no_of_new_account\n",
       "0      201803  ゴールド    21_100万円以上                 36\n",
       "1      201803  ゴールド     12_10万円以上                 74\n",
       "2      201803  ゴールド       3_1万円以上                 28\n",
       "3      201803  ゴールド    22_200万円以上                  7\n",
       "4      201803  ゴールド     13_20万円以上                 63"
      ]
     },
     "execution_count": 105,
     "metadata": {},
     "output_type": "execute_result"
    }
   ],
   "source": [
    "df = pd.read_csv(data_dir /r\"input\"/f\"{uri_tot}\",encoding='shift-jis')\n",
    "df.head()"
   ]
  },
  {
   "cell_type": "code",
   "execution_count": 106,
   "metadata": {},
   "outputs": [],
   "source": [
    "#2019年3月までに限定する\n",
    "df =df[(df[\"kanyu_yymm\"] <=201903)]"
   ]
  },
  {
   "cell_type": "code",
   "execution_count": 107,
   "metadata": {
    "scrolled": false
   },
   "outputs": [
    {
     "name": "stdout",
     "output_type": "stream",
     "text": [
      "(977, 4)\n",
      "Int64Index([  0,   1,   2,   3,   4,   5,   6,   7,   8,   9,\n",
      "            ...\n",
      "            967, 968, 969, 970, 971, 972, 973, 974, 975, 976],\n",
      "           dtype='int64', length=977)\n",
      "Index(['kanyu_yymm', 'card', 'tot_amt_class', 'no_of_new_account'], dtype='object')\n",
      "kanyu_yymm            int64\n",
      "card                 object\n",
      "tot_amt_class        object\n",
      "no_of_new_account     int64\n",
      "dtype: object\n"
     ]
    }
   ],
   "source": [
    "print(df.shape)\n",
    "print(df.index)\n",
    "print(df.columns)\n",
    "print(df.dtypes)"
   ]
  },
  {
   "cell_type": "code",
   "execution_count": 108,
   "metadata": {
    "scrolled": true
   },
   "outputs": [
    {
     "data": {
      "text/html": [
       "<div>\n",
       "<style scoped>\n",
       "    .dataframe tbody tr th:only-of-type {\n",
       "        vertical-align: middle;\n",
       "    }\n",
       "\n",
       "    .dataframe tbody tr th {\n",
       "        vertical-align: top;\n",
       "    }\n",
       "\n",
       "    .dataframe thead th {\n",
       "        text-align: right;\n",
       "    }\n",
       "</style>\n",
       "<table border=\"1\" class=\"dataframe\">\n",
       "  <thead>\n",
       "    <tr style=\"text-align: right;\">\n",
       "      <th></th>\n",
       "      <th>kanyu_yymm</th>\n",
       "      <th>card</th>\n",
       "      <th>tot_amt_class</th>\n",
       "      <th>no_of_new_account</th>\n",
       "      <th>kanyu_yymmdd</th>\n",
       "      <th>kanyu_year</th>\n",
       "      <th>kanyu_month</th>\n",
       "    </tr>\n",
       "  </thead>\n",
       "  <tbody>\n",
       "    <tr>\n",
       "      <th>0</th>\n",
       "      <td>2018年3月</td>\n",
       "      <td>ゴールド</td>\n",
       "      <td>21_100万円以上</td>\n",
       "      <td>36</td>\n",
       "      <td>2018-03-01</td>\n",
       "      <td>2018</td>\n",
       "      <td>3</td>\n",
       "    </tr>\n",
       "    <tr>\n",
       "      <th>1</th>\n",
       "      <td>2018年3月</td>\n",
       "      <td>ゴールド</td>\n",
       "      <td>12_10万円以上</td>\n",
       "      <td>74</td>\n",
       "      <td>2018-03-01</td>\n",
       "      <td>2018</td>\n",
       "      <td>3</td>\n",
       "    </tr>\n",
       "    <tr>\n",
       "      <th>2</th>\n",
       "      <td>2018年3月</td>\n",
       "      <td>ゴールド</td>\n",
       "      <td>3_1万円以上</td>\n",
       "      <td>28</td>\n",
       "      <td>2018-03-01</td>\n",
       "      <td>2018</td>\n",
       "      <td>3</td>\n",
       "    </tr>\n",
       "    <tr>\n",
       "      <th>3</th>\n",
       "      <td>2018年3月</td>\n",
       "      <td>ゴールド</td>\n",
       "      <td>22_200万円以上</td>\n",
       "      <td>7</td>\n",
       "      <td>2018-03-01</td>\n",
       "      <td>2018</td>\n",
       "      <td>3</td>\n",
       "    </tr>\n",
       "    <tr>\n",
       "      <th>4</th>\n",
       "      <td>2018年3月</td>\n",
       "      <td>ゴールド</td>\n",
       "      <td>13_20万円以上</td>\n",
       "      <td>63</td>\n",
       "      <td>2018-03-01</td>\n",
       "      <td>2018</td>\n",
       "      <td>3</td>\n",
       "    </tr>\n",
       "  </tbody>\n",
       "</table>\n",
       "</div>"
      ],
      "text/plain": [
       "  kanyu_yymm  card tot_amt_class  no_of_new_account kanyu_yymmdd  kanyu_year  \\\n",
       "0    2018年3月  ゴールド    21_100万円以上                 36   2018-03-01        2018   \n",
       "1    2018年3月  ゴールド     12_10万円以上                 74   2018-03-01        2018   \n",
       "2    2018年3月  ゴールド       3_1万円以上                 28   2018-03-01        2018   \n",
       "3    2018年3月  ゴールド    22_200万円以上                  7   2018-03-01        2018   \n",
       "4    2018年3月  ゴールド     13_20万円以上                 63   2018-03-01        2018   \n",
       "\n",
       "   kanyu_month  \n",
       "0            3  \n",
       "1            3  \n",
       "2            3  \n",
       "3            3  \n",
       "4            3  "
      ]
     },
     "execution_count": 108,
     "metadata": {},
     "output_type": "execute_result"
    }
   ],
   "source": [
    "df['kanyu_yymmdd']=df['kanyu_yymm']*100+1\n",
    "df['kanyu_yymmdd'] = pd.to_datetime(df['kanyu_yymmdd'], format = '%Y%m%d')\n",
    "df['kanyu_year'] = df['kanyu_yymmdd'].dt.year\n",
    "df['kanyu_month'] = df['kanyu_yymmdd'].dt.month\n",
    "df['kanyu_yymm'] = df[['kanyu_year', 'kanyu_month']].apply(lambda x: '{}年{}月'.format(x[0], x[1]), axis=1)\n",
    "df.head()"
   ]
  },
  {
   "cell_type": "code",
   "execution_count": 109,
   "metadata": {},
   "outputs": [
    {
     "data": {
      "text/plain": [
       "array(['ゴールド', '一般', '外商'], dtype=object)"
      ]
     },
     "execution_count": 109,
     "metadata": {},
     "output_type": "execute_result"
    }
   ],
   "source": [
    "df['card'].unique()"
   ]
  },
  {
   "cell_type": "code",
   "execution_count": 110,
   "metadata": {},
   "outputs": [
    {
     "data": {
      "text/plain": [
       "array(['2018年3月', '2018年4月', '2018年5月', '2018年6月', '2018年7月', '2018年8月',\n",
       "       '2018年9月', '2018年10月', '2018年11月', '2018年12月', '2019年1月',\n",
       "       '2019年2月', '2019年3月'], dtype=object)"
      ]
     },
     "execution_count": 110,
     "metadata": {},
     "output_type": "execute_result"
    }
   ],
   "source": [
    "df['kanyu_yymm'].unique()"
   ]
  },
  {
   "cell_type": "markdown",
   "metadata": {},
   "source": [
    "集計"
   ]
  },
  {
   "cell_type": "code",
   "execution_count": 113,
   "metadata": {},
   "outputs": [
    {
     "data": {
      "text/plain": [
       "kanyu_yymm  card  tot_amt_class\n",
       "2018年10月    ゴールド  10_8万円以上          9\n",
       "                  11_9万円以上          9\n",
       "                  12_10万円以上        63\n",
       "                  13_20万円以上        38\n",
       "                  14_30万円以上        36\n",
       "Name: no_of_new_account, dtype: int64"
      ]
     },
     "execution_count": 113,
     "metadata": {},
     "output_type": "execute_result"
    }
   ],
   "source": [
    "#客数\n",
    "df_uri = df.groupby(['kanyu_yymm','card','tot_amt_class'])['no_of_new_account'].sum()\n",
    "df_uri.head()"
   ]
  },
  {
   "cell_type": "code",
   "execution_count": 114,
   "metadata": {},
   "outputs": [
    {
     "data": {
      "text/plain": [
       "kanyu_yymm  card  tot_amt_class\n",
       "2018年10月    ゴールド  10_8万円以上          9\n",
       "                  11_9万円以上          9\n",
       "                  12_10万円以上        63\n",
       "                  13_20万円以上        38\n",
       "                  14_30万円以上        36\n",
       "Name: no_of_new_account, dtype: int64"
      ]
     },
     "execution_count": 114,
     "metadata": {},
     "output_type": "execute_result"
    }
   ],
   "source": [
    "df_uri.head()"
   ]
  },
  {
   "cell_type": "markdown",
   "metadata": {},
   "source": [
    "Merge"
   ]
  },
  {
   "cell_type": "code",
   "execution_count": 126,
   "metadata": {},
   "outputs": [
    {
     "data": {
      "text/plain": [
       "kanyu_yymm  card  tot_amt_class\n",
       "2018年10月    ゴールド  10_8万円以上          9\n",
       "                  11_9万円以上          9\n",
       "                  12_10万円以上        63\n",
       "                  13_20万円以上        38\n",
       "                  14_30万円以上        36\n",
       "Name: no_of_new_account, dtype: int64"
      ]
     },
     "execution_count": 126,
     "metadata": {},
     "output_type": "execute_result"
    }
   ],
   "source": [
    "df_uri.head()"
   ]
  },
  {
   "cell_type": "code",
   "execution_count": 121,
   "metadata": {},
   "outputs": [
    {
     "data": {
      "text/plain": [
       "kanyu_yymm  card\n",
       "2018年10月    ゴールド      462\n",
       "            一般       9712\n",
       "            外商       1214\n",
       "2018年11月    ゴールド      485\n",
       "            一般      11210\n",
       "Name: no, dtype: int64"
      ]
     },
     "execution_count": 121,
     "metadata": {},
     "output_type": "execute_result"
    }
   ],
   "source": [
    "df_new.head()"
   ]
  },
  {
   "cell_type": "code",
   "execution_count": 144,
   "metadata": {
    "scrolled": true
   },
   "outputs": [
    {
     "data": {
      "text/html": [
       "<div>\n",
       "<style scoped>\n",
       "    .dataframe tbody tr th:only-of-type {\n",
       "        vertical-align: middle;\n",
       "    }\n",
       "\n",
       "    .dataframe tbody tr th {\n",
       "        vertical-align: top;\n",
       "    }\n",
       "\n",
       "    .dataframe thead th {\n",
       "        text-align: right;\n",
       "    }\n",
       "</style>\n",
       "<table border=\"1\" class=\"dataframe\">\n",
       "  <thead>\n",
       "    <tr style=\"text-align: right;\">\n",
       "      <th></th>\n",
       "      <th></th>\n",
       "      <th></th>\n",
       "      <th>no_of_new_account</th>\n",
       "      <th>no</th>\n",
       "    </tr>\n",
       "    <tr>\n",
       "      <th>kanyu_yymm</th>\n",
       "      <th>card</th>\n",
       "      <th>tot_amt_class</th>\n",
       "      <th></th>\n",
       "      <th></th>\n",
       "    </tr>\n",
       "  </thead>\n",
       "  <tbody>\n",
       "    <tr>\n",
       "      <th rowspan=\"5\" valign=\"top\">2018年10月</th>\n",
       "      <th rowspan=\"5\" valign=\"top\">ゴールド</th>\n",
       "      <th>10_8万円以上</th>\n",
       "      <td>9</td>\n",
       "      <td>462</td>\n",
       "    </tr>\n",
       "    <tr>\n",
       "      <th>11_9万円以上</th>\n",
       "      <td>9</td>\n",
       "      <td>462</td>\n",
       "    </tr>\n",
       "    <tr>\n",
       "      <th>12_10万円以上</th>\n",
       "      <td>63</td>\n",
       "      <td>462</td>\n",
       "    </tr>\n",
       "    <tr>\n",
       "      <th>13_20万円以上</th>\n",
       "      <td>38</td>\n",
       "      <td>462</td>\n",
       "    </tr>\n",
       "    <tr>\n",
       "      <th>14_30万円以上</th>\n",
       "      <td>36</td>\n",
       "      <td>462</td>\n",
       "    </tr>\n",
       "  </tbody>\n",
       "</table>\n",
       "</div>"
      ],
      "text/plain": [
       "                               no_of_new_account   no\n",
       "kanyu_yymm card tot_amt_class                        \n",
       "2018年10月   ゴールド 10_8万円以上                       9  462\n",
       "                11_9万円以上                       9  462\n",
       "                12_10万円以上                     63  462\n",
       "                13_20万円以上                     38  462\n",
       "                14_30万円以上                     36  462"
      ]
     },
     "execution_count": 144,
     "metadata": {},
     "output_type": "execute_result"
    }
   ],
   "source": [
    "df_merge = pd.merge(df_uri, df_new, left_on=['kanyu_yymm', 'card'], right_index=True)\n",
    "df_merge.head()"
   ]
  },
  {
   "cell_type": "code",
   "execution_count": 141,
   "metadata": {},
   "outputs": [
    {
     "data": {
      "text/html": [
       "<div>\n",
       "<style scoped>\n",
       "    .dataframe tbody tr th:only-of-type {\n",
       "        vertical-align: middle;\n",
       "    }\n",
       "\n",
       "    .dataframe tbody tr th {\n",
       "        vertical-align: top;\n",
       "    }\n",
       "\n",
       "    .dataframe thead th {\n",
       "        text-align: right;\n",
       "    }\n",
       "</style>\n",
       "<table border=\"1\" class=\"dataframe\">\n",
       "  <thead>\n",
       "    <tr style=\"text-align: right;\">\n",
       "      <th></th>\n",
       "      <th></th>\n",
       "      <th></th>\n",
       "      <th>account</th>\n",
       "      <th>new_account</th>\n",
       "    </tr>\n",
       "    <tr>\n",
       "      <th>kanyu_yymm</th>\n",
       "      <th>card</th>\n",
       "      <th>tot_amt_class</th>\n",
       "      <th></th>\n",
       "      <th></th>\n",
       "    </tr>\n",
       "  </thead>\n",
       "  <tbody>\n",
       "    <tr>\n",
       "      <th rowspan=\"5\" valign=\"top\">2018年10月</th>\n",
       "      <th rowspan=\"5\" valign=\"top\">ゴールド</th>\n",
       "      <th>10_8万円以上</th>\n",
       "      <td>9</td>\n",
       "      <td>462</td>\n",
       "    </tr>\n",
       "    <tr>\n",
       "      <th>11_9万円以上</th>\n",
       "      <td>9</td>\n",
       "      <td>462</td>\n",
       "    </tr>\n",
       "    <tr>\n",
       "      <th>12_10万円以上</th>\n",
       "      <td>63</td>\n",
       "      <td>462</td>\n",
       "    </tr>\n",
       "    <tr>\n",
       "      <th>13_20万円以上</th>\n",
       "      <td>38</td>\n",
       "      <td>462</td>\n",
       "    </tr>\n",
       "    <tr>\n",
       "      <th>14_30万円以上</th>\n",
       "      <td>36</td>\n",
       "      <td>462</td>\n",
       "    </tr>\n",
       "  </tbody>\n",
       "</table>\n",
       "</div>"
      ],
      "text/plain": [
       "                               account  new_account\n",
       "kanyu_yymm card tot_amt_class                      \n",
       "2018年10月   ゴールド 10_8万円以上             9          462\n",
       "                11_9万円以上             9          462\n",
       "                12_10万円以上           63          462\n",
       "                13_20万円以上           38          462\n",
       "                14_30万円以上           36          462"
      ]
     },
     "execution_count": 141,
     "metadata": {},
     "output_type": "execute_result"
    }
   ],
   "source": [
    "df_merge = df_merge.rename(columns={'no_of_new_account':'no_of_account','no':'new_account'})\n",
    "df_merge.head()"
   ]
  },
  {
   "cell_type": "code",
   "execution_count": 143,
   "metadata": {},
   "outputs": [],
   "source": [
    "df_merge.to_csv(data_dir /r\"output\"/f\"{result}.csv\", header=True,encoding='utf-8-sig')"
   ]
  }
 ],
 "metadata": {
  "kernelspec": {
   "display_name": "Python 3",
   "language": "python",
   "name": "python3"
  },
  "language_info": {
   "codemirror_mode": {
    "name": "ipython",
    "version": 3
   },
   "file_extension": ".py",
   "mimetype": "text/x-python",
   "name": "python",
   "nbconvert_exporter": "python",
   "pygments_lexer": "ipython3",
   "version": "3.7.6"
  }
 },
 "nbformat": 4,
 "nbformat_minor": 2
}
