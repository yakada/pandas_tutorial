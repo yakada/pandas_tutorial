{
 "cells": [
  {
   "cell_type": "code",
   "execution_count": 3,
   "metadata": {},
   "outputs": [],
   "source": [
    "# ライブラリimport\n",
    "import argparse\n",
    "import logging\n",
    "import os\n",
    "\n",
    "import pandas as pd\n",
    "from pandas import DataFrame\n",
    "import pandas.tseries.offsets as offsets\n",
    "import numpy as np\n",
    "from datetime import date, timedelta, time, datetime\n",
    "from tabulate import tabulate\n",
    "\n",
    "from itertools import product\n",
    "\n",
    "from ailab_tools.smn import ImpalaResource\n",
    "from ailab_tools.utils import GMail, GSheet\n",
    "\n",
    "from collections import OrderedDict\n",
    "\n",
    "import zipfile\n",
    "import glob\n",
    "\n",
    "import gc\n",
    "\n",
    "from ailab_tools.magics import slack_notify\n",
    "\n",
    "from ailab_tools.utils import split_and_stack"
   ]
  },
  {
   "cell_type": "markdown",
   "metadata": {},
   "source": [
    "zip解凍"
   ]
  },
  {
   "cell_type": "code",
   "execution_count": null,
   "metadata": {},
   "outputs": [],
   "source": [
    "#zipしたファイル中身(数)確認\n",
    "for i in range(1,5):\n",
    "    zf = zipfile.ZipFile(f\"/home/yusuke_akada/notebook/Drawbridge/xd{i}.zip\", 'r')\n",
    "    print(zf.namelist())"
   ]
  },
  {
   "cell_type": "code",
   "execution_count": null,
   "metadata": {},
   "outputs": [],
   "source": [
    "#zipしたファイルの解凍\n",
    "for i in range(1,5):\n",
    "    with zipfile.ZipFile(f\"/home/yusuke_akada/notebook/Drawbridge/xd{i}.zip\", 'r') as existing_zip:\n",
    "        existing_zip.extractall('/home/yusuke_akada/notebook/Drawbridge')"
   ]
  },
  {
   "cell_type": "markdown",
   "metadata": {},
   "source": [
    "味見　中身の確認"
   ]
  },
  {
   "cell_type": "code",
   "execution_count": null,
   "metadata": {},
   "outputs": [],
   "source": [
    "df = pd.read_csv(\"/home/yusuke_akada/notebook/Drawbridge/part-00001_after.txt\", header=None, names=['column'])\n",
    "df.head()"
   ]
  },
  {
   "cell_type": "code",
   "execution_count": null,
   "metadata": {},
   "outputs": [],
   "source": [
    "splitted=df['column'].str.split(\":\",expand=True)\n",
    "splitted.columns = ['A', 'B']\n",
    "del splitted['A']\n",
    "splitted=splitted['B'].str.split(\"|\",1,expand=True)\n",
    "splitted.columns = ['drawbridge_consumer_id', 'smn_uid']\n",
    "stacked = split_and_stack(splitted, \"smn_uid\", sep=\"|\")\n",
    "stacked.head()"
   ]
  },
  {
   "cell_type": "markdown",
   "metadata": {},
   "source": [
    "分割されたテキストファイルを縦持ち＆統合しImpalaにUp"
   ]
  },
  {
   "cell_type": "code",
   "execution_count": null,
   "metadata": {},
   "outputs": [],
   "source": [
    "%%slack_notify @yusuke_akada\n",
    "uid_table = \"segment.drawbridge_1901\"   # tapad_idとsmn_uidの最終的な対応table\n",
    "temp_table = \"dm_tmp.ya_temp_drawbridge_190131\"    # 分割処理用のtemporary table 実行後dropされる\n",
    "\n",
    "\n",
    "with ImpalaResource(hosts=[\"172.16.60.109\"], port=21050, user='vmspool',\n",
    "                    request_pool='vmspool', httpfs_host='hc3manager02.hc3pro', httpfs_port=14000) as ir:\n",
    "\n",
    "    #まず空tableを作る\n",
    "    query = (\n",
    "        f\"\"\"\n",
    "        create table {uid_table}\n",
    "            (\n",
    "            drawbridge_consumer_id string,\n",
    "            smn_uid bigint\n",
    "            )\n",
    "        \n",
    "        partitioned by \n",
    "            (\n",
    "            block int\n",
    "            )\n",
    "        \n",
    "        stored as parquet\n",
    "        \"\"\"\n",
    "    )\n",
    "    \n",
    "    ir.execute_query_no_ret(query)    \n",
    "\n",
    "    # テキストファイル単体ごとに読込、DataFrame化\n",
    "    for i in range(0,200):\n",
    "            if i < 10:\n",
    "                df = pd.read_csv(f\"/home/yusuke_akada/notebook/Drawbridge/part-0000{i}_after.txt\", header=None, names=['column'])\n",
    "            elif 10 <= i < 100:\n",
    "                df = pd.read_csv(f\"/home/yusuke_akada/notebook/Drawbridge/part-000{i}_after.txt\", header=None, names=['column'])\n",
    "            else:\n",
    "                df = pd.read_csv(f\"/home/yusuke_akada/notebook/Drawbridge/part-00{i}_after.txt\", header=None, names=['column'])\n",
    "                \n",
    "            splitted=df['column'].str.split(\":\",expand=True)\n",
    "            splitted.columns = ['A', 'B']\n",
    "            del splitted['A']\n",
    "            splitted=splitted['B'].str.split(\"|\",1,expand=True)\n",
    "            splitted.columns = ['drawbridge_consumer_id', 'smn_uid']\n",
    "            stacked = split_and_stack(splitted, \"smn_uid\", sep=\"|\")\n",
    "        \n",
    "        # ImpalaにUP\n",
    "            ir.upload_dataframe(temp_table, stacked, ['string','bigint'])\n",
    "        \n",
    "        # 親テーブルにInsert\n",
    "            query = (\n",
    "                f\"\"\"\n",
    "                insert overwrite table {uid_table}\n",
    "                    (\n",
    "                    drawbridge_consumer_id,\n",
    "                    smn_uid \n",
    "                    )\n",
    "\n",
    "                partition\n",
    "                    (\n",
    "                    block = {i}\n",
    "                    )\n",
    "\n",
    "                select\n",
    "                 drawbridge_consumer_id,\n",
    "                 smn_uid\n",
    "                from {temp_table}\n",
    "                \"\"\"\n",
    "            )\n",
    "            ir.execute_query_no_ret(query) \n",
    "\n",
    "            # tempテーブルdrop\n",
    "            ir.drop_tables([temp_table])"
   ]
  },
  {
   "cell_type": "markdown",
   "metadata": {},
   "source": [
    "  "
   ]
  }
 ],
 "metadata": {
  "kernelspec": {
   "display_name": "Python 3",
   "language": "python",
   "name": "python3"
  },
  "language_info": {
   "codemirror_mode": {
    "name": "ipython",
    "version": 3
   },
   "file_extension": ".py",
   "mimetype": "text/x-python",
   "name": "python",
   "nbconvert_exporter": "python",
   "pygments_lexer": "ipython3",
   "version": "3.7.2"
  }
 },
 "nbformat": 4,
 "nbformat_minor": 2
}
