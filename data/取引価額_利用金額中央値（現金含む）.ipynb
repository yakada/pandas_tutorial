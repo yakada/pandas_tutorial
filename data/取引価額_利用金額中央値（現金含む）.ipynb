{
 "cells": [
  {
   "cell_type": "code",
   "execution_count": 18,
   "metadata": {},
   "outputs": [],
   "source": [
    "import pandas as pd\n",
    "import numpy as np\n",
    "from pathlib import Path\n",
    "import csv\n",
    "import xlrd\n",
    "import io\n",
    "from zipfile import ZipFile\n",
    "from datetime import date, timedelta, time, datetime\n",
    "\n",
    "import matplotlib.pyplot as plt"
   ]
  },
  {
   "cell_type": "code",
   "execution_count": 2,
   "metadata": {},
   "outputs": [
    {
     "name": "stdout",
     "output_type": "stream",
     "text": [
      "20200804\n"
     ]
    }
   ],
   "source": [
    "today_yyyymmdd = date.today().strftime(\"%Y%m%d\")\n",
    "print(today_yyyymmdd)"
   ]
  },
  {
   "cell_type": "markdown",
   "metadata": {},
   "source": [
    "import datetime \n",
    "base = datetime.date(2020,2,1)\n",
    "for i in range(0,10): \n",
    "    d=base + datetime.timedelta(i)\n",
    "    d=d.strftime(\"%Y%m%d\")\n",
    "    print(f\"N029kakutokuruiseki{d}.csv\")"
   ]
  },
  {
   "cell_type": "markdown",
   "metadata": {},
   "source": [
    "from datetime import datetime, timedelta\n",
    "\n",
    "def date_range(start_date: datetime, end_date: datetime):\n",
    "    diff = (end_date - start_date).days + 1\n",
    "    return (start_date + timedelta(i) for i in range(diff))"
   ]
  },
  {
   "cell_type": "code",
   "execution_count": 3,
   "metadata": {},
   "outputs": [],
   "source": [
    "#pandasの表示列数を増やす\n",
    "import pandas as pd\n",
    "pd.set_option('display.max_columns', 100)"
   ]
  },
  {
   "cell_type": "code",
   "execution_count": 4,
   "metadata": {},
   "outputs": [
    {
     "name": "stdout",
     "output_type": "stream",
     "text": [
      "summary_credit.csv\n",
      "年間利用金額分布\n"
     ]
    }
   ],
   "source": [
    "data_dir = Path(r\"C:\\Users\\crie072\\Documents\\01_データ関連\\Adhoc\\202007_取引価額\")\n",
    "\n",
    "#input\n",
    "new_cust = \"summary_credit.csv\"\n",
    "\n",
    "#out_put\n",
    "result = \"年間利用金額分布\"\n",
    "\n",
    "print(new_cust)\n",
    "print(result)"
   ]
  },
  {
   "cell_type": "markdown",
   "metadata": {},
   "source": [
    "column_names = ['実績月','入会申込番号','直近３ケ月買物利用金額','直近３ケ月全体利用金額','年令','性別',\n",
    "                '都道府県名','顧客状況コ－ド','マイペ設定','DM希望店','カード券種名','カ－ド加入日','初回利用日',\n",
    "                'あとからリボ申込有無コード','Weｂ明細有無コード','解約','入会チャネル']"
   ]
  },
  {
   "cell_type": "markdown",
   "metadata": {},
   "source": [
    "新規入会客の集計"
   ]
  },
  {
   "cell_type": "code",
   "execution_count": 35,
   "metadata": {},
   "outputs": [
    {
     "data": {
      "text/html": [
       "<div>\n",
       "<style scoped>\n",
       "    .dataframe tbody tr th:only-of-type {\n",
       "        vertical-align: middle;\n",
       "    }\n",
       "\n",
       "    .dataframe tbody tr th {\n",
       "        vertical-align: top;\n",
       "    }\n",
       "\n",
       "    .dataframe thead th {\n",
       "        text-align: right;\n",
       "    }\n",
       "</style>\n",
       "<table border=\"1\" class=\"dataframe\">\n",
       "  <thead>\n",
       "    <tr style=\"text-align: right;\">\n",
       "      <th></th>\n",
       "      <th>kanyu_yymm</th>\n",
       "      <th>card</th>\n",
       "      <th>kzk_f</th>\n",
       "      <th>tot_credit_amt</th>\n",
       "      <th>tot_genkin_amt</th>\n",
       "      <th>tot_amt</th>\n",
       "      <th>tot_credit_trn</th>\n",
       "      <th>tot_genkin_trn</th>\n",
       "      <th>tot_trn</th>\n",
       "    </tr>\n",
       "  </thead>\n",
       "  <tbody>\n",
       "    <tr>\n",
       "      <th>0</th>\n",
       "      <td>201803</td>\n",
       "      <td>ゴールド</td>\n",
       "      <td>0</td>\n",
       "      <td>2121870</td>\n",
       "      <td>0</td>\n",
       "      <td>2121870</td>\n",
       "      <td>39</td>\n",
       "      <td>0</td>\n",
       "      <td>39</td>\n",
       "    </tr>\n",
       "    <tr>\n",
       "      <th>1</th>\n",
       "      <td>201803</td>\n",
       "      <td>ゴールド</td>\n",
       "      <td>0</td>\n",
       "      <td>0</td>\n",
       "      <td>17820</td>\n",
       "      <td>17820</td>\n",
       "      <td>0</td>\n",
       "      <td>2</td>\n",
       "      <td>2</td>\n",
       "    </tr>\n",
       "    <tr>\n",
       "      <th>2</th>\n",
       "      <td>201803</td>\n",
       "      <td>ゴールド</td>\n",
       "      <td>1</td>\n",
       "      <td>184338</td>\n",
       "      <td>32647</td>\n",
       "      <td>216985</td>\n",
       "      <td>48</td>\n",
       "      <td>33</td>\n",
       "      <td>81</td>\n",
       "    </tr>\n",
       "    <tr>\n",
       "      <th>3</th>\n",
       "      <td>201803</td>\n",
       "      <td>ゴールド</td>\n",
       "      <td>1</td>\n",
       "      <td>168245</td>\n",
       "      <td>84965</td>\n",
       "      <td>253210</td>\n",
       "      <td>12</td>\n",
       "      <td>27</td>\n",
       "      <td>39</td>\n",
       "    </tr>\n",
       "    <tr>\n",
       "      <th>4</th>\n",
       "      <td>201803</td>\n",
       "      <td>ゴールド</td>\n",
       "      <td>0</td>\n",
       "      <td>878612</td>\n",
       "      <td>52056</td>\n",
       "      <td>930668</td>\n",
       "      <td>7</td>\n",
       "      <td>4</td>\n",
       "      <td>11</td>\n",
       "    </tr>\n",
       "  </tbody>\n",
       "</table>\n",
       "</div>"
      ],
      "text/plain": [
       "   kanyu_yymm  card  kzk_f  tot_credit_amt  tot_genkin_amt  tot_amt  \\\n",
       "0      201803  ゴールド      0         2121870               0  2121870   \n",
       "1      201803  ゴールド      0               0           17820    17820   \n",
       "2      201803  ゴールド      1          184338           32647   216985   \n",
       "3      201803  ゴールド      1          168245           84965   253210   \n",
       "4      201803  ゴールド      0          878612           52056   930668   \n",
       "\n",
       "   tot_credit_trn  tot_genkin_trn  tot_trn  \n",
       "0              39               0       39  \n",
       "1               0               2        2  \n",
       "2              48              33       81  \n",
       "3              12              27       39  \n",
       "4               7               4       11  "
      ]
     },
     "execution_count": 35,
     "metadata": {},
     "output_type": "execute_result"
    }
   ],
   "source": [
    "df = pd.read_csv(data_dir /r\"input\"/f\"{new_cust}\",encoding='shift-jis')\n",
    "df = df.drop(columns={'no'})\n",
    "df.head()"
   ]
  },
  {
   "cell_type": "code",
   "execution_count": 36,
   "metadata": {
    "scrolled": false
   },
   "outputs": [
    {
     "name": "stdout",
     "output_type": "stream",
     "text": [
      "(162415, 9)\n",
      "RangeIndex(start=0, stop=162415, step=1)\n",
      "Index(['kanyu_yymm', 'card', 'kzk_f', 'tot_credit_amt', 'tot_genkin_amt',\n",
      "       'tot_amt', 'tot_credit_trn', 'tot_genkin_trn', 'tot_trn'],\n",
      "      dtype='object')\n",
      "kanyu_yymm         int64\n",
      "card              object\n",
      "kzk_f              int64\n",
      "tot_credit_amt     int64\n",
      "tot_genkin_amt     int64\n",
      "tot_amt            int64\n",
      "tot_credit_trn     int64\n",
      "tot_genkin_trn     int64\n",
      "tot_trn            int64\n",
      "dtype: object\n"
     ]
    }
   ],
   "source": [
    "print(df.shape)\n",
    "print(df.index)\n",
    "print(df.columns)\n",
    "print(df.dtypes)"
   ]
  },
  {
   "cell_type": "code",
   "execution_count": 37,
   "metadata": {},
   "outputs": [],
   "source": [
    "#2019年3月までに限定する\n",
    "df =df[(df[\"kanyu_yymm\"] <=201903)]"
   ]
  },
  {
   "cell_type": "code",
   "execution_count": 38,
   "metadata": {
    "scrolled": true
   },
   "outputs": [
    {
     "data": {
      "text/html": [
       "<div>\n",
       "<style scoped>\n",
       "    .dataframe tbody tr th:only-of-type {\n",
       "        vertical-align: middle;\n",
       "    }\n",
       "\n",
       "    .dataframe tbody tr th {\n",
       "        vertical-align: top;\n",
       "    }\n",
       "\n",
       "    .dataframe thead th {\n",
       "        text-align: right;\n",
       "    }\n",
       "</style>\n",
       "<table border=\"1\" class=\"dataframe\">\n",
       "  <thead>\n",
       "    <tr style=\"text-align: right;\">\n",
       "      <th></th>\n",
       "      <th>kanyu_yymm</th>\n",
       "      <th>card</th>\n",
       "      <th>kzk_f</th>\n",
       "      <th>tot_credit_amt</th>\n",
       "      <th>tot_genkin_amt</th>\n",
       "      <th>tot_amt</th>\n",
       "      <th>tot_credit_trn</th>\n",
       "      <th>tot_genkin_trn</th>\n",
       "      <th>tot_trn</th>\n",
       "      <th>kanyu_yymmdd</th>\n",
       "      <th>kanyu_year</th>\n",
       "      <th>kanyu_month</th>\n",
       "    </tr>\n",
       "  </thead>\n",
       "  <tbody>\n",
       "    <tr>\n",
       "      <th>0</th>\n",
       "      <td>2018年3月</td>\n",
       "      <td>ゴールド</td>\n",
       "      <td>0</td>\n",
       "      <td>2121870</td>\n",
       "      <td>0</td>\n",
       "      <td>2121870</td>\n",
       "      <td>39</td>\n",
       "      <td>0</td>\n",
       "      <td>39</td>\n",
       "      <td>2018-03-01</td>\n",
       "      <td>2018</td>\n",
       "      <td>3</td>\n",
       "    </tr>\n",
       "    <tr>\n",
       "      <th>1</th>\n",
       "      <td>2018年3月</td>\n",
       "      <td>ゴールド</td>\n",
       "      <td>0</td>\n",
       "      <td>0</td>\n",
       "      <td>17820</td>\n",
       "      <td>17820</td>\n",
       "      <td>0</td>\n",
       "      <td>2</td>\n",
       "      <td>2</td>\n",
       "      <td>2018-03-01</td>\n",
       "      <td>2018</td>\n",
       "      <td>3</td>\n",
       "    </tr>\n",
       "    <tr>\n",
       "      <th>2</th>\n",
       "      <td>2018年3月</td>\n",
       "      <td>ゴールド</td>\n",
       "      <td>1</td>\n",
       "      <td>184338</td>\n",
       "      <td>32647</td>\n",
       "      <td>216985</td>\n",
       "      <td>48</td>\n",
       "      <td>33</td>\n",
       "      <td>81</td>\n",
       "      <td>2018-03-01</td>\n",
       "      <td>2018</td>\n",
       "      <td>3</td>\n",
       "    </tr>\n",
       "    <tr>\n",
       "      <th>3</th>\n",
       "      <td>2018年3月</td>\n",
       "      <td>ゴールド</td>\n",
       "      <td>1</td>\n",
       "      <td>168245</td>\n",
       "      <td>84965</td>\n",
       "      <td>253210</td>\n",
       "      <td>12</td>\n",
       "      <td>27</td>\n",
       "      <td>39</td>\n",
       "      <td>2018-03-01</td>\n",
       "      <td>2018</td>\n",
       "      <td>3</td>\n",
       "    </tr>\n",
       "    <tr>\n",
       "      <th>4</th>\n",
       "      <td>2018年3月</td>\n",
       "      <td>ゴールド</td>\n",
       "      <td>0</td>\n",
       "      <td>878612</td>\n",
       "      <td>52056</td>\n",
       "      <td>930668</td>\n",
       "      <td>7</td>\n",
       "      <td>4</td>\n",
       "      <td>11</td>\n",
       "      <td>2018-03-01</td>\n",
       "      <td>2018</td>\n",
       "      <td>3</td>\n",
       "    </tr>\n",
       "  </tbody>\n",
       "</table>\n",
       "</div>"
      ],
      "text/plain": [
       "  kanyu_yymm  card  kzk_f  tot_credit_amt  tot_genkin_amt  tot_amt  \\\n",
       "0    2018年3月  ゴールド      0         2121870               0  2121870   \n",
       "1    2018年3月  ゴールド      0               0           17820    17820   \n",
       "2    2018年3月  ゴールド      1          184338           32647   216985   \n",
       "3    2018年3月  ゴールド      1          168245           84965   253210   \n",
       "4    2018年3月  ゴールド      0          878612           52056   930668   \n",
       "\n",
       "   tot_credit_trn  tot_genkin_trn  tot_trn kanyu_yymmdd  kanyu_year  \\\n",
       "0              39               0       39   2018-03-01        2018   \n",
       "1               0               2        2   2018-03-01        2018   \n",
       "2              48              33       81   2018-03-01        2018   \n",
       "3              12              27       39   2018-03-01        2018   \n",
       "4               7               4       11   2018-03-01        2018   \n",
       "\n",
       "   kanyu_month  \n",
       "0            3  \n",
       "1            3  \n",
       "2            3  \n",
       "3            3  \n",
       "4            3  "
      ]
     },
     "execution_count": 38,
     "metadata": {},
     "output_type": "execute_result"
    }
   ],
   "source": [
    "#日付データ変換\n",
    "df['kanyu_yymmdd']=df['kanyu_yymm']*100+1\n",
    "df['kanyu_yymmdd'] = pd.to_datetime(df['kanyu_yymmdd'], format = '%Y%m%d')\n",
    "df['kanyu_year'] = df['kanyu_yymmdd'].dt.year\n",
    "df['kanyu_month'] = df['kanyu_yymmdd'].dt.month\n",
    "df['kanyu_yymm'] = df[['kanyu_year', 'kanyu_month']].apply(lambda x: '{}年{}月'.format(x[0], x[1]), axis=1)\n",
    "df.head()"
   ]
  },
  {
   "cell_type": "code",
   "execution_count": 39,
   "metadata": {},
   "outputs": [
    {
     "data": {
      "text/plain": [
       "array(['ゴールド', '一般', '外商'], dtype=object)"
      ]
     },
     "execution_count": 39,
     "metadata": {},
     "output_type": "execute_result"
    }
   ],
   "source": [
    "df['card'].unique()"
   ]
  },
  {
   "cell_type": "code",
   "execution_count": 40,
   "metadata": {},
   "outputs": [
    {
     "data": {
      "text/plain": [
       "array(['2018年3月', '2018年4月', '2018年5月', '2018年6月', '2018年7月', '2018年8月',\n",
       "       '2018年9月', '2018年10月', '2018年11月', '2018年12月', '2019年1月',\n",
       "       '2019年2月', '2019年3月'], dtype=object)"
      ]
     },
     "execution_count": 40,
     "metadata": {},
     "output_type": "execute_result"
    }
   ],
   "source": [
    "df['kanyu_yymm'].unique()"
   ]
  },
  {
   "cell_type": "code",
   "execution_count": 41,
   "metadata": {
    "scrolled": true
   },
   "outputs": [
    {
     "data": {
      "text/plain": [
       "kanyu_yymm        0\n",
       "card              0\n",
       "kzk_f             0\n",
       "tot_credit_amt    0\n",
       "tot_genkin_amt    0\n",
       "tot_amt           0\n",
       "tot_credit_trn    0\n",
       "tot_genkin_trn    0\n",
       "tot_trn           0\n",
       "kanyu_yymmdd      0\n",
       "kanyu_year        0\n",
       "kanyu_month       0\n",
       "dtype: int64"
      ]
     },
     "execution_count": 41,
     "metadata": {},
     "output_type": "execute_result"
    }
   ],
   "source": [
    "#欠損データがないかチェック\n",
    "df.isnull().sum()"
   ]
  },
  {
   "cell_type": "markdown",
   "metadata": {},
   "source": [
    "一般カード"
   ]
  },
  {
   "cell_type": "code",
   "execution_count": 48,
   "metadata": {},
   "outputs": [
    {
     "data": {
      "text/plain": [
       "86999"
      ]
     },
     "execution_count": 48,
     "metadata": {},
     "output_type": "execute_result"
    }
   ],
   "source": [
    "df['tot_amt_k'] = df['tot_amt']/1000\n",
    "df_ippan = df.query('card == \"一般\" and tot_amt_k>0')\n",
    "df_ippan.shape[0]"
   ]
  },
  {
   "cell_type": "code",
   "execution_count": 50,
   "metadata": {},
   "outputs": [
    {
     "data": {
      "text/plain": [
       "count    86999.000000\n",
       "mean       131.879939\n",
       "std        297.596772\n",
       "min          0.050000\n",
       "25%         17.845000\n",
       "50%         54.584000\n",
       "75%        143.567500\n",
       "max      31709.254000\n",
       "Name: tot_amt_k, dtype: float64"
      ]
     },
     "execution_count": 50,
     "metadata": {},
     "output_type": "execute_result"
    }
   ],
   "source": [
    "df_ippan['tot_amt_k'].describe()"
   ]
  },
  {
   "cell_type": "markdown",
   "metadata": {},
   "source": [
    "ゴールド"
   ]
  },
  {
   "cell_type": "code",
   "execution_count": 51,
   "metadata": {},
   "outputs": [
    {
     "data": {
      "text/plain": [
       "6296"
      ]
     },
     "execution_count": 51,
     "metadata": {},
     "output_type": "execute_result"
    }
   ],
   "source": [
    "df['tot_amt_k'] = df['tot_amt']/1000\n",
    "df_gold = df.query('card == \"ゴールド\" and tot_amt_k>0')\n",
    "df_gold.shape[0]"
   ]
  },
  {
   "cell_type": "code",
   "execution_count": 52,
   "metadata": {},
   "outputs": [
    {
     "data": {
      "text/plain": [
       "count     6296.000000\n",
       "mean       509.735040\n",
       "std       1357.363526\n",
       "min          0.302000\n",
       "25%         65.408750\n",
       "50%        205.107000\n",
       "75%        560.822000\n",
       "max      69584.965000\n",
       "Name: tot_amt_k, dtype: float64"
      ]
     },
     "execution_count": 52,
     "metadata": {},
     "output_type": "execute_result"
    }
   ],
   "source": [
    "df_gold['tot_amt_k'].describe()"
   ]
  },
  {
   "cell_type": "markdown",
   "metadata": {},
   "source": [
    "お得意様"
   ]
  },
  {
   "cell_type": "code",
   "execution_count": 46,
   "metadata": {},
   "outputs": [
    {
     "data": {
      "text/plain": [
       "13274"
      ]
     },
     "execution_count": 46,
     "metadata": {},
     "output_type": "execute_result"
    }
   ],
   "source": [
    "df['tot_amt_k'] = df['tot_amt']/1000\n",
    "df_otoku = df.query('card == \"外商\" and tot_amt_k>0')\n",
    "df_otoku.shape[0]"
   ]
  },
  {
   "cell_type": "code",
   "execution_count": 53,
   "metadata": {},
   "outputs": [
    {
     "data": {
      "text/plain": [
       "count     13274.000000\n",
       "mean        778.565872\n",
       "std        2746.525070\n",
       "min           0.195000\n",
       "25%          49.648750\n",
       "50%         224.607000\n",
       "75%         762.086250\n",
       "max      208910.196000\n",
       "Name: tot_amt_k, dtype: float64"
      ]
     },
     "execution_count": 53,
     "metadata": {},
     "output_type": "execute_result"
    }
   ],
   "source": [
    "df_otoku['tot_amt_k'].describe()"
   ]
  },
  {
   "cell_type": "code",
   "execution_count": null,
   "metadata": {},
   "outputs": [],
   "source": []
  }
 ],
 "metadata": {
  "kernelspec": {
   "display_name": "Python 3",
   "language": "python",
   "name": "python3"
  },
  "language_info": {
   "codemirror_mode": {
    "name": "ipython",
    "version": 3
   },
   "file_extension": ".py",
   "mimetype": "text/x-python",
   "name": "python",
   "nbconvert_exporter": "python",
   "pygments_lexer": "ipython3",
   "version": "3.7.6"
  }
 },
 "nbformat": 4,
 "nbformat_minor": 2
}
