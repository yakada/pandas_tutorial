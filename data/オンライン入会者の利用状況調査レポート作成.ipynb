{
 "cells": [
  {
   "cell_type": "code",
   "execution_count": 248,
   "metadata": {},
   "outputs": [],
   "source": [
    "import pandas as pd\n",
    "import numpy as np\n",
    "from pathlib import Path\n",
    "import csv\n",
    "import xlrd\n",
    "import io\n",
    "from zipfile import ZipFile\n",
    "from datetime import date, timedelta, time, datetime"
   ]
  },
  {
   "cell_type": "code",
   "execution_count": 249,
   "metadata": {},
   "outputs": [
    {
     "name": "stdout",
     "output_type": "stream",
     "text": [
      "20200807\n"
     ]
    }
   ],
   "source": [
    "today_yyyymmdd = date.today().strftime(\"%Y%m%d\")\n",
    "print(today_yyyymmdd)"
   ]
  },
  {
   "cell_type": "code",
   "execution_count": 250,
   "metadata": {},
   "outputs": [],
   "source": [
    "#pandasの表示列数を増やす\n",
    "import pandas as pd\n",
    "pd.set_option('display.max_columns', 100)"
   ]
  },
  {
   "cell_type": "markdown",
   "metadata": {},
   "source": [
    "ディレクトリ"
   ]
  },
  {
   "cell_type": "code",
   "execution_count": 256,
   "metadata": {},
   "outputs": [],
   "source": [
    "data_dir = Path(r\"C:\\Users\\crie072\\Documents\\21_Online\\オンライン入会状況レポート\")"
   ]
  },
  {
   "cell_type": "markdown",
   "metadata": {},
   "source": [
    "Inputファイル"
   ]
  },
  {
   "cell_type": "code",
   "execution_count": 304,
   "metadata": {},
   "outputs": [],
   "source": [
    "input_file = \"【C100】新規入会者_5月末時点.xlsx\"\n",
    "input_file2 = \"チャネル別新規入会数.xlsx\""
   ]
  },
  {
   "cell_type": "markdown",
   "metadata": {},
   "source": [
    "基準年月"
   ]
  },
  {
   "cell_type": "code",
   "execution_count": 258,
   "metadata": {},
   "outputs": [
    {
     "name": "stdout",
     "output_type": "stream",
     "text": [
      "2020-05-31 00:00:00\n"
     ]
    }
   ],
   "source": [
    "cp_date = pd.to_datetime(20200531, format = '%Y%m%d')\n",
    "print(cp_date)"
   ]
  },
  {
   "cell_type": "markdown",
   "metadata": {},
   "source": [
    "Outputファイル"
   ]
  },
  {
   "cell_type": "markdown",
   "metadata": {},
   "source": [
    "#新規入会リスト from CSC\n",
    "input_file = \"【C100】新規入会者_5月末時点.xlsx\"\n",
    "output_file = f\"集計_新規入会者_5月末時点_{today_yyyymmdd}\"\n",
    "\n",
    "#累積アフィリエイト承認リスト\n",
    "input_file_2 = \"アフィリエイト広告_累積承認者リスト.xlsx\"\n",
    "\n",
    "act_month = 202005\n",
    "\n",
    "#アフィリエイト広告別実績\n",
    "output_file_2 = f\"アフィリエイト広告別実績_5月末時点_{today_yyyymmdd}\"\n",
    "print(input_file)\n",
    "print(output_file)\n",
    "print(input_file_2)\n",
    "print(output_file_2)"
   ]
  },
  {
   "cell_type": "code",
   "execution_count": 259,
   "metadata": {},
   "outputs": [
    {
     "data": {
      "text/html": [
       "<div>\n",
       "<style scoped>\n",
       "    .dataframe tbody tr th:only-of-type {\n",
       "        vertical-align: middle;\n",
       "    }\n",
       "\n",
       "    .dataframe tbody tr th {\n",
       "        vertical-align: top;\n",
       "    }\n",
       "\n",
       "    .dataframe thead th {\n",
       "        text-align: right;\n",
       "    }\n",
       "</style>\n",
       "<table border=\"1\" class=\"dataframe\">\n",
       "  <thead>\n",
       "    <tr style=\"text-align: right;\">\n",
       "      <th></th>\n",
       "      <th>実績月</th>\n",
       "      <th>入会申込番号</th>\n",
       "      <th>直近６ケ月買物利用金額</th>\n",
       "      <th>直近６ケ月全体利用金額</th>\n",
       "      <th>年令</th>\n",
       "      <th>性別</th>\n",
       "      <th>都道府県名</th>\n",
       "      <th>顧客状況コ－ド</th>\n",
       "      <th>マイペ設定</th>\n",
       "      <th>DM希望店コード</th>\n",
       "      <th>カード券種名</th>\n",
       "      <th>カ－ド加入日</th>\n",
       "      <th>初回利用日</th>\n",
       "      <th>あとからリボ申込有無コード</th>\n",
       "      <th>Weｂ明細有無コード</th>\n",
       "      <th>解約</th>\n",
       "      <th>入会チャネル</th>\n",
       "      <th>基準年月</th>\n",
       "    </tr>\n",
       "  </thead>\n",
       "  <tbody>\n",
       "    <tr>\n",
       "      <th>0</th>\n",
       "      <td>202005</td>\n",
       "      <td>155051921627812</td>\n",
       "      <td>769</td>\n",
       "      <td>769</td>\n",
       "      <td>38</td>\n",
       "      <td>女性</td>\n",
       "      <td>東京都</td>\n",
       "      <td>0</td>\n",
       "      <td>0</td>\n",
       "      <td>M_上野店</td>\n",
       "      <td>大丸松坂屋VISAゴールド</td>\n",
       "      <td>20200106</td>\n",
       "      <td>20200116</td>\n",
       "      <td>0</td>\n",
       "      <td>1</td>\n",
       "      <td>0</td>\n",
       "      <td>オンライン</td>\n",
       "      <td>2020-05-31</td>\n",
       "    </tr>\n",
       "    <tr>\n",
       "      <th>1</th>\n",
       "      <td>202005</td>\n",
       "      <td>155051921628414</td>\n",
       "      <td>600</td>\n",
       "      <td>600</td>\n",
       "      <td>27</td>\n",
       "      <td>男性</td>\n",
       "      <td>兵庫県</td>\n",
       "      <td>0</td>\n",
       "      <td>0</td>\n",
       "      <td>Ｄ_神戸店</td>\n",
       "      <td>大丸松坂屋VISAゴールド</td>\n",
       "      <td>20200106</td>\n",
       "      <td>20200118</td>\n",
       "      <td>0</td>\n",
       "      <td>1</td>\n",
       "      <td>0</td>\n",
       "      <td>オンライン</td>\n",
       "      <td>2020-05-31</td>\n",
       "    </tr>\n",
       "  </tbody>\n",
       "</table>\n",
       "</div>"
      ],
      "text/plain": [
       "      実績月           入会申込番号  直近６ケ月買物利用金額  直近６ケ月全体利用金額  年令  性別 都道府県名 顧客状況コ－ド  \\\n",
       "0  202005  155051921627812          769          769  38  女性   東京都       0   \n",
       "1  202005  155051921628414          600          600  27  男性   兵庫県       0   \n",
       "\n",
       "   マイペ設定 DM希望店コード         カード券種名    カ－ド加入日     初回利用日  あとからリボ申込有無コード  \\\n",
       "0      0    M_上野店  大丸松坂屋VISAゴールド  20200106  20200116              0   \n",
       "1      0    Ｄ_神戸店  大丸松坂屋VISAゴールド  20200106  20200118              0   \n",
       "\n",
       "   Weｂ明細有無コード  解約 入会チャネル       基準年月  \n",
       "0           1   0  オンライン 2020-05-31  \n",
       "1           1   0  オンライン 2020-05-31  "
      ]
     },
     "execution_count": 259,
     "metadata": {},
     "output_type": "execute_result"
    }
   ],
   "source": [
    "df = pd.read_excel(data_dir /r\"input\"/f\"{input_file}\")\n",
    "df['基準年月'] = cp_date\n",
    "df.head(2)"
   ]
  },
  {
   "cell_type": "code",
   "execution_count": 260,
   "metadata": {
    "scrolled": true
   },
   "outputs": [
    {
     "name": "stdout",
     "output_type": "stream",
     "text": [
      "(31469, 18)\n",
      "RangeIndex(start=0, stop=31469, step=1)\n",
      "Index(['実績月', '入会申込番号', '直近６ケ月買物利用金額', '直近６ケ月全体利用金額', '年令', '性別', '都道府県名',\n",
      "       '顧客状況コ－ド', 'マイペ設定', 'DM希望店コード', 'カード券種名', 'カ－ド加入日', '初回利用日',\n",
      "       'あとからリボ申込有無コード', 'Weｂ明細有無コード', '解約', '入会チャネル', '基準年月'],\n",
      "      dtype='object')\n",
      "実績月                       int64\n",
      "入会申込番号                    int64\n",
      "直近６ケ月買物利用金額               int64\n",
      "直近６ケ月全体利用金額               int64\n",
      "年令                        int64\n",
      "性別                       object\n",
      "都道府県名                    object\n",
      "顧客状況コ－ド                  object\n",
      "マイペ設定                     int64\n",
      "DM希望店コード                 object\n",
      "カード券種名                   object\n",
      "カ－ド加入日                    int64\n",
      "初回利用日                     int64\n",
      "あとからリボ申込有無コード             int64\n",
      "Weｂ明細有無コード                int64\n",
      "解約                        int64\n",
      "入会チャネル                   object\n",
      "基準年月             datetime64[ns]\n",
      "dtype: object\n"
     ]
    }
   ],
   "source": [
    "print(df.shape)\n",
    "print(df.index)\n",
    "print(df.columns)\n",
    "print(df.dtypes)"
   ]
  },
  {
   "cell_type": "code",
   "execution_count": 261,
   "metadata": {},
   "outputs": [
    {
     "data": {
      "text/html": [
       "<div>\n",
       "<style scoped>\n",
       "    .dataframe tbody tr th:only-of-type {\n",
       "        vertical-align: middle;\n",
       "    }\n",
       "\n",
       "    .dataframe tbody tr th {\n",
       "        vertical-align: top;\n",
       "    }\n",
       "\n",
       "    .dataframe thead th {\n",
       "        text-align: right;\n",
       "    }\n",
       "</style>\n",
       "<table border=\"1\" class=\"dataframe\">\n",
       "  <thead>\n",
       "    <tr style=\"text-align: right;\">\n",
       "      <th></th>\n",
       "      <th>実績月</th>\n",
       "      <th>入会申込番号</th>\n",
       "      <th>直近６ケ月買物利用金額</th>\n",
       "      <th>直近６ケ月全体利用金額</th>\n",
       "      <th>年令</th>\n",
       "      <th>性別</th>\n",
       "      <th>都道府県名</th>\n",
       "      <th>顧客状況コ－ド</th>\n",
       "      <th>マイペ設定</th>\n",
       "      <th>DM希望店コード</th>\n",
       "      <th>カード券種名</th>\n",
       "      <th>カ－ド加入日</th>\n",
       "      <th>初回利用日</th>\n",
       "      <th>あとからリボ申込有無コード</th>\n",
       "      <th>Weｂ明細有無コード</th>\n",
       "      <th>解約</th>\n",
       "      <th>入会チャネル</th>\n",
       "      <th>基準年月</th>\n",
       "      <th>初回利用日フラグ</th>\n",
       "    </tr>\n",
       "  </thead>\n",
       "  <tbody>\n",
       "    <tr>\n",
       "      <th>0</th>\n",
       "      <td>202005</td>\n",
       "      <td>155051921627812</td>\n",
       "      <td>769</td>\n",
       "      <td>769</td>\n",
       "      <td>38</td>\n",
       "      <td>女性</td>\n",
       "      <td>東京都</td>\n",
       "      <td>0</td>\n",
       "      <td>0</td>\n",
       "      <td>M_上野店</td>\n",
       "      <td>大丸松坂屋VISAゴールド</td>\n",
       "      <td>20200106</td>\n",
       "      <td>20200116</td>\n",
       "      <td>0</td>\n",
       "      <td>1</td>\n",
       "      <td>0</td>\n",
       "      <td>オンライン</td>\n",
       "      <td>2020-05-31</td>\n",
       "      <td>1</td>\n",
       "    </tr>\n",
       "  </tbody>\n",
       "</table>\n",
       "</div>"
      ],
      "text/plain": [
       "      実績月           入会申込番号  直近６ケ月買物利用金額  直近６ケ月全体利用金額  年令  性別 都道府県名 顧客状況コ－ド  \\\n",
       "0  202005  155051921627812          769          769  38  女性   東京都       0   \n",
       "\n",
       "   マイペ設定 DM希望店コード         カード券種名    カ－ド加入日     初回利用日  あとからリボ申込有無コード  \\\n",
       "0      0    M_上野店  大丸松坂屋VISAゴールド  20200106  20200116              0   \n",
       "\n",
       "   Weｂ明細有無コード  解約 入会チャネル       基準年月 初回利用日フラグ  \n",
       "0           1   0  オンライン 2020-05-31        1  "
      ]
     },
     "execution_count": 261,
     "metadata": {},
     "output_type": "execute_result"
    }
   ],
   "source": [
    "df['初回利用日フラグ'] = df['初回利用日'].apply(lambda x : \"1\" if x > 0 else \"0\")\n",
    "df.head(1)"
   ]
  },
  {
   "cell_type": "code",
   "execution_count": 285,
   "metadata": {
    "scrolled": true
   },
   "outputs": [
    {
     "data": {
      "text/html": [
       "<div>\n",
       "<style scoped>\n",
       "    .dataframe tbody tr th:only-of-type {\n",
       "        vertical-align: middle;\n",
       "    }\n",
       "\n",
       "    .dataframe tbody tr th {\n",
       "        vertical-align: top;\n",
       "    }\n",
       "\n",
       "    .dataframe thead th {\n",
       "        text-align: right;\n",
       "    }\n",
       "</style>\n",
       "<table border=\"1\" class=\"dataframe\">\n",
       "  <thead>\n",
       "    <tr style=\"text-align: right;\">\n",
       "      <th></th>\n",
       "      <th>実績月</th>\n",
       "      <th>入会申込番号</th>\n",
       "      <th>直近６ケ月買物利用金額</th>\n",
       "      <th>直近６ケ月全体利用金額</th>\n",
       "      <th>年令</th>\n",
       "      <th>性別</th>\n",
       "      <th>都道府県名</th>\n",
       "      <th>顧客状況コ－ド</th>\n",
       "      <th>マイペ設定</th>\n",
       "      <th>DM希望店コード</th>\n",
       "      <th>カード券種名</th>\n",
       "      <th>カ－ド加入日</th>\n",
       "      <th>初回利用日</th>\n",
       "      <th>あとからリボ申込有無コード</th>\n",
       "      <th>Weｂ明細有無コード</th>\n",
       "      <th>解約</th>\n",
       "      <th>入会チャネル</th>\n",
       "      <th>基準年月</th>\n",
       "      <th>初回利用日フラグ</th>\n",
       "      <th>カ－ド加入年月</th>\n",
       "    </tr>\n",
       "  </thead>\n",
       "  <tbody>\n",
       "    <tr>\n",
       "      <th>0</th>\n",
       "      <td>202005</td>\n",
       "      <td>155051921627812</td>\n",
       "      <td>769</td>\n",
       "      <td>769</td>\n",
       "      <td>38</td>\n",
       "      <td>女性</td>\n",
       "      <td>東京都</td>\n",
       "      <td>0</td>\n",
       "      <td>0</td>\n",
       "      <td>M_上野店</td>\n",
       "      <td>大丸松坂屋VISAゴールド</td>\n",
       "      <td>2020-01-06</td>\n",
       "      <td>20200116</td>\n",
       "      <td>0</td>\n",
       "      <td>1</td>\n",
       "      <td>0</td>\n",
       "      <td>オンライン</td>\n",
       "      <td>2020-05-31</td>\n",
       "      <td>1</td>\n",
       "      <td>2020年1月</td>\n",
       "    </tr>\n",
       "  </tbody>\n",
       "</table>\n",
       "</div>"
      ],
      "text/plain": [
       "      実績月           入会申込番号  直近６ケ月買物利用金額  直近６ケ月全体利用金額  年令  性別 都道府県名 顧客状況コ－ド  \\\n",
       "0  202005  155051921627812          769          769  38  女性   東京都       0   \n",
       "\n",
       "   マイペ設定 DM希望店コード         カード券種名     カ－ド加入日     初回利用日  あとからリボ申込有無コード  \\\n",
       "0      0    M_上野店  大丸松坂屋VISAゴールド 2020-01-06  20200116              0   \n",
       "\n",
       "   Weｂ明細有無コード  解約 入会チャネル       基準年月 初回利用日フラグ  カ－ド加入年月  \n",
       "0           1   0  オンライン 2020-05-31        1  2020年1月  "
      ]
     },
     "execution_count": 285,
     "metadata": {},
     "output_type": "execute_result"
    }
   ],
   "source": [
    "df['カ－ド加入日'] = pd.to_datetime(df['カ－ド加入日'], format = '%Y%m%d')\n",
    "df['カ－ド加入年'] = df['カ－ド加入日'].dt.year\n",
    "df['カ－ド加入月'] = df['カ－ド加入日'].dt.month\n",
    "\n",
    "#\"加入年月\"のカラム生成\n",
    "df['カ－ド加入年月'] = df[['カ－ド加入年', 'カ－ド加入月']].apply(lambda x: '{}年{}月'.format(x[0], x[1]), axis=1)\n",
    "df = df.drop(columns=['カ－ド加入年', 'カ－ド加入月'])\n",
    "df.head(1)"
   ]
  },
  {
   "cell_type": "code",
   "execution_count": 286,
   "metadata": {
    "scrolled": true
   },
   "outputs": [
    {
     "name": "stdout",
     "output_type": "stream",
     "text": [
      "False\n"
     ]
    }
   ],
   "source": [
    "#入会申込番号の重複がないかチェック\n",
    "print(len(df) == len(df['入会申込番号'].unique()))"
   ]
  },
  {
   "cell_type": "code",
   "execution_count": 287,
   "metadata": {
    "scrolled": true
   },
   "outputs": [
    {
     "data": {
      "text/plain": [
       "26479"
      ]
     },
     "execution_count": 287,
     "metadata": {},
     "output_type": "execute_result"
    }
   ],
   "source": [
    "#重複削除\n",
    "df_dup = df.drop_duplicates(subset=['入会申込番号','実績月'])\n",
    "df_dup.shape[0]"
   ]
  },
  {
   "cell_type": "code",
   "execution_count": 288,
   "metadata": {
    "scrolled": true
   },
   "outputs": [
    {
     "data": {
      "text/plain": [
       "実績月              0\n",
       "入会申込番号           0\n",
       "直近６ケ月買物利用金額      0\n",
       "直近６ケ月全体利用金額      0\n",
       "年令               0\n",
       "性別               0\n",
       "都道府県名            0\n",
       "顧客状況コ－ド          0\n",
       "マイペ設定            0\n",
       "DM希望店コード         0\n",
       "カード券種名           0\n",
       "カ－ド加入日           0\n",
       "初回利用日            0\n",
       "あとからリボ申込有無コード    0\n",
       "Weｂ明細有無コード       0\n",
       "解約               0\n",
       "入会チャネル           0\n",
       "基準年月             0\n",
       "初回利用日フラグ         0\n",
       "カ－ド加入年月          0\n",
       "dtype: int64"
      ]
     },
     "execution_count": 288,
     "metadata": {},
     "output_type": "execute_result"
    }
   ],
   "source": [
    "#欠損データがないかチェック\n",
    "df_dup.isnull().sum()"
   ]
  },
  {
   "cell_type": "markdown",
   "metadata": {},
   "source": [
    "#利用無し客を置き換え\n",
    "df_dup.loc[df_dup['初回利用日'] <= 0, '初回利用日'] = 20501231#ダミー年月"
   ]
  },
  {
   "cell_type": "markdown",
   "metadata": {},
   "source": [
    "#Nullを無視してフォーマット変換\n",
    "df_dup['初回利用日'] = pd.to_datetime(df_dup['初回利用日'], format = '%Y%m%d',errors='coerce')"
   ]
  },
  {
   "cell_type": "code",
   "execution_count": 281,
   "metadata": {},
   "outputs": [
    {
     "name": "stdout",
     "output_type": "stream",
     "text": [
      "実績月                       int64\n",
      "入会申込番号                    int64\n",
      "直近６ケ月買物利用金額               int64\n",
      "直近６ケ月全体利用金額               int64\n",
      "年令                        int64\n",
      "性別                       object\n",
      "都道府県名                    object\n",
      "顧客状況コ－ド                  object\n",
      "マイペ設定                     int64\n",
      "DM希望店コード                 object\n",
      "カード券種名                   object\n",
      "カ－ド加入日           datetime64[ns]\n",
      "初回利用日                     int64\n",
      "あとからリボ申込有無コード             int64\n",
      "Weｂ明細有無コード                int64\n",
      "解約                        int64\n",
      "入会チャネル                   object\n",
      "基準年月             datetime64[ns]\n",
      "初回利用日フラグ                 object\n",
      "カ－ド加入年月                  object\n",
      "dtype: object\n"
     ]
    }
   ],
   "source": [
    "print(df_dup.dtypes)"
   ]
  },
  {
   "cell_type": "code",
   "execution_count": 293,
   "metadata": {},
   "outputs": [
    {
     "name": "stderr",
     "output_type": "stream",
     "text": [
      "C:\\Users\\crie072\\anaconda3\\lib\\site-packages\\ipykernel_launcher.py:2: SettingWithCopyWarning: \n",
      "A value is trying to be set on a copy of a slice from a DataFrame.\n",
      "Try using .loc[row_indexer,col_indexer] = value instead\n",
      "\n",
      "See the caveats in the documentation: https://pandas.pydata.org/pandas-docs/stable/user_guide/indexing.html#returning-a-view-versus-a-copy\n",
      "  \n"
     ]
    }
   ],
   "source": [
    "#経過月数\n",
    "df_dup['MOB']=(df_dup['基準年月'].dt.year - df_dup['カ－ド加入日'].dt.year) * 12 + df_dup['基準年月'].dt.month - df_dup['カ－ド加入日'].dt.month\n",
    "#df_dup.loc[df_dup['MOB'] > 11, 'MOB'] = 99"
   ]
  },
  {
   "cell_type": "code",
   "execution_count": 294,
   "metadata": {},
   "outputs": [
    {
     "data": {
      "text/plain": [
       "array([4, 3, 2, 1, 0], dtype=int64)"
      ]
     },
     "execution_count": 294,
     "metadata": {},
     "output_type": "execute_result"
    }
   ],
   "source": [
    "df_dup['MOB'].unique()"
   ]
  },
  {
   "cell_type": "markdown",
   "metadata": {},
   "source": [
    "集計"
   ]
  },
  {
   "cell_type": "code",
   "execution_count": 296,
   "metadata": {},
   "outputs": [
    {
     "name": "stderr",
     "output_type": "stream",
     "text": [
      "C:\\Users\\crie072\\anaconda3\\lib\\site-packages\\ipykernel_launcher.py:1: SettingWithCopyWarning: \n",
      "A value is trying to be set on a copy of a slice from a DataFrame.\n",
      "Try using .loc[row_indexer,col_indexer] = value instead\n",
      "\n",
      "See the caveats in the documentation: https://pandas.pydata.org/pandas-docs/stable/user_guide/indexing.html#returning-a-view-versus-a-copy\n",
      "  \"\"\"Entry point for launching an IPython kernel.\n"
     ]
    },
    {
     "data": {
      "text/html": [
       "<div>\n",
       "<style scoped>\n",
       "    .dataframe tbody tr th:only-of-type {\n",
       "        vertical-align: middle;\n",
       "    }\n",
       "\n",
       "    .dataframe tbody tr th {\n",
       "        vertical-align: top;\n",
       "    }\n",
       "\n",
       "    .dataframe thead th {\n",
       "        text-align: right;\n",
       "    }\n",
       "</style>\n",
       "<table border=\"1\" class=\"dataframe\">\n",
       "  <thead>\n",
       "    <tr style=\"text-align: right;\">\n",
       "      <th></th>\n",
       "      <th>実績月</th>\n",
       "      <th>入会申込番号</th>\n",
       "      <th>直近６ケ月買物利用金額</th>\n",
       "      <th>直近６ケ月全体利用金額</th>\n",
       "      <th>年令</th>\n",
       "      <th>性別</th>\n",
       "      <th>都道府県名</th>\n",
       "      <th>顧客状況コ－ド</th>\n",
       "      <th>マイペ設定</th>\n",
       "      <th>DM希望店コード</th>\n",
       "      <th>カード券種名</th>\n",
       "      <th>カ－ド加入日</th>\n",
       "      <th>初回利用日</th>\n",
       "      <th>あとからリボ申込有無コード</th>\n",
       "      <th>Weｂ明細有無コード</th>\n",
       "      <th>解約</th>\n",
       "      <th>入会チャネル</th>\n",
       "      <th>基準年月</th>\n",
       "      <th>初回利用日フラグ</th>\n",
       "      <th>カ－ド加入年月</th>\n",
       "      <th>MOB</th>\n",
       "      <th>no</th>\n",
       "    </tr>\n",
       "  </thead>\n",
       "  <tbody>\n",
       "    <tr>\n",
       "      <th>0</th>\n",
       "      <td>202005</td>\n",
       "      <td>155051921627812</td>\n",
       "      <td>769</td>\n",
       "      <td>769</td>\n",
       "      <td>38</td>\n",
       "      <td>女性</td>\n",
       "      <td>東京都</td>\n",
       "      <td>0</td>\n",
       "      <td>0</td>\n",
       "      <td>M_上野店</td>\n",
       "      <td>大丸松坂屋VISAゴールド</td>\n",
       "      <td>2020-01-06</td>\n",
       "      <td>20200116</td>\n",
       "      <td>0</td>\n",
       "      <td>1</td>\n",
       "      <td>0</td>\n",
       "      <td>オンライン</td>\n",
       "      <td>2020-05-31</td>\n",
       "      <td>1</td>\n",
       "      <td>2020年1月</td>\n",
       "      <td>4</td>\n",
       "      <td>1</td>\n",
       "    </tr>\n",
       "    <tr>\n",
       "      <th>1</th>\n",
       "      <td>202005</td>\n",
       "      <td>155051921628414</td>\n",
       "      <td>600</td>\n",
       "      <td>600</td>\n",
       "      <td>27</td>\n",
       "      <td>男性</td>\n",
       "      <td>兵庫県</td>\n",
       "      <td>0</td>\n",
       "      <td>0</td>\n",
       "      <td>Ｄ_神戸店</td>\n",
       "      <td>大丸松坂屋VISAゴールド</td>\n",
       "      <td>2020-01-06</td>\n",
       "      <td>20200118</td>\n",
       "      <td>0</td>\n",
       "      <td>1</td>\n",
       "      <td>0</td>\n",
       "      <td>オンライン</td>\n",
       "      <td>2020-05-31</td>\n",
       "      <td>1</td>\n",
       "      <td>2020年1月</td>\n",
       "      <td>4</td>\n",
       "      <td>1</td>\n",
       "    </tr>\n",
       "    <tr>\n",
       "      <th>2</th>\n",
       "      <td>202005</td>\n",
       "      <td>155051921636805</td>\n",
       "      <td>143</td>\n",
       "      <td>143</td>\n",
       "      <td>63</td>\n",
       "      <td>男性</td>\n",
       "      <td>大阪府</td>\n",
       "      <td>0</td>\n",
       "      <td>0</td>\n",
       "      <td>Ｄ_梅田店</td>\n",
       "      <td>大丸松坂屋VISAゴールド</td>\n",
       "      <td>2020-01-06</td>\n",
       "      <td>20200115</td>\n",
       "      <td>0</td>\n",
       "      <td>1</td>\n",
       "      <td>0</td>\n",
       "      <td>オンライン</td>\n",
       "      <td>2020-05-31</td>\n",
       "      <td>1</td>\n",
       "      <td>2020年1月</td>\n",
       "      <td>4</td>\n",
       "      <td>1</td>\n",
       "    </tr>\n",
       "    <tr>\n",
       "      <th>3</th>\n",
       "      <td>202005</td>\n",
       "      <td>155193017345014</td>\n",
       "      <td>2</td>\n",
       "      <td>2</td>\n",
       "      <td>46</td>\n",
       "      <td>男性</td>\n",
       "      <td>茨城県</td>\n",
       "      <td>0</td>\n",
       "      <td>1</td>\n",
       "      <td>Ｄ_東京店</td>\n",
       "      <td>大丸松坂屋VISAゴールド</td>\n",
       "      <td>2020-01-06</td>\n",
       "      <td>20200116</td>\n",
       "      <td>0</td>\n",
       "      <td>1</td>\n",
       "      <td>0</td>\n",
       "      <td>店頭タブレット</td>\n",
       "      <td>2020-05-31</td>\n",
       "      <td>1</td>\n",
       "      <td>2020年1月</td>\n",
       "      <td>4</td>\n",
       "      <td>1</td>\n",
       "    </tr>\n",
       "    <tr>\n",
       "      <th>4</th>\n",
       "      <td>202005</td>\n",
       "      <td>155193017345790</td>\n",
       "      <td>148</td>\n",
       "      <td>148</td>\n",
       "      <td>59</td>\n",
       "      <td>男性</td>\n",
       "      <td>兵庫県</td>\n",
       "      <td>0</td>\n",
       "      <td>1</td>\n",
       "      <td>Ｄ_梅田店</td>\n",
       "      <td>大丸松坂屋VISAゴールド</td>\n",
       "      <td>2020-01-06</td>\n",
       "      <td>20200209</td>\n",
       "      <td>0</td>\n",
       "      <td>1</td>\n",
       "      <td>0</td>\n",
       "      <td>店頭タブレット</td>\n",
       "      <td>2020-05-31</td>\n",
       "      <td>1</td>\n",
       "      <td>2020年1月</td>\n",
       "      <td>4</td>\n",
       "      <td>1</td>\n",
       "    </tr>\n",
       "  </tbody>\n",
       "</table>\n",
       "</div>"
      ],
      "text/plain": [
       "      実績月           入会申込番号  直近６ケ月買物利用金額  直近６ケ月全体利用金額  年令  性別 都道府県名 顧客状況コ－ド  \\\n",
       "0  202005  155051921627812          769          769  38  女性   東京都       0   \n",
       "1  202005  155051921628414          600          600  27  男性   兵庫県       0   \n",
       "2  202005  155051921636805          143          143  63  男性   大阪府       0   \n",
       "3  202005  155193017345014            2            2  46  男性   茨城県       0   \n",
       "4  202005  155193017345790          148          148  59  男性   兵庫県       0   \n",
       "\n",
       "   マイペ設定 DM希望店コード         カード券種名     カ－ド加入日     初回利用日  あとからリボ申込有無コード  \\\n",
       "0      0    M_上野店  大丸松坂屋VISAゴールド 2020-01-06  20200116              0   \n",
       "1      0    Ｄ_神戸店  大丸松坂屋VISAゴールド 2020-01-06  20200118              0   \n",
       "2      0    Ｄ_梅田店  大丸松坂屋VISAゴールド 2020-01-06  20200115              0   \n",
       "3      1    Ｄ_東京店  大丸松坂屋VISAゴールド 2020-01-06  20200116              0   \n",
       "4      1    Ｄ_梅田店  大丸松坂屋VISAゴールド 2020-01-06  20200209              0   \n",
       "\n",
       "   Weｂ明細有無コード  解約   入会チャネル       基準年月 初回利用日フラグ  カ－ド加入年月  MOB  no  \n",
       "0           1   0    オンライン 2020-05-31        1  2020年1月    4   1  \n",
       "1           1   0    オンライン 2020-05-31        1  2020年1月    4   1  \n",
       "2           1   0    オンライン 2020-05-31        1  2020年1月    4   1  \n",
       "3           1   0  店頭タブレット 2020-05-31        1  2020年1月    4   1  \n",
       "4           1   0  店頭タブレット 2020-05-31        1  2020年1月    4   1  "
      ]
     },
     "execution_count": 296,
     "metadata": {},
     "output_type": "execute_result"
    }
   ],
   "source": [
    "df_dup['no'] = 1\n",
    "df_dup.head()"
   ]
  },
  {
   "cell_type": "code",
   "execution_count": 297,
   "metadata": {},
   "outputs": [],
   "source": [
    "#客数\n",
    "df_count = df_dup.groupby(['実績月','入会チャネル','カ－ド加入年月','初回利用日フラグ','解約'])['no'].count()"
   ]
  },
  {
   "cell_type": "code",
   "execution_count": 298,
   "metadata": {},
   "outputs": [],
   "source": [
    "#金額\n",
    "df_amount= df_dup.groupby(['実績月','入会チャネル','カ－ド加入年月','初回利用日フラグ','解約'])['直近６ケ月全体利用金額'].sum()"
   ]
  },
  {
   "cell_type": "code",
   "execution_count": 352,
   "metadata": {
    "scrolled": true
   },
   "outputs": [
    {
     "data": {
      "text/html": [
       "<div>\n",
       "<style scoped>\n",
       "    .dataframe tbody tr th:only-of-type {\n",
       "        vertical-align: middle;\n",
       "    }\n",
       "\n",
       "    .dataframe tbody tr th {\n",
       "        vertical-align: top;\n",
       "    }\n",
       "\n",
       "    .dataframe thead th {\n",
       "        text-align: right;\n",
       "    }\n",
       "</style>\n",
       "<table border=\"1\" class=\"dataframe\">\n",
       "  <thead>\n",
       "    <tr style=\"text-align: right;\">\n",
       "      <th></th>\n",
       "      <th></th>\n",
       "      <th></th>\n",
       "      <th></th>\n",
       "      <th></th>\n",
       "      <th>no</th>\n",
       "      <th>直近６ケ月全体利用金額</th>\n",
       "    </tr>\n",
       "    <tr>\n",
       "      <th>実績月</th>\n",
       "      <th>入会チャネル</th>\n",
       "      <th>カ－ド加入年月</th>\n",
       "      <th>初回利用日フラグ</th>\n",
       "      <th>解約</th>\n",
       "      <th></th>\n",
       "      <th></th>\n",
       "    </tr>\n",
       "  </thead>\n",
       "  <tbody>\n",
       "    <tr>\n",
       "      <th rowspan=\"5\" valign=\"top\">202005</th>\n",
       "      <th rowspan=\"5\" valign=\"top\">オンライン</th>\n",
       "      <th rowspan=\"4\" valign=\"top\">2020年1月</th>\n",
       "      <th rowspan=\"2\" valign=\"top\">0</th>\n",
       "      <th>0</th>\n",
       "      <td>380</td>\n",
       "      <td>4</td>\n",
       "    </tr>\n",
       "    <tr>\n",
       "      <th>1</th>\n",
       "      <td>67</td>\n",
       "      <td>0</td>\n",
       "    </tr>\n",
       "    <tr>\n",
       "      <th rowspan=\"2\" valign=\"top\">1</th>\n",
       "      <th>0</th>\n",
       "      <td>293</td>\n",
       "      <td>30564</td>\n",
       "    </tr>\n",
       "    <tr>\n",
       "      <th>1</th>\n",
       "      <td>13</td>\n",
       "      <td>59</td>\n",
       "    </tr>\n",
       "    <tr>\n",
       "      <th>2020年2月</th>\n",
       "      <th>0</th>\n",
       "      <th>0</th>\n",
       "      <td>648</td>\n",
       "      <td>4</td>\n",
       "    </tr>\n",
       "  </tbody>\n",
       "</table>\n",
       "</div>"
      ],
      "text/plain": [
       "                                    no  直近６ケ月全体利用金額\n",
       "実績月    入会チャネル カ－ド加入年月 初回利用日フラグ 解約                  \n",
       "202005 オンライン  2020年1月 0        0   380            4\n",
       "                               1    67            0\n",
       "                      1        0   293        30564\n",
       "                               1    13           59\n",
       "              2020年2月 0        0   648            4"
      ]
     },
     "execution_count": 352,
     "metadata": {},
     "output_type": "execute_result"
    }
   ],
   "source": [
    "df_merge = pd.merge(df_count, df_amount, on=['実績月','入会チャネル','カ－ド加入年月','初回利用日フラグ','解約'], how='inner')\n",
    "df_merge.head()"
   ]
  },
  {
   "cell_type": "code",
   "execution_count": 367,
   "metadata": {},
   "outputs": [
    {
     "data": {
      "text/html": [
       "<div>\n",
       "<style scoped>\n",
       "    .dataframe tbody tr th:only-of-type {\n",
       "        vertical-align: middle;\n",
       "    }\n",
       "\n",
       "    .dataframe tbody tr th {\n",
       "        vertical-align: top;\n",
       "    }\n",
       "\n",
       "    .dataframe thead th {\n",
       "        text-align: right;\n",
       "    }\n",
       "</style>\n",
       "<table border=\"1\" class=\"dataframe\">\n",
       "  <thead>\n",
       "    <tr style=\"text-align: right;\">\n",
       "      <th></th>\n",
       "      <th></th>\n",
       "      <th></th>\n",
       "      <th></th>\n",
       "      <th></th>\n",
       "      <th>no</th>\n",
       "      <th>直近６ケ月全体利用金額</th>\n",
       "    </tr>\n",
       "    <tr>\n",
       "      <th>実績月</th>\n",
       "      <th>入会チャネル</th>\n",
       "      <th>カ－ド加入年月</th>\n",
       "      <th>初回利用日フラグ</th>\n",
       "      <th>解約</th>\n",
       "      <th></th>\n",
       "      <th></th>\n",
       "    </tr>\n",
       "  </thead>\n",
       "  <tbody>\n",
       "    <tr>\n",
       "      <th rowspan=\"5\" valign=\"top\">202005</th>\n",
       "      <th rowspan=\"5\" valign=\"top\">オンライン</th>\n",
       "      <th rowspan=\"4\" valign=\"top\">2020年1月</th>\n",
       "      <th rowspan=\"2\" valign=\"top\">0</th>\n",
       "      <th>0</th>\n",
       "      <td>380</td>\n",
       "      <td>4</td>\n",
       "    </tr>\n",
       "    <tr>\n",
       "      <th>1</th>\n",
       "      <td>67</td>\n",
       "      <td>0</td>\n",
       "    </tr>\n",
       "    <tr>\n",
       "      <th rowspan=\"2\" valign=\"top\">1</th>\n",
       "      <th>0</th>\n",
       "      <td>293</td>\n",
       "      <td>30564</td>\n",
       "    </tr>\n",
       "    <tr>\n",
       "      <th>1</th>\n",
       "      <td>13</td>\n",
       "      <td>59</td>\n",
       "    </tr>\n",
       "    <tr>\n",
       "      <th>2020年2月</th>\n",
       "      <th>0</th>\n",
       "      <th>0</th>\n",
       "      <td>648</td>\n",
       "      <td>4</td>\n",
       "    </tr>\n",
       "  </tbody>\n",
       "</table>\n",
       "</div>"
      ],
      "text/plain": [
       "                                    no  直近６ケ月全体利用金額\n",
       "実績月    入会チャネル カ－ド加入年月 初回利用日フラグ 解約                  \n",
       "202005 オンライン  2020年1月 0        0   380            4\n",
       "                               1    67            0\n",
       "                      1        0   293        30564\n",
       "                               1    13           59\n",
       "              2020年2月 0        0   648            4"
      ]
     },
     "execution_count": 367,
     "metadata": {},
     "output_type": "execute_result"
    }
   ],
   "source": [
    "df_tmp.head()"
   ]
  },
  {
   "cell_type": "markdown",
   "metadata": {},
   "source": [
    "チャネル別新規入会数読込（分母として固定するため）"
   ]
  },
  {
   "cell_type": "code",
   "execution_count": 308,
   "metadata": {},
   "outputs": [
    {
     "data": {
      "text/html": [
       "<div>\n",
       "<style scoped>\n",
       "    .dataframe tbody tr th:only-of-type {\n",
       "        vertical-align: middle;\n",
       "    }\n",
       "\n",
       "    .dataframe tbody tr th {\n",
       "        vertical-align: top;\n",
       "    }\n",
       "\n",
       "    .dataframe thead th {\n",
       "        text-align: right;\n",
       "    }\n",
       "</style>\n",
       "<table border=\"1\" class=\"dataframe\">\n",
       "  <thead>\n",
       "    <tr style=\"text-align: right;\">\n",
       "      <th></th>\n",
       "      <th>実績月</th>\n",
       "      <th>入会チャネル</th>\n",
       "      <th>新規入会数</th>\n",
       "    </tr>\n",
       "  </thead>\n",
       "  <tbody>\n",
       "    <tr>\n",
       "      <th>0</th>\n",
       "      <td>201909</td>\n",
       "      <td>オンライン</td>\n",
       "      <td>126</td>\n",
       "    </tr>\n",
       "    <tr>\n",
       "      <th>1</th>\n",
       "      <td>201909</td>\n",
       "      <td>店頭タブレット</td>\n",
       "      <td>7218</td>\n",
       "    </tr>\n",
       "    <tr>\n",
       "      <th>2</th>\n",
       "      <td>201909</td>\n",
       "      <td>郵送</td>\n",
       "      <td>1944</td>\n",
       "    </tr>\n",
       "    <tr>\n",
       "      <th>3</th>\n",
       "      <td>201910</td>\n",
       "      <td>オンライン</td>\n",
       "      <td>170</td>\n",
       "    </tr>\n",
       "    <tr>\n",
       "      <th>4</th>\n",
       "      <td>201910</td>\n",
       "      <td>店頭タブレット</td>\n",
       "      <td>5189</td>\n",
       "    </tr>\n",
       "  </tbody>\n",
       "</table>\n",
       "</div>"
      ],
      "text/plain": [
       "      実績月   入会チャネル  新規入会数\n",
       "0  201909    オンライン    126\n",
       "1  201909  店頭タブレット   7218\n",
       "2  201909       郵送   1944\n",
       "3  201910    オンライン    170\n",
       "4  201910  店頭タブレット   5189"
      ]
     },
     "execution_count": 308,
     "metadata": {},
     "output_type": "execute_result"
    }
   ],
   "source": [
    "df_new = pd.read_excel(data_dir /r\"input\"/f\"{input_file2}\")\n",
    "df_new = df_new.rename(columns={'加入年月':'実績月'})\n",
    "df_new.head()"
   ]
  },
  {
   "cell_type": "code",
   "execution_count": 345,
   "metadata": {
    "scrolled": false
   },
   "outputs": [
    {
     "data": {
      "text/html": [
       "<div>\n",
       "<style scoped>\n",
       "    .dataframe tbody tr th:only-of-type {\n",
       "        vertical-align: middle;\n",
       "    }\n",
       "\n",
       "    .dataframe tbody tr th {\n",
       "        vertical-align: top;\n",
       "    }\n",
       "\n",
       "    .dataframe thead th {\n",
       "        text-align: right;\n",
       "    }\n",
       "</style>\n",
       "<table border=\"1\" class=\"dataframe\">\n",
       "  <thead>\n",
       "    <tr style=\"text-align: right;\">\n",
       "      <th></th>\n",
       "      <th>実績月</th>\n",
       "      <th>入会チャネル</th>\n",
       "      <th>no</th>\n",
       "      <th>直近６ケ月全体利用金額</th>\n",
       "      <th>新規入会数</th>\n",
       "    </tr>\n",
       "  </thead>\n",
       "  <tbody>\n",
       "    <tr>\n",
       "      <th>0</th>\n",
       "      <td>202005</td>\n",
       "      <td>オンライン</td>\n",
       "      <td>380</td>\n",
       "      <td>4</td>\n",
       "      <td>585</td>\n",
       "    </tr>\n",
       "    <tr>\n",
       "      <th>1</th>\n",
       "      <td>202005</td>\n",
       "      <td>オンライン</td>\n",
       "      <td>67</td>\n",
       "      <td>0</td>\n",
       "      <td>585</td>\n",
       "    </tr>\n",
       "    <tr>\n",
       "      <th>2</th>\n",
       "      <td>202005</td>\n",
       "      <td>オンライン</td>\n",
       "      <td>293</td>\n",
       "      <td>30564</td>\n",
       "      <td>585</td>\n",
       "    </tr>\n",
       "    <tr>\n",
       "      <th>3</th>\n",
       "      <td>202005</td>\n",
       "      <td>オンライン</td>\n",
       "      <td>13</td>\n",
       "      <td>59</td>\n",
       "      <td>585</td>\n",
       "    </tr>\n",
       "    <tr>\n",
       "      <th>4</th>\n",
       "      <td>202005</td>\n",
       "      <td>オンライン</td>\n",
       "      <td>648</td>\n",
       "      <td>4</td>\n",
       "      <td>585</td>\n",
       "    </tr>\n",
       "  </tbody>\n",
       "</table>\n",
       "</div>"
      ],
      "text/plain": [
       "      実績月 入会チャネル   no  直近６ケ月全体利用金額  新規入会数\n",
       "0  202005  オンライン  380            4    585\n",
       "1  202005  オンライン   67            0    585\n",
       "2  202005  オンライン  293        30564    585\n",
       "3  202005  オンライン   13           59    585\n",
       "4  202005  オンライン  648            4    585"
      ]
     },
     "execution_count": 345,
     "metadata": {},
     "output_type": "execute_result"
    }
   ],
   "source": [
    "df_merge2 = pd.merge(df_merge, df_new, on=['実績月', '入会チャネル'],how='left')\n",
    "df_merge2.head()"
   ]
  },
  {
   "cell_type": "code",
   "execution_count": null,
   "metadata": {},
   "outputs": [],
   "source": []
  },
  {
   "cell_type": "code",
   "execution_count": null,
   "metadata": {},
   "outputs": [],
   "source": []
  },
  {
   "cell_type": "code",
   "execution_count": null,
   "metadata": {},
   "outputs": [],
   "source": []
  },
  {
   "cell_type": "code",
   "execution_count": 237,
   "metadata": {},
   "outputs": [
    {
     "data": {
      "text/html": [
       "<div>\n",
       "<style scoped>\n",
       "    .dataframe tbody tr th:only-of-type {\n",
       "        vertical-align: middle;\n",
       "    }\n",
       "\n",
       "    .dataframe tbody tr th {\n",
       "        vertical-align: top;\n",
       "    }\n",
       "\n",
       "    .dataframe thead th {\n",
       "        text-align: right;\n",
       "    }\n",
       "</style>\n",
       "<table border=\"1\" class=\"dataframe\">\n",
       "  <thead>\n",
       "    <tr style=\"text-align: right;\">\n",
       "      <th>MOB</th>\n",
       "      <th>0</th>\n",
       "      <th>1</th>\n",
       "      <th>2</th>\n",
       "      <th>3</th>\n",
       "      <th>4</th>\n",
       "    </tr>\n",
       "    <tr>\n",
       "      <th>カ－ド加入年月</th>\n",
       "      <th></th>\n",
       "      <th></th>\n",
       "      <th></th>\n",
       "      <th></th>\n",
       "      <th></th>\n",
       "    </tr>\n",
       "  </thead>\n",
       "  <tbody>\n",
       "    <tr>\n",
       "      <th>2020年1月</th>\n",
       "      <td>0</td>\n",
       "      <td>0</td>\n",
       "      <td>0</td>\n",
       "      <td>0</td>\n",
       "      <td>5883</td>\n",
       "    </tr>\n",
       "    <tr>\n",
       "      <th>2020年2月</th>\n",
       "      <td>0</td>\n",
       "      <td>0</td>\n",
       "      <td>0</td>\n",
       "      <td>3620</td>\n",
       "      <td>0</td>\n",
       "    </tr>\n",
       "    <tr>\n",
       "      <th>2020年3月</th>\n",
       "      <td>0</td>\n",
       "      <td>0</td>\n",
       "      <td>2221</td>\n",
       "      <td>0</td>\n",
       "      <td>0</td>\n",
       "    </tr>\n",
       "    <tr>\n",
       "      <th>2020年4月</th>\n",
       "      <td>0</td>\n",
       "      <td>606</td>\n",
       "      <td>0</td>\n",
       "      <td>0</td>\n",
       "      <td>0</td>\n",
       "    </tr>\n",
       "    <tr>\n",
       "      <th>2020年5月</th>\n",
       "      <td>240</td>\n",
       "      <td>0</td>\n",
       "      <td>0</td>\n",
       "      <td>0</td>\n",
       "      <td>0</td>\n",
       "    </tr>\n",
       "  </tbody>\n",
       "</table>\n",
       "</div>"
      ],
      "text/plain": [
       "MOB        0    1     2     3     4\n",
       "カ－ド加入年月                            \n",
       "2020年1月    0    0     0     0  5883\n",
       "2020年2月    0    0     0  3620     0\n",
       "2020年3月    0    0  2221     0     0\n",
       "2020年4月    0  606     0     0     0\n",
       "2020年5月  240    0     0     0     0"
      ]
     },
     "execution_count": 237,
     "metadata": {},
     "output_type": "execute_result"
    }
   ],
   "source": [
    "df_tmp = df_dup[df_dup['入会チャネル']==\"店頭タブレット\"]\n",
    "pd.crosstab(df_tmp['カ－ド加入年月'],df_tmp['MOB'])"
   ]
  },
  {
   "cell_type": "code",
   "execution_count": null,
   "metadata": {},
   "outputs": [],
   "source": []
  },
  {
   "cell_type": "code",
   "execution_count": null,
   "metadata": {},
   "outputs": [],
   "source": []
  },
  {
   "cell_type": "code",
   "execution_count": null,
   "metadata": {},
   "outputs": [],
   "source": []
  },
  {
   "cell_type": "code",
   "execution_count": 33,
   "metadata": {},
   "outputs": [],
   "source": [
    "df_merge.to_csv(data_dir /r\"output\"/f\"{output_file}.csv\", header=True,encoding='utf-8-sig')"
   ]
  },
  {
   "cell_type": "code",
   "execution_count": null,
   "metadata": {},
   "outputs": [],
   "source": []
  },
  {
   "cell_type": "code",
   "execution_count": 34,
   "metadata": {},
   "outputs": [],
   "source": [
    "#アフィリエイト先別に実績集計"
   ]
  },
  {
   "cell_type": "code",
   "execution_count": 241,
   "metadata": {},
   "outputs": [
    {
     "data": {
      "text/html": [
       "<div>\n",
       "<style scoped>\n",
       "    .dataframe tbody tr th:only-of-type {\n",
       "        vertical-align: middle;\n",
       "    }\n",
       "\n",
       "    .dataframe tbody tr th {\n",
       "        vertical-align: top;\n",
       "    }\n",
       "\n",
       "    .dataframe thead th {\n",
       "        text-align: right;\n",
       "    }\n",
       "</style>\n",
       "<table border=\"1\" class=\"dataframe\">\n",
       "  <thead>\n",
       "    <tr style=\"text-align: right;\">\n",
       "      <th></th>\n",
       "      <th>ASID</th>\n",
       "      <th>メディア名</th>\n",
       "      <th>媒体チャネル</th>\n",
       "      <th>クリック</th>\n",
       "      <th>申込</th>\n",
       "      <th>入会申込番号</th>\n",
       "      <th>ASP名</th>\n",
       "      <th>単価</th>\n",
       "      <th>可否</th>\n",
       "      <th>承認作業月</th>\n",
       "    </tr>\n",
       "  </thead>\n",
       "  <tbody>\n",
       "    <tr>\n",
       "      <th>0</th>\n",
       "      <td>37</td>\n",
       "      <td>げん玉</td>\n",
       "      <td>ポイント</td>\n",
       "      <td>2020-01-08 19:11:08</td>\n",
       "      <td>2020-01-08 19:32:05</td>\n",
       "      <td>155051921643397</td>\n",
       "      <td>BGT</td>\n",
       "      <td>9000</td>\n",
       "      <td>可</td>\n",
       "      <td>1月</td>\n",
       "    </tr>\n",
       "    <tr>\n",
       "      <th>1</th>\n",
       "      <td>52</td>\n",
       "      <td>ECナビSP</td>\n",
       "      <td>ポイント</td>\n",
       "      <td>2020-01-08 20:21:44</td>\n",
       "      <td>2020-01-08 20:31:05</td>\n",
       "      <td>155051921643553</td>\n",
       "      <td>BGT</td>\n",
       "      <td>9000</td>\n",
       "      <td>可</td>\n",
       "      <td>1月</td>\n",
       "    </tr>\n",
       "    <tr>\n",
       "      <th>2</th>\n",
       "      <td>52</td>\n",
       "      <td>ECナビSP</td>\n",
       "      <td>ポイント</td>\n",
       "      <td>2020-01-08 20:31:50</td>\n",
       "      <td>2020-01-08 20:39:06</td>\n",
       "      <td>155051921643587</td>\n",
       "      <td>BGT</td>\n",
       "      <td>9000</td>\n",
       "      <td>可</td>\n",
       "      <td>1月</td>\n",
       "    </tr>\n",
       "    <tr>\n",
       "      <th>3</th>\n",
       "      <td>52</td>\n",
       "      <td>ECナビSP</td>\n",
       "      <td>ポイント</td>\n",
       "      <td>2020-01-08 20:34:03</td>\n",
       "      <td>2020-01-08 20:45:05</td>\n",
       "      <td>155051921643678</td>\n",
       "      <td>BGT</td>\n",
       "      <td>9000</td>\n",
       "      <td>可</td>\n",
       "      <td>1月</td>\n",
       "    </tr>\n",
       "    <tr>\n",
       "      <th>4</th>\n",
       "      <td>82</td>\n",
       "      <td>ちょびリッチ。ドットコム</td>\n",
       "      <td>ポイント</td>\n",
       "      <td>2020-01-08 20:32:12</td>\n",
       "      <td>2020-01-08 20:55:06</td>\n",
       "      <td>155051921643744</td>\n",
       "      <td>BGT</td>\n",
       "      <td>9000</td>\n",
       "      <td>可</td>\n",
       "      <td>1月</td>\n",
       "    </tr>\n",
       "  </tbody>\n",
       "</table>\n",
       "</div>"
      ],
      "text/plain": [
       "   ASID         メディア名 媒体チャネル                クリック                  申込  \\\n",
       "0    37           げん玉   ポイント 2020-01-08 19:11:08 2020-01-08 19:32:05   \n",
       "1    52        ECナビSP   ポイント 2020-01-08 20:21:44 2020-01-08 20:31:05   \n",
       "2    52        ECナビSP   ポイント 2020-01-08 20:31:50 2020-01-08 20:39:06   \n",
       "3    52        ECナビSP   ポイント 2020-01-08 20:34:03 2020-01-08 20:45:05   \n",
       "4    82  ちょびリッチ。ドットコム   ポイント 2020-01-08 20:32:12 2020-01-08 20:55:06   \n",
       "\n",
       "            入会申込番号 ASP名    単価 可否 承認作業月  \n",
       "0  155051921643397  BGT  9000  可    1月  \n",
       "1  155051921643553  BGT  9000  可    1月  \n",
       "2  155051921643587  BGT  9000  可    1月  \n",
       "3  155051921643678  BGT  9000  可    1月  \n",
       "4  155051921643744  BGT  9000  可    1月  "
      ]
     },
     "execution_count": 241,
     "metadata": {},
     "output_type": "execute_result"
    }
   ],
   "source": [
    "df_cum = pd.read_excel(data_dir/\"input\"/f\"{input_file_2}\", dtype={'参照用': str})\n",
    "df_cum = df_cum.rename(columns={\"参照用\":'入会申込番号'})\n",
    "df_cum.head()"
   ]
  },
  {
   "cell_type": "code",
   "execution_count": 242,
   "metadata": {},
   "outputs": [],
   "source": [
    "for i in range(len(df_cum)):\n",
    "    if pd.isnull(df_cum['ASID'][i]) == True:\n",
    "        df_cum.loc[:,'ASID'][i] = 0\n",
    "\n",
    "df_cum = df_cum.astype({'ASID':int})"
   ]
  },
  {
   "cell_type": "code",
   "execution_count": 243,
   "metadata": {},
   "outputs": [
    {
     "data": {
      "text/html": [
       "<div>\n",
       "<style scoped>\n",
       "    .dataframe tbody tr th:only-of-type {\n",
       "        vertical-align: middle;\n",
       "    }\n",
       "\n",
       "    .dataframe tbody tr th {\n",
       "        vertical-align: top;\n",
       "    }\n",
       "\n",
       "    .dataframe thead th {\n",
       "        text-align: right;\n",
       "    }\n",
       "</style>\n",
       "<table border=\"1\" class=\"dataframe\">\n",
       "  <thead>\n",
       "    <tr style=\"text-align: right;\">\n",
       "      <th></th>\n",
       "      <th>実績月</th>\n",
       "      <th>入会申込番号</th>\n",
       "      <th>直近６ケ月買物利用金額</th>\n",
       "      <th>直近６ケ月全体利用金額</th>\n",
       "      <th>年令</th>\n",
       "      <th>性別</th>\n",
       "      <th>都道府県名</th>\n",
       "      <th>顧客状況コ－ド</th>\n",
       "      <th>マイペ設定</th>\n",
       "      <th>DM希望店コード</th>\n",
       "      <th>カード券種名</th>\n",
       "      <th>カ－ド加入日</th>\n",
       "      <th>初回利用日</th>\n",
       "      <th>Weｂ明細有無コード</th>\n",
       "      <th>解約</th>\n",
       "      <th>入会チャネル</th>\n",
       "      <th>カ－ド加入年</th>\n",
       "      <th>カ－ド加入月</th>\n",
       "      <th>初回利用日フラグ</th>\n",
       "    </tr>\n",
       "  </thead>\n",
       "  <tbody>\n",
       "    <tr>\n",
       "      <th>0</th>\n",
       "      <td>202005</td>\n",
       "      <td>155051921627812</td>\n",
       "      <td>769</td>\n",
       "      <td>769</td>\n",
       "      <td>38</td>\n",
       "      <td>女性</td>\n",
       "      <td>東京都</td>\n",
       "      <td>0</td>\n",
       "      <td>0</td>\n",
       "      <td>M_上野店</td>\n",
       "      <td>大丸松坂屋VISAゴールド</td>\n",
       "      <td>2020-01-06</td>\n",
       "      <td>2020-01-16</td>\n",
       "      <td>1</td>\n",
       "      <td>0</td>\n",
       "      <td>オンライン</td>\n",
       "      <td>2020</td>\n",
       "      <td>1</td>\n",
       "      <td>1</td>\n",
       "    </tr>\n",
       "    <tr>\n",
       "      <th>1</th>\n",
       "      <td>202005</td>\n",
       "      <td>155051921628414</td>\n",
       "      <td>600</td>\n",
       "      <td>600</td>\n",
       "      <td>27</td>\n",
       "      <td>男性</td>\n",
       "      <td>兵庫県</td>\n",
       "      <td>0</td>\n",
       "      <td>0</td>\n",
       "      <td>Ｄ_神戸店</td>\n",
       "      <td>大丸松坂屋VISAゴールド</td>\n",
       "      <td>2020-01-06</td>\n",
       "      <td>2020-01-18</td>\n",
       "      <td>1</td>\n",
       "      <td>0</td>\n",
       "      <td>オンライン</td>\n",
       "      <td>2020</td>\n",
       "      <td>1</td>\n",
       "      <td>1</td>\n",
       "    </tr>\n",
       "    <tr>\n",
       "      <th>2</th>\n",
       "      <td>202005</td>\n",
       "      <td>155051921636805</td>\n",
       "      <td>143</td>\n",
       "      <td>143</td>\n",
       "      <td>63</td>\n",
       "      <td>男性</td>\n",
       "      <td>大阪府</td>\n",
       "      <td>0</td>\n",
       "      <td>0</td>\n",
       "      <td>Ｄ_梅田店</td>\n",
       "      <td>大丸松坂屋VISAゴールド</td>\n",
       "      <td>2020-01-06</td>\n",
       "      <td>2020-01-15</td>\n",
       "      <td>1</td>\n",
       "      <td>0</td>\n",
       "      <td>オンライン</td>\n",
       "      <td>2020</td>\n",
       "      <td>1</td>\n",
       "      <td>1</td>\n",
       "    </tr>\n",
       "    <tr>\n",
       "      <th>3</th>\n",
       "      <td>202005</td>\n",
       "      <td>155193017345014</td>\n",
       "      <td>2</td>\n",
       "      <td>2</td>\n",
       "      <td>46</td>\n",
       "      <td>男性</td>\n",
       "      <td>茨城県</td>\n",
       "      <td>0</td>\n",
       "      <td>1</td>\n",
       "      <td>Ｄ_東京店</td>\n",
       "      <td>大丸松坂屋VISAゴールド</td>\n",
       "      <td>2020-01-06</td>\n",
       "      <td>2020-01-16</td>\n",
       "      <td>1</td>\n",
       "      <td>0</td>\n",
       "      <td>店頭タブレット</td>\n",
       "      <td>2020</td>\n",
       "      <td>1</td>\n",
       "      <td>1</td>\n",
       "    </tr>\n",
       "    <tr>\n",
       "      <th>4</th>\n",
       "      <td>202005</td>\n",
       "      <td>155193017345790</td>\n",
       "      <td>148</td>\n",
       "      <td>148</td>\n",
       "      <td>59</td>\n",
       "      <td>男性</td>\n",
       "      <td>兵庫県</td>\n",
       "      <td>0</td>\n",
       "      <td>1</td>\n",
       "      <td>Ｄ_梅田店</td>\n",
       "      <td>大丸松坂屋VISAゴールド</td>\n",
       "      <td>2020-01-06</td>\n",
       "      <td>2020-02-09</td>\n",
       "      <td>1</td>\n",
       "      <td>0</td>\n",
       "      <td>店頭タブレット</td>\n",
       "      <td>2020</td>\n",
       "      <td>1</td>\n",
       "      <td>1</td>\n",
       "    </tr>\n",
       "  </tbody>\n",
       "</table>\n",
       "</div>"
      ],
      "text/plain": [
       "      実績月           入会申込番号  直近６ケ月買物利用金額  直近６ケ月全体利用金額  年令  性別 都道府県名 顧客状況コ－ド  \\\n",
       "0  202005  155051921627812          769          769  38  女性   東京都       0   \n",
       "1  202005  155051921628414          600          600  27  男性   兵庫県       0   \n",
       "2  202005  155051921636805          143          143  63  男性   大阪府       0   \n",
       "3  202005  155193017345014            2            2  46  男性   茨城県       0   \n",
       "4  202005  155193017345790          148          148  59  男性   兵庫県       0   \n",
       "\n",
       "   マイペ設定 DM希望店コード         カード券種名     カ－ド加入日      初回利用日  Weｂ明細有無コード  解約  \\\n",
       "0      0    M_上野店  大丸松坂屋VISAゴールド 2020-01-06 2020-01-16           1   0   \n",
       "1      0    Ｄ_神戸店  大丸松坂屋VISAゴールド 2020-01-06 2020-01-18           1   0   \n",
       "2      0    Ｄ_梅田店  大丸松坂屋VISAゴールド 2020-01-06 2020-01-15           1   0   \n",
       "3      1    Ｄ_東京店  大丸松坂屋VISAゴールド 2020-01-06 2020-01-16           1   0   \n",
       "4      1    Ｄ_梅田店  大丸松坂屋VISAゴールド 2020-01-06 2020-02-09           1   0   \n",
       "\n",
       "    入会チャネル  カ－ド加入年  カ－ド加入月 初回利用日フラグ  \n",
       "0    オンライン    2020       1        1  \n",
       "1    オンライン    2020       1        1  \n",
       "2    オンライン    2020       1        1  \n",
       "3  店頭タブレット    2020       1        1  \n",
       "4  店頭タブレット    2020       1        1  "
      ]
     },
     "execution_count": 243,
     "metadata": {},
     "output_type": "execute_result"
    }
   ],
   "source": [
    "df_dup2.head()"
   ]
  },
  {
   "cell_type": "code",
   "execution_count": 244,
   "metadata": {},
   "outputs": [],
   "source": [
    "#新規入会リストからオンライン客に限定\n",
    "df_online =df_dup2[(df_dup2[\"入会チャネル\"] == \"オンライン\") \n",
    "               & (df_dup2[\"実績月\"] == act_month) ]\n",
    "df_online = df_online.astype({'入会申込番号':str})"
   ]
  },
  {
   "cell_type": "code",
   "execution_count": 245,
   "metadata": {},
   "outputs": [
    {
     "data": {
      "text/plain": [
       "2946"
      ]
     },
     "execution_count": 245,
     "metadata": {},
     "output_type": "execute_result"
    }
   ],
   "source": [
    "df_online.shape[0]"
   ]
  },
  {
   "cell_type": "code",
   "execution_count": 246,
   "metadata": {},
   "outputs": [
    {
     "data": {
      "text/plain": [
       "1867"
      ]
     },
     "execution_count": 246,
     "metadata": {},
     "output_type": "execute_result"
    }
   ],
   "source": [
    "df_merge = pd.merge(df_cum, df_online, on=['入会申込番号'], how='inner')\n",
    "df_merge.shape[0]"
   ]
  },
  {
   "cell_type": "code",
   "execution_count": 247,
   "metadata": {},
   "outputs": [
    {
     "ename": "KeyError",
     "evalue": "'Column not found: no'",
     "output_type": "error",
     "traceback": [
      "\u001b[1;31m---------------------------------------------------------------------------\u001b[0m",
      "\u001b[1;31mKeyError\u001b[0m                                  Traceback (most recent call last)",
      "\u001b[1;32m<ipython-input-247-088c50e91d27>\u001b[0m in \u001b[0;36m<module>\u001b[1;34m\u001b[0m\n\u001b[0;32m      1\u001b[0m \u001b[1;31m#客数\u001b[0m\u001b[1;33m\u001b[0m\u001b[1;33m\u001b[0m\u001b[1;33m\u001b[0m\u001b[0m\n\u001b[1;32m----> 2\u001b[1;33m \u001b[0mdf_count\u001b[0m \u001b[1;33m=\u001b[0m \u001b[0mdf_merge\u001b[0m\u001b[1;33m.\u001b[0m\u001b[0mgroupby\u001b[0m\u001b[1;33m(\u001b[0m\u001b[1;33m[\u001b[0m\u001b[1;34m'メディア名'\u001b[0m\u001b[1;33m,\u001b[0m\u001b[1;34m'実績月'\u001b[0m\u001b[1;33m,\u001b[0m\u001b[1;34m'入会チャネル'\u001b[0m\u001b[1;33m,\u001b[0m\u001b[1;34m'カ－ド加入年'\u001b[0m\u001b[1;33m,\u001b[0m\u001b[1;34m'カ－ド加入月'\u001b[0m\u001b[1;33m,\u001b[0m\u001b[1;34m'初回利用日フラグ'\u001b[0m\u001b[1;33m,\u001b[0m\u001b[1;34m'解約'\u001b[0m\u001b[1;33m]\u001b[0m\u001b[1;33m)\u001b[0m\u001b[1;33m[\u001b[0m\u001b[1;34m'no'\u001b[0m\u001b[1;33m]\u001b[0m\u001b[1;33m.\u001b[0m\u001b[0mcount\u001b[0m\u001b[1;33m(\u001b[0m\u001b[1;33m)\u001b[0m\u001b[1;33m\u001b[0m\u001b[1;33m\u001b[0m\u001b[0m\n\u001b[0m",
      "\u001b[1;32m~\\anaconda3\\lib\\site-packages\\pandas\\core\\groupby\\generic.py\u001b[0m in \u001b[0;36m__getitem__\u001b[1;34m(self, key)\u001b[0m\n\u001b[0;32m   1611\u001b[0m                 \u001b[0mstacklevel\u001b[0m\u001b[1;33m=\u001b[0m\u001b[1;36m2\u001b[0m\u001b[1;33m,\u001b[0m\u001b[1;33m\u001b[0m\u001b[1;33m\u001b[0m\u001b[0m\n\u001b[0;32m   1612\u001b[0m             )\n\u001b[1;32m-> 1613\u001b[1;33m         \u001b[1;32mreturn\u001b[0m \u001b[0msuper\u001b[0m\u001b[1;33m(\u001b[0m\u001b[1;33m)\u001b[0m\u001b[1;33m.\u001b[0m\u001b[0m__getitem__\u001b[0m\u001b[1;33m(\u001b[0m\u001b[0mkey\u001b[0m\u001b[1;33m)\u001b[0m\u001b[1;33m\u001b[0m\u001b[1;33m\u001b[0m\u001b[0m\n\u001b[0m\u001b[0;32m   1614\u001b[0m \u001b[1;33m\u001b[0m\u001b[0m\n\u001b[0;32m   1615\u001b[0m     \u001b[1;32mdef\u001b[0m \u001b[0m_gotitem\u001b[0m\u001b[1;33m(\u001b[0m\u001b[0mself\u001b[0m\u001b[1;33m,\u001b[0m \u001b[0mkey\u001b[0m\u001b[1;33m,\u001b[0m \u001b[0mndim\u001b[0m\u001b[1;33m:\u001b[0m \u001b[0mint\u001b[0m\u001b[1;33m,\u001b[0m \u001b[0msubset\u001b[0m\u001b[1;33m=\u001b[0m\u001b[1;32mNone\u001b[0m\u001b[1;33m)\u001b[0m\u001b[1;33m:\u001b[0m\u001b[1;33m\u001b[0m\u001b[1;33m\u001b[0m\u001b[0m\n",
      "\u001b[1;32m~\\anaconda3\\lib\\site-packages\\pandas\\core\\base.py\u001b[0m in \u001b[0;36m__getitem__\u001b[1;34m(self, key)\u001b[0m\n\u001b[0;32m    237\u001b[0m         \u001b[1;32melse\u001b[0m\u001b[1;33m:\u001b[0m\u001b[1;33m\u001b[0m\u001b[1;33m\u001b[0m\u001b[0m\n\u001b[0;32m    238\u001b[0m             \u001b[1;32mif\u001b[0m \u001b[0mkey\u001b[0m \u001b[1;32mnot\u001b[0m \u001b[1;32min\u001b[0m \u001b[0mself\u001b[0m\u001b[1;33m.\u001b[0m\u001b[0mobj\u001b[0m\u001b[1;33m:\u001b[0m\u001b[1;33m\u001b[0m\u001b[1;33m\u001b[0m\u001b[0m\n\u001b[1;32m--> 239\u001b[1;33m                 \u001b[1;32mraise\u001b[0m \u001b[0mKeyError\u001b[0m\u001b[1;33m(\u001b[0m\u001b[1;34mf\"Column not found: {key}\"\u001b[0m\u001b[1;33m)\u001b[0m\u001b[1;33m\u001b[0m\u001b[1;33m\u001b[0m\u001b[0m\n\u001b[0m\u001b[0;32m    240\u001b[0m             \u001b[1;32mreturn\u001b[0m \u001b[0mself\u001b[0m\u001b[1;33m.\u001b[0m\u001b[0m_gotitem\u001b[0m\u001b[1;33m(\u001b[0m\u001b[0mkey\u001b[0m\u001b[1;33m,\u001b[0m \u001b[0mndim\u001b[0m\u001b[1;33m=\u001b[0m\u001b[1;36m1\u001b[0m\u001b[1;33m)\u001b[0m\u001b[1;33m\u001b[0m\u001b[1;33m\u001b[0m\u001b[0m\n\u001b[0;32m    241\u001b[0m \u001b[1;33m\u001b[0m\u001b[0m\n",
      "\u001b[1;31mKeyError\u001b[0m: 'Column not found: no'"
     ]
    }
   ],
   "source": [
    "#客数\n",
    "df_count = df_merge.groupby(['メディア名','実績月','入会チャネル','カ－ド加入年','カ－ド加入月','初回利用日フラグ','解約'])['no'].count()"
   ]
  },
  {
   "cell_type": "code",
   "execution_count": 42,
   "metadata": {},
   "outputs": [],
   "source": [
    "#金額\n",
    "df_amount= df_merge.groupby(['メディア名','実績月','入会チャネル','カ－ド加入年','カ－ド加入月','初回利用日フラグ','解約'])['直近６ケ月全体利用金額'].sum()"
   ]
  },
  {
   "cell_type": "code",
   "execution_count": 43,
   "metadata": {},
   "outputs": [
    {
     "data": {
      "text/html": [
       "<div>\n",
       "<style scoped>\n",
       "    .dataframe tbody tr th:only-of-type {\n",
       "        vertical-align: middle;\n",
       "    }\n",
       "\n",
       "    .dataframe tbody tr th {\n",
       "        vertical-align: top;\n",
       "    }\n",
       "\n",
       "    .dataframe thead th {\n",
       "        text-align: right;\n",
       "    }\n",
       "</style>\n",
       "<table border=\"1\" class=\"dataframe\">\n",
       "  <thead>\n",
       "    <tr style=\"text-align: right;\">\n",
       "      <th></th>\n",
       "      <th></th>\n",
       "      <th></th>\n",
       "      <th></th>\n",
       "      <th></th>\n",
       "      <th></th>\n",
       "      <th></th>\n",
       "      <th>no</th>\n",
       "      <th>直近６ケ月全体利用金額</th>\n",
       "    </tr>\n",
       "    <tr>\n",
       "      <th>メディア名</th>\n",
       "      <th>実績月</th>\n",
       "      <th>入会チャネル</th>\n",
       "      <th>カ－ド加入年</th>\n",
       "      <th>カ－ド加入月</th>\n",
       "      <th>初回利用日フラグ</th>\n",
       "      <th>解約</th>\n",
       "      <th></th>\n",
       "      <th></th>\n",
       "    </tr>\n",
       "  </thead>\n",
       "  <tbody>\n",
       "    <tr>\n",
       "      <th rowspan=\"5\" valign=\"top\">CLUBPanasonicコイン</th>\n",
       "      <th rowspan=\"5\" valign=\"top\">202005</th>\n",
       "      <th rowspan=\"5\" valign=\"top\">オンライン</th>\n",
       "      <th rowspan=\"5\" valign=\"top\">2020</th>\n",
       "      <th>1</th>\n",
       "      <th>1</th>\n",
       "      <th>0</th>\n",
       "      <td>4</td>\n",
       "      <td>120</td>\n",
       "    </tr>\n",
       "    <tr>\n",
       "      <th rowspan=\"2\" valign=\"top\">2</th>\n",
       "      <th>0</th>\n",
       "      <th>0</th>\n",
       "      <td>3</td>\n",
       "      <td>0</td>\n",
       "    </tr>\n",
       "    <tr>\n",
       "      <th>1</th>\n",
       "      <th>0</th>\n",
       "      <td>1</td>\n",
       "      <td>2</td>\n",
       "    </tr>\n",
       "    <tr>\n",
       "      <th rowspan=\"2\" valign=\"top\">3</th>\n",
       "      <th>0</th>\n",
       "      <th>0</th>\n",
       "      <td>1</td>\n",
       "      <td>0</td>\n",
       "    </tr>\n",
       "    <tr>\n",
       "      <th>1</th>\n",
       "      <th>0</th>\n",
       "      <td>1</td>\n",
       "      <td>0</td>\n",
       "    </tr>\n",
       "  </tbody>\n",
       "</table>\n",
       "</div>"
      ],
      "text/plain": [
       "                                                          no  直近６ケ月全体利用金額\n",
       "メディア名            実績月    入会チャネル カ－ド加入年 カ－ド加入月 初回利用日フラグ 解約                 \n",
       "CLUBPanasonicコイン 202005 オンライン  2020   1      1        0    4          120\n",
       "                                      2      0        0    3            0\n",
       "                                             1        0    1            2\n",
       "                                      3      0        0    1            0\n",
       "                                             1        0    1            0"
      ]
     },
     "execution_count": 43,
     "metadata": {},
     "output_type": "execute_result"
    }
   ],
   "source": [
    "df_merge = pd.merge(df_count, df_amount, on=['メディア名','実績月','入会チャネル','カ－ド加入年','カ－ド加入月','初回利用日フラグ','解約'], how='inner')\n",
    "df_merge.head()"
   ]
  },
  {
   "cell_type": "code",
   "execution_count": 44,
   "metadata": {},
   "outputs": [],
   "source": [
    "df_merge.to_csv(data_dir /r\"output\"/f\"{output_file_2}.csv\", header=True,encoding='utf-8-sig')"
   ]
  }
 ],
 "metadata": {
  "kernelspec": {
   "display_name": "Python 3",
   "language": "python",
   "name": "python3"
  },
  "language_info": {
   "codemirror_mode": {
    "name": "ipython",
    "version": 3
   },
   "file_extension": ".py",
   "mimetype": "text/x-python",
   "name": "python",
   "nbconvert_exporter": "python",
   "pygments_lexer": "ipython3",
   "version": "3.7.6"
  }
 },
 "nbformat": 4,
 "nbformat_minor": 2
}
