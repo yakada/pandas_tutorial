{
 "cells": [
  {
   "cell_type": "code",
   "execution_count": 1,
   "metadata": {},
   "outputs": [],
   "source": [
    "import pandas as pd\n",
    "import numpy as np\n",
    "from pathlib import Path\n",
    "import csv\n",
    "import xlrd\n",
    "import io\n",
    "from zipfile import ZipFile\n",
    "from datetime import date, timedelta, time, datetime"
   ]
  },
  {
   "cell_type": "code",
   "execution_count": 2,
   "metadata": {},
   "outputs": [
    {
     "name": "stdout",
     "output_type": "stream",
     "text": [
      "20200805\n"
     ]
    }
   ],
   "source": [
    "today_yyyymmdd = date.today().strftime(\"%Y%m%d\")\n",
    "print(today_yyyymmdd)"
   ]
  },
  {
   "cell_type": "markdown",
   "metadata": {},
   "source": [
    "import datetime \n",
    "base = datetime.date(2020,2,1)\n",
    "for i in range(0,10): \n",
    "    d=base + datetime.timedelta(i)\n",
    "    d=d.strftime(\"%Y%m%d\")\n",
    "    print(f\"N029kakutokuruiseki{d}.csv\")"
   ]
  },
  {
   "cell_type": "markdown",
   "metadata": {},
   "source": [
    "from datetime import datetime, timedelta\n",
    "\n",
    "def date_range(start_date: datetime, end_date: datetime):\n",
    "    diff = (end_date - start_date).days + 1\n",
    "    return (start_date + timedelta(i) for i in range(diff))"
   ]
  },
  {
   "cell_type": "code",
   "execution_count": 4,
   "metadata": {},
   "outputs": [],
   "source": [
    "#pandasの表示列数を増やす\n",
    "import pandas as pd\n",
    "pd.set_option('display.max_columns', 100)"
   ]
  },
  {
   "cell_type": "markdown",
   "metadata": {},
   "source": [
    "リスト読込"
   ]
  },
  {
   "cell_type": "code",
   "execution_count": 41,
   "metadata": {},
   "outputs": [],
   "source": [
    "data_dir = Path(r\"C:\\Users\\crie072\\Documents\\01_データ関連\\Adhoc\\202008_消費者還元\")\n",
    "\n",
    "#新規入会リスト from CSC\n",
    "in_file_1 = \"15599901_H027SH_20191107_224533_IEQHJ063-cashback-uriage.csv\""
   ]
  },
  {
   "cell_type": "code",
   "execution_count": 54,
   "metadata": {},
   "outputs": [
    {
     "data": {
      "text/html": [
       "<div>\n",
       "<style scoped>\n",
       "    .dataframe tbody tr th:only-of-type {\n",
       "        vertical-align: middle;\n",
       "    }\n",
       "\n",
       "    .dataframe tbody tr th {\n",
       "        vertical-align: top;\n",
       "    }\n",
       "\n",
       "    .dataframe thead th {\n",
       "        text-align: right;\n",
       "    }\n",
       "</style>\n",
       "<table border=\"1\" class=\"dataframe\">\n",
       "  <thead>\n",
       "    <tr style=\"text-align: right;\">\n",
       "      <th></th>\n",
       "      <th>売上年月日</th>\n",
       "      <th>決済金額</th>\n",
       "      <th>屋号（漢字）</th>\n",
       "      <th>還元率</th>\n",
       "      <th>PAN</th>\n",
       "    </tr>\n",
       "  </thead>\n",
       "  <tbody>\n",
       "    <tr>\n",
       "      <th>0</th>\n",
       "      <td>191007</td>\n",
       "      <td>1628</td>\n",
       "      <td>ダイコクドラッグ狸小路４丁目店</td>\n",
       "      <td>5</td>\n",
       "      <td>4980121001365006</td>\n",
       "    </tr>\n",
       "    <tr>\n",
       "      <th>1</th>\n",
       "      <td>191029</td>\n",
       "      <td>10527</td>\n",
       "      <td>モッズ  ヘア  西宮店</td>\n",
       "      <td>2</td>\n",
       "      <td>4980121001365006</td>\n",
       "    </tr>\n",
       "    <tr>\n",
       "      <th>2</th>\n",
       "      <td>191016</td>\n",
       "      <td>12760</td>\n",
       "      <td>鉄板焼れすとらん中はら</td>\n",
       "      <td>5</td>\n",
       "      <td>4980121001712017</td>\n",
       "    </tr>\n",
       "    <tr>\n",
       "      <th>3</th>\n",
       "      <td>191005</td>\n",
       "      <td>21967</td>\n",
       "      <td>牛もつどて鍋  まつい亭</td>\n",
       "      <td>5</td>\n",
       "      <td>4980121002072106</td>\n",
       "    </tr>\n",
       "    <tr>\n",
       "      <th>4</th>\n",
       "      <td>191008</td>\n",
       "      <td>3853</td>\n",
       "      <td>マルヤス吹田新芦屋店</td>\n",
       "      <td>5</td>\n",
       "      <td>4980121002401016</td>\n",
       "    </tr>\n",
       "  </tbody>\n",
       "</table>\n",
       "</div>"
      ],
      "text/plain": [
       "    売上年月日   決済金額           屋号（漢字）  還元率               PAN\n",
       "0  191007   1628  ダイコクドラッグ狸小路４丁目店    5  4980121001365006\n",
       "1  191029  10527     モッズ  ヘア  西宮店    2  4980121001365006\n",
       "2  191016  12760      鉄板焼れすとらん中はら    5  4980121001712017\n",
       "3  191005  21967     牛もつどて鍋  まつい亭    5  4980121002072106\n",
       "4  191008   3853       マルヤス吹田新芦屋店    5  4980121002401016"
      ]
     },
     "execution_count": 54,
     "metadata": {},
     "output_type": "execute_result"
    }
   ],
   "source": [
    "df = pd.read_csv(data_dir /f\"{in_file_1}\",encoding=\"cp932\")\n",
    "df = df[['売上年月日','決済金額','屋号（漢字）','還元率','PAN']]\n",
    "df[:50].head()"
   ]
  },
  {
   "cell_type": "code",
   "execution_count": 55,
   "metadata": {
    "scrolled": false
   },
   "outputs": [
    {
     "name": "stdout",
     "output_type": "stream",
     "text": [
      "(197442, 5)\n",
      "RangeIndex(start=0, stop=197442, step=1)\n",
      "Index(['売上年月日', '決済金額', '屋号（漢字）', '還元率', 'PAN'], dtype='object')\n",
      "売上年月日      int64\n",
      "決済金額       int64\n",
      "屋号（漢字）    object\n",
      "還元率        int64\n",
      "PAN        int64\n",
      "dtype: object\n"
     ]
    }
   ],
   "source": [
    "print(df.shape)\n",
    "print(df.index)\n",
    "print(df.columns)\n",
    "print(df.dtypes)"
   ]
  },
  {
   "cell_type": "code",
   "execution_count": 56,
   "metadata": {
    "scrolled": true
   },
   "outputs": [
    {
     "data": {
      "text/html": [
       "<div>\n",
       "<style scoped>\n",
       "    .dataframe tbody tr th:only-of-type {\n",
       "        vertical-align: middle;\n",
       "    }\n",
       "\n",
       "    .dataframe tbody tr th {\n",
       "        vertical-align: top;\n",
       "    }\n",
       "\n",
       "    .dataframe thead th {\n",
       "        text-align: right;\n",
       "    }\n",
       "</style>\n",
       "<table border=\"1\" class=\"dataframe\">\n",
       "  <thead>\n",
       "    <tr style=\"text-align: right;\">\n",
       "      <th></th>\n",
       "      <th>売上年月日</th>\n",
       "      <th>決済金額</th>\n",
       "      <th>屋号（漢字）</th>\n",
       "      <th>還元率</th>\n",
       "      <th>PAN</th>\n",
       "      <th>売上年</th>\n",
       "      <th>売上月</th>\n",
       "      <th>売上年月</th>\n",
       "    </tr>\n",
       "  </thead>\n",
       "  <tbody>\n",
       "    <tr>\n",
       "      <th>0</th>\n",
       "      <td>20191007</td>\n",
       "      <td>1628</td>\n",
       "      <td>ダイコクドラッグ狸小路４丁目店</td>\n",
       "      <td>5</td>\n",
       "      <td>4980121001365006</td>\n",
       "      <td>2019</td>\n",
       "      <td>10</td>\n",
       "      <td>2019年10月</td>\n",
       "    </tr>\n",
       "    <tr>\n",
       "      <th>1</th>\n",
       "      <td>20191029</td>\n",
       "      <td>10527</td>\n",
       "      <td>モッズ  ヘア  西宮店</td>\n",
       "      <td>2</td>\n",
       "      <td>4980121001365006</td>\n",
       "      <td>2019</td>\n",
       "      <td>10</td>\n",
       "      <td>2019年10月</td>\n",
       "    </tr>\n",
       "    <tr>\n",
       "      <th>2</th>\n",
       "      <td>20191016</td>\n",
       "      <td>12760</td>\n",
       "      <td>鉄板焼れすとらん中はら</td>\n",
       "      <td>5</td>\n",
       "      <td>4980121001712017</td>\n",
       "      <td>2019</td>\n",
       "      <td>10</td>\n",
       "      <td>2019年10月</td>\n",
       "    </tr>\n",
       "    <tr>\n",
       "      <th>3</th>\n",
       "      <td>20191005</td>\n",
       "      <td>21967</td>\n",
       "      <td>牛もつどて鍋  まつい亭</td>\n",
       "      <td>5</td>\n",
       "      <td>4980121002072106</td>\n",
       "      <td>2019</td>\n",
       "      <td>10</td>\n",
       "      <td>2019年10月</td>\n",
       "    </tr>\n",
       "    <tr>\n",
       "      <th>4</th>\n",
       "      <td>20191008</td>\n",
       "      <td>3853</td>\n",
       "      <td>マルヤス吹田新芦屋店</td>\n",
       "      <td>5</td>\n",
       "      <td>4980121002401016</td>\n",
       "      <td>2019</td>\n",
       "      <td>10</td>\n",
       "      <td>2019年10月</td>\n",
       "    </tr>\n",
       "  </tbody>\n",
       "</table>\n",
       "</div>"
      ],
      "text/plain": [
       "      売上年月日   決済金額           屋号（漢字）  還元率               PAN   売上年  売上月  \\\n",
       "0  20191007   1628  ダイコクドラッグ狸小路４丁目店    5  4980121001365006  2019   10   \n",
       "1  20191029  10527     モッズ  ヘア  西宮店    2  4980121001365006  2019   10   \n",
       "2  20191016  12760      鉄板焼れすとらん中はら    5  4980121001712017  2019   10   \n",
       "3  20191005  21967     牛もつどて鍋  まつい亭    5  4980121002072106  2019   10   \n",
       "4  20191008   3853       マルヤス吹田新芦屋店    5  4980121002401016  2019   10   \n",
       "\n",
       "       売上年月  \n",
       "0  2019年10月  \n",
       "1  2019年10月  \n",
       "2  2019年10月  \n",
       "3  2019年10月  \n",
       "4  2019年10月  "
      ]
     },
     "execution_count": 56,
     "metadata": {},
     "output_type": "execute_result"
    }
   ],
   "source": [
    "df['売上年月日'] = df['売上年月日'] + 20000000\n",
    "\n",
    "#\"年月\"のカラム生成\n",
    "df['売上年月日2'] = pd.to_datetime(df['売上年月日'], format = '%Y%m%d')\n",
    "df['売上年'] = df['売上年月日2'].dt.year\n",
    "df['売上月'] = df['売上年月日2'].dt.month\n",
    "\n",
    "df['売上年月'] = df[['売上年', '売上月']].apply(lambda x: '{}年{}月'.format(x[0], x[1]), axis=1)\n",
    "df = df.drop(columns=['売上年月日2'])\n",
    "\n",
    "df.head()"
   ]
  },
  {
   "cell_type": "code",
   "execution_count": 57,
   "metadata": {},
   "outputs": [],
   "source": [
    "df = df.astype({'PAN':str})"
   ]
  },
  {
   "cell_type": "code",
   "execution_count": 58,
   "metadata": {},
   "outputs": [
    {
     "name": "stdout",
     "output_type": "stream",
     "text": [
      "(197442, 8)\n",
      "RangeIndex(start=0, stop=197442, step=1)\n",
      "Index(['売上年月日', '決済金額', '屋号（漢字）', '還元率', 'PAN', '売上年', '売上月', '売上年月'], dtype='object')\n",
      "売上年月日      int64\n",
      "決済金額       int64\n",
      "屋号（漢字）    object\n",
      "還元率        int64\n",
      "PAN       object\n",
      "売上年        int64\n",
      "売上月        int64\n",
      "売上年月      object\n",
      "dtype: object\n"
     ]
    }
   ],
   "source": [
    "print(df.shape)\n",
    "print(df.index)\n",
    "print(df.columns)\n",
    "print(df.dtypes)"
   ]
  },
  {
   "cell_type": "code",
   "execution_count": 47,
   "metadata": {},
   "outputs": [
    {
     "data": {
      "text/plain": [
       "売上年月\n",
       "2019年10月    1773.620193\n",
       "Name: 決済金額, dtype: float64"
      ]
     },
     "execution_count": 47,
     "metadata": {},
     "output_type": "execute_result"
    }
   ],
   "source": [
    "df.groupby(['売上年月'])['決済金額'].sum()/1000000"
   ]
  },
  {
   "cell_type": "code",
   "execution_count": 48,
   "metadata": {
    "scrolled": true
   },
   "outputs": [
    {
     "data": {
      "text/plain": [
       "売上年月\n",
       "2019年10月    197442\n",
       "Name: PAN, dtype: int64"
      ]
     },
     "execution_count": 48,
     "metadata": {},
     "output_type": "execute_result"
    }
   ],
   "source": [
    "df.groupby(['売上年月'])['PAN'].count()"
   ]
  },
  {
   "cell_type": "code",
   "execution_count": 52,
   "metadata": {},
   "outputs": [
    {
     "data": {
      "text/plain": [
       "<matplotlib.axes._subplots.AxesSubplot at 0x1d406b0de88>"
      ]
     },
     "execution_count": 52,
     "metadata": {},
     "output_type": "execute_result"
    },
    {
     "name": "stderr",
     "output_type": "stream",
     "text": [
      "C:\\Users\\crie072\\anaconda3\\lib\\site-packages\\matplotlib\\backends\\backend_agg.py:211: RuntimeWarning: Glyph 24180 missing from current font.\n",
      "  font.set_text(s, 0.0, flags=flags)\n",
      "C:\\Users\\crie072\\anaconda3\\lib\\site-packages\\matplotlib\\backends\\backend_agg.py:211: RuntimeWarning: Glyph 26376 missing from current font.\n",
      "  font.set_text(s, 0.0, flags=flags)\n",
      "C:\\Users\\crie072\\anaconda3\\lib\\site-packages\\matplotlib\\backends\\backend_agg.py:180: RuntimeWarning: Glyph 24180 missing from current font.\n",
      "  font.set_text(s, 0, flags=flags)\n",
      "C:\\Users\\crie072\\anaconda3\\lib\\site-packages\\matplotlib\\backends\\backend_agg.py:180: RuntimeWarning: Glyph 26376 missing from current font.\n",
      "  font.set_text(s, 0, flags=flags)\n",
      "C:\\Users\\crie072\\anaconda3\\lib\\site-packages\\matplotlib\\backends\\backend_agg.py:211: RuntimeWarning: Glyph 22770 missing from current font.\n",
      "  font.set_text(s, 0.0, flags=flags)\n",
      "C:\\Users\\crie072\\anaconda3\\lib\\site-packages\\matplotlib\\backends\\backend_agg.py:211: RuntimeWarning: Glyph 19978 missing from current font.\n",
      "  font.set_text(s, 0.0, flags=flags)\n",
      "C:\\Users\\crie072\\anaconda3\\lib\\site-packages\\matplotlib\\backends\\backend_agg.py:180: RuntimeWarning: Glyph 22770 missing from current font.\n",
      "  font.set_text(s, 0, flags=flags)\n",
      "C:\\Users\\crie072\\anaconda3\\lib\\site-packages\\matplotlib\\backends\\backend_agg.py:180: RuntimeWarning: Glyph 19978 missing from current font.\n",
      "  font.set_text(s, 0, flags=flags)\n",
      "C:\\Users\\crie072\\anaconda3\\lib\\site-packages\\matplotlib\\backends\\backend_agg.py:211: RuntimeWarning: Glyph 27770 missing from current font.\n",
      "  font.set_text(s, 0.0, flags=flags)\n",
      "C:\\Users\\crie072\\anaconda3\\lib\\site-packages\\matplotlib\\backends\\backend_agg.py:211: RuntimeWarning: Glyph 28168 missing from current font.\n",
      "  font.set_text(s, 0.0, flags=flags)\n",
      "C:\\Users\\crie072\\anaconda3\\lib\\site-packages\\matplotlib\\backends\\backend_agg.py:211: RuntimeWarning: Glyph 37329 missing from current font.\n",
      "  font.set_text(s, 0.0, flags=flags)\n",
      "C:\\Users\\crie072\\anaconda3\\lib\\site-packages\\matplotlib\\backends\\backend_agg.py:211: RuntimeWarning: Glyph 38989 missing from current font.\n",
      "  font.set_text(s, 0.0, flags=flags)\n",
      "C:\\Users\\crie072\\anaconda3\\lib\\site-packages\\matplotlib\\backends\\backend_agg.py:180: RuntimeWarning: Glyph 27770 missing from current font.\n",
      "  font.set_text(s, 0, flags=flags)\n",
      "C:\\Users\\crie072\\anaconda3\\lib\\site-packages\\matplotlib\\backends\\backend_agg.py:180: RuntimeWarning: Glyph 28168 missing from current font.\n",
      "  font.set_text(s, 0, flags=flags)\n",
      "C:\\Users\\crie072\\anaconda3\\lib\\site-packages\\matplotlib\\backends\\backend_agg.py:180: RuntimeWarning: Glyph 37329 missing from current font.\n",
      "  font.set_text(s, 0, flags=flags)\n",
      "C:\\Users\\crie072\\anaconda3\\lib\\site-packages\\matplotlib\\backends\\backend_agg.py:180: RuntimeWarning: Glyph 38989 missing from current font.\n",
      "  font.set_text(s, 0, flags=flags)\n"
     ]
    },
    {
     "data": {
      "image/png": "[encoded data removed]",
      "text/plain": [
       "<Figure size 720x360 with 1 Axes>"
      ]
     },
     "metadata": {
      "needs_background": "light"
     },
     "output_type": "display_data"
    }
   ],
   "source": [
    "df.plot.line(x = '売上年月',y = '決済金額', figsize = (10, 5))"
   ]
  }
 ],
 "metadata": {
  "kernelspec": {
   "display_name": "Python 3",
   "language": "python",
   "name": "python3"
  },
  "language_info": {
   "codemirror_mode": {
    "name": "ipython",
    "version": 3
   },
   "file_extension": ".py",
   "mimetype": "text/x-python",
   "name": "python",
   "nbconvert_exporter": "python",
   "pygments_lexer": "ipython3",
   "version": "3.7.6"
  }
 },
 "nbformat": 4,
 "nbformat_minor": 2
}
