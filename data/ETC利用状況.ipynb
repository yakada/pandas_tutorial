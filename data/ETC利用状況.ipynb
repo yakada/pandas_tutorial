{
 "cells": [
  {
   "cell_type": "code",
   "execution_count": 1,
   "metadata": {},
   "outputs": [
    {
     "name": "stdout",
     "output_type": "stream",
     "text": [
      "Requirement already up-to-date: pandasql in c:\\users\\crie072\\anaconda3\\lib\\site-packages (0.7.3)\n",
      "Requirement already satisfied, skipping upgrade: numpy in c:\\users\\crie072\\anaconda3\\lib\\site-packages (from pandasql) (1.18.1)\n",
      "Requirement already satisfied, skipping upgrade: sqlalchemy in c:\\users\\crie072\\anaconda3\\lib\\site-packages (from pandasql) (1.3.13)\n",
      "Requirement already satisfied, skipping upgrade: pandas in c:\\users\\crie072\\anaconda3\\lib\\site-packages (from pandasql) (1.0.1)\n",
      "Requirement already satisfied, skipping upgrade: pytz>=2017.2 in c:\\users\\crie072\\anaconda3\\lib\\site-packages (from pandas->pandasql) (2019.3)\n",
      "Requirement already satisfied, skipping upgrade: python-dateutil>=2.6.1 in c:\\users\\crie072\\anaconda3\\lib\\site-packages (from pandas->pandasql) (2.8.1)\n",
      "Requirement already satisfied, skipping upgrade: six>=1.5 in c:\\users\\crie072\\anaconda3\\lib\\site-packages (from python-dateutil>=2.6.1->pandas->pandasql) (1.14.0)\n",
      "Note: you may need to restart the kernel to use updated packages.\n"
     ]
    }
   ],
   "source": [
    "pip install -U pandasql"
   ]
  },
  {
   "cell_type": "markdown",
   "metadata": {},
   "source": [
    "pip install -U xlwt"
   ]
  },
  {
   "cell_type": "markdown",
   "metadata": {},
   "source": [
    "pip install -U openpyxl"
   ]
  },
  {
   "cell_type": "code",
   "execution_count": 2,
   "metadata": {},
   "outputs": [],
   "source": [
    "import pandas as pd\n",
    "import numpy as np\n",
    "from pathlib import Path\n",
    "import csv\n",
    "import xlrd\n",
    "import io\n",
    "from zipfile import ZipFile\n",
    "from datetime import date, timedelta, time, datetime\n",
    "\n",
    "from pandasql import sqldf\n",
    "\n",
    "from pandas.tseries.offsets import MonthEnd"
   ]
  },
  {
   "cell_type": "code",
   "execution_count": 3,
   "metadata": {},
   "outputs": [
    {
     "name": "stdout",
     "output_type": "stream",
     "text": [
      "20200911\n"
     ]
    }
   ],
   "source": [
    "today_yyyymmdd = date.today().strftime(\"%Y%m%d\")\n",
    "print(today_yyyymmdd)"
   ]
  },
  {
   "cell_type": "code",
   "execution_count": 4,
   "metadata": {},
   "outputs": [],
   "source": [
    "#pandasの表示列数を増やす\n",
    "import pandas as pd\n",
    "pd.set_option('display.max_columns', 100)"
   ]
  },
  {
   "cell_type": "code",
   "execution_count": null,
   "metadata": {},
   "outputs": [],
   "source": []
  },
  {
   "cell_type": "code",
   "execution_count": 39,
   "metadata": {},
   "outputs": [],
   "source": [
    "data_dir = Path(r\"C:\\Users\\crie072\\Documents\\01_データ関連\\Adhoc\\202009_ETC\")\n",
    "\n",
    "#input\n",
    "input_file = \"【C057】ETCカード利用状況.xlsx\"\n",
    "input_file2 = \"age_code\""
   ]
  },
  {
   "cell_type": "code",
   "execution_count": 40,
   "metadata": {},
   "outputs": [
    {
     "name": "stdout",
     "output_type": "stream",
     "text": [
      "['利用率', '利用・発行状況', '発行者内訳']\n"
     ]
    }
   ],
   "source": [
    "#シート名取得\n",
    "bk = pd.ExcelFile(data_dir/f\"{input_file}\")\n",
    "print(bk.sheet_names)"
   ]
  },
  {
   "cell_type": "markdown",
   "metadata": {},
   "source": [
    "ETC集計データ読込（エクセルで吐き出されたファイルを加工する）"
   ]
  },
  {
   "cell_type": "code",
   "execution_count": 59,
   "metadata": {
    "scrolled": false
   },
   "outputs": [],
   "source": [
    "df = pd.read_excel(data_dir/f\"{input_file}\", sheet_name = 2,\n",
    "                   usecols=['カード種類','本人家族識別','加入年度','年代','性別','ETC利用有無','年間利用件数','年間利用金額'])"
   ]
  },
  {
   "cell_type": "code",
   "execution_count": 60,
   "metadata": {},
   "outputs": [],
   "source": [
    "#マージするのに余計な文字列を削除\n",
    "df['年代'] = df['年代'].str.replace('～','-')\n",
    "df['年代'] = df['年代'].str.replace('歳','')\n",
    "df['加入年度'] = df['加入年度'].str.replace('年度','')\n",
    "df['count'] = 1"
   ]
  },
  {
   "cell_type": "code",
   "execution_count": 62,
   "metadata": {},
   "outputs": [
    {
     "data": {
      "text/plain": [
       "array(['35-39', '40-44', '65-69', '45-49', '60-64', '50-54', '70-74',\n",
       "       '30-34', '25-29', '55-59', '75-79', '80以上', '20-24', '19以下（20未満）'],\n",
       "      dtype=object)"
      ]
     },
     "execution_count": 62,
     "metadata": {},
     "output_type": "execute_result"
    }
   ],
   "source": [
    "df['年代'].unique()"
   ]
  },
  {
   "cell_type": "code",
   "execution_count": 63,
   "metadata": {
    "scrolled": true
   },
   "outputs": [
    {
     "data": {
      "text/html": [
       "<div>\n",
       "<style scoped>\n",
       "    .dataframe tbody tr th:only-of-type {\n",
       "        vertical-align: middle;\n",
       "    }\n",
       "\n",
       "    .dataframe tbody tr th {\n",
       "        vertical-align: top;\n",
       "    }\n",
       "\n",
       "    .dataframe thead th {\n",
       "        text-align: right;\n",
       "    }\n",
       "</style>\n",
       "<table border=\"1\" class=\"dataframe\">\n",
       "  <thead>\n",
       "    <tr style=\"text-align: right;\">\n",
       "      <th></th>\n",
       "      <th>カード種類</th>\n",
       "      <th>本人家族識別</th>\n",
       "      <th>加入年度</th>\n",
       "      <th>年代</th>\n",
       "      <th>性別</th>\n",
       "      <th>ETC利用有無</th>\n",
       "      <th>年間利用件数</th>\n",
       "      <th>年間利用金額</th>\n",
       "      <th>count</th>\n",
       "    </tr>\n",
       "  </thead>\n",
       "  <tbody>\n",
       "    <tr>\n",
       "      <th>0</th>\n",
       "      <td>VMゴールド</td>\n",
       "      <td>本人</td>\n",
       "      <td>2016</td>\n",
       "      <td>35-39</td>\n",
       "      <td>女性</td>\n",
       "      <td>利用あり</td>\n",
       "      <td>65</td>\n",
       "      <td>61990</td>\n",
       "      <td>1</td>\n",
       "    </tr>\n",
       "    <tr>\n",
       "      <th>1</th>\n",
       "      <td>VMゴールド</td>\n",
       "      <td>本人</td>\n",
       "      <td>2018</td>\n",
       "      <td>35-39</td>\n",
       "      <td>女性</td>\n",
       "      <td>利用あり</td>\n",
       "      <td>43</td>\n",
       "      <td>68500</td>\n",
       "      <td>1</td>\n",
       "    </tr>\n",
       "    <tr>\n",
       "      <th>2</th>\n",
       "      <td>VMゴールド</td>\n",
       "      <td>本人</td>\n",
       "      <td>2011</td>\n",
       "      <td>40-44</td>\n",
       "      <td>女性</td>\n",
       "      <td>利用あり</td>\n",
       "      <td>6</td>\n",
       "      <td>7280</td>\n",
       "      <td>1</td>\n",
       "    </tr>\n",
       "    <tr>\n",
       "      <th>3</th>\n",
       "      <td>VMゴールド</td>\n",
       "      <td>本人</td>\n",
       "      <td>2011</td>\n",
       "      <td>65-69</td>\n",
       "      <td>男性</td>\n",
       "      <td>利用なし</td>\n",
       "      <td>0</td>\n",
       "      <td>0</td>\n",
       "      <td>1</td>\n",
       "    </tr>\n",
       "    <tr>\n",
       "      <th>4</th>\n",
       "      <td>VMゴールド</td>\n",
       "      <td>本人</td>\n",
       "      <td>2017</td>\n",
       "      <td>45-49</td>\n",
       "      <td>男性</td>\n",
       "      <td>利用なし</td>\n",
       "      <td>0</td>\n",
       "      <td>0</td>\n",
       "      <td>1</td>\n",
       "    </tr>\n",
       "  </tbody>\n",
       "</table>\n",
       "</div>"
      ],
      "text/plain": [
       "    カード種類 本人家族識別  加入年度     年代  性別 ETC利用有無  年間利用件数  年間利用金額  count\n",
       "0  VMゴールド     本人  2016  35-39  女性    利用あり      65   61990      1\n",
       "1  VMゴールド     本人  2018  35-39  女性    利用あり      43   68500      1\n",
       "2  VMゴールド     本人  2011  40-44  女性    利用あり       6    7280      1\n",
       "3  VMゴールド     本人  2011  65-69  男性    利用なし       0       0      1\n",
       "4  VMゴールド     本人  2017  45-49  男性    利用なし       0       0      1"
      ]
     },
     "execution_count": 63,
     "metadata": {},
     "output_type": "execute_result"
    }
   ],
   "source": [
    "df.head()"
   ]
  },
  {
   "cell_type": "code",
   "execution_count": 64,
   "metadata": {},
   "outputs": [
    {
     "name": "stdout",
     "output_type": "stream",
     "text": [
      "['VMゴールド' 'VM一般' 'お得意様ＧＣ' 'ハウスゴールド']\n"
     ]
    }
   ],
   "source": [
    "print(df['カード種類'].unique())"
   ]
  },
  {
   "cell_type": "code",
   "execution_count": 65,
   "metadata": {
    "scrolled": true
   },
   "outputs": [
    {
     "name": "stdout",
     "output_type": "stream",
     "text": [
      "card              object\n",
      "kazoku            object\n",
      "nendo             object\n",
      "age               object\n",
      "gender            object\n",
      "etc_f             object\n",
      "annual_etc_trn     int64\n",
      "annual_etc_amt     int64\n",
      "count              int64\n",
      "dtype: object\n"
     ]
    }
   ],
   "source": [
    "df = df.rename(columns={'カード種類':'card',\n",
    "                        '本人家族識別':'kazoku',\n",
    "                        '加入年度':'nendo',\n",
    "                        '年代':'age',\n",
    "                        '性別':'gender',\n",
    "                        'ETC利用有無':'etc_f',\n",
    "                        '年間利用件数':'annual_etc_trn',\n",
    "                        '年間利用金額':'annual_etc_amt'})\n",
    "print(df.dtypes)"
   ]
  },
  {
   "cell_type": "code",
   "execution_count": 99,
   "metadata": {},
   "outputs": [
    {
     "data": {
      "text/plain": [
       "array(['本人', '家族'], dtype=object)"
      ]
     },
     "execution_count": 99,
     "metadata": {},
     "output_type": "execute_result"
    }
   ],
   "source": [
    "df['kazoku'].unique()"
   ]
  },
  {
   "cell_type": "code",
   "execution_count": 102,
   "metadata": {},
   "outputs": [
    {
     "data": {
      "text/html": [
       "<div>\n",
       "<style scoped>\n",
       "    .dataframe tbody tr th:only-of-type {\n",
       "        vertical-align: middle;\n",
       "    }\n",
       "\n",
       "    .dataframe tbody tr th {\n",
       "        vertical-align: top;\n",
       "    }\n",
       "\n",
       "    .dataframe thead th {\n",
       "        text-align: right;\n",
       "    }\n",
       "</style>\n",
       "<table border=\"1\" class=\"dataframe\">\n",
       "  <thead>\n",
       "    <tr style=\"text-align: right;\">\n",
       "      <th></th>\n",
       "      <th>card</th>\n",
       "      <th>nendo</th>\n",
       "      <th>age</th>\n",
       "      <th>gender</th>\n",
       "      <th>etc_f</th>\n",
       "      <th>honin_annual_etc_trn</th>\n",
       "      <th>honin_annual_etc_amt</th>\n",
       "      <th>kazoku_annual_etc_trn</th>\n",
       "      <th>kazoku_annual_etc_amt</th>\n",
       "      <th>honin_etc_count</th>\n",
       "      <th>kazoku_etc_count</th>\n",
       "    </tr>\n",
       "  </thead>\n",
       "  <tbody>\n",
       "    <tr>\n",
       "      <th>0</th>\n",
       "      <td>VMゴールド</td>\n",
       "      <td>2007</td>\n",
       "      <td>35-39</td>\n",
       "      <td>女性</td>\n",
       "      <td>利用なし</td>\n",
       "      <td>0.0</td>\n",
       "      <td>0.0</td>\n",
       "      <td>NaN</td>\n",
       "      <td>NaN</td>\n",
       "      <td>2.0</td>\n",
       "      <td>NaN</td>\n",
       "    </tr>\n",
       "    <tr>\n",
       "      <th>1</th>\n",
       "      <td>VMゴールド</td>\n",
       "      <td>2007</td>\n",
       "      <td>35-39</td>\n",
       "      <td>男性</td>\n",
       "      <td>利用あり</td>\n",
       "      <td>109.0</td>\n",
       "      <td>130810.0</td>\n",
       "      <td>NaN</td>\n",
       "      <td>NaN</td>\n",
       "      <td>2.0</td>\n",
       "      <td>NaN</td>\n",
       "    </tr>\n",
       "    <tr>\n",
       "      <th>2</th>\n",
       "      <td>VMゴールド</td>\n",
       "      <td>2007</td>\n",
       "      <td>40-44</td>\n",
       "      <td>女性</td>\n",
       "      <td>利用あり</td>\n",
       "      <td>25.0</td>\n",
       "      <td>12920.0</td>\n",
       "      <td>378.0</td>\n",
       "      <td>205510.0</td>\n",
       "      <td>1.0</td>\n",
       "      <td>1.0</td>\n",
       "    </tr>\n",
       "    <tr>\n",
       "      <th>3</th>\n",
       "      <td>VMゴールド</td>\n",
       "      <td>2007</td>\n",
       "      <td>40-44</td>\n",
       "      <td>女性</td>\n",
       "      <td>利用なし</td>\n",
       "      <td>0.0</td>\n",
       "      <td>0.0</td>\n",
       "      <td>NaN</td>\n",
       "      <td>NaN</td>\n",
       "      <td>2.0</td>\n",
       "      <td>NaN</td>\n",
       "    </tr>\n",
       "    <tr>\n",
       "      <th>4</th>\n",
       "      <td>VMゴールド</td>\n",
       "      <td>2007</td>\n",
       "      <td>40-44</td>\n",
       "      <td>男性</td>\n",
       "      <td>利用あり</td>\n",
       "      <td>451.0</td>\n",
       "      <td>304460.0</td>\n",
       "      <td>261.0</td>\n",
       "      <td>218710.0</td>\n",
       "      <td>8.0</td>\n",
       "      <td>1.0</td>\n",
       "    </tr>\n",
       "  </tbody>\n",
       "</table>\n",
       "</div>"
      ],
      "text/plain": [
       "     card nendo    age gender etc_f  honin_annual_etc_trn  \\\n",
       "0  VMゴールド  2007  35-39     女性  利用なし                   0.0   \n",
       "1  VMゴールド  2007  35-39     男性  利用あり                 109.0   \n",
       "2  VMゴールド  2007  40-44     女性  利用あり                  25.0   \n",
       "3  VMゴールド  2007  40-44     女性  利用なし                   0.0   \n",
       "4  VMゴールド  2007  40-44     男性  利用あり                 451.0   \n",
       "\n",
       "   honin_annual_etc_amt  kazoku_annual_etc_trn  kazoku_annual_etc_amt  \\\n",
       "0                   0.0                    NaN                    NaN   \n",
       "1              130810.0                    NaN                    NaN   \n",
       "2               12920.0                  378.0               205510.0   \n",
       "3                   0.0                    NaN                    NaN   \n",
       "4              304460.0                  261.0               218710.0   \n",
       "\n",
       "   honin_etc_count  kazoku_etc_count  \n",
       "0              2.0               NaN  \n",
       "1              2.0               NaN  \n",
       "2              1.0               1.0  \n",
       "3              2.0               NaN  \n",
       "4              8.0               1.0  "
      ]
     },
     "execution_count": 102,
     "metadata": {},
     "output_type": "execute_result"
    }
   ],
   "source": [
    "#ETC\n",
    "q = \"\"\"\n",
    "        SELECT\n",
    "        card\n",
    "        ,nendo\n",
    "        ,age\n",
    "        ,gender\n",
    "        ,etc_f\n",
    "        ,sum(case when kazoku = '本人' then annual_etc_trn end ) as honin_annual_etc_trn\n",
    "        ,sum(case when kazoku = '本人' then annual_etc_amt end ) as honin_annual_etc_amt\n",
    "        ,sum(case when kazoku = '家族' then annual_etc_trn end ) as kazoku_annual_etc_trn\n",
    "        ,sum(case when kazoku = '家族' then annual_etc_amt end ) as kazoku_annual_etc_amt\n",
    "        ,sum(case when kazoku = '本人' then count end) as honin_etc_count\n",
    "        ,sum(case when kazoku = '家族' then count end) as kazoku_etc_count\n",
    "        from \n",
    "            df\n",
    "        group by \n",
    "            1,2,3,4,5\n",
    "        \"\"\"\n",
    "df_etc = sqldf(q, locals())\n",
    "df_etc.head()"
   ]
  },
  {
   "cell_type": "code",
   "execution_count": 103,
   "metadata": {},
   "outputs": [
    {
     "data": {
      "text/plain": [
       "array(['35-39', '40-44', '45-49', '50-54', '55-59', '60-64', '65-69',\n",
       "       '70-74', '75-79', '80以上', '30-34', '25-29', '20-24', '19以下（20未満）'],\n",
       "      dtype=object)"
      ]
     },
     "execution_count": 103,
     "metadata": {},
     "output_type": "execute_result"
    }
   ],
   "source": [
    "df_etc['age'].unique()"
   ]
  },
  {
   "cell_type": "code",
   "execution_count": 104,
   "metadata": {},
   "outputs": [],
   "source": [
    "df_etc['age'] = df_etc['age'].str.replace('19以下（20未満）','18-19')#マージするのに余計な文字列を削除"
   ]
  },
  {
   "cell_type": "code",
   "execution_count": 105,
   "metadata": {},
   "outputs": [
    {
     "data": {
      "text/plain": [
       "array(['35-39', '40-44', '45-49', '50-54', '55-59', '60-64', '65-69',\n",
       "       '70-74', '75-79', '80以上', '30-34', '25-29', '20-24', '18-19'],\n",
       "      dtype=object)"
      ]
     },
     "execution_count": 105,
     "metadata": {},
     "output_type": "execute_result"
    }
   ],
   "source": [
    "df_etc['age'].unique()"
   ]
  },
  {
   "cell_type": "code",
   "execution_count": 106,
   "metadata": {},
   "outputs": [
    {
     "name": "stdout",
     "output_type": "stream",
     "text": [
      "['2007' '2007以前' '2008' '2009' '2010' '2011' '2012' '2013' '2014' '2015'\n",
      " '2016' '2017' '2018' '2019']\n"
     ]
    }
   ],
   "source": [
    "print(df_etc['nendo'].unique())"
   ]
  },
  {
   "cell_type": "markdown",
   "metadata": {},
   "source": [
    "「所有率」を算出するため、Cognosで別件で集計した口座数データを読込する"
   ]
  },
  {
   "cell_type": "code",
   "execution_count": 13,
   "metadata": {},
   "outputs": [],
   "source": [
    "input_file = \"個人会員残高_from_cognos.xlsx\""
   ]
  },
  {
   "cell_type": "code",
   "execution_count": 14,
   "metadata": {},
   "outputs": [],
   "source": [
    "df0 = pd.read_excel(data_dir/f\"{input_file}\", sheet_name = 0)\n",
    "df1 = pd.read_excel(data_dir/f\"{input_file}\", sheet_name = 1)\n",
    "df2 = pd.read_excel(data_dir/f\"{input_file}\", sheet_name = 2)\n",
    "df3 = pd.read_excel(data_dir/f\"{input_file}\", sheet_name = 3)\n",
    "df4 = pd.read_excel(data_dir/f\"{input_file}\", sheet_name = 4)\n",
    "df5 = pd.read_excel(data_dir/f\"{input_file}\", sheet_name = 5)"
   ]
  },
  {
   "cell_type": "code",
   "execution_count": 15,
   "metadata": {
    "scrolled": false
   },
   "outputs": [
    {
     "data": {
      "text/html": [
       "<div>\n",
       "<style scoped>\n",
       "    .dataframe tbody tr th:only-of-type {\n",
       "        vertical-align: middle;\n",
       "    }\n",
       "\n",
       "    .dataframe tbody tr th {\n",
       "        vertical-align: top;\n",
       "    }\n",
       "\n",
       "    .dataframe thead th {\n",
       "        text-align: right;\n",
       "    }\n",
       "</style>\n",
       "<table border=\"1\" class=\"dataframe\">\n",
       "  <thead>\n",
       "    <tr style=\"text-align: right;\">\n",
       "      <th></th>\n",
       "      <th>会員カード会社コード</th>\n",
       "      <th>カード提携方式コード</th>\n",
       "      <th>カード提携会社コード１＋２</th>\n",
       "      <th>カード種類コード</th>\n",
       "      <th>カードブランドコード</th>\n",
       "      <th>管轄部店コード</th>\n",
       "      <th>加入年度</th>\n",
       "      <th>加入年度区分（Ａ，Ｂ，Ｃ）</th>\n",
       "      <th>職業コード</th>\n",
       "      <th>年齢階層</th>\n",
       "      <th>性別コード</th>\n",
       "      <th>データ基準年月</th>\n",
       "      <th>活口座数</th>\n",
       "      <th>解約口座数</th>\n",
       "    </tr>\n",
       "  </thead>\n",
       "  <tbody>\n",
       "    <tr>\n",
       "      <th>0</th>\n",
       "      <td>155</td>\n",
       "      <td>10</td>\n",
       "      <td>D0001</td>\n",
       "      <td>2</td>\n",
       "      <td>1</td>\n",
       "      <td>0</td>\n",
       "      <td>2006</td>\n",
       "      <td>A</td>\n",
       "      <td>3</td>\n",
       "      <td>7</td>\n",
       "      <td>2</td>\n",
       "      <td>201903</td>\n",
       "      <td>1</td>\n",
       "      <td>0</td>\n",
       "    </tr>\n",
       "    <tr>\n",
       "      <th>1</th>\n",
       "      <td>155</td>\n",
       "      <td>10</td>\n",
       "      <td>D0001</td>\n",
       "      <td>2</td>\n",
       "      <td>1</td>\n",
       "      <td>0</td>\n",
       "      <td>2006</td>\n",
       "      <td>A</td>\n",
       "      <td>3</td>\n",
       "      <td>7</td>\n",
       "      <td>2</td>\n",
       "      <td>201904</td>\n",
       "      <td>1</td>\n",
       "      <td>0</td>\n",
       "    </tr>\n",
       "    <tr>\n",
       "      <th>2</th>\n",
       "      <td>155</td>\n",
       "      <td>10</td>\n",
       "      <td>D0001</td>\n",
       "      <td>2</td>\n",
       "      <td>1</td>\n",
       "      <td>0</td>\n",
       "      <td>2006</td>\n",
       "      <td>A</td>\n",
       "      <td>3</td>\n",
       "      <td>7</td>\n",
       "      <td>2</td>\n",
       "      <td>201905</td>\n",
       "      <td>1</td>\n",
       "      <td>0</td>\n",
       "    </tr>\n",
       "    <tr>\n",
       "      <th>3</th>\n",
       "      <td>155</td>\n",
       "      <td>10</td>\n",
       "      <td>D0001</td>\n",
       "      <td>2</td>\n",
       "      <td>1</td>\n",
       "      <td>0</td>\n",
       "      <td>2006</td>\n",
       "      <td>A</td>\n",
       "      <td>3</td>\n",
       "      <td>7</td>\n",
       "      <td>2</td>\n",
       "      <td>201906</td>\n",
       "      <td>1</td>\n",
       "      <td>0</td>\n",
       "    </tr>\n",
       "    <tr>\n",
       "      <th>4</th>\n",
       "      <td>155</td>\n",
       "      <td>10</td>\n",
       "      <td>D0001</td>\n",
       "      <td>2</td>\n",
       "      <td>1</td>\n",
       "      <td>0</td>\n",
       "      <td>2006</td>\n",
       "      <td>A</td>\n",
       "      <td>3</td>\n",
       "      <td>7</td>\n",
       "      <td>2</td>\n",
       "      <td>201907</td>\n",
       "      <td>1</td>\n",
       "      <td>0</td>\n",
       "    </tr>\n",
       "  </tbody>\n",
       "</table>\n",
       "</div>"
      ],
      "text/plain": [
       "   会員カード会社コード  カード提携方式コード カード提携会社コード１＋２  カード種類コード  カードブランドコード  管轄部店コード  加入年度  \\\n",
       "0         155          10         D0001         2           1        0  2006   \n",
       "1         155          10         D0001         2           1        0  2006   \n",
       "2         155          10         D0001         2           1        0  2006   \n",
       "3         155          10         D0001         2           1        0  2006   \n",
       "4         155          10         D0001         2           1        0  2006   \n",
       "\n",
       "  加入年度区分（Ａ，Ｂ，Ｃ） 職業コード  年齢階層  性別コード  データ基準年月  活口座数  解約口座数  \n",
       "0             A     3     7      2   201903     1      0  \n",
       "1             A     3     7      2   201904     1      0  \n",
       "2             A     3     7      2   201905     1      0  \n",
       "3             A     3     7      2   201906     1      0  \n",
       "4             A     3     7      2   201907     1      0  "
      ]
     },
     "execution_count": 15,
     "metadata": {},
     "output_type": "execute_result"
    }
   ],
   "source": [
    "df_cog = pd.concat([df0,df1,df2,df3,df4,df5])\n",
    "df_cog.head()"
   ]
  },
  {
   "cell_type": "code",
   "execution_count": 16,
   "metadata": {},
   "outputs": [
    {
     "data": {
      "text/plain": [
       "19957"
      ]
     },
     "execution_count": 16,
     "metadata": {},
     "output_type": "execute_result"
    }
   ],
   "source": [
    "df_cog =df_cog[(df_cog[\"データ基準年月\"] == 202002)]\n",
    "df_cog.shape[0]"
   ]
  },
  {
   "cell_type": "code",
   "execution_count": 17,
   "metadata": {
    "scrolled": true
   },
   "outputs": [
    {
     "name": "stdout",
     "output_type": "stream",
     "text": [
      "kaisha_code              int64\n",
      "houshiki_code            int64\n",
      "teikeikaisha_code1_2    object\n",
      "card_code                int64\n",
      "brand_code               int64\n",
      "buten_code               int64\n",
      "nendo                    int64\n",
      "nendo_kubun             object\n",
      "job_code                object\n",
      "age_code                 int64\n",
      "gender_code              int64\n",
      "cp                       int64\n",
      "active_account           int64\n",
      "cancel_account           int64\n",
      "dtype: object\n"
     ]
    }
   ],
   "source": [
    "df_cog = df_cog.rename(columns={'会員カード会社コード':'kaisha_code',\n",
    "                        'カード提携方式コード':'houshiki_code',\n",
    "                        'カード提携会社コード１＋２':'teikeikaisha_code1_2',\n",
    "                        'カード種類コード':'card_code',\n",
    "                        'カードブランドコード':'brand_code',\n",
    "                        '管轄部店コード':'buten_code',\n",
    "                        '加入年度':'nendo',\n",
    "                        '加入年度区分（Ａ，Ｂ，Ｃ）':'nendo_kubun',\n",
    "                        '職業コード':'job_code',\n",
    "                        '年齢階層':'age_code',\n",
    "                        '性別コード':'gender_code',\n",
    "                        'データ基準年月':'cp',\n",
    "                        '活口座数':'active_account',\n",
    "                        '解約口座数':'cancel_account'})\n",
    "print(df_cog.dtypes)"
   ]
  },
  {
   "cell_type": "code",
   "execution_count": null,
   "metadata": {},
   "outputs": [],
   "source": [
    "#味見"
   ]
  },
  {
   "cell_type": "code",
   "execution_count": 49,
   "metadata": {},
   "outputs": [
    {
     "name": "stdout",
     "output_type": "stream",
     "text": [
      "['D0001' 'D0002' 'D0004' 'D0005' 'D0006' 'D0008' 'D0011' 'D0014' 'D0018'\n",
      " 'D0021' 'D0022' 'D0023' 'D0024' 'D0050' 'D0101' 'D0102' 'D0104' 'D0105'\n",
      " 'D0106' 'D0108' 'D0111' 'D0114' 'D0118' 'D0201' 'D0204' 'D0225' 'D0226'\n",
      " 'D0227' 'D0228' 'D0003' 'D0095']\n"
     ]
    }
   ],
   "source": [
    "print(df_cog['teikeikaisha_code1_2'].unique())"
   ]
  },
  {
   "cell_type": "code",
   "execution_count": 19,
   "metadata": {},
   "outputs": [
    {
     "name": "stdout",
     "output_type": "stream",
     "text": [
      "[ 2 31  0]\n"
     ]
    }
   ],
   "source": [
    "print(df_cog['card_code'].unique())"
   ]
  },
  {
   "cell_type": "code",
   "execution_count": 20,
   "metadata": {},
   "outputs": [
    {
     "name": "stdout",
     "output_type": "stream",
     "text": [
      "[1 2 0]\n"
     ]
    }
   ],
   "source": [
    "print(df_cog['brand_code'].unique())"
   ]
  },
  {
   "cell_type": "code",
   "execution_count": 21,
   "metadata": {},
   "outputs": [
    {
     "name": "stdout",
     "output_type": "stream",
     "text": [
      "[0]\n"
     ]
    }
   ],
   "source": [
    "print(df_cog['buten_code'].unique())"
   ]
  },
  {
   "cell_type": "code",
   "execution_count": 80,
   "metadata": {},
   "outputs": [
    {
     "name": "stdout",
     "output_type": "stream",
     "text": [
      "[2006 2007 2008 2009 2010 2011 2012 2013 2014 2015 2016 2017 2018 2019\n",
      " 2005 1976 1980 1982 1988 1989 1991 1992 1994 1997 1998 1999 2000 2001\n",
      " 2002 2003 2004 1971 1973 1975 1981 1983 1984 1985 1986 1987 1990 1993\n",
      " 1995 1996 1979 1972 1974 1977 1978]\n"
     ]
    }
   ],
   "source": [
    "print(df_cog['nendo'].unique())#年度が細かいのでまとめる必要あり"
   ]
  },
  {
   "cell_type": "code",
   "execution_count": 81,
   "metadata": {},
   "outputs": [
    {
     "name": "stdout",
     "output_type": "stream",
     "text": [
      "kaisha_code              int64\n",
      "houshiki_code            int64\n",
      "teikeikaisha_code1_2    object\n",
      "card_code                int64\n",
      "brand_code               int64\n",
      "buten_code               int64\n",
      "nendo                    int64\n",
      "nendo_kubun             object\n",
      "job_code                object\n",
      "age_code                 int64\n",
      "gender_code              int64\n",
      "cp                       int64\n",
      "active_account           int64\n",
      "cancel_account           int64\n",
      "age_range               object\n",
      "cp_date                 object\n",
      "bop_date                object\n",
      "dtype: object\n"
     ]
    }
   ],
   "source": [
    "print(df_cog.dtypes)"
   ]
  },
  {
   "cell_type": "code",
   "execution_count": 23,
   "metadata": {},
   "outputs": [
    {
     "name": "stdout",
     "output_type": "stream",
     "text": [
      "[ 7  5  6  8  9 10 11 12 13 14 15  4  3  2]\n"
     ]
    }
   ],
   "source": [
    "print(df_cog['age_code'].unique())#年代がコードで入っているのでコード表を読み込んで変換"
   ]
  },
  {
   "cell_type": "code",
   "execution_count": 24,
   "metadata": {},
   "outputs": [
    {
     "data": {
      "text/html": [
       "<div>\n",
       "<style scoped>\n",
       "    .dataframe tbody tr th:only-of-type {\n",
       "        vertical-align: middle;\n",
       "    }\n",
       "\n",
       "    .dataframe tbody tr th {\n",
       "        vertical-align: top;\n",
       "    }\n",
       "\n",
       "    .dataframe thead th {\n",
       "        text-align: right;\n",
       "    }\n",
       "</style>\n",
       "<table border=\"1\" class=\"dataframe\">\n",
       "  <thead>\n",
       "    <tr style=\"text-align: right;\">\n",
       "      <th></th>\n",
       "      <th>age_code</th>\n",
       "      <th>age_range</th>\n",
       "    </tr>\n",
       "  </thead>\n",
       "  <tbody>\n",
       "    <tr>\n",
       "      <th>0</th>\n",
       "      <td>1</td>\n",
       "      <td>0歳-17歳</td>\n",
       "    </tr>\n",
       "    <tr>\n",
       "      <th>1</th>\n",
       "      <td>2</td>\n",
       "      <td>18歳-19歳</td>\n",
       "    </tr>\n",
       "    <tr>\n",
       "      <th>2</th>\n",
       "      <td>3</td>\n",
       "      <td>20歳-24歳</td>\n",
       "    </tr>\n",
       "    <tr>\n",
       "      <th>3</th>\n",
       "      <td>4</td>\n",
       "      <td>25歳-29歳</td>\n",
       "    </tr>\n",
       "    <tr>\n",
       "      <th>4</th>\n",
       "      <td>5</td>\n",
       "      <td>30歳-34歳</td>\n",
       "    </tr>\n",
       "    <tr>\n",
       "      <th>5</th>\n",
       "      <td>6</td>\n",
       "      <td>35歳-39歳</td>\n",
       "    </tr>\n",
       "    <tr>\n",
       "      <th>6</th>\n",
       "      <td>7</td>\n",
       "      <td>40歳-44歳</td>\n",
       "    </tr>\n",
       "    <tr>\n",
       "      <th>7</th>\n",
       "      <td>8</td>\n",
       "      <td>45歳-49歳</td>\n",
       "    </tr>\n",
       "    <tr>\n",
       "      <th>8</th>\n",
       "      <td>9</td>\n",
       "      <td>50歳-54歳</td>\n",
       "    </tr>\n",
       "    <tr>\n",
       "      <th>9</th>\n",
       "      <td>10</td>\n",
       "      <td>55歳-59歳</td>\n",
       "    </tr>\n",
       "    <tr>\n",
       "      <th>10</th>\n",
       "      <td>11</td>\n",
       "      <td>60歳-64歳</td>\n",
       "    </tr>\n",
       "    <tr>\n",
       "      <th>11</th>\n",
       "      <td>12</td>\n",
       "      <td>65歳-69歳</td>\n",
       "    </tr>\n",
       "    <tr>\n",
       "      <th>12</th>\n",
       "      <td>13</td>\n",
       "      <td>70歳-74歳</td>\n",
       "    </tr>\n",
       "    <tr>\n",
       "      <th>13</th>\n",
       "      <td>14</td>\n",
       "      <td>75歳-79歳</td>\n",
       "    </tr>\n",
       "    <tr>\n",
       "      <th>14</th>\n",
       "      <td>15</td>\n",
       "      <td>80歳以上</td>\n",
       "    </tr>\n",
       "  </tbody>\n",
       "</table>\n",
       "</div>"
      ],
      "text/plain": [
       "    age_code age_range\n",
       "0          1    0歳-17歳\n",
       "1          2   18歳-19歳\n",
       "2          3   20歳-24歳\n",
       "3          4   25歳-29歳\n",
       "4          5   30歳-34歳\n",
       "5          6   35歳-39歳\n",
       "6          7   40歳-44歳\n",
       "7          8   45歳-49歳\n",
       "8          9   50歳-54歳\n",
       "9         10   55歳-59歳\n",
       "10        11   60歳-64歳\n",
       "11        12   65歳-69歳\n",
       "12        13   70歳-74歳\n",
       "13        14   75歳-79歳\n",
       "14        15     80歳以上"
      ]
     },
     "execution_count": 24,
     "metadata": {},
     "output_type": "execute_result"
    }
   ],
   "source": [
    "age_list = pd.read_csv(data_dir/f\"{input_file2}.csv\",encoding='shift-jis')\n",
    "age_list"
   ]
  },
  {
   "cell_type": "code",
   "execution_count": 25,
   "metadata": {},
   "outputs": [],
   "source": [
    "df_cog = pd.merge(df_cog,age_list, on =['age_code'], how = 'left')"
   ]
  },
  {
   "cell_type": "code",
   "execution_count": 87,
   "metadata": {},
   "outputs": [
    {
     "name": "stdout",
     "output_type": "stream",
     "text": [
      "['40-44' '30-34' '35-39' '45-49' '50-54' '55-59' '60-64' '65-69' '70-74'\n",
      " '75-79' '80以上' '25-29' '20-24' '18-19']\n"
     ]
    }
   ],
   "source": [
    "print(df_cog['age_range'].unique())"
   ]
  },
  {
   "cell_type": "code",
   "execution_count": 88,
   "metadata": {},
   "outputs": [],
   "source": [
    "df_cog['age_range'] = df_cog['age_range'].str.replace('歳','')"
   ]
  },
  {
   "cell_type": "code",
   "execution_count": 89,
   "metadata": {},
   "outputs": [
    {
     "name": "stdout",
     "output_type": "stream",
     "text": [
      "['40-44' '30-34' '35-39' '45-49' '50-54' '55-59' '60-64' '65-69' '70-74'\n",
      " '75-79' '80以上' '25-29' '20-24' '18-19']\n"
     ]
    }
   ],
   "source": [
    "print(df_cog['age_range'].unique())"
   ]
  },
  {
   "cell_type": "code",
   "execution_count": 90,
   "metadata": {},
   "outputs": [
    {
     "name": "stdout",
     "output_type": "stream",
     "text": [
      "[2 1 0]\n"
     ]
    }
   ],
   "source": [
    "print(df_cog['gender_code'].unique())"
   ]
  },
  {
   "cell_type": "code",
   "execution_count": 91,
   "metadata": {},
   "outputs": [
    {
     "name": "stdout",
     "output_type": "stream",
     "text": [
      "[202002]\n"
     ]
    }
   ],
   "source": [
    "print(df_cog['cp'].unique())"
   ]
  },
  {
   "cell_type": "code",
   "execution_count": 92,
   "metadata": {},
   "outputs": [],
   "source": [
    "_df_cog = df_cog.copy()"
   ]
  },
  {
   "cell_type": "code",
   "execution_count": 93,
   "metadata": {},
   "outputs": [],
   "source": [
    "#日付データの変換\n",
    "_df_cog['cp_date'] = pd.to_datetime(_df_cog['cp'], format=\"%Y%m\") + MonthEnd(1)\n",
    "_df_cog['bop_date'] = pd.to_datetime(_df_cog['cp'], format=\"%Y%m\") + MonthEnd(2)"
   ]
  },
  {
   "cell_type": "code",
   "execution_count": 94,
   "metadata": {},
   "outputs": [],
   "source": [
    "_df_cog['cp_date'] = _df_cog['cp_date'].dt.strftime('%Y/%m/%d')\n",
    "_df_cog['bop_date'] = _df_cog['bop_date'].dt.strftime('%Y/%m/%d')"
   ]
  },
  {
   "cell_type": "code",
   "execution_count": 95,
   "metadata": {
    "scrolled": true
   },
   "outputs": [
    {
     "name": "stdout",
     "output_type": "stream",
     "text": [
      "['2020/02/29']\n"
     ]
    }
   ],
   "source": [
    "print(_df_cog['cp_date'].unique())"
   ]
  },
  {
   "cell_type": "code",
   "execution_count": 96,
   "metadata": {},
   "outputs": [
    {
     "name": "stdout",
     "output_type": "stream",
     "text": [
      "['2020/03/31']\n"
     ]
    }
   ],
   "source": [
    "print(_df_cog['bop_date'].unique())"
   ]
  },
  {
   "cell_type": "code",
   "execution_count": 97,
   "metadata": {},
   "outputs": [],
   "source": [
    "df_cog = _df_cog.copy()"
   ]
  },
  {
   "cell_type": "code",
   "execution_count": null,
   "metadata": {},
   "outputs": [],
   "source": []
  },
  {
   "cell_type": "code",
   "execution_count": 82,
   "metadata": {
    "scrolled": false
   },
   "outputs": [
    {
     "data": {
      "text/html": [
       "<div>\n",
       "<style scoped>\n",
       "    .dataframe tbody tr th:only-of-type {\n",
       "        vertical-align: middle;\n",
       "    }\n",
       "\n",
       "    .dataframe tbody tr th {\n",
       "        vertical-align: top;\n",
       "    }\n",
       "\n",
       "    .dataframe thead th {\n",
       "        text-align: right;\n",
       "    }\n",
       "</style>\n",
       "<table border=\"1\" class=\"dataframe\">\n",
       "  <thead>\n",
       "    <tr style=\"text-align: right;\">\n",
       "      <th></th>\n",
       "      <th>cp_date</th>\n",
       "      <th>card</th>\n",
       "      <th>age</th>\n",
       "      <th>gender</th>\n",
       "      <th>nendo</th>\n",
       "      <th>eop_no_account</th>\n",
       "      <th>sum_no_cancel</th>\n",
       "    </tr>\n",
       "  </thead>\n",
       "  <tbody>\n",
       "    <tr>\n",
       "      <th>0</th>\n",
       "      <td>2020/02/29</td>\n",
       "      <td>VMゴールド</td>\n",
       "      <td>18-19</td>\n",
       "      <td>女性</td>\n",
       "      <td>2018</td>\n",
       "      <td>0</td>\n",
       "      <td>0</td>\n",
       "    </tr>\n",
       "    <tr>\n",
       "      <th>1</th>\n",
       "      <td>2020/02/29</td>\n",
       "      <td>VMゴールド</td>\n",
       "      <td>18-19</td>\n",
       "      <td>女性</td>\n",
       "      <td>2019</td>\n",
       "      <td>0</td>\n",
       "      <td>0</td>\n",
       "    </tr>\n",
       "    <tr>\n",
       "      <th>2</th>\n",
       "      <td>2020/02/29</td>\n",
       "      <td>VMゴールド</td>\n",
       "      <td>18-19</td>\n",
       "      <td>男性</td>\n",
       "      <td>2018</td>\n",
       "      <td>0</td>\n",
       "      <td>0</td>\n",
       "    </tr>\n",
       "    <tr>\n",
       "      <th>3</th>\n",
       "      <td>2020/02/29</td>\n",
       "      <td>VMゴールド</td>\n",
       "      <td>18-19</td>\n",
       "      <td>男性</td>\n",
       "      <td>2019</td>\n",
       "      <td>0</td>\n",
       "      <td>0</td>\n",
       "    </tr>\n",
       "    <tr>\n",
       "      <th>4</th>\n",
       "      <td>2020/02/29</td>\n",
       "      <td>VMゴールド</td>\n",
       "      <td>20-24</td>\n",
       "      <td>女性</td>\n",
       "      <td>2013</td>\n",
       "      <td>0</td>\n",
       "      <td>0</td>\n",
       "    </tr>\n",
       "  </tbody>\n",
       "</table>\n",
       "</div>"
      ],
      "text/plain": [
       "      cp_date    card    age gender nendo  eop_no_account  sum_no_cancel\n",
       "0  2020/02/29  VMゴールド  18-19     女性  2018               0              0\n",
       "1  2020/02/29  VMゴールド  18-19     女性  2019               0              0\n",
       "2  2020/02/29  VMゴールド  18-19     男性  2018               0              0\n",
       "3  2020/02/29  VMゴールド  18-19     男性  2019               0              0\n",
       "4  2020/02/29  VMゴールド  20-24     女性  2013               0              0"
      ]
     },
     "execution_count": 82,
     "metadata": {},
     "output_type": "execute_result"
    }
   ],
   "source": [
    "#当月末\n",
    "q = \"\"\"\n",
    "        SELECT\n",
    "        cp_date\n",
    "        ,case\n",
    "            when substr(teikeikaisha_code1_2,1,3) = 'D02' then 'お得意様ＧＣ'\n",
    "            when substr(teikeikaisha_code1_2,4,5) = '05' then 'ハウスゴールド'\n",
    "            when card_code = 2 then 'VMゴールド'\n",
    "            else 'VM一般'\n",
    "        end as card\n",
    "        ,age_range as age\n",
    "        ,case \n",
    "            when gender_code = 1 then '男性'\n",
    "            when gender_code = 2 then '女性'\n",
    "            else '不明'\n",
    "        end as gender\n",
    "        ,case when nendo < 2007 then '2007以前' else nendo end as nendo\n",
    "        ,sum(active_account) as eop_no_account\n",
    "        ,sum(cancel_account) as sum_no_cancel\n",
    "        from \n",
    "            df_cog\n",
    "        where \n",
    "            substr(teikeikaisha_code1_2,4,5) not in ('95','50')\n",
    "        group by\n",
    "            1,2,3,4,5\n",
    "        \"\"\"\n",
    "df_eop = sqldf(q, locals())\n",
    "df_eop.head()"
   ]
  },
  {
   "cell_type": "code",
   "execution_count": 72,
   "metadata": {},
   "outputs": [
    {
     "name": "stdout",
     "output_type": "stream",
     "text": [
      "['VMゴールド' 'VM一般' 'お得意様ＧＣ' 'ハウスゴールド']\n"
     ]
    }
   ],
   "source": [
    "print(df_eop['card'].unique())"
   ]
  },
  {
   "cell_type": "code",
   "execution_count": 73,
   "metadata": {},
   "outputs": [
    {
     "name": "stdout",
     "output_type": "stream",
     "text": [
      "['18-19' '20-24' '25-29' '30-34' '35-39' '40-44' '45-49' '50-54' '55-59'\n",
      " '60-64' '65-69' '70-74' '75-79' '80以上']\n"
     ]
    }
   ],
   "source": [
    "print(df_eop['age'].unique())"
   ]
  },
  {
   "cell_type": "code",
   "execution_count": 83,
   "metadata": {},
   "outputs": [
    {
     "name": "stdout",
     "output_type": "stream",
     "text": [
      "[2018 2019 2013 2014 2015 2016 2017 2008 2010 2011 2012 2007 2009 '2007以前']\n"
     ]
    }
   ],
   "source": [
    "print(df_eop['nendo'].unique())"
   ]
  },
  {
   "cell_type": "code",
   "execution_count": 107,
   "metadata": {},
   "outputs": [
    {
     "data": {
      "text/html": [
       "<div>\n",
       "<style scoped>\n",
       "    .dataframe tbody tr th:only-of-type {\n",
       "        vertical-align: middle;\n",
       "    }\n",
       "\n",
       "    .dataframe tbody tr th {\n",
       "        vertical-align: top;\n",
       "    }\n",
       "\n",
       "    .dataframe thead th {\n",
       "        text-align: right;\n",
       "    }\n",
       "</style>\n",
       "<table border=\"1\" class=\"dataframe\">\n",
       "  <thead>\n",
       "    <tr style=\"text-align: right;\">\n",
       "      <th></th>\n",
       "      <th>card</th>\n",
       "      <th>nendo</th>\n",
       "      <th>age</th>\n",
       "      <th>gender</th>\n",
       "      <th>etc_f</th>\n",
       "      <th>honin_annual_etc_trn</th>\n",
       "      <th>honin_annual_etc_amt</th>\n",
       "      <th>kazoku_annual_etc_trn</th>\n",
       "      <th>kazoku_annual_etc_amt</th>\n",
       "      <th>honin_etc_count</th>\n",
       "      <th>kazoku_etc_count</th>\n",
       "      <th>eop_no_account</th>\n",
       "    </tr>\n",
       "  </thead>\n",
       "  <tbody>\n",
       "    <tr>\n",
       "      <th>0</th>\n",
       "      <td>VMゴールド</td>\n",
       "      <td>2007</td>\n",
       "      <td>35-39</td>\n",
       "      <td>女性</td>\n",
       "      <td>利用なし</td>\n",
       "      <td>0.0</td>\n",
       "      <td>0.0</td>\n",
       "      <td>NaN</td>\n",
       "      <td>NaN</td>\n",
       "      <td>2.0</td>\n",
       "      <td>NaN</td>\n",
       "      <td>0.0</td>\n",
       "    </tr>\n",
       "    <tr>\n",
       "      <th>1</th>\n",
       "      <td>VMゴールド</td>\n",
       "      <td>2007</td>\n",
       "      <td>35-39</td>\n",
       "      <td>男性</td>\n",
       "      <td>利用あり</td>\n",
       "      <td>109.0</td>\n",
       "      <td>130810.0</td>\n",
       "      <td>NaN</td>\n",
       "      <td>NaN</td>\n",
       "      <td>2.0</td>\n",
       "      <td>NaN</td>\n",
       "      <td>0.0</td>\n",
       "    </tr>\n",
       "    <tr>\n",
       "      <th>2</th>\n",
       "      <td>VMゴールド</td>\n",
       "      <td>2007</td>\n",
       "      <td>40-44</td>\n",
       "      <td>女性</td>\n",
       "      <td>利用あり</td>\n",
       "      <td>25.0</td>\n",
       "      <td>12920.0</td>\n",
       "      <td>378.0</td>\n",
       "      <td>205510.0</td>\n",
       "      <td>1.0</td>\n",
       "      <td>1.0</td>\n",
       "      <td>4.0</td>\n",
       "    </tr>\n",
       "    <tr>\n",
       "      <th>3</th>\n",
       "      <td>VMゴールド</td>\n",
       "      <td>2007</td>\n",
       "      <td>40-44</td>\n",
       "      <td>女性</td>\n",
       "      <td>利用なし</td>\n",
       "      <td>0.0</td>\n",
       "      <td>0.0</td>\n",
       "      <td>NaN</td>\n",
       "      <td>NaN</td>\n",
       "      <td>2.0</td>\n",
       "      <td>NaN</td>\n",
       "      <td>4.0</td>\n",
       "    </tr>\n",
       "    <tr>\n",
       "      <th>4</th>\n",
       "      <td>VMゴールド</td>\n",
       "      <td>2007</td>\n",
       "      <td>40-44</td>\n",
       "      <td>男性</td>\n",
       "      <td>利用あり</td>\n",
       "      <td>451.0</td>\n",
       "      <td>304460.0</td>\n",
       "      <td>261.0</td>\n",
       "      <td>218710.0</td>\n",
       "      <td>8.0</td>\n",
       "      <td>1.0</td>\n",
       "      <td>5.0</td>\n",
       "    </tr>\n",
       "    <tr>\n",
       "      <th>...</th>\n",
       "      <td>...</td>\n",
       "      <td>...</td>\n",
       "      <td>...</td>\n",
       "      <td>...</td>\n",
       "      <td>...</td>\n",
       "      <td>...</td>\n",
       "      <td>...</td>\n",
       "      <td>...</td>\n",
       "      <td>...</td>\n",
       "      <td>...</td>\n",
       "      <td>...</td>\n",
       "      <td>...</td>\n",
       "    </tr>\n",
       "    <tr>\n",
       "      <th>1712</th>\n",
       "      <td>ハウスゴールド</td>\n",
       "      <td>2008</td>\n",
       "      <td>65-69</td>\n",
       "      <td>男性</td>\n",
       "      <td>利用あり</td>\n",
       "      <td>3.0</td>\n",
       "      <td>3780.0</td>\n",
       "      <td>NaN</td>\n",
       "      <td>NaN</td>\n",
       "      <td>1.0</td>\n",
       "      <td>NaN</td>\n",
       "      <td>1644.0</td>\n",
       "    </tr>\n",
       "    <tr>\n",
       "      <th>1713</th>\n",
       "      <td>ハウスゴールド</td>\n",
       "      <td>2008</td>\n",
       "      <td>70-74</td>\n",
       "      <td>女性</td>\n",
       "      <td>利用あり</td>\n",
       "      <td>24.0</td>\n",
       "      <td>25390.0</td>\n",
       "      <td>NaN</td>\n",
       "      <td>NaN</td>\n",
       "      <td>1.0</td>\n",
       "      <td>NaN</td>\n",
       "      <td>1247.0</td>\n",
       "    </tr>\n",
       "    <tr>\n",
       "      <th>1714</th>\n",
       "      <td>ハウスゴールド</td>\n",
       "      <td>2009</td>\n",
       "      <td>65-69</td>\n",
       "      <td>男性</td>\n",
       "      <td>利用なし</td>\n",
       "      <td>0.0</td>\n",
       "      <td>0.0</td>\n",
       "      <td>NaN</td>\n",
       "      <td>NaN</td>\n",
       "      <td>1.0</td>\n",
       "      <td>NaN</td>\n",
       "      <td>5.0</td>\n",
       "    </tr>\n",
       "    <tr>\n",
       "      <th>1715</th>\n",
       "      <td>ハウスゴールド</td>\n",
       "      <td>2009</td>\n",
       "      <td>80以上</td>\n",
       "      <td>男性</td>\n",
       "      <td>利用あり</td>\n",
       "      <td>22.0</td>\n",
       "      <td>18170.0</td>\n",
       "      <td>NaN</td>\n",
       "      <td>NaN</td>\n",
       "      <td>1.0</td>\n",
       "      <td>NaN</td>\n",
       "      <td>10.0</td>\n",
       "    </tr>\n",
       "    <tr>\n",
       "      <th>1716</th>\n",
       "      <td>ハウスゴールド</td>\n",
       "      <td>2013</td>\n",
       "      <td>65-69</td>\n",
       "      <td>男性</td>\n",
       "      <td>利用あり</td>\n",
       "      <td>90.0</td>\n",
       "      <td>70130.0</td>\n",
       "      <td>NaN</td>\n",
       "      <td>NaN</td>\n",
       "      <td>1.0</td>\n",
       "      <td>NaN</td>\n",
       "      <td>0.0</td>\n",
       "    </tr>\n",
       "  </tbody>\n",
       "</table>\n",
       "<p>1717 rows × 12 columns</p>\n",
       "</div>"
      ],
      "text/plain": [
       "         card nendo    age gender etc_f  honin_annual_etc_trn  \\\n",
       "0      VMゴールド  2007  35-39     女性  利用なし                   0.0   \n",
       "1      VMゴールド  2007  35-39     男性  利用あり                 109.0   \n",
       "2      VMゴールド  2007  40-44     女性  利用あり                  25.0   \n",
       "3      VMゴールド  2007  40-44     女性  利用なし                   0.0   \n",
       "4      VMゴールド  2007  40-44     男性  利用あり                 451.0   \n",
       "...       ...   ...    ...    ...   ...                   ...   \n",
       "1712  ハウスゴールド  2008  65-69     男性  利用あり                   3.0   \n",
       "1713  ハウスゴールド  2008  70-74     女性  利用あり                  24.0   \n",
       "1714  ハウスゴールド  2009  65-69     男性  利用なし                   0.0   \n",
       "1715  ハウスゴールド  2009   80以上     男性  利用あり                  22.0   \n",
       "1716  ハウスゴールド  2013  65-69     男性  利用あり                  90.0   \n",
       "\n",
       "      honin_annual_etc_amt  kazoku_annual_etc_trn  kazoku_annual_etc_amt  \\\n",
       "0                      0.0                    NaN                    NaN   \n",
       "1                 130810.0                    NaN                    NaN   \n",
       "2                  12920.0                  378.0               205510.0   \n",
       "3                      0.0                    NaN                    NaN   \n",
       "4                 304460.0                  261.0               218710.0   \n",
       "...                    ...                    ...                    ...   \n",
       "1712                3780.0                    NaN                    NaN   \n",
       "1713               25390.0                    NaN                    NaN   \n",
       "1714                   0.0                    NaN                    NaN   \n",
       "1715               18170.0                    NaN                    NaN   \n",
       "1716               70130.0                    NaN                    NaN   \n",
       "\n",
       "      honin_etc_count  kazoku_etc_count  eop_no_account  \n",
       "0                 2.0               NaN             0.0  \n",
       "1                 2.0               NaN             0.0  \n",
       "2                 1.0               1.0             4.0  \n",
       "3                 2.0               NaN             4.0  \n",
       "4                 8.0               1.0             5.0  \n",
       "...               ...               ...             ...  \n",
       "1712              1.0               NaN          1644.0  \n",
       "1713              1.0               NaN          1247.0  \n",
       "1714              1.0               NaN             5.0  \n",
       "1715              1.0               NaN            10.0  \n",
       "1716              1.0               NaN             0.0  \n",
       "\n",
       "[1717 rows x 12 columns]"
      ]
     },
     "execution_count": 107,
     "metadata": {},
     "output_type": "execute_result"
    }
   ],
   "source": [
    "#マージ\n",
    "q = \"\"\"\n",
    "        SELECT\n",
    "        t1.*\n",
    "        ,t2.eop_no_account\n",
    "        from \n",
    "            df_etc t1\n",
    "        left join \n",
    "            df_eop t2\n",
    "        on t1.card = t2.card\n",
    "        and t1.nendo = t2.nendo\n",
    "        and t1.age = t2.age\n",
    "        and t1.gender = t2.gender\n",
    "        group by\n",
    "            1,2,3,4,5\n",
    "        \"\"\"\n",
    "df_etc2 = sqldf(q, locals())\n",
    "df_etc2"
   ]
  },
  {
   "cell_type": "code",
   "execution_count": 108,
   "metadata": {},
   "outputs": [],
   "source": [
    "#CSV出力\n",
    "df_etc2.to_csv(data_dir /'集計_etc利用有無別_from_cognos.csv', header=True ,index=None, encoding='shift-jis')"
   ]
  },
  {
   "cell_type": "code",
   "execution_count": null,
   "metadata": {},
   "outputs": [],
   "source": []
  }
 ],
 "metadata": {
  "kernelspec": {
   "display_name": "Python 3",
   "language": "python",
   "name": "python3"
  },
  "language_info": {
   "codemirror_mode": {
    "name": "ipython",
    "version": 3
   },
   "file_extension": ".py",
   "mimetype": "text/x-python",
   "name": "python",
   "nbconvert_exporter": "python",
   "pygments_lexer": "ipython3",
   "version": "3.7.6"
  }
 },
 "nbformat": 4,
 "nbformat_minor": 2
}
