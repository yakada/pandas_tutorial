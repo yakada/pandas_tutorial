{
 "cells": [
  {
   "cell_type": "code",
   "execution_count": 1,
   "metadata": {},
   "outputs": [],
   "source": [
    "import pandas as pd\n",
    "import numpy as np\n",
    "import os\n",
    "from datetime import date\n",
    "from ailab_tools.smn import encrypted_id_to_smn_uid\n",
    "from ailab_tools.utils import GMail\n",
    "from ailab_tools.utils import GSheet\n",
    "from ailab_tools.utils import python_utils as pu\n",
    "\n",
    "from ailab_tools.magics import slack_notify"
   ]
  },
  {
   "cell_type": "markdown",
   "metadata": {},
   "source": [
    "Qlifeデータのsmn_uidへの変換<br>\n",
    "出力結果はsegment_idごとのsmn_uidリストtsv<br>\n",
    "\n",
    "ファイル名を入れてRun Allでおｋ<br>\n",
    "\n",
    "<具体的な処理の流れ><br>\n",
    "0.対象ファイル名をセット<br>\n",
    "1.ファイル読み込み<br>\n",
    "2.smn_uidへの変換<br>\n",
    "3.ファイル出力<br>"
   ]
  },
  {
   "cell_type": "code",
   "execution_count": 2,
   "metadata": {},
   "outputs": [],
   "source": [
    "# 0.対象ファイル名をセット\n",
    "file_name = \"20190731120317_user_segment.tsv\""
   ]
  },
  {
   "cell_type": "code",
   "execution_count": 3,
   "metadata": {},
   "outputs": [
    {
     "data": {
      "text/html": [
       "<div>\n",
       "<style scoped>\n",
       "    .dataframe tbody tr th:only-of-type {\n",
       "        vertical-align: middle;\n",
       "    }\n",
       "\n",
       "    .dataframe tbody tr th {\n",
       "        vertical-align: top;\n",
       "    }\n",
       "\n",
       "    .dataframe thead th {\n",
       "        text-align: right;\n",
       "    }\n",
       "</style>\n",
       "<table border=\"1\" class=\"dataframe\">\n",
       "  <thead>\n",
       "    <tr style=\"text-align: right;\">\n",
       "      <th></th>\n",
       "      <th>logicad_id</th>\n",
       "      <th>segment_id</th>\n",
       "      <th>weight</th>\n",
       "      <th>expiration</th>\n",
       "      <th>action</th>\n",
       "    </tr>\n",
       "  </thead>\n",
       "  <tbody>\n",
       "    <tr>\n",
       "      <th>0</th>\n",
       "      <td>ASu-kRHdaiC9ks8AAyiKcjQ5oM0n2A</td>\n",
       "      <td>allergy</td>\n",
       "      <td>0</td>\n",
       "      <td>2017-12-26T00:00+09:00</td>\n",
       "      <td>add</td>\n",
       "    </tr>\n",
       "    <tr>\n",
       "      <th>1</th>\n",
       "      <td>AYJzgzotO-9qks8AApYctf-Mic0n2A</td>\n",
       "      <td>allergy</td>\n",
       "      <td>0</td>\n",
       "      <td>2017-12-26T00:00+09:00</td>\n",
       "      <td>add</td>\n",
       "    </tr>\n",
       "    <tr>\n",
       "      <th>2</th>\n",
       "      <td>AXSWxicjpmdBks8ABbAZ30fNic0n2A</td>\n",
       "      <td>allergy</td>\n",
       "      <td>0</td>\n",
       "      <td>2017-12-26T00:00+09:00</td>\n",
       "      <td>add</td>\n",
       "    </tr>\n",
       "    <tr>\n",
       "      <th>3</th>\n",
       "      <td>AdIUZGB1H3rwks8ABXXkup4fu80n2A</td>\n",
       "      <td>allergy</td>\n",
       "      <td>0</td>\n",
       "      <td>2017-12-26T00:00+09:00</td>\n",
       "      <td>add</td>\n",
       "    </tr>\n",
       "    <tr>\n",
       "      <th>4</th>\n",
       "      <td>AYiM16OpZGbEks8ABKH7KNRVYc0n2A</td>\n",
       "      <td>allergy</td>\n",
       "      <td>0</td>\n",
       "      <td>2017-12-26T00:00+09:00</td>\n",
       "      <td>add</td>\n",
       "    </tr>\n",
       "  </tbody>\n",
       "</table>\n",
       "</div>"
      ],
      "text/plain": [
       "                       logicad_id segment_id  weight              expiration  \\\n",
       "0  ASu-kRHdaiC9ks8AAyiKcjQ5oM0n2A    allergy       0  2017-12-26T00:00+09:00   \n",
       "1  AYJzgzotO-9qks8AApYctf-Mic0n2A    allergy       0  2017-12-26T00:00+09:00   \n",
       "2  AXSWxicjpmdBks8ABbAZ30fNic0n2A    allergy       0  2017-12-26T00:00+09:00   \n",
       "3  AdIUZGB1H3rwks8ABXXkup4fu80n2A    allergy       0  2017-12-26T00:00+09:00   \n",
       "4  AYiM16OpZGbEks8ABKH7KNRVYc0n2A    allergy       0  2017-12-26T00:00+09:00   \n",
       "\n",
       "  action  \n",
       "0    add  \n",
       "1    add  \n",
       "2    add  \n",
       "3    add  \n",
       "4    add  "
      ]
     },
     "execution_count": 3,
     "metadata": {},
     "output_type": "execute_result"
    }
   ],
   "source": [
    "# 1.ファイル読み込み\n",
    "file_dir = f\"/home/yusuke_akada/notebook/qlife/input/{file_name}\"\n",
    "df = pd.read_csv(file_dir, sep = \"\\t\" )\n",
    "df.head()"
   ]
  },
  {
   "cell_type": "code",
   "execution_count": 4,
   "metadata": {},
   "outputs": [
    {
     "name": "stderr",
     "output_type": "stream",
     "text": [
      "INFO:ailab_tools.utils.slack:loaded configuration file: /opt/anaconda3/lib/python3.7/site-packages/ailab_tools/config/ailab_tools_config.py\n",
      "INFO:ailab_tools.utils.slack:Slack: Posted a message to Slack.\n"
     ]
    }
   ],
   "source": [
    "%%slack_notify @yusuke_akada\n",
    "# 2.smn_uidへの変換\n",
    "\n",
    "\n",
    "# 例外データ確認用\n",
    "# encrypted_id_to_smn_uidで変換できない値が稀にあるのでそれを摘出する\n",
    "except_idx = []\n",
    "for idx, row in df.iterrows():\n",
    "    try:\n",
    "        encrypted_id_to_smn_uid([row.logicad_id])\n",
    "    except:\n",
    "        except_idx.append(idx)\n",
    "\n",
    "# 例外データ\n",
    "except_df = df[(df.index.isin(except_idx))]\n",
    "except_id = list(except_df.logicad_id)\n",
    "\n",
    "\n",
    "# 例外データを除いたDataFrameを用意\n",
    "tmp_df = df[~df.logicad_id.isin(except_id)]\n",
    "\n",
    "# smn_uidへの変換\n",
    "dmpuser_list = list(tmp_df.logicad_id)\n",
    "uid_list = encrypted_id_to_smn_uid(dmpuser_list)\n",
    "\n",
    "# 変換したsmn_uidと元のデータを紐づけ\n",
    "uid_df = pd.DataFrame({\"smn_uid\" :uid_list})\n",
    "df_ = pd.concat([tmp_df, uid_df], axis=1 )\n",
    "df_ = df_[(~df_.smn_uid.isnull())]\n",
    "df_ = df_.astype({\"smn_uid\":int})"
   ]
  },
  {
   "cell_type": "code",
   "execution_count": 5,
   "metadata": {},
   "outputs": [
    {
     "data": {
      "text/html": [
       "<div>\n",
       "<style scoped>\n",
       "    .dataframe tbody tr th:only-of-type {\n",
       "        vertical-align: middle;\n",
       "    }\n",
       "\n",
       "    .dataframe tbody tr th {\n",
       "        vertical-align: top;\n",
       "    }\n",
       "\n",
       "    .dataframe thead th {\n",
       "        text-align: right;\n",
       "    }\n",
       "</style>\n",
       "<table border=\"1\" class=\"dataframe\">\n",
       "  <thead>\n",
       "    <tr style=\"text-align: right;\">\n",
       "      <th></th>\n",
       "      <th>logicad_id</th>\n",
       "      <th>segment_id</th>\n",
       "      <th>weight</th>\n",
       "      <th>expiration</th>\n",
       "      <th>action</th>\n",
       "    </tr>\n",
       "  </thead>\n",
       "  <tbody>\n",
       "    <tr>\n",
       "      <th>778520</th>\n",
       "      <td>ghostery</td>\n",
       "      <td>obgyn</td>\n",
       "      <td>0</td>\n",
       "      <td>2017-12-26T00:00+09:00</td>\n",
       "      <td>add</td>\n",
       "    </tr>\n",
       "  </tbody>\n",
       "</table>\n",
       "</div>"
      ],
      "text/plain": [
       "       logicad_id segment_id  weight              expiration action\n",
       "778520   ghostery      obgyn       0  2017-12-26T00:00+09:00    add"
      ]
     },
     "execution_count": 5,
     "metadata": {},
     "output_type": "execute_result"
    }
   ],
   "source": [
    "except_df"
   ]
  },
  {
   "cell_type": "code",
   "execution_count": 6,
   "metadata": {},
   "outputs": [
    {
     "data": {
      "text/plain": [
       "segment_id\n",
       "allergy                 3582\n",
       "arthritis               1022\n",
       "atopy                  15132\n",
       "body_odor                470\n",
       "cancer                  3155\n",
       "cholesterol            56640\n",
       "chronic_fatigue         1775\n",
       "constipation          106543\n",
       "diabetes               11216\n",
       "diabetes_diet           2577\n",
       "diet                    2342\n",
       "ed                       310\n",
       "eye_decay               8544\n",
       "eye_disease            18461\n",
       "eye_fatigue             7838\n",
       "fatigue                   59\n",
       "fatigue_liver            357\n",
       "heart_disease          45477\n",
       "hypertension           18306\n",
       "joint_pain              1195\n",
       "lifestyle_diseases     33941\n",
       "menopause              17229\n",
       "metabolic              71597\n",
       "obgyn                 851326\n",
       "scalp_care              1305\n",
       "shoulder_back_pain      2171\n",
       "skin_care             177460\n",
       "skin_trouble           13101\n",
       "thinning_hair           2719\n",
       "Name: smn_uid, dtype: int64"
      ]
     },
     "execution_count": 6,
     "metadata": {},
     "output_type": "execute_result"
    }
   ],
   "source": [
    "# segment_idごとのuu数はこんな感じ\n",
    "df_.groupby(\"segment_id\").smn_uid.nunique()"
   ]
  },
  {
   "cell_type": "code",
   "execution_count": 7,
   "metadata": {},
   "outputs": [
    {
     "name": "stderr",
     "output_type": "stream",
     "text": [
      "INFO:ailab_tools.utils.slack:loaded configuration file: /opt/anaconda3/lib/python3.7/site-packages/ailab_tools/config/ailab_tools_config.py\n",
      "INFO:ailab_tools.utils.slack:Slack: Posted a message to Slack.\n"
     ]
    }
   ],
   "source": [
    "%%slack_notify @yusuke_akada\n",
    "# 3.ファイル出力\n",
    "\n",
    "\n",
    "# ファイル出力用のディレクトリ作成\n",
    "today_yymmdd = date.today().strftime(\"%y%m%d\")\n",
    "dir_name = f\"/home/yusuke_akada/notebook/qlife/output/{today_yymmdd}\" \n",
    "os.mkdir(dir_name)\n",
    "\n",
    "contents = set(list(df_.segment_id))\n",
    "\n",
    "# セグメントごとに処理\n",
    "for x in contents:\n",
    "    \n",
    "    # ファイル出力\n",
    "    output_file = f\"{dir_name}/qlife_{x}.tsv\" \n",
    "    segment_user = df_[(df_.segment_id == x)].smn_uid\n",
    "    segment_user.to_csv(output_file, sep = \"\\t\", index = False, header = False )"
   ]
  }
 ],
 "metadata": {
  "kernelspec": {
   "display_name": "Python 3",
   "language": "python",
   "name": "python3"
  },
  "language_info": {
   "codemirror_mode": {
    "name": "ipython",
    "version": 3
   },
   "file_extension": ".py",
   "mimetype": "text/x-python",
   "name": "python",
   "nbconvert_exporter": "python",
   "pygments_lexer": "ipython3",
   "version": "3.7.2"
  }
 },
 "nbformat": 4,
 "nbformat_minor": 2
}
