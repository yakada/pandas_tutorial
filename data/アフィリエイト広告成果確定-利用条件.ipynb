{
 "cells": [
  {
   "cell_type": "code",
   "execution_count": 81,
   "metadata": {},
   "outputs": [],
   "source": [
    "import pandas as pd\n",
    "import numpy as np\n",
    "from pathlib import Path\n",
    "import csv\n",
    "import xlrd\n",
    "import io\n",
    "from zipfile import ZipFile\n",
    "from datetime import date, timedelta, time, datetime"
   ]
  },
  {
   "cell_type": "code",
   "execution_count": 82,
   "metadata": {},
   "outputs": [
    {
     "name": "stdout",
     "output_type": "stream",
     "text": [
      "20200720\n"
     ]
    }
   ],
   "source": [
    "today_yyyymmdd = date.today().strftime(\"%Y%m%d\")\n",
    "print(today_yyyymmdd)"
   ]
  },
  {
   "cell_type": "markdown",
   "metadata": {},
   "source": [
    "import datetime \n",
    "base = datetime.date(2020,2,1)\n",
    "for i in range(0,10): \n",
    "    d=base + datetime.timedelta(i)\n",
    "    d=d.strftime(\"%Y%m%d\")\n",
    "    print(f\"N029kakutokuruiseki{d}.csv\")"
   ]
  },
  {
   "cell_type": "markdown",
   "metadata": {},
   "source": [
    "from datetime import datetime, timedelta\n",
    "\n",
    "def date_range(start_date: datetime, end_date: datetime):\n",
    "    diff = (end_date - start_date).days + 1\n",
    "    return (start_date + timedelta(i) for i in range(diff))"
   ]
  },
  {
   "cell_type": "code",
   "execution_count": 83,
   "metadata": {},
   "outputs": [],
   "source": [
    "#pandasの表示列数を増やす\n",
    "import pandas as pd\n",
    "pd.set_option('display.max_columns', 100)"
   ]
  },
  {
   "cell_type": "code",
   "execution_count": 84,
   "metadata": {},
   "outputs": [
    {
     "name": "stdout",
     "output_type": "stream",
     "text": [
      "Output①⇒ online_20200720\n",
      "Output②⇒ 確認済み成果データ_20200720\n",
      "Output③⇒ アフィリエイト広告_承認者リスト累積_20200720\n"
     ]
    }
   ],
   "source": [
    "#ディレクトリ\n",
    "data_dir = Path(r\"C:\\Users\\crie072\\Documents\\21_Online\")\n",
    "\n",
    "\n",
    "#承認月\n",
    "approval_month = \"5月\"\n",
    "approval_yymmdd = 20200531\n",
    "\n",
    "#Input_file\n",
    "#①承認リスト（当月分）\n",
    "input_file_1 = \"【C103】N029（2020年5月入会利用実績.xlsx\"\n",
    "\n",
    "#②承認リスト（前月分）\n",
    "input_file_2 = \"N029（2020年5月度入会）.xlsx\"\n",
    "\n",
    "#③ デジガレ確認用リスト\n",
    "input_file_3 = \"20200630〆【JFRカード御中】成果データ.xlsx\"\n",
    "\n",
    "#④ 累積承認リスト\n",
    "input_file_4 = \"アフィリエイト広告_累積承認者リスト.xlsx\"\n",
    "\n",
    "#Output_file\n",
    "#①オンライン承認リスト\n",
    "output_file_1 = f\"online_{today_yyyymmdd}\" \n",
    "print(\"Output①⇒\",output_file_1)\n",
    "\n",
    "#②アフィリエイト月次成果承認確定リスト\n",
    "output_file_2 = f\"確認済み成果データ_{today_yyyymmdd}\" \n",
    "print(\"Output②⇒\",output_file_2)\n",
    "\n",
    "#③アフィリエイト広告_承認者リスト_累積\n",
    "output_file_3 = f\"アフィリエイト広告_承認者リスト累積_{today_yyyymmdd}\" \n",
    "print(\"Output③⇒\",output_file_3)"
   ]
  },
  {
   "cell_type": "code",
   "execution_count": null,
   "metadata": {},
   "outputs": [],
   "source": []
  },
  {
   "cell_type": "markdown",
   "metadata": {},
   "source": [
    "①承認リスト（当月分）"
   ]
  },
  {
   "cell_type": "code",
   "execution_count": 85,
   "metadata": {},
   "outputs": [
    {
     "name": "stdout",
     "output_type": "stream",
     "text": [
      "【C103】N029（2020年5月入会利用実績.xlsx\n"
     ]
    },
    {
     "data": {
      "text/html": [
       "<div>\n",
       "<style scoped>\n",
       "    .dataframe tbody tr th:only-of-type {\n",
       "        vertical-align: middle;\n",
       "    }\n",
       "\n",
       "    .dataframe tbody tr th {\n",
       "        vertical-align: top;\n",
       "    }\n",
       "\n",
       "    .dataframe thead th {\n",
       "        text-align: right;\n",
       "    }\n",
       "</style>\n",
       "<table border=\"1\" class=\"dataframe\">\n",
       "  <thead>\n",
       "    <tr style=\"text-align: right;\">\n",
       "      <th></th>\n",
       "      <th>カード加入日</th>\n",
       "      <th>会員カード発行区分</th>\n",
       "      <th>続柄</th>\n",
       "      <th>カード提携会社1CD</th>\n",
       "      <th>カード提携会社2CD</th>\n",
       "      <th>カード種類CD</th>\n",
       "      <th>カードブランドCD</th>\n",
       "      <th>切替CD</th>\n",
       "      <th>勧誘CD</th>\n",
       "      <th>受付部支店</th>\n",
       "      <th>性別CD</th>\n",
       "      <th>再発行CD</th>\n",
       "      <th>旧カード提携会社1CD</th>\n",
       "      <th>旧カード提携会社2CD</th>\n",
       "      <th>旧カード種類CD</th>\n",
       "      <th>旧カードブランドCD</th>\n",
       "      <th>入会申込番号</th>\n",
       "      <th>満年齢</th>\n",
       "      <th>リボ支払方法CD</th>\n",
       "      <th>勧誘団体CD</th>\n",
       "      <th>提携カード特殊エリア</th>\n",
       "      <th>エンボス内容</th>\n",
       "      <th>カード年会費CD</th>\n",
       "      <th>リボ利用対象CD</th>\n",
       "      <th>カード売上額合計</th>\n",
       "    </tr>\n",
       "  </thead>\n",
       "  <tbody>\n",
       "    <tr>\n",
       "      <th>0</th>\n",
       "      <td>20200501</td>\n",
       "      <td>1</td>\n",
       "      <td>0</td>\n",
       "      <td>D02</td>\n",
       "      <td>1</td>\n",
       "      <td>2</td>\n",
       "      <td>1</td>\n",
       "      <td>0</td>\n",
       "      <td>3</td>\n",
       "      <td>102</td>\n",
       "      <td>1</td>\n",
       "      <td>0</td>\n",
       "      <td>NaN</td>\n",
       "      <td>NaN</td>\n",
       "      <td>NaN</td>\n",
       "      <td>NaN</td>\n",
       "      <td>155603602331559</td>\n",
       "      <td>30</td>\n",
       "      <td>12.0</td>\n",
       "      <td>2000</td>\n",
       "      <td>NaN</td>\n",
       "      <td>2.000010e+09</td>\n",
       "      <td>2</td>\n",
       "      <td>0</td>\n",
       "      <td>0</td>\n",
       "    </tr>\n",
       "    <tr>\n",
       "      <th>1</th>\n",
       "      <td>20200501</td>\n",
       "      <td>2</td>\n",
       "      <td>3</td>\n",
       "      <td>D02</td>\n",
       "      <td>1</td>\n",
       "      <td>2</td>\n",
       "      <td>1</td>\n",
       "      <td>0</td>\n",
       "      <td>3</td>\n",
       "      <td>1</td>\n",
       "      <td>1</td>\n",
       "      <td>0</td>\n",
       "      <td>NaN</td>\n",
       "      <td>NaN</td>\n",
       "      <td>NaN</td>\n",
       "      <td>NaN</td>\n",
       "      <td>155051921869919</td>\n",
       "      <td>63</td>\n",
       "      <td>12.0</td>\n",
       "      <td>10000</td>\n",
       "      <td>NaN</td>\n",
       "      <td>1.000001e+10</td>\n",
       "      <td>2</td>\n",
       "      <td>0</td>\n",
       "      <td>0</td>\n",
       "    </tr>\n",
       "    <tr>\n",
       "      <th>2</th>\n",
       "      <td>20200501</td>\n",
       "      <td>5</td>\n",
       "      <td>0</td>\n",
       "      <td>D00</td>\n",
       "      <td>2</td>\n",
       "      <td>31</td>\n",
       "      <td>1</td>\n",
       "      <td>1</td>\n",
       "      <td>3</td>\n",
       "      <td>104</td>\n",
       "      <td>2</td>\n",
       "      <td>0</td>\n",
       "      <td>D00</td>\n",
       "      <td>1.0</td>\n",
       "      <td>31.0</td>\n",
       "      <td>1.0</td>\n",
       "      <td>155603602532610</td>\n",
       "      <td>56</td>\n",
       "      <td>47.0</td>\n",
       "      <td>4000</td>\n",
       "      <td>NaN</td>\n",
       "      <td>4.000000e+03</td>\n",
       "      <td>1</td>\n",
       "      <td>0</td>\n",
       "      <td>0</td>\n",
       "    </tr>\n",
       "    <tr>\n",
       "      <th>3</th>\n",
       "      <td>20200501</td>\n",
       "      <td>4</td>\n",
       "      <td>0</td>\n",
       "      <td>D00</td>\n",
       "      <td>1</td>\n",
       "      <td>31</td>\n",
       "      <td>1</td>\n",
       "      <td>1</td>\n",
       "      <td>3</td>\n",
       "      <td>106</td>\n",
       "      <td>2</td>\n",
       "      <td>0</td>\n",
       "      <td>D00</td>\n",
       "      <td>1.0</td>\n",
       "      <td>2.0</td>\n",
       "      <td>1.0</td>\n",
       "      <td>155603602532644</td>\n",
       "      <td>31</td>\n",
       "      <td>12.0</td>\n",
       "      <td>3000</td>\n",
       "      <td>NaN</td>\n",
       "      <td>6.000000e+03</td>\n",
       "      <td>0</td>\n",
       "      <td>0</td>\n",
       "      <td>0</td>\n",
       "    </tr>\n",
       "    <tr>\n",
       "      <th>4</th>\n",
       "      <td>20200501</td>\n",
       "      <td>1</td>\n",
       "      <td>0</td>\n",
       "      <td>D00</td>\n",
       "      <td>4</td>\n",
       "      <td>31</td>\n",
       "      <td>2</td>\n",
       "      <td>0</td>\n",
       "      <td>3</td>\n",
       "      <td>299</td>\n",
       "      <td>2</td>\n",
       "      <td>0</td>\n",
       "      <td>NaN</td>\n",
       "      <td>NaN</td>\n",
       "      <td>NaN</td>\n",
       "      <td>NaN</td>\n",
       "      <td>155051921869539</td>\n",
       "      <td>37</td>\n",
       "      <td>52.0</td>\n",
       "      <td>11000</td>\n",
       "      <td>40.0</td>\n",
       "      <td>1.100000e+04</td>\n",
       "      <td>2</td>\n",
       "      <td>1</td>\n",
       "      <td>6000</td>\n",
       "    </tr>\n",
       "  </tbody>\n",
       "</table>\n",
       "</div>"
      ],
      "text/plain": [
       "     カード加入日 会員カード発行区分  続柄 カード提携会社1CD  カード提携会社2CD  カード種類CD  カードブランドCD  切替CD  \\\n",
       "0  20200501         1   0        D02           1        2          1     0   \n",
       "1  20200501         2   3        D02           1        2          1     0   \n",
       "2  20200501         5   0        D00           2       31          1     1   \n",
       "3  20200501         4   0        D00           1       31          1     1   \n",
       "4  20200501         1   0        D00           4       31          2     0   \n",
       "\n",
       "   勧誘CD  受付部支店  性別CD  再発行CD 旧カード提携会社1CD  旧カード提携会社2CD  旧カード種類CD  旧カードブランドCD  \\\n",
       "0     3    102     1      0         NaN          NaN       NaN         NaN   \n",
       "1     3      1     1      0         NaN          NaN       NaN         NaN   \n",
       "2     3    104     2      0         D00          1.0      31.0         1.0   \n",
       "3     3    106     2      0         D00          1.0       2.0         1.0   \n",
       "4     3    299     2      0         NaN          NaN       NaN         NaN   \n",
       "\n",
       "            入会申込番号  満年齢  リボ支払方法CD  勧誘団体CD  提携カード特殊エリア        エンボス内容  カード年会費CD  \\\n",
       "0  155603602331559   30      12.0    2000         NaN  2.000010e+09         2   \n",
       "1  155051921869919   63      12.0   10000         NaN  1.000001e+10         2   \n",
       "2  155603602532610   56      47.0    4000         NaN  4.000000e+03         1   \n",
       "3  155603602532644   31      12.0    3000         NaN  6.000000e+03         0   \n",
       "4  155051921869539   37      52.0   11000        40.0  1.100000e+04         2   \n",
       "\n",
       "   リボ利用対象CD  カード売上額合計  \n",
       "0         0         0  \n",
       "1         0         0  \n",
       "2         0         0  \n",
       "3         0         0  \n",
       "4         1      6000  "
      ]
     },
     "execution_count": 85,
     "metadata": {},
     "output_type": "execute_result"
    }
   ],
   "source": [
    "print(input_file_1)\n",
    "\n",
    "df_app = pd.read_excel(data_dir /r\"input\"/f\"{input_file_1}\")\n",
    "df_app.head()"
   ]
  },
  {
   "cell_type": "code",
   "execution_count": 86,
   "metadata": {},
   "outputs": [
    {
     "name": "stdout",
     "output_type": "stream",
     "text": [
      "(2324, 25)\n",
      "RangeIndex(start=0, stop=2324, step=1)\n",
      "Index(['カード加入日', '会員カード発行区分', '続柄', 'カード提携会社1CD', 'カード提携会社2CD', 'カード種類CD',\n",
      "       'カードブランドCD', '切替CD', '勧誘CD', '受付部支店', '性別CD', '再発行CD', '旧カード提携会社1CD',\n",
      "       '旧カード提携会社2CD', '旧カード種類CD', '旧カードブランドCD', '入会申込番号', '満年齢', 'リボ支払方法CD',\n",
      "       '勧誘団体CD', '提携カード特殊エリア', 'エンボス内容', 'カード年会費CD', 'リボ利用対象CD', 'カード売上額合計'],\n",
      "      dtype='object')\n",
      "カード加入日           int64\n",
      "会員カード発行区分       object\n",
      "続柄               int64\n",
      "カード提携会社1CD      object\n",
      "カード提携会社2CD       int64\n",
      "カード種類CD          int64\n",
      "カードブランドCD        int64\n",
      "切替CD             int64\n",
      "勧誘CD             int64\n",
      "受付部支店            int64\n",
      "性別CD             int64\n",
      "再発行CD            int64\n",
      "旧カード提携会社1CD     object\n",
      "旧カード提携会社2CD    float64\n",
      "旧カード種類CD       float64\n",
      "旧カードブランドCD     float64\n",
      "入会申込番号           int64\n",
      "満年齢              int64\n",
      "リボ支払方法CD       float64\n",
      "勧誘団体CD           int64\n",
      "提携カード特殊エリア     float64\n",
      "エンボス内容         float64\n",
      "カード年会費CD         int64\n",
      "リボ利用対象CD         int64\n",
      "カード売上額合計         int64\n",
      "dtype: object\n"
     ]
    }
   ],
   "source": [
    "print(df_app.shape)\n",
    "print(df_app.index)\n",
    "print(df_app.columns)\n",
    "print(df_app.dtypes)"
   ]
  },
  {
   "cell_type": "markdown",
   "metadata": {},
   "source": [
    "column_names = ['実績月','入会申込番号','直近３ケ月買物利用金額','直近３ケ月全体利用金額','年令','性別',\n",
    "                '都道府県名','顧客状況コ－ド','マイペ設定','DM希望店','カード券種名','カ－ド加入日','初回利用日',\n",
    "                'あとからリボ申込有無コード','Weｂ明細有無コード','解約','入会チャネル']"
   ]
  },
  {
   "cell_type": "markdown",
   "metadata": {},
   "source": [
    "オンライン入会客を特定"
   ]
  },
  {
   "cell_type": "raw",
   "metadata": {},
   "source": [
    "特定加入月&クレカ利用金額5000円以上に限定"
   ]
  },
  {
   "cell_type": "code",
   "execution_count": 87,
   "metadata": {},
   "outputs": [],
   "source": [
    "df_app =df_app[(df_app[\"会員カード発行区分\"] == \"1\") \n",
    "               & (df_app[\"続柄\"] == 0) \n",
    "               & ~(df_app[\"カード提携会社2CD\"] == 95) \n",
    "               & (df_app[\"切替CD\"] == 0)\n",
    "               & (df_app[\"カード加入日\"] <= approval_yymmdd)\n",
    "               & (df_app[\"カード売上額合計\"] >= 5000)\n",
    "               & (df_app[\"受付部支店\"] == 299)]"
   ]
  },
  {
   "cell_type": "code",
   "execution_count": 88,
   "metadata": {
    "scrolled": true
   },
   "outputs": [
    {
     "name": "stdout",
     "output_type": "stream",
     "text": [
      "['1']\n",
      "[0]\n",
      "[ 4  1  8 18]\n",
      "[0]\n",
      "[299]\n"
     ]
    },
    {
     "data": {
      "text/plain": [
       "151"
      ]
     },
     "execution_count": 88,
     "metadata": {},
     "output_type": "execute_result"
    }
   ],
   "source": [
    "#含まれてないか確認\n",
    "print(df_app[\"会員カード発行区分\"].unique())\n",
    "print(df_app[\"続柄\"].unique())\n",
    "print(df_app[\"カード提携会社2CD\"].unique())\n",
    "print(df_app[\"切替CD\"].unique())\n",
    "print(df_app[\"受付部支店\"].unique())\n",
    "df_app.shape[0]"
   ]
  },
  {
   "cell_type": "code",
   "execution_count": 89,
   "metadata": {},
   "outputs": [],
   "source": [
    "#\"成果\"カラムを追加\n",
    "df_app['成果'] = \"可\"\n",
    "df_app['参照用'] = df_app['入会申込番号'] #\"参照用\"はデジガレとのマッチング用"
   ]
  },
  {
   "cell_type": "code",
   "execution_count": 90,
   "metadata": {},
   "outputs": [
    {
     "data": {
      "text/html": [
       "<div>\n",
       "<style scoped>\n",
       "    .dataframe tbody tr th:only-of-type {\n",
       "        vertical-align: middle;\n",
       "    }\n",
       "\n",
       "    .dataframe tbody tr th {\n",
       "        vertical-align: top;\n",
       "    }\n",
       "\n",
       "    .dataframe thead th {\n",
       "        text-align: right;\n",
       "    }\n",
       "</style>\n",
       "<table border=\"1\" class=\"dataframe\">\n",
       "  <thead>\n",
       "    <tr style=\"text-align: right;\">\n",
       "      <th></th>\n",
       "      <th>入会申込番号</th>\n",
       "      <th>成果</th>\n",
       "      <th>カード加入日</th>\n",
       "      <th>参照用</th>\n",
       "      <th>カード売上額合計</th>\n",
       "    </tr>\n",
       "  </thead>\n",
       "  <tbody>\n",
       "    <tr>\n",
       "      <th>4</th>\n",
       "      <td>155051921869539</td>\n",
       "      <td>可</td>\n",
       "      <td>20200501</td>\n",
       "      <td>155051921869539</td>\n",
       "      <td>6000</td>\n",
       "    </tr>\n",
       "    <tr>\n",
       "      <th>17</th>\n",
       "      <td>155051921869471</td>\n",
       "      <td>可</td>\n",
       "      <td>20200501</td>\n",
       "      <td>155051921869471</td>\n",
       "      <td>30000</td>\n",
       "    </tr>\n",
       "    <tr>\n",
       "      <th>40</th>\n",
       "      <td>155051921869893</td>\n",
       "      <td>可</td>\n",
       "      <td>20200501</td>\n",
       "      <td>155051921869893</td>\n",
       "      <td>21320</td>\n",
       "    </tr>\n",
       "    <tr>\n",
       "      <th>41</th>\n",
       "      <td>155051921869604</td>\n",
       "      <td>可</td>\n",
       "      <td>20200501</td>\n",
       "      <td>155051921869604</td>\n",
       "      <td>5333</td>\n",
       "    </tr>\n",
       "    <tr>\n",
       "      <th>100</th>\n",
       "      <td>155051921870354</td>\n",
       "      <td>可</td>\n",
       "      <td>20200501</td>\n",
       "      <td>155051921870354</td>\n",
       "      <td>6060</td>\n",
       "    </tr>\n",
       "  </tbody>\n",
       "</table>\n",
       "</div>"
      ],
      "text/plain": [
       "              入会申込番号 成果    カード加入日              参照用  カード売上額合計\n",
       "4    155051921869539  可  20200501  155051921869539      6000\n",
       "17   155051921869471  可  20200501  155051921869471     30000\n",
       "40   155051921869893  可  20200501  155051921869893     21320\n",
       "41   155051921869604  可  20200501  155051921869604      5333\n",
       "100  155051921870354  可  20200501  155051921870354      6060"
      ]
     },
     "execution_count": 90,
     "metadata": {},
     "output_type": "execute_result"
    }
   ],
   "source": [
    "df_app=df_app[['入会申込番号','成果','カード加入日','参照用','カード売上額合計']]\n",
    "df_app.head()"
   ]
  },
  {
   "cell_type": "code",
   "execution_count": 91,
   "metadata": {},
   "outputs": [],
   "source": [
    "#csvアウトプット\n",
    "df_tmp = df_app.drop(columns=['参照用'])\n",
    "df_tmp.to_csv(data_dir /r\"output\"/f\"{output_file_1}.csv\", index=False,header=True,encoding='utf-8-sig')"
   ]
  },
  {
   "cell_type": "code",
   "execution_count": null,
   "metadata": {},
   "outputs": [],
   "source": []
  },
  {
   "cell_type": "markdown",
   "metadata": {},
   "source": [
    "②前月の承認結果作業も読み込む"
   ]
  },
  {
   "cell_type": "markdown",
   "metadata": {},
   "source": [
    "print(input_file_2)\n",
    "\n",
    "df_pre = pd.read_excel(data_dir /r\"input\"/f\"{input_file_2}\")\n",
    "df_pre.head()"
   ]
  },
  {
   "cell_type": "markdown",
   "metadata": {},
   "source": [
    "オンライン入会客を特定"
   ]
  },
  {
   "cell_type": "markdown",
   "metadata": {},
   "source": [
    "df_pre =df_pre[(df_pre[\"会員カード発行区分\"] == \"1\") \n",
    "               & (df_pre[\"続柄\"] == 0) \n",
    "               & ~(df_pre[\"カード提携会社2CD\"] == 95) \n",
    "               & (df_pre[\"切替CD\"] == 0) \n",
    "               & (df_pre[\"受付部支店\"] == 299)]"
   ]
  },
  {
   "cell_type": "markdown",
   "metadata": {
    "scrolled": true
   },
   "source": [
    "#含まれてないか確認\n",
    "print(df_pre[\"会員カード発行区分\"].unique())\n",
    "print(df_pre[\"続柄\"].unique())\n",
    "print(df_pre[\"カード提携会社2CD\"].unique())\n",
    "print(df_pre[\"切替CD\"].unique())\n",
    "print(df_pre[\"受付部支店\"].unique())\n",
    "df_pre.shape[0]"
   ]
  },
  {
   "cell_type": "markdown",
   "metadata": {},
   "source": [
    "#\"成果\"カラムを追加\n",
    "df_pre['成果'] = \"可\"\n",
    "df_pre['参照用'] = df_pre['入会申込番号'] #\"参照用\"はデジガレとのマッチング用"
   ]
  },
  {
   "cell_type": "markdown",
   "metadata": {},
   "source": [
    "df_pre=df_pre[['入会申込番号','成果','カード加入日','参照用']]\n",
    "df_pre.head()"
   ]
  },
  {
   "cell_type": "markdown",
   "metadata": {},
   "source": [
    "#前月と当月の承認リストをドッキング\n",
    "df_app = pd.concat([df_pre, df_app])\n",
    "df_app.shape[0]"
   ]
  },
  {
   "cell_type": "code",
   "execution_count": 34,
   "metadata": {
    "scrolled": true
   },
   "outputs": [
    {
     "name": "stdout",
     "output_type": "stream",
     "text": [
      "[20200501 20200507 20200508 20200511 20200512 20200513 20200514 20200515\n",
      " 20200518 20200519 20200521 20200525 20200526]\n"
     ]
    }
   ],
   "source": [
    "print(df_app['カード加入日'].unique())"
   ]
  },
  {
   "cell_type": "code",
   "execution_count": 61,
   "metadata": {},
   "outputs": [
    {
     "data": {
      "text/plain": [
       "151"
      ]
     },
     "execution_count": 61,
     "metadata": {},
     "output_type": "execute_result"
    }
   ],
   "source": [
    "df_app.shape[0]"
   ]
  },
  {
   "cell_type": "markdown",
   "metadata": {},
   "source": [
    "③ デジガレ確認用リスト"
   ]
  },
  {
   "cell_type": "code",
   "execution_count": 74,
   "metadata": {
    "scrolled": true
   },
   "outputs": [
    {
     "name": "stdout",
     "output_type": "stream",
     "text": [
      "20200630〆【JFRカード御中】成果データ.xlsx\n",
      "['成果データ', '識別子不明', '成果データ（5月～利用条件追加媒体）']\n"
     ]
    },
    {
     "data": {
      "text/html": [
       "<div>\n",
       "<style scoped>\n",
       "    .dataframe tbody tr th:only-of-type {\n",
       "        vertical-align: middle;\n",
       "    }\n",
       "\n",
       "    .dataframe tbody tr th {\n",
       "        vertical-align: top;\n",
       "    }\n",
       "\n",
       "    .dataframe thead th {\n",
       "        text-align: right;\n",
       "    }\n",
       "</style>\n",
       "<table border=\"1\" class=\"dataframe\">\n",
       "  <thead>\n",
       "    <tr style=\"text-align: right;\">\n",
       "      <th></th>\n",
       "      <th>ASID</th>\n",
       "      <th>メディア名</th>\n",
       "      <th>媒体チャネル</th>\n",
       "      <th>クリック</th>\n",
       "      <th>申込</th>\n",
       "      <th>参照用</th>\n",
       "      <th>ASP名</th>\n",
       "      <th>単価</th>\n",
       "      <th>成果</th>\n",
       "      <th>カード発行日</th>\n",
       "    </tr>\n",
       "  </thead>\n",
       "  <tbody>\n",
       "    <tr>\n",
       "      <th>0</th>\n",
       "      <td>49</td>\n",
       "      <td>ハピタス（連携用）</td>\n",
       "      <td>ポイント</td>\n",
       "      <td>2020-03-10 15:06:49</td>\n",
       "      <td>2020-03-10 15:19:05</td>\n",
       "      <td>155051921776106</td>\n",
       "      <td>BGT</td>\n",
       "      <td>5000</td>\n",
       "      <td>保留</td>\n",
       "      <td>保留</td>\n",
       "    </tr>\n",
       "    <tr>\n",
       "      <th>1</th>\n",
       "      <td>49</td>\n",
       "      <td>ハピタス（連携用）</td>\n",
       "      <td>ポイント</td>\n",
       "      <td>2020-03-11 17:37:58</td>\n",
       "      <td>2020-03-11 17:53:05</td>\n",
       "      <td>155051921778540</td>\n",
       "      <td>BGT</td>\n",
       "      <td>5000</td>\n",
       "      <td>保留</td>\n",
       "      <td>保留</td>\n",
       "    </tr>\n",
       "    <tr>\n",
       "      <th>2</th>\n",
       "      <td>82</td>\n",
       "      <td>ちょびリッチ。ドットコム</td>\n",
       "      <td>ポイント</td>\n",
       "      <td>2020-03-12 03:26:02</td>\n",
       "      <td>2020-03-12 03:41:04</td>\n",
       "      <td>155051921779399</td>\n",
       "      <td>BGT</td>\n",
       "      <td>5000</td>\n",
       "      <td>保留</td>\n",
       "      <td>保留</td>\n",
       "    </tr>\n",
       "    <tr>\n",
       "      <th>3</th>\n",
       "      <td>128</td>\n",
       "      <td>Warau.jp</td>\n",
       "      <td>ポイント</td>\n",
       "      <td>2020-03-14 14:18:20</td>\n",
       "      <td>2020-03-14 14:35:05</td>\n",
       "      <td>155051921784753</td>\n",
       "      <td>BGT</td>\n",
       "      <td>5000</td>\n",
       "      <td>保留</td>\n",
       "      <td>保留</td>\n",
       "    </tr>\n",
       "    <tr>\n",
       "      <th>4</th>\n",
       "      <td>49</td>\n",
       "      <td>ハピタス（連携用）</td>\n",
       "      <td>ポイント</td>\n",
       "      <td>2020-03-14 17:25:34</td>\n",
       "      <td>2020-03-14 17:46:06</td>\n",
       "      <td>155051921785479</td>\n",
       "      <td>BGT</td>\n",
       "      <td>5000</td>\n",
       "      <td>保留</td>\n",
       "      <td>保留</td>\n",
       "    </tr>\n",
       "  </tbody>\n",
       "</table>\n",
       "</div>"
      ],
      "text/plain": [
       "   ASID         メディア名 媒体チャネル                 クリック                  申込  \\\n",
       "0    49     ハピタス（連携用）   ポイント  2020-03-10 15:06:49 2020-03-10 15:19:05   \n",
       "1    49     ハピタス（連携用）   ポイント  2020-03-11 17:37:58 2020-03-11 17:53:05   \n",
       "2    82  ちょびリッチ。ドットコム   ポイント  2020-03-12 03:26:02 2020-03-12 03:41:04   \n",
       "3   128      Warau.jp   ポイント  2020-03-14 14:18:20 2020-03-14 14:35:05   \n",
       "4    49     ハピタス（連携用）   ポイント  2020-03-14 17:25:34 2020-03-14 17:46:06   \n",
       "\n",
       "               参照用 ASP名    単価  成果 カード発行日  \n",
       "0  155051921776106  BGT  5000  保留     保留  \n",
       "1  155051921778540  BGT  5000  保留     保留  \n",
       "2  155051921779399  BGT  5000  保留     保留  \n",
       "3  155051921784753  BGT  5000  保留     保留  \n",
       "4  155051921785479  BGT  5000  保留     保留  "
      ]
     },
     "execution_count": 74,
     "metadata": {},
     "output_type": "execute_result"
    }
   ],
   "source": [
    "print(input_file_3)\n",
    "\n",
    "df_dg = pd.read_excel(data_dir/r\"input\"/f\"{input_file_3}\", sheet_name = 0)\n",
    "\n",
    "#シート名取得\n",
    "bk = pd.ExcelFile(data_dir/r\"input\"/f\"{input_file_3}\")\n",
    "print(bk.sheet_names)\n",
    "\n",
    "df_dg.head()"
   ]
  },
  {
   "cell_type": "code",
   "execution_count": 75,
   "metadata": {},
   "outputs": [
    {
     "name": "stdout",
     "output_type": "stream",
     "text": [
      "成果データ\n"
     ]
    }
   ],
   "source": [
    "print(bk.sheet_names[0])"
   ]
  },
  {
   "cell_type": "markdown",
   "metadata": {},
   "source": [
    "シート1の対応"
   ]
  },
  {
   "cell_type": "markdown",
   "metadata": {},
   "source": [
    "#余計なカラム削除\n",
    "#df_dg = df_dg.drop(columns=['Unnamed: 9','成果'])\n",
    "df_dg = df_dg.drop(columns=['成果'])"
   ]
  },
  {
   "cell_type": "markdown",
   "metadata": {},
   "source": [
    "#ASIDの整数化\n",
    "for i in range(len(df_dg)):\n",
    "    if pd.isnull(df_dg['ASID'][i]) == True:\n",
    "        df_dg.loc[:,'ASID'][i] = 0\n",
    "df_dg = df_dg.astype({'ASID':int})"
   ]
  },
  {
   "cell_type": "markdown",
   "metadata": {
    "scrolled": true
   },
   "source": [
    "print(df_dg.shape)\n",
    "print(df_dg.index)\n",
    "print(df_dg.columns)\n",
    "print(df_dg.dtypes)"
   ]
  },
  {
   "cell_type": "markdown",
   "metadata": {},
   "source": [
    "#\"申込年月\"のカラム生成\n",
    "df_dg['申込年'] = df_dg['申込'].dt.year\n",
    "df_dg['申込月'] = df_dg['申込'].dt.month\n",
    "\n",
    "df_dg['申込年月'] = df_dg[['申込年', '申込月']].apply(lambda x: '{}年{}月'.format(x[0], x[1]), axis=1)\n",
    "df_dg = df_dg.drop(columns=['申込年','申込月'])\n",
    "\n",
    "df_dg.head()"
   ]
  },
  {
   "cell_type": "markdown",
   "metadata": {
    "scrolled": true
   },
   "source": [
    "#承認データ（df_app）をマージする前に、df_app余計なカラムを削除\n",
    "df_app_tmp = df_app.drop(columns=['入会申込番号'])\n",
    "\n",
    "#承認データの\"成果\"をマージ\n",
    "df_dg2 = pd.merge(df_dg,df_app_tmp, on =['参照用'], how = 'left')\n",
    "df_dg2[df_dg2['成果'] == '可'].head()"
   ]
  },
  {
   "cell_type": "markdown",
   "metadata": {},
   "source": [
    "df_dg2 = df_dg2.copy()"
   ]
  },
  {
   "cell_type": "markdown",
   "metadata": {},
   "source": [
    "#マージしたらカード加入日がfloat型になってしまったため、整数型に戻す\n",
    "for i in range(len(df_dg2)):\n",
    "    if pd.isnull(df_dg2['カード加入日'][i]) == True:\n",
    "        df_dg2.loc[:,'カード加入日'][i] = 0\n",
    "        \n",
    "df_dg2 = df_dg2.astype({'カード加入日':int})"
   ]
  },
  {
   "cell_type": "markdown",
   "metadata": {},
   "source": [
    "df_dg2[df_dg2['カード加入日'] == 0].head()"
   ]
  },
  {
   "cell_type": "markdown",
   "metadata": {},
   "source": [
    "#\"成果\"がNanのものは[保留]に置換する\n",
    "for i in range(len(df_dg2)):\n",
    "    if pd.isnull(df_dg2['成果'][i]) == True:\n",
    "        df_dg2.loc[:,'成果'][i] = \"保留\""
   ]
  },
  {
   "cell_type": "markdown",
   "metadata": {
    "scrolled": true
   },
   "source": [
    "df_dg2.head()"
   ]
  },
  {
   "cell_type": "code",
   "execution_count": null,
   "metadata": {},
   "outputs": [],
   "source": []
  },
  {
   "cell_type": "markdown",
   "metadata": {},
   "source": [
    "集計"
   ]
  },
  {
   "cell_type": "markdown",
   "metadata": {},
   "source": [
    "#客数\n",
    "df_dg2[df_dg2['成果'] == '可'].shape[0]"
   ]
  },
  {
   "cell_type": "markdown",
   "metadata": {},
   "source": [
    "pd.crosstab(df_dg2['申込年月'],df_dg2['成果'])"
   ]
  },
  {
   "cell_type": "markdown",
   "metadata": {},
   "source": [
    "#CSVアウトプット\n",
    "df_dg2.to_csv(data_dir /r\"output\"/f\"{output_file_2}_{bk.sheet_names[0]}.csv\", index=False,header=True,encoding='utf-8-sig')"
   ]
  },
  {
   "cell_type": "code",
   "execution_count": null,
   "metadata": {},
   "outputs": [],
   "source": []
  },
  {
   "cell_type": "code",
   "execution_count": 92,
   "metadata": {},
   "outputs": [
    {
     "name": "stdout",
     "output_type": "stream",
     "text": [
      "成果データ（5月～利用条件追加媒体）\n"
     ]
    }
   ],
   "source": [
    "print(bk.sheet_names[2])"
   ]
  },
  {
   "cell_type": "markdown",
   "metadata": {},
   "source": [
    "③ デジガレ確認用リスト ※別シート"
   ]
  },
  {
   "cell_type": "code",
   "execution_count": 93,
   "metadata": {
    "scrolled": true
   },
   "outputs": [
    {
     "name": "stdout",
     "output_type": "stream",
     "text": [
      "20200630〆【JFRカード御中】成果データ.xlsx\n"
     ]
    },
    {
     "data": {
      "text/html": [
       "<div>\n",
       "<style scoped>\n",
       "    .dataframe tbody tr th:only-of-type {\n",
       "        vertical-align: middle;\n",
       "    }\n",
       "\n",
       "    .dataframe tbody tr th {\n",
       "        vertical-align: top;\n",
       "    }\n",
       "\n",
       "    .dataframe thead th {\n",
       "        text-align: right;\n",
       "    }\n",
       "</style>\n",
       "<table border=\"1\" class=\"dataframe\">\n",
       "  <thead>\n",
       "    <tr style=\"text-align: right;\">\n",
       "      <th></th>\n",
       "      <th>ASID</th>\n",
       "      <th>メディア名</th>\n",
       "      <th>媒体チャネル</th>\n",
       "      <th>クリック</th>\n",
       "      <th>申込</th>\n",
       "      <th>参照用</th>\n",
       "      <th>ASP名</th>\n",
       "      <th>単価</th>\n",
       "      <th>成果</th>\n",
       "      <th>カード発行日</th>\n",
       "    </tr>\n",
       "  </thead>\n",
       "  <tbody>\n",
       "    <tr>\n",
       "      <th>0</th>\n",
       "      <td>37</td>\n",
       "      <td>げん玉</td>\n",
       "      <td>ポイント</td>\n",
       "      <td>2020-05-01 00:06:29</td>\n",
       "      <td>2020-05-01 00:22:04</td>\n",
       "      <td>155051921869356</td>\n",
       "      <td>BGT</td>\n",
       "      <td>9000</td>\n",
       "      <td>保留</td>\n",
       "      <td>保留</td>\n",
       "    </tr>\n",
       "    <tr>\n",
       "      <th>1</th>\n",
       "      <td>37</td>\n",
       "      <td>げん玉</td>\n",
       "      <td>ポイント</td>\n",
       "      <td>2020-05-01 01:21:40</td>\n",
       "      <td>2020-05-01 01:28:04</td>\n",
       "      <td>155051921869380</td>\n",
       "      <td>BGT</td>\n",
       "      <td>9000</td>\n",
       "      <td>保留</td>\n",
       "      <td>保留</td>\n",
       "    </tr>\n",
       "    <tr>\n",
       "      <th>2</th>\n",
       "      <td>37</td>\n",
       "      <td>げん玉</td>\n",
       "      <td>ポイント</td>\n",
       "      <td>2020-05-01 06:27:16</td>\n",
       "      <td>2020-05-01 06:34:04</td>\n",
       "      <td>155051921869422</td>\n",
       "      <td>BGT</td>\n",
       "      <td>9000</td>\n",
       "      <td>保留</td>\n",
       "      <td>保留</td>\n",
       "    </tr>\n",
       "    <tr>\n",
       "      <th>3</th>\n",
       "      <td>37</td>\n",
       "      <td>げん玉</td>\n",
       "      <td>ポイント</td>\n",
       "      <td>2020-05-01 07:46:58</td>\n",
       "      <td>2020-05-01 08:02:04</td>\n",
       "      <td>155051921869489</td>\n",
       "      <td>BGT</td>\n",
       "      <td>9000</td>\n",
       "      <td>保留</td>\n",
       "      <td>保留</td>\n",
       "    </tr>\n",
       "    <tr>\n",
       "      <th>4</th>\n",
       "      <td>5954</td>\n",
       "      <td>GetMoney!(JIPC参加企業)（連携用）</td>\n",
       "      <td>ポイント</td>\n",
       "      <td>2020-05-01 11:33:44</td>\n",
       "      <td>2020-05-01 11:46:06</td>\n",
       "      <td>155051921869679</td>\n",
       "      <td>BGT</td>\n",
       "      <td>9000</td>\n",
       "      <td>保留</td>\n",
       "      <td>保留</td>\n",
       "    </tr>\n",
       "  </tbody>\n",
       "</table>\n",
       "</div>"
      ],
      "text/plain": [
       "   ASID                     メディア名 媒体チャネル                クリック  \\\n",
       "0    37                       げん玉   ポイント 2020-05-01 00:06:29   \n",
       "1    37                       げん玉   ポイント 2020-05-01 01:21:40   \n",
       "2    37                       げん玉   ポイント 2020-05-01 06:27:16   \n",
       "3    37                       げん玉   ポイント 2020-05-01 07:46:58   \n",
       "4  5954  GetMoney!(JIPC参加企業)（連携用）   ポイント 2020-05-01 11:33:44   \n",
       "\n",
       "                   申込              参照用 ASP名    単価  成果 カード発行日  \n",
       "0 2020-05-01 00:22:04  155051921869356  BGT  9000  保留     保留  \n",
       "1 2020-05-01 01:28:04  155051921869380  BGT  9000  保留     保留  \n",
       "2 2020-05-01 06:34:04  155051921869422  BGT  9000  保留     保留  \n",
       "3 2020-05-01 08:02:04  155051921869489  BGT  9000  保留     保留  \n",
       "4 2020-05-01 11:46:06  155051921869679  BGT  9000  保留     保留  "
      ]
     },
     "execution_count": 93,
     "metadata": {},
     "output_type": "execute_result"
    }
   ],
   "source": [
    "print(input_file_3)\n",
    "\n",
    "df_dg = pd.read_excel(data_dir/r\"input\"/f\"{input_file_3}\", sheet_name = 2)\n",
    "df_dg.head()"
   ]
  },
  {
   "cell_type": "code",
   "execution_count": 94,
   "metadata": {},
   "outputs": [
    {
     "data": {
      "text/plain": [
       "273"
      ]
     },
     "execution_count": 94,
     "metadata": {},
     "output_type": "execute_result"
    }
   ],
   "source": [
    "df_dg.shape[0]"
   ]
  },
  {
   "cell_type": "code",
   "execution_count": 95,
   "metadata": {},
   "outputs": [],
   "source": [
    "#余計なカラム削除\n",
    "#df_dg = df_dg.drop(columns=['Unnamed: 9','成果'])\n",
    "df_dg = df_dg.drop(columns=['成果'])"
   ]
  },
  {
   "cell_type": "code",
   "execution_count": 96,
   "metadata": {},
   "outputs": [
    {
     "name": "stdout",
     "output_type": "stream",
     "text": [
      "ASID               int64\n",
      "メディア名             object\n",
      "媒体チャネル            object\n",
      "クリック      datetime64[ns]\n",
      "申込        datetime64[ns]\n",
      "参照用                int64\n",
      "ASP名              object\n",
      "単価                 int64\n",
      "カード発行日            object\n",
      "dtype: object\n"
     ]
    }
   ],
   "source": [
    "print(df_dg.dtypes)"
   ]
  },
  {
   "cell_type": "code",
   "execution_count": 97,
   "metadata": {},
   "outputs": [],
   "source": [
    "#ASIDの整数化\n",
    "for i in range(len(df_dg)):\n",
    "    if pd.isnull(df_dg['ASID'][i]) == True:\n",
    "        df_dg.loc[:,'ASID'][i] = 0\n",
    "df_dg = df_dg.astype({'ASID':int})"
   ]
  },
  {
   "cell_type": "code",
   "execution_count": 98,
   "metadata": {
    "scrolled": true
   },
   "outputs": [
    {
     "name": "stdout",
     "output_type": "stream",
     "text": [
      "(273, 9)\n",
      "RangeIndex(start=0, stop=273, step=1)\n",
      "Index(['ASID', 'メディア名', '媒体チャネル', 'クリック', '申込', '参照用', 'ASP名', '単価', 'カード発行日'], dtype='object')\n",
      "ASID               int32\n",
      "メディア名             object\n",
      "媒体チャネル            object\n",
      "クリック      datetime64[ns]\n",
      "申込        datetime64[ns]\n",
      "参照用                int64\n",
      "ASP名              object\n",
      "単価                 int64\n",
      "カード発行日            object\n",
      "dtype: object\n"
     ]
    }
   ],
   "source": [
    "print(df_dg.shape)\n",
    "print(df_dg.index)\n",
    "print(df_dg.columns)\n",
    "print(df_dg.dtypes)"
   ]
  },
  {
   "cell_type": "code",
   "execution_count": 99,
   "metadata": {},
   "outputs": [
    {
     "data": {
      "text/html": [
       "<div>\n",
       "<style scoped>\n",
       "    .dataframe tbody tr th:only-of-type {\n",
       "        vertical-align: middle;\n",
       "    }\n",
       "\n",
       "    .dataframe tbody tr th {\n",
       "        vertical-align: top;\n",
       "    }\n",
       "\n",
       "    .dataframe thead th {\n",
       "        text-align: right;\n",
       "    }\n",
       "</style>\n",
       "<table border=\"1\" class=\"dataframe\">\n",
       "  <thead>\n",
       "    <tr style=\"text-align: right;\">\n",
       "      <th></th>\n",
       "      <th>ASID</th>\n",
       "      <th>メディア名</th>\n",
       "      <th>媒体チャネル</th>\n",
       "      <th>クリック</th>\n",
       "      <th>申込</th>\n",
       "      <th>参照用</th>\n",
       "      <th>ASP名</th>\n",
       "      <th>単価</th>\n",
       "      <th>カード発行日</th>\n",
       "      <th>申込年月</th>\n",
       "    </tr>\n",
       "  </thead>\n",
       "  <tbody>\n",
       "    <tr>\n",
       "      <th>0</th>\n",
       "      <td>37</td>\n",
       "      <td>げん玉</td>\n",
       "      <td>ポイント</td>\n",
       "      <td>2020-05-01 00:06:29</td>\n",
       "      <td>2020-05-01 00:22:04</td>\n",
       "      <td>155051921869356</td>\n",
       "      <td>BGT</td>\n",
       "      <td>9000</td>\n",
       "      <td>保留</td>\n",
       "      <td>2020年5月</td>\n",
       "    </tr>\n",
       "    <tr>\n",
       "      <th>1</th>\n",
       "      <td>37</td>\n",
       "      <td>げん玉</td>\n",
       "      <td>ポイント</td>\n",
       "      <td>2020-05-01 01:21:40</td>\n",
       "      <td>2020-05-01 01:28:04</td>\n",
       "      <td>155051921869380</td>\n",
       "      <td>BGT</td>\n",
       "      <td>9000</td>\n",
       "      <td>保留</td>\n",
       "      <td>2020年5月</td>\n",
       "    </tr>\n",
       "    <tr>\n",
       "      <th>2</th>\n",
       "      <td>37</td>\n",
       "      <td>げん玉</td>\n",
       "      <td>ポイント</td>\n",
       "      <td>2020-05-01 06:27:16</td>\n",
       "      <td>2020-05-01 06:34:04</td>\n",
       "      <td>155051921869422</td>\n",
       "      <td>BGT</td>\n",
       "      <td>9000</td>\n",
       "      <td>保留</td>\n",
       "      <td>2020年5月</td>\n",
       "    </tr>\n",
       "    <tr>\n",
       "      <th>3</th>\n",
       "      <td>37</td>\n",
       "      <td>げん玉</td>\n",
       "      <td>ポイント</td>\n",
       "      <td>2020-05-01 07:46:58</td>\n",
       "      <td>2020-05-01 08:02:04</td>\n",
       "      <td>155051921869489</td>\n",
       "      <td>BGT</td>\n",
       "      <td>9000</td>\n",
       "      <td>保留</td>\n",
       "      <td>2020年5月</td>\n",
       "    </tr>\n",
       "    <tr>\n",
       "      <th>4</th>\n",
       "      <td>5954</td>\n",
       "      <td>GetMoney!(JIPC参加企業)（連携用）</td>\n",
       "      <td>ポイント</td>\n",
       "      <td>2020-05-01 11:33:44</td>\n",
       "      <td>2020-05-01 11:46:06</td>\n",
       "      <td>155051921869679</td>\n",
       "      <td>BGT</td>\n",
       "      <td>9000</td>\n",
       "      <td>保留</td>\n",
       "      <td>2020年5月</td>\n",
       "    </tr>\n",
       "  </tbody>\n",
       "</table>\n",
       "</div>"
      ],
      "text/plain": [
       "   ASID                     メディア名 媒体チャネル                クリック  \\\n",
       "0    37                       げん玉   ポイント 2020-05-01 00:06:29   \n",
       "1    37                       げん玉   ポイント 2020-05-01 01:21:40   \n",
       "2    37                       げん玉   ポイント 2020-05-01 06:27:16   \n",
       "3    37                       げん玉   ポイント 2020-05-01 07:46:58   \n",
       "4  5954  GetMoney!(JIPC参加企業)（連携用）   ポイント 2020-05-01 11:33:44   \n",
       "\n",
       "                   申込              参照用 ASP名    単価 カード発行日     申込年月  \n",
       "0 2020-05-01 00:22:04  155051921869356  BGT  9000     保留  2020年5月  \n",
       "1 2020-05-01 01:28:04  155051921869380  BGT  9000     保留  2020年5月  \n",
       "2 2020-05-01 06:34:04  155051921869422  BGT  9000     保留  2020年5月  \n",
       "3 2020-05-01 08:02:04  155051921869489  BGT  9000     保留  2020年5月  \n",
       "4 2020-05-01 11:46:06  155051921869679  BGT  9000     保留  2020年5月  "
      ]
     },
     "execution_count": 99,
     "metadata": {},
     "output_type": "execute_result"
    }
   ],
   "source": [
    "#\"申込年月\"のカラム生成\n",
    "df_dg['申込年'] = df_dg['申込'].dt.year\n",
    "df_dg['申込月'] = df_dg['申込'].dt.month\n",
    "\n",
    "df_dg['申込年月'] = df_dg[['申込年', '申込月']].apply(lambda x: '{}年{}月'.format(x[0], x[1]), axis=1)\n",
    "df_dg = df_dg.drop(columns=['申込年','申込月'])\n",
    "\n",
    "df_dg.head()"
   ]
  },
  {
   "cell_type": "code",
   "execution_count": 100,
   "metadata": {},
   "outputs": [
    {
     "data": {
      "text/html": [
       "<div>\n",
       "<style scoped>\n",
       "    .dataframe tbody tr th:only-of-type {\n",
       "        vertical-align: middle;\n",
       "    }\n",
       "\n",
       "    .dataframe tbody tr th {\n",
       "        vertical-align: top;\n",
       "    }\n",
       "\n",
       "    .dataframe thead th {\n",
       "        text-align: right;\n",
       "    }\n",
       "</style>\n",
       "<table border=\"1\" class=\"dataframe\">\n",
       "  <thead>\n",
       "    <tr style=\"text-align: right;\">\n",
       "      <th></th>\n",
       "      <th>入会申込番号</th>\n",
       "      <th>成果</th>\n",
       "      <th>カード加入日</th>\n",
       "      <th>参照用</th>\n",
       "      <th>カード売上額合計</th>\n",
       "    </tr>\n",
       "  </thead>\n",
       "  <tbody>\n",
       "    <tr>\n",
       "      <th>4</th>\n",
       "      <td>155051921869539</td>\n",
       "      <td>可</td>\n",
       "      <td>20200501</td>\n",
       "      <td>155051921869539</td>\n",
       "      <td>6000</td>\n",
       "    </tr>\n",
       "    <tr>\n",
       "      <th>17</th>\n",
       "      <td>155051921869471</td>\n",
       "      <td>可</td>\n",
       "      <td>20200501</td>\n",
       "      <td>155051921869471</td>\n",
       "      <td>30000</td>\n",
       "    </tr>\n",
       "    <tr>\n",
       "      <th>40</th>\n",
       "      <td>155051921869893</td>\n",
       "      <td>可</td>\n",
       "      <td>20200501</td>\n",
       "      <td>155051921869893</td>\n",
       "      <td>21320</td>\n",
       "    </tr>\n",
       "    <tr>\n",
       "      <th>41</th>\n",
       "      <td>155051921869604</td>\n",
       "      <td>可</td>\n",
       "      <td>20200501</td>\n",
       "      <td>155051921869604</td>\n",
       "      <td>5333</td>\n",
       "    </tr>\n",
       "    <tr>\n",
       "      <th>100</th>\n",
       "      <td>155051921870354</td>\n",
       "      <td>可</td>\n",
       "      <td>20200501</td>\n",
       "      <td>155051921870354</td>\n",
       "      <td>6060</td>\n",
       "    </tr>\n",
       "  </tbody>\n",
       "</table>\n",
       "</div>"
      ],
      "text/plain": [
       "              入会申込番号 成果    カード加入日              参照用  カード売上額合計\n",
       "4    155051921869539  可  20200501  155051921869539      6000\n",
       "17   155051921869471  可  20200501  155051921869471     30000\n",
       "40   155051921869893  可  20200501  155051921869893     21320\n",
       "41   155051921869604  可  20200501  155051921869604      5333\n",
       "100  155051921870354  可  20200501  155051921870354      6060"
      ]
     },
     "execution_count": 100,
     "metadata": {},
     "output_type": "execute_result"
    }
   ],
   "source": [
    "df_app.head()"
   ]
  },
  {
   "cell_type": "code",
   "execution_count": 101,
   "metadata": {},
   "outputs": [
    {
     "name": "stdout",
     "output_type": "stream",
     "text": [
      "入会申込番号       int64\n",
      "成果          object\n",
      "カード加入日       int64\n",
      "参照用          int64\n",
      "カード売上額合計     int64\n",
      "dtype: object\n"
     ]
    }
   ],
   "source": [
    "print(df_app.dtypes)"
   ]
  },
  {
   "cell_type": "code",
   "execution_count": 102,
   "metadata": {
    "scrolled": true
   },
   "outputs": [
    {
     "data": {
      "text/html": [
       "<div>\n",
       "<style scoped>\n",
       "    .dataframe tbody tr th:only-of-type {\n",
       "        vertical-align: middle;\n",
       "    }\n",
       "\n",
       "    .dataframe tbody tr th {\n",
       "        vertical-align: top;\n",
       "    }\n",
       "\n",
       "    .dataframe thead th {\n",
       "        text-align: right;\n",
       "    }\n",
       "</style>\n",
       "<table border=\"1\" class=\"dataframe\">\n",
       "  <thead>\n",
       "    <tr style=\"text-align: right;\">\n",
       "      <th></th>\n",
       "      <th>ASID</th>\n",
       "      <th>メディア名</th>\n",
       "      <th>媒体チャネル</th>\n",
       "      <th>クリック</th>\n",
       "      <th>申込</th>\n",
       "      <th>参照用</th>\n",
       "      <th>ASP名</th>\n",
       "      <th>単価</th>\n",
       "      <th>カード発行日</th>\n",
       "      <th>申込年月</th>\n",
       "      <th>成果</th>\n",
       "      <th>カード加入日</th>\n",
       "      <th>カード売上額合計</th>\n",
       "    </tr>\n",
       "  </thead>\n",
       "  <tbody>\n",
       "  </tbody>\n",
       "</table>\n",
       "</div>"
      ],
      "text/plain": [
       "Empty DataFrame\n",
       "Columns: [ASID, メディア名, 媒体チャネル, クリック, 申込, 参照用, ASP名, 単価, カード発行日, 申込年月, 成果, カード加入日, カード売上額合計]\n",
       "Index: []"
      ]
     },
     "execution_count": 102,
     "metadata": {},
     "output_type": "execute_result"
    }
   ],
   "source": [
    "#承認データ（df_app）をマージする前に、df_app余計なカラムを削除\n",
    "df_app_tmp = df_app.drop(columns=['入会申込番号'])\n",
    "\n",
    "#承認データの\"成果\"をマージ\n",
    "df_dg2 = pd.merge(df_dg,df_app_tmp, on =['参照用'], how = 'left')\n",
    "df_dg2[df_dg2['成果'] == '可'].head()"
   ]
  },
  {
   "cell_type": "code",
   "execution_count": 103,
   "metadata": {},
   "outputs": [],
   "source": [
    "df_dg2 = df_dg2.copy()"
   ]
  },
  {
   "cell_type": "code",
   "execution_count": 105,
   "metadata": {},
   "outputs": [],
   "source": [
    "#マージしたらカード加入日がfloat型になってしまったため、整数型に戻す\n",
    "for i in range(len(df_dg2)):\n",
    "    if pd.isnull(df_dg2['カード加入日'][i]) == True:\n",
    "        df_dg2.loc[:,'カード加入日'][i] = 0\n",
    "        \n",
    "df_dg2 = df_dg2.astype({'カード加入日':int})"
   ]
  },
  {
   "cell_type": "code",
   "execution_count": 106,
   "metadata": {},
   "outputs": [
    {
     "data": {
      "text/html": [
       "<div>\n",
       "<style scoped>\n",
       "    .dataframe tbody tr th:only-of-type {\n",
       "        vertical-align: middle;\n",
       "    }\n",
       "\n",
       "    .dataframe tbody tr th {\n",
       "        vertical-align: top;\n",
       "    }\n",
       "\n",
       "    .dataframe thead th {\n",
       "        text-align: right;\n",
       "    }\n",
       "</style>\n",
       "<table border=\"1\" class=\"dataframe\">\n",
       "  <thead>\n",
       "    <tr style=\"text-align: right;\">\n",
       "      <th></th>\n",
       "      <th>ASID</th>\n",
       "      <th>メディア名</th>\n",
       "      <th>媒体チャネル</th>\n",
       "      <th>クリック</th>\n",
       "      <th>申込</th>\n",
       "      <th>参照用</th>\n",
       "      <th>ASP名</th>\n",
       "      <th>単価</th>\n",
       "      <th>カード発行日</th>\n",
       "      <th>申込年月</th>\n",
       "      <th>成果</th>\n",
       "      <th>カード加入日</th>\n",
       "      <th>カード売上額合計</th>\n",
       "    </tr>\n",
       "  </thead>\n",
       "  <tbody>\n",
       "    <tr>\n",
       "      <th>0</th>\n",
       "      <td>37</td>\n",
       "      <td>げん玉</td>\n",
       "      <td>ポイント</td>\n",
       "      <td>2020-05-01 00:06:29</td>\n",
       "      <td>2020-05-01 00:22:04</td>\n",
       "      <td>155051921869356</td>\n",
       "      <td>BGT</td>\n",
       "      <td>9000</td>\n",
       "      <td>保留</td>\n",
       "      <td>2020年5月</td>\n",
       "      <td>NaN</td>\n",
       "      <td>0</td>\n",
       "      <td>NaN</td>\n",
       "    </tr>\n",
       "    <tr>\n",
       "      <th>1</th>\n",
       "      <td>37</td>\n",
       "      <td>げん玉</td>\n",
       "      <td>ポイント</td>\n",
       "      <td>2020-05-01 01:21:40</td>\n",
       "      <td>2020-05-01 01:28:04</td>\n",
       "      <td>155051921869380</td>\n",
       "      <td>BGT</td>\n",
       "      <td>9000</td>\n",
       "      <td>保留</td>\n",
       "      <td>2020年5月</td>\n",
       "      <td>NaN</td>\n",
       "      <td>0</td>\n",
       "      <td>NaN</td>\n",
       "    </tr>\n",
       "    <tr>\n",
       "      <th>2</th>\n",
       "      <td>37</td>\n",
       "      <td>げん玉</td>\n",
       "      <td>ポイント</td>\n",
       "      <td>2020-05-01 06:27:16</td>\n",
       "      <td>2020-05-01 06:34:04</td>\n",
       "      <td>155051921869422</td>\n",
       "      <td>BGT</td>\n",
       "      <td>9000</td>\n",
       "      <td>保留</td>\n",
       "      <td>2020年5月</td>\n",
       "      <td>NaN</td>\n",
       "      <td>0</td>\n",
       "      <td>NaN</td>\n",
       "    </tr>\n",
       "    <tr>\n",
       "      <th>3</th>\n",
       "      <td>37</td>\n",
       "      <td>げん玉</td>\n",
       "      <td>ポイント</td>\n",
       "      <td>2020-05-01 07:46:58</td>\n",
       "      <td>2020-05-01 08:02:04</td>\n",
       "      <td>155051921869489</td>\n",
       "      <td>BGT</td>\n",
       "      <td>9000</td>\n",
       "      <td>保留</td>\n",
       "      <td>2020年5月</td>\n",
       "      <td>NaN</td>\n",
       "      <td>0</td>\n",
       "      <td>NaN</td>\n",
       "    </tr>\n",
       "    <tr>\n",
       "      <th>4</th>\n",
       "      <td>5954</td>\n",
       "      <td>GetMoney!(JIPC参加企業)（連携用）</td>\n",
       "      <td>ポイント</td>\n",
       "      <td>2020-05-01 11:33:44</td>\n",
       "      <td>2020-05-01 11:46:06</td>\n",
       "      <td>155051921869679</td>\n",
       "      <td>BGT</td>\n",
       "      <td>9000</td>\n",
       "      <td>保留</td>\n",
       "      <td>2020年5月</td>\n",
       "      <td>NaN</td>\n",
       "      <td>0</td>\n",
       "      <td>NaN</td>\n",
       "    </tr>\n",
       "  </tbody>\n",
       "</table>\n",
       "</div>"
      ],
      "text/plain": [
       "   ASID                     メディア名 媒体チャネル                クリック  \\\n",
       "0    37                       げん玉   ポイント 2020-05-01 00:06:29   \n",
       "1    37                       げん玉   ポイント 2020-05-01 01:21:40   \n",
       "2    37                       げん玉   ポイント 2020-05-01 06:27:16   \n",
       "3    37                       げん玉   ポイント 2020-05-01 07:46:58   \n",
       "4  5954  GetMoney!(JIPC参加企業)（連携用）   ポイント 2020-05-01 11:33:44   \n",
       "\n",
       "                   申込              参照用 ASP名    単価 カード発行日     申込年月   成果  \\\n",
       "0 2020-05-01 00:22:04  155051921869356  BGT  9000     保留  2020年5月  NaN   \n",
       "1 2020-05-01 01:28:04  155051921869380  BGT  9000     保留  2020年5月  NaN   \n",
       "2 2020-05-01 06:34:04  155051921869422  BGT  9000     保留  2020年5月  NaN   \n",
       "3 2020-05-01 08:02:04  155051921869489  BGT  9000     保留  2020年5月  NaN   \n",
       "4 2020-05-01 11:46:06  155051921869679  BGT  9000     保留  2020年5月  NaN   \n",
       "\n",
       "   カード加入日  カード売上額合計  \n",
       "0       0       NaN  \n",
       "1       0       NaN  \n",
       "2       0       NaN  \n",
       "3       0       NaN  \n",
       "4       0       NaN  "
      ]
     },
     "execution_count": 106,
     "metadata": {},
     "output_type": "execute_result"
    }
   ],
   "source": [
    "df_dg2[df_dg2['カード加入日'] == 0].head()"
   ]
  },
  {
   "cell_type": "code",
   "execution_count": 108,
   "metadata": {},
   "outputs": [],
   "source": [
    "#\"成果\"がNanのものは[保留]に置換する\n",
    "for i in range(len(df_dg2)):\n",
    "    if pd.isnull(df_dg2['成果'][i]) == True:\n",
    "        df_dg2.loc[:,'成果'][i] = \"保留\""
   ]
  },
  {
   "cell_type": "code",
   "execution_count": 109,
   "metadata": {
    "scrolled": true
   },
   "outputs": [
    {
     "data": {
      "text/html": [
       "<div>\n",
       "<style scoped>\n",
       "    .dataframe tbody tr th:only-of-type {\n",
       "        vertical-align: middle;\n",
       "    }\n",
       "\n",
       "    .dataframe tbody tr th {\n",
       "        vertical-align: top;\n",
       "    }\n",
       "\n",
       "    .dataframe thead th {\n",
       "        text-align: right;\n",
       "    }\n",
       "</style>\n",
       "<table border=\"1\" class=\"dataframe\">\n",
       "  <thead>\n",
       "    <tr style=\"text-align: right;\">\n",
       "      <th></th>\n",
       "      <th>ASID</th>\n",
       "      <th>メディア名</th>\n",
       "      <th>媒体チャネル</th>\n",
       "      <th>クリック</th>\n",
       "      <th>申込</th>\n",
       "      <th>参照用</th>\n",
       "      <th>ASP名</th>\n",
       "      <th>単価</th>\n",
       "      <th>カード発行日</th>\n",
       "      <th>申込年月</th>\n",
       "      <th>成果</th>\n",
       "      <th>カード加入日</th>\n",
       "      <th>カード売上額合計</th>\n",
       "    </tr>\n",
       "  </thead>\n",
       "  <tbody>\n",
       "    <tr>\n",
       "      <th>0</th>\n",
       "      <td>37</td>\n",
       "      <td>げん玉</td>\n",
       "      <td>ポイント</td>\n",
       "      <td>2020-05-01 00:06:29</td>\n",
       "      <td>2020-05-01 00:22:04</td>\n",
       "      <td>155051921869356</td>\n",
       "      <td>BGT</td>\n",
       "      <td>9000</td>\n",
       "      <td>保留</td>\n",
       "      <td>2020年5月</td>\n",
       "      <td>保留</td>\n",
       "      <td>0</td>\n",
       "      <td>NaN</td>\n",
       "    </tr>\n",
       "    <tr>\n",
       "      <th>1</th>\n",
       "      <td>37</td>\n",
       "      <td>げん玉</td>\n",
       "      <td>ポイント</td>\n",
       "      <td>2020-05-01 01:21:40</td>\n",
       "      <td>2020-05-01 01:28:04</td>\n",
       "      <td>155051921869380</td>\n",
       "      <td>BGT</td>\n",
       "      <td>9000</td>\n",
       "      <td>保留</td>\n",
       "      <td>2020年5月</td>\n",
       "      <td>保留</td>\n",
       "      <td>0</td>\n",
       "      <td>NaN</td>\n",
       "    </tr>\n",
       "    <tr>\n",
       "      <th>2</th>\n",
       "      <td>37</td>\n",
       "      <td>げん玉</td>\n",
       "      <td>ポイント</td>\n",
       "      <td>2020-05-01 06:27:16</td>\n",
       "      <td>2020-05-01 06:34:04</td>\n",
       "      <td>155051921869422</td>\n",
       "      <td>BGT</td>\n",
       "      <td>9000</td>\n",
       "      <td>保留</td>\n",
       "      <td>2020年5月</td>\n",
       "      <td>保留</td>\n",
       "      <td>0</td>\n",
       "      <td>NaN</td>\n",
       "    </tr>\n",
       "    <tr>\n",
       "      <th>3</th>\n",
       "      <td>37</td>\n",
       "      <td>げん玉</td>\n",
       "      <td>ポイント</td>\n",
       "      <td>2020-05-01 07:46:58</td>\n",
       "      <td>2020-05-01 08:02:04</td>\n",
       "      <td>155051921869489</td>\n",
       "      <td>BGT</td>\n",
       "      <td>9000</td>\n",
       "      <td>保留</td>\n",
       "      <td>2020年5月</td>\n",
       "      <td>保留</td>\n",
       "      <td>0</td>\n",
       "      <td>NaN</td>\n",
       "    </tr>\n",
       "    <tr>\n",
       "      <th>4</th>\n",
       "      <td>5954</td>\n",
       "      <td>GetMoney!(JIPC参加企業)（連携用）</td>\n",
       "      <td>ポイント</td>\n",
       "      <td>2020-05-01 11:33:44</td>\n",
       "      <td>2020-05-01 11:46:06</td>\n",
       "      <td>155051921869679</td>\n",
       "      <td>BGT</td>\n",
       "      <td>9000</td>\n",
       "      <td>保留</td>\n",
       "      <td>2020年5月</td>\n",
       "      <td>保留</td>\n",
       "      <td>0</td>\n",
       "      <td>NaN</td>\n",
       "    </tr>\n",
       "  </tbody>\n",
       "</table>\n",
       "</div>"
      ],
      "text/plain": [
       "   ASID                     メディア名 媒体チャネル                クリック  \\\n",
       "0    37                       げん玉   ポイント 2020-05-01 00:06:29   \n",
       "1    37                       げん玉   ポイント 2020-05-01 01:21:40   \n",
       "2    37                       げん玉   ポイント 2020-05-01 06:27:16   \n",
       "3    37                       げん玉   ポイント 2020-05-01 07:46:58   \n",
       "4  5954  GetMoney!(JIPC参加企業)（連携用）   ポイント 2020-05-01 11:33:44   \n",
       "\n",
       "                   申込              参照用 ASP名    単価 カード発行日     申込年月  成果  カード加入日  \\\n",
       "0 2020-05-01 00:22:04  155051921869356  BGT  9000     保留  2020年5月  保留       0   \n",
       "1 2020-05-01 01:28:04  155051921869380  BGT  9000     保留  2020年5月  保留       0   \n",
       "2 2020-05-01 06:34:04  155051921869422  BGT  9000     保留  2020年5月  保留       0   \n",
       "3 2020-05-01 08:02:04  155051921869489  BGT  9000     保留  2020年5月  保留       0   \n",
       "4 2020-05-01 11:46:06  155051921869679  BGT  9000     保留  2020年5月  保留       0   \n",
       "\n",
       "   カード売上額合計  \n",
       "0       NaN  \n",
       "1       NaN  \n",
       "2       NaN  \n",
       "3       NaN  \n",
       "4       NaN  "
      ]
     },
     "execution_count": 109,
     "metadata": {},
     "output_type": "execute_result"
    }
   ],
   "source": [
    "df_dg2.head()"
   ]
  },
  {
   "cell_type": "code",
   "execution_count": null,
   "metadata": {},
   "outputs": [],
   "source": []
  },
  {
   "cell_type": "markdown",
   "metadata": {},
   "source": [
    "集計"
   ]
  },
  {
   "cell_type": "code",
   "execution_count": 110,
   "metadata": {},
   "outputs": [
    {
     "data": {
      "text/plain": [
       "0"
      ]
     },
     "execution_count": 110,
     "metadata": {},
     "output_type": "execute_result"
    }
   ],
   "source": [
    "#客数\n",
    "df_dg2[df_dg2['成果'] == '可'].shape[0]"
   ]
  },
  {
   "cell_type": "code",
   "execution_count": 111,
   "metadata": {},
   "outputs": [
    {
     "data": {
      "text/html": [
       "<div>\n",
       "<style scoped>\n",
       "    .dataframe tbody tr th:only-of-type {\n",
       "        vertical-align: middle;\n",
       "    }\n",
       "\n",
       "    .dataframe tbody tr th {\n",
       "        vertical-align: top;\n",
       "    }\n",
       "\n",
       "    .dataframe thead th {\n",
       "        text-align: right;\n",
       "    }\n",
       "</style>\n",
       "<table border=\"1\" class=\"dataframe\">\n",
       "  <thead>\n",
       "    <tr style=\"text-align: right;\">\n",
       "      <th>成果</th>\n",
       "      <th>保留</th>\n",
       "    </tr>\n",
       "    <tr>\n",
       "      <th>申込年月</th>\n",
       "      <th></th>\n",
       "    </tr>\n",
       "  </thead>\n",
       "  <tbody>\n",
       "    <tr>\n",
       "      <th>2020年5月</th>\n",
       "      <td>90</td>\n",
       "    </tr>\n",
       "    <tr>\n",
       "      <th>2020年6月</th>\n",
       "      <td>183</td>\n",
       "    </tr>\n",
       "  </tbody>\n",
       "</table>\n",
       "</div>"
      ],
      "text/plain": [
       "成果        保留\n",
       "申込年月        \n",
       "2020年5月   90\n",
       "2020年6月  183"
      ]
     },
     "execution_count": 111,
     "metadata": {},
     "output_type": "execute_result"
    }
   ],
   "source": [
    "pd.crosstab(df_dg2['申込年月'],df_dg2['成果'])"
   ]
  },
  {
   "cell_type": "code",
   "execution_count": 112,
   "metadata": {},
   "outputs": [],
   "source": [
    "#CSVアウトプット\n",
    "df_dg2.to_csv(data_dir /r\"output\"/f\"{output_file_2}_{bk.sheet_names[2]}.csv\", index=False,header=True,encoding='utf-8-sig')"
   ]
  },
  {
   "cell_type": "code",
   "execution_count": null,
   "metadata": {},
   "outputs": [],
   "source": []
  },
  {
   "cell_type": "markdown",
   "metadata": {},
   "source": [
    "③累積承認リストを作成する"
   ]
  },
  {
   "cell_type": "code",
   "execution_count": 56,
   "metadata": {},
   "outputs": [
    {
     "data": {
      "text/html": [
       "<div>\n",
       "<style scoped>\n",
       "    .dataframe tbody tr th:only-of-type {\n",
       "        vertical-align: middle;\n",
       "    }\n",
       "\n",
       "    .dataframe tbody tr th {\n",
       "        vertical-align: top;\n",
       "    }\n",
       "\n",
       "    .dataframe thead th {\n",
       "        text-align: right;\n",
       "    }\n",
       "</style>\n",
       "<table border=\"1\" class=\"dataframe\">\n",
       "  <thead>\n",
       "    <tr style=\"text-align: right;\">\n",
       "      <th></th>\n",
       "      <th>ASID</th>\n",
       "      <th>メディア名</th>\n",
       "      <th>媒体チャネル</th>\n",
       "      <th>クリック</th>\n",
       "      <th>申込</th>\n",
       "      <th>参照用</th>\n",
       "      <th>ASP名</th>\n",
       "      <th>単価</th>\n",
       "      <th>カード発行日</th>\n",
       "      <th>成果</th>\n",
       "      <th>承認作業月</th>\n",
       "    </tr>\n",
       "  </thead>\n",
       "  <tbody>\n",
       "    <tr>\n",
       "      <th>0</th>\n",
       "      <td>37</td>\n",
       "      <td>げん玉</td>\n",
       "      <td>ポイント</td>\n",
       "      <td>2020-05-01 00:06:29</td>\n",
       "      <td>2020-05-01 00:22:04</td>\n",
       "      <td>155051921869356</td>\n",
       "      <td>BGT</td>\n",
       "      <td>9000</td>\n",
       "      <td>NaN</td>\n",
       "      <td>保留</td>\n",
       "      <td>6月</td>\n",
       "    </tr>\n",
       "    <tr>\n",
       "      <th>1</th>\n",
       "      <td>37</td>\n",
       "      <td>げん玉</td>\n",
       "      <td>ポイント</td>\n",
       "      <td>2020-05-01 00:31:25</td>\n",
       "      <td>2020-05-01 00:52:05</td>\n",
       "      <td>155051921869372</td>\n",
       "      <td>BGT</td>\n",
       "      <td>9000</td>\n",
       "      <td>NaN</td>\n",
       "      <td>可</td>\n",
       "      <td>6月</td>\n",
       "    </tr>\n",
       "    <tr>\n",
       "      <th>2</th>\n",
       "      <td>37</td>\n",
       "      <td>げん玉</td>\n",
       "      <td>ポイント</td>\n",
       "      <td>2020-05-01 01:21:40</td>\n",
       "      <td>2020-05-01 01:28:04</td>\n",
       "      <td>155051921869380</td>\n",
       "      <td>BGT</td>\n",
       "      <td>9000</td>\n",
       "      <td>NaN</td>\n",
       "      <td>保留</td>\n",
       "      <td>6月</td>\n",
       "    </tr>\n",
       "    <tr>\n",
       "      <th>3</th>\n",
       "      <td>21</td>\n",
       "      <td>ポイントインカム</td>\n",
       "      <td>ポイント</td>\n",
       "      <td>2020-05-01 06:15:50</td>\n",
       "      <td>2020-05-01 06:25:05</td>\n",
       "      <td>155051921869414</td>\n",
       "      <td>BGT</td>\n",
       "      <td>9000</td>\n",
       "      <td>NaN</td>\n",
       "      <td>可</td>\n",
       "      <td>6月</td>\n",
       "    </tr>\n",
       "    <tr>\n",
       "      <th>4</th>\n",
       "      <td>37</td>\n",
       "      <td>げん玉</td>\n",
       "      <td>ポイント</td>\n",
       "      <td>2020-05-01 06:27:16</td>\n",
       "      <td>2020-05-01 06:34:04</td>\n",
       "      <td>155051921869422</td>\n",
       "      <td>BGT</td>\n",
       "      <td>9000</td>\n",
       "      <td>NaN</td>\n",
       "      <td>保留</td>\n",
       "      <td>6月</td>\n",
       "    </tr>\n",
       "  </tbody>\n",
       "</table>\n",
       "</div>"
      ],
      "text/plain": [
       "   ASID     メディア名 媒体チャネル                クリック                  申込  \\\n",
       "0    37       げん玉   ポイント 2020-05-01 00:06:29 2020-05-01 00:22:04   \n",
       "1    37       げん玉   ポイント 2020-05-01 00:31:25 2020-05-01 00:52:05   \n",
       "2    37       げん玉   ポイント 2020-05-01 01:21:40 2020-05-01 01:28:04   \n",
       "3    21  ポイントインカム   ポイント 2020-05-01 06:15:50 2020-05-01 06:25:05   \n",
       "4    37       げん玉   ポイント 2020-05-01 06:27:16 2020-05-01 06:34:04   \n",
       "\n",
       "               参照用 ASP名    単価  カード発行日  成果 承認作業月  \n",
       "0  155051921869356  BGT  9000     NaN  保留    6月  \n",
       "1  155051921869372  BGT  9000     NaN   可    6月  \n",
       "2  155051921869380  BGT  9000     NaN  保留    6月  \n",
       "3  155051921869414  BGT  9000     NaN   可    6月  \n",
       "4  155051921869422  BGT  9000     NaN  保留    6月  "
      ]
     },
     "execution_count": 56,
     "metadata": {},
     "output_type": "execute_result"
    }
   ],
   "source": [
    "#↑デジガレ報告用のファイルから余計なカラムを削除する\n",
    "df_dg2_tmp = df_dg2.drop(columns=['申込年月','カード加入日'])\n",
    "df_dg2_tmp['承認作業月'] = approval_month\n",
    "df_dg2_tmp.head()"
   ]
  },
  {
   "cell_type": "code",
   "execution_count": 57,
   "metadata": {
    "scrolled": false
   },
   "outputs": [
    {
     "name": "stdout",
     "output_type": "stream",
     "text": [
      "アフィリエイト広告_累積承認者リスト.xlsx\n"
     ]
    },
    {
     "data": {
      "text/html": [
       "<div>\n",
       "<style scoped>\n",
       "    .dataframe tbody tr th:only-of-type {\n",
       "        vertical-align: middle;\n",
       "    }\n",
       "\n",
       "    .dataframe tbody tr th {\n",
       "        vertical-align: top;\n",
       "    }\n",
       "\n",
       "    .dataframe thead th {\n",
       "        text-align: right;\n",
       "    }\n",
       "</style>\n",
       "<table border=\"1\" class=\"dataframe\">\n",
       "  <thead>\n",
       "    <tr style=\"text-align: right;\">\n",
       "      <th></th>\n",
       "      <th>ASID</th>\n",
       "      <th>メディア名</th>\n",
       "      <th>媒体チャネル</th>\n",
       "      <th>クリック</th>\n",
       "      <th>申込</th>\n",
       "      <th>参照用</th>\n",
       "      <th>ASP名</th>\n",
       "      <th>単価</th>\n",
       "      <th>可否</th>\n",
       "      <th>承認作業月</th>\n",
       "    </tr>\n",
       "  </thead>\n",
       "  <tbody>\n",
       "    <tr>\n",
       "      <th>0</th>\n",
       "      <td>37.0</td>\n",
       "      <td>げん玉</td>\n",
       "      <td>ポイント</td>\n",
       "      <td>2020-01-08 19:11:08</td>\n",
       "      <td>2020-01-08 19:32:05</td>\n",
       "      <td>155051921643397</td>\n",
       "      <td>BGT</td>\n",
       "      <td>9000</td>\n",
       "      <td>可</td>\n",
       "      <td>1月</td>\n",
       "    </tr>\n",
       "    <tr>\n",
       "      <th>1</th>\n",
       "      <td>52.0</td>\n",
       "      <td>ECナビSP</td>\n",
       "      <td>ポイント</td>\n",
       "      <td>2020-01-08 20:21:44</td>\n",
       "      <td>2020-01-08 20:31:05</td>\n",
       "      <td>155051921643553</td>\n",
       "      <td>BGT</td>\n",
       "      <td>9000</td>\n",
       "      <td>可</td>\n",
       "      <td>1月</td>\n",
       "    </tr>\n",
       "    <tr>\n",
       "      <th>2</th>\n",
       "      <td>52.0</td>\n",
       "      <td>ECナビSP</td>\n",
       "      <td>ポイント</td>\n",
       "      <td>2020-01-08 20:31:50</td>\n",
       "      <td>2020-01-08 20:39:06</td>\n",
       "      <td>155051921643587</td>\n",
       "      <td>BGT</td>\n",
       "      <td>9000</td>\n",
       "      <td>可</td>\n",
       "      <td>1月</td>\n",
       "    </tr>\n",
       "    <tr>\n",
       "      <th>3</th>\n",
       "      <td>52.0</td>\n",
       "      <td>ECナビSP</td>\n",
       "      <td>ポイント</td>\n",
       "      <td>2020-01-08 20:34:03</td>\n",
       "      <td>2020-01-08 20:45:05</td>\n",
       "      <td>155051921643678</td>\n",
       "      <td>BGT</td>\n",
       "      <td>9000</td>\n",
       "      <td>可</td>\n",
       "      <td>1月</td>\n",
       "    </tr>\n",
       "    <tr>\n",
       "      <th>4</th>\n",
       "      <td>82.0</td>\n",
       "      <td>ちょびリッチ。ドットコム</td>\n",
       "      <td>ポイント</td>\n",
       "      <td>2020-01-08 20:32:12</td>\n",
       "      <td>2020-01-08 20:55:06</td>\n",
       "      <td>155051921643744</td>\n",
       "      <td>BGT</td>\n",
       "      <td>9000</td>\n",
       "      <td>可</td>\n",
       "      <td>1月</td>\n",
       "    </tr>\n",
       "  </tbody>\n",
       "</table>\n",
       "</div>"
      ],
      "text/plain": [
       "   ASID         メディア名 媒体チャネル                クリック                   申込  \\\n",
       "0  37.0           げん玉   ポイント 2020-01-08 19:11:08  2020-01-08 19:32:05   \n",
       "1  52.0        ECナビSP   ポイント 2020-01-08 20:21:44  2020-01-08 20:31:05   \n",
       "2  52.0        ECナビSP   ポイント 2020-01-08 20:31:50  2020-01-08 20:39:06   \n",
       "3  52.0        ECナビSP   ポイント 2020-01-08 20:34:03  2020-01-08 20:45:05   \n",
       "4  82.0  ちょびリッチ。ドットコム   ポイント 2020-01-08 20:32:12  2020-01-08 20:55:06   \n",
       "\n",
       "               参照用 ASP名    単価 可否 承認作業月  \n",
       "0  155051921643397  BGT  9000  可    1月  \n",
       "1  155051921643553  BGT  9000  可    1月  \n",
       "2  155051921643587  BGT  9000  可    1月  \n",
       "3  155051921643678  BGT  9000  可    1月  \n",
       "4  155051921643744  BGT  9000  可    1月  "
      ]
     },
     "execution_count": 57,
     "metadata": {},
     "output_type": "execute_result"
    }
   ],
   "source": [
    "print(input_file_4)\n",
    "\n",
    "df_cum = pd.read_excel(data_dir/\"input\"/f\"{input_file_4}\", dtype={'参照用': str})\n",
    "df_cum.head()"
   ]
  },
  {
   "cell_type": "code",
   "execution_count": 59,
   "metadata": {},
   "outputs": [],
   "source": [
    "for i in range(len(df_cum)):\n",
    "    if pd.isnull(df_cum['ASID'][i]) == True:\n",
    "        df_cum.loc[:,'ASID'][i] = 0\n",
    "\n",
    "df_cum = df_cum.astype({'ASID':int})"
   ]
  },
  {
   "cell_type": "code",
   "execution_count": 60,
   "metadata": {},
   "outputs": [
    {
     "name": "stdout",
     "output_type": "stream",
     "text": [
      "[     37      52      82      54     619    1375      21    5953     165\n",
      "    5954     204      46      10       8      45      49      57     101\n",
      "     164     183 1523381     166 1776418     128     280     284    8163\n",
      "      18      44     282 1595028 1580002 1496955 1594905    5618   32190\n",
      "    5955       0 1454503 1591985    6711]\n"
     ]
    }
   ],
   "source": [
    "print(df_cum['ASID'].unique())"
   ]
  },
  {
   "cell_type": "code",
   "execution_count": 61,
   "metadata": {
    "scrolled": true
   },
   "outputs": [
    {
     "data": {
      "text/html": [
       "<div>\n",
       "<style scoped>\n",
       "    .dataframe tbody tr th:only-of-type {\n",
       "        vertical-align: middle;\n",
       "    }\n",
       "\n",
       "    .dataframe tbody tr th {\n",
       "        vertical-align: top;\n",
       "    }\n",
       "\n",
       "    .dataframe thead th {\n",
       "        text-align: right;\n",
       "    }\n",
       "</style>\n",
       "<table border=\"1\" class=\"dataframe\">\n",
       "  <thead>\n",
       "    <tr style=\"text-align: right;\">\n",
       "      <th></th>\n",
       "      <th>ASID</th>\n",
       "      <th>メディア名</th>\n",
       "      <th>媒体チャネル</th>\n",
       "      <th>クリック</th>\n",
       "      <th>申込</th>\n",
       "      <th>参照用</th>\n",
       "      <th>ASP名</th>\n",
       "      <th>単価</th>\n",
       "      <th>可否</th>\n",
       "      <th>承認作業月</th>\n",
       "    </tr>\n",
       "  </thead>\n",
       "  <tbody>\n",
       "    <tr>\n",
       "      <th>0</th>\n",
       "      <td>37</td>\n",
       "      <td>げん玉</td>\n",
       "      <td>ポイント</td>\n",
       "      <td>2020-01-08 19:11:08</td>\n",
       "      <td>2020-01-08 19:32:05</td>\n",
       "      <td>155051921643397</td>\n",
       "      <td>BGT</td>\n",
       "      <td>9000</td>\n",
       "      <td>可</td>\n",
       "      <td>1月</td>\n",
       "    </tr>\n",
       "    <tr>\n",
       "      <th>1</th>\n",
       "      <td>52</td>\n",
       "      <td>ECナビSP</td>\n",
       "      <td>ポイント</td>\n",
       "      <td>2020-01-08 20:21:44</td>\n",
       "      <td>2020-01-08 20:31:05</td>\n",
       "      <td>155051921643553</td>\n",
       "      <td>BGT</td>\n",
       "      <td>9000</td>\n",
       "      <td>可</td>\n",
       "      <td>1月</td>\n",
       "    </tr>\n",
       "    <tr>\n",
       "      <th>2</th>\n",
       "      <td>52</td>\n",
       "      <td>ECナビSP</td>\n",
       "      <td>ポイント</td>\n",
       "      <td>2020-01-08 20:31:50</td>\n",
       "      <td>2020-01-08 20:39:06</td>\n",
       "      <td>155051921643587</td>\n",
       "      <td>BGT</td>\n",
       "      <td>9000</td>\n",
       "      <td>可</td>\n",
       "      <td>1月</td>\n",
       "    </tr>\n",
       "    <tr>\n",
       "      <th>3</th>\n",
       "      <td>52</td>\n",
       "      <td>ECナビSP</td>\n",
       "      <td>ポイント</td>\n",
       "      <td>2020-01-08 20:34:03</td>\n",
       "      <td>2020-01-08 20:45:05</td>\n",
       "      <td>155051921643678</td>\n",
       "      <td>BGT</td>\n",
       "      <td>9000</td>\n",
       "      <td>可</td>\n",
       "      <td>1月</td>\n",
       "    </tr>\n",
       "    <tr>\n",
       "      <th>4</th>\n",
       "      <td>82</td>\n",
       "      <td>ちょびリッチ。ドットコム</td>\n",
       "      <td>ポイント</td>\n",
       "      <td>2020-01-08 20:32:12</td>\n",
       "      <td>2020-01-08 20:55:06</td>\n",
       "      <td>155051921643744</td>\n",
       "      <td>BGT</td>\n",
       "      <td>9000</td>\n",
       "      <td>可</td>\n",
       "      <td>1月</td>\n",
       "    </tr>\n",
       "  </tbody>\n",
       "</table>\n",
       "</div>"
      ],
      "text/plain": [
       "   ASID         メディア名 媒体チャネル                クリック                   申込  \\\n",
       "0    37           げん玉   ポイント 2020-01-08 19:11:08  2020-01-08 19:32:05   \n",
       "1    52        ECナビSP   ポイント 2020-01-08 20:21:44  2020-01-08 20:31:05   \n",
       "2    52        ECナビSP   ポイント 2020-01-08 20:31:50  2020-01-08 20:39:06   \n",
       "3    52        ECナビSP   ポイント 2020-01-08 20:34:03  2020-01-08 20:45:05   \n",
       "4    82  ちょびリッチ。ドットコム   ポイント 2020-01-08 20:32:12  2020-01-08 20:55:06   \n",
       "\n",
       "               参照用 ASP名    単価 可否 承認作業月  \n",
       "0  155051921643397  BGT  9000  可    1月  \n",
       "1  155051921643553  BGT  9000  可    1月  \n",
       "2  155051921643587  BGT  9000  可    1月  \n",
       "3  155051921643678  BGT  9000  可    1月  \n",
       "4  155051921643744  BGT  9000  可    1月  "
      ]
     },
     "execution_count": 61,
     "metadata": {},
     "output_type": "execute_result"
    }
   ],
   "source": [
    "df_cum.head()"
   ]
  },
  {
   "cell_type": "code",
   "execution_count": 70,
   "metadata": {},
   "outputs": [
    {
     "data": {
      "text/html": [
       "<div>\n",
       "<style scoped>\n",
       "    .dataframe tbody tr th:only-of-type {\n",
       "        vertical-align: middle;\n",
       "    }\n",
       "\n",
       "    .dataframe tbody tr th {\n",
       "        vertical-align: top;\n",
       "    }\n",
       "\n",
       "    .dataframe thead th {\n",
       "        text-align: right;\n",
       "    }\n",
       "</style>\n",
       "<table border=\"1\" class=\"dataframe\">\n",
       "  <thead>\n",
       "    <tr style=\"text-align: right;\">\n",
       "      <th></th>\n",
       "      <th>ASID</th>\n",
       "      <th>メディア名</th>\n",
       "      <th>媒体チャネル</th>\n",
       "      <th>クリック</th>\n",
       "      <th>申込</th>\n",
       "      <th>参照用</th>\n",
       "      <th>ASP名</th>\n",
       "      <th>単価</th>\n",
       "      <th>可否</th>\n",
       "      <th>承認作業月</th>\n",
       "    </tr>\n",
       "  </thead>\n",
       "  <tbody>\n",
       "    <tr>\n",
       "      <th>0</th>\n",
       "      <td>37</td>\n",
       "      <td>げん玉</td>\n",
       "      <td>ポイント</td>\n",
       "      <td>2020-05-01 00:06:29</td>\n",
       "      <td>2020-05-01 00:22:04</td>\n",
       "      <td>155051921869356</td>\n",
       "      <td>BGT</td>\n",
       "      <td>9000</td>\n",
       "      <td>保留</td>\n",
       "      <td>6月</td>\n",
       "    </tr>\n",
       "    <tr>\n",
       "      <th>1</th>\n",
       "      <td>37</td>\n",
       "      <td>げん玉</td>\n",
       "      <td>ポイント</td>\n",
       "      <td>2020-05-01 00:31:25</td>\n",
       "      <td>2020-05-01 00:52:05</td>\n",
       "      <td>155051921869372</td>\n",
       "      <td>BGT</td>\n",
       "      <td>9000</td>\n",
       "      <td>可</td>\n",
       "      <td>6月</td>\n",
       "    </tr>\n",
       "    <tr>\n",
       "      <th>2</th>\n",
       "      <td>37</td>\n",
       "      <td>げん玉</td>\n",
       "      <td>ポイント</td>\n",
       "      <td>2020-05-01 01:21:40</td>\n",
       "      <td>2020-05-01 01:28:04</td>\n",
       "      <td>155051921869380</td>\n",
       "      <td>BGT</td>\n",
       "      <td>9000</td>\n",
       "      <td>保留</td>\n",
       "      <td>6月</td>\n",
       "    </tr>\n",
       "    <tr>\n",
       "      <th>3</th>\n",
       "      <td>21</td>\n",
       "      <td>ポイントインカム</td>\n",
       "      <td>ポイント</td>\n",
       "      <td>2020-05-01 06:15:50</td>\n",
       "      <td>2020-05-01 06:25:05</td>\n",
       "      <td>155051921869414</td>\n",
       "      <td>BGT</td>\n",
       "      <td>9000</td>\n",
       "      <td>可</td>\n",
       "      <td>6月</td>\n",
       "    </tr>\n",
       "    <tr>\n",
       "      <th>4</th>\n",
       "      <td>37</td>\n",
       "      <td>げん玉</td>\n",
       "      <td>ポイント</td>\n",
       "      <td>2020-05-01 06:27:16</td>\n",
       "      <td>2020-05-01 06:34:04</td>\n",
       "      <td>155051921869422</td>\n",
       "      <td>BGT</td>\n",
       "      <td>9000</td>\n",
       "      <td>保留</td>\n",
       "      <td>6月</td>\n",
       "    </tr>\n",
       "  </tbody>\n",
       "</table>\n",
       "</div>"
      ],
      "text/plain": [
       "   ASID     メディア名 媒体チャネル                クリック                  申込  \\\n",
       "0    37       げん玉   ポイント 2020-05-01 00:06:29 2020-05-01 00:22:04   \n",
       "1    37       げん玉   ポイント 2020-05-01 00:31:25 2020-05-01 00:52:05   \n",
       "2    37       げん玉   ポイント 2020-05-01 01:21:40 2020-05-01 01:28:04   \n",
       "3    21  ポイントインカム   ポイント 2020-05-01 06:15:50 2020-05-01 06:25:05   \n",
       "4    37       げん玉   ポイント 2020-05-01 06:27:16 2020-05-01 06:34:04   \n",
       "\n",
       "               参照用 ASP名    単価  可否 承認作業月  \n",
       "0  155051921869356  BGT  9000  保留    6月  \n",
       "1  155051921869372  BGT  9000   可    6月  \n",
       "2  155051921869380  BGT  9000  保留    6月  \n",
       "3  155051921869414  BGT  9000   可    6月  \n",
       "4  155051921869422  BGT  9000  保留    6月  "
      ]
     },
     "execution_count": 70,
     "metadata": {},
     "output_type": "execute_result"
    }
   ],
   "source": [
    "df_dg2_tmp = df_dg2_tmp.rename(columns={'成果':'可否'})\n",
    "df_dg2_tmp = df_dg2_tmp.drop(columns={'カード発行日'})\n",
    "df_dg2_tmp.head()"
   ]
  },
  {
   "cell_type": "code",
   "execution_count": 71,
   "metadata": {},
   "outputs": [],
   "source": [
    "df_concat = pd.concat([df_cum, df_dg2_tmp])"
   ]
  },
  {
   "cell_type": "code",
   "execution_count": 72,
   "metadata": {},
   "outputs": [],
   "source": [
    "df_concat = df_concat[df_concat['可否'] == \"可\"]"
   ]
  },
  {
   "cell_type": "code",
   "execution_count": 73,
   "metadata": {
    "scrolled": true
   },
   "outputs": [
    {
     "data": {
      "text/plain": [
       "承認作業月\n",
       "1月    363\n",
       "2月    788\n",
       "3月    284\n",
       "4月     79\n",
       "5月    107\n",
       "6月    364\n",
       "Name: 参照用, dtype: int64"
      ]
     },
     "execution_count": 73,
     "metadata": {},
     "output_type": "execute_result"
    }
   ],
   "source": [
    "df_concat.groupby(['承認作業月'])['参照用'].count()"
   ]
  },
  {
   "cell_type": "code",
   "execution_count": 74,
   "metadata": {},
   "outputs": [
    {
     "data": {
      "text/plain": [
       "1986"
      ]
     },
     "execution_count": 74,
     "metadata": {},
     "output_type": "execute_result"
    }
   ],
   "source": [
    "df_concat.shape[0]"
   ]
  },
  {
   "cell_type": "code",
   "execution_count": 75,
   "metadata": {},
   "outputs": [
    {
     "data": {
      "text/plain": [
       "1984"
      ]
     },
     "execution_count": 75,
     "metadata": {},
     "output_type": "execute_result"
    }
   ],
   "source": [
    "#重複削除\n",
    "df_dup = df_concat.drop_duplicates(subset=['参照用'])\n",
    "df_dup.shape[0]"
   ]
  },
  {
   "cell_type": "code",
   "execution_count": 76,
   "metadata": {},
   "outputs": [],
   "source": [
    "#CSVアウトプット\n",
    "df_dup.to_csv(data_dir /\"output\"/f\"{output_file_3}.csv\", index=False,header=True,encoding='utf-8-sig')"
   ]
  }
 ],
 "metadata": {
  "kernelspec": {
   "display_name": "Python 3",
   "language": "python",
   "name": "python3"
  },
  "language_info": {
   "codemirror_mode": {
    "name": "ipython",
    "version": 3
   },
   "file_extension": ".py",
   "mimetype": "text/x-python",
   "name": "python",
   "nbconvert_exporter": "python",
   "pygments_lexer": "ipython3",
   "version": "3.7.6"
  }
 },
 "nbformat": 4,
 "nbformat_minor": 2
}
