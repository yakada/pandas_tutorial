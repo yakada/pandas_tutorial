{
 "cells": [
  {
   "cell_type": "markdown",
   "metadata": {},
   "source": [
    "クロスデバイス　Crawlingとの併用"
   ]
  },
  {
   "cell_type": "code",
   "execution_count": null,
   "metadata": {},
   "outputs": [],
   "source": [
    "# ライブラリimport\n",
    "import argparse\n",
    "import logging\n",
    "import os\n",
    "\n",
    "import pandas as pd\n",
    "from pandas import DataFrame\n",
    "import pandas.tseries.offsets as offsets\n",
    "import numpy as np\n",
    "from datetime import date, timedelta, time, datetime\n",
    "from tabulate import tabulate\n",
    "\n",
    "from itertools import product\n",
    "\n",
    "from ailab_tools.smn import ImpalaResource\n",
    "from ailab_tools.utils import GMail, GSheet\n",
    "\n",
    "from collections import OrderedDict\n",
    "\n",
    "import zipfile\n",
    "import glob\n",
    "\n",
    "import gc\n",
    "\n",
    "from ailab_tools.magics import slack_notify"
   ]
  },
  {
   "cell_type": "markdown",
   "metadata": {},
   "source": [
    "9199\t楽天株式会社"
   ]
  },
  {
   "cell_type": "code",
   "execution_count": null,
   "metadata": {},
   "outputs": [],
   "source": [
    "today_yymmdd = date.today().strftime(\"%y%m%d\")\n",
    "print(today_yymmdd)"
   ]
  },
  {
   "cell_type": "markdown",
   "metadata": {},
   "source": [
    "60003706\tクローリング_サッカー関連"
   ]
  },
  {
   "cell_type": "code",
   "execution_count": null,
   "metadata": {},
   "outputs": [],
   "source": [
    "#デバイス\n",
    "seed_sp_device = 'iOS','Android'\n",
    "xd_sp_device = 'iphone','android_phone','windows_phone'\n",
    "\n",
    "#ターゲット\n",
    "advertiser_id = 9199\n",
    "seg_id = 60003706\n",
    "seg_name = 'crawling'\n",
    "\n",
    "#クロスデバイステーブル\n",
    "xd_table = 'segment.drawbridge_device'"
   ]
  },
  {
   "cell_type": "code",
   "execution_count": 10,
   "metadata": {},
   "outputs": [
    {
     "name": "stderr",
     "output_type": "stream",
     "text": [
      "INFO:ailab_tools.smn.impala_client:loaded configuration file: /opt/anaconda3/lib/python3.7/site-packages/ailab_tools/config/ailab_tools_config.py\n",
      "INFO:ailab_tools.smn.impala_client:hosts : ['172.16.60.109']\n",
      "INFO:ailab_tools.smn.impala_client:impala_host : 172.16.60.109\n",
      "INFO:ailab_tools.smn.impala_client:impala_port : 21050\n",
      "INFO:ailab_tools.smn.impala_client:impala_user : vmspool\n",
      "INFO:ailab_tools.smn.impala_client:impala_password : \n",
      "INFO:ailab_tools.smn.impala_client:request_pool : vmspool\n",
      "INFO:ailab_tools.smn.impala_client:configuration : {'REQUEST_POOL': 'vmspool'}\n",
      "INFO:ailab_tools.smn.impala_resource:loaded configuration file: /opt/anaconda3/lib/python3.7/site-packages/ailab_tools/config/ailab_tools_config.py\n",
      "INFO:ailab_tools.smn.impala_resource:httpfs_host: hc3manager02.hc3pro\n",
      "INFO:ailab_tools.smn.impala_resource:httpfs_port: 14000\n",
      "INFO:impyla_service:Impala open connection OK. hostname = [172.16.60.109]\n",
      "INFO:impyla_service:New connection is opened.\n",
      "INFO:impyla_service:実行SQL: \n",
      "    SELECT smn_uid \n",
      "    FROM  segment.crawling_seg_user_partitioned_by_ymd\n",
      "    WHERE id = 102932 and smn_uid>0\n",
      "    GROUP BY smn_uid ORDER BY max(concat_ws('-',year,month,day)) desc,sum(cnt) desc\n",
      "    limit 5000000\n",
      "    \n",
      "INFO:impala.hiveserver2:Closing active operation\n",
      "INFO:impyla_service:Create empty table dm_tmp.ya_seed_advid_9199_60003706_crawling_190530\n",
      "INFO:impyla_service:実行SQL: \n",
      "            create table dm_tmp.ya_seed_advid_9199_60003706_crawling_190530\n",
      "            (smn_uid bigint)\n",
      "            \n",
      "            row format delimited fields terminated by \"\\t\"\n",
      "            lines terminated by \"\\n\"\n",
      "            \n",
      "INFO:impala.hiveserver2:Closing active operation\n",
      "INFO:impyla_service:Query finished\n",
      "INFO:hdfs.client:Instantiated <InsecureClient(url='http://hc3manager02.hc3pro:14000')>.\n",
      "INFO:hdfs.client:Uploading '/home/yusuke_akada/notebook/Yusuke_Akada_Jupyter_Notebook/dba3428e-484e-4534-b9f1-c6f69f64b7f3.tsv' to '/user/hive/warehouse/dm_tmp.db/ya_seed_advid_9199_60003706_crawling_190530'.\n",
      "INFO:hdfs.client:Listing '/user/hive/warehouse/dm_tmp.db/ya_seed_advid_9199_60003706_crawling_190530'.\n",
      "INFO:hdfs.client:Writing to '/user/hive/warehouse/dm_tmp.db/ya_seed_advid_9199_60003706_crawling_190530/dba3428e-484e-4534-b9f1-c6f69f64b7f3.tsv'.\n",
      "INFO:impyla_service:実行SQL: refresh dm_tmp.ya_seed_advid_9199_60003706_crawling_190530\n",
      "INFO:impala.hiveserver2:Closing active operation\n",
      "INFO:impyla_service:Connection is closed.\n"
     ]
    }
   ],
   "source": [
    "seed_table = f\"dm_tmp.ya_seed_advid_{advertiser_id}_{seg_id}_{seg_name}_{today_yymmdd}\"\n",
    "\n",
    "query = (\n",
    "    f\"\"\"\n",
    "    SELECT smn_uid \n",
    "    FROM  segment.crawling_seg_user_partitioned_by_ymd\n",
    "    WHERE id = 102932 and smn_uid>0\n",
    "    GROUP BY smn_uid ORDER BY max(concat_ws('-',year,month,day)) desc,sum(cnt) desc\n",
    "    limit 5000000\n",
    "    \"\"\"\n",
    "    )\n",
    "\n",
    "with ImpalaResource(hosts=[\"172.16.60.109\"], port=21050, user='vmspool',\n",
    "                    request_pool='vmspool', httpfs_host='hc3manager02.hc3pro', httpfs_port=14000) as ir:\n",
    "        df_seed = ir.sql_to_pandas(query)\n",
    "        ir.upload_dataframe(seed_table, df_seed, ['bigint'])\n",
    "\n",
    "df_seed.to_csv(f'{seed_table}.tsv', sep='\\t', index=False)"
   ]
  },
  {
   "cell_type": "code",
   "execution_count": 11,
   "metadata": {},
   "outputs": [
    {
     "name": "stdout",
     "output_type": "stream",
     "text": [
      "dm_tmp.ya_seed_advid_9199_60003706_crawling_190530\n"
     ]
    }
   ],
   "source": [
    "print(seed_table)"
   ]
  },
  {
   "cell_type": "code",
   "execution_count": 12,
   "metadata": {},
   "outputs": [
    {
     "data": {
      "text/plain": [
       "682522"
      ]
     },
     "execution_count": 12,
     "metadata": {},
     "output_type": "execute_result"
    }
   ],
   "source": [
    "df_seed.shape[0]"
   ]
  },
  {
   "cell_type": "code",
   "execution_count": 13,
   "metadata": {},
   "outputs": [
    {
     "name": "stderr",
     "output_type": "stream",
     "text": [
      "INFO:ailab_tools.smn.impala_client:loaded configuration file: /opt/anaconda3/lib/python3.7/site-packages/ailab_tools/config/ailab_tools_config.py\n",
      "INFO:ailab_tools.smn.impala_client:hosts : ['172.16.60.109']\n",
      "INFO:ailab_tools.smn.impala_client:impala_host : 172.16.60.109\n",
      "INFO:ailab_tools.smn.impala_client:impala_port : 21050\n",
      "INFO:ailab_tools.smn.impala_client:impala_user : vmspool\n",
      "INFO:ailab_tools.smn.impala_client:impala_password : \n",
      "INFO:ailab_tools.smn.impala_client:request_pool : vmspool\n",
      "INFO:ailab_tools.smn.impala_client:configuration : {'REQUEST_POOL': 'vmspool'}\n",
      "INFO:ailab_tools.smn.impala_resource:loaded configuration file: /opt/anaconda3/lib/python3.7/site-packages/ailab_tools/config/ailab_tools_config.py\n",
      "INFO:ailab_tools.smn.impala_resource:httpfs_host: hc3manager02.hc3pro\n",
      "INFO:ailab_tools.smn.impala_resource:httpfs_port: 14000\n",
      "INFO:impyla_service:Impala open connection OK. hostname = [172.16.60.109]\n",
      "INFO:impyla_service:New connection is opened.\n",
      "INFO:impyla_service:実行SQL: \n",
      "    select \n",
      "    distinct xd2.smn_uid\n",
      "    ,xd2.device\n",
      "    from dm_tmp.ya_seed_advid_9199_60003706_crawling_190530 sd\n",
      "    left join segment.drawbridge_device xd\n",
      "    on sd.smn_uid = xd.smn_uid\n",
      "    left join segment.drawbridge_device xd2\n",
      "    on xd.drawbridge_consumer_id = xd2.drawbridge_consumer_id\n",
      "    where xd2.device in (\n",
      "    'windows_computer'\n",
      "    ,'linux_computer'\n",
      "    ,'mac'\n",
      "    ,'ipad'\n",
      "    ,'android_tablet'\n",
      "    ,'windows_tablet') \n",
      "    and xd2.smn_uid not in (select smn_uid from dm_tmp.ya_seed_advid_9199_60003706_crawling_190530)\n",
      "    \n",
      "INFO:impala.hiveserver2:Closing active operation\n",
      "INFO:impyla_service:Create empty table dm_tmp.ya_xd_advid_9199_60003706_crawling_190530\n",
      "INFO:impyla_service:実行SQL: \n",
      "            create table dm_tmp.ya_xd_advid_9199_60003706_crawling_190530\n",
      "            (smn_uid bigint, device string)\n",
      "            \n",
      "            row format delimited fields terminated by \"\\t\"\n",
      "            lines terminated by \"\\n\"\n",
      "            \n",
      "INFO:impala.hiveserver2:Closing active operation\n",
      "INFO:impyla_service:Query finished\n",
      "INFO:hdfs.client:Instantiated <InsecureClient(url='http://hc3manager02.hc3pro:14000')>.\n",
      "INFO:hdfs.client:Uploading '/home/yusuke_akada/notebook/Yusuke_Akada_Jupyter_Notebook/069c1a25-ce0e-4122-97a5-5828e838807e.tsv' to '/user/hive/warehouse/dm_tmp.db/ya_xd_advid_9199_60003706_crawling_190530'.\n",
      "INFO:hdfs.client:Listing '/user/hive/warehouse/dm_tmp.db/ya_xd_advid_9199_60003706_crawling_190530'.\n",
      "INFO:hdfs.client:Writing to '/user/hive/warehouse/dm_tmp.db/ya_xd_advid_9199_60003706_crawling_190530/069c1a25-ce0e-4122-97a5-5828e838807e.tsv'.\n",
      "INFO:impyla_service:実行SQL: refresh dm_tmp.ya_xd_advid_9199_60003706_crawling_190530\n",
      "INFO:impala.hiveserver2:Closing active operation\n",
      "INFO:impyla_service:Dropping table: dm_tmp.ya_seed_advid_9199_60003706_crawling_190530\n",
      "INFO:impyla_service:実行SQL: drop table if exists dm_tmp.ya_seed_advid_9199_60003706_crawling_190530 purge\n",
      "INFO:impala.hiveserver2:Closing active operation\n",
      "INFO:impyla_service:Connection is closed.\n"
     ]
    }
   ],
   "source": [
    "#XD拡張\n",
    "\n",
    "uid_table = f\"dm_tmp.ya_xd_advid_{advertiser_id}_{seg_id}_{seg_name}_{today_yymmdd}\"\n",
    "\n",
    "#f-string\n",
    "query = (\n",
    "    f\"\"\"\n",
    "    select \n",
    "    distinct xd2.smn_uid\n",
    "    ,xd2.device\n",
    "    from {seed_table} sd\n",
    "    left join {xd_table} xd\n",
    "    on sd.smn_uid = xd.smn_uid\n",
    "    left join {xd_table} xd2\n",
    "    on xd.drawbridge_consumer_id = xd2.drawbridge_consumer_id\n",
    "    where xd2.device in (\n",
    "    'windows_computer'\n",
    "    ,'linux_computer'\n",
    "    ,'mac'\n",
    "    ,'ipad'\n",
    "    ,'android_tablet'\n",
    "    ,'windows_tablet') \n",
    "    and xd2.smn_uid not in (select smn_uid from {seed_table})\n",
    "    \"\"\"\n",
    "    )\n",
    "with ImpalaResource(hosts=[\"172.16.60.109\"], port=21050, user='vmspool',\n",
    "                    request_pool='vmspool', httpfs_host='hc3manager02.hc3pro', httpfs_port=14000) as ir:\n",
    "    df_fix = ir.sql_to_pandas(query)\n",
    "    #ImpalaにUp\n",
    "    ir.upload_dataframe(uid_table, df_fix, ['bigint','string']) \n",
    "    #テーブル削除\n",
    "    ir.drop_tables([seed_table])\n",
    "    \n",
    "df_fix.to_csv(f'{uid_table}.tsv', sep='\\t', index=False)"
   ]
  },
  {
   "cell_type": "code",
   "execution_count": 14,
   "metadata": {},
   "outputs": [
    {
     "name": "stdout",
     "output_type": "stream",
     "text": [
      "dm_tmp.ya_xd_advid_9199_60003706_crawling_190530\n"
     ]
    }
   ],
   "source": [
    "print(uid_table)"
   ]
  },
  {
   "cell_type": "code",
   "execution_count": 15,
   "metadata": {},
   "outputs": [
    {
     "data": {
      "text/plain": [
       "1612366"
      ]
     },
     "execution_count": 15,
     "metadata": {},
     "output_type": "execute_result"
    }
   ],
   "source": [
    "df_fix.shape[0]"
   ]
  },
  {
   "cell_type": "code",
   "execution_count": 16,
   "metadata": {},
   "outputs": [
    {
     "data": {
      "text/plain": [
       "device\n",
       "android_tablet       148452\n",
       "ipad                  54321\n",
       "linux_computer         4837\n",
       "mac                   43987\n",
       "windows_computer    1359865\n",
       "windows_tablet          904\n",
       "Name: smn_uid, dtype: int64"
      ]
     },
     "execution_count": 16,
     "metadata": {},
     "output_type": "execute_result"
    }
   ],
   "source": [
    "df_fix.groupby([\"device\"])[\"smn_uid\"].count()"
   ]
  },
  {
   "cell_type": "code",
   "execution_count": null,
   "metadata": {},
   "outputs": [],
   "source": []
  },
  {
   "cell_type": "code",
   "execution_count": null,
   "metadata": {},
   "outputs": [],
   "source": []
  }
 ],
 "metadata": {
  "kernelspec": {
   "display_name": "Python 3",
   "language": "python",
   "name": "python3"
  },
  "language_info": {
   "codemirror_mode": {
    "name": "ipython",
    "version": 3
   },
   "file_extension": ".py",
   "mimetype": "text/x-python",
   "name": "python",
   "nbconvert_exporter": "python",
   "pygments_lexer": "ipython3",
   "version": "3.7.2"
  }
 },
 "nbformat": 4,
 "nbformat_minor": 2
}
