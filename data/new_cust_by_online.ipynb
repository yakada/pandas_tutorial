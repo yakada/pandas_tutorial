{
 "cells": [
  {
   "cell_type": "code",
   "execution_count": 1,
   "metadata": {},
   "outputs": [],
   "source": [
    "import pandas as pd\n",
    "import numpy as np\n",
    "from pathlib import Path\n",
    "import csv\n",
    "import xlrd\n",
    "import io\n",
    "from zipfile import ZipFile"
   ]
  },
  {
   "cell_type": "markdown",
   "metadata": {},
   "source": [
    "import datetime \n",
    "base = datetime.date(2020,2,1)\n",
    "for i in range(0,10): \n",
    "    d=base + datetime.timedelta(i)\n",
    "    d=d.strftime(\"%Y%m%d\")\n",
    "    print(f\"N029kakutokuruiseki{d}.csv\")"
   ]
  },
  {
   "cell_type": "markdown",
   "metadata": {},
   "source": [
    "from datetime import datetime, timedelta\n",
    "\n",
    "def date_range(start_date: datetime, end_date: datetime):\n",
    "    diff = (end_date - start_date).days + 1\n",
    "    return (start_date + timedelta(i) for i in range(diff))"
   ]
  },
  {
   "cell_type": "code",
   "execution_count": 2,
   "metadata": {},
   "outputs": [],
   "source": [
    "#pandasの表示列数を増やす\n",
    "import pandas as pd\n",
    "pd.set_option('display.max_columns', 100)"
   ]
  },
  {
   "cell_type": "code",
   "execution_count": 3,
   "metadata": {},
   "outputs": [
    {
     "name": "stdout",
     "output_type": "stream",
     "text": [
      "【C063】新規入会者_3月末時点.xlsx\n"
     ]
    }
   ],
   "source": [
    "input_file = \"【C063】新規入会者_3月末時点.xlsx\"\n",
    "output_file = \"集計_新規入会者_3月末時点\"\n",
    "data_dir = Path(\"C:/Users/yakad\\Documents/Yusuke_Akada_Jupyter_Notebook-master/file\")\n",
    "\n",
    "filename = input_file\n",
    "print(filename)"
   ]
  },
  {
   "cell_type": "markdown",
   "metadata": {},
   "source": [
    "column_names = ['実績月','入会申込番号','直近３ケ月買物利用金額','直近３ケ月全体利用金額','年令','性別',\n",
    "                '都道府県名','顧客状況コ－ド','マイペ設定','DM希望店','カード券種名','カ－ド加入日','初回利用日',\n",
    "                'あとからリボ申込有無コード','Weｂ明細有無コード','解約','入会チャネル']"
   ]
  },
  {
   "cell_type": "code",
   "execution_count": 5,
   "metadata": {},
   "outputs": [
    {
     "data": {
      "text/html": [
       "<div>\n",
       "<style scoped>\n",
       "    .dataframe tbody tr th:only-of-type {\n",
       "        vertical-align: middle;\n",
       "    }\n",
       "\n",
       "    .dataframe tbody tr th {\n",
       "        vertical-align: top;\n",
       "    }\n",
       "\n",
       "    .dataframe thead th {\n",
       "        text-align: right;\n",
       "    }\n",
       "</style>\n",
       "<table border=\"1\" class=\"dataframe\">\n",
       "  <thead>\n",
       "    <tr style=\"text-align: right;\">\n",
       "      <th></th>\n",
       "      <th>実績月</th>\n",
       "      <th>入会申込番号</th>\n",
       "      <th>直近３ケ月買物利用金額</th>\n",
       "      <th>直近３ケ月全体利用金額</th>\n",
       "      <th>年令</th>\n",
       "      <th>性別</th>\n",
       "      <th>都道府県名</th>\n",
       "      <th>顧客状況コ－ド</th>\n",
       "      <th>マイペ設定</th>\n",
       "      <th>DM希望店</th>\n",
       "      <th>カード券種名</th>\n",
       "      <th>カ－ド加入日</th>\n",
       "      <th>初回利用日</th>\n",
       "      <th>あとからリボ申込有無コード</th>\n",
       "      <th>Weｂ明細有無コード</th>\n",
       "      <th>解約</th>\n",
       "      <th>入会チャネル</th>\n",
       "    </tr>\n",
       "  </thead>\n",
       "  <tbody>\n",
       "    <tr>\n",
       "      <td>0</td>\n",
       "      <td>201910</td>\n",
       "      <td>155051921422628</td>\n",
       "      <td>910</td>\n",
       "      <td>910</td>\n",
       "      <td>77</td>\n",
       "      <td>男性</td>\n",
       "      <td>兵庫県</td>\n",
       "      <td>0</td>\n",
       "      <td>0</td>\n",
       "      <td>Ｄ_神戸店</td>\n",
       "      <td>大丸松坂屋VISAゴールド</td>\n",
       "      <td>20190801</td>\n",
       "      <td>20190816</td>\n",
       "      <td>1</td>\n",
       "      <td>1</td>\n",
       "      <td>0</td>\n",
       "      <td>オンライン</td>\n",
       "    </tr>\n",
       "    <tr>\n",
       "      <td>1</td>\n",
       "      <td>201910</td>\n",
       "      <td>155051921427056</td>\n",
       "      <td>910</td>\n",
       "      <td>910</td>\n",
       "      <td>77</td>\n",
       "      <td>男性</td>\n",
       "      <td>兵庫県</td>\n",
       "      <td>0</td>\n",
       "      <td>0</td>\n",
       "      <td>Ｄ_神戸店</td>\n",
       "      <td>大丸松坂屋VISAゴールド</td>\n",
       "      <td>20190801</td>\n",
       "      <td>20190816</td>\n",
       "      <td>1</td>\n",
       "      <td>1</td>\n",
       "      <td>0</td>\n",
       "      <td>オンライン</td>\n",
       "    </tr>\n",
       "    <tr>\n",
       "      <td>2</td>\n",
       "      <td>201910</td>\n",
       "      <td>155051921427064</td>\n",
       "      <td>910</td>\n",
       "      <td>910</td>\n",
       "      <td>77</td>\n",
       "      <td>男性</td>\n",
       "      <td>兵庫県</td>\n",
       "      <td>0</td>\n",
       "      <td>0</td>\n",
       "      <td>Ｄ_神戸店</td>\n",
       "      <td>大丸松坂屋VISAゴールド</td>\n",
       "      <td>20190801</td>\n",
       "      <td>20190816</td>\n",
       "      <td>1</td>\n",
       "      <td>1</td>\n",
       "      <td>0</td>\n",
       "      <td>オンライン</td>\n",
       "    </tr>\n",
       "    <tr>\n",
       "      <td>3</td>\n",
       "      <td>201910</td>\n",
       "      <td>155193016401040</td>\n",
       "      <td>594</td>\n",
       "      <td>594</td>\n",
       "      <td>52</td>\n",
       "      <td>女性</td>\n",
       "      <td>大阪府</td>\n",
       "      <td>0</td>\n",
       "      <td>0</td>\n",
       "      <td>Ｄ_心斎橋店</td>\n",
       "      <td>大丸松坂屋VISAゴールド</td>\n",
       "      <td>20190801</td>\n",
       "      <td>20190918</td>\n",
       "      <td>0</td>\n",
       "      <td>1</td>\n",
       "      <td>0</td>\n",
       "      <td>店頭タブレット</td>\n",
       "    </tr>\n",
       "    <tr>\n",
       "      <td>4</td>\n",
       "      <td>201910</td>\n",
       "      <td>155193006218453</td>\n",
       "      <td>151</td>\n",
       "      <td>151</td>\n",
       "      <td>46</td>\n",
       "      <td>女性</td>\n",
       "      <td>兵庫県</td>\n",
       "      <td>0</td>\n",
       "      <td>0</td>\n",
       "      <td>Ｄ_神戸店</td>\n",
       "      <td>大丸松坂屋VISAゴールド</td>\n",
       "      <td>20190802</td>\n",
       "      <td>20190818</td>\n",
       "      <td>0</td>\n",
       "      <td>0</td>\n",
       "      <td>0</td>\n",
       "      <td>店頭タブレット</td>\n",
       "    </tr>\n",
       "  </tbody>\n",
       "</table>\n",
       "</div>"
      ],
      "text/plain": [
       "      実績月           入会申込番号  直近３ケ月買物利用金額  直近３ケ月全体利用金額  年令  性別 都道府県名 顧客状況コ－ド  \\\n",
       "0  201910  155051921422628          910          910  77  男性   兵庫県       0   \n",
       "1  201910  155051921427056          910          910  77  男性   兵庫県       0   \n",
       "2  201910  155051921427064          910          910  77  男性   兵庫県       0   \n",
       "3  201910  155193016401040          594          594  52  女性   大阪府       0   \n",
       "4  201910  155193006218453          151          151  46  女性   兵庫県       0   \n",
       "\n",
       "   マイペ設定   DM希望店         カード券種名    カ－ド加入日     初回利用日  あとからリボ申込有無コード  \\\n",
       "0      0   Ｄ_神戸店  大丸松坂屋VISAゴールド  20190801  20190816              1   \n",
       "1      0   Ｄ_神戸店  大丸松坂屋VISAゴールド  20190801  20190816              1   \n",
       "2      0   Ｄ_神戸店  大丸松坂屋VISAゴールド  20190801  20190816              1   \n",
       "3      0  Ｄ_心斎橋店  大丸松坂屋VISAゴールド  20190801  20190918              0   \n",
       "4      0   Ｄ_神戸店  大丸松坂屋VISAゴールド  20190802  20190818              0   \n",
       "\n",
       "   Weｂ明細有無コード  解約   入会チャネル  \n",
       "0           1   0    オンライン  \n",
       "1           1   0    オンライン  \n",
       "2           1   0    オンライン  \n",
       "3           1   0  店頭タブレット  \n",
       "4           0   0  店頭タブレット  "
      ]
     },
     "execution_count": 5,
     "metadata": {},
     "output_type": "execute_result"
    }
   ],
   "source": [
    "df = pd.read_excel(data_dir/f\"{filename}\")\n",
    "df.head()"
   ]
  },
  {
   "cell_type": "code",
   "execution_count": 6,
   "metadata": {
    "scrolled": false
   },
   "outputs": [
    {
     "name": "stdout",
     "output_type": "stream",
     "text": [
      "(63197, 17)\n",
      "RangeIndex(start=0, stop=63197, step=1)\n",
      "Index(['実績月', '入会申込番号', '直近３ケ月買物利用金額', '直近３ケ月全体利用金額', '年令', '性別', '都道府県名',\n",
      "       '顧客状況コ－ド', 'マイペ設定', 'DM希望店', 'カード券種名', 'カ－ド加入日', '初回利用日',\n",
      "       'あとからリボ申込有無コード', 'Weｂ明細有無コード', '解約', '入会チャネル'],\n",
      "      dtype='object')\n",
      "実績月               int64\n",
      "入会申込番号            int64\n",
      "直近３ケ月買物利用金額       int64\n",
      "直近３ケ月全体利用金額       int64\n",
      "年令                int64\n",
      "性別               object\n",
      "都道府県名            object\n",
      "顧客状況コ－ド          object\n",
      "マイペ設定             int64\n",
      "DM希望店            object\n",
      "カード券種名           object\n",
      "カ－ド加入日            int64\n",
      "初回利用日             int64\n",
      "あとからリボ申込有無コード     int64\n",
      "Weｂ明細有無コード        int64\n",
      "解約                int64\n",
      "入会チャネル           object\n",
      "dtype: object\n"
     ]
    }
   ],
   "source": [
    "print(df.shape)\n",
    "print(df.index)\n",
    "print(df.columns)\n",
    "print(df.dtypes)"
   ]
  },
  {
   "cell_type": "code",
   "execution_count": 7,
   "metadata": {
    "scrolled": true
   },
   "outputs": [
    {
     "data": {
      "text/html": [
       "<div>\n",
       "<style scoped>\n",
       "    .dataframe tbody tr th:only-of-type {\n",
       "        vertical-align: middle;\n",
       "    }\n",
       "\n",
       "    .dataframe tbody tr th {\n",
       "        vertical-align: top;\n",
       "    }\n",
       "\n",
       "    .dataframe thead th {\n",
       "        text-align: right;\n",
       "    }\n",
       "</style>\n",
       "<table border=\"1\" class=\"dataframe\">\n",
       "  <thead>\n",
       "    <tr style=\"text-align: right;\">\n",
       "      <th></th>\n",
       "      <th>実績月</th>\n",
       "      <th>入会申込番号</th>\n",
       "      <th>直近３ケ月買物利用金額</th>\n",
       "      <th>直近３ケ月全体利用金額</th>\n",
       "      <th>年令</th>\n",
       "      <th>性別</th>\n",
       "      <th>都道府県名</th>\n",
       "      <th>顧客状況コ－ド</th>\n",
       "      <th>マイペ設定</th>\n",
       "      <th>DM希望店</th>\n",
       "      <th>カード券種名</th>\n",
       "      <th>カ－ド加入日</th>\n",
       "      <th>初回利用日</th>\n",
       "      <th>あとからリボ申込有無コード</th>\n",
       "      <th>Weｂ明細有無コード</th>\n",
       "      <th>解約</th>\n",
       "      <th>入会チャネル</th>\n",
       "      <th>カ－ド加入年</th>\n",
       "      <th>カ－ド加入月</th>\n",
       "    </tr>\n",
       "  </thead>\n",
       "  <tbody>\n",
       "    <tr>\n",
       "      <td>0</td>\n",
       "      <td>201910</td>\n",
       "      <td>155051921422628</td>\n",
       "      <td>910</td>\n",
       "      <td>910</td>\n",
       "      <td>77</td>\n",
       "      <td>男性</td>\n",
       "      <td>兵庫県</td>\n",
       "      <td>0</td>\n",
       "      <td>0</td>\n",
       "      <td>Ｄ_神戸店</td>\n",
       "      <td>大丸松坂屋VISAゴールド</td>\n",
       "      <td>2019-08-01</td>\n",
       "      <td>20190816</td>\n",
       "      <td>1</td>\n",
       "      <td>1</td>\n",
       "      <td>0</td>\n",
       "      <td>オンライン</td>\n",
       "      <td>2019</td>\n",
       "      <td>8</td>\n",
       "    </tr>\n",
       "    <tr>\n",
       "      <td>1</td>\n",
       "      <td>201910</td>\n",
       "      <td>155051921427056</td>\n",
       "      <td>910</td>\n",
       "      <td>910</td>\n",
       "      <td>77</td>\n",
       "      <td>男性</td>\n",
       "      <td>兵庫県</td>\n",
       "      <td>0</td>\n",
       "      <td>0</td>\n",
       "      <td>Ｄ_神戸店</td>\n",
       "      <td>大丸松坂屋VISAゴールド</td>\n",
       "      <td>2019-08-01</td>\n",
       "      <td>20190816</td>\n",
       "      <td>1</td>\n",
       "      <td>1</td>\n",
       "      <td>0</td>\n",
       "      <td>オンライン</td>\n",
       "      <td>2019</td>\n",
       "      <td>8</td>\n",
       "    </tr>\n",
       "    <tr>\n",
       "      <td>2</td>\n",
       "      <td>201910</td>\n",
       "      <td>155051921427064</td>\n",
       "      <td>910</td>\n",
       "      <td>910</td>\n",
       "      <td>77</td>\n",
       "      <td>男性</td>\n",
       "      <td>兵庫県</td>\n",
       "      <td>0</td>\n",
       "      <td>0</td>\n",
       "      <td>Ｄ_神戸店</td>\n",
       "      <td>大丸松坂屋VISAゴールド</td>\n",
       "      <td>2019-08-01</td>\n",
       "      <td>20190816</td>\n",
       "      <td>1</td>\n",
       "      <td>1</td>\n",
       "      <td>0</td>\n",
       "      <td>オンライン</td>\n",
       "      <td>2019</td>\n",
       "      <td>8</td>\n",
       "    </tr>\n",
       "    <tr>\n",
       "      <td>3</td>\n",
       "      <td>201910</td>\n",
       "      <td>155193016401040</td>\n",
       "      <td>594</td>\n",
       "      <td>594</td>\n",
       "      <td>52</td>\n",
       "      <td>女性</td>\n",
       "      <td>大阪府</td>\n",
       "      <td>0</td>\n",
       "      <td>0</td>\n",
       "      <td>Ｄ_心斎橋店</td>\n",
       "      <td>大丸松坂屋VISAゴールド</td>\n",
       "      <td>2019-08-01</td>\n",
       "      <td>20190918</td>\n",
       "      <td>0</td>\n",
       "      <td>1</td>\n",
       "      <td>0</td>\n",
       "      <td>店頭タブレット</td>\n",
       "      <td>2019</td>\n",
       "      <td>8</td>\n",
       "    </tr>\n",
       "    <tr>\n",
       "      <td>4</td>\n",
       "      <td>201910</td>\n",
       "      <td>155193006218453</td>\n",
       "      <td>151</td>\n",
       "      <td>151</td>\n",
       "      <td>46</td>\n",
       "      <td>女性</td>\n",
       "      <td>兵庫県</td>\n",
       "      <td>0</td>\n",
       "      <td>0</td>\n",
       "      <td>Ｄ_神戸店</td>\n",
       "      <td>大丸松坂屋VISAゴールド</td>\n",
       "      <td>2019-08-02</td>\n",
       "      <td>20190818</td>\n",
       "      <td>0</td>\n",
       "      <td>0</td>\n",
       "      <td>0</td>\n",
       "      <td>店頭タブレット</td>\n",
       "      <td>2019</td>\n",
       "      <td>8</td>\n",
       "    </tr>\n",
       "  </tbody>\n",
       "</table>\n",
       "</div>"
      ],
      "text/plain": [
       "      実績月           入会申込番号  直近３ケ月買物利用金額  直近３ケ月全体利用金額  年令  性別 都道府県名 顧客状況コ－ド  \\\n",
       "0  201910  155051921422628          910          910  77  男性   兵庫県       0   \n",
       "1  201910  155051921427056          910          910  77  男性   兵庫県       0   \n",
       "2  201910  155051921427064          910          910  77  男性   兵庫県       0   \n",
       "3  201910  155193016401040          594          594  52  女性   大阪府       0   \n",
       "4  201910  155193006218453          151          151  46  女性   兵庫県       0   \n",
       "\n",
       "   マイペ設定   DM希望店         カード券種名     カ－ド加入日     初回利用日  あとからリボ申込有無コード  \\\n",
       "0      0   Ｄ_神戸店  大丸松坂屋VISAゴールド 2019-08-01  20190816              1   \n",
       "1      0   Ｄ_神戸店  大丸松坂屋VISAゴールド 2019-08-01  20190816              1   \n",
       "2      0   Ｄ_神戸店  大丸松坂屋VISAゴールド 2019-08-01  20190816              1   \n",
       "3      0  Ｄ_心斎橋店  大丸松坂屋VISAゴールド 2019-08-01  20190918              0   \n",
       "4      0   Ｄ_神戸店  大丸松坂屋VISAゴールド 2019-08-02  20190818              0   \n",
       "\n",
       "   Weｂ明細有無コード  解約   入会チャネル  カ－ド加入年  カ－ド加入月  \n",
       "0           1   0    オンライン    2019       8  \n",
       "1           1   0    オンライン    2019       8  \n",
       "2           1   0    オンライン    2019       8  \n",
       "3           1   0  店頭タブレット    2019       8  \n",
       "4           0   0  店頭タブレット    2019       8  "
      ]
     },
     "execution_count": 7,
     "metadata": {},
     "output_type": "execute_result"
    }
   ],
   "source": [
    "df['カ－ド加入日'] = pd.to_datetime(df['カ－ド加入日'], format = '%Y%m%d')\n",
    "df['カ－ド加入年'] = df['カ－ド加入日'].dt.year\n",
    "df['カ－ド加入月'] = df['カ－ド加入日'].dt.month\n",
    "df.head()"
   ]
  },
  {
   "cell_type": "code",
   "execution_count": 8,
   "metadata": {},
   "outputs": [
    {
     "data": {
      "text/plain": [
       "array(['オンライン', '店頭タブレット', '郵送'], dtype=object)"
      ]
     },
     "execution_count": 8,
     "metadata": {},
     "output_type": "execute_result"
    }
   ],
   "source": [
    "df['入会チャネル'].unique()"
   ]
  },
  {
   "cell_type": "markdown",
   "metadata": {
    "scrolled": true
   },
   "source": [
    "df[df['入会チャネル']=='オンライン'].head()"
   ]
  },
  {
   "cell_type": "code",
   "execution_count": 9,
   "metadata": {},
   "outputs": [
    {
     "data": {
      "text/plain": [
       "array([201910, 202003], dtype=int64)"
      ]
     },
     "execution_count": 9,
     "metadata": {},
     "output_type": "execute_result"
    }
   ],
   "source": [
    "df['実績月'].unique()"
   ]
  },
  {
   "cell_type": "markdown",
   "metadata": {},
   "source": [
    "df = df[df['実績月'] == 202003]\n",
    "print(df.shape)"
   ]
  },
  {
   "cell_type": "code",
   "execution_count": 10,
   "metadata": {
    "scrolled": true
   },
   "outputs": [
    {
     "name": "stdout",
     "output_type": "stream",
     "text": [
      "False\n"
     ]
    }
   ],
   "source": [
    "#入会申込番号の重複がないかチェック\n",
    "print(len(df) == len(df['入会申込番号'].unique()))"
   ]
  },
  {
   "cell_type": "code",
   "execution_count": 60,
   "metadata": {},
   "outputs": [],
   "source": [
    "#重複削除\n",
    "df_dup = df.drop_duplicates(subset=['入会申込番号','実績月'])"
   ]
  },
  {
   "cell_type": "code",
   "execution_count": 21,
   "metadata": {},
   "outputs": [
    {
     "data": {
      "text/plain": [
       "54720"
      ]
     },
     "execution_count": 21,
     "metadata": {},
     "output_type": "execute_result"
    }
   ],
   "source": [
    "df_dup.shape[0]"
   ]
  },
  {
   "cell_type": "code",
   "execution_count": 13,
   "metadata": {
    "scrolled": true
   },
   "outputs": [
    {
     "data": {
      "text/plain": [
       "実績月              0\n",
       "入会申込番号           0\n",
       "直近３ケ月買物利用金額      0\n",
       "直近３ケ月全体利用金額      0\n",
       "年令               0\n",
       "性別               0\n",
       "都道府県名            0\n",
       "顧客状況コ－ド          0\n",
       "マイペ設定            0\n",
       "DM希望店            0\n",
       "カード券種名           0\n",
       "カ－ド加入日           0\n",
       "初回利用日            0\n",
       "あとからリボ申込有無コード    0\n",
       "Weｂ明細有無コード       0\n",
       "解約               0\n",
       "入会チャネル           0\n",
       "カ－ド加入年           0\n",
       "カ－ド加入月           0\n",
       "dtype: int64"
      ]
     },
     "execution_count": 13,
     "metadata": {},
     "output_type": "execute_result"
    }
   ],
   "source": [
    "#欠損データがないかチェック\n",
    "df_dup.isnull().sum()"
   ]
  },
  {
   "cell_type": "code",
   "execution_count": 61,
   "metadata": {},
   "outputs": [],
   "source": [
    "#SettingWithCopyWarning回避対策\n",
    "df_dup2 = df_dup.drop(columns=['あとからリボ申込有無コード'])\n",
    "df_dup2['初回利用日フラグ'] = df_dup2['初回利用日'].apply(lambda x : \"1\" if x > 0 else \"0\")"
   ]
  },
  {
   "cell_type": "code",
   "execution_count": 62,
   "metadata": {},
   "outputs": [
    {
     "data": {
      "text/html": [
       "<div>\n",
       "<style scoped>\n",
       "    .dataframe tbody tr th:only-of-type {\n",
       "        vertical-align: middle;\n",
       "    }\n",
       "\n",
       "    .dataframe tbody tr th {\n",
       "        vertical-align: top;\n",
       "    }\n",
       "\n",
       "    .dataframe thead th {\n",
       "        text-align: right;\n",
       "    }\n",
       "</style>\n",
       "<table border=\"1\" class=\"dataframe\">\n",
       "  <thead>\n",
       "    <tr style=\"text-align: right;\">\n",
       "      <th></th>\n",
       "      <th>実績月</th>\n",
       "      <th>入会申込番号</th>\n",
       "      <th>直近３ケ月買物利用金額</th>\n",
       "      <th>直近３ケ月全体利用金額</th>\n",
       "      <th>年令</th>\n",
       "      <th>性別</th>\n",
       "      <th>都道府県名</th>\n",
       "      <th>顧客状況コ－ド</th>\n",
       "      <th>マイペ設定</th>\n",
       "      <th>DM希望店</th>\n",
       "      <th>カード券種名</th>\n",
       "      <th>カ－ド加入日</th>\n",
       "      <th>初回利用日</th>\n",
       "      <th>Weｂ明細有無コード</th>\n",
       "      <th>解約</th>\n",
       "      <th>入会チャネル</th>\n",
       "      <th>カ－ド加入年</th>\n",
       "      <th>カ－ド加入月</th>\n",
       "      <th>初回利用日フラグ</th>\n",
       "    </tr>\n",
       "  </thead>\n",
       "  <tbody>\n",
       "    <tr>\n",
       "      <td>0</td>\n",
       "      <td>201910</td>\n",
       "      <td>155051921422628</td>\n",
       "      <td>910</td>\n",
       "      <td>910</td>\n",
       "      <td>77</td>\n",
       "      <td>男性</td>\n",
       "      <td>兵庫県</td>\n",
       "      <td>0</td>\n",
       "      <td>0</td>\n",
       "      <td>Ｄ_神戸店</td>\n",
       "      <td>大丸松坂屋VISAゴールド</td>\n",
       "      <td>2019-08-01</td>\n",
       "      <td>20190816</td>\n",
       "      <td>1</td>\n",
       "      <td>0</td>\n",
       "      <td>オンライン</td>\n",
       "      <td>2019</td>\n",
       "      <td>8</td>\n",
       "      <td>1</td>\n",
       "    </tr>\n",
       "    <tr>\n",
       "      <td>1</td>\n",
       "      <td>201910</td>\n",
       "      <td>155051921427056</td>\n",
       "      <td>910</td>\n",
       "      <td>910</td>\n",
       "      <td>77</td>\n",
       "      <td>男性</td>\n",
       "      <td>兵庫県</td>\n",
       "      <td>0</td>\n",
       "      <td>0</td>\n",
       "      <td>Ｄ_神戸店</td>\n",
       "      <td>大丸松坂屋VISAゴールド</td>\n",
       "      <td>2019-08-01</td>\n",
       "      <td>20190816</td>\n",
       "      <td>1</td>\n",
       "      <td>0</td>\n",
       "      <td>オンライン</td>\n",
       "      <td>2019</td>\n",
       "      <td>8</td>\n",
       "      <td>1</td>\n",
       "    </tr>\n",
       "    <tr>\n",
       "      <td>2</td>\n",
       "      <td>201910</td>\n",
       "      <td>155051921427064</td>\n",
       "      <td>910</td>\n",
       "      <td>910</td>\n",
       "      <td>77</td>\n",
       "      <td>男性</td>\n",
       "      <td>兵庫県</td>\n",
       "      <td>0</td>\n",
       "      <td>0</td>\n",
       "      <td>Ｄ_神戸店</td>\n",
       "      <td>大丸松坂屋VISAゴールド</td>\n",
       "      <td>2019-08-01</td>\n",
       "      <td>20190816</td>\n",
       "      <td>1</td>\n",
       "      <td>0</td>\n",
       "      <td>オンライン</td>\n",
       "      <td>2019</td>\n",
       "      <td>8</td>\n",
       "      <td>1</td>\n",
       "    </tr>\n",
       "    <tr>\n",
       "      <td>3</td>\n",
       "      <td>201910</td>\n",
       "      <td>155193016401040</td>\n",
       "      <td>594</td>\n",
       "      <td>594</td>\n",
       "      <td>52</td>\n",
       "      <td>女性</td>\n",
       "      <td>大阪府</td>\n",
       "      <td>0</td>\n",
       "      <td>0</td>\n",
       "      <td>Ｄ_心斎橋店</td>\n",
       "      <td>大丸松坂屋VISAゴールド</td>\n",
       "      <td>2019-08-01</td>\n",
       "      <td>20190918</td>\n",
       "      <td>1</td>\n",
       "      <td>0</td>\n",
       "      <td>店頭タブレット</td>\n",
       "      <td>2019</td>\n",
       "      <td>8</td>\n",
       "      <td>1</td>\n",
       "    </tr>\n",
       "    <tr>\n",
       "      <td>4</td>\n",
       "      <td>201910</td>\n",
       "      <td>155193006218453</td>\n",
       "      <td>151</td>\n",
       "      <td>151</td>\n",
       "      <td>46</td>\n",
       "      <td>女性</td>\n",
       "      <td>兵庫県</td>\n",
       "      <td>0</td>\n",
       "      <td>0</td>\n",
       "      <td>Ｄ_神戸店</td>\n",
       "      <td>大丸松坂屋VISAゴールド</td>\n",
       "      <td>2019-08-02</td>\n",
       "      <td>20190818</td>\n",
       "      <td>0</td>\n",
       "      <td>0</td>\n",
       "      <td>店頭タブレット</td>\n",
       "      <td>2019</td>\n",
       "      <td>8</td>\n",
       "      <td>1</td>\n",
       "    </tr>\n",
       "  </tbody>\n",
       "</table>\n",
       "</div>"
      ],
      "text/plain": [
       "      実績月           入会申込番号  直近３ケ月買物利用金額  直近３ケ月全体利用金額  年令  性別 都道府県名 顧客状況コ－ド  \\\n",
       "0  201910  155051921422628          910          910  77  男性   兵庫県       0   \n",
       "1  201910  155051921427056          910          910  77  男性   兵庫県       0   \n",
       "2  201910  155051921427064          910          910  77  男性   兵庫県       0   \n",
       "3  201910  155193016401040          594          594  52  女性   大阪府       0   \n",
       "4  201910  155193006218453          151          151  46  女性   兵庫県       0   \n",
       "\n",
       "   マイペ設定   DM希望店         カード券種名     カ－ド加入日     初回利用日  Weｂ明細有無コード  解約   入会チャネル  \\\n",
       "0      0   Ｄ_神戸店  大丸松坂屋VISAゴールド 2019-08-01  20190816           1   0    オンライン   \n",
       "1      0   Ｄ_神戸店  大丸松坂屋VISAゴールド 2019-08-01  20190816           1   0    オンライン   \n",
       "2      0   Ｄ_神戸店  大丸松坂屋VISAゴールド 2019-08-01  20190816           1   0    オンライン   \n",
       "3      0  Ｄ_心斎橋店  大丸松坂屋VISAゴールド 2019-08-01  20190918           1   0  店頭タブレット   \n",
       "4      0   Ｄ_神戸店  大丸松坂屋VISAゴールド 2019-08-02  20190818           0   0  店頭タブレット   \n",
       "\n",
       "   カ－ド加入年  カ－ド加入月 初回利用日フラグ  \n",
       "0    2019       8        1  \n",
       "1    2019       8        1  \n",
       "2    2019       8        1  \n",
       "3    2019       8        1  \n",
       "4    2019       8        1  "
      ]
     },
     "execution_count": 62,
     "metadata": {},
     "output_type": "execute_result"
    }
   ],
   "source": [
    "#利用無し客を置き換え\n",
    "df_dup2.loc[df_dup2['初回利用日'] <= 0, '初回利用日'] = 20301231\n",
    "df_dup2.head()"
   ]
  },
  {
   "cell_type": "code",
   "execution_count": null,
   "metadata": {},
   "outputs": [],
   "source": []
  },
  {
   "cell_type": "markdown",
   "metadata": {},
   "source": [
    "#df_dup[['カ－ド加入日','初回利用日']] = df_dup[['カ－ド加入日','初回利用日']].applymap(str).applymap(lambda s: \"{}/{}/{}\".format(s[0:4],s[4:6],s[6:]))"
   ]
  },
  {
   "cell_type": "markdown",
   "metadata": {},
   "source": [
    "#df_dup['カ－ド加入日'] = pd.to_datetime(df_dup['カ－ド加入日'], format='%Y-%m-%d')"
   ]
  },
  {
   "cell_type": "code",
   "execution_count": 63,
   "metadata": {},
   "outputs": [
    {
     "data": {
      "text/html": [
       "<div>\n",
       "<style scoped>\n",
       "    .dataframe tbody tr th:only-of-type {\n",
       "        vertical-align: middle;\n",
       "    }\n",
       "\n",
       "    .dataframe tbody tr th {\n",
       "        vertical-align: top;\n",
       "    }\n",
       "\n",
       "    .dataframe thead th {\n",
       "        text-align: right;\n",
       "    }\n",
       "</style>\n",
       "<table border=\"1\" class=\"dataframe\">\n",
       "  <thead>\n",
       "    <tr style=\"text-align: right;\">\n",
       "      <th></th>\n",
       "      <th>実績月</th>\n",
       "      <th>入会申込番号</th>\n",
       "      <th>直近３ケ月買物利用金額</th>\n",
       "      <th>直近３ケ月全体利用金額</th>\n",
       "      <th>年令</th>\n",
       "      <th>性別</th>\n",
       "      <th>都道府県名</th>\n",
       "      <th>顧客状況コ－ド</th>\n",
       "      <th>マイペ設定</th>\n",
       "      <th>DM希望店</th>\n",
       "      <th>カード券種名</th>\n",
       "      <th>カ－ド加入日</th>\n",
       "      <th>初回利用日</th>\n",
       "      <th>Weｂ明細有無コード</th>\n",
       "      <th>解約</th>\n",
       "      <th>入会チャネル</th>\n",
       "      <th>カ－ド加入年</th>\n",
       "      <th>カ－ド加入月</th>\n",
       "      <th>初回利用日フラグ</th>\n",
       "    </tr>\n",
       "  </thead>\n",
       "  <tbody>\n",
       "    <tr>\n",
       "      <td>0</td>\n",
       "      <td>201910</td>\n",
       "      <td>155051921422628</td>\n",
       "      <td>910</td>\n",
       "      <td>910</td>\n",
       "      <td>77</td>\n",
       "      <td>男性</td>\n",
       "      <td>兵庫県</td>\n",
       "      <td>0</td>\n",
       "      <td>0</td>\n",
       "      <td>Ｄ_神戸店</td>\n",
       "      <td>大丸松坂屋VISAゴールド</td>\n",
       "      <td>2019-08-01</td>\n",
       "      <td>2019-08-16</td>\n",
       "      <td>1</td>\n",
       "      <td>0</td>\n",
       "      <td>オンライン</td>\n",
       "      <td>2019</td>\n",
       "      <td>8</td>\n",
       "      <td>1</td>\n",
       "    </tr>\n",
       "    <tr>\n",
       "      <td>1</td>\n",
       "      <td>201910</td>\n",
       "      <td>155051921427056</td>\n",
       "      <td>910</td>\n",
       "      <td>910</td>\n",
       "      <td>77</td>\n",
       "      <td>男性</td>\n",
       "      <td>兵庫県</td>\n",
       "      <td>0</td>\n",
       "      <td>0</td>\n",
       "      <td>Ｄ_神戸店</td>\n",
       "      <td>大丸松坂屋VISAゴールド</td>\n",
       "      <td>2019-08-01</td>\n",
       "      <td>2019-08-16</td>\n",
       "      <td>1</td>\n",
       "      <td>0</td>\n",
       "      <td>オンライン</td>\n",
       "      <td>2019</td>\n",
       "      <td>8</td>\n",
       "      <td>1</td>\n",
       "    </tr>\n",
       "    <tr>\n",
       "      <td>2</td>\n",
       "      <td>201910</td>\n",
       "      <td>155051921427064</td>\n",
       "      <td>910</td>\n",
       "      <td>910</td>\n",
       "      <td>77</td>\n",
       "      <td>男性</td>\n",
       "      <td>兵庫県</td>\n",
       "      <td>0</td>\n",
       "      <td>0</td>\n",
       "      <td>Ｄ_神戸店</td>\n",
       "      <td>大丸松坂屋VISAゴールド</td>\n",
       "      <td>2019-08-01</td>\n",
       "      <td>2019-08-16</td>\n",
       "      <td>1</td>\n",
       "      <td>0</td>\n",
       "      <td>オンライン</td>\n",
       "      <td>2019</td>\n",
       "      <td>8</td>\n",
       "      <td>1</td>\n",
       "    </tr>\n",
       "    <tr>\n",
       "      <td>3</td>\n",
       "      <td>201910</td>\n",
       "      <td>155193016401040</td>\n",
       "      <td>594</td>\n",
       "      <td>594</td>\n",
       "      <td>52</td>\n",
       "      <td>女性</td>\n",
       "      <td>大阪府</td>\n",
       "      <td>0</td>\n",
       "      <td>0</td>\n",
       "      <td>Ｄ_心斎橋店</td>\n",
       "      <td>大丸松坂屋VISAゴールド</td>\n",
       "      <td>2019-08-01</td>\n",
       "      <td>2019-09-18</td>\n",
       "      <td>1</td>\n",
       "      <td>0</td>\n",
       "      <td>店頭タブレット</td>\n",
       "      <td>2019</td>\n",
       "      <td>8</td>\n",
       "      <td>1</td>\n",
       "    </tr>\n",
       "    <tr>\n",
       "      <td>4</td>\n",
       "      <td>201910</td>\n",
       "      <td>155193006218453</td>\n",
       "      <td>151</td>\n",
       "      <td>151</td>\n",
       "      <td>46</td>\n",
       "      <td>女性</td>\n",
       "      <td>兵庫県</td>\n",
       "      <td>0</td>\n",
       "      <td>0</td>\n",
       "      <td>Ｄ_神戸店</td>\n",
       "      <td>大丸松坂屋VISAゴールド</td>\n",
       "      <td>2019-08-02</td>\n",
       "      <td>2019-08-18</td>\n",
       "      <td>0</td>\n",
       "      <td>0</td>\n",
       "      <td>店頭タブレット</td>\n",
       "      <td>2019</td>\n",
       "      <td>8</td>\n",
       "      <td>1</td>\n",
       "    </tr>\n",
       "  </tbody>\n",
       "</table>\n",
       "</div>"
      ],
      "text/plain": [
       "      実績月           入会申込番号  直近３ケ月買物利用金額  直近３ケ月全体利用金額  年令  性別 都道府県名 顧客状況コ－ド  \\\n",
       "0  201910  155051921422628          910          910  77  男性   兵庫県       0   \n",
       "1  201910  155051921427056          910          910  77  男性   兵庫県       0   \n",
       "2  201910  155051921427064          910          910  77  男性   兵庫県       0   \n",
       "3  201910  155193016401040          594          594  52  女性   大阪府       0   \n",
       "4  201910  155193006218453          151          151  46  女性   兵庫県       0   \n",
       "\n",
       "   マイペ設定   DM希望店         カード券種名     カ－ド加入日      初回利用日  Weｂ明細有無コード  解約  \\\n",
       "0      0   Ｄ_神戸店  大丸松坂屋VISAゴールド 2019-08-01 2019-08-16           1   0   \n",
       "1      0   Ｄ_神戸店  大丸松坂屋VISAゴールド 2019-08-01 2019-08-16           1   0   \n",
       "2      0   Ｄ_神戸店  大丸松坂屋VISAゴールド 2019-08-01 2019-08-16           1   0   \n",
       "3      0  Ｄ_心斎橋店  大丸松坂屋VISAゴールド 2019-08-01 2019-09-18           1   0   \n",
       "4      0   Ｄ_神戸店  大丸松坂屋VISAゴールド 2019-08-02 2019-08-18           0   0   \n",
       "\n",
       "    入会チャネル  カ－ド加入年  カ－ド加入月 初回利用日フラグ  \n",
       "0    オンライン    2019       8        1  \n",
       "1    オンライン    2019       8        1  \n",
       "2    オンライン    2019       8        1  \n",
       "3  店頭タブレット    2019       8        1  \n",
       "4  店頭タブレット    2019       8        1  "
      ]
     },
     "execution_count": 63,
     "metadata": {},
     "output_type": "execute_result"
    }
   ],
   "source": [
    "df_dup2['初回利用日'] = pd.to_datetime(df_dup2['初回利用日'], format = '%Y%m%d').copy()\n",
    "df_dup2.head()"
   ]
  },
  {
   "cell_type": "markdown",
   "metadata": {},
   "source": [
    "df_dup['実績月'] = df_dup['実績月'] * 100 + 1"
   ]
  },
  {
   "cell_type": "markdown",
   "metadata": {},
   "source": [
    "df_dup['実績月'] = pd.to_datetime(df_dup['実績月'], format = '%Y%m%d')"
   ]
  },
  {
   "cell_type": "markdown",
   "metadata": {},
   "source": [
    "df_dup[['実績月2']] = df_dup[['実績月']].applymap(str).applymap(lambda s: \"{}/{}/{}\".format(s[0:4],s[4:6],s[6:]))"
   ]
  },
  {
   "cell_type": "markdown",
   "metadata": {},
   "source": [
    "df_dup['実績月2'] = pd.to_datetime(df_dup['実績月2'], format='%Y-%m-%d')"
   ]
  },
  {
   "cell_type": "markdown",
   "metadata": {},
   "source": [
    "df_dup = df_dup.drop(columns=['実績月'])"
   ]
  },
  {
   "cell_type": "markdown",
   "metadata": {},
   "source": [
    "集計"
   ]
  },
  {
   "cell_type": "code",
   "execution_count": 64,
   "metadata": {},
   "outputs": [],
   "source": [
    "#客数\n",
    "df_count = df_dup2.groupby(['実績月','入会チャネル','カ－ド加入年','カ－ド加入月','初回利用日フラグ'])['入会申込番号'].count()"
   ]
  },
  {
   "cell_type": "code",
   "execution_count": 65,
   "metadata": {},
   "outputs": [],
   "source": [
    "#金額\n",
    "df_amount= df_dup2.groupby(['実績月','入会チャネル','カ－ド加入年','カ－ド加入月','初回利用日フラグ'])['直近３ケ月全体利用金額'].sum()"
   ]
  },
  {
   "cell_type": "code",
   "execution_count": 66,
   "metadata": {},
   "outputs": [
    {
     "data": {
      "text/html": [
       "<div>\n",
       "<style scoped>\n",
       "    .dataframe tbody tr th:only-of-type {\n",
       "        vertical-align: middle;\n",
       "    }\n",
       "\n",
       "    .dataframe tbody tr th {\n",
       "        vertical-align: top;\n",
       "    }\n",
       "\n",
       "    .dataframe thead th {\n",
       "        text-align: right;\n",
       "    }\n",
       "</style>\n",
       "<table border=\"1\" class=\"dataframe\">\n",
       "  <thead>\n",
       "    <tr style=\"text-align: right;\">\n",
       "      <th></th>\n",
       "      <th></th>\n",
       "      <th></th>\n",
       "      <th></th>\n",
       "      <th></th>\n",
       "      <th>入会申込番号</th>\n",
       "      <th>直近３ケ月全体利用金額</th>\n",
       "    </tr>\n",
       "    <tr>\n",
       "      <th>実績月</th>\n",
       "      <th>入会チャネル</th>\n",
       "      <th>カ－ド加入年</th>\n",
       "      <th>カ－ド加入月</th>\n",
       "      <th>初回利用日フラグ</th>\n",
       "      <th></th>\n",
       "      <th></th>\n",
       "    </tr>\n",
       "  </thead>\n",
       "  <tbody>\n",
       "    <tr>\n",
       "      <td rowspan=\"5\" valign=\"top\">201910</td>\n",
       "      <td rowspan=\"5\" valign=\"top\">オンライン</td>\n",
       "      <td rowspan=\"5\" valign=\"top\">2019</td>\n",
       "      <td rowspan=\"2\" valign=\"top\">8</td>\n",
       "      <td>0</td>\n",
       "      <td>37</td>\n",
       "      <td>1768</td>\n",
       "    </tr>\n",
       "    <tr>\n",
       "      <td>1</td>\n",
       "      <td>90</td>\n",
       "      <td>19186</td>\n",
       "    </tr>\n",
       "    <tr>\n",
       "      <td rowspan=\"2\" valign=\"top\">9</td>\n",
       "      <td>0</td>\n",
       "      <td>60</td>\n",
       "      <td>80</td>\n",
       "    </tr>\n",
       "    <tr>\n",
       "      <td>1</td>\n",
       "      <td>81</td>\n",
       "      <td>12319</td>\n",
       "    </tr>\n",
       "    <tr>\n",
       "      <td>10</td>\n",
       "      <td>0</td>\n",
       "      <td>133</td>\n",
       "      <td>0</td>\n",
       "    </tr>\n",
       "  </tbody>\n",
       "</table>\n",
       "</div>"
      ],
      "text/plain": [
       "                                      入会申込番号  直近３ケ月全体利用金額\n",
       "実績月    入会チャネル カ－ド加入年 カ－ド加入月 初回利用日フラグ                     \n",
       "201910 オンライン  2019   8      0             37         1768\n",
       "                            1             90        19186\n",
       "                     9      0             60           80\n",
       "                            1             81        12319\n",
       "                     10     0            133            0"
      ]
     },
     "execution_count": 66,
     "metadata": {},
     "output_type": "execute_result"
    }
   ],
   "source": [
    "df_merge = pd.merge(df_count, df_amount, on=['実績月','入会チャネル','カ－ド加入年','カ－ド加入月','初回利用日フラグ'], how='inner')\n",
    "df_merge.head()"
   ]
  },
  {
   "cell_type": "code",
   "execution_count": 372,
   "metadata": {},
   "outputs": [],
   "source": [
    "df_merge.to_csv(\"C:/Users/yakad\\Documents/Yusuke_Akada_Jupyter_Notebook-master/file/shukei.csv\", header=True,encoding='utf-8-sig')"
   ]
  },
  {
   "cell_type": "code",
   "execution_count": null,
   "metadata": {},
   "outputs": [],
   "source": []
  },
  {
   "cell_type": "code",
   "execution_count": null,
   "metadata": {},
   "outputs": [],
   "source": [
    "#アフィリエイト先別に実績集計"
   ]
  },
  {
   "cell_type": "code",
   "execution_count": null,
   "metadata": {},
   "outputs": [],
   "source": []
  },
  {
   "cell_type": "code",
   "execution_count": null,
   "metadata": {},
   "outputs": [],
   "source": []
  },
  {
   "cell_type": "code",
   "execution_count": null,
   "metadata": {},
   "outputs": [],
   "source": []
  }
 ],
 "metadata": {
  "kernelspec": {
   "display_name": "Python 3",
   "language": "python",
   "name": "python3"
  },
  "language_info": {
   "codemirror_mode": {
    "name": "ipython",
    "version": 3
   },
   "file_extension": ".py",
   "mimetype": "text/x-python",
   "name": "python",
   "nbconvert_exporter": "python",
   "pygments_lexer": "ipython3",
   "version": "3.7.4"
  }
 },
 "nbformat": 4,
 "nbformat_minor": 2
}
