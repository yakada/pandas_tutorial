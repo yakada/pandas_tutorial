{
 "cells": [
  {
   "cell_type": "markdown",
   "metadata": {},
   "source": [
    "クロスデバイス　Geoとの併用"
   ]
  },
  {
   "cell_type": "code",
   "execution_count": 24,
   "metadata": {},
   "outputs": [],
   "source": [
    "# ライブラリimport\n",
    "import argparse\n",
    "import logging\n",
    "import os\n",
    "\n",
    "import pandas as pd\n",
    "from pandas import DataFrame\n",
    "import pandas.tseries.offsets as offsets\n",
    "import numpy as np\n",
    "from datetime import date, timedelta, time, datetime\n",
    "from tabulate import tabulate\n",
    "\n",
    "from itertools import product\n",
    "\n",
    "from ailab_tools.smn import ImpalaResource\n",
    "from ailab_tools.utils import GMail, GSheet\n",
    "\n",
    "from collections import OrderedDict\n",
    "\n",
    "import zipfile\n",
    "import glob\n",
    "\n",
    "import gc\n",
    "\n",
    "from ailab_tools.magics import slack_notify"
   ]
  },
  {
   "cell_type": "markdown",
   "metadata": {},
   "source": [
    "4646\t東日本旅客鉄道株式会社"
   ]
  },
  {
   "cell_type": "code",
   "execution_count": 25,
   "metadata": {},
   "outputs": [
    {
     "name": "stdout",
     "output_type": "stream",
     "text": [
      "190904\n"
     ]
    }
   ],
   "source": [
    "today_yymmdd = date.today().strftime(\"%y%m%d\")\n",
    "print(today_yymmdd)"
   ]
  },
  {
   "cell_type": "code",
   "execution_count": 26,
   "metadata": {},
   "outputs": [
    {
     "name": "stdout",
     "output_type": "stream",
     "text": [
      "segment.geo_locations_mindist_geo_segment_jr_higashinihon_190827\n"
     ]
    }
   ],
   "source": [
    "seed_table = \"segment.geo_locations_mindist_geo_segment_jr_higashinihon_190827\"\n",
    "print(seed_table)"
   ]
  },
  {
   "cell_type": "code",
   "execution_count": 27,
   "metadata": {},
   "outputs": [
    {
     "name": "stdout",
     "output_type": "stream",
     "text": [
      "segment.xd_geo_locations_mindist_geo_segment_jr_higashinihon_190904\n"
     ]
    }
   ],
   "source": [
    "uid_table = f\"segment.xd_geo_locations_mindist_geo_segment_jr_higashinihon_{today_yymmdd}\" #最終的にセグメントに使用するテーブル\n",
    "print(uid_table)"
   ]
  },
  {
   "cell_type": "code",
   "execution_count": 28,
   "metadata": {},
   "outputs": [],
   "source": [
    "xd_table = 'segment.drawbridge_device'"
   ]
  },
  {
   "cell_type": "code",
   "execution_count": 29,
   "metadata": {},
   "outputs": [
    {
     "name": "stderr",
     "output_type": "stream",
     "text": [
      "INFO:ailab_tools.smn.impala_client:loaded configuration file: /opt/anaconda3/lib/python3.7/site-packages/ailab_tools/config/ailab_tools_config.py\n",
      "INFO:ailab_tools.smn.impala_client:hosts : ['172.16.60.109']\n",
      "INFO:ailab_tools.smn.impala_client:impala_host : 172.16.60.109\n",
      "INFO:ailab_tools.smn.impala_client:impala_port : 21050\n",
      "INFO:ailab_tools.smn.impala_client:impala_user : vmspool\n",
      "INFO:ailab_tools.smn.impala_client:impala_password : \n",
      "INFO:ailab_tools.smn.impala_client:request_pool : vmspool\n",
      "INFO:ailab_tools.smn.impala_client:configuration : {'REQUEST_POOL': 'vmspool'}\n",
      "INFO:ailab_tools.smn.impala_resource:loaded configuration file: /opt/anaconda3/lib/python3.7/site-packages/ailab_tools/config/ailab_tools_config.py\n",
      "INFO:ailab_tools.smn.impala_resource:httpfs_host: hc3manager02.hc3pro\n",
      "INFO:ailab_tools.smn.impala_resource:httpfs_port: 14000\n",
      "INFO:impyla_service:Impala open connection OK. hostname = [172.16.60.109]\n",
      "INFO:impyla_service:New connection is opened.\n",
      "INFO:impyla_service:実行SQL: \n",
      "    select \n",
      "    distinct xd2.smn_uid\n",
      "    ,sd.place_name\n",
      "    ,sd.min_dist\n",
      "    ,sd.seg_info\n",
      "    ,xd2.device\n",
      "    from (select * from segment.geo_locations_mindist_geo_segment_jr_higashinihon_190827 where (seg_info = '5' AND min_dist < 3) OR (seg_info IN ('1', '2', '3', '4') AND min_dist < 1)) sd\n",
      "    left join segment.drawbridge_device xd\n",
      "    on sd.smn_uid = xd.smn_uid\n",
      "    left join segment.drawbridge_device xd2\n",
      "    on xd.drawbridge_consumer_id = xd2.drawbridge_consumer_id\n",
      "    where xd2.device in ('iphone'\n",
      "    ,'android_phone'\n",
      "    ,'windows_phone'\n",
      "    ,'windows_computer'\n",
      "    ,'linux_computer'\n",
      "    ,'mac'\n",
      "    ,'ipad'\n",
      "    ,'android_tablet'\n",
      "    ,'windows_tablet') \n",
      "    and sd.smn_uid <> xd2.smn_uid\n",
      "    \n",
      "INFO:impala.hiveserver2:Closing active operation\n",
      "INFO:impyla_service:Create empty table segment.xd_geo_locations_mindist_geo_segment_jr_higashinihon_190904\n",
      "INFO:impyla_service:実行SQL: \n",
      "            create table segment.xd_geo_locations_mindist_geo_segment_jr_higashinihon_190904\n",
      "            (smn_uid bigint, place_name string, min_dist double, seg_info string, device string)\n",
      "            \n",
      "            row format delimited fields terminated by \"\\t\"\n",
      "            lines terminated by \"\\n\"\n",
      "            \n",
      "INFO:impala.hiveserver2:Closing active operation\n",
      "INFO:impyla_service:Query finished\n",
      "INFO:hdfs.client:Instantiated <InsecureClient(url='http://hc3manager02.hc3pro:14000')>.\n",
      "INFO:hdfs.client:Uploading '/home/yusuke_akada/notebook/Yusuke_Akada_Jupyter_Notebook/ea39b641-ece4-487e-a548-1b49646c7d2e.tsv' to '/user/hive/warehouse/segment.db/xd_geo_locations_mindist_geo_segment_jr_higashinihon_190904'.\n",
      "INFO:hdfs.client:Listing '/user/hive/warehouse/segment.db/xd_geo_locations_mindist_geo_segment_jr_higashinihon_190904'.\n",
      "INFO:hdfs.client:Writing to '/user/hive/warehouse/segment.db/xd_geo_locations_mindist_geo_segment_jr_higashinihon_190904/ea39b641-ece4-487e-a548-1b49646c7d2e.tsv'.\n",
      "INFO:impyla_service:実行SQL: refresh segment.xd_geo_locations_mindist_geo_segment_jr_higashinihon_190904\n",
      "INFO:impala.hiveserver2:Closing active operation\n",
      "INFO:impyla_service:Connection is closed.\n"
     ]
    }
   ],
   "source": [
    "#XD拡張\n",
    "\n",
    "#f-string\n",
    "query = (\n",
    "    f\"\"\"\n",
    "    select \n",
    "    distinct xd2.smn_uid\n",
    "    ,sd.place_name\n",
    "    ,sd.min_dist\n",
    "    ,sd.seg_info\n",
    "    ,xd2.device\n",
    "    from (select * from {seed_table} where (seg_info = '5' AND min_dist < 3) OR (seg_info IN ('1', '2', '3', '4') AND min_dist < 1)) sd\n",
    "    left join {xd_table} xd\n",
    "    on sd.smn_uid = xd.smn_uid\n",
    "    left join {xd_table} xd2\n",
    "    on xd.drawbridge_consumer_id = xd2.drawbridge_consumer_id\n",
    "    where xd2.device in ('iphone'\n",
    "    ,'android_phone'\n",
    "    ,'windows_phone'\n",
    "    ,'windows_computer'\n",
    "    ,'linux_computer'\n",
    "    ,'mac'\n",
    "    ,'ipad'\n",
    "    ,'android_tablet'\n",
    "    ,'windows_tablet') \n",
    "    and sd.smn_uid <> xd2.smn_uid\n",
    "    \"\"\"\n",
    "    )\n",
    "with ImpalaResource(hosts=[\"172.16.60.109\"], port=21050, user='vmspool',\n",
    "                    request_pool='vmspool', httpfs_host='hc3manager02.hc3pro', httpfs_port=14000) as ir:\n",
    "    df_fix = ir.sql_to_pandas(query)\n",
    "    #ImpalaにUp\n",
    "    ir.upload_dataframe(uid_table, df_fix, ['bigint','string','double','string','string']) "
   ]
  },
  {
   "cell_type": "code",
   "execution_count": 30,
   "metadata": {},
   "outputs": [
    {
     "data": {
      "text/plain": [
       "7775646"
      ]
     },
     "execution_count": 30,
     "metadata": {},
     "output_type": "execute_result"
    }
   ],
   "source": [
    "df_fix.shape[0]"
   ]
  },
  {
   "cell_type": "code",
   "execution_count": 32,
   "metadata": {},
   "outputs": [
    {
     "data": {
      "text/html": [
       "<div>\n",
       "<style scoped>\n",
       "    .dataframe tbody tr th:only-of-type {\n",
       "        vertical-align: middle;\n",
       "    }\n",
       "\n",
       "    .dataframe tbody tr th {\n",
       "        vertical-align: top;\n",
       "    }\n",
       "\n",
       "    .dataframe thead th {\n",
       "        text-align: right;\n",
       "    }\n",
       "</style>\n",
       "<table border=\"1\" class=\"dataframe\">\n",
       "  <thead>\n",
       "    <tr style=\"text-align: right;\">\n",
       "      <th></th>\n",
       "      <th>smn_uid</th>\n",
       "      <th>place_name</th>\n",
       "      <th>min_dist</th>\n",
       "      <th>seg_info</th>\n",
       "      <th>device</th>\n",
       "    </tr>\n",
       "  </thead>\n",
       "  <tbody>\n",
       "    <tr>\n",
       "      <th>0</th>\n",
       "      <td>1776000020509332</td>\n",
       "      <td>新宿駅</td>\n",
       "      <td>2.717805</td>\n",
       "      <td>5</td>\n",
       "      <td>windows_computer</td>\n",
       "    </tr>\n",
       "    <tr>\n",
       "      <th>1</th>\n",
       "      <td>2223000594027682</td>\n",
       "      <td>新宿駅</td>\n",
       "      <td>2.110202</td>\n",
       "      <td>5</td>\n",
       "      <td>windows_computer</td>\n",
       "    </tr>\n",
       "    <tr>\n",
       "      <th>2</th>\n",
       "      <td>2224000732389296</td>\n",
       "      <td>銀座駅</td>\n",
       "      <td>0.573920</td>\n",
       "      <td>1</td>\n",
       "      <td>mac</td>\n",
       "    </tr>\n",
       "    <tr>\n",
       "      <th>3</th>\n",
       "      <td>2060000393112891</td>\n",
       "      <td>新宿駅</td>\n",
       "      <td>2.290118</td>\n",
       "      <td>5</td>\n",
       "      <td>android_phone</td>\n",
       "    </tr>\n",
       "    <tr>\n",
       "      <th>4</th>\n",
       "      <td>2198000144797922</td>\n",
       "      <td>新宿駅</td>\n",
       "      <td>1.773816</td>\n",
       "      <td>5</td>\n",
       "      <td>iphone</td>\n",
       "    </tr>\n",
       "  </tbody>\n",
       "</table>\n",
       "</div>"
      ],
      "text/plain": [
       "            smn_uid place_name  min_dist seg_info            device\n",
       "0  1776000020509332        新宿駅  2.717805        5  windows_computer\n",
       "1  2223000594027682        新宿駅  2.110202        5  windows_computer\n",
       "2  2224000732389296        銀座駅  0.573920        1               mac\n",
       "3  2060000393112891        新宿駅  2.290118        5     android_phone\n",
       "4  2198000144797922        新宿駅  1.773816        5            iphone"
      ]
     },
     "execution_count": 32,
     "metadata": {},
     "output_type": "execute_result"
    }
   ],
   "source": [
    "df_fix.head()"
   ]
  },
  {
   "cell_type": "code",
   "execution_count": null,
   "metadata": {},
   "outputs": [],
   "source": []
  }
 ],
 "metadata": {
  "kernelspec": {
   "display_name": "Python 3",
   "language": "python",
   "name": "python3"
  },
  "language_info": {
   "codemirror_mode": {
    "name": "ipython",
    "version": 3
   },
   "file_extension": ".py",
   "mimetype": "text/x-python",
   "name": "python",
   "nbconvert_exporter": "python",
   "pygments_lexer": "ipython3",
   "version": "3.7.2"
  }
 },
 "nbformat": 4,
 "nbformat_minor": 2
}
