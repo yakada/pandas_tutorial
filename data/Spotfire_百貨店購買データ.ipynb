{
 "cells": [
  {
   "cell_type": "code",
   "execution_count": 1,
   "metadata": {},
   "outputs": [
    {
     "name": "stdout",
     "output_type": "stream",
     "text": [
      "Requirement already up-to-date: pandasql in c:\\programdata\\anaconda3\\lib\\site-packages (0.7.3)\n",
      "Requirement already satisfied, skipping upgrade: pandas in c:\\programdata\\anaconda3\\lib\\site-packages (from pandasql) (1.0.5)\n",
      "Requirement already satisfied, skipping upgrade: sqlalchemy in c:\\programdata\\anaconda3\\lib\\site-packages (from pandasql) (1.3.18)\n",
      "Requirement already satisfied, skipping upgrade: numpy in c:\\programdata\\anaconda3\\lib\\site-packages (from pandasql) (1.18.5)\n",
      "Requirement already satisfied, skipping upgrade: pytz>=2017.2 in c:\\programdata\\anaconda3\\lib\\site-packages (from pandas->pandasql) (2020.1)\n",
      "Requirement already satisfied, skipping upgrade: python-dateutil>=2.6.1 in c:\\programdata\\anaconda3\\lib\\site-packages (from pandas->pandasql) (2.8.1)\n",
      "Requirement already satisfied, skipping upgrade: six>=1.5 in c:\\programdata\\anaconda3\\lib\\site-packages (from python-dateutil>=2.6.1->pandas->pandasql) (1.15.0)\n",
      "Note: you may need to restart the kernel to use updated packages.\n",
      "Wall time: 7.95 s\n"
     ]
    }
   ],
   "source": [
    "%%time\n",
    "pip install -U pandasql"
   ]
  },
  {
   "cell_type": "code",
   "execution_count": 2,
   "metadata": {},
   "outputs": [],
   "source": [
    "import pandas as pd\n",
    "import numpy as np\n",
    "from pathlib import Path\n",
    "import csv\n",
    "import xlrd\n",
    "import io\n",
    "from zipfile import ZipFile\n",
    "from datetime import date, timedelta, time, datetime\n",
    "\n",
    "import glob\n",
    "\n",
    "import argparse\n",
    "import logging\n",
    "import os\n",
    "\n",
    "from pathlib import Path\n",
    "\n",
    "from pandasql import sqldf"
   ]
  },
  {
   "cell_type": "code",
   "execution_count": 3,
   "metadata": {},
   "outputs": [
    {
     "name": "stdout",
     "output_type": "stream",
     "text": [
      "20201107\n"
     ]
    }
   ],
   "source": [
    "today_yyyymmdd = date.today().strftime(\"%Y%m%d\")\n",
    "print(today_yyyymmdd)"
   ]
  },
  {
   "cell_type": "code",
   "execution_count": 4,
   "metadata": {},
   "outputs": [],
   "source": [
    "#pandasの表示列数を増やす\n",
    "import pandas as pd\n",
    "pd.set_option('display.max_columns', 100)"
   ]
  },
  {
   "cell_type": "code",
   "execution_count": 5,
   "metadata": {},
   "outputs": [],
   "source": [
    "#心斎橋店ファイルで味見"
   ]
  },
  {
   "cell_type": "code",
   "execution_count": 8,
   "metadata": {},
   "outputs": [],
   "source": [
    "data_dir = Path(r\"C:\\Users\\crie072\\Downloads\")\n",
    "\n",
    "#input\n",
    "input_new = \"買上明細VIEW心斎橋\"\n",
    "import codecs"
   ]
  },
  {
   "cell_type": "code",
   "execution_count": 31,
   "metadata": {},
   "outputs": [
    {
     "data": {
      "text/html": [
       "<div>\n",
       "<style scoped>\n",
       "    .dataframe tbody tr th:only-of-type {\n",
       "        vertical-align: middle;\n",
       "    }\n",
       "\n",
       "    .dataframe tbody tr th {\n",
       "        vertical-align: top;\n",
       "    }\n",
       "\n",
       "    .dataframe thead th {\n",
       "        text-align: right;\n",
       "    }\n",
       "</style>\n",
       "<table border=\"1\" class=\"dataframe\">\n",
       "  <thead>\n",
       "    <tr style=\"text-align: right;\">\n",
       "      <th></th>\n",
       "      <th>kojin_id</th>\n",
       "      <th>tr_ymd</th>\n",
       "      <th>pos_no</th>\n",
       "      <th>tr_no</th>\n",
       "      <th>pay_shu</th>\n",
       "      <th>toitukozasbt</th>\n",
       "      <th>hinban_cd</th>\n",
       "      <th>hnban_mei</th>\n",
       "      <th>Sum(det_uri_kin) (用)</th>\n",
       "      <th>購買月</th>\n",
       "    </tr>\n",
       "  </thead>\n",
       "  <tbody>\n",
       "    <tr>\n",
       "      <th>0</th>\n",
       "      <td>3</td>\n",
       "      <td>20190710</td>\n",
       "      <td>9501</td>\n",
       "      <td>234</td>\n",
       "      <td>1</td>\n",
       "      <td>117</td>\n",
       "      <td>810</td>\n",
       "      <td>和洋酒</td>\n",
       "      <td>2700</td>\n",
       "      <td>1907</td>\n",
       "    </tr>\n",
       "    <tr>\n",
       "      <th>1</th>\n",
       "      <td>35</td>\n",
       "      <td>20191207</td>\n",
       "      <td>2056</td>\n",
       "      <td>1738</td>\n",
       "      <td>7</td>\n",
       "      <td>117</td>\n",
       "      <td>551</td>\n",
       "      <td>紳士服飾　テナント</td>\n",
       "      <td>43000</td>\n",
       "      <td>1912</td>\n",
       "    </tr>\n",
       "    <tr>\n",
       "      <th>2</th>\n",
       "      <td>38</td>\n",
       "      <td>20190311</td>\n",
       "      <td>1111</td>\n",
       "      <td>2586</td>\n",
       "      <td>9</td>\n",
       "      <td>117</td>\n",
       "      <td>530</td>\n",
       "      <td>ワイシャツ</td>\n",
       "      <td>15000</td>\n",
       "      <td>1903</td>\n",
       "    </tr>\n",
       "    <tr>\n",
       "      <th>3</th>\n",
       "      <td>38</td>\n",
       "      <td>20190423</td>\n",
       "      <td>1111</td>\n",
       "      <td>3310</td>\n",
       "      <td>9</td>\n",
       "      <td>117</td>\n",
       "      <td>530</td>\n",
       "      <td>ワイシャツ</td>\n",
       "      <td>10000</td>\n",
       "      <td>1904</td>\n",
       "    </tr>\n",
       "    <tr>\n",
       "      <th>4</th>\n",
       "      <td>38</td>\n",
       "      <td>20190520</td>\n",
       "      <td>1150</td>\n",
       "      <td>5774</td>\n",
       "      <td>9</td>\n",
       "      <td>117</td>\n",
       "      <td>810</td>\n",
       "      <td>和洋酒</td>\n",
       "      <td>6964</td>\n",
       "      <td>1905</td>\n",
       "    </tr>\n",
       "    <tr>\n",
       "      <th>...</th>\n",
       "      <td>...</td>\n",
       "      <td>...</td>\n",
       "      <td>...</td>\n",
       "      <td>...</td>\n",
       "      <td>...</td>\n",
       "      <td>...</td>\n",
       "      <td>...</td>\n",
       "      <td>...</td>\n",
       "      <td>...</td>\n",
       "      <td>...</td>\n",
       "    </tr>\n",
       "    <tr>\n",
       "      <th>2751752</th>\n",
       "      <td>500252933</td>\n",
       "      <td>20200212</td>\n",
       "      <td>136</td>\n",
       "      <td>6407</td>\n",
       "      <td>1</td>\n",
       "      <td>116</td>\n",
       "      <td>881</td>\n",
       "      <td>フーズ　テナント</td>\n",
       "      <td>1782</td>\n",
       "      <td>2002</td>\n",
       "    </tr>\n",
       "    <tr>\n",
       "      <th>2751753</th>\n",
       "      <td>500252933</td>\n",
       "      <td>20200213</td>\n",
       "      <td>124</td>\n",
       "      <td>6873</td>\n",
       "      <td>1</td>\n",
       "      <td>116</td>\n",
       "      <td>881</td>\n",
       "      <td>フーズ　テナント</td>\n",
       "      <td>565</td>\n",
       "      <td>2002</td>\n",
       "    </tr>\n",
       "    <tr>\n",
       "      <th>2751754</th>\n",
       "      <td>500252933</td>\n",
       "      <td>20200216</td>\n",
       "      <td>127</td>\n",
       "      <td>7459</td>\n",
       "      <td>0</td>\n",
       "      <td>116</td>\n",
       "      <td>881</td>\n",
       "      <td>フーズ　テナント</td>\n",
       "      <td>170</td>\n",
       "      <td>2002</td>\n",
       "    </tr>\n",
       "    <tr>\n",
       "      <th>2751755</th>\n",
       "      <td>500252933</td>\n",
       "      <td>20200218</td>\n",
       "      <td>101</td>\n",
       "      <td>646</td>\n",
       "      <td>1</td>\n",
       "      <td>116</td>\n",
       "      <td>881</td>\n",
       "      <td>フーズ　テナント</td>\n",
       "      <td>4000</td>\n",
       "      <td>2002</td>\n",
       "    </tr>\n",
       "    <tr>\n",
       "      <th>2751756</th>\n",
       "      <td>500252933</td>\n",
       "      <td>20200218</td>\n",
       "      <td>189</td>\n",
       "      <td>1738</td>\n",
       "      <td>1</td>\n",
       "      <td>116</td>\n",
       "      <td>881</td>\n",
       "      <td>フーズ　テナント</td>\n",
       "      <td>1000</td>\n",
       "      <td>2002</td>\n",
       "    </tr>\n",
       "  </tbody>\n",
       "</table>\n",
       "<p>2751757 rows × 10 columns</p>\n",
       "</div>"
      ],
      "text/plain": [
       "          kojin_id    tr_ymd  pos_no  tr_no  pay_shu  toitukozasbt  hinban_cd  \\\n",
       "0                3  20190710    9501    234        1           117        810   \n",
       "1               35  20191207    2056   1738        7           117        551   \n",
       "2               38  20190311    1111   2586        9           117        530   \n",
       "3               38  20190423    1111   3310        9           117        530   \n",
       "4               38  20190520    1150   5774        9           117        810   \n",
       "...            ...       ...     ...    ...      ...           ...        ...   \n",
       "2751752  500252933  20200212     136   6407        1           116        881   \n",
       "2751753  500252933  20200213     124   6873        1           116        881   \n",
       "2751754  500252933  20200216     127   7459        0           116        881   \n",
       "2751755  500252933  20200218     101    646        1           116        881   \n",
       "2751756  500252933  20200218     189   1738        1           116        881   \n",
       "\n",
       "         hnban_mei  Sum(det_uri_kin) (用)   購買月  \n",
       "0              和洋酒                  2700  1907  \n",
       "1        紳士服飾　テナント                 43000  1912  \n",
       "2            ワイシャツ                 15000  1903  \n",
       "3            ワイシャツ                 10000  1904  \n",
       "4              和洋酒                  6964  1905  \n",
       "...            ...                   ...   ...  \n",
       "2751752   フーズ　テナント                  1782  2002  \n",
       "2751753   フーズ　テナント                   565  2002  \n",
       "2751754   フーズ　テナント                   170  2002  \n",
       "2751755   フーズ　テナント                  4000  2002  \n",
       "2751756   フーズ　テナント                  1000  2002  \n",
       "\n",
       "[2751757 rows x 10 columns]"
      ]
     },
     "execution_count": 31,
     "metadata": {},
     "output_type": "execute_result"
    }
   ],
   "source": [
    "df = pd.read_csv(data_dir /\"買上明細VIEW心斎橋 (1).txt\",encoding='utf-16')\n",
    "df"
   ]
  },
  {
   "cell_type": "code",
   "execution_count": 32,
   "metadata": {},
   "outputs": [
    {
     "data": {
      "text/html": [
       "<div>\n",
       "<style scoped>\n",
       "    .dataframe tbody tr th:only-of-type {\n",
       "        vertical-align: middle;\n",
       "    }\n",
       "\n",
       "    .dataframe tbody tr th {\n",
       "        vertical-align: top;\n",
       "    }\n",
       "\n",
       "    .dataframe thead th {\n",
       "        text-align: right;\n",
       "    }\n",
       "</style>\n",
       "<table border=\"1\" class=\"dataframe\">\n",
       "  <thead>\n",
       "    <tr style=\"text-align: right;\">\n",
       "      <th></th>\n",
       "      <th>kojin_id</th>\n",
       "      <th>tr_ymd</th>\n",
       "      <th>pos_no</th>\n",
       "      <th>tr_no</th>\n",
       "      <th>pay_shu</th>\n",
       "      <th>toitukozasbt</th>\n",
       "      <th>hinban_cd</th>\n",
       "      <th>hnban_mei</th>\n",
       "      <th>Sum(det_uri_kin) (用)</th>\n",
       "      <th>購買月</th>\n",
       "    </tr>\n",
       "  </thead>\n",
       "  <tbody>\n",
       "    <tr>\n",
       "      <th>0</th>\n",
       "      <td>3</td>\n",
       "      <td>20190710</td>\n",
       "      <td>9501</td>\n",
       "      <td>234</td>\n",
       "      <td>1</td>\n",
       "      <td>117</td>\n",
       "      <td>810</td>\n",
       "      <td>和洋酒</td>\n",
       "      <td>2700</td>\n",
       "      <td>1907</td>\n",
       "    </tr>\n",
       "    <tr>\n",
       "      <th>1</th>\n",
       "      <td>35</td>\n",
       "      <td>20191207</td>\n",
       "      <td>2056</td>\n",
       "      <td>1738</td>\n",
       "      <td>7</td>\n",
       "      <td>117</td>\n",
       "      <td>551</td>\n",
       "      <td>紳士服飾　テナント</td>\n",
       "      <td>43000</td>\n",
       "      <td>1912</td>\n",
       "    </tr>\n",
       "    <tr>\n",
       "      <th>2</th>\n",
       "      <td>38</td>\n",
       "      <td>20190311</td>\n",
       "      <td>1111</td>\n",
       "      <td>2586</td>\n",
       "      <td>9</td>\n",
       "      <td>117</td>\n",
       "      <td>530</td>\n",
       "      <td>ワイシャツ</td>\n",
       "      <td>15000</td>\n",
       "      <td>1903</td>\n",
       "    </tr>\n",
       "    <tr>\n",
       "      <th>3</th>\n",
       "      <td>38</td>\n",
       "      <td>20190423</td>\n",
       "      <td>1111</td>\n",
       "      <td>3310</td>\n",
       "      <td>9</td>\n",
       "      <td>117</td>\n",
       "      <td>530</td>\n",
       "      <td>ワイシャツ</td>\n",
       "      <td>10000</td>\n",
       "      <td>1904</td>\n",
       "    </tr>\n",
       "    <tr>\n",
       "      <th>4</th>\n",
       "      <td>38</td>\n",
       "      <td>20190520</td>\n",
       "      <td>1150</td>\n",
       "      <td>5774</td>\n",
       "      <td>9</td>\n",
       "      <td>117</td>\n",
       "      <td>810</td>\n",
       "      <td>和洋酒</td>\n",
       "      <td>6964</td>\n",
       "      <td>1905</td>\n",
       "    </tr>\n",
       "    <tr>\n",
       "      <th>5</th>\n",
       "      <td>38</td>\n",
       "      <td>20190520</td>\n",
       "      <td>8933</td>\n",
       "      <td>2810</td>\n",
       "      <td>9</td>\n",
       "      <td>117</td>\n",
       "      <td>682</td>\n",
       "      <td>レストラン３</td>\n",
       "      <td>1800</td>\n",
       "      <td>1905</td>\n",
       "    </tr>\n",
       "    <tr>\n",
       "      <th>6</th>\n",
       "      <td>38</td>\n",
       "      <td>20190520</td>\n",
       "      <td>1111</td>\n",
       "      <td>9534</td>\n",
       "      <td>9</td>\n",
       "      <td>117</td>\n",
       "      <td>506</td>\n",
       "      <td>ビジネス・フォーマルウェア</td>\n",
       "      <td>16000</td>\n",
       "      <td>1905</td>\n",
       "    </tr>\n",
       "    <tr>\n",
       "      <th>7</th>\n",
       "      <td>38</td>\n",
       "      <td>20190520</td>\n",
       "      <td>3113</td>\n",
       "      <td>2129</td>\n",
       "      <td>9</td>\n",
       "      <td>117</td>\n",
       "      <td>721</td>\n",
       "      <td>食器・調理用品</td>\n",
       "      <td>5000</td>\n",
       "      <td>1905</td>\n",
       "    </tr>\n",
       "    <tr>\n",
       "      <th>8</th>\n",
       "      <td>38</td>\n",
       "      <td>20190520</td>\n",
       "      <td>1111</td>\n",
       "      <td>9531</td>\n",
       "      <td>9</td>\n",
       "      <td>117</td>\n",
       "      <td>530</td>\n",
       "      <td>ワイシャツ</td>\n",
       "      <td>15000</td>\n",
       "      <td>1905</td>\n",
       "    </tr>\n",
       "    <tr>\n",
       "      <th>9</th>\n",
       "      <td>38</td>\n",
       "      <td>20190726</td>\n",
       "      <td>3113</td>\n",
       "      <td>3472</td>\n",
       "      <td>9</td>\n",
       "      <td>117</td>\n",
       "      <td>721</td>\n",
       "      <td>食器・調理用品</td>\n",
       "      <td>5000</td>\n",
       "      <td>1907</td>\n",
       "    </tr>\n",
       "  </tbody>\n",
       "</table>\n",
       "</div>"
      ],
      "text/plain": [
       "   kojin_id    tr_ymd  pos_no  tr_no  pay_shu  toitukozasbt  hinban_cd  \\\n",
       "0         3  20190710    9501    234        1           117        810   \n",
       "1        35  20191207    2056   1738        7           117        551   \n",
       "2        38  20190311    1111   2586        9           117        530   \n",
       "3        38  20190423    1111   3310        9           117        530   \n",
       "4        38  20190520    1150   5774        9           117        810   \n",
       "5        38  20190520    8933   2810        9           117        682   \n",
       "6        38  20190520    1111   9534        9           117        506   \n",
       "7        38  20190520    3113   2129        9           117        721   \n",
       "8        38  20190520    1111   9531        9           117        530   \n",
       "9        38  20190726    3113   3472        9           117        721   \n",
       "\n",
       "       hnban_mei  Sum(det_uri_kin) (用)   購買月  \n",
       "0            和洋酒                  2700  1907  \n",
       "1      紳士服飾　テナント                 43000  1912  \n",
       "2          ワイシャツ                 15000  1903  \n",
       "3          ワイシャツ                 10000  1904  \n",
       "4            和洋酒                  6964  1905  \n",
       "5         レストラン３                  1800  1905  \n",
       "6  ビジネス・フォーマルウェア                 16000  1905  \n",
       "7        食器・調理用品                  5000  1905  \n",
       "8          ワイシャツ                 15000  1905  \n",
       "9        食器・調理用品                  5000  1907  "
      ]
     },
     "execution_count": 32,
     "metadata": {},
     "output_type": "execute_result"
    }
   ],
   "source": [
    "df_tmp = df[:10]\n",
    "df_tmp"
   ]
  },
  {
   "cell_type": "code",
   "execution_count": 31,
   "metadata": {},
   "outputs": [],
   "source": [
    "#CSV出力\n",
    "df_tmp.to_csv(data_dir /f'{input_new}_味見.csv', header=True ,index=None, encoding='shift=jis')"
   ]
  },
  {
   "cell_type": "code",
   "execution_count": 33,
   "metadata": {},
   "outputs": [
    {
     "name": "stdout",
     "output_type": "stream",
     "text": [
      "kojin_id                 int64\n",
      "tr_ymd                   int64\n",
      "pos_no                   int64\n",
      "tr_no                    int64\n",
      "pay_shu                  int64\n",
      "toitukozasbt             int64\n",
      "hinban_cd                int64\n",
      "hnban_mei               object\n",
      "Sum(det_uri_kin) (用)     int64\n",
      "購買月                      int64\n",
      "dtype: object\n"
     ]
    }
   ],
   "source": [
    "print(df.dtypes)"
   ]
  },
  {
   "cell_type": "code",
   "execution_count": 34,
   "metadata": {},
   "outputs": [
    {
     "name": "stdout",
     "output_type": "stream",
     "text": [
      "[ 117  120  111  116 1011  118  101  119 1001  115 1015]\n"
     ]
    }
   ],
   "source": [
    "print(df['toitukozasbt'].unique())"
   ]
  },
  {
   "cell_type": "markdown",
   "metadata": {},
   "source": [
    "統一口座種別<br>\n",
    "101\t　旧　大丸外商カード<br>\n",
    "111\t　大丸友の会カード<br>\n",
    "114\t　Webサークル<br>\n",
    "115\t　ブライダルサークル<br>\n",
    "116\t　大丸松坂屋カード<br>\n",
    "117\t　大丸松坂屋ポイントカード（旧Dカード、Mカード含む）<br>\n",
    "118\t　大丸松坂屋カードGOLD<br>\n",
    "119\t　うふふガールズカード<br>\n",
    "120\t　新お得意様GCカード<br>\n",
    "1001　旧　松坂屋外商カード<br>\n",
    "1011　松坂屋友の会カード<br>"
   ]
  },
  {
   "cell_type": "code",
   "execution_count": 35,
   "metadata": {},
   "outputs": [
    {
     "name": "stdout",
     "output_type": "stream",
     "text": [
      "[1 7 9 0 2 4 5 8]\n"
     ]
    }
   ],
   "source": [
    "print(df['pay_shu'].unique())"
   ]
  },
  {
   "cell_type": "markdown",
   "metadata": {},
   "source": [
    "支払種別<br>\n",
    "0 引き落としの支払でないもの<br>\n",
    "1 一括払い<br>\n",
    "2 分割払い（3回以上）<br>\n",
    "4 リボ払い<br>\n",
    "5 ボーナス一括払い<br>\n",
    "7 分割払い（2回）<br>\n",
    "8 ??<br>\n",
    "9 全額入金<br>"
   ]
  },
  {
   "cell_type": "code",
   "execution_count": 36,
   "metadata": {},
   "outputs": [
    {
     "data": {
      "text/plain": [
       "count     2751.757000\n",
       "mean        13.038690\n",
       "std        149.286964\n",
       "min     -35980.000000\n",
       "25%          0.800000\n",
       "50%          1.750000\n",
       "75%          5.000000\n",
       "max      81818.181000\n",
       "Name: Sum(det_uri_kin) (用), dtype: float64"
      ]
     },
     "execution_count": 36,
     "metadata": {},
     "output_type": "execute_result"
    }
   ],
   "source": [
    "df['Sum(det_uri_kin) (用)'].describe()/1000"
   ]
  },
  {
   "cell_type": "code",
   "execution_count": 18,
   "metadata": {},
   "outputs": [
    {
     "data": {
      "text/plain": [
       "購買月\n",
       "1903    212953\n",
       "1904    196471\n",
       "1905    193025\n",
       "1906    226894\n",
       "1907    230960\n",
       "1908    207941\n",
       "1909    268931\n",
       "1910    268545\n",
       "1911    256605\n",
       "1912    290823\n",
       "2001    207433\n",
       "2002    191176\n",
       "Name: pos_no, dtype: int64"
      ]
     },
     "execution_count": 18,
     "metadata": {},
     "output_type": "execute_result"
    }
   ],
   "source": [
    "df.groupby(['購買月'])['pos_no'].count()"
   ]
  },
  {
   "cell_type": "code",
   "execution_count": 37,
   "metadata": {
    "scrolled": true
   },
   "outputs": [
    {
     "name": "stdout",
     "output_type": "stream",
     "text": [
      "['和洋酒' '紳士服飾\\u3000テナント' 'ワイシャツ' 'レストラン３' 'ビジネス・フォーマルウェア' '食器・調理用品'\n",
      " 'フーズ\\u3000テナント' 'レストラン２（新館売仕）' '精肉・ハム' 'グロッサリー' '惣菜' '和菓子' '海産物' '洋菓子'\n",
      " '化粧品' 'リビング雑貨' '青果物' '子供服' 'インターナショナルブティック' 'エステティック' 'デリカ' '宝飾品'\n",
      " 'ミセス・毛皮' 'メガネ' 'ベーカリー' 'トラベルショップ' '結納用品' '婦人服\\u3000テナント' '家庭電器'\n",
      " '住文化用品\\u3000テナント' '外販食品' '美味リクエスト便' '肌着・靴下・ナイティ' '婦人洋品' 'ネクタイ洋品' 'きもの'\n",
      " '婦人肌着' 'ＹＡキャラクター' 'ゴルフウェア' '婦人靴' 'ライフスタイル雑貨' 'ＮＭ１プレタポルテ' '紳士靴' 'トロージャン'\n",
      " 'イージーオーダー' '婦人雑貨子供服\\u3000テナント' nan '寝具' '紳士服飾催（催事運営）' 'オーセンティックプレタ'\n",
      " 'カジュアルウェア' '時計' '絵画' 'その他催' 'フリーチョイス' '婦人服催（催事運営）' '文化催事（催事運営）' 'アクセサリー'\n",
      " '特選ブティック' 'セレクトファッション' '婦人雑貨特選ショップ' 'フリースペース' 'インターナショナルブティック周辺店舗'\n",
      " '総合服飾\\u3000テナント' 'エステ・トラベル' 'ファッショングッズ' 'サービス\\u3000テナント\\u3000フドウサンジギョウブ'\n",
      " 'フリーチョイスカタログ' '食品ギフト券' '婦人雑貨催（催事運営）' '住文催（催事運営）' '家具・敷物'\n",
      " '美術・呉服・宝飾\\u3000テナント' '六甲インテリア館' 'サービス\\u3000テナント' '特選ブランドカード提携'\n",
      " 'カード提携周辺店舗' '特選大口カード提携' '不動産事業部物販テナント' '酒類券' 'ＷＥＢ計上（リビング他）' '学生服'\n",
      " '図書券（大口）' 'カバン・旅行用品' 'ＷＥＢご当地自慢' 'クリーニング' '婦人洋品名品店' '調整品番' '周辺大口' '挨拶状'\n",
      " '婦人雑貨子供服\\u3000テナント\\u3000不動産事業部' 'ＳＰグッズ' '貸衣装' '住文名品店' 'キレイナビ' '特選ブティック２'\n",
      " 'リフォーム' '外販非食' 'ブーケドマリエ' '和洋酒（催事運営）' 'Ａ番催' 'メモリアルサロン' 'ハンドバッグ']\n"
     ]
    }
   ],
   "source": [
    "print(df['hnban_mei'].unique())"
   ]
  },
  {
   "cell_type": "code",
   "execution_count": null,
   "metadata": {},
   "outputs": [],
   "source": []
  },
  {
   "cell_type": "code",
   "execution_count": 5,
   "metadata": {},
   "outputs": [],
   "source": [
    "data_dir = Path(r\"C:\\Users\\crie072\\Documents\\01_データ関連\\Adhoc\\202010_Spotfile百貨店購買データ\")"
   ]
  },
  {
   "cell_type": "code",
   "execution_count": 5,
   "metadata": {},
   "outputs": [],
   "source": [
    "path = r\"C:\\Users\\crie072\\Documents\\01_データ関連\\Adhoc\\202010_Spotfile百貨店購買データ\" # use your path\n",
    "all_files = glob.glob(path + \"/*.txt\")"
   ]
  },
  {
   "cell_type": "code",
   "execution_count": 6,
   "metadata": {
    "scrolled": true
   },
   "outputs": [
    {
     "data": {
      "text/plain": [
       "65"
      ]
     },
     "execution_count": 6,
     "metadata": {},
     "output_type": "execute_result"
    }
   ],
   "source": [
    "len(path)"
   ]
  },
  {
   "cell_type": "code",
   "execution_count": null,
   "metadata": {},
   "outputs": [],
   "source": []
  },
  {
   "cell_type": "code",
   "execution_count": null,
   "metadata": {},
   "outputs": [],
   "source": []
  },
  {
   "cell_type": "code",
   "execution_count": 6,
   "metadata": {
    "scrolled": false
   },
   "outputs": [
    {
     "name": "stdout",
     "output_type": "stream",
     "text": [
      "Wall time: 2min 23s\n"
     ]
    },
    {
     "data": {
      "text/html": [
       "<div>\n",
       "<style scoped>\n",
       "    .dataframe tbody tr th:only-of-type {\n",
       "        vertical-align: middle;\n",
       "    }\n",
       "\n",
       "    .dataframe tbody tr th {\n",
       "        vertical-align: top;\n",
       "    }\n",
       "\n",
       "    .dataframe thead th {\n",
       "        text-align: right;\n",
       "    }\n",
       "</style>\n",
       "<table border=\"1\" class=\"dataframe\">\n",
       "  <thead>\n",
       "    <tr style=\"text-align: right;\">\n",
       "      <th></th>\n",
       "      <th>kojin_id</th>\n",
       "      <th>tr_ymd</th>\n",
       "      <th>pos_no</th>\n",
       "      <th>tr_no</th>\n",
       "      <th>pay_shu</th>\n",
       "      <th>toitukozasbt</th>\n",
       "      <th>hinban_cd</th>\n",
       "      <th>hnban_mei</th>\n",
       "      <th>Sum(det_uri_kin) (用)</th>\n",
       "      <th>購買月</th>\n",
       "      <th>shop_name</th>\n",
       "    </tr>\n",
       "  </thead>\n",
       "  <tbody>\n",
       "    <tr>\n",
       "      <th>0</th>\n",
       "      <td>37</td>\n",
       "      <td>20191101</td>\n",
       "      <td>4025</td>\n",
       "      <td>5617</td>\n",
       "      <td>0</td>\n",
       "      <td>116</td>\n",
       "      <td>831</td>\n",
       "      <td>ベーカリー</td>\n",
       "      <td>1080</td>\n",
       "      <td>1911</td>\n",
       "      <td>京都</td>\n",
       "    </tr>\n",
       "    <tr>\n",
       "      <th>1</th>\n",
       "      <td>81</td>\n",
       "      <td>20190430</td>\n",
       "      <td>3014</td>\n",
       "      <td>534</td>\n",
       "      <td>9</td>\n",
       "      <td>117</td>\n",
       "      <td>830</td>\n",
       "      <td>惣菜</td>\n",
       "      <td>1830</td>\n",
       "      <td>1904</td>\n",
       "      <td>京都</td>\n",
       "    </tr>\n",
       "    <tr>\n",
       "      <th>2</th>\n",
       "      <td>172</td>\n",
       "      <td>20190315</td>\n",
       "      <td>4023</td>\n",
       "      <td>555</td>\n",
       "      <td>9</td>\n",
       "      <td>120</td>\n",
       "      <td>831</td>\n",
       "      <td>ベーカリー</td>\n",
       "      <td>280</td>\n",
       "      <td>1903</td>\n",
       "      <td>京都</td>\n",
       "    </tr>\n",
       "    <tr>\n",
       "      <th>3</th>\n",
       "      <td>172</td>\n",
       "      <td>20190315</td>\n",
       "      <td>4164</td>\n",
       "      <td>2274</td>\n",
       "      <td>9</td>\n",
       "      <td>120</td>\n",
       "      <td>821</td>\n",
       "      <td>精肉・ハム</td>\n",
       "      <td>2400</td>\n",
       "      <td>1903</td>\n",
       "      <td>京都</td>\n",
       "    </tr>\n",
       "    <tr>\n",
       "      <th>4</th>\n",
       "      <td>172</td>\n",
       "      <td>20190315</td>\n",
       "      <td>6110</td>\n",
       "      <td>1039</td>\n",
       "      <td>9</td>\n",
       "      <td>120</td>\n",
       "      <td>821</td>\n",
       "      <td>精肉・ハム</td>\n",
       "      <td>471</td>\n",
       "      <td>1903</td>\n",
       "      <td>京都</td>\n",
       "    </tr>\n",
       "  </tbody>\n",
       "</table>\n",
       "</div>"
      ],
      "text/plain": [
       "   kojin_id    tr_ymd  pos_no  tr_no  pay_shu  toitukozasbt  hinban_cd  \\\n",
       "0        37  20191101    4025   5617        0           116        831   \n",
       "1        81  20190430    3014    534        9           117        830   \n",
       "2       172  20190315    4023    555        9           120        831   \n",
       "3       172  20190315    4164   2274        9           120        821   \n",
       "4       172  20190315    6110   1039        9           120        821   \n",
       "\n",
       "  hnban_mei  Sum(det_uri_kin) (用)   購買月 shop_name  \n",
       "0     ベーカリー                  1080  1911        京都  \n",
       "1        惣菜                  1830  1904        京都  \n",
       "2     ベーカリー                   280  1903        京都  \n",
       "3     精肉・ハム                  2400  1903        京都  \n",
       "4     精肉・ハム                   471  1903        京都  "
      ]
     },
     "execution_count": 6,
     "metadata": {},
     "output_type": "execute_result"
    }
   ],
   "source": [
    "%%time\n",
    "path = r\"C:\\Users\\crie072\\Documents\\01_データ関連\\Adhoc\\202010_Spotfile百貨店購買データ\" # use your path\n",
    "all_files = glob.glob(path + \"/*.txt\")\n",
    "\n",
    "li = []\n",
    " \n",
    "for filename in all_files:\n",
    "    df = pd.read_csv(filename\n",
    "                     ,encoding='utf-16')\n",
    "    df['shop_name'] = filename[74:-4]\n",
    "    li.append(df)\n",
    "df_all = pd.concat(li, axis=0, ignore_index=True)\n",
    "df_all.head()"
   ]
  },
  {
   "cell_type": "code",
   "execution_count": 7,
   "metadata": {},
   "outputs": [
    {
     "data": {
      "text/html": [
       "<div>\n",
       "<style scoped>\n",
       "    .dataframe tbody tr th:only-of-type {\n",
       "        vertical-align: middle;\n",
       "    }\n",
       "\n",
       "    .dataframe tbody tr th {\n",
       "        vertical-align: top;\n",
       "    }\n",
       "\n",
       "    .dataframe thead th {\n",
       "        text-align: right;\n",
       "    }\n",
       "</style>\n",
       "<table border=\"1\" class=\"dataframe\">\n",
       "  <thead>\n",
       "    <tr style=\"text-align: right;\">\n",
       "      <th></th>\n",
       "      <th>kojin_id</th>\n",
       "      <th>tr_ymd</th>\n",
       "      <th>pos_no</th>\n",
       "      <th>tr_no</th>\n",
       "      <th>pay_shu</th>\n",
       "      <th>toitukozasbt</th>\n",
       "      <th>hinban_cd</th>\n",
       "      <th>hnban_mei</th>\n",
       "      <th>Sum(det_uri_kin) (用)</th>\n",
       "      <th>購買月</th>\n",
       "      <th>shop_name</th>\n",
       "    </tr>\n",
       "  </thead>\n",
       "  <tbody>\n",
       "    <tr>\n",
       "      <th>49034420</th>\n",
       "      <td>500272524</td>\n",
       "      <td>20190803</td>\n",
       "      <td>5004</td>\n",
       "      <td>808</td>\n",
       "      <td>9</td>\n",
       "      <td>118</td>\n",
       "      <td>822</td>\n",
       "      <td>青果物</td>\n",
       "      <td>554</td>\n",
       "      <td>1908</td>\n",
       "      <td>神戸</td>\n",
       "    </tr>\n",
       "    <tr>\n",
       "      <th>49034421</th>\n",
       "      <td>500272524</td>\n",
       "      <td>20190803</td>\n",
       "      <td>6157</td>\n",
       "      <td>4599</td>\n",
       "      <td>9</td>\n",
       "      <td>118</td>\n",
       "      <td>830</td>\n",
       "      <td>惣菜</td>\n",
       "      <td>2507</td>\n",
       "      <td>1908</td>\n",
       "      <td>神戸</td>\n",
       "    </tr>\n",
       "    <tr>\n",
       "      <th>49034422</th>\n",
       "      <td>500272524</td>\n",
       "      <td>20190803</td>\n",
       "      <td>5004</td>\n",
       "      <td>808</td>\n",
       "      <td>9</td>\n",
       "      <td>118</td>\n",
       "      <td>811</td>\n",
       "      <td>デリカ</td>\n",
       "      <td>1150</td>\n",
       "      <td>1908</td>\n",
       "      <td>神戸</td>\n",
       "    </tr>\n",
       "    <tr>\n",
       "      <th>49034423</th>\n",
       "      <td>500272524</td>\n",
       "      <td>20190803</td>\n",
       "      <td>6132</td>\n",
       "      <td>9365</td>\n",
       "      <td>9</td>\n",
       "      <td>118</td>\n",
       "      <td>830</td>\n",
       "      <td>惣菜</td>\n",
       "      <td>130</td>\n",
       "      <td>1908</td>\n",
       "      <td>神戸</td>\n",
       "    </tr>\n",
       "    <tr>\n",
       "      <th>49034424</th>\n",
       "      <td>500272524</td>\n",
       "      <td>20190803</td>\n",
       "      <td>6198</td>\n",
       "      <td>4715</td>\n",
       "      <td>9</td>\n",
       "      <td>118</td>\n",
       "      <td>800</td>\n",
       "      <td>洋菓子</td>\n",
       "      <td>2600</td>\n",
       "      <td>1908</td>\n",
       "      <td>神戸</td>\n",
       "    </tr>\n",
       "  </tbody>\n",
       "</table>\n",
       "</div>"
      ],
      "text/plain": [
       "           kojin_id    tr_ymd  pos_no  tr_no  pay_shu  toitukozasbt  \\\n",
       "49034420  500272524  20190803    5004    808        9           118   \n",
       "49034421  500272524  20190803    6157   4599        9           118   \n",
       "49034422  500272524  20190803    5004    808        9           118   \n",
       "49034423  500272524  20190803    6132   9365        9           118   \n",
       "49034424  500272524  20190803    6198   4715        9           118   \n",
       "\n",
       "          hinban_cd hnban_mei  Sum(det_uri_kin) (用)   購買月 shop_name  \n",
       "49034420        822       青果物                   554  1908        神戸  \n",
       "49034421        830        惣菜                  2507  1908        神戸  \n",
       "49034422        811       デリカ                  1150  1908        神戸  \n",
       "49034423        830        惣菜                   130  1908        神戸  \n",
       "49034424        800       洋菓子                  2600  1908        神戸  "
      ]
     },
     "execution_count": 7,
     "metadata": {},
     "output_type": "execute_result"
    }
   ],
   "source": [
    "df_all.tail()"
   ]
  },
  {
   "cell_type": "code",
   "execution_count": 8,
   "metadata": {},
   "outputs": [
    {
     "data": {
      "text/plain": [
       "49034425"
      ]
     },
     "execution_count": 8,
     "metadata": {},
     "output_type": "execute_result"
    }
   ],
   "source": [
    "df_all.shape[0]"
   ]
  },
  {
   "cell_type": "code",
   "execution_count": 9,
   "metadata": {},
   "outputs": [
    {
     "data": {
      "text/plain": [
       "2483863"
      ]
     },
     "execution_count": 9,
     "metadata": {},
     "output_type": "execute_result"
    }
   ],
   "source": [
    "df_all['kojin_id'].nunique()"
   ]
  },
  {
   "cell_type": "code",
   "execution_count": null,
   "metadata": {},
   "outputs": [],
   "source": [
    "#全体集計"
   ]
  },
  {
   "cell_type": "code",
   "execution_count": 10,
   "metadata": {
    "scrolled": true
   },
   "outputs": [
    {
     "data": {
      "text/plain": [
       "shop_name\n",
       "京都     9353057\n",
       "名古屋    9151087\n",
       "心斎橋    2751757\n",
       "札幌     7974137\n",
       "東京     5963290\n",
       "梅田     6503769\n",
       "神戸     7337328\n",
       "Name: kojin_id, dtype: int64"
      ]
     },
     "execution_count": 10,
     "metadata": {},
     "output_type": "execute_result"
    }
   ],
   "source": [
    "df_count = df_all.groupby(['shop_name'])['kojin_id'].count()\n",
    "df_count"
   ]
  },
  {
   "cell_type": "code",
   "execution_count": 11,
   "metadata": {
    "scrolled": true
   },
   "outputs": [
    {
     "data": {
      "text/plain": [
       "shop_name\n",
       "京都     403987\n",
       "名古屋    371105\n",
       "心斎橋    306208\n",
       "札幌     435962\n",
       "東京     588531\n",
       "梅田     661554\n",
       "神戸     437981\n",
       "Name: kojin_id, dtype: int64"
      ]
     },
     "execution_count": 11,
     "metadata": {},
     "output_type": "execute_result"
    }
   ],
   "source": [
    "df_uu = df_all.groupby('shop_name')['kojin_id'].nunique()\n",
    "df_uu"
   ]
  },
  {
   "cell_type": "code",
   "execution_count": 13,
   "metadata": {
    "scrolled": false
   },
   "outputs": [
    {
     "data": {
      "text/plain": [
       "shop_name\n",
       "京都     44688094052\n",
       "名古屋    78049393024\n",
       "心斎橋    35879306165\n",
       "札幌     37073444967\n",
       "東京     34831284311\n",
       "梅田     35354020643\n",
       "神戸     56669816143\n",
       "Name: Sum(det_uri_kin) (用), dtype: int64"
      ]
     },
     "execution_count": 13,
     "metadata": {},
     "output_type": "execute_result"
    }
   ],
   "source": [
    "df_sum =df_all.groupby(['shop_name'])['Sum(det_uri_kin) (用)'].sum()\n",
    "df_sum"
   ]
  },
  {
   "cell_type": "code",
   "execution_count": 14,
   "metadata": {},
   "outputs": [],
   "source": [
    "df_merge = pd.merge(df_count,df_uu,on = ['shop_name'], how = 'left')\n",
    "df_merge = pd.merge(df_merge,df_sum, on = ['shop_name'], how = 'left')"
   ]
  },
  {
   "cell_type": "code",
   "execution_count": 15,
   "metadata": {},
   "outputs": [
    {
     "data": {
      "text/html": [
       "<div>\n",
       "<style scoped>\n",
       "    .dataframe tbody tr th:only-of-type {\n",
       "        vertical-align: middle;\n",
       "    }\n",
       "\n",
       "    .dataframe tbody tr th {\n",
       "        vertical-align: top;\n",
       "    }\n",
       "\n",
       "    .dataframe thead th {\n",
       "        text-align: right;\n",
       "    }\n",
       "</style>\n",
       "<table border=\"1\" class=\"dataframe\">\n",
       "  <thead>\n",
       "    <tr style=\"text-align: right;\">\n",
       "      <th></th>\n",
       "      <th>kojin_id_x</th>\n",
       "      <th>kojin_id_y</th>\n",
       "      <th>Sum(det_uri_kin) (用)</th>\n",
       "    </tr>\n",
       "    <tr>\n",
       "      <th>shop_name</th>\n",
       "      <th></th>\n",
       "      <th></th>\n",
       "      <th></th>\n",
       "    </tr>\n",
       "  </thead>\n",
       "  <tbody>\n",
       "    <tr>\n",
       "      <th>京都</th>\n",
       "      <td>9353057</td>\n",
       "      <td>403987</td>\n",
       "      <td>44688094052</td>\n",
       "    </tr>\n",
       "    <tr>\n",
       "      <th>名古屋</th>\n",
       "      <td>9151087</td>\n",
       "      <td>371105</td>\n",
       "      <td>78049393024</td>\n",
       "    </tr>\n",
       "    <tr>\n",
       "      <th>心斎橋</th>\n",
       "      <td>2751757</td>\n",
       "      <td>306208</td>\n",
       "      <td>35879306165</td>\n",
       "    </tr>\n",
       "    <tr>\n",
       "      <th>札幌</th>\n",
       "      <td>7974137</td>\n",
       "      <td>435962</td>\n",
       "      <td>37073444967</td>\n",
       "    </tr>\n",
       "    <tr>\n",
       "      <th>東京</th>\n",
       "      <td>5963290</td>\n",
       "      <td>588531</td>\n",
       "      <td>34831284311</td>\n",
       "    </tr>\n",
       "    <tr>\n",
       "      <th>梅田</th>\n",
       "      <td>6503769</td>\n",
       "      <td>661554</td>\n",
       "      <td>35354020643</td>\n",
       "    </tr>\n",
       "    <tr>\n",
       "      <th>神戸</th>\n",
       "      <td>7337328</td>\n",
       "      <td>437981</td>\n",
       "      <td>56669816143</td>\n",
       "    </tr>\n",
       "  </tbody>\n",
       "</table>\n",
       "</div>"
      ],
      "text/plain": [
       "           kojin_id_x  kojin_id_y  Sum(det_uri_kin) (用)\n",
       "shop_name                                              \n",
       "京都            9353057      403987           44688094052\n",
       "名古屋           9151087      371105           78049393024\n",
       "心斎橋           2751757      306208           35879306165\n",
       "札幌            7974137      435962           37073444967\n",
       "東京            5963290      588531           34831284311\n",
       "梅田            6503769      661554           35354020643\n",
       "神戸            7337328      437981           56669816143"
      ]
     },
     "execution_count": 15,
     "metadata": {},
     "output_type": "execute_result"
    }
   ],
   "source": [
    "df_merge"
   ]
  },
  {
   "cell_type": "code",
   "execution_count": 16,
   "metadata": {},
   "outputs": [],
   "source": [
    "#CSV出力\n",
    "df_merge.to_csv(data_dir /r\"Output\"/'spotfile_店別全体集計.csv', header=True ,encoding='shift=jis')"
   ]
  },
  {
   "cell_type": "code",
   "execution_count": null,
   "metadata": {},
   "outputs": [],
   "source": []
  },
  {
   "cell_type": "code",
   "execution_count": null,
   "metadata": {},
   "outputs": [],
   "source": [
    "#店別、売り場別、カード種類別"
   ]
  },
  {
   "cell_type": "code",
   "execution_count": 17,
   "metadata": {},
   "outputs": [
    {
     "data": {
      "text/plain": [
       "shop_name  hnban_mei  toitukozasbt\n",
       "京都         きもの        101              173\n",
       "                      111              569\n",
       "                      115                4\n",
       "                      116             1267\n",
       "                      117             5193\n",
       "Name: kojin_id, dtype: int64"
      ]
     },
     "execution_count": 17,
     "metadata": {},
     "output_type": "execute_result"
    }
   ],
   "source": [
    "df_count = df_all.groupby(['shop_name','hnban_mei','toitukozasbt'])['kojin_id'].count()\n",
    "df_count.head()"
   ]
  },
  {
   "cell_type": "code",
   "execution_count": 18,
   "metadata": {
    "scrolled": false
   },
   "outputs": [
    {
     "data": {
      "text/plain": [
       "shop_name  hnban_mei  toitukozasbt\n",
       "京都         きもの        101              15218497\n",
       "                      111               7365387\n",
       "                      115                 24540\n",
       "                      116              22003205\n",
       "                      117             125701879\n",
       "Name: Sum(det_uri_kin) (用), dtype: int64"
      ]
     },
     "execution_count": 18,
     "metadata": {},
     "output_type": "execute_result"
    }
   ],
   "source": [
    "df_sum =df_all.groupby(['shop_name','hnban_mei','toitukozasbt'])['Sum(det_uri_kin) (用)'].sum()\n",
    "df_sum.head()"
   ]
  },
  {
   "cell_type": "code",
   "execution_count": 19,
   "metadata": {},
   "outputs": [
    {
     "data": {
      "text/html": [
       "<div>\n",
       "<style scoped>\n",
       "    .dataframe tbody tr th:only-of-type {\n",
       "        vertical-align: middle;\n",
       "    }\n",
       "\n",
       "    .dataframe tbody tr th {\n",
       "        vertical-align: top;\n",
       "    }\n",
       "\n",
       "    .dataframe thead th {\n",
       "        text-align: right;\n",
       "    }\n",
       "</style>\n",
       "<table border=\"1\" class=\"dataframe\">\n",
       "  <thead>\n",
       "    <tr style=\"text-align: right;\">\n",
       "      <th></th>\n",
       "      <th></th>\n",
       "      <th></th>\n",
       "      <th>kojin_id</th>\n",
       "      <th>Sum(det_uri_kin) (用)</th>\n",
       "    </tr>\n",
       "    <tr>\n",
       "      <th>shop_name</th>\n",
       "      <th>hnban_mei</th>\n",
       "      <th>toitukozasbt</th>\n",
       "      <th></th>\n",
       "      <th></th>\n",
       "    </tr>\n",
       "  </thead>\n",
       "  <tbody>\n",
       "    <tr>\n",
       "      <th rowspan=\"5\" valign=\"top\">京都</th>\n",
       "      <th rowspan=\"5\" valign=\"top\">きもの</th>\n",
       "      <th>101</th>\n",
       "      <td>173</td>\n",
       "      <td>15218497</td>\n",
       "    </tr>\n",
       "    <tr>\n",
       "      <th>111</th>\n",
       "      <td>569</td>\n",
       "      <td>7365387</td>\n",
       "    </tr>\n",
       "    <tr>\n",
       "      <th>115</th>\n",
       "      <td>4</td>\n",
       "      <td>24540</td>\n",
       "    </tr>\n",
       "    <tr>\n",
       "      <th>116</th>\n",
       "      <td>1267</td>\n",
       "      <td>22003205</td>\n",
       "    </tr>\n",
       "    <tr>\n",
       "      <th>117</th>\n",
       "      <td>5193</td>\n",
       "      <td>125701879</td>\n",
       "    </tr>\n",
       "  </tbody>\n",
       "</table>\n",
       "</div>"
      ],
      "text/plain": [
       "                                  kojin_id  Sum(det_uri_kin) (用)\n",
       "shop_name hnban_mei toitukozasbt                                \n",
       "京都        きもの       101                173              15218497\n",
       "                    111                569               7365387\n",
       "                    115                  4                 24540\n",
       "                    116               1267              22003205\n",
       "                    117               5193             125701879"
      ]
     },
     "execution_count": 19,
     "metadata": {},
     "output_type": "execute_result"
    }
   ],
   "source": [
    "df_merge = pd.merge(df_count,df_sum,on = ['shop_name','hnban_mei','toitukozasbt'], how = 'left')\n",
    "df_merge.head()"
   ]
  },
  {
   "cell_type": "code",
   "execution_count": 20,
   "metadata": {},
   "outputs": [],
   "source": [
    "#CSV出力\n",
    "df_merge.to_csv(data_dir /r\"Output\"/'spotfile_店別売り場別集計.csv', header=True ,encoding='shift=jis')"
   ]
  },
  {
   "cell_type": "code",
   "execution_count": null,
   "metadata": {},
   "outputs": [],
   "source": []
  },
  {
   "cell_type": "code",
   "execution_count": null,
   "metadata": {},
   "outputs": [],
   "source": [
    "#店別、カード別　件数、UU、金額"
   ]
  },
  {
   "cell_type": "code",
   "execution_count": 21,
   "metadata": {
    "scrolled": true
   },
   "outputs": [
    {
     "data": {
      "text/plain": [
       "shop_name  toitukozasbt\n",
       "京都         101               78168\n",
       "           111              637737\n",
       "           115                 562\n",
       "           116             1658394\n",
       "           117             4700001\n",
       "Name: kojin_id, dtype: int64"
      ]
     },
     "execution_count": 21,
     "metadata": {},
     "output_type": "execute_result"
    }
   ],
   "source": [
    "df_count = df_all.groupby(['shop_name','toitukozasbt'])['kojin_id'].count()\n",
    "df_count.head()"
   ]
  },
  {
   "cell_type": "code",
   "execution_count": 22,
   "metadata": {
    "scrolled": true
   },
   "outputs": [
    {
     "data": {
      "text/plain": [
       "shop_name  toitukozasbt\n",
       "京都         101               2616\n",
       "           111              38344\n",
       "           115                485\n",
       "           116             138770\n",
       "           117             198088\n",
       "Name: kojin_id, dtype: int64"
      ]
     },
     "execution_count": 22,
     "metadata": {},
     "output_type": "execute_result"
    }
   ],
   "source": [
    "df_uu = df_all.groupby(['shop_name','toitukozasbt'])['kojin_id'].nunique()\n",
    "df_uu.head()"
   ]
  },
  {
   "cell_type": "code",
   "execution_count": 23,
   "metadata": {
    "scrolled": false
   },
   "outputs": [
    {
     "data": {
      "text/plain": [
       "shop_name  toitukozasbt\n",
       "京都         101              1069448355\n",
       "           111              1856143110\n",
       "           115                73781651\n",
       "           116              5059372299\n",
       "           117             18753552826\n",
       "Name: Sum(det_uri_kin) (用), dtype: int64"
      ]
     },
     "execution_count": 23,
     "metadata": {},
     "output_type": "execute_result"
    }
   ],
   "source": [
    "df_sum =df_all.groupby(['shop_name','toitukozasbt'])['Sum(det_uri_kin) (用)'].sum()\n",
    "df_sum.head()"
   ]
  },
  {
   "cell_type": "code",
   "execution_count": 24,
   "metadata": {},
   "outputs": [],
   "source": [
    "df_merge = pd.merge(df_count,df_uu,on = ['shop_name','toitukozasbt'], how = 'left')\n",
    "df_merge = pd.merge(df_merge,df_sum, on = ['shop_name','toitukozasbt'], how = 'left')"
   ]
  },
  {
   "cell_type": "code",
   "execution_count": 25,
   "metadata": {},
   "outputs": [
    {
     "data": {
      "text/html": [
       "<div>\n",
       "<style scoped>\n",
       "    .dataframe tbody tr th:only-of-type {\n",
       "        vertical-align: middle;\n",
       "    }\n",
       "\n",
       "    .dataframe tbody tr th {\n",
       "        vertical-align: top;\n",
       "    }\n",
       "\n",
       "    .dataframe thead th {\n",
       "        text-align: right;\n",
       "    }\n",
       "</style>\n",
       "<table border=\"1\" class=\"dataframe\">\n",
       "  <thead>\n",
       "    <tr style=\"text-align: right;\">\n",
       "      <th></th>\n",
       "      <th></th>\n",
       "      <th>kojin_id_x</th>\n",
       "      <th>kojin_id_y</th>\n",
       "      <th>Sum(det_uri_kin) (用)</th>\n",
       "    </tr>\n",
       "    <tr>\n",
       "      <th>shop_name</th>\n",
       "      <th>toitukozasbt</th>\n",
       "      <th></th>\n",
       "      <th></th>\n",
       "      <th></th>\n",
       "    </tr>\n",
       "  </thead>\n",
       "  <tbody>\n",
       "    <tr>\n",
       "      <th rowspan=\"5\" valign=\"top\">京都</th>\n",
       "      <th>101</th>\n",
       "      <td>78168</td>\n",
       "      <td>2616</td>\n",
       "      <td>1069448355</td>\n",
       "    </tr>\n",
       "    <tr>\n",
       "      <th>111</th>\n",
       "      <td>637737</td>\n",
       "      <td>38344</td>\n",
       "      <td>1856143110</td>\n",
       "    </tr>\n",
       "    <tr>\n",
       "      <th>115</th>\n",
       "      <td>562</td>\n",
       "      <td>485</td>\n",
       "      <td>73781651</td>\n",
       "    </tr>\n",
       "    <tr>\n",
       "      <th>116</th>\n",
       "      <td>1658394</td>\n",
       "      <td>138770</td>\n",
       "      <td>5059372299</td>\n",
       "    </tr>\n",
       "    <tr>\n",
       "      <th>117</th>\n",
       "      <td>4700001</td>\n",
       "      <td>198088</td>\n",
       "      <td>18753552826</td>\n",
       "    </tr>\n",
       "    <tr>\n",
       "      <th>...</th>\n",
       "      <th>...</th>\n",
       "      <td>...</td>\n",
       "      <td>...</td>\n",
       "      <td>...</td>\n",
       "    </tr>\n",
       "    <tr>\n",
       "      <th rowspan=\"5\" valign=\"top\">神戸</th>\n",
       "      <th>118</th>\n",
       "      <td>792651</td>\n",
       "      <td>29052</td>\n",
       "      <td>5844382659</td>\n",
       "    </tr>\n",
       "    <tr>\n",
       "      <th>119</th>\n",
       "      <td>17678</td>\n",
       "      <td>1837</td>\n",
       "      <td>95094001</td>\n",
       "    </tr>\n",
       "    <tr>\n",
       "      <th>120</th>\n",
       "      <td>1335397</td>\n",
       "      <td>48419</td>\n",
       "      <td>18924591419</td>\n",
       "    </tr>\n",
       "    <tr>\n",
       "      <th>1001</th>\n",
       "      <td>149</td>\n",
       "      <td>64</td>\n",
       "      <td>4958682</td>\n",
       "    </tr>\n",
       "    <tr>\n",
       "      <th>1011</th>\n",
       "      <td>1974</td>\n",
       "      <td>562</td>\n",
       "      <td>8675803</td>\n",
       "    </tr>\n",
       "  </tbody>\n",
       "</table>\n",
       "<p>74 rows × 3 columns</p>\n",
       "</div>"
      ],
      "text/plain": [
       "                        kojin_id_x  kojin_id_y  Sum(det_uri_kin) (用)\n",
       "shop_name toitukozasbt                                              \n",
       "京都        101                78168        2616            1069448355\n",
       "          111               637737       38344            1856143110\n",
       "          115                  562         485              73781651\n",
       "          116              1658394      138770            5059372299\n",
       "          117              4700001      198088           18753552826\n",
       "...                            ...         ...                   ...\n",
       "神戸        118               792651       29052            5844382659\n",
       "          119                17678        1837              95094001\n",
       "          120              1335397       48419           18924591419\n",
       "          1001                 149          64               4958682\n",
       "          1011                1974         562               8675803\n",
       "\n",
       "[74 rows x 3 columns]"
      ]
     },
     "execution_count": 25,
     "metadata": {},
     "output_type": "execute_result"
    }
   ],
   "source": [
    "df_merge"
   ]
  },
  {
   "cell_type": "code",
   "execution_count": 26,
   "metadata": {},
   "outputs": [],
   "source": [
    "#CSV出力\n",
    "df_merge.to_csv(data_dir /r\"Output\"/'spotfile_店別カード別集計.csv', header=True ,encoding='shift=jis')"
   ]
  },
  {
   "cell_type": "code",
   "execution_count": null,
   "metadata": {},
   "outputs": [],
   "source": []
  },
  {
   "cell_type": "code",
   "execution_count": null,
   "metadata": {},
   "outputs": [],
   "source": [
    "#店別、支払い手段別　件数、UU、金額"
   ]
  },
  {
   "cell_type": "code",
   "execution_count": 27,
   "metadata": {
    "scrolled": true
   },
   "outputs": [
    {
     "data": {
      "text/plain": [
       "shop_name  pay_shu\n",
       "京都         0          1952960\n",
       "           1          3374925\n",
       "           2            11003\n",
       "           4             1547\n",
       "           5             8000\n",
       "Name: kojin_id, dtype: int64"
      ]
     },
     "execution_count": 27,
     "metadata": {},
     "output_type": "execute_result"
    }
   ],
   "source": [
    "df_count = df_all.groupby(['shop_name','pay_shu'])['kojin_id'].count()\n",
    "df_count.head()"
   ]
  },
  {
   "cell_type": "code",
   "execution_count": 28,
   "metadata": {
    "scrolled": true
   },
   "outputs": [
    {
     "data": {
      "text/plain": [
       "shop_name  pay_shu\n",
       "京都         0          156131\n",
       "           1          240343\n",
       "           2            5175\n",
       "           4             508\n",
       "           5            3559\n",
       "Name: kojin_id, dtype: int64"
      ]
     },
     "execution_count": 28,
     "metadata": {},
     "output_type": "execute_result"
    }
   ],
   "source": [
    "df_uu = df_all.groupby(['shop_name','pay_shu'])['kojin_id'].nunique()\n",
    "df_uu.head()"
   ]
  },
  {
   "cell_type": "code",
   "execution_count": 29,
   "metadata": {
    "scrolled": false
   },
   "outputs": [
    {
     "data": {
      "text/plain": [
       "shop_name  pay_shu\n",
       "京都         0           4634443324\n",
       "           1          26771707049\n",
       "           2            906192430\n",
       "           4             42939067\n",
       "           5            404767173\n",
       "Name: Sum(det_uri_kin) (用), dtype: int64"
      ]
     },
     "execution_count": 29,
     "metadata": {},
     "output_type": "execute_result"
    }
   ],
   "source": [
    "df_sum =df_all.groupby(['shop_name','pay_shu'])['Sum(det_uri_kin) (用)'].sum()\n",
    "df_sum.head()"
   ]
  },
  {
   "cell_type": "code",
   "execution_count": 30,
   "metadata": {},
   "outputs": [],
   "source": [
    "df_merge = pd.merge(df_count,df_uu,on = ['shop_name','pay_shu'], how = 'left')\n",
    "df_merge = pd.merge(df_merge,df_sum, on = ['shop_name','pay_shu'], how = 'left')"
   ]
  },
  {
   "cell_type": "code",
   "execution_count": 29,
   "metadata": {},
   "outputs": [
    {
     "data": {
      "text/html": [
       "<div>\n",
       "<style scoped>\n",
       "    .dataframe tbody tr th:only-of-type {\n",
       "        vertical-align: middle;\n",
       "    }\n",
       "\n",
       "    .dataframe tbody tr th {\n",
       "        vertical-align: top;\n",
       "    }\n",
       "\n",
       "    .dataframe thead th {\n",
       "        text-align: right;\n",
       "    }\n",
       "</style>\n",
       "<table border=\"1\" class=\"dataframe\">\n",
       "  <thead>\n",
       "    <tr style=\"text-align: right;\">\n",
       "      <th></th>\n",
       "      <th></th>\n",
       "      <th>kojin_id_x</th>\n",
       "      <th>kojin_id_y</th>\n",
       "      <th>Sum(det_uri_kin) (用)</th>\n",
       "    </tr>\n",
       "    <tr>\n",
       "      <th>shop_name</th>\n",
       "      <th>pay_shu</th>\n",
       "      <th></th>\n",
       "      <th></th>\n",
       "      <th></th>\n",
       "    </tr>\n",
       "  </thead>\n",
       "  <tbody>\n",
       "    <tr>\n",
       "      <th rowspan=\"7\" valign=\"top\">京都</th>\n",
       "      <th>0</th>\n",
       "      <td>1952960</td>\n",
       "      <td>156131</td>\n",
       "      <td>4634443324</td>\n",
       "    </tr>\n",
       "    <tr>\n",
       "      <th>1</th>\n",
       "      <td>3374925</td>\n",
       "      <td>240343</td>\n",
       "      <td>26771707049</td>\n",
       "    </tr>\n",
       "    <tr>\n",
       "      <th>2</th>\n",
       "      <td>11003</td>\n",
       "      <td>5175</td>\n",
       "      <td>906192430</td>\n",
       "    </tr>\n",
       "    <tr>\n",
       "      <th>4</th>\n",
       "      <td>1547</td>\n",
       "      <td>508</td>\n",
       "      <td>42939067</td>\n",
       "    </tr>\n",
       "    <tr>\n",
       "      <th>5</th>\n",
       "      <td>8000</td>\n",
       "      <td>3559</td>\n",
       "      <td>404767173</td>\n",
       "    </tr>\n",
       "    <tr>\n",
       "      <th>7</th>\n",
       "      <td>40631</td>\n",
       "      <td>14128</td>\n",
       "      <td>1414869616</td>\n",
       "    </tr>\n",
       "    <tr>\n",
       "      <th>9</th>\n",
       "      <td>3963991</td>\n",
       "      <td>204998</td>\n",
       "      <td>10513175393</td>\n",
       "    </tr>\n",
       "    <tr>\n",
       "      <th rowspan=\"8\" valign=\"top\">心斎橋</th>\n",
       "      <th>0</th>\n",
       "      <td>583424</td>\n",
       "      <td>104635</td>\n",
       "      <td>3061434483</td>\n",
       "    </tr>\n",
       "    <tr>\n",
       "      <th>1</th>\n",
       "      <td>1198120</td>\n",
       "      <td>183969</td>\n",
       "      <td>24856124565</td>\n",
       "    </tr>\n",
       "    <tr>\n",
       "      <th>2</th>\n",
       "      <td>4080</td>\n",
       "      <td>2465</td>\n",
       "      <td>526160703</td>\n",
       "    </tr>\n",
       "    <tr>\n",
       "      <th>4</th>\n",
       "      <td>543</td>\n",
       "      <td>242</td>\n",
       "      <td>27431519</td>\n",
       "    </tr>\n",
       "    <tr>\n",
       "      <th>5</th>\n",
       "      <td>4812</td>\n",
       "      <td>2475</td>\n",
       "      <td>362654217</td>\n",
       "    </tr>\n",
       "    <tr>\n",
       "      <th>7</th>\n",
       "      <td>20772</td>\n",
       "      <td>9178</td>\n",
       "      <td>1130160967</td>\n",
       "    </tr>\n",
       "    <tr>\n",
       "      <th>8</th>\n",
       "      <td>1</td>\n",
       "      <td>1</td>\n",
       "      <td>-30800</td>\n",
       "    </tr>\n",
       "    <tr>\n",
       "      <th>9</th>\n",
       "      <td>940005</td>\n",
       "      <td>117316</td>\n",
       "      <td>5915370511</td>\n",
       "    </tr>\n",
       "    <tr>\n",
       "      <th rowspan=\"7\" valign=\"top\">東京</th>\n",
       "      <th>0</th>\n",
       "      <td>2200543</td>\n",
       "      <td>278341</td>\n",
       "      <td>5325119427</td>\n",
       "    </tr>\n",
       "    <tr>\n",
       "      <th>1</th>\n",
       "      <td>2511451</td>\n",
       "      <td>364492</td>\n",
       "      <td>23080527401</td>\n",
       "    </tr>\n",
       "    <tr>\n",
       "      <th>2</th>\n",
       "      <td>5181</td>\n",
       "      <td>2920</td>\n",
       "      <td>407034082</td>\n",
       "    </tr>\n",
       "    <tr>\n",
       "      <th>4</th>\n",
       "      <td>892</td>\n",
       "      <td>456</td>\n",
       "      <td>34301654</td>\n",
       "    </tr>\n",
       "    <tr>\n",
       "      <th>5</th>\n",
       "      <td>6937</td>\n",
       "      <td>3580</td>\n",
       "      <td>364904151</td>\n",
       "    </tr>\n",
       "    <tr>\n",
       "      <th>7</th>\n",
       "      <td>34470</td>\n",
       "      <td>13795</td>\n",
       "      <td>1259236024</td>\n",
       "    </tr>\n",
       "    <tr>\n",
       "      <th>9</th>\n",
       "      <td>1203816</td>\n",
       "      <td>154198</td>\n",
       "      <td>4360161572</td>\n",
       "    </tr>\n",
       "    <tr>\n",
       "      <th rowspan=\"9\" valign=\"top\">神戸</th>\n",
       "      <th>0</th>\n",
       "      <td>1266347</td>\n",
       "      <td>151902</td>\n",
       "      <td>4499971205</td>\n",
       "    </tr>\n",
       "    <tr>\n",
       "      <th>1</th>\n",
       "      <td>2782157</td>\n",
       "      <td>282580</td>\n",
       "      <td>36067977671</td>\n",
       "    </tr>\n",
       "    <tr>\n",
       "      <th>2</th>\n",
       "      <td>11588</td>\n",
       "      <td>6207</td>\n",
       "      <td>1058313555</td>\n",
       "    </tr>\n",
       "    <tr>\n",
       "      <th>3</th>\n",
       "      <td>1</td>\n",
       "      <td>1</td>\n",
       "      <td>755000</td>\n",
       "    </tr>\n",
       "    <tr>\n",
       "      <th>4</th>\n",
       "      <td>1387</td>\n",
       "      <td>558</td>\n",
       "      <td>47637627</td>\n",
       "    </tr>\n",
       "    <tr>\n",
       "      <th>5</th>\n",
       "      <td>13208</td>\n",
       "      <td>6073</td>\n",
       "      <td>734362104</td>\n",
       "    </tr>\n",
       "    <tr>\n",
       "      <th>7</th>\n",
       "      <td>61113</td>\n",
       "      <td>21380</td>\n",
       "      <td>2410994626</td>\n",
       "    </tr>\n",
       "    <tr>\n",
       "      <th>8</th>\n",
       "      <td>1</td>\n",
       "      <td>1</td>\n",
       "      <td>-125000</td>\n",
       "    </tr>\n",
       "    <tr>\n",
       "      <th>9</th>\n",
       "      <td>3201526</td>\n",
       "      <td>223770</td>\n",
       "      <td>11849929355</td>\n",
       "    </tr>\n",
       "  </tbody>\n",
       "</table>\n",
       "</div>"
      ],
      "text/plain": [
       "                   kojin_id_x  kojin_id_y  Sum(det_uri_kin) (用)\n",
       "shop_name pay_shu                                              \n",
       "京都        0           1952960      156131            4634443324\n",
       "          1           3374925      240343           26771707049\n",
       "          2             11003        5175             906192430\n",
       "          4              1547         508              42939067\n",
       "          5              8000        3559             404767173\n",
       "          7             40631       14128            1414869616\n",
       "          9           3963991      204998           10513175393\n",
       "心斎橋       0            583424      104635            3061434483\n",
       "          1           1198120      183969           24856124565\n",
       "          2              4080        2465             526160703\n",
       "          4               543         242              27431519\n",
       "          5              4812        2475             362654217\n",
       "          7             20772        9178            1130160967\n",
       "          8                 1           1                -30800\n",
       "          9            940005      117316            5915370511\n",
       "東京        0           2200543      278341            5325119427\n",
       "          1           2511451      364492           23080527401\n",
       "          2              5181        2920             407034082\n",
       "          4               892         456              34301654\n",
       "          5              6937        3580             364904151\n",
       "          7             34470       13795            1259236024\n",
       "          9           1203816      154198            4360161572\n",
       "神戸        0           1266347      151902            4499971205\n",
       "          1           2782157      282580           36067977671\n",
       "          2             11588        6207            1058313555\n",
       "          3                 1           1                755000\n",
       "          4              1387         558              47637627\n",
       "          5             13208        6073             734362104\n",
       "          7             61113       21380            2410994626\n",
       "          8                 1           1               -125000\n",
       "          9           3201526      223770           11849929355"
      ]
     },
     "execution_count": 29,
     "metadata": {},
     "output_type": "execute_result"
    }
   ],
   "source": [
    "df_merge"
   ]
  },
  {
   "cell_type": "code",
   "execution_count": 31,
   "metadata": {},
   "outputs": [],
   "source": [
    "#CSV出力\n",
    "df_merge.to_csv(data_dir /r\"Output\"/'spotfile_店別支払い手段別集計.csv', header=True ,encoding='shift=jis')"
   ]
  },
  {
   "cell_type": "code",
   "execution_count": null,
   "metadata": {},
   "outputs": [],
   "source": []
  },
  {
   "cell_type": "code",
   "execution_count": 32,
   "metadata": {},
   "outputs": [],
   "source": [
    "df_all = df_all.rename(columns={'Sum(det_uri_kin) (用)':'uri_kin','購買月':'tr_yymm'})"
   ]
  },
  {
   "cell_type": "code",
   "execution_count": 38,
   "metadata": {
    "scrolled": true
   },
   "outputs": [
    {
     "data": {
      "text/html": [
       "<div>\n",
       "<style scoped>\n",
       "    .dataframe tbody tr th:only-of-type {\n",
       "        vertical-align: middle;\n",
       "    }\n",
       "\n",
       "    .dataframe tbody tr th {\n",
       "        vertical-align: top;\n",
       "    }\n",
       "\n",
       "    .dataframe thead th {\n",
       "        text-align: right;\n",
       "    }\n",
       "</style>\n",
       "<table border=\"1\" class=\"dataframe\">\n",
       "  <thead>\n",
       "    <tr style=\"text-align: right;\">\n",
       "      <th></th>\n",
       "      <th>kojin_id</th>\n",
       "      <th>tr_ymd</th>\n",
       "      <th>pos_no</th>\n",
       "      <th>tr_no</th>\n",
       "      <th>pay_shu</th>\n",
       "      <th>toitukozasbt</th>\n",
       "      <th>hinban_cd</th>\n",
       "      <th>hnban_mei</th>\n",
       "      <th>uri_kin</th>\n",
       "      <th>tr_yymm</th>\n",
       "      <th>shop_name</th>\n",
       "    </tr>\n",
       "  </thead>\n",
       "  <tbody>\n",
       "    <tr>\n",
       "      <th>0</th>\n",
       "      <td>37</td>\n",
       "      <td>20191101</td>\n",
       "      <td>4025</td>\n",
       "      <td>5617</td>\n",
       "      <td>0</td>\n",
       "      <td>116</td>\n",
       "      <td>831</td>\n",
       "      <td>ベーカリー</td>\n",
       "      <td>1080</td>\n",
       "      <td>1911</td>\n",
       "      <td>京都</td>\n",
       "    </tr>\n",
       "    <tr>\n",
       "      <th>1</th>\n",
       "      <td>81</td>\n",
       "      <td>20190430</td>\n",
       "      <td>3014</td>\n",
       "      <td>534</td>\n",
       "      <td>9</td>\n",
       "      <td>117</td>\n",
       "      <td>830</td>\n",
       "      <td>惣菜</td>\n",
       "      <td>1830</td>\n",
       "      <td>1904</td>\n",
       "      <td>京都</td>\n",
       "    </tr>\n",
       "    <tr>\n",
       "      <th>2</th>\n",
       "      <td>172</td>\n",
       "      <td>20190315</td>\n",
       "      <td>4023</td>\n",
       "      <td>555</td>\n",
       "      <td>9</td>\n",
       "      <td>120</td>\n",
       "      <td>831</td>\n",
       "      <td>ベーカリー</td>\n",
       "      <td>280</td>\n",
       "      <td>1903</td>\n",
       "      <td>京都</td>\n",
       "    </tr>\n",
       "    <tr>\n",
       "      <th>3</th>\n",
       "      <td>172</td>\n",
       "      <td>20190315</td>\n",
       "      <td>4164</td>\n",
       "      <td>2274</td>\n",
       "      <td>9</td>\n",
       "      <td>120</td>\n",
       "      <td>821</td>\n",
       "      <td>精肉・ハム</td>\n",
       "      <td>2400</td>\n",
       "      <td>1903</td>\n",
       "      <td>京都</td>\n",
       "    </tr>\n",
       "    <tr>\n",
       "      <th>4</th>\n",
       "      <td>172</td>\n",
       "      <td>20190315</td>\n",
       "      <td>6110</td>\n",
       "      <td>1039</td>\n",
       "      <td>9</td>\n",
       "      <td>120</td>\n",
       "      <td>821</td>\n",
       "      <td>精肉・ハム</td>\n",
       "      <td>471</td>\n",
       "      <td>1903</td>\n",
       "      <td>京都</td>\n",
       "    </tr>\n",
       "  </tbody>\n",
       "</table>\n",
       "</div>"
      ],
      "text/plain": [
       "   kojin_id    tr_ymd  pos_no  tr_no  pay_shu  toitukozasbt  hinban_cd  \\\n",
       "0        37  20191101    4025   5617        0           116        831   \n",
       "1        81  20190430    3014    534        9           117        830   \n",
       "2       172  20190315    4023    555        9           120        831   \n",
       "3       172  20190315    4164   2274        9           120        821   \n",
       "4       172  20190315    6110   1039        9           120        821   \n",
       "\n",
       "  hnban_mei  uri_kin  tr_yymm shop_name  \n",
       "0     ベーカリー     1080     1911        京都  \n",
       "1        惣菜     1830     1904        京都  \n",
       "2     ベーカリー      280     1903        京都  \n",
       "3     精肉・ハム     2400     1903        京都  \n",
       "4     精肉・ハム      471     1903        京都  "
      ]
     },
     "execution_count": 38,
     "metadata": {},
     "output_type": "execute_result"
    }
   ],
   "source": [
    "df_all.head()"
   ]
  },
  {
   "cell_type": "code",
   "execution_count": 39,
   "metadata": {},
   "outputs": [
    {
     "data": {
      "text/plain": [
       "25405432"
      ]
     },
     "execution_count": 39,
     "metadata": {},
     "output_type": "execute_result"
    }
   ],
   "source": [
    "df_all.shape[0]"
   ]
  },
  {
   "cell_type": "code",
   "execution_count": 10,
   "metadata": {},
   "outputs": [
    {
     "data": {
      "text/html": [
       "<div>\n",
       "<style scoped>\n",
       "    .dataframe tbody tr th:only-of-type {\n",
       "        vertical-align: middle;\n",
       "    }\n",
       "\n",
       "    .dataframe tbody tr th {\n",
       "        vertical-align: top;\n",
       "    }\n",
       "\n",
       "    .dataframe thead th {\n",
       "        text-align: right;\n",
       "    }\n",
       "</style>\n",
       "<table border=\"1\" class=\"dataframe\">\n",
       "  <thead>\n",
       "    <tr style=\"text-align: right;\">\n",
       "      <th></th>\n",
       "      <th>shop_name</th>\n",
       "      <th>tr_yymm</th>\n",
       "      <th>toitukozasbt</th>\n",
       "      <th>pay_shu</th>\n",
       "      <th>hinban_cd</th>\n",
       "      <th>hnban_mei</th>\n",
       "      <th>no_of_tran</th>\n",
       "      <th>uu</th>\n",
       "      <th>sum_uri_kin</th>\n",
       "    </tr>\n",
       "  </thead>\n",
       "  <tbody>\n",
       "    <tr>\n",
       "      <th>0</th>\n",
       "      <td>心斎橋</td>\n",
       "      <td>1903</td>\n",
       "      <td>101</td>\n",
       "      <td>1</td>\n",
       "      <td>250</td>\n",
       "      <td>結納用品</td>\n",
       "      <td>6</td>\n",
       "      <td>6</td>\n",
       "      <td>563500</td>\n",
       "    </tr>\n",
       "    <tr>\n",
       "      <th>1</th>\n",
       "      <td>心斎橋</td>\n",
       "      <td>1903</td>\n",
       "      <td>101</td>\n",
       "      <td>1</td>\n",
       "      <td>260</td>\n",
       "      <td>フリーチョイス</td>\n",
       "      <td>3</td>\n",
       "      <td>3</td>\n",
       "      <td>57200</td>\n",
       "    </tr>\n",
       "    <tr>\n",
       "      <th>2</th>\n",
       "      <td>心斎橋</td>\n",
       "      <td>1903</td>\n",
       "      <td>101</td>\n",
       "      <td>1</td>\n",
       "      <td>262</td>\n",
       "      <td>クリーニング</td>\n",
       "      <td>11</td>\n",
       "      <td>2</td>\n",
       "      <td>125381</td>\n",
       "    </tr>\n",
       "    <tr>\n",
       "      <th>3</th>\n",
       "      <td>心斎橋</td>\n",
       "      <td>1903</td>\n",
       "      <td>101</td>\n",
       "      <td>1</td>\n",
       "      <td>268</td>\n",
       "      <td>挨拶状</td>\n",
       "      <td>1</td>\n",
       "      <td>1</td>\n",
       "      <td>8500</td>\n",
       "    </tr>\n",
       "    <tr>\n",
       "      <th>4</th>\n",
       "      <td>心斎橋</td>\n",
       "      <td>1903</td>\n",
       "      <td>101</td>\n",
       "      <td>1</td>\n",
       "      <td>300</td>\n",
       "      <td>インターナショナルブティック</td>\n",
       "      <td>78</td>\n",
       "      <td>46</td>\n",
       "      <td>20095067</td>\n",
       "    </tr>\n",
       "    <tr>\n",
       "      <th>...</th>\n",
       "      <td>...</td>\n",
       "      <td>...</td>\n",
       "      <td>...</td>\n",
       "      <td>...</td>\n",
       "      <td>...</td>\n",
       "      <td>...</td>\n",
       "      <td>...</td>\n",
       "      <td>...</td>\n",
       "      <td>...</td>\n",
       "    </tr>\n",
       "    <tr>\n",
       "      <th>25019</th>\n",
       "      <td>東京</td>\n",
       "      <td>2002</td>\n",
       "      <td>1011</td>\n",
       "      <td>0</td>\n",
       "      <td>840</td>\n",
       "      <td>レストラン</td>\n",
       "      <td>64</td>\n",
       "      <td>56</td>\n",
       "      <td>341098</td>\n",
       "    </tr>\n",
       "    <tr>\n",
       "      <th>25020</th>\n",
       "      <td>東京</td>\n",
       "      <td>2002</td>\n",
       "      <td>1011</td>\n",
       "      <td>0</td>\n",
       "      <td>841</td>\n",
       "      <td>各階喫茶・軽食</td>\n",
       "      <td>45</td>\n",
       "      <td>41</td>\n",
       "      <td>86249</td>\n",
       "    </tr>\n",
       "    <tr>\n",
       "      <th>25021</th>\n",
       "      <td>東京</td>\n",
       "      <td>2002</td>\n",
       "      <td>1011</td>\n",
       "      <td>0</td>\n",
       "      <td>872</td>\n",
       "      <td>時計</td>\n",
       "      <td>3</td>\n",
       "      <td>3</td>\n",
       "      <td>42000</td>\n",
       "    </tr>\n",
       "    <tr>\n",
       "      <th>25022</th>\n",
       "      <td>東京</td>\n",
       "      <td>2002</td>\n",
       "      <td>1011</td>\n",
       "      <td>1</td>\n",
       "      <td>406</td>\n",
       "      <td>ハンドバッグ</td>\n",
       "      <td>1</td>\n",
       "      <td>1</td>\n",
       "      <td>35000</td>\n",
       "    </tr>\n",
       "    <tr>\n",
       "      <th>25023</th>\n",
       "      <td>東京</td>\n",
       "      <td>2002</td>\n",
       "      <td>1011</td>\n",
       "      <td>1</td>\n",
       "      <td>521</td>\n",
       "      <td>ゴルフウェア</td>\n",
       "      <td>1</td>\n",
       "      <td>1</td>\n",
       "      <td>17500</td>\n",
       "    </tr>\n",
       "  </tbody>\n",
       "</table>\n",
       "<p>25024 rows × 9 columns</p>\n",
       "</div>"
      ],
      "text/plain": [
       "      shop_name  tr_yymm  toitukozasbt  pay_shu  hinban_cd       hnban_mei  \\\n",
       "0           心斎橋     1903           101        1        250            結納用品   \n",
       "1           心斎橋     1903           101        1        260         フリーチョイス   \n",
       "2           心斎橋     1903           101        1        262          クリーニング   \n",
       "3           心斎橋     1903           101        1        268             挨拶状   \n",
       "4           心斎橋     1903           101        1        300  インターナショナルブティック   \n",
       "...         ...      ...           ...      ...        ...             ...   \n",
       "25019        東京     2002          1011        0        840           レストラン   \n",
       "25020        東京     2002          1011        0        841         各階喫茶・軽食   \n",
       "25021        東京     2002          1011        0        872              時計   \n",
       "25022        東京     2002          1011        1        406          ハンドバッグ   \n",
       "25023        東京     2002          1011        1        521          ゴルフウェア   \n",
       "\n",
       "       no_of_tran  uu  sum_uri_kin  \n",
       "0               6   6       563500  \n",
       "1               3   3        57200  \n",
       "2              11   2       125381  \n",
       "3               1   1         8500  \n",
       "4              78  46     20095067  \n",
       "...           ...  ..          ...  \n",
       "25019          64  56       341098  \n",
       "25020          45  41        86249  \n",
       "25021           3   3        42000  \n",
       "25022           1   1        35000  \n",
       "25023           1   1        17500  \n",
       "\n",
       "[25024 rows x 9 columns]"
      ]
     },
     "execution_count": 10,
     "metadata": {},
     "output_type": "execute_result"
    }
   ],
   "source": [
    "%%time\n",
    "#集計\n",
    "q = \"\"\"\n",
    "        SELECT\n",
    "        shop_name\n",
    "        ,tr_yymm\n",
    "        ,toitukozasbt\n",
    "        ,pay_shu\n",
    "        ,hinban_cd\n",
    "        ,hnban_mei\n",
    "        ,count(kojin_id) as no_of_tran\n",
    "        ,count(distinct kojin_id) as uu\n",
    "        ,sum(uri_kin) as sum_uri_kin\n",
    "        from \n",
    "            df_all\n",
    "        group by \n",
    "            1,2,3,4,5,6\n",
    "        \"\"\"\n",
    "df_shukei = sqldf(q, locals())\n",
    "df_shukei"
   ]
  },
  {
   "cell_type": "code",
   "execution_count": 11,
   "metadata": {},
   "outputs": [],
   "source": [
    "#CSV出力\n",
    "df_shukei.to_csv(data_dir /r\"Output\"/'spotfile_集計.csv', header=True ,index=None, encoding='shift=jis')"
   ]
  },
  {
   "cell_type": "code",
   "execution_count": null,
   "metadata": {},
   "outputs": [],
   "source": []
  },
  {
   "cell_type": "code",
   "execution_count": null,
   "metadata": {},
   "outputs": [],
   "source": []
  },
  {
   "cell_type": "code",
   "execution_count": null,
   "metadata": {},
   "outputs": [],
   "source": [
    "%%time\n",
    "#集計\n",
    "q = \"\"\"\n",
    "        SELECT\n",
    "        shop_name\n",
    "        ,toitukozasbt\n",
    "        ,hnban_mei\n",
    "        ,count(kojin_id) as no_of_tran\n",
    "        ,count(distinct kojin_id) as uu\n",
    "        ,sum(uri_kin) as sum_uri_kin\n",
    "        from \n",
    "            df_all\n",
    "        group by \n",
    "            1,2,3\n",
    "        \"\"\"\n",
    "df_shukei2 = sqldf(q, locals())\n",
    "df_shukei2"
   ]
  },
  {
   "cell_type": "code",
   "execution_count": null,
   "metadata": {},
   "outputs": [],
   "source": [
    "#CSV出力\n",
    "df_shukei.to_csv(data_dir /r\"Output\"/'spotfile_集計2.csv', header=True ,index=None, encoding='shift=jis')"
   ]
  },
  {
   "cell_type": "code",
   "execution_count": null,
   "metadata": {},
   "outputs": [],
   "source": []
  },
  {
   "cell_type": "code",
   "execution_count": null,
   "metadata": {},
   "outputs": [],
   "source": []
  }
 ],
 "metadata": {
  "kernelspec": {
   "display_name": "Python 3",
   "language": "python",
   "name": "python3"
  },
  "language_info": {
   "codemirror_mode": {
    "name": "ipython",
    "version": 3
   },
   "file_extension": ".py",
   "mimetype": "text/x-python",
   "name": "python",
   "nbconvert_exporter": "python",
   "pygments_lexer": "ipython3",
   "version": "3.8.3"
  }
 },
 "nbformat": 4,
 "nbformat_minor": 2
}
